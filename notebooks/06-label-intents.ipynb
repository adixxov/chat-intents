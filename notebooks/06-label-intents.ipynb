{
 "cells": [
  {
   "cell_type": "code",
   "execution_count": null,
   "id": "618f935e-6b45-48e7-9ad9-1751b5db2f53",
   "metadata": {},
   "outputs": [],
   "source": []
  },
  {
   "cell_type": "code",
   "execution_count": null,
   "id": "7cfdc222-9d26-454e-bcfa-6e0583358908",
   "metadata": {},
   "outputs": [],
   "source": []
  },
  {
   "cell_type": "code",
   "execution_count": null,
   "id": "690da230-d2ff-45cc-ba31-62c85941dcc9",
   "metadata": {},
   "outputs": [],
   "source": [
    "all_messages_per_topic = intents_df.groupby(['topic'], as_index=False).agg({'message': ' '.join})"
   ]
  },
  {
   "cell_type": "code",
   "execution_count": null,
   "id": "373e20c2-fc7c-49c9-b74f-a47c496edf97",
   "metadata": {},
   "outputs": [],
   "source": [
    "def c_tf_idf(documents, m, ngram_range=(1,1)):\n",
    "    count = CountVectorizer(ngram_range = ngram_range, stop_words = 'english').fit(documents)\n",
    "    t = count.transform(documents).toarray()\n",
    "    w = t.sum(axis=1)\n",
    "    tf = np.divide(t.T, w)\n",
    "    sum_t = t.sum(axis=0)\n",
    "    idf = np.log(np.divide(m, sum_t)).reshape(-1, 1)\n",
    "    tf_idf = np.multiply(tf, idf)\n",
    "    \n",
    "    return tf_idf, count\n",
    "\n",
    "def extract_top_n_words_per_topic(tf_idf, count, docs_per_topic, n=10):\n",
    "    words = count.get_feature_names()\n",
    "    labels = list(docs_per_topic.topic)\n",
    "    tf_idf_transposed = tf_idf.T\n",
    "    indices = tf_idf_transposed.argsort()[:, -n:]\n",
    "    top_n_words = {label: [(words[j], tf_idf_transposed[i][j]) for j in indices[i]][::-1] for i, label in enumerate(labels)}\n",
    "    top_n_words_only = {label: [words[j] for j in indices[i]][::-1] for i, label in enumerate(labels)}\n",
    "    \n",
    "    return top_n_words, top_n_words_only\n",
    "\n",
    "def extract_topic_sizes(df):\n",
    "    topic_sizes = (df.groupby(['topic']).message.count()\n",
    "                   .reset_index()\n",
    "                   .rename({'message':'size'}, axis='columns')\n",
    "                   .sort_values('size', ascending=False))\n",
    "    return topic_sizes"
   ]
  },
  {
   "cell_type": "code",
   "execution_count": null,
   "id": "8650a700-4ce8-4ea1-a61c-b25a6a95b0a0",
   "metadata": {},
   "outputs": [],
   "source": [
    "tf_idf, count = c_tf_idf(all_messages_per_topic.message.values, m = len(data_sample))"
   ]
  },
  {
   "cell_type": "code",
   "execution_count": null,
   "id": "7fd0bf81-9df2-4270-ac14-6a8f9d89f091",
   "metadata": {},
   "outputs": [],
   "source": [
    "top_n_words, top_n_words_only = extract_top_n_words_per_topic(tf_idf, count, all_messages_per_topic, n=10)"
   ]
  },
  {
   "cell_type": "code",
   "execution_count": null,
   "id": "eea6f5a9-6783-49b0-b718-c435da6bf36d",
   "metadata": {},
   "outputs": [],
   "source": [
    "top_n_words[0]"
   ]
  },
  {
   "cell_type": "code",
   "execution_count": null,
   "id": "46745ab6-ade0-431c-b472-87c72f85e7c4",
   "metadata": {},
   "outputs": [],
   "source": [
    "top_n_words[-1]"
   ]
  },
  {
   "cell_type": "code",
   "execution_count": null,
   "id": "ea80ca96-55e4-48be-a143-3f42294fc122",
   "metadata": {},
   "outputs": [],
   "source": [
    "df_keywords = pd.DataFrame()\n",
    "df_keywords['topic'] = top_n_words_only.keys()\n",
    "df_keywords['keywords'] = top_n_words_only.values()"
   ]
  },
  {
   "cell_type": "code",
   "execution_count": null,
   "id": "21a124e1-704b-43db-8eb2-50c222965000",
   "metadata": {},
   "outputs": [],
   "source": [
    "extract_topic_sizes(intents_df).merge(df_keywords, how='left', on='topic')"
   ]
  },
  {
   "cell_type": "code",
   "execution_count": null,
   "id": "d6cc01dd-e082-4c44-80cb-28483123f7c4",
   "metadata": {},
   "outputs": [],
   "source": [
    "intents_df[intents_df['topic']==1]"
   ]
  },
  {
   "cell_type": "code",
   "execution_count": null,
   "id": "4973a3ea-7c39-4035-a848-c7c7775a5e89",
   "metadata": {},
   "outputs": [],
   "source": [
    "intents_df[intents_df['message'].str.contains('card')]"
   ]
  },
  {
   "cell_type": "code",
   "execution_count": null,
   "id": "7e805945-71b1-441c-90ae-7d81022df54a",
   "metadata": {},
   "outputs": [],
   "source": [
    "umap_data = umap.UMAP(n_neighbors=15, \n",
    "                      n_components=2, \n",
    "                      min_dist = 0.0, \n",
    "                      metric='cosine').fit_transform(use_embeddings)\n",
    "\n",
    "result = pd.DataFrame(umap_data, columns=['x', 'y'])\n",
    "result['labels'] = clusters.labels_\n",
    "\n",
    "#visualizing clusters\n",
    "fig, ax = plt.subplots(figsize=(20, 10))\n",
    "outliers = result.loc[result.labels == -1, :]\n",
    "clustered = result.loc[result.labels != -1, :]\n",
    "plt.scatter(outliers.x, outliers.y, color = '#BDBDBD', s=0.8)\n",
    "plt.scatter(clustered.x, clustered.y, c=clustered.labels, s=0.8, cmap='hsv_r')\n",
    "plt.colorbar()"
   ]
  }
 ],
 "metadata": {
  "kernelspec": {
   "display_name": "Python 3",
   "language": "python",
   "name": "python3"
  },
  "language_info": {
   "codemirror_mode": {
    "name": "ipython",
    "version": 3
   },
   "file_extension": ".py",
   "mimetype": "text/x-python",
   "name": "python",
   "nbconvert_exporter": "python",
   "pygments_lexer": "ipython3",
   "version": "3.9.6"
  }
 },
 "nbformat": 4,
 "nbformat_minor": 5
}
