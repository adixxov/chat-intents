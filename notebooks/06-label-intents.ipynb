{
 "cells": [
  {
   "cell_type": "markdown",
   "id": "08f0e0e3-673a-4519-82b0-464390a854ce",
   "metadata": {},
   "source": [
    "# Chat Intents\n",
    "\n",
    "## Applying labels"
   ]
  },
  {
   "cell_type": "code",
   "execution_count": 41,
   "id": "618f935e-6b45-48e7-9ad9-1751b5db2f53",
   "metadata": {},
   "outputs": [],
   "source": [
    "import numpy as np\n",
    "import pandas as pd\n",
    "\n",
    "pd.set_option(\"display.max_rows\", 600)\n",
    "pd.set_option(\"display.max_columns\", 500)\n",
    "pd.set_option(\"max_colwidth\", 400)\n",
    "\n",
    "import collections\n",
    "\n",
    "import spacy"
   ]
  },
  {
   "cell_type": "code",
   "execution_count": 3,
   "id": "60539182-fdae-4ce4-9526-4db8254a81d0",
   "metadata": {},
   "outputs": [],
   "source": [
    "nlp = spacy.load(\"en_core_web_sm\")"
   ]
  },
  {
   "cell_type": "code",
   "execution_count": 56,
   "id": "c09ef225-35a4-45b8-b5e0-e7671a9c55ae",
   "metadata": {},
   "outputs": [
    {
     "data": {
      "text/html": [
       "<div>\n",
       "<style scoped>\n",
       "    .dataframe tbody tr th:only-of-type {\n",
       "        vertical-align: middle;\n",
       "    }\n",
       "\n",
       "    .dataframe tbody tr th {\n",
       "        vertical-align: top;\n",
       "    }\n",
       "\n",
       "    .dataframe thead th {\n",
       "        text-align: right;\n",
       "    }\n",
       "</style>\n",
       "<table border=\"1\" class=\"dataframe\">\n",
       "  <thead>\n",
       "    <tr style=\"text-align: right;\">\n",
       "      <th></th>\n",
       "      <th>Unnamed: 0</th>\n",
       "      <th>text</th>\n",
       "      <th>category</th>\n",
       "      <th>cleaned_text</th>\n",
       "    </tr>\n",
       "  </thead>\n",
       "  <tbody>\n",
       "    <tr>\n",
       "      <th>304</th>\n",
       "      <td>1778</td>\n",
       "      <td>Can you unblock my account?  I entered the PIN wrong.</td>\n",
       "      <td>pin_blocked</td>\n",
       "      <td>unblock account entered pin wrong</td>\n",
       "    </tr>\n",
       "    <tr>\n",
       "      <th>722</th>\n",
       "      <td>1217</td>\n",
       "      <td>What are the restrictions on auto top-up?</td>\n",
       "      <td>automatic_top_up</td>\n",
       "      <td>restriction auto topup</td>\n",
       "    </tr>\n",
       "    <tr>\n",
       "      <th>157</th>\n",
       "      <td>1777</td>\n",
       "      <td>I need a new PIN number.</td>\n",
       "      <td>pin_blocked</td>\n",
       "      <td>need new pin number</td>\n",
       "    </tr>\n",
       "    <tr>\n",
       "      <th>705</th>\n",
       "      <td>6454</td>\n",
       "      <td>Is there a reason to why I was charged twice for a transaction?</td>\n",
       "      <td>transaction_charged_twice</td>\n",
       "      <td>reason charged twice transaction</td>\n",
       "    </tr>\n",
       "    <tr>\n",
       "      <th>135</th>\n",
       "      <td>4402</td>\n",
       "      <td>How many disposable cards per person?</td>\n",
       "      <td>disposable_card_limits</td>\n",
       "      <td>many disposable card per person</td>\n",
       "    </tr>\n",
       "    <tr>\n",
       "      <th>70</th>\n",
       "      <td>9194</td>\n",
       "      <td>It won't let me activate my card.</td>\n",
       "      <td>activate_my_card</td>\n",
       "      <td>wont let activate card</td>\n",
       "    </tr>\n",
       "    <tr>\n",
       "      <th>38</th>\n",
       "      <td>4549</td>\n",
       "      <td>Which ATM's can I use to make a withdrawal?</td>\n",
       "      <td>atm_support</td>\n",
       "      <td>atm use make withdrawal</td>\n",
       "    </tr>\n",
       "    <tr>\n",
       "      <th>131</th>\n",
       "      <td>5891</td>\n",
       "      <td>My card payment didn't go through.</td>\n",
       "      <td>declined_card_payment</td>\n",
       "      <td>card payment didnt go</td>\n",
       "    </tr>\n",
       "    <tr>\n",
       "      <th>858</th>\n",
       "      <td>3223</td>\n",
       "      <td>I refilled my account balance but got an error message.</td>\n",
       "      <td>top_up_reverted</td>\n",
       "      <td>refilled account balance got error message</td>\n",
       "    </tr>\n",
       "    <tr>\n",
       "      <th>943</th>\n",
       "      <td>4663</td>\n",
       "      <td>What is this direct debit in my statement?</td>\n",
       "      <td>direct_debit_payment_not_recognised</td>\n",
       "      <td>direct debit statement</td>\n",
       "    </tr>\n",
       "  </tbody>\n",
       "</table>\n",
       "</div>"
      ],
      "text/plain": [
       "     Unnamed: 0  \\\n",
       "304        1778   \n",
       "722        1217   \n",
       "157        1777   \n",
       "705        6454   \n",
       "135        4402   \n",
       "70         9194   \n",
       "38         4549   \n",
       "131        5891   \n",
       "858        3223   \n",
       "943        4663   \n",
       "\n",
       "                                                                text  \\\n",
       "304            Can you unblock my account?  I entered the PIN wrong.   \n",
       "722                        What are the restrictions on auto top-up?   \n",
       "157                                         I need a new PIN number.   \n",
       "705  Is there a reason to why I was charged twice for a transaction?   \n",
       "135                            How many disposable cards per person?   \n",
       "70                                 It won't let me activate my card.   \n",
       "38                       Which ATM's can I use to make a withdrawal?   \n",
       "131                               My card payment didn't go through.   \n",
       "858          I refilled my account balance but got an error message.   \n",
       "943                       What is this direct debit in my statement?   \n",
       "\n",
       "                                category  \\\n",
       "304                          pin_blocked   \n",
       "722                     automatic_top_up   \n",
       "157                          pin_blocked   \n",
       "705            transaction_charged_twice   \n",
       "135               disposable_card_limits   \n",
       "70                      activate_my_card   \n",
       "38                           atm_support   \n",
       "131                declined_card_payment   \n",
       "858                      top_up_reverted   \n",
       "943  direct_debit_payment_not_recognised   \n",
       "\n",
       "                                   cleaned_text  \n",
       "304           unblock account entered pin wrong  \n",
       "722                      restriction auto topup  \n",
       "157                         need new pin number  \n",
       "705            reason charged twice transaction  \n",
       "135             many disposable card per person  \n",
       "70                       wont let activate card  \n",
       "38                      atm use make withdrawal  \n",
       "131                       card payment didnt go  \n",
       "858  refilled account balance got error message  \n",
       "943                      direct debit statement  "
      ]
     },
     "execution_count": 56,
     "metadata": {},
     "output_type": "execute_result"
    }
   ],
   "source": [
    "data_sample = pd.read_csv('../data/processed/data_sample.csv')\n",
    "data_sample.sample(10)"
   ]
  },
  {
   "cell_type": "code",
   "execution_count": 58,
   "id": "a31aba77-7a0d-4222-8ba8-1418dd3afcb4",
   "metadata": {},
   "outputs": [
    {
     "data": {
      "text/html": [
       "<div>\n",
       "<style scoped>\n",
       "    .dataframe tbody tr th:only-of-type {\n",
       "        vertical-align: middle;\n",
       "    }\n",
       "\n",
       "    .dataframe tbody tr th {\n",
       "        vertical-align: top;\n",
       "    }\n",
       "\n",
       "    .dataframe thead th {\n",
       "        text-align: right;\n",
       "    }\n",
       "</style>\n",
       "<table border=\"1\" class=\"dataframe\">\n",
       "  <thead>\n",
       "    <tr style=\"text-align: right;\">\n",
       "      <th></th>\n",
       "      <th>Unnamed: 0</th>\n",
       "      <th>text</th>\n",
       "      <th>category</th>\n",
       "      <th>cleaned_text</th>\n",
       "    </tr>\n",
       "  </thead>\n",
       "  <tbody>\n",
       "    <tr>\n",
       "      <th>0</th>\n",
       "      <td>4438</td>\n",
       "      <td>I have a disposable virtual card. Is there a limit to how many times I can use it?</td>\n",
       "      <td>disposable_card_limits</td>\n",
       "      <td>disposable virtual card limit many time use</td>\n",
       "    </tr>\n",
       "    <tr>\n",
       "      <th>1</th>\n",
       "      <td>4418</td>\n",
       "      <td>How many disposable cards can you own?</td>\n",
       "      <td>disposable_card_limits</td>\n",
       "      <td>many disposable card</td>\n",
       "    </tr>\n",
       "    <tr>\n",
       "      <th>2</th>\n",
       "      <td>4402</td>\n",
       "      <td>How many disposable cards per person?</td>\n",
       "      <td>disposable_card_limits</td>\n",
       "      <td>many disposable card per person</td>\n",
       "    </tr>\n",
       "    <tr>\n",
       "      <th>3</th>\n",
       "      <td>4349</td>\n",
       "      <td>What is the most amount of disposable cards allowable?</td>\n",
       "      <td>disposable_card_limits</td>\n",
       "      <td>amount disposable card allowable</td>\n",
       "    </tr>\n",
       "    <tr>\n",
       "      <th>4</th>\n",
       "      <td>4342</td>\n",
       "      <td>i tried using a virtual card for a hotel but it didn't work, why not</td>\n",
       "      <td>disposable_card_limits</td>\n",
       "      <td>tried using virtual card hotel didnt work</td>\n",
       "    </tr>\n",
       "    <tr>\n",
       "      <th>5</th>\n",
       "      <td>4424</td>\n",
       "      <td>What are the rules for using disposable virtual cards?</td>\n",
       "      <td>disposable_card_limits</td>\n",
       "      <td>rule using disposable virtual card</td>\n",
       "    </tr>\n",
       "    <tr>\n",
       "      <th>6</th>\n",
       "      <td>4448</td>\n",
       "      <td>What are my limits on disposable cards?</td>\n",
       "      <td>disposable_card_limits</td>\n",
       "      <td>limit disposable card</td>\n",
       "    </tr>\n",
       "    <tr>\n",
       "      <th>7</th>\n",
       "      <td>4374</td>\n",
       "      <td>I need several cards per day. And I need to be able to throw away all of the cards I make.</td>\n",
       "      <td>disposable_card_limits</td>\n",
       "      <td>need several card per day need able throw away card make</td>\n",
       "    </tr>\n",
       "    <tr>\n",
       "      <th>8</th>\n",
       "      <td>4409</td>\n",
       "      <td>Are there downsides to using a disposable virtual cards?</td>\n",
       "      <td>disposable_card_limits</td>\n",
       "      <td>downside using disposable virtual card</td>\n",
       "    </tr>\n",
       "  </tbody>\n",
       "</table>\n",
       "</div>"
      ],
      "text/plain": [
       "   Unnamed: 0  \\\n",
       "0        4438   \n",
       "1        4418   \n",
       "2        4402   \n",
       "3        4349   \n",
       "4        4342   \n",
       "5        4424   \n",
       "6        4448   \n",
       "7        4374   \n",
       "8        4409   \n",
       "\n",
       "                                                                                         text  \\\n",
       "0          I have a disposable virtual card. Is there a limit to how many times I can use it?   \n",
       "1                                                      How many disposable cards can you own?   \n",
       "2                                                       How many disposable cards per person?   \n",
       "3                                      What is the most amount of disposable cards allowable?   \n",
       "4                        i tried using a virtual card for a hotel but it didn't work, why not   \n",
       "5                                      What are the rules for using disposable virtual cards?   \n",
       "6                                                     What are my limits on disposable cards?   \n",
       "7  I need several cards per day. And I need to be able to throw away all of the cards I make.   \n",
       "8                                    Are there downsides to using a disposable virtual cards?   \n",
       "\n",
       "                 category  \\\n",
       "0  disposable_card_limits   \n",
       "1  disposable_card_limits   \n",
       "2  disposable_card_limits   \n",
       "3  disposable_card_limits   \n",
       "4  disposable_card_limits   \n",
       "5  disposable_card_limits   \n",
       "6  disposable_card_limits   \n",
       "7  disposable_card_limits   \n",
       "8  disposable_card_limits   \n",
       "\n",
       "                                               cleaned_text  \n",
       "0               disposable virtual card limit many time use  \n",
       "1                                      many disposable card  \n",
       "2                           many disposable card per person  \n",
       "3                          amount disposable card allowable  \n",
       "4                 tried using virtual card hotel didnt work  \n",
       "5                        rule using disposable virtual card  \n",
       "6                                     limit disposable card  \n",
       "7  need several card per day need able throw away card make  \n",
       "8                    downside using disposable virtual card  "
      ]
     },
     "execution_count": 58,
     "metadata": {},
     "output_type": "execute_result"
    }
   ],
   "source": [
    "#example_category = data_sample[data_sample['category']=='cash_withdrawal_charge'].reset_index(drop=True)\n",
    "example_category = data_sample[data_sample['category']=='disposable_card_limits'].reset_index(drop=True)\n",
    "example_category "
   ]
  },
  {
   "cell_type": "code",
   "execution_count": 69,
   "id": "92c65a3f-3d6b-4014-9af2-4f5ed0ca65e9",
   "metadata": {},
   "outputs": [
    {
     "name": "stdout",
     "output_type": "stream",
     "text": [
      "I PRON PRP nsubj True\n",
      "have VERB VBP ROOT True\n",
      "a DET DT det True\n",
      "disposable ADJ JJ amod False\n",
      "virtual ADJ JJ amod False\n",
      "card NOUN NN dobj False\n",
      ". PUNCT . punct False\n",
      "Is AUX VBZ ROOT True\n",
      "there PRON EX expl True\n",
      "a DET DT det True\n",
      "limit NOUN NN attr False\n",
      "to ADP IN prep True\n",
      "how ADV WRB advmod True\n",
      "many ADJ JJ amod True\n",
      "times NOUN NNS npadvmod False\n",
      "I PRON PRP nsubj True\n",
      "can AUX MD aux True\n",
      "use VERB VB pcomp False\n",
      "it PRON PRP dobj True\n",
      "? PUNCT . punct False\n"
     ]
    }
   ],
   "source": [
    "example_doc = nlp(example_category.loc[0,'text'])\n",
    "for token in example_doc:\n",
    "    print(token.text, token.pos_, token.tag_, token.dep_ , token.is_stop)"
   ]
  },
  {
   "cell_type": "code",
   "execution_count": 19,
   "id": "5490ec17-de06-4fd4-a313-545d727dab38",
   "metadata": {},
   "outputs": [
    {
     "data": {
      "text/plain": [
       "24"
      ]
     },
     "execution_count": 19,
     "metadata": {},
     "output_type": "execute_result"
    }
   ],
   "source": [
    "len(example_category)"
   ]
  },
  {
   "cell_type": "code",
   "execution_count": 54,
   "id": "73ae0ed7-fb8c-4e39-b9d6-43bf511044fc",
   "metadata": {},
   "outputs": [],
   "source": [
    "def most_common(lst):\n",
    "    counter=collections.Counter(lst)\n",
    "    return counter.most_common(3)"
   ]
  },
  {
   "cell_type": "code",
   "execution_count": 67,
   "id": "a81a99eb-b8ee-4223-b6fc-a46ae33ffeac",
   "metadata": {
    "tags": []
   },
   "outputs": [
    {
     "name": "stdout",
     "output_type": "stream",
     "text": [
      "[('need', 2), ('cards', 1), ('tried', 1)]\n",
      "[('cards', 4), ('card', 2)]\n",
      "[('cards', 3), ('limit', 1), ('times', 1)]\n"
     ]
    }
   ],
   "source": [
    "verbs = []\n",
    "dobjs = []\n",
    "nouns = []\n",
    "\n",
    "for i in range(len(example_category)):\n",
    "    example_doc = nlp(example_category.loc[i,'text'])\n",
    "    for token in example_doc:\n",
    "        if (token.dep_ == 'ROOT') and (token.is_stop==False):\n",
    "            verbs.append(token.text)\n",
    "        \n",
    "        elif (token.dep_=='dobj') and (token.is_stop==False):\n",
    "            dobjs.append(token.text)\n",
    "        \n",
    "        elif (token.pos_=='NOUN') and (token.is_stop==False):\n",
    "            nouns.append(token.text)\n",
    "            #print(i, token.text, token.pos_, token.tag_, token.dep_ )\n",
    "\n",
    "print(most_common(verbs))\n",
    "print(most_common(dobjs))\n",
    "print(most_common(nouns))"
   ]
  },
  {
   "cell_type": "code",
   "execution_count": 32,
   "id": "71125b2e-745b-4815-a602-6b984857edf4",
   "metadata": {},
   "outputs": [],
   "source": []
  },
  {
   "cell_type": "code",
   "execution_count": 34,
   "id": "8cfe0793-0a1f-4b90-bccf-a91b4b3bdc3d",
   "metadata": {},
   "outputs": [
    {
     "name": "stdout",
     "output_type": "stream",
     "text": [
      "Counter({'charged': 12, 'is': 4, 'charge': 2, 'took': 1, 'going': 1, 'seen': 1, 'charging': 1, 'went': 1, \"'s\": 1, 'was': 1, 'came': 1, 'have': 1, 'Is': 1, 'supposed': 1, 'had': 1, 'changed': 1, 'expect': 1, 'realize': 1, 'are': 1, 'cost': 1, 'Explain': 1})\n"
     ]
    }
   ],
   "source": [
    "counter=collections.Counter(verbs)\n",
    "print(counter)"
   ]
  },
  {
   "cell_type": "code",
   "execution_count": 38,
   "id": "bdc37b2e-9f72-4625-83df-e9e76b5f57dc",
   "metadata": {},
   "outputs": [
    {
     "name": "stdout",
     "output_type": "stream",
     "text": [
      "Counter({'fee': 8, 'cash': 6, 'money': 3, 'ATM': 3, 'withdrawal': 1, 'charge': 1, 'fees': 1, 'groceries': 1, 'transaction': 1, 'look': 1, 'it': 1, 'me': 1, 'anything': 1})\n"
     ]
    }
   ],
   "source": [
    "counter=collections.Counter(dobjs)\n",
    "print(counter)"
   ]
  },
  {
   "cell_type": "code",
   "execution_count": 51,
   "id": "9bf61bf7-92e1-4336-afed-abcad04b7e1f",
   "metadata": {},
   "outputs": [
    {
     "data": {
      "text/plain": [
       "[('fee', 8), ('cash', 6)]"
      ]
     },
     "execution_count": 51,
     "metadata": {},
     "output_type": "execute_result"
    }
   ],
   "source": [
    "counter.most_common(2)"
   ]
  },
  {
   "cell_type": "code",
   "execution_count": null,
   "id": "690da230-d2ff-45cc-ba31-62c85941dcc9",
   "metadata": {},
   "outputs": [],
   "source": [
    "all_messages_per_topic = intents_df.groupby(['topic'], as_index=False).agg({'message': ' '.join})"
   ]
  },
  {
   "cell_type": "code",
   "execution_count": null,
   "id": "373e20c2-fc7c-49c9-b74f-a47c496edf97",
   "metadata": {},
   "outputs": [],
   "source": [
    "def c_tf_idf(documents, m, ngram_range=(1,1)):\n",
    "    count = CountVectorizer(ngram_range = ngram_range, stop_words = 'english').fit(documents)\n",
    "    t = count.transform(documents).toarray()\n",
    "    w = t.sum(axis=1)\n",
    "    tf = np.divide(t.T, w)\n",
    "    sum_t = t.sum(axis=0)\n",
    "    idf = np.log(np.divide(m, sum_t)).reshape(-1, 1)\n",
    "    tf_idf = np.multiply(tf, idf)\n",
    "    \n",
    "    return tf_idf, count\n",
    "\n",
    "def extract_top_n_words_per_topic(tf_idf, count, docs_per_topic, n=10):\n",
    "    words = count.get_feature_names()\n",
    "    labels = list(docs_per_topic.topic)\n",
    "    tf_idf_transposed = tf_idf.T\n",
    "    indices = tf_idf_transposed.argsort()[:, -n:]\n",
    "    top_n_words = {label: [(words[j], tf_idf_transposed[i][j]) for j in indices[i]][::-1] for i, label in enumerate(labels)}\n",
    "    top_n_words_only = {label: [words[j] for j in indices[i]][::-1] for i, label in enumerate(labels)}\n",
    "    \n",
    "    return top_n_words, top_n_words_only\n",
    "\n",
    "def extract_topic_sizes(df):\n",
    "    topic_sizes = (df.groupby(['topic']).message.count()\n",
    "                   .reset_index()\n",
    "                   .rename({'message':'size'}, axis='columns')\n",
    "                   .sort_values('size', ascending=False))\n",
    "    return topic_sizes"
   ]
  },
  {
   "cell_type": "code",
   "execution_count": null,
   "id": "8650a700-4ce8-4ea1-a61c-b25a6a95b0a0",
   "metadata": {},
   "outputs": [],
   "source": [
    "tf_idf, count = c_tf_idf(all_messages_per_topic.message.values, m = len(data_sample))"
   ]
  },
  {
   "cell_type": "code",
   "execution_count": null,
   "id": "7fd0bf81-9df2-4270-ac14-6a8f9d89f091",
   "metadata": {},
   "outputs": [],
   "source": [
    "top_n_words, top_n_words_only = extract_top_n_words_per_topic(tf_idf, count, all_messages_per_topic, n=10)"
   ]
  },
  {
   "cell_type": "code",
   "execution_count": null,
   "id": "eea6f5a9-6783-49b0-b718-c435da6bf36d",
   "metadata": {},
   "outputs": [],
   "source": [
    "top_n_words[0]"
   ]
  },
  {
   "cell_type": "code",
   "execution_count": null,
   "id": "46745ab6-ade0-431c-b472-87c72f85e7c4",
   "metadata": {},
   "outputs": [],
   "source": [
    "top_n_words[-1]"
   ]
  },
  {
   "cell_type": "code",
   "execution_count": null,
   "id": "ea80ca96-55e4-48be-a143-3f42294fc122",
   "metadata": {},
   "outputs": [],
   "source": [
    "df_keywords = pd.DataFrame()\n",
    "df_keywords['topic'] = top_n_words_only.keys()\n",
    "df_keywords['keywords'] = top_n_words_only.values()"
   ]
  },
  {
   "cell_type": "code",
   "execution_count": null,
   "id": "21a124e1-704b-43db-8eb2-50c222965000",
   "metadata": {},
   "outputs": [],
   "source": [
    "extract_topic_sizes(intents_df).merge(df_keywords, how='left', on='topic')"
   ]
  },
  {
   "cell_type": "code",
   "execution_count": null,
   "id": "d6cc01dd-e082-4c44-80cb-28483123f7c4",
   "metadata": {},
   "outputs": [],
   "source": [
    "intents_df[intents_df['topic']==1]"
   ]
  },
  {
   "cell_type": "code",
   "execution_count": null,
   "id": "4973a3ea-7c39-4035-a848-c7c7775a5e89",
   "metadata": {},
   "outputs": [],
   "source": [
    "intents_df[intents_df['message'].str.contains('card')]"
   ]
  },
  {
   "cell_type": "code",
   "execution_count": null,
   "id": "7e805945-71b1-441c-90ae-7d81022df54a",
   "metadata": {},
   "outputs": [],
   "source": [
    "umap_data = umap.UMAP(n_neighbors=15, \n",
    "                      n_components=2, \n",
    "                      min_dist = 0.0, \n",
    "                      metric='cosine').fit_transform(use_embeddings)\n",
    "\n",
    "result = pd.DataFrame(umap_data, columns=['x', 'y'])\n",
    "result['labels'] = clusters.labels_\n",
    "\n",
    "#visualizing clusters\n",
    "fig, ax = plt.subplots(figsize=(20, 10))\n",
    "outliers = result.loc[result.labels == -1, :]\n",
    "clustered = result.loc[result.labels != -1, :]\n",
    "plt.scatter(outliers.x, outliers.y, color = '#BDBDBD', s=0.8)\n",
    "plt.scatter(clustered.x, clustered.y, c=clustered.labels, s=0.8, cmap='hsv_r')\n",
    "plt.colorbar()"
   ]
  }
 ],
 "metadata": {
  "kernelspec": {
   "display_name": "Python 3",
   "language": "python",
   "name": "python3"
  },
  "language_info": {
   "codemirror_mode": {
    "name": "ipython",
    "version": 3
   },
   "file_extension": ".py",
   "mimetype": "text/x-python",
   "name": "python",
   "nbconvert_exporter": "python",
   "pygments_lexer": "ipython3",
   "version": "3.9.6"
  }
 },
 "nbformat": 4,
 "nbformat_minor": 5
}
