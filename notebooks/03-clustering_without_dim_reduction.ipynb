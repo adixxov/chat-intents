{
 "cells": [
  {
   "cell_type": "markdown",
   "id": "8333f47e-e09a-4137-ada6-fd6e218ffbcf",
   "metadata": {},
   "source": [
    "# Chat Intents\n",
    "\n",
    "## Clustering without dimensionality reduction"
   ]
  },
  {
   "cell_type": "markdown",
   "id": "0419eb15-20af-4a2d-9d08-442fec3e8bf8",
   "metadata": {},
   "source": [
    "**Summary**\n",
    "\n",
    "This notebook briefly explores a few methods for representing documents with different embedding methods and clustering the embeddings with different algorithsm. In contrast to notebooks 04 and 05 in this repo, here no dimensionality reduction is used. As shown below, the biggest challene here remains selecting the right hyperparameters when the number of clusters isn't already known."
   ]
  },
  {
   "cell_type": "code",
   "execution_count": 1,
   "id": "3e5fcf6c-492b-42eb-9ea1-e2fdc9e7054f",
   "metadata": {},
   "outputs": [],
   "source": [
    "import random\n",
    "\n",
    "import numpy as np\n",
    "import pandas as pd\n",
    "import matplotlib.pyplot as plt\n",
    "from sklearn.feature_extraction.text import TfidfVectorizer\n",
    "from sklearn.metrics import silhouette_score\n",
    "from sklearn.metrics.cluster import normalized_mutual_info_score\n",
    "from sklearn.metrics.cluster import adjusted_rand_score\n",
    "from sklearn.manifold import TSNE\n",
    "from sklearn.cluster import KMeans\n",
    "from sklearn.cluster import AgglomerativeClustering\n",
    "import hdbscan\n",
    "import tensorflow as tf\n",
    "import tensorflow_hub as hub\n",
    "from sentence_transformers import SentenceTransformer\n",
    "\n",
    "pd.set_option(\"display.max_rows\", 500)\n",
    "pd.set_option(\"display.max_columns\", 500)\n",
    "pd.set_option(\"max_colwidth\", 400)"
   ]
  },
  {
   "cell_type": "code",
   "execution_count": 2,
   "id": "fc4e428e-9320-435b-9c48-e7dca9f2c116",
   "metadata": {},
   "outputs": [
    {
     "data": {
      "text/html": [
       "<div>\n",
       "<style scoped>\n",
       "    .dataframe tbody tr th:only-of-type {\n",
       "        vertical-align: middle;\n",
       "    }\n",
       "\n",
       "    .dataframe tbody tr th {\n",
       "        vertical-align: top;\n",
       "    }\n",
       "\n",
       "    .dataframe thead th {\n",
       "        text-align: right;\n",
       "    }\n",
       "</style>\n",
       "<table border=\"1\" class=\"dataframe\">\n",
       "  <thead>\n",
       "    <tr style=\"text-align: right;\">\n",
       "      <th></th>\n",
       "      <th>Unnamed: 0</th>\n",
       "      <th>text</th>\n",
       "      <th>category</th>\n",
       "      <th>cleaned_text</th>\n",
       "    </tr>\n",
       "  </thead>\n",
       "  <tbody>\n",
       "    <tr>\n",
       "      <th>0</th>\n",
       "      <td>1024</td>\n",
       "      <td>I'm worried my card might be lost in the mail? How long does it usually take to arrive?</td>\n",
       "      <td>card_delivery_estimate</td>\n",
       "      <td>im worried card might lost mail long usually take arrive</td>\n",
       "    </tr>\n",
       "    <tr>\n",
       "      <th>1</th>\n",
       "      <td>9405</td>\n",
       "      <td>I got charged a fee that shouldn't be there from my cash</td>\n",
       "      <td>cash_withdrawal_charge</td>\n",
       "      <td>got charged fee shouldnt cash</td>\n",
       "    </tr>\n",
       "    <tr>\n",
       "      <th>2</th>\n",
       "      <td>9368</td>\n",
       "      <td>Do you charge for making a withdrawal? I took some money out of my account earlier and I was charged for this.</td>\n",
       "      <td>cash_withdrawal_charge</td>\n",
       "      <td>charge making withdrawal took money account earlier charged</td>\n",
       "    </tr>\n",
       "    <tr>\n",
       "      <th>3</th>\n",
       "      <td>3414</td>\n",
       "      <td>Is there an issue with my account?  I don't see a cheque deposit that I made yesterday.  Please assist.</td>\n",
       "      <td>balance_not_updated_after_cheque_or_cash_deposit</td>\n",
       "      <td>issue account dont see cheque deposit made yesterday please assist</td>\n",
       "    </tr>\n",
       "    <tr>\n",
       "      <th>4</th>\n",
       "      <td>7402</td>\n",
       "      <td>Are there ways for other people to send me money?</td>\n",
       "      <td>receiving_money</td>\n",
       "      <td>way people send money</td>\n",
       "    </tr>\n",
       "  </tbody>\n",
       "</table>\n",
       "</div>"
      ],
      "text/plain": [
       "   Unnamed: 0  \\\n",
       "0        1024   \n",
       "1        9405   \n",
       "2        9368   \n",
       "3        3414   \n",
       "4        7402   \n",
       "\n",
       "                                                                                                             text  \\\n",
       "0                         I'm worried my card might be lost in the mail? How long does it usually take to arrive?   \n",
       "1                                                        I got charged a fee that shouldn't be there from my cash   \n",
       "2  Do you charge for making a withdrawal? I took some money out of my account earlier and I was charged for this.   \n",
       "3         Is there an issue with my account?  I don't see a cheque deposit that I made yesterday.  Please assist.   \n",
       "4                                                               Are there ways for other people to send me money?   \n",
       "\n",
       "                                           category  \\\n",
       "0                            card_delivery_estimate   \n",
       "1                            cash_withdrawal_charge   \n",
       "2                            cash_withdrawal_charge   \n",
       "3  balance_not_updated_after_cheque_or_cash_deposit   \n",
       "4                                   receiving_money   \n",
       "\n",
       "                                                         cleaned_text  \n",
       "0            im worried card might lost mail long usually take arrive  \n",
       "1                                       got charged fee shouldnt cash  \n",
       "2         charge making withdrawal took money account earlier charged  \n",
       "3  issue account dont see cheque deposit made yesterday please assist  \n",
       "4                                               way people send money  "
      ]
     },
     "execution_count": 2,
     "metadata": {},
     "output_type": "execute_result"
    }
   ],
   "source": [
    "data_sample = pd.read_csv('../data/processed/data_sample.csv')\n",
    "data_sample.head()"
   ]
  },
  {
   "cell_type": "markdown",
   "id": "e6141767-86f8-43ad-b7b4-468f716ac188",
   "metadata": {},
   "source": [
    "### Helper functions"
   ]
  },
  {
   "cell_type": "code",
   "execution_count": 3,
   "id": "55853f4f-78af-422e-82ba-7bb650a59baf",
   "metadata": {},
   "outputs": [],
   "source": [
    "def plot_kmeans(embeddings, k_range):\n",
    "    '''\n",
    "    Plot SSE and silhouette score for kmeans clustering for a range of k values\n",
    "    Arguments:\n",
    "        embeddings: array, sentence embeddings\n",
    "        k_range: range, values of k to evaluate for kmeans clustering  \n",
    "    '''\n",
    "    sse = []\n",
    "    silhouette_avg_n_clusters = []\n",
    "\n",
    "    for k in k_range:\n",
    "        kmeans = KMeans(n_clusters=k, init='k-means++', max_iter=100, n_init=1)\n",
    "        kmeans.fit(embeddings)\n",
    "        sse.append(kmeans.inertia_)\n",
    "\n",
    "        silhouette_avg = silhouette_score(embeddings, kmeans.predict(embeddings))\n",
    "        silhouette_avg_n_clusters.append(silhouette_avg)\n",
    "\n",
    "\n",
    "    # plot sse\n",
    "    fig, axes = plt.subplots(1, 2, figsize=(14, 6))\n",
    "    axes[0].plot(k_range, sse)\n",
    "    axes[0].set(xlabel = 'k clusters', ylabel = 'SSE', title = 'Elbow plot')\n",
    "    axes[0].grid()\n",
    "    \n",
    "    # plot avg silhouette score\n",
    "    axes[1].plot(k_range, silhouette_avg_n_clusters)\n",
    "    axes[1].set(xlabel = 'k clusters', ylabel = 'Silhouette score', title = 'Silhouette score')\n",
    "    axes[1].grid()\n",
    "\n",
    "    plt.show()"
   ]
  },
  {
   "cell_type": "code",
   "execution_count": 4,
   "id": "1986320a-e668-4500-9dac-61d4ce83535f",
   "metadata": {},
   "outputs": [],
   "source": [
    "def search_cluster_size(embeddings, size_range):\n",
    "    '''\n",
    "    Scan HDBSCAN min_cluster_size values and return results\n",
    "    Arguments:\n",
    "        embeddings: embeddings to use\n",
    "        size_range: range of min_cluster_size hyperparameter values to scan\n",
    "    Returns:\n",
    "        result_df: dataframe of min_cluster_size, total number of clusters,\n",
    "                   and percent of data labeled as noise\n",
    "    '''\n",
    "    \n",
    "    results = []\n",
    "    \n",
    "    for i in size_range:\n",
    "        min_cluster_size = i\n",
    "        \n",
    "        clusters_hdbscan = (hdbscan.HDBSCAN(min_cluster_size=min_cluster_size,\n",
    "                                           metric='euclidean', \n",
    "                                           cluster_selection_method='eom') \n",
    "                                           .fit(embeddings))\n",
    "    \n",
    "        labels = clusters_hdbscan.labels_\n",
    "        label_count = len(np.unique(labels))\n",
    "        \n",
    "        total_num = len(clusters_hdbscan.labels_)\n",
    "        cost = (np.count_nonzero(clusters_hdbscan.probabilities_ < 0.05)/total_num) \n",
    "                \n",
    "        results.append([min_cluster_size, label_count, cost])\n",
    "    \n",
    "    result_df = pd.DataFrame(results, columns=['min_cluster_size', \n",
    "                                               'label_count', 'noise'])\n",
    "    \n",
    "    return result_df"
   ]
  },
  {
   "cell_type": "code",
   "execution_count": 5,
   "id": "4e149fbe-6b0d-4dfd-a91f-73593657f3b3",
   "metadata": {},
   "outputs": [],
   "source": [
    "def random_search(embeddings, space, num_evals):\n",
    "    '''\n",
    "    Random search of HDBSCAN hyperparameter spcae\n",
    "    Arguments:\n",
    "        embeddings: embeddings to use\n",
    "        space: dict, hyperparameter space to search with keys of\n",
    "               'min_cluster_size' and 'min_samples' and values as ranges\n",
    "        num_evals: int, number of trials to run\n",
    "    Returns:\n",
    "        result_df: dataframe of run_id, min_cluster_size, min_samples, \n",
    "                   total number of clusters, and percent of data labeled as noise\n",
    "    \n",
    "    '''\n",
    "    \n",
    "    results = []\n",
    "    \n",
    "    for i in range(num_evals):\n",
    "        min_cluster_size = random.choice(space['min_cluster_size'])\n",
    "        min_samples = random.choice(space['min_samples'])\n",
    "        \n",
    "        clusters_hdbscan = (hdbscan.HDBSCAN(min_cluster_size=min_cluster_size,\n",
    "                                           min_samples = min_samples,\n",
    "                                           metric='euclidean', \n",
    "                                           cluster_selection_method='eom') \n",
    "                                           .fit(embeddings))\n",
    "    \n",
    "        labels = clusters_hdbscan.labels_\n",
    "        label_count = len(np.unique(labels))\n",
    "        \n",
    "        total_num = len(clusters_hdbscan.labels_)\n",
    "        cost = (np.count_nonzero(clusters_hdbscan.probabilities_ < 0.05)/total_num) \n",
    "                \n",
    "        results.append([i, min_cluster_size, min_samples, label_count, cost])\n",
    "    \n",
    "    result_df = pd.DataFrame(results, columns=['run_id', 'min_cluster_size', 'min_samples', \n",
    "                                               'label_count', 'cost'])\n",
    "    \n",
    "    return result_df.sort_values(by='cost')"
   ]
  },
  {
   "cell_type": "markdown",
   "id": "04df4291-7127-4f3d-a9b0-89d5be9b866a",
   "metadata": {},
   "source": [
    "### TF-IDF embeddings with K-means"
   ]
  },
  {
   "cell_type": "code",
   "execution_count": 6,
   "id": "ca71aa9b-c413-4ce9-b9ae-b619c7934d9b",
   "metadata": {},
   "outputs": [
    {
     "data": {
      "text/plain": [
       "0              im worried card might lost mail long usually take arrive\n",
       "1                                         got charged fee shouldnt cash\n",
       "2           charge making withdrawal took money account earlier charged\n",
       "3    issue account dont see cheque deposit made yesterday please assist\n",
       "4                                                 way people send money\n",
       "Name: cleaned_text, dtype: object"
      ]
     },
     "execution_count": 6,
     "metadata": {},
     "output_type": "execute_result"
    }
   ],
   "source": [
    "cleaned_text = data_sample['cleaned_text']\n",
    "cleaned_text.head()"
   ]
  },
  {
   "cell_type": "code",
   "execution_count": 7,
   "id": "a0c05083-c833-40bc-aff3-e19cbbdc8aef",
   "metadata": {},
   "outputs": [
    {
     "data": {
      "text/plain": [
       "(1000, 809)"
      ]
     },
     "execution_count": 7,
     "metadata": {},
     "output_type": "execute_result"
    }
   ],
   "source": [
    "tfidf_vectorizer = TfidfVectorizer()\n",
    "tfidf_transformed_vector = tfidf_vectorizer.fit_transform(cleaned_text)\n",
    "tfidf_transformed_vector.shape"
   ]
  },
  {
   "cell_type": "code",
   "execution_count": 8,
   "id": "ff85d414-ca48-4a2a-8285-1dc87c689a8b",
   "metadata": {},
   "outputs": [
    {
     "data": {
      "text/plain": [
       "KMeans(max_iter=100, n_clusters=10, n_init=1)"
      ]
     },
     "execution_count": 8,
     "metadata": {},
     "output_type": "execute_result"
    }
   ],
   "source": [
    "k = 10\n",
    "kmeans = KMeans(n_clusters=k, init='k-means++', max_iter=100, n_init=1)\n",
    "kmeans.fit(tfidf_transformed_vector)"
   ]
  },
  {
   "cell_type": "code",
   "execution_count": 9,
   "id": "3cd6c6a7-5057-4521-ad30-3565f234d986",
   "metadata": {},
   "outputs": [
    {
     "data": {
      "text/plain": [
       "1000"
      ]
     },
     "execution_count": 9,
     "metadata": {},
     "output_type": "execute_result"
    }
   ],
   "source": [
    "len(kmeans.labels_)"
   ]
  },
  {
   "cell_type": "code",
   "execution_count": 10,
   "id": "7fd75e92-6771-4b73-b699-c699156ee8f4",
   "metadata": {},
   "outputs": [
    {
     "data": {
      "image/png": "[encoded data removed]",
      "text/plain": [
       "<Figure size 1008x432 with 2 Axes>"
      ]
     },
     "metadata": {
      "needs_background": "light"
     },
     "output_type": "display_data"
    },
    {
     "name": "stdout",
     "output_type": "stream",
     "text": [
      "CPU times: user 42 s, sys: 1.26 s, total: 43.3 s\n",
      "Wall time: 19.7 s\n"
     ]
    }
   ],
   "source": [
    "%%time\n",
    "\n",
    "k_range = range(5, 141)\n",
    "plot_kmeans(tfidf_transformed_vector, k_range)"
   ]
  },
  {
   "cell_type": "markdown",
   "id": "1c01dd45-5c25-4291-a5e2-f09bc0fc8aaf",
   "metadata": {},
   "source": [
    "There's no clear elbow in the scree plot of the sum of squared errors as a function of the number of clusters (k). Additionally, the silhouette score appears to continue increasing over the range considered. Thus, neither approach makes it clear what value to select for k."
   ]
  },
  {
   "cell_type": "markdown",
   "id": "7ebca3be-1012-4e0e-a778-86e7947b1533",
   "metadata": {},
   "source": [
    "## Sentence Embeddings"
   ]
  },
  {
   "cell_type": "markdown",
   "id": "eb7f1857-0008-42bf-a2c5-7e79e9198b1f",
   "metadata": {},
   "source": [
    "The sentence embedding models typically expect raw sentences (without preprocessing), so we'll use those here."
   ]
  },
  {
   "cell_type": "code",
   "execution_count": 11,
   "id": "539b16d1-8dbc-461a-b01f-3d0c3045122a",
   "metadata": {},
   "outputs": [],
   "source": [
    "full_text = data_sample['text']"
   ]
  },
  {
   "cell_type": "markdown",
   "id": "2db61b8f-75ee-4c94-947c-179dd9547e56",
   "metadata": {},
   "source": [
    "### USE Sentence Embeddings + Kmeans"
   ]
  },
  {
   "cell_type": "markdown",
   "id": "7e32c76f-b1f5-4c15-a980-438218591a4d",
   "metadata": {},
   "source": [
    "Start with Universal Sentence Encoder (USE) as an example sentence embedding model."
   ]
  },
  {
   "cell_type": "code",
   "execution_count": 12,
   "id": "59410d6b-723c-40dd-bfeb-27d06e737ede",
   "metadata": {},
   "outputs": [
    {
     "name": "stderr",
     "output_type": "stream",
     "text": [
      "INFO:absl:Using /var/folders/_d/glx67tx142z43y0r2thyl3g80000gn/T/tfhub_modules to cache modules.\n"
     ]
    },
    {
     "name": "stdout",
     "output_type": "stream",
     "text": [
      "module https://tfhub.dev/google/universal-sentence-encoder/4 loaded\n"
     ]
    }
   ],
   "source": [
    "module_url = \"https://tfhub.dev/google/universal-sentence-encoder/4\"\n",
    "model_use = hub.load(module_url)\n",
    "\n",
    "print(f\"module {module_url} loaded\")"
   ]
  },
  {
   "cell_type": "code",
   "execution_count": 13,
   "id": "b56400ff-0be2-4876-b776-6690e6ea4f4b",
   "metadata": {},
   "outputs": [
    {
     "data": {
      "text/plain": [
       "TensorShape([1000, 512])"
      ]
     },
     "execution_count": 13,
     "metadata": {},
     "output_type": "execute_result"
    }
   ],
   "source": [
    "use_embeddings = model_use(full_text)\n",
    "use_embeddings.shape"
   ]
  },
  {
   "cell_type": "code",
   "execution_count": 14,
   "id": "e0a97f3c-9605-425b-971a-1c208db90a82",
   "metadata": {},
   "outputs": [
    {
     "data": {
      "image/png": "[encoded data removed]",
      "text/plain": [
       "<Figure size 1008x432 with 2 Axes>"
      ]
     },
     "metadata": {
      "needs_background": "light"
     },
     "output_type": "display_data"
    },
    {
     "name": "stdout",
     "output_type": "stream",
     "text": [
      "CPU times: user 1min 1s, sys: 2.41 s, total: 1min 3s\n",
      "Wall time: 27.1 s\n"
     ]
    }
   ],
   "source": [
    "%%time\n",
    "\n",
    "k_range = range(5, 151)\n",
    "plot_kmeans(use_embeddings, k_range)"
   ]
  },
  {
   "cell_type": "markdown",
   "id": "82b6a035-1c1b-414a-bebe-fb59f15aab54",
   "metadata": {},
   "source": [
    "As with the TF-IDF embeddings above, it's not obvious what number of clusters to select from these plots. The silhouette score continues to slowly increase as the number of clusters increases. Even at 150 clusters though, the silhouette score has only reached 0.08, which is quite low."
   ]
  },
  {
   "cell_type": "markdown",
   "id": "3f985e42-c0c9-48b4-a5be-f007050f8c77",
   "metadata": {},
   "source": [
    "### Sentence Transformer Embeddings + Kmeans"
   ]
  },
  {
   "cell_type": "markdown",
   "id": "f4f63f15-0f50-4836-8d2b-35442a972e62",
   "metadata": {},
   "source": [
    "Use a sentence-transformer pretrained model that was made in a way to preserve the usefulness of Euclidean distances (https://www.sbert.net/docs/pretrained_models.html). "
   ]
  },
  {
   "cell_type": "code",
   "execution_count": 15,
   "id": "d3e960de-1c73-4314-b3f1-e850620b5cdd",
   "metadata": {},
   "outputs": [
    {
     "data": {
      "text/plain": [
       "(1000, 768)"
      ]
     },
     "execution_count": 15,
     "metadata": {},
     "output_type": "execute_result"
    }
   ],
   "source": [
    "model_st = SentenceTransformer('all-mpnet-base-v2')\n",
    "st_embeddings = model_st.encode(full_text)\n",
    "st_embeddings.shape"
   ]
  },
  {
   "cell_type": "code",
   "execution_count": 16,
   "id": "28d44daa-7d30-41ff-bd44-587831d3464b",
   "metadata": {},
   "outputs": [
    {
     "data": {
      "image/png": "[encoded data removed]",
      "text/plain": [
       "<Figure size 1008x432 with 2 Axes>"
      ]
     },
     "metadata": {
      "needs_background": "light"
     },
     "output_type": "display_data"
    },
    {
     "name": "stdout",
     "output_type": "stream",
     "text": [
      "CPU times: user 1min 40s, sys: 5.5 s, total: 1min 45s\n",
      "Wall time: 46.7 s\n"
     ]
    }
   ],
   "source": [
    "%%time\n",
    "\n",
    "k_range = range(5, 151)\n",
    "plot_kmeans(st_embeddings, k_range)"
   ]
  },
  {
   "cell_type": "markdown",
   "id": "cf33e41d-dd3d-4b7a-b03b-58b3774681c7",
   "metadata": {},
   "source": [
    "As with the USE model, it still isn't obvious what value of k to select. From the silhouette score plot we see that the values seem to somewhat level off starting at around 100 clusters, but it also continues to slowly rise from there."
   ]
  },
  {
   "cell_type": "markdown",
   "id": "a93f6f62-1ad8-4784-a381-f25b31cba645",
   "metadata": {},
   "source": [
    "### Hierarchical clustering"
   ]
  },
  {
   "cell_type": "code",
   "execution_count": 17,
   "id": "a0a6e23f-ce7b-4363-893e-4b0db97f0b23",
   "metadata": {},
   "outputs": [],
   "source": [
    "# Normalize the embeddings to unit length\n",
    "st_embeddings_norm = st_embeddings /  np.linalg.norm(st_embeddings, axis=1, keepdims=True)"
   ]
  },
  {
   "cell_type": "code",
   "execution_count": 18,
   "id": "45b38395-cf3e-49aa-a256-e4ca9e70e8de",
   "metadata": {},
   "outputs": [
    {
     "data": {
      "text/plain": [
       "118"
      ]
     },
     "execution_count": 18,
     "metadata": {},
     "output_type": "execute_result"
    }
   ],
   "source": [
    "# Perform clustering\n",
    "agglom_model = AgglomerativeClustering(n_clusters=None, distance_threshold=1.5)\n",
    "agglom_model.fit(st_embeddings_norm)\n",
    "cluster_assignment = agglom_model.labels_\n",
    "\n",
    "len(np.unique(cluster_assignment))"
   ]
  },
  {
   "cell_type": "markdown",
   "id": "b63bd14a-15fb-4926-9bff-288cde1187a7",
   "metadata": {},
   "source": [
    "While we can obvoiusly create clusters using hierarchical clustering, we still have no way to intuitively select the necessary hyperparameters (e.g. distance_threshold in this case)."
   ]
  },
  {
   "cell_type": "markdown",
   "id": "85032d3c-2147-4780-b230-dbe0b52561bc",
   "metadata": {},
   "source": [
    "### Sentence Embeddings + HDBSCAN"
   ]
  },
  {
   "cell_type": "code",
   "execution_count": 19,
   "id": "89cf70ad-8277-4d60-bfd1-cd3d7bb3fe3a",
   "metadata": {},
   "outputs": [
    {
     "data": {
      "text/plain": [
       "232"
      ]
     },
     "execution_count": 19,
     "metadata": {},
     "output_type": "execute_result"
    }
   ],
   "source": [
    "clusters_hdbscan = hdbscan.HDBSCAN(min_cluster_size=2, \n",
    "                                   metric='euclidean', \n",
    "                                   cluster_selection_method='eom').fit(st_embeddings)\n",
    "\n",
    "labels = clusters_hdbscan.labels_\n",
    "len(np.unique(labels))"
   ]
  },
  {
   "cell_type": "code",
   "execution_count": 20,
   "id": "334cf57b-6ace-4558-be66-61b487484be6",
   "metadata": {},
   "outputs": [
    {
     "data": {
      "text/plain": [
       "-1      255\n",
       " 91      18\n",
       " 145     12\n",
       " 151     10\n",
       " 216     10\n",
       " 114     10\n",
       " 60       8\n",
       " 98       8\n",
       " 197      8\n",
       " 202      7\n",
       "dtype: int64"
      ]
     },
     "execution_count": 20,
     "metadata": {},
     "output_type": "execute_result"
    }
   ],
   "source": [
    "pd.Series(labels).value_counts().head(10)"
   ]
  },
  {
   "cell_type": "code",
   "execution_count": 21,
   "id": "779ce060-5c6d-42e6-a29d-fdc3ad9b1b02",
   "metadata": {},
   "outputs": [
    {
     "data": {
      "text/html": [
       "<div>\n",
       "<style scoped>\n",
       "    .dataframe tbody tr th:only-of-type {\n",
       "        vertical-align: middle;\n",
       "    }\n",
       "\n",
       "    .dataframe tbody tr th {\n",
       "        vertical-align: top;\n",
       "    }\n",
       "\n",
       "    .dataframe thead th {\n",
       "        text-align: right;\n",
       "    }\n",
       "</style>\n",
       "<table border=\"1\" class=\"dataframe\">\n",
       "  <thead>\n",
       "    <tr style=\"text-align: right;\">\n",
       "      <th></th>\n",
       "      <th>min_cluster_size</th>\n",
       "      <th>label_count</th>\n",
       "      <th>noise</th>\n",
       "    </tr>\n",
       "  </thead>\n",
       "  <tbody>\n",
       "    <tr>\n",
       "      <th>0</th>\n",
       "      <td>2</td>\n",
       "      <td>232</td>\n",
       "      <td>0.255</td>\n",
       "    </tr>\n",
       "    <tr>\n",
       "      <th>1</th>\n",
       "      <td>3</td>\n",
       "      <td>88</td>\n",
       "      <td>0.381</td>\n",
       "    </tr>\n",
       "    <tr>\n",
       "      <th>2</th>\n",
       "      <td>4</td>\n",
       "      <td>3</td>\n",
       "      <td>0.016</td>\n",
       "    </tr>\n",
       "    <tr>\n",
       "      <th>3</th>\n",
       "      <td>5</td>\n",
       "      <td>40</td>\n",
       "      <td>0.591</td>\n",
       "    </tr>\n",
       "    <tr>\n",
       "      <th>4</th>\n",
       "      <td>6</td>\n",
       "      <td>3</td>\n",
       "      <td>0.082</td>\n",
       "    </tr>\n",
       "    <tr>\n",
       "      <th>5</th>\n",
       "      <td>7</td>\n",
       "      <td>4</td>\n",
       "      <td>0.300</td>\n",
       "    </tr>\n",
       "    <tr>\n",
       "      <th>6</th>\n",
       "      <td>8</td>\n",
       "      <td>3</td>\n",
       "      <td>0.348</td>\n",
       "    </tr>\n",
       "    <tr>\n",
       "      <th>7</th>\n",
       "      <td>9</td>\n",
       "      <td>14</td>\n",
       "      <td>0.722</td>\n",
       "    </tr>\n",
       "    <tr>\n",
       "      <th>8</th>\n",
       "      <td>10</td>\n",
       "      <td>10</td>\n",
       "      <td>0.784</td>\n",
       "    </tr>\n",
       "  </tbody>\n",
       "</table>\n",
       "</div>"
      ],
      "text/plain": [
       "   min_cluster_size  label_count  noise\n",
       "0                 2          232  0.255\n",
       "1                 3           88  0.381\n",
       "2                 4            3  0.016\n",
       "3                 5           40  0.591\n",
       "4                 6            3  0.082\n",
       "5                 7            4  0.300\n",
       "6                 8            3  0.348\n",
       "7                 9           14  0.722\n",
       "8                10           10  0.784"
      ]
     },
     "execution_count": 21,
     "metadata": {},
     "output_type": "execute_result"
    }
   ],
   "source": [
    "size_range = range(2,11)\n",
    "search_cluster_size(st_embeddings, size_range=size_range)"
   ]
  },
  {
   "cell_type": "markdown",
   "id": "a4b027f6-014d-4948-b23f-706eac70ac56",
   "metadata": {},
   "source": [
    "Scanning through different min_cluster_size values for HDBSCAN reveals some of the challenges of using the raw sentence embeddings. Either all the datapoints are lumped into the same, small number of clusters (e.g. 3 total), or a large percentage of datapoints are not clustered (e.g. 38% of the data is left out as noise with a min_cluster_size of 3)."
   ]
  },
  {
   "cell_type": "code",
   "execution_count": 22,
   "id": "d3eb1820-c22e-44f8-9d83-b929bac4b869",
   "metadata": {},
   "outputs": [
    {
     "name": "stdout",
     "output_type": "stream",
     "text": [
      "CPU times: user 2min 7s, sys: 816 ms, total: 2min 8s\n",
      "Wall time: 2min 17s\n"
     ]
    },
    {
     "data": {
      "text/html": [
       "<div>\n",
       "<style scoped>\n",
       "    .dataframe tbody tr th:only-of-type {\n",
       "        vertical-align: middle;\n",
       "    }\n",
       "\n",
       "    .dataframe tbody tr th {\n",
       "        vertical-align: top;\n",
       "    }\n",
       "\n",
       "    .dataframe thead th {\n",
       "        text-align: right;\n",
       "    }\n",
       "</style>\n",
       "<table border=\"1\" class=\"dataframe\">\n",
       "  <thead>\n",
       "    <tr style=\"text-align: right;\">\n",
       "      <th></th>\n",
       "      <th>run_id</th>\n",
       "      <th>min_cluster_size</th>\n",
       "      <th>min_samples</th>\n",
       "      <th>label_count</th>\n",
       "      <th>cost</th>\n",
       "    </tr>\n",
       "  </thead>\n",
       "  <tbody>\n",
       "    <tr>\n",
       "      <th>33</th>\n",
       "      <td>33</td>\n",
       "      <td>2</td>\n",
       "      <td>4</td>\n",
       "      <td>3</td>\n",
       "      <td>0.016</td>\n",
       "    </tr>\n",
       "    <tr>\n",
       "      <th>20</th>\n",
       "      <td>20</td>\n",
       "      <td>2</td>\n",
       "      <td>28</td>\n",
       "      <td>3</td>\n",
       "      <td>0.061</td>\n",
       "    </tr>\n",
       "    <tr>\n",
       "      <th>35</th>\n",
       "      <td>35</td>\n",
       "      <td>13</td>\n",
       "      <td>2</td>\n",
       "      <td>3</td>\n",
       "      <td>0.073</td>\n",
       "    </tr>\n",
       "    <tr>\n",
       "      <th>67</th>\n",
       "      <td>67</td>\n",
       "      <td>22</td>\n",
       "      <td>2</td>\n",
       "      <td>3</td>\n",
       "      <td>0.073</td>\n",
       "    </tr>\n",
       "    <tr>\n",
       "      <th>72</th>\n",
       "      <td>72</td>\n",
       "      <td>13</td>\n",
       "      <td>2</td>\n",
       "      <td>3</td>\n",
       "      <td>0.073</td>\n",
       "    </tr>\n",
       "    <tr>\n",
       "      <th>85</th>\n",
       "      <td>85</td>\n",
       "      <td>5</td>\n",
       "      <td>6</td>\n",
       "      <td>3</td>\n",
       "      <td>0.082</td>\n",
       "    </tr>\n",
       "    <tr>\n",
       "      <th>92</th>\n",
       "      <td>92</td>\n",
       "      <td>15</td>\n",
       "      <td>3</td>\n",
       "      <td>3</td>\n",
       "      <td>0.097</td>\n",
       "    </tr>\n",
       "    <tr>\n",
       "      <th>74</th>\n",
       "      <td>74</td>\n",
       "      <td>2</td>\n",
       "      <td>12</td>\n",
       "      <td>3</td>\n",
       "      <td>0.125</td>\n",
       "    </tr>\n",
       "    <tr>\n",
       "      <th>49</th>\n",
       "      <td>49</td>\n",
       "      <td>20</td>\n",
       "      <td>4</td>\n",
       "      <td>3</td>\n",
       "      <td>0.142</td>\n",
       "    </tr>\n",
       "    <tr>\n",
       "      <th>31</th>\n",
       "      <td>31</td>\n",
       "      <td>17</td>\n",
       "      <td>4</td>\n",
       "      <td>3</td>\n",
       "      <td>0.142</td>\n",
       "    </tr>\n",
       "    <tr>\n",
       "      <th>24</th>\n",
       "      <td>24</td>\n",
       "      <td>11</td>\n",
       "      <td>5</td>\n",
       "      <td>3</td>\n",
       "      <td>0.188</td>\n",
       "    </tr>\n",
       "    <tr>\n",
       "      <th>32</th>\n",
       "      <td>32</td>\n",
       "      <td>10</td>\n",
       "      <td>5</td>\n",
       "      <td>3</td>\n",
       "      <td>0.188</td>\n",
       "    </tr>\n",
       "    <tr>\n",
       "      <th>11</th>\n",
       "      <td>11</td>\n",
       "      <td>3</td>\n",
       "      <td>3</td>\n",
       "      <td>88</td>\n",
       "      <td>0.381</td>\n",
       "    </tr>\n",
       "    <tr>\n",
       "      <th>94</th>\n",
       "      <td>94</td>\n",
       "      <td>11</td>\n",
       "      <td>2</td>\n",
       "      <td>30</td>\n",
       "      <td>0.383</td>\n",
       "    </tr>\n",
       "    <tr>\n",
       "      <th>2</th>\n",
       "      <td>2</td>\n",
       "      <td>6</td>\n",
       "      <td>2</td>\n",
       "      <td>48</td>\n",
       "      <td>0.406</td>\n",
       "    </tr>\n",
       "    <tr>\n",
       "      <th>10</th>\n",
       "      <td>10</td>\n",
       "      <td>28</td>\n",
       "      <td>3</td>\n",
       "      <td>6</td>\n",
       "      <td>0.409</td>\n",
       "    </tr>\n",
       "    <tr>\n",
       "      <th>22</th>\n",
       "      <td>22</td>\n",
       "      <td>6</td>\n",
       "      <td>3</td>\n",
       "      <td>41</td>\n",
       "      <td>0.447</td>\n",
       "    </tr>\n",
       "    <tr>\n",
       "      <th>30</th>\n",
       "      <td>30</td>\n",
       "      <td>2</td>\n",
       "      <td>26</td>\n",
       "      <td>3</td>\n",
       "      <td>0.453</td>\n",
       "    </tr>\n",
       "    <tr>\n",
       "      <th>84</th>\n",
       "      <td>84</td>\n",
       "      <td>27</td>\n",
       "      <td>5</td>\n",
       "      <td>5</td>\n",
       "      <td>0.475</td>\n",
       "    </tr>\n",
       "    <tr>\n",
       "      <th>50</th>\n",
       "      <td>50</td>\n",
       "      <td>19</td>\n",
       "      <td>5</td>\n",
       "      <td>5</td>\n",
       "      <td>0.475</td>\n",
       "    </tr>\n",
       "  </tbody>\n",
       "</table>\n",
       "</div>"
      ],
      "text/plain": [
       "    run_id  min_cluster_size  min_samples  label_count   cost\n",
       "33      33                 2            4            3  0.016\n",
       "20      20                 2           28            3  0.061\n",
       "35      35                13            2            3  0.073\n",
       "67      67                22            2            3  0.073\n",
       "72      72                13            2            3  0.073\n",
       "85      85                 5            6            3  0.082\n",
       "92      92                15            3            3  0.097\n",
       "74      74                 2           12            3  0.125\n",
       "49      49                20            4            3  0.142\n",
       "31      31                17            4            3  0.142\n",
       "24      24                11            5            3  0.188\n",
       "32      32                10            5            3  0.188\n",
       "11      11                 3            3           88  0.381\n",
       "94      94                11            2           30  0.383\n",
       "2        2                 6            2           48  0.406\n",
       "10      10                28            3            6  0.409\n",
       "22      22                 6            3           41  0.447\n",
       "30      30                 2           26            3  0.453\n",
       "84      84                27            5            5  0.475\n",
       "50      50                19            5            5  0.475"
      ]
     },
     "execution_count": 22,
     "metadata": {},
     "output_type": "execute_result"
    }
   ],
   "source": [
    "%%time\n",
    "\n",
    "space = {\n",
    "    \"min_cluster_size\": range(2, 30),\n",
    "    \"min_samples\": range(2, 30)\n",
    "}\n",
    "\n",
    "random_search(st_embeddings, space, num_evals=100).head(20)"
   ]
  },
  {
   "cell_type": "markdown",
   "id": "26ad5c25-277a-4718-ad14-6fc7ec7c9677",
   "metadata": {},
   "source": [
    "Decoupling min_samples separate from min_cluster_size doesn't improve our results (min_samples is set equal to min_cluster_size by default in HDBSCAN if it is not specified). We still see the same issues here or either too few clusters or too many samples being labeled as noise."
   ]
  },
  {
   "cell_type": "code",
   "execution_count": null,
   "id": "1d5ee8d3-4de7-45fe-80e3-97a5cdce83b0",
   "metadata": {},
   "outputs": [],
   "source": []
  }
 ],
 "metadata": {
  "kernelspec": {
   "display_name": "Python 3",
   "language": "python",
   "name": "python3"
  },
  "language_info": {
   "codemirror_mode": {
    "name": "ipython",
    "version": 3
   },
   "file_extension": ".py",
   "mimetype": "text/x-python",
   "name": "python",
   "nbconvert_exporter": "python",
   "pygments_lexer": "ipython3",
   "version": "3.9.6"
  }
 },
 "nbformat": 4,
 "nbformat_minor": 5
}
