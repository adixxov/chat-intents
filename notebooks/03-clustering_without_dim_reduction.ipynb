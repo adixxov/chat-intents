{
 "cells": [
  {
   "cell_type": "markdown",
   "id": "8333f47e-e09a-4137-ada6-fd6e218ffbcf",
   "metadata": {},
   "source": [
    "# Chat Intents\n",
    "\n",
    "## Clustering without dimensionality reduction"
   ]
  },
  {
   "cell_type": "code",
   "execution_count": 1,
   "id": "3e5fcf6c-492b-42eb-9ea1-e2fdc9e7054f",
   "metadata": {},
   "outputs": [],
   "source": [
    "import numpy as np\n",
    "import pandas as pd\n",
    "\n",
    "pd.set_option(\"display.max_rows\", 500)\n",
    "pd.set_option(\"display.max_columns\", 500)\n",
    "pd.set_option(\"max_colwidth\", 400)\n",
    "\n",
    "import matplotlib.pyplot as plt"
   ]
  },
  {
   "cell_type": "code",
   "execution_count": 2,
   "id": "8d474fe1-f30f-435b-b568-36dc274e3ac7",
   "metadata": {},
   "outputs": [],
   "source": [
    "from sklearn.feature_extraction.text import CountVectorizer\n",
    "from sklearn.feature_extraction.text import TfidfVectorizer\n",
    "from sklearn.decomposition import LatentDirichletAllocation\n",
    "from sklearn.manifold import TSNE\n",
    "from sklearn.manifold import Isomap\n",
    "\n",
    "from sklearn.cluster import KMeans\n",
    "from sklearn.cluster import DBSCAN\n",
    "from sklearn.cluster import OPTICS\n",
    "from sklearn.cluster import AgglomerativeClustering\n",
    "import hdbscan\n",
    "import random\n",
    "from sklearn.metrics import silhouette_samples, silhouette_score"
   ]
  },
  {
   "cell_type": "code",
   "execution_count": 3,
   "id": "a905f3d8-79bb-4b72-ba9d-98952c73acca",
   "metadata": {},
   "outputs": [],
   "source": [
    "import tensorflow as tf\n",
    "import tensorflow_hub as hub"
   ]
  },
  {
   "cell_type": "code",
   "execution_count": 4,
   "id": "fc4e428e-9320-435b-9c48-e7dca9f2c116",
   "metadata": {},
   "outputs": [
    {
     "data": {
      "text/html": [
       "<div>\n",
       "<style scoped>\n",
       "    .dataframe tbody tr th:only-of-type {\n",
       "        vertical-align: middle;\n",
       "    }\n",
       "\n",
       "    .dataframe tbody tr th {\n",
       "        vertical-align: top;\n",
       "    }\n",
       "\n",
       "    .dataframe thead th {\n",
       "        text-align: right;\n",
       "    }\n",
       "</style>\n",
       "<table border=\"1\" class=\"dataframe\">\n",
       "  <thead>\n",
       "    <tr style=\"text-align: right;\">\n",
       "      <th></th>\n",
       "      <th>Unnamed: 0</th>\n",
       "      <th>text</th>\n",
       "      <th>category</th>\n",
       "      <th>cleaned_text</th>\n",
       "    </tr>\n",
       "  </thead>\n",
       "  <tbody>\n",
       "    <tr>\n",
       "      <th>0</th>\n",
       "      <td>1024</td>\n",
       "      <td>I'm worried my card might be lost in the mail? How long does it usually take to arrive?</td>\n",
       "      <td>card_delivery_estimate</td>\n",
       "      <td>im worried card might lost mail long usually take arrive</td>\n",
       "    </tr>\n",
       "    <tr>\n",
       "      <th>1</th>\n",
       "      <td>9405</td>\n",
       "      <td>I got charged a fee that shouldn't be there from my cash</td>\n",
       "      <td>cash_withdrawal_charge</td>\n",
       "      <td>got charged fee shouldnt cash</td>\n",
       "    </tr>\n",
       "    <tr>\n",
       "      <th>2</th>\n",
       "      <td>9368</td>\n",
       "      <td>Do you charge for making a withdrawal? I took some money out of my account earlier and I was charged for this.</td>\n",
       "      <td>cash_withdrawal_charge</td>\n",
       "      <td>charge making withdrawal took money account earlier charged</td>\n",
       "    </tr>\n",
       "    <tr>\n",
       "      <th>3</th>\n",
       "      <td>3414</td>\n",
       "      <td>Is there an issue with my account?  I don't see a cheque deposit that I made yesterday.  Please assist.</td>\n",
       "      <td>balance_not_updated_after_cheque_or_cash_deposit</td>\n",
       "      <td>issue account dont see cheque deposit made yesterday please assist</td>\n",
       "    </tr>\n",
       "    <tr>\n",
       "      <th>4</th>\n",
       "      <td>7402</td>\n",
       "      <td>Are there ways for other people to send me money?</td>\n",
       "      <td>receiving_money</td>\n",
       "      <td>way people send money</td>\n",
       "    </tr>\n",
       "  </tbody>\n",
       "</table>\n",
       "</div>"
      ],
      "text/plain": [
       "   Unnamed: 0  \\\n",
       "0        1024   \n",
       "1        9405   \n",
       "2        9368   \n",
       "3        3414   \n",
       "4        7402   \n",
       "\n",
       "                                                                                                             text  \\\n",
       "0                         I'm worried my card might be lost in the mail? How long does it usually take to arrive?   \n",
       "1                                                        I got charged a fee that shouldn't be there from my cash   \n",
       "2  Do you charge for making a withdrawal? I took some money out of my account earlier and I was charged for this.   \n",
       "3         Is there an issue with my account?  I don't see a cheque deposit that I made yesterday.  Please assist.   \n",
       "4                                                               Are there ways for other people to send me money?   \n",
       "\n",
       "                                           category  \\\n",
       "0                            card_delivery_estimate   \n",
       "1                            cash_withdrawal_charge   \n",
       "2                            cash_withdrawal_charge   \n",
       "3  balance_not_updated_after_cheque_or_cash_deposit   \n",
       "4                                   receiving_money   \n",
       "\n",
       "                                                         cleaned_text  \n",
       "0            im worried card might lost mail long usually take arrive  \n",
       "1                                       got charged fee shouldnt cash  \n",
       "2         charge making withdrawal took money account earlier charged  \n",
       "3  issue account dont see cheque deposit made yesterday please assist  \n",
       "4                                               way people send money  "
      ]
     },
     "execution_count": 4,
     "metadata": {},
     "output_type": "execute_result"
    }
   ],
   "source": [
    "data_sample = pd.read_csv('../data/processed/data_sample.csv')\n",
    "data_sample.head()"
   ]
  },
  {
   "cell_type": "code",
   "execution_count": 5,
   "id": "ca71aa9b-c413-4ce9-b9ae-b619c7934d9b",
   "metadata": {},
   "outputs": [
    {
     "data": {
      "text/plain": [
       "0              im worried card might lost mail long usually take arrive\n",
       "1                                         got charged fee shouldnt cash\n",
       "2           charge making withdrawal took money account earlier charged\n",
       "3    issue account dont see cheque deposit made yesterday please assist\n",
       "4                                                 way people send money\n",
       "Name: cleaned_text, dtype: object"
      ]
     },
     "execution_count": 5,
     "metadata": {},
     "output_type": "execute_result"
    }
   ],
   "source": [
    "X = data_sample['cleaned_text']\n",
    "X.head()"
   ]
  },
  {
   "cell_type": "markdown",
   "id": "04df4291-7127-4f3d-a9b0-89d5be9b866a",
   "metadata": {},
   "source": [
    "### K-means with TF-IDF"
   ]
  },
  {
   "cell_type": "code",
   "execution_count": 6,
   "id": "a0c05083-c833-40bc-aff3-e19cbbdc8aef",
   "metadata": {},
   "outputs": [
    {
     "data": {
      "text/plain": [
       "(1000, 809)"
      ]
     },
     "execution_count": 6,
     "metadata": {},
     "output_type": "execute_result"
    }
   ],
   "source": [
    "tfidf_vectorizer = TfidfVectorizer()\n",
    "tfidf_transformed_vector = tfidf_vectorizer.fit_transform(X)\n",
    "tfidf_transformed_vector.shape"
   ]
  },
  {
   "cell_type": "code",
   "execution_count": 7,
   "id": "ff85d414-ca48-4a2a-8285-1dc87c689a8b",
   "metadata": {},
   "outputs": [
    {
     "data": {
      "text/plain": [
       "KMeans(max_iter=100, n_clusters=10, n_init=1)"
      ]
     },
     "execution_count": 7,
     "metadata": {},
     "output_type": "execute_result"
    }
   ],
   "source": [
    "k = 10\n",
    "kmeans = KMeans(n_clusters=k, init='k-means++', max_iter=100, n_init=1)\n",
    "kmeans.fit(tfidf_transformed_vector)"
   ]
  },
  {
   "cell_type": "code",
   "execution_count": 8,
   "id": "3cd6c6a7-5057-4521-ad30-3565f234d986",
   "metadata": {},
   "outputs": [
    {
     "data": {
      "text/plain": [
       "1000"
      ]
     },
     "execution_count": 8,
     "metadata": {},
     "output_type": "execute_result"
    }
   ],
   "source": [
    "len(kmeans.labels_)"
   ]
  },
  {
   "cell_type": "code",
   "execution_count": 9,
   "id": "55853f4f-78af-422e-82ba-7bb650a59baf",
   "metadata": {},
   "outputs": [],
   "source": [
    "def plot_kmeans(embeddings, k_range):\n",
    "    sse = []\n",
    "    silhouette_avg_n_clusters = []\n",
    "\n",
    "    for k in k_range:\n",
    "        kmeans = KMeans(n_clusters=k, init='k-means++', max_iter=100, n_init=1)\n",
    "        kmeans.fit(embeddings)\n",
    "        sse.append(kmeans.inertia_)\n",
    "\n",
    "        silhouette_avg = silhouette_score(embeddings, kmeans.predict(embeddings))\n",
    "        silhouette_avg_n_clusters.append(silhouette_avg)\n",
    "\n",
    "\n",
    "    # plot sse\n",
    "    fig, axes = plt.subplots(1, 2, figsize=(14, 6))\n",
    "    axes[0].plot(k_range, sse)\n",
    "    axes[0].set(xlabel = 'k clusters', ylabel = 'SSE', title = 'Elbow plot')\n",
    "    axes[0].grid()\n",
    "    \n",
    "    # plot avg silhouette score\n",
    "    axes[1].plot(k_range, silhouette_avg_n_clusters)\n",
    "    axes[1].set(xlabel = 'k clusters', ylabel = 'Silhouette score', title = 'Silhouette score')\n",
    "    axes[1].grid()\n",
    "\n",
    "    plt.show()"
   ]
  },
  {
   "cell_type": "code",
   "execution_count": 10,
   "id": "7fd75e92-6771-4b73-b699-c699156ee8f4",
   "metadata": {},
   "outputs": [
    {
     "data": {
      "image/png": "[encoded data removed]",
      "text/plain": [
       "<Figure size 1008x432 with 2 Axes>"
      ]
     },
     "metadata": {
      "needs_background": "light"
     },
     "output_type": "display_data"
    },
    {
     "name": "stdout",
     "output_type": "stream",
     "text": [
      "CPU times: user 42.1 s, sys: 1.14 s, total: 43.2 s\n",
      "Wall time: 13.3 s\n"
     ]
    }
   ],
   "source": [
    "%%time\n",
    "\n",
    "k_range = range(5, 121)\n",
    "\n",
    "plot_kmeans(tfidf_transformed_vector, k_range)"
   ]
  },
  {
   "cell_type": "markdown",
   "id": "7ebca3be-1012-4e0e-a778-86e7947b1533",
   "metadata": {},
   "source": [
    "### Sentence Embeddings"
   ]
  },
  {
   "cell_type": "markdown",
   "id": "7e32c76f-b1f5-4c15-a980-438218591a4d",
   "metadata": {},
   "source": [
    "Start with Universal Sentence Encoder (USE) as an example sentence embedding model."
   ]
  },
  {
   "cell_type": "code",
   "execution_count": 11,
   "id": "59410d6b-723c-40dd-bfeb-27d06e737ede",
   "metadata": {},
   "outputs": [
    {
     "name": "stdout",
     "output_type": "stream",
     "text": [
      "module https://tfhub.dev/google/universal-sentence-encoder/4 loaded\n"
     ]
    }
   ],
   "source": [
    "module_url = \"https://tfhub.dev/google/universal-sentence-encoder/4\"\n",
    "model_use = hub.load(module_url)\n",
    "\n",
    "print(f\"module {module_url} loaded\")"
   ]
  },
  {
   "cell_type": "code",
   "execution_count": 12,
   "id": "da9871b2-c6a4-4ac0-a487-2987e9a34055",
   "metadata": {},
   "outputs": [],
   "source": [
    "def embed_use(model, sentences):\n",
    "    return model(sentences)"
   ]
  },
  {
   "cell_type": "code",
   "execution_count": 20,
   "id": "b56400ff-0be2-4876-b776-6690e6ea4f4b",
   "metadata": {},
   "outputs": [
    {
     "data": {
      "text/plain": [
       "TensorShape([1000, 512])"
      ]
     },
     "execution_count": 20,
     "metadata": {},
     "output_type": "execute_result"
    }
   ],
   "source": [
    "use_embeddings = embed_use(model_use, X)\n",
    "use_embeddings.shape"
   ]
  },
  {
   "cell_type": "code",
   "execution_count": 13,
   "id": "83ea3802-4f2b-439d-a4f0-bf1750f1df47",
   "metadata": {},
   "outputs": [],
   "source": [
    "import tensorflow as tf\n",
    "import tensorflow_hub as hub\n",
    "from sentence_transformers import SentenceTransformer"
   ]
  },
  {
   "cell_type": "code",
   "execution_count": 25,
   "id": "d3e960de-1c73-4314-b3f1-e850620b5cdd",
   "metadata": {},
   "outputs": [
    {
     "data": {
      "text/plain": [
       "(1000, 768)"
      ]
     },
     "execution_count": 25,
     "metadata": {},
     "output_type": "execute_result"
    }
   ],
   "source": [
    "model_st = SentenceTransformer('all-mpnet-base-v2')\n",
    "st_embeddings = model_st.encode(X)\n",
    "st_embeddings.shape"
   ]
  },
  {
   "cell_type": "markdown",
   "id": "3f985e42-c0c9-48b4-a5be-f007050f8c77",
   "metadata": {},
   "source": [
    "#### Sentence Embeddings + Kmeans"
   ]
  },
  {
   "cell_type": "code",
   "execution_count": 15,
   "id": "28d44daa-7d30-41ff-bd44-587831d3464b",
   "metadata": {},
   "outputs": [
    {
     "data": {
      "image/png": "[encoded data removed]",
      "text/plain": [
       "<Figure size 1008x432 with 2 Axes>"
      ]
     },
     "metadata": {
      "needs_background": "light"
     },
     "output_type": "display_data"
    },
    {
     "name": "stdout",
     "output_type": "stream",
     "text": [
      "CPU times: user 1min 6s, sys: 3.38 s, total: 1min 9s\n",
      "Wall time: 23.8 s\n"
     ]
    }
   ],
   "source": [
    "%%time\n",
    "\n",
    "k_range = range(5, 101)\n",
    "\n",
    "plot_kmeans(st_embeddings, k_range)"
   ]
  },
  {
   "cell_type": "markdown",
   "id": "3c9fe85c-9baf-4907-aafd-7a0a855a560e",
   "metadata": {},
   "source": [
    "#### Sentence Embeddings + DBSCAN with "
   ]
  },
  {
   "cell_type": "code",
   "execution_count": 17,
   "id": "06795e34-62eb-47a5-aa12-5d02ba2f5152",
   "metadata": {},
   "outputs": [
    {
     "data": {
      "text/plain": [
       "36"
      ]
     },
     "execution_count": 17,
     "metadata": {},
     "output_type": "execute_result"
    }
   ],
   "source": [
    "db = DBSCAN(eps=0.25, min_samples=5, metric='cosine').fit(st_embeddings)\n",
    "labels = db.labels_\n",
    "len(np.unique(labels))"
   ]
  },
  {
   "cell_type": "code",
   "execution_count": 18,
   "id": "e1984b4f-62a9-4cde-b21a-88118b72218d",
   "metadata": {},
   "outputs": [
    {
     "data": {
      "text/plain": [
       "-0.07814484"
      ]
     },
     "execution_count": 18,
     "metadata": {},
     "output_type": "execute_result"
    }
   ],
   "source": [
    "silhouette_score(st_embeddings, labels, metric='cosine')"
   ]
  },
  {
   "cell_type": "code",
   "execution_count": 19,
   "id": "3888a755-6789-4269-a538-fb89b430385c",
   "metadata": {},
   "outputs": [],
   "source": [
    "def plot_dbscan_eps(embeddings, eps_range, min_samples_range):\n",
    "    silhouette_avg_n_clusters = {}\n",
    "\n",
    "    for min_samples in min_samples_range:\n",
    "        silhouette_avg_n_clusters[min_samples] = []\n",
    "        for eps in eps_range:\n",
    "            db = DBSCAN(eps=eps, min_samples=min_samples, metric='cosine').fit(embeddings)\n",
    "            labels = db.labels_\n",
    "\n",
    "            if len(np.unique(labels)) > 1:\n",
    "                silhouette_avg = silhouette_score(embeddings, labels, metric='cosine')\n",
    "            else:\n",
    "                silhouette_av = -1\n",
    "            silhouette_avg_n_clusters[min_samples].append(silhouette_avg)\n",
    "\n",
    "    \n",
    "    # plot avg silhouette score\n",
    "    fig, ax = plt.subplots(figsize=(8,5))\n",
    "    for key, value in silhouette_avg_n_clusters.items():\n",
    "        ax.plot(eps_range, silhouette_avg_n_clusters[key], label = key)\n",
    "    \n",
    "    ax.set(xlabel = 'epsilon', ylabel = 'Silhouette score', title = 'Silhouette score')\n",
    "    ax.grid()\n",
    "    plt.legend()\n",
    "    plt.show()"
   ]
  },
  {
   "cell_type": "code",
   "execution_count": 20,
   "id": "a3b6031f-2f19-4ffc-ae0c-f4bd8fb2e1cd",
   "metadata": {},
   "outputs": [
    {
     "data": {
      "image/png": "[encoded data removed]",
      "text/plain": [
       "<Figure size 576x360 with 1 Axes>"
      ]
     },
     "metadata": {
      "needs_background": "light"
     },
     "output_type": "display_data"
    }
   ],
   "source": [
    "eps_range = np.arange(0.2, 1, 0.025)\n",
    "min_samples_range = range(2, 11)\n",
    "plot_dbscan_eps(st_embeddings, eps_range, min_samples_range)"
   ]
  },
  {
   "cell_type": "code",
   "execution_count": 21,
   "id": "00b33d04-1053-4e8a-8af6-682fab1a258d",
   "metadata": {},
   "outputs": [
    {
     "data": {
      "text/plain": [
       "2"
      ]
     },
     "execution_count": 21,
     "metadata": {},
     "output_type": "execute_result"
    }
   ],
   "source": [
    "db = DBSCAN(eps=0.6, min_samples=5, metric='cosine').fit(st_embeddings)\n",
    "labels = db.labels_\n",
    "len(np.unique(labels))"
   ]
  },
  {
   "cell_type": "code",
   "execution_count": 22,
   "id": "cb804c48-4e22-41d0-87c4-8ec79a309f32",
   "metadata": {},
   "outputs": [
    {
     "data": {
      "text/plain": [
       "0.1330917"
      ]
     },
     "execution_count": 22,
     "metadata": {},
     "output_type": "execute_result"
    }
   ],
   "source": [
    "silhouette_score(st_embeddings, labels, metric='cosine')"
   ]
  },
  {
   "cell_type": "markdown",
   "id": "a93f6f62-1ad8-4784-a381-f25b31cba645",
   "metadata": {},
   "source": [
    "### Hierarchical clustering"
   ]
  },
  {
   "cell_type": "code",
   "execution_count": 26,
   "id": "a0a6e23f-ce7b-4363-893e-4b0db97f0b23",
   "metadata": {},
   "outputs": [],
   "source": [
    "# Normalize the embeddings to unit length\n",
    "st_embeddings_norm = st_embeddings /  np.linalg.norm(st_embeddings, axis=1, keepdims=True)"
   ]
  },
  {
   "cell_type": "code",
   "execution_count": 27,
   "id": "45b38395-cf3e-49aa-a256-e4ca9e70e8de",
   "metadata": {},
   "outputs": [
    {
     "data": {
      "text/plain": [
       "109"
      ]
     },
     "execution_count": 27,
     "metadata": {},
     "output_type": "execute_result"
    }
   ],
   "source": [
    "# Perform clustering\n",
    "agglom_model = AgglomerativeClustering(n_clusters=None, distance_threshold=1.5)\n",
    "agglom_model.fit(st_embeddings_norm)\n",
    "cluster_assignment = agglom_model.labels_\n",
    "\n",
    "len(np.unique(cluster_assignment))"
   ]
  },
  {
   "cell_type": "markdown",
   "id": "85032d3c-2147-4780-b230-dbe0b52561bc",
   "metadata": {},
   "source": [
    "### HDBSCAN"
   ]
  },
  {
   "cell_type": "code",
   "execution_count": 28,
   "id": "89cf70ad-8277-4d60-bfd1-cd3d7bb3fe3a",
   "metadata": {},
   "outputs": [
    {
     "data": {
      "text/plain": [
       "222"
      ]
     },
     "execution_count": 28,
     "metadata": {},
     "output_type": "execute_result"
    }
   ],
   "source": [
    "clusters_hdbscan = hdbscan.HDBSCAN(min_cluster_size=2, \n",
    "                                   metric='euclidean', \n",
    "                                   cluster_selection_method='eom').fit(st_embeddings)\n",
    "\n",
    "labels = clusters_hdbscan.labels_\n",
    "len(np.unique(labels))"
   ]
  },
  {
   "cell_type": "code",
   "execution_count": 29,
   "id": "334cf57b-6ace-4558-be66-61b487484be6",
   "metadata": {},
   "outputs": [
    {
     "data": {
      "text/plain": [
       "-1      337\n",
       " 188     11\n",
       " 156      8\n",
       " 149      8\n",
       " 139      8\n",
       " 94       7\n",
       " 200      7\n",
       " 183      7\n",
       " 111      7\n",
       " 171      6\n",
       "dtype: int64"
      ]
     },
     "execution_count": 29,
     "metadata": {},
     "output_type": "execute_result"
    }
   ],
   "source": [
    "pd.Series(labels).value_counts().head(10)"
   ]
  },
  {
   "cell_type": "code",
   "execution_count": 30,
   "id": "4e149fbe-6b0d-4dfd-a91f-73593657f3b3",
   "metadata": {},
   "outputs": [],
   "source": [
    "def random_search(embeddings, space, num_evals):\n",
    "    \n",
    "    results = []\n",
    "    \n",
    "    for i in range(num_evals):\n",
    "        min_cluster_size = random.choice(space['min_cluster_size'])\n",
    "        min_samples = random.choice(space['min_samples'])\n",
    "        \n",
    "        clusters_hdbscan = (hdbscan.HDBSCAN(min_cluster_size=min_cluster_size,\n",
    "                                           min_samples = min_samples,\n",
    "                                           metric='euclidean', \n",
    "                                           cluster_selection_method='eom') \n",
    "                                           .fit(embeddings))\n",
    "    \n",
    "        labels = clusters_hdbscan.labels_\n",
    "        label_count = len(np.unique(labels))\n",
    "        \n",
    "        total_num = len(clusters_hdbscan.labels_)\n",
    "        cost = (np.count_nonzero(clusters_hdbscan.probabilities_ < 0.05)/total_num) \n",
    "                \n",
    "        results.append([i, min_cluster_size, min_samples, label_count, cost])\n",
    "    \n",
    "    result_df = pd.DataFrame(results, columns=['run_id', 'min_cluster_size', 'min_samples', \n",
    "                                               'label_count', 'cost'])\n",
    "    \n",
    "    return result_df.sort_values(by='cost')"
   ]
  },
  {
   "cell_type": "code",
   "execution_count": 31,
   "id": "d3eb1820-c22e-44f8-9d83-b929bac4b869",
   "metadata": {},
   "outputs": [
    {
     "name": "stdout",
     "output_type": "stream",
     "text": [
      "CPU times: user 2min 6s, sys: 756 ms, total: 2min 7s\n",
      "Wall time: 2min 11s\n"
     ]
    },
    {
     "data": {
      "text/html": [
       "<div>\n",
       "<style scoped>\n",
       "    .dataframe tbody tr th:only-of-type {\n",
       "        vertical-align: middle;\n",
       "    }\n",
       "\n",
       "    .dataframe tbody tr th {\n",
       "        vertical-align: top;\n",
       "    }\n",
       "\n",
       "    .dataframe thead th {\n",
       "        text-align: right;\n",
       "    }\n",
       "</style>\n",
       "<table border=\"1\" class=\"dataframe\">\n",
       "  <thead>\n",
       "    <tr style=\"text-align: right;\">\n",
       "      <th></th>\n",
       "      <th>run_id</th>\n",
       "      <th>min_cluster_size</th>\n",
       "      <th>min_samples</th>\n",
       "      <th>label_count</th>\n",
       "      <th>cost</th>\n",
       "    </tr>\n",
       "  </thead>\n",
       "  <tbody>\n",
       "    <tr>\n",
       "      <th>53</th>\n",
       "      <td>53</td>\n",
       "      <td>2</td>\n",
       "      <td>11</td>\n",
       "      <td>3</td>\n",
       "      <td>0.043</td>\n",
       "    </tr>\n",
       "    <tr>\n",
       "      <th>91</th>\n",
       "      <td>91</td>\n",
       "      <td>2</td>\n",
       "      <td>8</td>\n",
       "      <td>3</td>\n",
       "      <td>0.055</td>\n",
       "    </tr>\n",
       "    <tr>\n",
       "      <th>2</th>\n",
       "      <td>2</td>\n",
       "      <td>14</td>\n",
       "      <td>4</td>\n",
       "      <td>3</td>\n",
       "      <td>0.171</td>\n",
       "    </tr>\n",
       "    <tr>\n",
       "      <th>19</th>\n",
       "      <td>19</td>\n",
       "      <td>12</td>\n",
       "      <td>6</td>\n",
       "      <td>3</td>\n",
       "      <td>0.191</td>\n",
       "    </tr>\n",
       "    <tr>\n",
       "      <th>73</th>\n",
       "      <td>73</td>\n",
       "      <td>2</td>\n",
       "      <td>14</td>\n",
       "      <td>3</td>\n",
       "      <td>0.231</td>\n",
       "    </tr>\n",
       "    <tr>\n",
       "      <th>1</th>\n",
       "      <td>1</td>\n",
       "      <td>4</td>\n",
       "      <td>11</td>\n",
       "      <td>3</td>\n",
       "      <td>0.306</td>\n",
       "    </tr>\n",
       "    <tr>\n",
       "      <th>72</th>\n",
       "      <td>72</td>\n",
       "      <td>9</td>\n",
       "      <td>8</td>\n",
       "      <td>4</td>\n",
       "      <td>0.326</td>\n",
       "    </tr>\n",
       "    <tr>\n",
       "      <th>98</th>\n",
       "      <td>98</td>\n",
       "      <td>6</td>\n",
       "      <td>12</td>\n",
       "      <td>3</td>\n",
       "      <td>0.342</td>\n",
       "    </tr>\n",
       "    <tr>\n",
       "      <th>60</th>\n",
       "      <td>60</td>\n",
       "      <td>5</td>\n",
       "      <td>12</td>\n",
       "      <td>3</td>\n",
       "      <td>0.342</td>\n",
       "    </tr>\n",
       "    <tr>\n",
       "      <th>61</th>\n",
       "      <td>61</td>\n",
       "      <td>27</td>\n",
       "      <td>3</td>\n",
       "      <td>3</td>\n",
       "      <td>0.361</td>\n",
       "    </tr>\n",
       "    <tr>\n",
       "      <th>77</th>\n",
       "      <td>77</td>\n",
       "      <td>28</td>\n",
       "      <td>3</td>\n",
       "      <td>3</td>\n",
       "      <td>0.361</td>\n",
       "    </tr>\n",
       "    <tr>\n",
       "      <th>79</th>\n",
       "      <td>79</td>\n",
       "      <td>3</td>\n",
       "      <td>17</td>\n",
       "      <td>3</td>\n",
       "      <td>0.368</td>\n",
       "    </tr>\n",
       "    <tr>\n",
       "      <th>65</th>\n",
       "      <td>65</td>\n",
       "      <td>6</td>\n",
       "      <td>13</td>\n",
       "      <td>3</td>\n",
       "      <td>0.374</td>\n",
       "    </tr>\n",
       "    <tr>\n",
       "      <th>95</th>\n",
       "      <td>95</td>\n",
       "      <td>4</td>\n",
       "      <td>13</td>\n",
       "      <td>3</td>\n",
       "      <td>0.374</td>\n",
       "    </tr>\n",
       "    <tr>\n",
       "      <th>14</th>\n",
       "      <td>14</td>\n",
       "      <td>9</td>\n",
       "      <td>9</td>\n",
       "      <td>4</td>\n",
       "      <td>0.377</td>\n",
       "    </tr>\n",
       "    <tr>\n",
       "      <th>96</th>\n",
       "      <td>96</td>\n",
       "      <td>7</td>\n",
       "      <td>10</td>\n",
       "      <td>4</td>\n",
       "      <td>0.419</td>\n",
       "    </tr>\n",
       "    <tr>\n",
       "      <th>35</th>\n",
       "      <td>35</td>\n",
       "      <td>2</td>\n",
       "      <td>15</td>\n",
       "      <td>3</td>\n",
       "      <td>0.425</td>\n",
       "    </tr>\n",
       "    <tr>\n",
       "      <th>55</th>\n",
       "      <td>55</td>\n",
       "      <td>20</td>\n",
       "      <td>4</td>\n",
       "      <td>4</td>\n",
       "      <td>0.429</td>\n",
       "    </tr>\n",
       "    <tr>\n",
       "      <th>58</th>\n",
       "      <td>58</td>\n",
       "      <td>22</td>\n",
       "      <td>4</td>\n",
       "      <td>4</td>\n",
       "      <td>0.429</td>\n",
       "    </tr>\n",
       "    <tr>\n",
       "      <th>90</th>\n",
       "      <td>90</td>\n",
       "      <td>9</td>\n",
       "      <td>2</td>\n",
       "      <td>29</td>\n",
       "      <td>0.449</td>\n",
       "    </tr>\n",
       "  </tbody>\n",
       "</table>\n",
       "</div>"
      ],
      "text/plain": [
       "    run_id  min_cluster_size  min_samples  label_count   cost\n",
       "53      53                 2           11            3  0.043\n",
       "91      91                 2            8            3  0.055\n",
       "2        2                14            4            3  0.171\n",
       "19      19                12            6            3  0.191\n",
       "73      73                 2           14            3  0.231\n",
       "1        1                 4           11            3  0.306\n",
       "72      72                 9            8            4  0.326\n",
       "98      98                 6           12            3  0.342\n",
       "60      60                 5           12            3  0.342\n",
       "61      61                27            3            3  0.361\n",
       "77      77                28            3            3  0.361\n",
       "79      79                 3           17            3  0.368\n",
       "65      65                 6           13            3  0.374\n",
       "95      95                 4           13            3  0.374\n",
       "14      14                 9            9            4  0.377\n",
       "96      96                 7           10            4  0.419\n",
       "35      35                 2           15            3  0.425\n",
       "55      55                20            4            4  0.429\n",
       "58      58                22            4            4  0.429\n",
       "90      90                 9            2           29  0.449"
      ]
     },
     "execution_count": 31,
     "metadata": {},
     "output_type": "execute_result"
    }
   ],
   "source": [
    "%%time\n",
    "\n",
    "space = {\n",
    "    \"min_cluster_size\": range(2, 30),\n",
    "    \"min_samples\": range(2, 30)\n",
    "}\n",
    "\n",
    "random_search(st_embeddings, space, num_evals=100).head(20)"
   ]
  },
  {
   "cell_type": "code",
   "execution_count": null,
   "id": "bb26cf98-b1be-4d83-b8c0-428368680e1b",
   "metadata": {},
   "outputs": [],
   "source": []
  }
 ],
 "metadata": {
  "kernelspec": {
   "display_name": "Python 3",
   "language": "python",
   "name": "python3"
  },
  "language_info": {
   "codemirror_mode": {
    "name": "ipython",
    "version": 3
   },
   "file_extension": ".py",
   "mimetype": "text/x-python",
   "name": "python",
   "nbconvert_exporter": "python",
   "pygments_lexer": "ipython3",
   "version": "3.9.6"
  }
 },
 "nbformat": 4,
 "nbformat_minor": 5
}
