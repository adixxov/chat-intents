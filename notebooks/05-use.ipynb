{
 "cells": [
  {
   "cell_type": "markdown",
   "id": "3f8bcc5e-f730-43a6-9084-5e2338b0c244",
   "metadata": {},
   "source": [
    "# Chat Intents\n",
    "\n",
    "## UMAP + Clustering"
   ]
  },
  {
   "cell_type": "code",
   "execution_count": 2,
   "id": "3c6fb567-223a-4f20-8895-b4352b7ea567",
   "metadata": {},
   "outputs": [],
   "source": [
    "import numpy as np\n",
    "import pandas as pd\n",
    "\n",
    "pd.set_option(\"display.max_rows\", 600)\n",
    "pd.set_option(\"display.max_columns\", 500)\n",
    "pd.set_option(\"max_colwidth\", 400)\n",
    "\n",
    "import matplotlib.pyplot as plt\n",
    "from sklearn.feature_extraction.text import CountVectorizer\n",
    "\n",
    "from sklearn.cluster import KMeans\n",
    "from sklearn.cluster import DBSCAN\n",
    "import hdbscan\n",
    "from sklearn.metrics import silhouette_samples, silhouette_score\n",
    "from sklearn.metrics.cluster import normalized_mutual_info_score\n",
    "from sklearn.metrics.cluster import adjusted_rand_score\n",
    "\n",
    "import umap\n",
    "\n",
    "from tqdm.notebook import tqdm, trange\n",
    "from hyperopt import fmin, tpe, hp, STATUS_OK, space_eval, Trials"
   ]
  },
  {
   "cell_type": "code",
   "execution_count": 11,
   "id": "c37b0de2-6b5b-47be-8c08-4c29c3d1f1ab",
   "metadata": {},
   "outputs": [],
   "source": [
    "import tensorflow as tf\n",
    "import tensorflow_hub as hub"
   ]
  },
  {
   "cell_type": "code",
   "execution_count": 12,
   "id": "fcc2a159-0d7c-4fb0-a118-1dff55161cde",
   "metadata": {},
   "outputs": [],
   "source": [
    "from sentence_transformers import SentenceTransformer"
   ]
  },
  {
   "cell_type": "code",
   "execution_count": 14,
   "id": "7cd3c824-2a63-4b01-9a6b-7aae1d132d5e",
   "metadata": {},
   "outputs": [
    {
     "name": "stderr",
     "output_type": "stream",
     "text": [
      "INFO:absl:Downloading TF-Hub Module 'https://tfhub.dev/google/universal-sentence-encoder/4'.\n",
      "INFO:absl:Downloading https://tfhub.dev/google/universal-sentence-encoder/4: 230.00MB\n",
      "INFO:absl:Downloading https://tfhub.dev/google/universal-sentence-encoder/4: 460.00MB\n",
      "INFO:absl:Downloading https://tfhub.dev/google/universal-sentence-encoder/4: 690.00MB\n",
      "INFO:absl:Downloading https://tfhub.dev/google/universal-sentence-encoder/4: 920.00MB\n",
      "INFO:absl:Downloaded https://tfhub.dev/google/universal-sentence-encoder/4, Total size: 987.47MB\n",
      "INFO:absl:Downloaded TF-Hub Module 'https://tfhub.dev/google/universal-sentence-encoder/4'.\n"
     ]
    },
    {
     "name": "stdout",
     "output_type": "stream",
     "text": [
      "module https://tfhub.dev/google/universal-sentence-encoder/4 loaded\n"
     ]
    }
   ],
   "source": [
    "module_url = \"https://tfhub.dev/google/universal-sentence-encoder/4\"\n",
    "model_use = hub.load(module_url)\n",
    "\n",
    "print(f\"module {module_url} loaded\")"
   ]
  },
  {
   "cell_type": "code",
   "execution_count": 15,
   "id": "97016d39-1ffd-4efa-aa25-4cc53fe71ff0",
   "metadata": {},
   "outputs": [],
   "source": [
    "model_st1 = SentenceTransformer('paraphrase-mpnet-base-v2')"
   ]
  },
  {
   "cell_type": "code",
   "execution_count": 16,
   "id": "a97675ac-dcb0-4bf2-83a9-48ef9249d9da",
   "metadata": {},
   "outputs": [
    {
     "data": {
      "text/html": [
       "<div>\n",
       "<style scoped>\n",
       "    .dataframe tbody tr th:only-of-type {\n",
       "        vertical-align: middle;\n",
       "    }\n",
       "\n",
       "    .dataframe tbody tr th {\n",
       "        vertical-align: top;\n",
       "    }\n",
       "\n",
       "    .dataframe thead th {\n",
       "        text-align: right;\n",
       "    }\n",
       "</style>\n",
       "<table border=\"1\" class=\"dataframe\">\n",
       "  <thead>\n",
       "    <tr style=\"text-align: right;\">\n",
       "      <th></th>\n",
       "      <th>Unnamed: 0</th>\n",
       "      <th>text</th>\n",
       "      <th>category</th>\n",
       "      <th>cleaned_text</th>\n",
       "    </tr>\n",
       "  </thead>\n",
       "  <tbody>\n",
       "    <tr>\n",
       "      <th>0</th>\n",
       "      <td>1024</td>\n",
       "      <td>I'm worried my card might be lost in the mail? How long does it usually take to arrive?</td>\n",
       "      <td>card_delivery_estimate</td>\n",
       "      <td>im worried card might lost mail long usually take arrive</td>\n",
       "    </tr>\n",
       "    <tr>\n",
       "      <th>1</th>\n",
       "      <td>9405</td>\n",
       "      <td>I got charged a fee that shouldn't be there from my cash</td>\n",
       "      <td>cash_withdrawal_charge</td>\n",
       "      <td>got charged fee shouldnt cash</td>\n",
       "    </tr>\n",
       "    <tr>\n",
       "      <th>2</th>\n",
       "      <td>9368</td>\n",
       "      <td>Do you charge for making a withdrawal? I took some money out of my account earlier and I was charged for this.</td>\n",
       "      <td>cash_withdrawal_charge</td>\n",
       "      <td>charge making withdrawal took money account earlier charged</td>\n",
       "    </tr>\n",
       "    <tr>\n",
       "      <th>3</th>\n",
       "      <td>3414</td>\n",
       "      <td>Is there an issue with my account?  I don't see a cheque deposit that I made yesterday.  Please assist.</td>\n",
       "      <td>balance_not_updated_after_cheque_or_cash_deposit</td>\n",
       "      <td>issue account dont see cheque deposit made yesterday please assist</td>\n",
       "    </tr>\n",
       "    <tr>\n",
       "      <th>4</th>\n",
       "      <td>7402</td>\n",
       "      <td>Are there ways for other people to send me money?</td>\n",
       "      <td>receiving_money</td>\n",
       "      <td>way people send money</td>\n",
       "    </tr>\n",
       "  </tbody>\n",
       "</table>\n",
       "</div>"
      ],
      "text/plain": [
       "   Unnamed: 0  \\\n",
       "0        1024   \n",
       "1        9405   \n",
       "2        9368   \n",
       "3        3414   \n",
       "4        7402   \n",
       "\n",
       "                                                                                                             text  \\\n",
       "0                         I'm worried my card might be lost in the mail? How long does it usually take to arrive?   \n",
       "1                                                        I got charged a fee that shouldn't be there from my cash   \n",
       "2  Do you charge for making a withdrawal? I took some money out of my account earlier and I was charged for this.   \n",
       "3         Is there an issue with my account?  I don't see a cheque deposit that I made yesterday.  Please assist.   \n",
       "4                                                               Are there ways for other people to send me money?   \n",
       "\n",
       "                                           category  \\\n",
       "0                            card_delivery_estimate   \n",
       "1                            cash_withdrawal_charge   \n",
       "2                            cash_withdrawal_charge   \n",
       "3  balance_not_updated_after_cheque_or_cash_deposit   \n",
       "4                                   receiving_money   \n",
       "\n",
       "                                                         cleaned_text  \n",
       "0            im worried card might lost mail long usually take arrive  \n",
       "1                                       got charged fee shouldnt cash  \n",
       "2         charge making withdrawal took money account earlier charged  \n",
       "3  issue account dont see cheque deposit made yesterday please assist  \n",
       "4                                               way people send money  "
      ]
     },
     "execution_count": 16,
     "metadata": {},
     "output_type": "execute_result"
    }
   ],
   "source": [
    "data_sample = pd.read_csv('../data/processed/data_sample.csv')\n",
    "data_sample.head()"
   ]
  },
  {
   "cell_type": "code",
   "execution_count": 17,
   "id": "b53dbf49-2707-4f49-900c-6de896900818",
   "metadata": {},
   "outputs": [],
   "source": [
    "def embed_use(model, sentences):\n",
    "    return model(sentences)\n",
    "\n",
    "def embed_st(model, sentences):\n",
    "    return model.encode(sentences)"
   ]
  },
  {
   "cell_type": "code",
   "execution_count": 30,
   "id": "85b9e3c0-8ff5-4fd7-a8a3-37c009e444cc",
   "metadata": {
    "scrolled": true,
    "tags": []
   },
   "outputs": [
    {
     "data": {
      "text/plain": [
       "TensorShape([1, 512])"
      ]
     },
     "execution_count": 30,
     "metadata": {},
     "output_type": "execute_result"
    }
   ],
   "source": [
    "embed_use(model_use, [data_sample.loc[0, 'text']]).shape"
   ]
  },
  {
   "cell_type": "code",
   "execution_count": 31,
   "id": "2d0c4198-996c-444c-8db3-cf80ae4b9242",
   "metadata": {},
   "outputs": [
    {
     "data": {
      "text/plain": [
       "(1, 768)"
      ]
     },
     "execution_count": 31,
     "metadata": {},
     "output_type": "execute_result"
    }
   ],
   "source": [
    "embed_st(model_st1, [data_sample.loc[0, 'text']]).shape"
   ]
  },
  {
   "cell_type": "code",
   "execution_count": 32,
   "id": "ddc170db-1e83-4217-98a5-1d97b4543558",
   "metadata": {},
   "outputs": [
    {
     "data": {
      "text/plain": [
       "1000"
      ]
     },
     "execution_count": 32,
     "metadata": {},
     "output_type": "execute_result"
    }
   ],
   "source": [
    "all_intents = list(data_sample['text'])\n",
    "len(all_intents)"
   ]
  },
  {
   "cell_type": "markdown",
   "id": "5d24ecea-ad84-4c5a-b97e-07ba1a89b38f",
   "metadata": {},
   "source": [
    "## Clustering without dimensionality reduction"
   ]
  },
  {
   "cell_type": "markdown",
   "id": "37c47aa0-da49-4d83-8c54-ba53409fe4fe",
   "metadata": {},
   "source": [
    "### K-means"
   ]
  },
  {
   "cell_type": "code",
   "execution_count": 8,
   "id": "c998b293-240a-4d3d-a8ba-12c4fbc006b0",
   "metadata": {},
   "outputs": [],
   "source": [
    "def plot_kmeans(X, k_range):\n",
    "    sse = []\n",
    "    silhouette_avg_n_clusters = []\n",
    "\n",
    "    for k in k_range:\n",
    "        kmeans = KMeans(n_clusters=k, init='k-means++', max_iter=100, n_init=1)\n",
    "        kmeans.fit(X)\n",
    "        sse.append(kmeans.inertia_)\n",
    "\n",
    "        silhouette_avg = silhouette_score(X, kmeans.predict(X))\n",
    "        silhouette_avg_n_clusters.append(silhouette_avg)\n",
    "\n",
    "\n",
    "    # plot sse\n",
    "    fig, axes = plt.subplots(1, 2, figsize=(14, 6))\n",
    "    axes[0].plot(k_range, sse)\n",
    "    axes[0].set(xlabel = 'k clusters', ylabel = 'SSE', title = 'Elbow plot')\n",
    "    axes[0].grid()\n",
    "    \n",
    "    # plot avg silhouette score\n",
    "    axes[1].plot(k_range, silhouette_avg_n_clusters)\n",
    "    axes[1].set(xlabel = 'k clusters', ylabel = 'Silhouette score', title = 'Silhouette score')\n",
    "    axes[1].grid()\n",
    "\n",
    "    plt.show()"
   ]
  },
  {
   "cell_type": "code",
   "execution_count": 9,
   "id": "01a24c09-7842-41f6-99c0-f198332ae663",
   "metadata": {},
   "outputs": [
    {
     "data": {
      "image/png": "[encoded data removed]",
      "text/plain": [
       "<Figure size 1008x432 with 2 Axes>"
      ]
     },
     "metadata": {
      "needs_background": "light"
     },
     "output_type": "display_data"
    },
    {
     "name": "stdout",
     "output_type": "stream",
     "text": [
      "CPU times: user 42.9 s, sys: 1.7 s, total: 44.6 s\n",
      "Wall time: 14.4 s\n"
     ]
    }
   ],
   "source": [
    "%%time\n",
    "\n",
    "X = intents_embeddings\n",
    "k_range = range(5, 101)\n",
    "\n",
    "plot_kmeans(X, k_range)"
   ]
  },
  {
   "cell_type": "markdown",
   "id": "f80a057a-dec5-4c3e-8028-b00f39d8ddb2",
   "metadata": {},
   "source": [
    "### DBSCAN"
   ]
  },
  {
   "cell_type": "code",
   "execution_count": 10,
   "id": "e0e9c5b5-be4f-4155-91c2-930fe69fcf90",
   "metadata": {},
   "outputs": [
    {
     "data": {
      "text/plain": [
       "21"
      ]
     },
     "execution_count": 10,
     "metadata": {},
     "output_type": "execute_result"
    }
   ],
   "source": [
    "db = DBSCAN(eps=0.25, min_samples=5, metric='cosine').fit(X)\n",
    "labels = db.labels_\n",
    "len(np.unique(labels))"
   ]
  },
  {
   "cell_type": "code",
   "execution_count": 11,
   "id": "118816d4-0312-4ae8-a221-6a993453e0ab",
   "metadata": {},
   "outputs": [
    {
     "data": {
      "text/plain": [
       "1000"
      ]
     },
     "execution_count": 11,
     "metadata": {},
     "output_type": "execute_result"
    }
   ],
   "source": [
    "len(labels)"
   ]
  },
  {
   "cell_type": "code",
   "execution_count": 12,
   "id": "b26f1759-0bff-4b0b-b574-7255f2fc5fcf",
   "metadata": {},
   "outputs": [
    {
     "data": {
      "text/plain": [
       "-0.19035175"
      ]
     },
     "execution_count": 12,
     "metadata": {},
     "output_type": "execute_result"
    }
   ],
   "source": [
    "silhouette_score(X, labels, metric='cosine')"
   ]
  },
  {
   "cell_type": "code",
   "execution_count": 94,
   "id": "36a51519-86f9-431f-a496-645fddbef79e",
   "metadata": {},
   "outputs": [],
   "source": [
    "def plot_dbscan(X, eps_range):\n",
    "    silhouette_avg_n_clusters = []\n",
    "    silhouette_avg = -1\n",
    "\n",
    "    for eps in eps_range:\n",
    "        db = DBSCAN(eps=eps, min_samples=3, metric='cosine').fit(X)\n",
    "        labels = db.labels_\n",
    "\n",
    "        if len(np.unique(labels)) > 1:\n",
    "            silhouette_avg = silhouette_score(X, labels, metric='cosine')\n",
    "        else:\n",
    "            silhouette_av = -1\n",
    "        silhouette_avg_n_clusters.append(silhouette_avg)\n",
    "\n",
    "    \n",
    "    # plot avg silhouette score\n",
    "    fig, ax = plt.subplots(figsize=(8,5))\n",
    "    ax.plot(eps_range, silhouette_avg_n_clusters)\n",
    "    ax.set(xlabel = 'k clusters', ylabel = 'Silhouette score', title = 'Silhouette score')\n",
    "    ax.grid()\n",
    "\n",
    "    plt.show()"
   ]
  },
  {
   "cell_type": "code",
   "execution_count": 95,
   "id": "33333636-c300-4b06-addf-1259119e7877",
   "metadata": {},
   "outputs": [
    {
     "data": {
      "image/png": "[encoded data removed]",
      "text/plain": [
       "<Figure size 576x360 with 1 Axes>"
      ]
     },
     "metadata": {
      "needs_background": "light"
     },
     "output_type": "display_data"
    }
   ],
   "source": [
    "eps_range = np.arange(0.2, 0.7, 0.025)\n",
    "plot_dbscan(X, eps_range)"
   ]
  },
  {
   "cell_type": "code",
   "execution_count": 96,
   "id": "35b3b125-ff4c-47d4-840a-38ec54f6d515",
   "metadata": {},
   "outputs": [
    {
     "data": {
      "text/plain": [
       "3"
      ]
     },
     "execution_count": 96,
     "metadata": {},
     "output_type": "execute_result"
    }
   ],
   "source": [
    "db = DBSCAN(eps=0.5, min_samples=3, metric='cosine').fit(X)\n",
    "labels = db.labels_\n",
    "len(np.unique(labels))"
   ]
  },
  {
   "cell_type": "code",
   "execution_count": 97,
   "id": "4d2476c4-6d2e-4efe-94c6-ee7778b4bdcc",
   "metadata": {},
   "outputs": [
    {
     "data": {
      "text/plain": [
       "0.099877276"
      ]
     },
     "execution_count": 97,
     "metadata": {},
     "output_type": "execute_result"
    }
   ],
   "source": [
    "silhouette_score(X, labels, metric='cosine')"
   ]
  },
  {
   "cell_type": "markdown",
   "id": "16ce0339-a8d7-42c8-a749-b55f7c980af7",
   "metadata": {},
   "source": [
    "### HDBSCAN"
   ]
  },
  {
   "cell_type": "code",
   "execution_count": 13,
   "id": "a23299d2-7f8e-42fa-938e-85a5843388f6",
   "metadata": {},
   "outputs": [
    {
     "data": {
      "text/plain": [
       "204"
      ]
     },
     "execution_count": 13,
     "metadata": {},
     "output_type": "execute_result"
    }
   ],
   "source": [
    "X = intents_embeddings\n",
    "clusters_hdbscan = hdbscan.HDBSCAN(min_cluster_size=2, \n",
    "                                   metric='euclidean', \n",
    "                                   cluster_selection_method='eom').fit(X)\n",
    "\n",
    "labels = clusters_hdbscan.labels_\n",
    "len(np.unique(labels))"
   ]
  },
  {
   "cell_type": "code",
   "execution_count": 14,
   "id": "86f708ee-5fdc-442e-b526-23f5becd8485",
   "metadata": {},
   "outputs": [
    {
     "data": {
      "text/plain": [
       "355"
      ]
     },
     "execution_count": 14,
     "metadata": {},
     "output_type": "execute_result"
    }
   ],
   "source": [
    "np.count_nonzero(clusters_hdbscan.probabilities_ < 0.05)"
   ]
  },
  {
   "cell_type": "markdown",
   "id": "2b2f243e-1f22-48ad-a504-374a2de161ec",
   "metadata": {},
   "source": [
    "## Clustering with dimensionality reduction"
   ]
  },
  {
   "cell_type": "code",
   "execution_count": 143,
   "id": "c0500d9f-6da3-427a-9287-fe5bf78ac33a",
   "metadata": {},
   "outputs": [],
   "source": [
    "def generate_clusters(message_embeddings, \n",
    "                      n_neighbors = 4, \n",
    "                      n_components = 5, \n",
    "                      min_cluster_size = 4, \n",
    "                      random_state = None):\n",
    "    \n",
    "    umap_embeddings = (umap.UMAP(n_neighbors = n_neighbors, \n",
    "                                n_components = n_components, \n",
    "                                metric = 'cosine', \n",
    "                                random_state=random_state)\n",
    "                            .fit_transform(message_embeddings))\n",
    "\n",
    "    cluster = hdbscan.HDBSCAN(min_cluster_size = min_cluster_size, \n",
    "                              metric='euclidean', \n",
    "                              cluster_selection_method='eom').fit(umap_embeddings)\n",
    "    return cluster"
   ]
  },
  {
   "cell_type": "code",
   "execution_count": 144,
   "id": "6a051571-522d-4ace-99ad-a46af0f46e1f",
   "metadata": {},
   "outputs": [],
   "source": [
    "def score_clusters(n_repeats, message_embeddings, n_neighbors, n_components, min_cluster_size, random_state=None):\n",
    "    \"\"\"\n",
    "    Returns average label count and average score over n_repeat runs\n",
    "    \"\"\"\n",
    "    count_sum = 0\n",
    "    score_sum = 0\n",
    "    \n",
    "    for i in range(n_repeats):\n",
    "        clusters = generate_clusters(message_embeddings, n_neighbors, n_components, min_cluster_size, random_state)\n",
    "        cluster_labels = clusters.labels_\n",
    "        label_count = len(np.unique(cluster_labels))\n",
    "        score = np.count_nonzero(clusters.probabilities_ < 0.05)\n",
    "    \n",
    "        count_sum += label_count\n",
    "        score_sum += score\n",
    "        \n",
    "    avg_label_count = count_sum/n_repeats\n",
    "    avg_score = score_sum/n_repeats\n",
    "    \n",
    "    return avg_label_count, avg_score"
   ]
  },
  {
   "cell_type": "code",
   "execution_count": 142,
   "id": "d59315c3-f568-452f-9155-8c6aad68b360",
   "metadata": {},
   "outputs": [],
   "source": [
    "def scan_hyperparameters(all_intents, n_repeats):\n",
    "    use_embeddings = embed_use(model_use, all_intents)\n",
    "    \n",
    "    results = []\n",
    "    for n_neighbors in trange(3, 15, desc='n_neighbors'):\n",
    "        for n_components in trange (3, 8, desc='n_components'):\n",
    "            for min_cluster_size in trange(2, 10, desc='min_cluster_size'):\n",
    "                \n",
    "                avg_label_count, avg_score = score_clusters(n_repeats, n_neighbors, \n",
    "                                                            n_components, min_cluster_size)\n",
    "                \n",
    "                results.append([n_neighbors, n_components, min_cluster_size, avg_label_count, avg_score])\n",
    "    \n",
    "    result_df = pd.DataFrame(results, columns=['n_neighbors', 'n_components', 'min_cluster_size', 'avg_label_count', 'avg_score'])\n",
    "    \n",
    "    return result_df"
   ]
  },
  {
   "cell_type": "code",
   "execution_count": null,
   "id": "83081a7a-2172-4967-a770-647a9f2cb840",
   "metadata": {},
   "outputs": [],
   "source": [
    "%%time\n",
    "results_use = scan_hyperparameters(all_intents, 3)"
   ]
  },
  {
   "cell_type": "code",
   "execution_count": 35,
   "id": "25a7f8b1-b36b-431e-9eae-c4f52ab4fbf4",
   "metadata": {},
   "outputs": [
    {
     "name": "stdout",
     "output_type": "stream",
     "text": [
      "CPU times: user 19.2 s, sys: 1.22 s, total: 20.5 s\n",
      "Wall time: 16.2 s\n"
     ]
    },
    {
     "data": {
      "text/plain": [
       "(83.0, 140.33333333333334)"
      ]
     },
     "execution_count": 35,
     "metadata": {},
     "output_type": "execute_result"
    }
   ],
   "source": [
    "%%time\n",
    "use_embeddings = embed_use(model_use, all_intents)\n",
    "score_clusters(3, use_embeddings, n_neighbors=4, n_components=4, min_cluster_size=4)"
   ]
  },
  {
   "cell_type": "code",
   "execution_count": 145,
   "id": "a4c42915-353c-4400-90aa-65f8590dd4b6",
   "metadata": {},
   "outputs": [
    {
     "name": "stdout",
     "output_type": "stream",
     "text": [
      "CPU times: user 15.7 s, sys: 1.73 s, total: 17.4 s\n",
      "Wall time: 14 s\n"
     ]
    },
    {
     "data": {
      "text/plain": [
       "(80.0, 124.0)"
      ]
     },
     "execution_count": 145,
     "metadata": {},
     "output_type": "execute_result"
    }
   ],
   "source": [
    "%%time\n",
    "use_embeddings = embed_use(model_use, all_intents)\n",
    "score_clusters(3, use_embeddings, n_neighbors=4, n_components=4, min_cluster_size=4)"
   ]
  },
  {
   "cell_type": "code",
   "execution_count": 146,
   "id": "0d359985-527f-45e3-bfcf-33710e9120f7",
   "metadata": {},
   "outputs": [
    {
     "name": "stdout",
     "output_type": "stream",
     "text": [
      "CPU times: user 4.73 s, sys: 2.82 s, total: 7.54 s\n",
      "Wall time: 11.8 s\n"
     ]
    },
    {
     "data": {
      "text/plain": [
       "(77.0, 125.0)"
      ]
     },
     "execution_count": 146,
     "metadata": {},
     "output_type": "execute_result"
    }
   ],
   "source": [
    "%%time\n",
    "use_embeddings = embed_use(model_use, all_intents)\n",
    "score_clusters(1, use_embeddings, n_neighbors=4, n_components=4, min_cluster_size=4, random_state=42)"
   ]
  },
  {
   "cell_type": "code",
   "execution_count": 149,
   "id": "1e00a1cf-3ae3-42a5-971a-91f313af21f5",
   "metadata": {},
   "outputs": [
    {
     "name": "stdout",
     "output_type": "stream",
     "text": [
      "CPU times: user 3.07 s, sys: 101 ms, total: 3.17 s\n",
      "Wall time: 2.7 s\n"
     ]
    },
    {
     "data": {
      "text/plain": [
       "(77.0, 125.0)"
      ]
     },
     "execution_count": 149,
     "metadata": {},
     "output_type": "execute_result"
    }
   ],
   "source": [
    "%%time\n",
    "use_embeddings = embed_use(model_use, all_intents)\n",
    "score_clusters(1, use_embeddings, n_neighbors=4, n_components=4, min_cluster_size=4, random_state=42)"
   ]
  },
  {
   "cell_type": "code",
   "execution_count": 84,
   "id": "d73bfb84-329e-46cd-b588-0ecaa1ac68f0",
   "metadata": {},
   "outputs": [
    {
     "data": {
      "text/html": [
       "<div>\n",
       "<style scoped>\n",
       "    .dataframe tbody tr th:only-of-type {\n",
       "        vertical-align: middle;\n",
       "    }\n",
       "\n",
       "    .dataframe tbody tr th {\n",
       "        vertical-align: top;\n",
       "    }\n",
       "\n",
       "    .dataframe thead th {\n",
       "        text-align: right;\n",
       "    }\n",
       "</style>\n",
       "<table border=\"1\" class=\"dataframe\">\n",
       "  <thead>\n",
       "    <tr style=\"text-align: right;\">\n",
       "      <th></th>\n",
       "      <th>n_neighbors</th>\n",
       "      <th>n_components</th>\n",
       "      <th>min_cluster_size</th>\n",
       "      <th>avg_label_count</th>\n",
       "      <th>avg_score</th>\n",
       "    </tr>\n",
       "  </thead>\n",
       "  <tbody>\n",
       "    <tr>\n",
       "      <th>0</th>\n",
       "      <td>3</td>\n",
       "      <td>3</td>\n",
       "      <td>2</td>\n",
       "      <td>179</td>\n",
       "      <td>77.4</td>\n",
       "    </tr>\n",
       "  </tbody>\n",
       "</table>\n",
       "</div>"
      ],
      "text/plain": [
       "   n_neighbors  n_components  min_cluster_size  avg_label_count  avg_score\n",
       "0            3             3                 2              179       77.4"
      ]
     },
     "execution_count": 84,
     "metadata": {},
     "output_type": "execute_result"
    }
   ],
   "source": [
    "results_use"
   ]
  },
  {
   "cell_type": "code",
   "execution_count": 58,
   "id": "60ee9ec3-71d2-4d67-824a-a3f6686d50f1",
   "metadata": {},
   "outputs": [
    {
     "data": {
      "text/html": [
       "<div>\n",
       "<style scoped>\n",
       "    .dataframe tbody tr th:only-of-type {\n",
       "        vertical-align: middle;\n",
       "    }\n",
       "\n",
       "    .dataframe tbody tr th {\n",
       "        vertical-align: top;\n",
       "    }\n",
       "\n",
       "    .dataframe thead th {\n",
       "        text-align: right;\n",
       "    }\n",
       "</style>\n",
       "<table border=\"1\" class=\"dataframe\">\n",
       "  <thead>\n",
       "    <tr style=\"text-align: right;\">\n",
       "      <th></th>\n",
       "      <th>n_neighbors</th>\n",
       "      <th>n_components</th>\n",
       "      <th>min_cluster_size</th>\n",
       "      <th>label_count</th>\n",
       "      <th>score</th>\n",
       "    </tr>\n",
       "  </thead>\n",
       "  <tbody>\n",
       "    <tr>\n",
       "      <th>42</th>\n",
       "      <td>3</td>\n",
       "      <td>3</td>\n",
       "      <td>4</td>\n",
       "      <td>85</td>\n",
       "      <td>92</td>\n",
       "    </tr>\n",
       "    <tr>\n",
       "      <th>50</th>\n",
       "      <td>3</td>\n",
       "      <td>4</td>\n",
       "      <td>4</td>\n",
       "      <td>81</td>\n",
       "      <td>98</td>\n",
       "    </tr>\n",
       "    <tr>\n",
       "      <th>63</th>\n",
       "      <td>3</td>\n",
       "      <td>5</td>\n",
       "      <td>9</td>\n",
       "      <td>27</td>\n",
       "      <td>72</td>\n",
       "    </tr>\n",
       "    <tr>\n",
       "      <th>67</th>\n",
       "      <td>3</td>\n",
       "      <td>6</td>\n",
       "      <td>5</td>\n",
       "      <td>60</td>\n",
       "      <td>77</td>\n",
       "    </tr>\n",
       "  </tbody>\n",
       "</table>\n",
       "</div>"
      ],
      "text/plain": [
       "    n_neighbors  n_components  min_cluster_size  label_count  score\n",
       "42            3             3                 4           85     92\n",
       "50            3             4                 4           81     98\n",
       "63            3             5                 9           27     72\n",
       "67            3             6                 5           60     77"
      ]
     },
     "execution_count": 58,
     "metadata": {},
     "output_type": "execute_result"
    }
   ],
   "source": [
    "results_use[(results_use.score < 100)&(results_use.label_count < 100)&(results_use.label_count > 10)]"
   ]
  },
  {
   "cell_type": "code",
   "execution_count": 60,
   "id": "092007ff-e2c7-43f6-b188-d5425fcf53e9",
   "metadata": {},
   "outputs": [
    {
     "data": {
      "text/html": [
       "<div>\n",
       "<style scoped>\n",
       "    .dataframe tbody tr th:only-of-type {\n",
       "        vertical-align: middle;\n",
       "    }\n",
       "\n",
       "    .dataframe tbody tr th {\n",
       "        vertical-align: top;\n",
       "    }\n",
       "\n",
       "    .dataframe thead th {\n",
       "        text-align: right;\n",
       "    }\n",
       "</style>\n",
       "<table border=\"1\" class=\"dataframe\">\n",
       "  <thead>\n",
       "    <tr style=\"text-align: right;\">\n",
       "      <th></th>\n",
       "      <th>n_neighbors</th>\n",
       "      <th>n_components</th>\n",
       "      <th>min_cluster_size</th>\n",
       "      <th>label_count</th>\n",
       "      <th>score</th>\n",
       "    </tr>\n",
       "  </thead>\n",
       "  <tbody>\n",
       "    <tr>\n",
       "      <th>0</th>\n",
       "      <td>2</td>\n",
       "      <td>3</td>\n",
       "      <td>2</td>\n",
       "      <td>201</td>\n",
       "      <td>97</td>\n",
       "    </tr>\n",
       "    <tr>\n",
       "      <th>1</th>\n",
       "      <td>2</td>\n",
       "      <td>3</td>\n",
       "      <td>3</td>\n",
       "      <td>147</td>\n",
       "      <td>152</td>\n",
       "    </tr>\n",
       "    <tr>\n",
       "      <th>2</th>\n",
       "      <td>2</td>\n",
       "      <td>3</td>\n",
       "      <td>4</td>\n",
       "      <td>104</td>\n",
       "      <td>247</td>\n",
       "    </tr>\n",
       "    <tr>\n",
       "      <th>3</th>\n",
       "      <td>2</td>\n",
       "      <td>3</td>\n",
       "      <td>5</td>\n",
       "      <td>87</td>\n",
       "      <td>226</td>\n",
       "    </tr>\n",
       "    <tr>\n",
       "      <th>4</th>\n",
       "      <td>2</td>\n",
       "      <td>3</td>\n",
       "      <td>6</td>\n",
       "      <td>70</td>\n",
       "      <td>230</td>\n",
       "    </tr>\n",
       "  </tbody>\n",
       "</table>\n",
       "</div>"
      ],
      "text/plain": [
       "   n_neighbors  n_components  min_cluster_size  label_count  score\n",
       "0            2             3                 2          201     97\n",
       "1            2             3                 3          147    152\n",
       "2            2             3                 4          104    247\n",
       "3            2             3                 5           87    226\n",
       "4            2             3                 6           70    230"
      ]
     },
     "execution_count": 60,
     "metadata": {},
     "output_type": "execute_result"
    }
   ],
   "source": [
    "results_use.head()"
   ]
  },
  {
   "cell_type": "code",
   "execution_count": 71,
   "id": "7ea642ca-105a-49e2-b08c-0f1788c4d33c",
   "metadata": {},
   "outputs": [
    {
     "name": "stdout",
     "output_type": "stream",
     "text": [
      "Avg number of clusters: 85.8 . Avg score: 130.2\n",
      "Avg number of clusters: 31.0 . Avg score: 178.6\n",
      "Avg number of clusters: 86.6 . Avg score: 97.0\n",
      "Avg number of clusters: 87.4 . Avg score: 104.2\n",
      "Avg number of clusters: 53.2 . Avg score: 142.4\n"
     ]
    }
   ],
   "source": [
    "use_embeddings = embed_use(model_use, all_intents)\n",
    "num = 5\n",
    "param_dict = [[4, 5, 4], \n",
    "              [3, 5, 9], \n",
    "              [3, 3, 4], \n",
    "              [3, 4, 4], \n",
    "              [3, 6, 6]]\n",
    "\n",
    "for params in param_dict:\n",
    "    count_sum = 0\n",
    "    score_sum = 0\n",
    "    \n",
    "    for i in range(num):\n",
    "        clusters = generate_clusters(use_embeddings, \n",
    "                                     n_neighbors = params[0], \n",
    "                                     n_components = params[1], \n",
    "                                     min_cluster_size = params[2])\n",
    "        \n",
    "        label_count, score = score_clusters(clusters)\n",
    "\n",
    "        count_sum += label_count\n",
    "        score_sum += score\n",
    "\n",
    "    print(f\"Avg number of clusters: {count_sum/num} . Avg score: {score_sum/num}\")"
   ]
  },
  {
   "cell_type": "code",
   "execution_count": 92,
   "id": "d0ad6b23-469e-41f7-9047-cf39f72e9363",
   "metadata": {},
   "outputs": [
    {
     "name": "stdout",
     "output_type": "stream",
     "text": [
      "88\n",
      "125\n"
     ]
    }
   ],
   "source": [
    "use_embeddings = embed_use(model_use, all_intents)\n",
    "clusters = generate_clusters(use_embeddings, n_neighbors = 3, n_components = 3, min_cluster_size = 4)\n",
    "label_count, score = score_clusters(clusters)\n",
    "print(label_count)\n",
    "print(score)"
   ]
  },
  {
   "cell_type": "code",
   "execution_count": 146,
   "id": "17ff6e38-9af8-4249-884d-6df6b7419d40",
   "metadata": {},
   "outputs": [
    {
     "data": {
      "text/html": [
       "<div>\n",
       "<style scoped>\n",
       "    .dataframe tbody tr th:only-of-type {\n",
       "        vertical-align: middle;\n",
       "    }\n",
       "\n",
       "    .dataframe tbody tr th {\n",
       "        vertical-align: top;\n",
       "    }\n",
       "\n",
       "    .dataframe thead th {\n",
       "        text-align: right;\n",
       "    }\n",
       "</style>\n",
       "<table border=\"1\" class=\"dataframe\">\n",
       "  <thead>\n",
       "    <tr style=\"text-align: right;\">\n",
       "      <th></th>\n",
       "      <th>message</th>\n",
       "      <th>topic_use</th>\n",
       "    </tr>\n",
       "  </thead>\n",
       "  <tbody>\n",
       "    <tr>\n",
       "      <th>0</th>\n",
       "      <td>I'm worried my card might be lost in the mail? How long does it usually take to arrive?</td>\n",
       "      <td>64</td>\n",
       "    </tr>\n",
       "    <tr>\n",
       "      <th>1</th>\n",
       "      <td>I got charged a fee that shouldn't be there from my cash</td>\n",
       "      <td>79</td>\n",
       "    </tr>\n",
       "    <tr>\n",
       "      <th>2</th>\n",
       "      <td>Do you charge for making a withdrawal? I took some money out of my account earlier and I was charged for this.</td>\n",
       "      <td>86</td>\n",
       "    </tr>\n",
       "    <tr>\n",
       "      <th>3</th>\n",
       "      <td>Is there an issue with my account?  I don't see a cheque deposit that I made yesterday.  Please assist.</td>\n",
       "      <td>67</td>\n",
       "    </tr>\n",
       "    <tr>\n",
       "      <th>4</th>\n",
       "      <td>Are there ways for other people to send me money?</td>\n",
       "      <td>13</td>\n",
       "    </tr>\n",
       "    <tr>\n",
       "      <th>5</th>\n",
       "      <td>How can I receive money?</td>\n",
       "      <td>13</td>\n",
       "    </tr>\n",
       "    <tr>\n",
       "      <th>6</th>\n",
       "      <td>where can I change my address?</td>\n",
       "      <td>21</td>\n",
       "    </tr>\n",
       "    <tr>\n",
       "      <th>7</th>\n",
       "      <td>What do I do if I still have not received my new card?</td>\n",
       "      <td>74</td>\n",
       "    </tr>\n",
       "    <tr>\n",
       "      <th>8</th>\n",
       "      <td>Is there anywhere I can't use my card?</td>\n",
       "      <td>54</td>\n",
       "    </tr>\n",
       "    <tr>\n",
       "      <th>9</th>\n",
       "      <td>I want to have multiple currencies in my account if possible.</td>\n",
       "      <td>42</td>\n",
       "    </tr>\n",
       "  </tbody>\n",
       "</table>\n",
       "</div>"
      ],
      "text/plain": [
       "                                                                                                          message  \\\n",
       "0                         I'm worried my card might be lost in the mail? How long does it usually take to arrive?   \n",
       "1                                                        I got charged a fee that shouldn't be there from my cash   \n",
       "2  Do you charge for making a withdrawal? I took some money out of my account earlier and I was charged for this.   \n",
       "3         Is there an issue with my account?  I don't see a cheque deposit that I made yesterday.  Please assist.   \n",
       "4                                                               Are there ways for other people to send me money?   \n",
       "5                                                                                        How can I receive money?   \n",
       "6                                                                                  where can I change my address?   \n",
       "7                                                          What do I do if I still have not received my new card?   \n",
       "8                                                                          Is there anywhere I can't use my card?   \n",
       "9                                                   I want to have multiple currencies in my account if possible.   \n",
       "\n",
       "   topic_use  \n",
       "0         64  \n",
       "1         79  \n",
       "2         86  \n",
       "3         67  \n",
       "4         13  \n",
       "5         13  \n",
       "6         21  \n",
       "7         74  \n",
       "8         54  \n",
       "9         42  "
      ]
     },
     "execution_count": 146,
     "metadata": {},
     "output_type": "execute_result"
    }
   ],
   "source": [
    "intents_df_use = pd.DataFrame(all_intents, columns=['message'])\n",
    "intents_df_use['topic_use'] = clusters.labels_\n",
    "intents_df_use.head(10)"
   ]
  },
  {
   "cell_type": "code",
   "execution_count": 140,
   "id": "8e9fff3b-6b60-4191-8a9c-2ad078ffec1b",
   "metadata": {},
   "outputs": [
    {
     "name": "stdout",
     "output_type": "stream",
     "text": [
      "93\n",
      "71\n"
     ]
    }
   ],
   "source": [
    "st1_embeddings = embed_st(model_st1, all_intents)\n",
    "clusters_st1 = generate_clusters(st1_embeddings, n_neighbors = 3, n_components = 3, min_cluster_size = 4)\n",
    "label_count_st1, score_st1 = score_clusters(clusters_st1)\n",
    "print(label_count_st1)\n",
    "print(score_st1)"
   ]
  },
  {
   "cell_type": "markdown",
   "id": "89502189-0e3f-4b1b-af25-9df568582846",
   "metadata": {},
   "source": [
    "### Hyperopt optimization"
   ]
  },
  {
   "cell_type": "code",
   "execution_count": 76,
   "id": "81775169-ece0-4189-8c0e-d70184c72f5d",
   "metadata": {},
   "outputs": [],
   "source": [
    "from functools import partial"
   ]
  },
  {
   "cell_type": "code",
   "execution_count": 198,
   "id": "11003f1c-59d4-476e-bd9f-4c0d60748222",
   "metadata": {},
   "outputs": [],
   "source": [
    "def objective(params, embeddings, random_state):\n",
    "    \n",
    "    avg_label_count, avg_score = score_clusters(1, embeddings, params['n_neighbors'], \n",
    "                                                params['n_components'], params['min_cluster_size'], random_state)\n",
    "    \n",
    "    if (avg_label_count < 30) | (avg_label_count > 100):\n",
    "        penalty = 100\n",
    "    else:\n",
    "        penalty = 0\n",
    "    \n",
    "    score = avg_score + penalty\n",
    "    \n",
    "    return {'loss': score, 'label_count': avg_label_count, 'status': STATUS_OK}"
   ]
  },
  {
   "cell_type": "code",
   "execution_count": 199,
   "id": "7e829b7e-4f14-4109-95a9-1516e29dd568",
   "metadata": {},
   "outputs": [],
   "source": [
    "def bayesian_search(embeddings, max_evals=100):\n",
    "    \n",
    "    space = {\n",
    "        \"n_neighbors\": hp.choice('n_neighbors', list(range(3,16))),\n",
    "        \"n_components\": hp.choice('n_components', list(range(3,16))),\n",
    "        \"min_cluster_size\": hp.choice('min_cluster_size', list(range(2,15)))\n",
    "    }\n",
    "    \n",
    "    trials = Trials()\n",
    "    fmin_objective = partial(objective, embeddings=embeddings, random_state=42)\n",
    "    best = fmin(fmin_objective, \n",
    "                space = space, \n",
    "                algo=tpe.suggest,\n",
    "                #algo=partial(tpe.suggest, n_startup_jobs=20),#otherwise the first 20 will be random by default\n",
    "                max_evals=max_evals, \n",
    "                trials=trials)\n",
    "\n",
    "    best_params = space_eval(space, best)\n",
    "    print ('best:')\n",
    "    print (best_params)\n",
    "    print (f\"label count: {trials.best_trial['result']['label_count']}\")\n",
    "    \n",
    "    return best_params, trials"
   ]
  },
  {
   "cell_type": "code",
   "execution_count": 175,
   "id": "9888bf93-b04b-4512-b664-5caf44b2f581",
   "metadata": {},
   "outputs": [
    {
     "name": "stdout",
     "output_type": "stream",
     "text": [
      "100%|██████████| 50/50 [03:21<00:00,  4.04s/trial, best loss: 84.0] \n",
      "best:\n",
      "{'min_cluster_size': 4, 'n_components': 4, 'n_neighbors': 3}\n"
     ]
    }
   ],
   "source": [
    "use_embeddings = embed_use(model_use, all_intents)\n",
    "use_best, _ = bayesian_search(use_embeddings, max_evals=50)"
   ]
  },
  {
   "cell_type": "code",
   "execution_count": 206,
   "id": "d02504d4-5d6f-47f6-bf9c-52e1e74e718b",
   "metadata": {},
   "outputs": [
    {
     "name": "stdout",
     "output_type": "stream",
     "text": [
      "100%|██████████| 100/100 [06:56<00:00,  4.16s/trial, best loss: 97.0]\n",
      "best:\n",
      "{'min_cluster_size': 4, 'n_components': 12, 'n_neighbors': 3}\n",
      "label count: 79.0\n"
     ]
    }
   ],
   "source": [
    "use_embeddings = embed_use(model_use, all_intents)\n",
    "use_best, _ = bayesian_search(use_embeddings, max_evals=100)"
   ]
  },
  {
   "cell_type": "code",
   "execution_count": 207,
   "id": "6f12e2ce-dbea-40c3-98d5-9444355f811e",
   "metadata": {},
   "outputs": [
    {
     "data": {
      "text/plain": [
       "{'state': 2,\n",
       " 'tid': 15,\n",
       " 'spec': None,\n",
       " 'result': {'loss': 97.0, 'label_count': 79.0, 'status': 'ok'},\n",
       " 'misc': {'tid': 15,\n",
       "  'cmd': ('domain_attachment', 'FMinIter_Domain'),\n",
       "  'workdir': None,\n",
       "  'idxs': {'min_cluster_size': [15],\n",
       "   'n_components': [15],\n",
       "   'n_neighbors': [15]},\n",
       "  'vals': {'min_cluster_size': [2], 'n_components': [9], 'n_neighbors': [0]}},\n",
       " 'exp_key': None,\n",
       " 'owner': None,\n",
       " 'version': 0,\n",
       " 'book_time': datetime.datetime(2021, 9, 1, 12, 54, 0, 722000),\n",
       " 'refresh_time': datetime.datetime(2021, 9, 1, 12, 54, 3, 990000)}"
      ]
     },
     "execution_count": 207,
     "metadata": {},
     "output_type": "execute_result"
    }
   ],
   "source": [
    "_.best_trial"
   ]
  },
  {
   "cell_type": "code",
   "execution_count": 205,
   "id": "939d82af-5dda-486c-8111-235942c4f315",
   "metadata": {},
   "outputs": [
    {
     "name": "stdout",
     "output_type": "stream",
     "text": [
      "100%|██████████| 50/50 [03:31<00:00,  4.24s/trial, best loss: 77.0]\n",
      "best:\n",
      "{'min_cluster_size': 3, 'n_components': 11, 'n_neighbors': 6}\n",
      "label count: 98.0\n"
     ]
    }
   ],
   "source": [
    "st1_embeddings = embed_st(model_st1, all_intents)\n",
    "st1_best, _ = bayesian_search(st1_embeddings, max_evals=50)"
   ]
  },
  {
   "cell_type": "code",
   "execution_count": 216,
   "id": "256e099a-51ce-4bd7-8c8d-03b2f3f95cf1",
   "metadata": {},
   "outputs": [],
   "source": [
    "use_clusters = generate_clusters(use_embeddings, \n",
    "                                 n_neighbors = use_best['n_neighbors'], \n",
    "                                 n_components = use_best['n_components'], \n",
    "                                 min_cluster_size = use_best['min_cluster_size'], \n",
    "                                 random_state=42)"
   ]
  },
  {
   "cell_type": "code",
   "execution_count": 209,
   "id": "86fc6ddd-b9df-4908-b477-6c0d38eaf0ca",
   "metadata": {},
   "outputs": [],
   "source": [
    "st1_clusters = generate_clusters(st1_embeddings, \n",
    "                                 n_neighbors = st1_best['n_neighbors'], \n",
    "                                 n_components = st1_best['n_components'], \n",
    "                                 min_cluster_size = st1_best['min_cluster_size'], \n",
    "                                 random_state=42)"
   ]
  },
  {
   "cell_type": "code",
   "execution_count": 215,
   "id": "2bb0beaf-a154-4449-9232-a1d8d1a379bc",
   "metadata": {},
   "outputs": [
    {
     "data": {
      "text/plain": [
       "98"
      ]
     },
     "execution_count": 215,
     "metadata": {},
     "output_type": "execute_result"
    }
   ],
   "source": [
    "len(np.unique(st1_clusters.labels_))"
   ]
  },
  {
   "cell_type": "code",
   "execution_count": 166,
   "id": "6c777581-278f-4286-b204-3f07eb294516",
   "metadata": {},
   "outputs": [
    {
     "data": {
      "text/plain": [
       "(84.0, 84.0)"
      ]
     },
     "execution_count": 166,
     "metadata": {},
     "output_type": "execute_result"
    }
   ],
   "source": [
    "use_embeddings = embed_use(model_use, all_intents)\n",
    "score_clusters(1, use_embeddings, n_neighbors=3, n_components=4, min_cluster_size=4, random_state=42)"
   ]
  },
  {
   "cell_type": "code",
   "execution_count": 170,
   "id": "1dc8a78d-74f1-4d4f-8edd-945aacefaaea",
   "metadata": {},
   "outputs": [
    {
     "data": {
      "text/plain": [
       "(83.0, 106.0)"
      ]
     },
     "execution_count": 170,
     "metadata": {},
     "output_type": "execute_result"
    }
   ],
   "source": [
    "use_embeddings = embed_use(model_use, all_intents)\n",
    "score_clusters(1, use_embeddings, n_neighbors=4, n_components=11, min_cluster_size=4, random_state=42)"
   ]
  },
  {
   "cell_type": "code",
   "execution_count": 187,
   "id": "8dc2ea64-9775-4f06-9b5f-5d95c8d1e303",
   "metadata": {},
   "outputs": [
    {
     "data": {
      "text/plain": [
       "(92.0, 80.0)"
      ]
     },
     "execution_count": 187,
     "metadata": {},
     "output_type": "execute_result"
    }
   ],
   "source": [
    "st1_embeddings = embed_st(model_st1, all_intents)\n",
    "score_clusters(1, st1_embeddings, n_neighbors=3, n_components=11, min_cluster_size=4, random_state=42)"
   ]
  },
  {
   "cell_type": "markdown",
   "id": "45dcd399-f4de-4676-a68c-9edcf13a987b",
   "metadata": {},
   "source": [
    "## Evaluate clusters"
   ]
  },
  {
   "cell_type": "code",
   "execution_count": 223,
   "id": "0d77c824-a3b9-4603-a834-286ce2e815ec",
   "metadata": {},
   "outputs": [
    {
     "data": {
      "text/html": [
       "<div>\n",
       "<style scoped>\n",
       "    .dataframe tbody tr th:only-of-type {\n",
       "        vertical-align: middle;\n",
       "    }\n",
       "\n",
       "    .dataframe tbody tr th {\n",
       "        vertical-align: top;\n",
       "    }\n",
       "\n",
       "    .dataframe thead th {\n",
       "        text-align: right;\n",
       "    }\n",
       "</style>\n",
       "<table border=\"1\" class=\"dataframe\">\n",
       "  <thead>\n",
       "    <tr style=\"text-align: right;\">\n",
       "      <th></th>\n",
       "      <th>message</th>\n",
       "      <th>category</th>\n",
       "      <th>label_use</th>\n",
       "      <th>label_st1</th>\n",
       "    </tr>\n",
       "  </thead>\n",
       "  <tbody>\n",
       "    <tr>\n",
       "      <th>0</th>\n",
       "      <td>I'm worried my card might be lost in the mail? How long does it usually take to arrive?</td>\n",
       "      <td>card_delivery_estimate</td>\n",
       "      <td>65</td>\n",
       "      <td>44</td>\n",
       "    </tr>\n",
       "    <tr>\n",
       "      <th>1</th>\n",
       "      <td>I got charged a fee that shouldn't be there from my cash</td>\n",
       "      <td>cash_withdrawal_charge</td>\n",
       "      <td>-1</td>\n",
       "      <td>64</td>\n",
       "    </tr>\n",
       "    <tr>\n",
       "      <th>2</th>\n",
       "      <td>Do you charge for making a withdrawal? I took some money out of my account earlier and I was charged for this.</td>\n",
       "      <td>cash_withdrawal_charge</td>\n",
       "      <td>73</td>\n",
       "      <td>64</td>\n",
       "    </tr>\n",
       "    <tr>\n",
       "      <th>3</th>\n",
       "      <td>Is there an issue with my account?  I don't see a cheque deposit that I made yesterday.  Please assist.</td>\n",
       "      <td>balance_not_updated_after_cheque_or_cash_deposit</td>\n",
       "      <td>72</td>\n",
       "      <td>89</td>\n",
       "    </tr>\n",
       "    <tr>\n",
       "      <th>4</th>\n",
       "      <td>Are there ways for other people to send me money?</td>\n",
       "      <td>receiving_money</td>\n",
       "      <td>18</td>\n",
       "      <td>53</td>\n",
       "    </tr>\n",
       "  </tbody>\n",
       "</table>\n",
       "</div>"
      ],
      "text/plain": [
       "                                                                                                          message  \\\n",
       "0                         I'm worried my card might be lost in the mail? How long does it usually take to arrive?   \n",
       "1                                                        I got charged a fee that shouldn't be there from my cash   \n",
       "2  Do you charge for making a withdrawal? I took some money out of my account earlier and I was charged for this.   \n",
       "3         Is there an issue with my account?  I don't see a cheque deposit that I made yesterday.  Please assist.   \n",
       "4                                                               Are there ways for other people to send me money?   \n",
       "\n",
       "                                           category  label_use  label_st1  \n",
       "0                            card_delivery_estimate         65         44  \n",
       "1                            cash_withdrawal_charge         -1         64  \n",
       "2                            cash_withdrawal_charge         73         64  \n",
       "3  balance_not_updated_after_cheque_or_cash_deposit         72         89  \n",
       "4                                   receiving_money         18         53  "
      ]
     },
     "execution_count": 223,
     "metadata": {},
     "output_type": "execute_result"
    }
   ],
   "source": [
    "results_df = pd.DataFrame(all_intents, columns=['message'])\n",
    "results_df['category'] = data_sample.category\n",
    "\n",
    "cluster_dict = {'label_use': use_clusters, \n",
    "                'label_st1': st1_clusters}\n",
    "\n",
    "for key, value in cluster_dict.items():\n",
    "    results_df[key] = value.labels_\n",
    "    \n",
    "results_df.head()"
   ]
  },
  {
   "cell_type": "markdown",
   "id": "33768528-9a03-4216-9f99-3fe13d3a7053",
   "metadata": {
    "tags": []
   },
   "source": [
    "### Visually inspect clusters"
   ]
  },
  {
   "cell_type": "code",
   "execution_count": 241,
   "id": "4acf9098-3414-484b-a499-d86f1f87d0e9",
   "metadata": {},
   "outputs": [],
   "source": [
    "def plot_clusters(embeddings, clusters, n_neighbors=4):\n",
    "    umap_data = umap.UMAP(n_neighbors=n_neighbors, \n",
    "                          n_components=2, \n",
    "                          min_dist = 0.0, \n",
    "                          metric='cosine', \n",
    "                          random_state=42).fit_transform(embeddings)\n",
    "\n",
    "    result = pd.DataFrame(umap_data, columns=['x', 'y'])\n",
    "    result['labels'] = clusters.labels_\n",
    "\n",
    "    fig, ax = plt.subplots(figsize=(14, 8))\n",
    "    outliers = result.loc[result.labels == -1, :]\n",
    "    clustered = result.loc[result.labels != -1, :]\n",
    "    plt.scatter(outliers.x, outliers.y, color = '#BDBDBD', s=4)\n",
    "    plt.scatter(clustered.x, clustered.y, c=clustered.labels, s=4, cmap='hsv_r')\n",
    "    plt.colorbar()\n",
    "    plt.show()"
   ]
  },
  {
   "cell_type": "code",
   "execution_count": 242,
   "id": "2fcd3f1f-13cd-467a-95ac-042cdbf70582",
   "metadata": {
    "tags": []
   },
   "outputs": [
    {
     "data": {
      "image/png": "[encoded data removed]",
      "text/plain": [
       "<Figure size 1008x576 with 2 Axes>"
      ]
     },
     "metadata": {
      "needs_background": "light"
     },
     "output_type": "display_data"
    }
   ],
   "source": [
    "plot_clusters(use_embeddings, use_clusters, n_neighbors=4)"
   ]
  },
  {
   "cell_type": "code",
   "execution_count": 243,
   "id": "b8f4c148-edf3-45fd-a641-826e61c7484f",
   "metadata": {},
   "outputs": [
    {
     "data": {
      "image/png": "[encoded data removed]",
      "text/plain": [
       "<Figure size 1008x576 with 2 Axes>"
      ]
     },
     "metadata": {
      "needs_background": "light"
     },
     "output_type": "display_data"
    }
   ],
   "source": [
    "plot_clusters(st1_embeddings, st1_clusters, n_neighbors=4)"
   ]
  },
  {
   "cell_type": "markdown",
   "id": "0227de0c-5673-4b7e-8047-0247bba74124",
   "metadata": {},
   "source": [
    "### Manually inspect category consistency"
   ]
  },
  {
   "cell_type": "code",
   "execution_count": 249,
   "id": "98de948f-f400-477c-8070-3b8fafa28ecf",
   "metadata": {
    "tags": []
   },
   "outputs": [
    {
     "data": {
      "text/html": [
       "<div>\n",
       "<style scoped>\n",
       "    .dataframe tbody tr th:only-of-type {\n",
       "        vertical-align: middle;\n",
       "    }\n",
       "\n",
       "    .dataframe tbody tr th {\n",
       "        vertical-align: top;\n",
       "    }\n",
       "\n",
       "    .dataframe thead th {\n",
       "        text-align: right;\n",
       "    }\n",
       "</style>\n",
       "<table border=\"1\" class=\"dataframe\">\n",
       "  <thead>\n",
       "    <tr style=\"text-align: right;\">\n",
       "      <th></th>\n",
       "      <th>message</th>\n",
       "      <th>category</th>\n",
       "      <th>label_use</th>\n",
       "      <th>label_st1</th>\n",
       "    </tr>\n",
       "  </thead>\n",
       "  <tbody>\n",
       "    <tr>\n",
       "      <th>44</th>\n",
       "      <td>What are the countries you have offices in?</td>\n",
       "      <td>country_support</td>\n",
       "      <td>2</td>\n",
       "      <td>16</td>\n",
       "    </tr>\n",
       "    <tr>\n",
       "      <th>279</th>\n",
       "      <td>What countries are you available in?</td>\n",
       "      <td>country_support</td>\n",
       "      <td>2</td>\n",
       "      <td>16</td>\n",
       "    </tr>\n",
       "    <tr>\n",
       "      <th>295</th>\n",
       "      <td>What are the countries that you operate in?</td>\n",
       "      <td>country_support</td>\n",
       "      <td>2</td>\n",
       "      <td>16</td>\n",
       "    </tr>\n",
       "    <tr>\n",
       "      <th>503</th>\n",
       "      <td>Which countries do you operate in</td>\n",
       "      <td>country_support</td>\n",
       "      <td>2</td>\n",
       "      <td>16</td>\n",
       "    </tr>\n",
       "    <tr>\n",
       "      <th>600</th>\n",
       "      <td>How do I know which countries you provide service in?</td>\n",
       "      <td>country_support</td>\n",
       "      <td>2</td>\n",
       "      <td>16</td>\n",
       "    </tr>\n",
       "    <tr>\n",
       "      <th>898</th>\n",
       "      <td>I would like to know the countries you are offer services in?</td>\n",
       "      <td>country_support</td>\n",
       "      <td>2</td>\n",
       "      <td>16</td>\n",
       "    </tr>\n",
       "  </tbody>\n",
       "</table>\n",
       "</div>"
      ],
      "text/plain": [
       "                                                           message  \\\n",
       "44                     What are the countries you have offices in?   \n",
       "279                           What countries are you available in?   \n",
       "295                    What are the countries that you operate in?   \n",
       "503                              Which countries do you operate in   \n",
       "600          How do I know which countries you provide service in?   \n",
       "898  I would like to know the countries you are offer services in?   \n",
       "\n",
       "            category  label_use  label_st1  \n",
       "44   country_support          2         16  \n",
       "279  country_support          2         16  \n",
       "295  country_support          2         16  \n",
       "503  country_support          2         16  \n",
       "600  country_support          2         16  \n",
       "898  country_support          2         16  "
      ]
     },
     "execution_count": 249,
     "metadata": {},
     "output_type": "execute_result"
    }
   ],
   "source": [
    "results_df[results_df['label_use']==2]"
   ]
  },
  {
   "cell_type": "code",
   "execution_count": 245,
   "id": "a4117056-0569-46aa-aad2-2239f469c1d4",
   "metadata": {},
   "outputs": [
    {
     "data": {
      "text/html": [
       "<div>\n",
       "<style scoped>\n",
       "    .dataframe tbody tr th:only-of-type {\n",
       "        vertical-align: middle;\n",
       "    }\n",
       "\n",
       "    .dataframe tbody tr th {\n",
       "        vertical-align: top;\n",
       "    }\n",
       "\n",
       "    .dataframe thead th {\n",
       "        text-align: right;\n",
       "    }\n",
       "</style>\n",
       "<table border=\"1\" class=\"dataframe\">\n",
       "  <thead>\n",
       "    <tr style=\"text-align: right;\">\n",
       "      <th></th>\n",
       "      <th>message</th>\n",
       "      <th>category</th>\n",
       "      <th>label_use</th>\n",
       "      <th>label_st1</th>\n",
       "    </tr>\n",
       "  </thead>\n",
       "  <tbody>\n",
       "    <tr>\n",
       "      <th>11</th>\n",
       "      <td>Do you do business in the EU?</td>\n",
       "      <td>country_support</td>\n",
       "      <td>41</td>\n",
       "      <td>15</td>\n",
       "    </tr>\n",
       "    <tr>\n",
       "      <th>44</th>\n",
       "      <td>What are the countries you have offices in?</td>\n",
       "      <td>country_support</td>\n",
       "      <td>2</td>\n",
       "      <td>16</td>\n",
       "    </tr>\n",
       "    <tr>\n",
       "      <th>122</th>\n",
       "      <td>Can I use this all over the world?</td>\n",
       "      <td>country_support</td>\n",
       "      <td>47</td>\n",
       "      <td>16</td>\n",
       "    </tr>\n",
       "    <tr>\n",
       "      <th>279</th>\n",
       "      <td>What countries are you available in?</td>\n",
       "      <td>country_support</td>\n",
       "      <td>2</td>\n",
       "      <td>16</td>\n",
       "    </tr>\n",
       "    <tr>\n",
       "      <th>295</th>\n",
       "      <td>What are the countries that you operate in?</td>\n",
       "      <td>country_support</td>\n",
       "      <td>2</td>\n",
       "      <td>16</td>\n",
       "    </tr>\n",
       "    <tr>\n",
       "      <th>311</th>\n",
       "      <td>Can I get a card in the EU?</td>\n",
       "      <td>country_support</td>\n",
       "      <td>41</td>\n",
       "      <td>61</td>\n",
       "    </tr>\n",
       "    <tr>\n",
       "      <th>503</th>\n",
       "      <td>Which countries do you operate in</td>\n",
       "      <td>country_support</td>\n",
       "      <td>2</td>\n",
       "      <td>16</td>\n",
       "    </tr>\n",
       "    <tr>\n",
       "      <th>600</th>\n",
       "      <td>How do I know which countries you provide service in?</td>\n",
       "      <td>country_support</td>\n",
       "      <td>2</td>\n",
       "      <td>16</td>\n",
       "    </tr>\n",
       "    <tr>\n",
       "      <th>724</th>\n",
       "      <td>I'm not in the UK, but can I still get a card?</td>\n",
       "      <td>country_support</td>\n",
       "      <td>41</td>\n",
       "      <td>61</td>\n",
       "    </tr>\n",
       "    <tr>\n",
       "      <th>732</th>\n",
       "      <td>Can I get support?</td>\n",
       "      <td>country_support</td>\n",
       "      <td>32</td>\n",
       "      <td>53</td>\n",
       "    </tr>\n",
       "    <tr>\n",
       "      <th>754</th>\n",
       "      <td>I live in the EU, can I get one of your cards?</td>\n",
       "      <td>country_support</td>\n",
       "      <td>41</td>\n",
       "      <td>61</td>\n",
       "    </tr>\n",
       "    <tr>\n",
       "      <th>826</th>\n",
       "      <td>Are you only able to get a card if you're in the UK?</td>\n",
       "      <td>country_support</td>\n",
       "      <td>41</td>\n",
       "      <td>61</td>\n",
       "    </tr>\n",
       "    <tr>\n",
       "      <th>898</th>\n",
       "      <td>I would like to know the countries you are offer services in?</td>\n",
       "      <td>country_support</td>\n",
       "      <td>2</td>\n",
       "      <td>16</td>\n",
       "    </tr>\n",
       "  </tbody>\n",
       "</table>\n",
       "</div>"
      ],
      "text/plain": [
       "                                                           message  \\\n",
       "11                                   Do you do business in the EU?   \n",
       "44                     What are the countries you have offices in?   \n",
       "122                             Can I use this all over the world?   \n",
       "279                           What countries are you available in?   \n",
       "295                    What are the countries that you operate in?   \n",
       "311                                    Can I get a card in the EU?   \n",
       "503                              Which countries do you operate in   \n",
       "600          How do I know which countries you provide service in?   \n",
       "724                 I'm not in the UK, but can I still get a card?   \n",
       "732                                             Can I get support?   \n",
       "754                 I live in the EU, can I get one of your cards?   \n",
       "826           Are you only able to get a card if you're in the UK?   \n",
       "898  I would like to know the countries you are offer services in?   \n",
       "\n",
       "            category  label_use  label_st1  \n",
       "11   country_support         41         15  \n",
       "44   country_support          2         16  \n",
       "122  country_support         47         16  \n",
       "279  country_support          2         16  \n",
       "295  country_support          2         16  \n",
       "311  country_support         41         61  \n",
       "503  country_support          2         16  \n",
       "600  country_support          2         16  \n",
       "724  country_support         41         61  \n",
       "732  country_support         32         53  \n",
       "754  country_support         41         61  \n",
       "826  country_support         41         61  \n",
       "898  country_support          2         16  "
      ]
     },
     "execution_count": 245,
     "metadata": {},
     "output_type": "execute_result"
    }
   ],
   "source": [
    "results_df[results_df['category']=='country_support']"
   ]
  },
  {
   "cell_type": "markdown",
   "id": "a72ee559-5fc1-48af-9e9a-beec8ddec460",
   "metadata": {},
   "source": [
    "Both USE and ST1 models have high precision for `country_support` category but also both miss many instances in that group."
   ]
  },
  {
   "cell_type": "code",
   "execution_count": 250,
   "id": "ec972d20-470d-4b51-8863-6a1669c4f990",
   "metadata": {},
   "outputs": [
    {
     "data": {
      "text/html": [
       "<div>\n",
       "<style scoped>\n",
       "    .dataframe tbody tr th:only-of-type {\n",
       "        vertical-align: middle;\n",
       "    }\n",
       "\n",
       "    .dataframe tbody tr th {\n",
       "        vertical-align: top;\n",
       "    }\n",
       "\n",
       "    .dataframe thead th {\n",
       "        text-align: right;\n",
       "    }\n",
       "</style>\n",
       "<table border=\"1\" class=\"dataframe\">\n",
       "  <thead>\n",
       "    <tr style=\"text-align: right;\">\n",
       "      <th></th>\n",
       "      <th>message</th>\n",
       "      <th>category</th>\n",
       "      <th>label_use</th>\n",
       "      <th>label_st1</th>\n",
       "    </tr>\n",
       "  </thead>\n",
       "  <tbody>\n",
       "    <tr>\n",
       "      <th>27</th>\n",
       "      <td>I am overseas in China, can I get a replacement card?</td>\n",
       "      <td>card_about_to_expire</td>\n",
       "      <td>35</td>\n",
       "      <td>25</td>\n",
       "    </tr>\n",
       "    <tr>\n",
       "      <th>370</th>\n",
       "      <td>If I am in China, can I still order a new card and if so, how?</td>\n",
       "      <td>card_about_to_expire</td>\n",
       "      <td>35</td>\n",
       "      <td>25</td>\n",
       "    </tr>\n",
       "    <tr>\n",
       "      <th>441</th>\n",
       "      <td>My card is almost expired.  How fast will I get a new one and what is the cost?</td>\n",
       "      <td>card_about_to_expire</td>\n",
       "      <td>9</td>\n",
       "      <td>25</td>\n",
       "    </tr>\n",
       "    <tr>\n",
       "      <th>477</th>\n",
       "      <td>My card is about to expire. Do I have to go to a branch to order a new card?</td>\n",
       "      <td>card_about_to_expire</td>\n",
       "      <td>9</td>\n",
       "      <td>25</td>\n",
       "    </tr>\n",
       "    <tr>\n",
       "      <th>521</th>\n",
       "      <td>My card expires soon, will you send me one automatically?</td>\n",
       "      <td>card_about_to_expire</td>\n",
       "      <td>9</td>\n",
       "      <td>25</td>\n",
       "    </tr>\n",
       "    <tr>\n",
       "      <th>524</th>\n",
       "      <td>My card expires very soon.  What is the cost and delivery time to get a new one?</td>\n",
       "      <td>card_about_to_expire</td>\n",
       "      <td>9</td>\n",
       "      <td>25</td>\n",
       "    </tr>\n",
       "    <tr>\n",
       "      <th>551</th>\n",
       "      <td>Where can I have a new bank card sent to China?</td>\n",
       "      <td>card_about_to_expire</td>\n",
       "      <td>35</td>\n",
       "      <td>25</td>\n",
       "    </tr>\n",
       "    <tr>\n",
       "      <th>584</th>\n",
       "      <td>How do I get a new expiration date?</td>\n",
       "      <td>card_about_to_expire</td>\n",
       "      <td>9</td>\n",
       "      <td>25</td>\n",
       "    </tr>\n",
       "    <tr>\n",
       "      <th>605</th>\n",
       "      <td>Are there any express fees if i want my new card faster?</td>\n",
       "      <td>card_about_to_expire</td>\n",
       "      <td>-1</td>\n",
       "      <td>25</td>\n",
       "    </tr>\n",
       "    <tr>\n",
       "      <th>646</th>\n",
       "      <td>My card is almost going to expire.</td>\n",
       "      <td>card_about_to_expire</td>\n",
       "      <td>9</td>\n",
       "      <td>25</td>\n",
       "    </tr>\n",
       "    <tr>\n",
       "      <th>765</th>\n",
       "      <td>My card expires soon</td>\n",
       "      <td>card_about_to_expire</td>\n",
       "      <td>9</td>\n",
       "      <td>25</td>\n",
       "    </tr>\n",
       "    <tr>\n",
       "      <th>812</th>\n",
       "      <td>What is the cost and time frame of getting a new card?</td>\n",
       "      <td>card_about_to_expire</td>\n",
       "      <td>9</td>\n",
       "      <td>25</td>\n",
       "    </tr>\n",
       "    <tr>\n",
       "      <th>833</th>\n",
       "      <td>Help me order a new card that's going to be expired soon.</td>\n",
       "      <td>card_about_to_expire</td>\n",
       "      <td>9</td>\n",
       "      <td>25</td>\n",
       "    </tr>\n",
       "    <tr>\n",
       "      <th>888</th>\n",
       "      <td>What happens if my card expires?</td>\n",
       "      <td>card_about_to_expire</td>\n",
       "      <td>9</td>\n",
       "      <td>25</td>\n",
       "    </tr>\n",
       "  </tbody>\n",
       "</table>\n",
       "</div>"
      ],
      "text/plain": [
       "                                                                              message  \\\n",
       "27                              I am overseas in China, can I get a replacement card?   \n",
       "370                    If I am in China, can I still order a new card and if so, how?   \n",
       "441   My card is almost expired.  How fast will I get a new one and what is the cost?   \n",
       "477      My card is about to expire. Do I have to go to a branch to order a new card?   \n",
       "521                         My card expires soon, will you send me one automatically?   \n",
       "524  My card expires very soon.  What is the cost and delivery time to get a new one?   \n",
       "551                                   Where can I have a new bank card sent to China?   \n",
       "584                                               How do I get a new expiration date?   \n",
       "605                          Are there any express fees if i want my new card faster?   \n",
       "646                                                My card is almost going to expire.   \n",
       "765                                                              My card expires soon   \n",
       "812                            What is the cost and time frame of getting a new card?   \n",
       "833                         Help me order a new card that's going to be expired soon.   \n",
       "888                                                  What happens if my card expires?   \n",
       "\n",
       "                 category  label_use  label_st1  \n",
       "27   card_about_to_expire         35         25  \n",
       "370  card_about_to_expire         35         25  \n",
       "441  card_about_to_expire          9         25  \n",
       "477  card_about_to_expire          9         25  \n",
       "521  card_about_to_expire          9         25  \n",
       "524  card_about_to_expire          9         25  \n",
       "551  card_about_to_expire         35         25  \n",
       "584  card_about_to_expire          9         25  \n",
       "605  card_about_to_expire         -1         25  \n",
       "646  card_about_to_expire          9         25  \n",
       "765  card_about_to_expire          9         25  \n",
       "812  card_about_to_expire          9         25  \n",
       "833  card_about_to_expire          9         25  \n",
       "888  card_about_to_expire          9         25  "
      ]
     },
     "execution_count": 250,
     "metadata": {},
     "output_type": "execute_result"
    }
   ],
   "source": [
    "results_df[results_df['category']=='card_about_to_expire']"
   ]
  },
  {
   "cell_type": "code",
   "execution_count": 251,
   "id": "46912852-8f61-49de-ab1c-71d066153b11",
   "metadata": {},
   "outputs": [
    {
     "data": {
      "text/html": [
       "<div>\n",
       "<style scoped>\n",
       "    .dataframe tbody tr th:only-of-type {\n",
       "        vertical-align: middle;\n",
       "    }\n",
       "\n",
       "    .dataframe tbody tr th {\n",
       "        vertical-align: top;\n",
       "    }\n",
       "\n",
       "    .dataframe thead th {\n",
       "        text-align: right;\n",
       "    }\n",
       "</style>\n",
       "<table border=\"1\" class=\"dataframe\">\n",
       "  <thead>\n",
       "    <tr style=\"text-align: right;\">\n",
       "      <th></th>\n",
       "      <th>message</th>\n",
       "      <th>category</th>\n",
       "      <th>label_use</th>\n",
       "      <th>label_st1</th>\n",
       "    </tr>\n",
       "  </thead>\n",
       "  <tbody>\n",
       "    <tr>\n",
       "      <th>27</th>\n",
       "      <td>I am overseas in China, can I get a replacement card?</td>\n",
       "      <td>card_about_to_expire</td>\n",
       "      <td>35</td>\n",
       "      <td>25</td>\n",
       "    </tr>\n",
       "    <tr>\n",
       "      <th>108</th>\n",
       "      <td>I would like to purchase another card.</td>\n",
       "      <td>getting_spare_card</td>\n",
       "      <td>66</td>\n",
       "      <td>25</td>\n",
       "    </tr>\n",
       "    <tr>\n",
       "      <th>370</th>\n",
       "      <td>If I am in China, can I still order a new card and if so, how?</td>\n",
       "      <td>card_about_to_expire</td>\n",
       "      <td>35</td>\n",
       "      <td>25</td>\n",
       "    </tr>\n",
       "    <tr>\n",
       "      <th>383</th>\n",
       "      <td>What is the price for an additional card?</td>\n",
       "      <td>getting_spare_card</td>\n",
       "      <td>-1</td>\n",
       "      <td>25</td>\n",
       "    </tr>\n",
       "    <tr>\n",
       "      <th>441</th>\n",
       "      <td>My card is almost expired.  How fast will I get a new one and what is the cost?</td>\n",
       "      <td>card_about_to_expire</td>\n",
       "      <td>9</td>\n",
       "      <td>25</td>\n",
       "    </tr>\n",
       "    <tr>\n",
       "      <th>477</th>\n",
       "      <td>My card is about to expire. Do I have to go to a branch to order a new card?</td>\n",
       "      <td>card_about_to_expire</td>\n",
       "      <td>9</td>\n",
       "      <td>25</td>\n",
       "    </tr>\n",
       "    <tr>\n",
       "      <th>521</th>\n",
       "      <td>My card expires soon, will you send me one automatically?</td>\n",
       "      <td>card_about_to_expire</td>\n",
       "      <td>9</td>\n",
       "      <td>25</td>\n",
       "    </tr>\n",
       "    <tr>\n",
       "      <th>524</th>\n",
       "      <td>My card expires very soon.  What is the cost and delivery time to get a new one?</td>\n",
       "      <td>card_about_to_expire</td>\n",
       "      <td>9</td>\n",
       "      <td>25</td>\n",
       "    </tr>\n",
       "    <tr>\n",
       "      <th>551</th>\n",
       "      <td>Where can I have a new bank card sent to China?</td>\n",
       "      <td>card_about_to_expire</td>\n",
       "      <td>35</td>\n",
       "      <td>25</td>\n",
       "    </tr>\n",
       "    <tr>\n",
       "      <th>584</th>\n",
       "      <td>How do I get a new expiration date?</td>\n",
       "      <td>card_about_to_expire</td>\n",
       "      <td>9</td>\n",
       "      <td>25</td>\n",
       "    </tr>\n",
       "    <tr>\n",
       "      <th>605</th>\n",
       "      <td>Are there any express fees if i want my new card faster?</td>\n",
       "      <td>card_about_to_expire</td>\n",
       "      <td>-1</td>\n",
       "      <td>25</td>\n",
       "    </tr>\n",
       "    <tr>\n",
       "      <th>646</th>\n",
       "      <td>My card is almost going to expire.</td>\n",
       "      <td>card_about_to_expire</td>\n",
       "      <td>9</td>\n",
       "      <td>25</td>\n",
       "    </tr>\n",
       "    <tr>\n",
       "      <th>765</th>\n",
       "      <td>My card expires soon</td>\n",
       "      <td>card_about_to_expire</td>\n",
       "      <td>9</td>\n",
       "      <td>25</td>\n",
       "    </tr>\n",
       "    <tr>\n",
       "      <th>812</th>\n",
       "      <td>What is the cost and time frame of getting a new card?</td>\n",
       "      <td>card_about_to_expire</td>\n",
       "      <td>9</td>\n",
       "      <td>25</td>\n",
       "    </tr>\n",
       "    <tr>\n",
       "      <th>833</th>\n",
       "      <td>Help me order a new card that's going to be expired soon.</td>\n",
       "      <td>card_about_to_expire</td>\n",
       "      <td>9</td>\n",
       "      <td>25</td>\n",
       "    </tr>\n",
       "    <tr>\n",
       "      <th>879</th>\n",
       "      <td>I want a new card</td>\n",
       "      <td>getting_spare_card</td>\n",
       "      <td>66</td>\n",
       "      <td>25</td>\n",
       "    </tr>\n",
       "    <tr>\n",
       "      <th>888</th>\n",
       "      <td>What happens if my card expires?</td>\n",
       "      <td>card_about_to_expire</td>\n",
       "      <td>9</td>\n",
       "      <td>25</td>\n",
       "    </tr>\n",
       "  </tbody>\n",
       "</table>\n",
       "</div>"
      ],
      "text/plain": [
       "                                                                              message  \\\n",
       "27                              I am overseas in China, can I get a replacement card?   \n",
       "108                                            I would like to purchase another card.   \n",
       "370                    If I am in China, can I still order a new card and if so, how?   \n",
       "383                                         What is the price for an additional card?   \n",
       "441   My card is almost expired.  How fast will I get a new one and what is the cost?   \n",
       "477      My card is about to expire. Do I have to go to a branch to order a new card?   \n",
       "521                         My card expires soon, will you send me one automatically?   \n",
       "524  My card expires very soon.  What is the cost and delivery time to get a new one?   \n",
       "551                                   Where can I have a new bank card sent to China?   \n",
       "584                                               How do I get a new expiration date?   \n",
       "605                          Are there any express fees if i want my new card faster?   \n",
       "646                                                My card is almost going to expire.   \n",
       "765                                                              My card expires soon   \n",
       "812                            What is the cost and time frame of getting a new card?   \n",
       "833                         Help me order a new card that's going to be expired soon.   \n",
       "879                                                                 I want a new card   \n",
       "888                                                  What happens if my card expires?   \n",
       "\n",
       "                 category  label_use  label_st1  \n",
       "27   card_about_to_expire         35         25  \n",
       "108    getting_spare_card         66         25  \n",
       "370  card_about_to_expire         35         25  \n",
       "383    getting_spare_card         -1         25  \n",
       "441  card_about_to_expire          9         25  \n",
       "477  card_about_to_expire          9         25  \n",
       "521  card_about_to_expire          9         25  \n",
       "524  card_about_to_expire          9         25  \n",
       "551  card_about_to_expire         35         25  \n",
       "584  card_about_to_expire          9         25  \n",
       "605  card_about_to_expire         -1         25  \n",
       "646  card_about_to_expire          9         25  \n",
       "765  card_about_to_expire          9         25  \n",
       "812  card_about_to_expire          9         25  \n",
       "833  card_about_to_expire          9         25  \n",
       "879    getting_spare_card         66         25  \n",
       "888  card_about_to_expire          9         25  "
      ]
     },
     "execution_count": 251,
     "metadata": {},
     "output_type": "execute_result"
    }
   ],
   "source": [
    "results_df[results_df['label_st1']==25]"
   ]
  },
  {
   "cell_type": "markdown",
   "id": "8f84e273-7c7c-453f-ac43-cdbe45be42c6",
   "metadata": {},
   "source": [
    "### Manually inspect category consistency with ground truth labels"
   ]
  },
  {
   "cell_type": "code",
   "execution_count": 261,
   "id": "ccefae2b-12bb-4da4-b6de-f38ffab2bbf4",
   "metadata": {},
   "outputs": [],
   "source": [
    "def comparison_table(model_dict, results_df):\n",
    "    summary = []\n",
    "\n",
    "    for key, value in model_dict.items():\n",
    "        ari = np.round(adjusted_rand_score(results_df['category'].values, results_df[value].values), 3)\n",
    "        nmi = np.round(normalized_mutual_info_score(results_df['category'].values, results_df[value].values), 3)\n",
    "        summary.append([key, ari, nmi])\n",
    "\n",
    "    comparison_df = pd.DataFrame(results, columns=['Model','ARI', 'NMI'])\n",
    "    \n",
    "    return comparison_df"
   ]
  },
  {
   "cell_type": "code",
   "execution_count": 262,
   "id": "c2ba6c99-4edb-446f-8db8-c3ca8845a98d",
   "metadata": {},
   "outputs": [
    {
     "data": {
      "text/html": [
       "<div>\n",
       "<style scoped>\n",
       "    .dataframe tbody tr th:only-of-type {\n",
       "        vertical-align: middle;\n",
       "    }\n",
       "\n",
       "    .dataframe tbody tr th {\n",
       "        vertical-align: top;\n",
       "    }\n",
       "\n",
       "    .dataframe thead th {\n",
       "        text-align: right;\n",
       "    }\n",
       "</style>\n",
       "<table border=\"1\" class=\"dataframe\">\n",
       "  <thead>\n",
       "    <tr style=\"text-align: right;\">\n",
       "      <th></th>\n",
       "      <th>Model</th>\n",
       "      <th>ARI</th>\n",
       "      <th>NMI</th>\n",
       "    </tr>\n",
       "  </thead>\n",
       "  <tbody>\n",
       "    <tr>\n",
       "      <th>0</th>\n",
       "      <td>USE</td>\n",
       "      <td>0.268</td>\n",
       "      <td>0.725</td>\n",
       "    </tr>\n",
       "    <tr>\n",
       "      <th>1</th>\n",
       "      <td>Sent-Transformer_1</td>\n",
       "      <td>0.410</td>\n",
       "      <td>0.798</td>\n",
       "    </tr>\n",
       "  </tbody>\n",
       "</table>\n",
       "</div>"
      ],
      "text/plain": [
       "                Model    ARI    NMI\n",
       "0                 USE  0.268  0.725\n",
       "1  Sent-Transformer_1  0.410  0.798"
      ]
     },
     "execution_count": 262,
     "metadata": {},
     "output_type": "execute_result"
    }
   ],
   "source": [
    "model_dict = {'USE': 'label_use', \n",
    "              'Sent-Transformer_1': 'label_st1'}\n",
    "\n",
    "comparison_table(model_dict, results_df)"
   ]
  },
  {
   "cell_type": "code",
   "execution_count": null,
   "id": "94e184d3-969a-4f98-ba86-a7c5c985f955",
   "metadata": {},
   "outputs": [],
   "source": []
  }
 ],
 "metadata": {
  "kernelspec": {
   "display_name": "Python 3",
   "language": "python",
   "name": "python3"
  },
  "language_info": {
   "codemirror_mode": {
    "name": "ipython",
    "version": 3
   },
   "file_extension": ".py",
   "mimetype": "text/x-python",
   "name": "python",
   "nbconvert_exporter": "python",
   "pygments_lexer": "ipython3",
   "version": "3.9.6"
  }
 },
 "nbformat": 4,
 "nbformat_minor": 5
}
