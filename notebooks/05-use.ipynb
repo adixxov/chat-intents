{
 "cells": [
  {
   "cell_type": "markdown",
   "id": "3f8bcc5e-f730-43a6-9084-5e2338b0c244",
   "metadata": {},
   "source": [
    "# Chat Intents\n",
    "\n",
    "## UMAP + HDBSCAN"
   ]
  },
  {
   "cell_type": "code",
   "execution_count": 1,
   "id": "3c6fb567-223a-4f20-8895-b4352b7ea567",
   "metadata": {},
   "outputs": [],
   "source": [
    "import numpy as np\n",
    "import pandas as pd\n",
    "\n",
    "pd.set_option(\"display.max_rows\", 600)\n",
    "pd.set_option(\"display.max_columns\", 500)\n",
    "pd.set_option(\"max_colwidth\", 400)\n",
    "\n",
    "import matplotlib.pyplot as plt\n",
    "\n",
    "import hdbscan\n",
    "import umap\n",
    "from sklearn.metrics.cluster import normalized_mutual_info_score\n",
    "from sklearn.metrics.cluster import adjusted_rand_score\n",
    "\n",
    "import random\n",
    "from tqdm.notebook import tqdm, trange\n",
    "from functools import partial\n",
    "from hyperopt import fmin, tpe, hp, STATUS_OK, space_eval, Trials"
   ]
  },
  {
   "cell_type": "code",
   "execution_count": 2,
   "id": "c37b0de2-6b5b-47be-8c08-4c29c3d1f1ab",
   "metadata": {},
   "outputs": [],
   "source": [
    "import tensorflow as tf\n",
    "import tensorflow_hub as hub"
   ]
  },
  {
   "cell_type": "code",
   "execution_count": 3,
   "id": "fcc2a159-0d7c-4fb0-a118-1dff55161cde",
   "metadata": {},
   "outputs": [],
   "source": [
    "from sentence_transformers import SentenceTransformer"
   ]
  },
  {
   "cell_type": "markdown",
   "id": "1fd4839b-afa4-4714-8b84-16056ec8a284",
   "metadata": {},
   "source": [
    "### Load data and pre-trained models"
   ]
  },
  {
   "cell_type": "code",
   "execution_count": 4,
   "id": "a97675ac-dcb0-4bf2-83a9-48ef9249d9da",
   "metadata": {},
   "outputs": [
    {
     "data": {
      "text/html": [
       "<div>\n",
       "<style scoped>\n",
       "    .dataframe tbody tr th:only-of-type {\n",
       "        vertical-align: middle;\n",
       "    }\n",
       "\n",
       "    .dataframe tbody tr th {\n",
       "        vertical-align: top;\n",
       "    }\n",
       "\n",
       "    .dataframe thead th {\n",
       "        text-align: right;\n",
       "    }\n",
       "</style>\n",
       "<table border=\"1\" class=\"dataframe\">\n",
       "  <thead>\n",
       "    <tr style=\"text-align: right;\">\n",
       "      <th></th>\n",
       "      <th>Unnamed: 0</th>\n",
       "      <th>text</th>\n",
       "      <th>category</th>\n",
       "      <th>cleaned_text</th>\n",
       "    </tr>\n",
       "  </thead>\n",
       "  <tbody>\n",
       "    <tr>\n",
       "      <th>0</th>\n",
       "      <td>1024</td>\n",
       "      <td>I'm worried my card might be lost in the mail? How long does it usually take to arrive?</td>\n",
       "      <td>card_delivery_estimate</td>\n",
       "      <td>im worried card might lost mail long usually take arrive</td>\n",
       "    </tr>\n",
       "    <tr>\n",
       "      <th>1</th>\n",
       "      <td>9405</td>\n",
       "      <td>I got charged a fee that shouldn't be there from my cash</td>\n",
       "      <td>cash_withdrawal_charge</td>\n",
       "      <td>got charged fee shouldnt cash</td>\n",
       "    </tr>\n",
       "    <tr>\n",
       "      <th>2</th>\n",
       "      <td>9368</td>\n",
       "      <td>Do you charge for making a withdrawal? I took some money out of my account earlier and I was charged for this.</td>\n",
       "      <td>cash_withdrawal_charge</td>\n",
       "      <td>charge making withdrawal took money account earlier charged</td>\n",
       "    </tr>\n",
       "    <tr>\n",
       "      <th>3</th>\n",
       "      <td>3414</td>\n",
       "      <td>Is there an issue with my account?  I don't see a cheque deposit that I made yesterday.  Please assist.</td>\n",
       "      <td>balance_not_updated_after_cheque_or_cash_deposit</td>\n",
       "      <td>issue account dont see cheque deposit made yesterday please assist</td>\n",
       "    </tr>\n",
       "    <tr>\n",
       "      <th>4</th>\n",
       "      <td>7402</td>\n",
       "      <td>Are there ways for other people to send me money?</td>\n",
       "      <td>receiving_money</td>\n",
       "      <td>way people send money</td>\n",
       "    </tr>\n",
       "  </tbody>\n",
       "</table>\n",
       "</div>"
      ],
      "text/plain": [
       "   Unnamed: 0  \\\n",
       "0        1024   \n",
       "1        9405   \n",
       "2        9368   \n",
       "3        3414   \n",
       "4        7402   \n",
       "\n",
       "                                                                                                             text  \\\n",
       "0                         I'm worried my card might be lost in the mail? How long does it usually take to arrive?   \n",
       "1                                                        I got charged a fee that shouldn't be there from my cash   \n",
       "2  Do you charge for making a withdrawal? I took some money out of my account earlier and I was charged for this.   \n",
       "3         Is there an issue with my account?  I don't see a cheque deposit that I made yesterday.  Please assist.   \n",
       "4                                                               Are there ways for other people to send me money?   \n",
       "\n",
       "                                           category  \\\n",
       "0                            card_delivery_estimate   \n",
       "1                            cash_withdrawal_charge   \n",
       "2                            cash_withdrawal_charge   \n",
       "3  balance_not_updated_after_cheque_or_cash_deposit   \n",
       "4                                   receiving_money   \n",
       "\n",
       "                                                         cleaned_text  \n",
       "0            im worried card might lost mail long usually take arrive  \n",
       "1                                       got charged fee shouldnt cash  \n",
       "2         charge making withdrawal took money account earlier charged  \n",
       "3  issue account dont see cheque deposit made yesterday please assist  \n",
       "4                                               way people send money  "
      ]
     },
     "execution_count": 4,
     "metadata": {},
     "output_type": "execute_result"
    }
   ],
   "source": [
    "data_sample = pd.read_csv('../data/processed/data_sample.csv')\n",
    "data_sample.head()"
   ]
  },
  {
   "cell_type": "code",
   "execution_count": 5,
   "id": "ddc170db-1e83-4217-98a5-1d97b4543558",
   "metadata": {},
   "outputs": [
    {
     "data": {
      "text/plain": [
       "1000"
      ]
     },
     "execution_count": 5,
     "metadata": {},
     "output_type": "execute_result"
    }
   ],
   "source": [
    "all_intents = list(data_sample['text'])\n",
    "len(all_intents)"
   ]
  },
  {
   "cell_type": "code",
   "execution_count": 7,
   "id": "7cd3c824-2a63-4b01-9a6b-7aae1d132d5e",
   "metadata": {},
   "outputs": [
    {
     "name": "stderr",
     "output_type": "stream",
     "text": [
      "INFO:absl:Downloading TF-Hub Module 'https://tfhub.dev/google/universal-sentence-encoder/4'.\n",
      "INFO:absl:Downloading https://tfhub.dev/google/universal-sentence-encoder/4: 230.00MB\n",
      "INFO:absl:Downloading https://tfhub.dev/google/universal-sentence-encoder/4: 450.00MB\n",
      "INFO:absl:Downloading https://tfhub.dev/google/universal-sentence-encoder/4: 680.00MB\n",
      "INFO:absl:Downloading https://tfhub.dev/google/universal-sentence-encoder/4: 850.00MB\n",
      "INFO:absl:Downloaded https://tfhub.dev/google/universal-sentence-encoder/4, Total size: 987.47MB\n",
      "INFO:absl:Downloaded TF-Hub Module 'https://tfhub.dev/google/universal-sentence-encoder/4'.\n"
     ]
    },
    {
     "name": "stdout",
     "output_type": "stream",
     "text": [
      "module https://tfhub.dev/google/universal-sentence-encoder/4 loaded\n"
     ]
    }
   ],
   "source": [
    "module_url = \"https://tfhub.dev/google/universal-sentence-encoder/4\"\n",
    "model_use = hub.load(module_url)\n",
    "\n",
    "print(f\"module {module_url} loaded\")"
   ]
  },
  {
   "cell_type": "code",
   "execution_count": 8,
   "id": "97016d39-1ffd-4efa-aa25-4cc53fe71ff0",
   "metadata": {
    "scrolled": true,
    "tags": []
   },
   "outputs": [],
   "source": [
    "model_st1 = SentenceTransformer('paraphrase-mpnet-base-v2')\n",
    "model_st2 = SentenceTransformer('paraphrase-distilroberta-base-v2')\n",
    "model_st3 = SentenceTransformer('stsb-mpnet-base-v2')"
   ]
  },
  {
   "cell_type": "code",
   "execution_count": 9,
   "id": "b53dbf49-2707-4f49-900c-6de896900818",
   "metadata": {},
   "outputs": [],
   "source": [
    "def embed(model, model_type, sentences):\n",
    "    if model_type == 'use':\n",
    "        embeddings = model(sentences)\n",
    "    elif model_type == 'sentence transformer':\n",
    "        embeddings = model.encode(sentences)\n",
    "    \n",
    "    return embeddings"
   ]
  },
  {
   "cell_type": "code",
   "execution_count": 10,
   "id": "25f438c7-1e73-479e-ba94-5de20a6062ca",
   "metadata": {},
   "outputs": [
    {
     "data": {
      "text/plain": [
       "TensorShape([1000, 512])"
      ]
     },
     "execution_count": 10,
     "metadata": {},
     "output_type": "execute_result"
    }
   ],
   "source": [
    "embeddings_use = embed(model_use, 'use', all_intents)\n",
    "embeddings_use.shape"
   ]
  },
  {
   "cell_type": "code",
   "execution_count": 11,
   "id": "03963e44-cffb-49fd-afb4-e6989d8b6514",
   "metadata": {},
   "outputs": [
    {
     "data": {
      "text/plain": [
       "(1000, 768)"
      ]
     },
     "execution_count": 11,
     "metadata": {},
     "output_type": "execute_result"
    }
   ],
   "source": [
    "embeddings_st1 = embed(model_st1, 'sentence transformer', all_intents)\n",
    "embeddings_st1.shape"
   ]
  },
  {
   "cell_type": "code",
   "execution_count": 12,
   "id": "78b3d55e-5b74-416b-a8a1-74b47d9188f6",
   "metadata": {},
   "outputs": [
    {
     "data": {
      "text/plain": [
       "(1000, 768)"
      ]
     },
     "execution_count": 12,
     "metadata": {},
     "output_type": "execute_result"
    }
   ],
   "source": [
    "embeddings_st2 = embed(model_st2, 'sentence transformer', all_intents)\n",
    "embeddings_st2.shape"
   ]
  },
  {
   "cell_type": "code",
   "execution_count": 13,
   "id": "ba64e992-9f92-40fd-82dd-71dbf74e1d3f",
   "metadata": {},
   "outputs": [
    {
     "data": {
      "text/plain": [
       "(1000, 768)"
      ]
     },
     "execution_count": 13,
     "metadata": {},
     "output_type": "execute_result"
    }
   ],
   "source": [
    "embeddings_st3 = embed(model_st3, 'sentence transformer', all_intents)\n",
    "embeddings_st3.shape"
   ]
  },
  {
   "cell_type": "markdown",
   "id": "16ce0339-a8d7-42c8-a749-b55f7c980af7",
   "metadata": {},
   "source": [
    "### Helper functions"
   ]
  },
  {
   "cell_type": "code",
   "execution_count": 44,
   "id": "c0500d9f-6da3-427a-9287-fe5bf78ac33a",
   "metadata": {},
   "outputs": [],
   "source": [
    "def generate_clusters(message_embeddings, \n",
    "                      n_neighbors = 4, \n",
    "                      n_components = 5, \n",
    "                      min_cluster_size = 4,\n",
    "                      min_samples = None,\n",
    "                      random_state = None):\n",
    "    \n",
    "    umap_embeddings = (umap.UMAP(n_neighbors = n_neighbors, \n",
    "                                n_components = n_components, \n",
    "                                metric = 'cosine', \n",
    "                                random_state=random_state)\n",
    "                            .fit_transform(message_embeddings))\n",
    "\n",
    "    clusters = hdbscan.HDBSCAN(min_cluster_size = min_cluster_size, \n",
    "                               min_samples = min_samples,\n",
    "                               metric='euclidean', \n",
    "                               gen_min_span_tree=True,\n",
    "                               cluster_selection_method='eom').fit(umap_embeddings)\n",
    "    \n",
    "    return clusters"
   ]
  },
  {
   "cell_type": "code",
   "execution_count": 45,
   "id": "6a051571-522d-4ace-99ad-a46af0f46e1f",
   "metadata": {},
   "outputs": [],
   "source": [
    "def score_clusters(clusters, prob_threshold = 0.05):\n",
    "    \"\"\"\n",
    "    Returns the label count and cost of a given cluster supplied from running hdbscan\n",
    "    \"\"\"\n",
    "    \n",
    "    #clusters = generate_clusters(message_embeddings, n_neighbors, n_components, min_cluster_size, random_state)\n",
    "    cluster_labels = clusters.labels_\n",
    "    label_count = len(np.unique(cluster_labels))\n",
    "    total_num = len(clusters.labels_)\n",
    "    cost = (np.count_nonzero(clusters.probabilities_ < prob_threshold)/total_num)\n",
    "    validity = clusters.relative_validity_\n",
    "    \n",
    "    return label_count, cost, validity"
   ]
  },
  {
   "cell_type": "code",
   "execution_count": 46,
   "id": "63ed3831-173b-401c-8050-bfc0b82e605d",
   "metadata": {},
   "outputs": [],
   "source": [
    "def random_search(embeddings, num_evals):\n",
    "    space = {\n",
    "        \"n_neighbors\": range(3,16),\n",
    "        \"n_components\": range(3,16),\n",
    "        \"min_cluster_size\": range(2,15)\n",
    "    }\n",
    "    \n",
    "    results = []\n",
    "    \n",
    "    for i in trange(num_evals):\n",
    "        n_neighbors = random.choice(space['n_neighbors'])\n",
    "        n_components = random.choice(space['n_components'])\n",
    "        min_cluster_size = random.choice(space['min_cluster_size'])\n",
    "        \n",
    "        clusters = generate_clusters(embeddings, \n",
    "                                     n_neighbors = n_neighbors, \n",
    "                                     n_components = n_components, \n",
    "                                     min_cluster_size = min_cluster_size, \n",
    "                                     #min_samples = min_samples,\n",
    "                                     random_state = 42)\n",
    "    \n",
    "        label_count, cost, validity = score_clusters(clusters, prob_threshold = 0.05)\n",
    "        \n",
    "        predicted_labels = clusters.labels_\n",
    "        ground_labels = data_sample.category\n",
    "        ari = np.round(adjusted_rand_score(ground_labels, predicted_labels), 3)\n",
    "        nmi = np.round(normalized_mutual_info_score(ground_labels, predicted_labels), 3)\n",
    "                \n",
    "        results.append([i, n_neighbors, n_components, min_cluster_size, label_count, cost, validity, ari, nmi])\n",
    "    \n",
    "    result_df = pd.DataFrame(results, columns=['run_id', 'n_neighbors', 'n_components', \n",
    "                                               'min_cluster_size', 'label_count', 'cost', 'validity', \n",
    "                                               'ari', 'nmi'])\n",
    "    \n",
    "    return result_df.sort_values(by='cost')"
   ]
  },
  {
   "cell_type": "code",
   "execution_count": 59,
   "id": "11003f1c-59d4-476e-bd9f-4c0d60748222",
   "metadata": {},
   "outputs": [],
   "source": [
    "def objective(params, embeddings, random_state, score):\n",
    "    \n",
    "    clusters = generate_clusters(embeddings, \n",
    "                                 n_neighbors = params['n_neighbors'], \n",
    "                                 n_components = params['n_components'], \n",
    "                                 min_cluster_size = params['min_cluster_size'], \n",
    "                                 random_state = random_state)\n",
    "    \n",
    "    label_count, cost, validity = score_clusters(clusters, prob_threshold = 0.05)\n",
    "    \n",
    "    #10% penalty on the cost function if outside the desired range of groups\n",
    "    if (label_count < 30) | (label_count > 100):\n",
    "        penalty = 0.1 \n",
    "    else:\n",
    "        penalty = 0\n",
    "    \n",
    "    if score == 'cost':\n",
    "        loss = cost + penalty\n",
    "    elif score == 'validity':\n",
    "        loss = - validity + 2 * penalty\n",
    "    \n",
    "    return {'loss': loss, 'label_count': label_count, 'cost': cost, 'validity': validity, 'status': STATUS_OK}"
   ]
  },
  {
   "cell_type": "code",
   "execution_count": 60,
   "id": "7e829b7e-4f14-4109-95a9-1516e29dd568",
   "metadata": {},
   "outputs": [],
   "source": [
    "def bayesian_search(embeddings, max_evals=100, score='cost'):\n",
    "    \n",
    "    space = {\n",
    "        \"n_neighbors\": hp.choice('n_neighbors', range(3,16)),\n",
    "        \"n_components\": hp.choice('n_components', range(3,16)),\n",
    "        \"min_cluster_size\": hp.choice('min_cluster_size', range(2,15))\n",
    "        #\"min_samples\": hp.choice('min_samples', range(15,35))\n",
    "    }\n",
    "    \n",
    "    trials = Trials()\n",
    "    fmin_objective = partial(objective, embeddings=embeddings, random_state=42, score=score)\n",
    "    best = fmin(fmin_objective, \n",
    "                space = space, \n",
    "                algo=tpe.suggest,\n",
    "                #algo=partial(tpe.suggest, n_startup_jobs=20),#otherwise the first 20 will be random by default\n",
    "                max_evals=max_evals, \n",
    "                trials=trials)\n",
    "\n",
    "    best_params = space_eval(space, best)\n",
    "    print ('best:')\n",
    "    print (best_params)\n",
    "    print (f\"label count: {trials.best_trial['result']['label_count']}\")\n",
    "    \n",
    "    return best_params, trials"
   ]
  },
  {
   "cell_type": "code",
   "execution_count": 61,
   "id": "892bda42-f2b1-4d4b-a01b-2ff3a957ac00",
   "metadata": {},
   "outputs": [],
   "source": [
    "def best_clusters(embeddings, best_params):\n",
    "    clusters_best = generate_clusters(embeddings, \n",
    "                                 n_neighbors = best_params['n_neighbors'], \n",
    "                                 n_components = best_params['n_components'], \n",
    "                                 min_cluster_size = best_params['min_cluster_size'], \n",
    "                                 random_state=42)\n",
    "    \n",
    "    return clusters_best"
   ]
  },
  {
   "cell_type": "code",
   "execution_count": 62,
   "id": "4962492b-1605-40d0-ab41-2c4aa7690d6a",
   "metadata": {},
   "outputs": [],
   "source": [
    "def combine_results(data_df, cluster_dict):\n",
    "    \n",
    "    #df = pd.DataFrame(all_messages, columns=['message'])\n",
    "    #df['category'] = all_messages.category\n",
    "\n",
    "    df = data_df.copy()\n",
    "    \n",
    "    for key, value in cluster_dict.items():\n",
    "        df[key] = value.labels_\n",
    "    \n",
    "    return df"
   ]
  },
  {
   "cell_type": "code",
   "execution_count": 63,
   "id": "4acf9098-3414-484b-a499-d86f1f87d0e9",
   "metadata": {},
   "outputs": [],
   "source": [
    "def plot_clusters(embeddings, clusters, n_neighbors=4):\n",
    "    umap_data = umap.UMAP(n_neighbors=n_neighbors, \n",
    "                          n_components=2, \n",
    "                          min_dist = 0.0, \n",
    "                          metric='cosine', \n",
    "                          random_state=42).fit_transform(embeddings)\n",
    "\n",
    "    result = pd.DataFrame(umap_data, columns=['x', 'y'])\n",
    "    result['labels'] = clusters.labels_\n",
    "\n",
    "    fig, ax = plt.subplots(figsize=(14, 8))\n",
    "    outliers = result.loc[result.labels == -1, :]\n",
    "    clustered = result.loc[result.labels != -1, :]\n",
    "    plt.scatter(outliers.x, outliers.y, color = '#BDBDBD', s=4)\n",
    "    plt.scatter(clustered.x, clustered.y, c=clustered.labels, s=4, cmap='hsv_r')\n",
    "    plt.colorbar()\n",
    "    plt.show()"
   ]
  },
  {
   "cell_type": "code",
   "execution_count": 64,
   "id": "ccefae2b-12bb-4da4-b6de-f38ffab2bbf4",
   "metadata": {},
   "outputs": [],
   "source": [
    "def comparison_table(model_dict, results_df):\n",
    "    summary = []\n",
    "\n",
    "    for key, value in model_dict.items():\n",
    "        ari = np.round(adjusted_rand_score(results_df['category'].values, results_df[value].values), 3)\n",
    "        nmi = np.round(normalized_mutual_info_score(results_df['category'].values, results_df[value].values), 3)\n",
    "        summary.append([key, ari, nmi])\n",
    "\n",
    "    comparison_df = pd.DataFrame(summary, columns=['Model','ARI', 'NMI'])\n",
    "    \n",
    "    return comparison_df"
   ]
  },
  {
   "cell_type": "markdown",
   "id": "eff16945-e71a-4e42-be59-9c2d2074bbc4",
   "metadata": {},
   "source": [
    "### Random hyperparameter search"
   ]
  },
  {
   "cell_type": "code",
   "execution_count": 23,
   "id": "7f95f326-5ed7-456e-afe7-c774206352a9",
   "metadata": {},
   "outputs": [
    {
     "data": {
      "application/vnd.jupyter.widget-view+json": {
       "model_id": "217179580850413aadbd829af4714f40",
       "version_major": 2,
       "version_minor": 0
      },
      "text/plain": [
       "  0%|          | 0/100 [00:00<?, ?it/s]"
      ]
     },
     "metadata": {},
     "output_type": "display_data"
    },
    {
     "name": "stdout",
     "output_type": "stream",
     "text": [
      "CPU times: user 6min 16s, sys: 5.55 s, total: 6min 22s\n",
      "Wall time: 5min 58s\n"
     ]
    }
   ],
   "source": [
    "%%time\n",
    "random_use = random_search(embeddings_use, 100)"
   ]
  },
  {
   "cell_type": "code",
   "execution_count": 24,
   "id": "0483c7dd-7ad9-4af9-9fc2-9d4e9949f6ea",
   "metadata": {},
   "outputs": [
    {
     "data": {
      "text/html": [
       "<div>\n",
       "<style scoped>\n",
       "    .dataframe tbody tr th:only-of-type {\n",
       "        vertical-align: middle;\n",
       "    }\n",
       "\n",
       "    .dataframe tbody tr th {\n",
       "        vertical-align: top;\n",
       "    }\n",
       "\n",
       "    .dataframe thead th {\n",
       "        text-align: right;\n",
       "    }\n",
       "</style>\n",
       "<table border=\"1\" class=\"dataframe\">\n",
       "  <thead>\n",
       "    <tr style=\"text-align: right;\">\n",
       "      <th></th>\n",
       "      <th>run_id</th>\n",
       "      <th>n_neighbors</th>\n",
       "      <th>n_components</th>\n",
       "      <th>min_cluster_size</th>\n",
       "      <th>label_count</th>\n",
       "      <th>cost</th>\n",
       "      <th>validity</th>\n",
       "      <th>ari</th>\n",
       "      <th>nmi</th>\n",
       "    </tr>\n",
       "  </thead>\n",
       "  <tbody>\n",
       "    <tr>\n",
       "      <th>48</th>\n",
       "      <td>48</td>\n",
       "      <td>6</td>\n",
       "      <td>4</td>\n",
       "      <td>13</td>\n",
       "      <td>8</td>\n",
       "      <td>0.018</td>\n",
       "      <td>0.164231</td>\n",
       "      <td>0.022</td>\n",
       "      <td>0.349</td>\n",
       "    </tr>\n",
       "    <tr>\n",
       "      <th>34</th>\n",
       "      <td>34</td>\n",
       "      <td>6</td>\n",
       "      <td>14</td>\n",
       "      <td>14</td>\n",
       "      <td>6</td>\n",
       "      <td>0.018</td>\n",
       "      <td>0.303077</td>\n",
       "      <td>0.007</td>\n",
       "      <td>0.220</td>\n",
       "    </tr>\n",
       "    <tr>\n",
       "      <th>71</th>\n",
       "      <td>71</td>\n",
       "      <td>13</td>\n",
       "      <td>9</td>\n",
       "      <td>12</td>\n",
       "      <td>7</td>\n",
       "      <td>0.021</td>\n",
       "      <td>0.170986</td>\n",
       "      <td>0.014</td>\n",
       "      <td>0.302</td>\n",
       "    </tr>\n",
       "    <tr>\n",
       "      <th>64</th>\n",
       "      <td>64</td>\n",
       "      <td>10</td>\n",
       "      <td>11</td>\n",
       "      <td>14</td>\n",
       "      <td>6</td>\n",
       "      <td>0.025</td>\n",
       "      <td>0.276467</td>\n",
       "      <td>0.009</td>\n",
       "      <td>0.246</td>\n",
       "    </tr>\n",
       "    <tr>\n",
       "      <th>27</th>\n",
       "      <td>27</td>\n",
       "      <td>4</td>\n",
       "      <td>11</td>\n",
       "      <td>2</td>\n",
       "      <td>161</td>\n",
       "      <td>0.087</td>\n",
       "      <td>0.322784</td>\n",
       "      <td>0.261</td>\n",
       "      <td>0.759</td>\n",
       "    </tr>\n",
       "    <tr>\n",
       "      <th>79</th>\n",
       "      <td>79</td>\n",
       "      <td>3</td>\n",
       "      <td>12</td>\n",
       "      <td>2</td>\n",
       "      <td>176</td>\n",
       "      <td>0.092</td>\n",
       "      <td>0.372814</td>\n",
       "      <td>0.208</td>\n",
       "      <td>0.745</td>\n",
       "    </tr>\n",
       "    <tr>\n",
       "      <th>29</th>\n",
       "      <td>29</td>\n",
       "      <td>6</td>\n",
       "      <td>10</td>\n",
       "      <td>10</td>\n",
       "      <td>21</td>\n",
       "      <td>0.102</td>\n",
       "      <td>0.437040</td>\n",
       "      <td>0.124</td>\n",
       "      <td>0.596</td>\n",
       "    </tr>\n",
       "    <tr>\n",
       "      <th>23</th>\n",
       "      <td>23</td>\n",
       "      <td>12</td>\n",
       "      <td>8</td>\n",
       "      <td>10</td>\n",
       "      <td>21</td>\n",
       "      <td>0.103</td>\n",
       "      <td>0.449047</td>\n",
       "      <td>0.154</td>\n",
       "      <td>0.604</td>\n",
       "    </tr>\n",
       "    <tr>\n",
       "      <th>97</th>\n",
       "      <td>97</td>\n",
       "      <td>6</td>\n",
       "      <td>10</td>\n",
       "      <td>5</td>\n",
       "      <td>55</td>\n",
       "      <td>0.113</td>\n",
       "      <td>0.216194</td>\n",
       "      <td>0.253</td>\n",
       "      <td>0.708</td>\n",
       "    </tr>\n",
       "    <tr>\n",
       "      <th>7</th>\n",
       "      <td>7</td>\n",
       "      <td>6</td>\n",
       "      <td>4</td>\n",
       "      <td>2</td>\n",
       "      <td>154</td>\n",
       "      <td>0.123</td>\n",
       "      <td>0.333867</td>\n",
       "      <td>0.192</td>\n",
       "      <td>0.741</td>\n",
       "    </tr>\n",
       "  </tbody>\n",
       "</table>\n",
       "</div>"
      ],
      "text/plain": [
       "    run_id  n_neighbors  n_components  min_cluster_size  label_count   cost  \\\n",
       "48      48            6             4                13            8  0.018   \n",
       "34      34            6            14                14            6  0.018   \n",
       "71      71           13             9                12            7  0.021   \n",
       "64      64           10            11                14            6  0.025   \n",
       "27      27            4            11                 2          161  0.087   \n",
       "79      79            3            12                 2          176  0.092   \n",
       "29      29            6            10                10           21  0.102   \n",
       "23      23           12             8                10           21  0.103   \n",
       "97      97            6            10                 5           55  0.113   \n",
       "7        7            6             4                 2          154  0.123   \n",
       "\n",
       "    validity    ari    nmi  \n",
       "48  0.164231  0.022  0.349  \n",
       "34  0.303077  0.007  0.220  \n",
       "71  0.170986  0.014  0.302  \n",
       "64  0.276467  0.009  0.246  \n",
       "27  0.322784  0.261  0.759  \n",
       "79  0.372814  0.208  0.745  \n",
       "29  0.437040  0.124  0.596  \n",
       "23  0.449047  0.154  0.604  \n",
       "97  0.216194  0.253  0.708  \n",
       "7   0.333867  0.192  0.741  "
      ]
     },
     "execution_count": 24,
     "metadata": {},
     "output_type": "execute_result"
    }
   ],
   "source": [
    "random_use.head(10)"
   ]
  },
  {
   "cell_type": "code",
   "execution_count": 38,
   "id": "21e8add2-f001-479b-b22c-70eb1df110b9",
   "metadata": {},
   "outputs": [],
   "source": [
    "def score_correlation(table):\n",
    "    print(f\"Cost-NMI correlation: {table['cost'].corr(table['nmi'])}\")\n",
    "    print(f\"Validity-NMI correlation: {table['validity'].corr(table['nmi'])}\")\n",
    "    print(f\"Cost-ARI correlation: {table['cost'].corr(table['ari'])}\")\n",
    "    print(f\"Validity-ARI correlation: {table['validity'].corr(table['ari'])}\")"
   ]
  },
  {
   "cell_type": "code",
   "execution_count": 39,
   "id": "e3eafaab-4c98-4170-8fe8-54158547dd11",
   "metadata": {},
   "outputs": [
    {
     "name": "stdout",
     "output_type": "stream",
     "text": [
      "Cost-NMI correlation: 0.1664353694662755\n",
      "Validity-NMI correlation: 0.16412389264507318\n",
      "Cost-ARI correlation: -0.06087947434353141\n",
      "Validity-ARI correlation: 0.12892797098036415\n"
     ]
    }
   ],
   "source": [
    "score_correlation(random_use)"
   ]
  },
  {
   "cell_type": "code",
   "execution_count": 40,
   "id": "6dc5d29a-4d2d-4f45-bff9-86f2157a5fc3",
   "metadata": {},
   "outputs": [
    {
     "name": "stdout",
     "output_type": "stream",
     "text": [
      "Cost-NMI correlation: 0.41584956701122194\n",
      "Validity-NMI correlation: 0.3997472677482916\n",
      "Cost-ARI correlation: 0.2082564648838052\n",
      "Validity-ARI correlation: 0.35740671637829874\n"
     ]
    }
   ],
   "source": [
    "score_correlation(random_st1)"
   ]
  },
  {
   "cell_type": "code",
   "execution_count": 31,
   "id": "9cca5e91-e3d6-4b6d-9996-636f19a138e9",
   "metadata": {},
   "outputs": [
    {
     "data": {
      "application/vnd.jupyter.widget-view+json": {
       "model_id": "a8205e1efab6422ebfe619bd777f1eb5",
       "version_major": 2,
       "version_minor": 0
      },
      "text/plain": [
       "  0%|          | 0/100 [00:00<?, ?it/s]"
      ]
     },
     "metadata": {},
     "output_type": "display_data"
    }
   ],
   "source": [
    "random_st1 = random_search(embeddings_st1, 100)"
   ]
  },
  {
   "cell_type": "code",
   "execution_count": 43,
   "id": "1e59f2bd-73e7-48c0-ad1c-1e256b37329d",
   "metadata": {},
   "outputs": [
    {
     "name": "stdout",
     "output_type": "stream",
     "text": [
      "Cost-NMI correlation: 0.19574491224389348\n",
      "Validity-NMI correlation: 0.2904326874392005\n",
      "Cost-ARI correlation: -0.0007330915757505621\n",
      "Validity-ARI correlation: 0.27024802706841505\n"
     ]
    }
   ],
   "source": [
    "compile_df = random_use.append(random_st1, ignore_index=True)\n",
    "score_correlation(compile_df)"
   ]
  },
  {
   "cell_type": "markdown",
   "id": "89502189-0e3f-4b1b-af25-9df568582846",
   "metadata": {},
   "source": [
    "### Bayesian optimization with Hyperopt"
   ]
  },
  {
   "cell_type": "markdown",
   "id": "c1498ac7-c66f-4683-a20c-2ec99f257891",
   "metadata": {},
   "source": [
    "### Find best params for each model"
   ]
  },
  {
   "cell_type": "code",
   "execution_count": 23,
   "id": "b1254a08-77e2-432b-a122-0f1a11433410",
   "metadata": {},
   "outputs": [
    {
     "name": "stdout",
     "output_type": "stream",
     "text": [
      "100%|██████████| 100/100 [05:09<00:00,  3.10s/trial, best loss: 0.092]\n",
      "best:\n",
      "{'min_cluster_size': 4, 'n_components': 9, 'n_neighbors': 3}\n",
      "label count: 82\n"
     ]
    }
   ],
   "source": [
    "best_params_use, trials_use = bayesian_search(embeddings_use, max_evals=100)"
   ]
  },
  {
   "cell_type": "code",
   "execution_count": 24,
   "id": "6f12e2ce-dbea-40c3-98d5-9444355f811e",
   "metadata": {},
   "outputs": [
    {
     "data": {
      "text/plain": [
       "{'state': 2,\n",
       " 'tid': 60,\n",
       " 'spec': None,\n",
       " 'result': {'loss': 0.092, 'label_count': 82, 'status': 'ok'},\n",
       " 'misc': {'tid': 60,\n",
       "  'cmd': ('domain_attachment', 'FMinIter_Domain'),\n",
       "  'workdir': None,\n",
       "  'idxs': {'min_cluster_size': [60],\n",
       "   'n_components': [60],\n",
       "   'n_neighbors': [60]},\n",
       "  'vals': {'min_cluster_size': [2], 'n_components': [6], 'n_neighbors': [0]}},\n",
       " 'exp_key': None,\n",
       " 'owner': None,\n",
       " 'version': 0,\n",
       " 'book_time': datetime.datetime(2021, 9, 2, 0, 5, 53, 245000),\n",
       " 'refresh_time': datetime.datetime(2021, 9, 2, 0, 5, 55, 747000)}"
      ]
     },
     "execution_count": 24,
     "metadata": {},
     "output_type": "execute_result"
    }
   ],
   "source": [
    "trials_use.best_trial"
   ]
  },
  {
   "cell_type": "code",
   "execution_count": 25,
   "id": "ac785ff5-c9db-41bf-aae6-60bcbbe087e8",
   "metadata": {},
   "outputs": [
    {
     "name": "stdout",
     "output_type": "stream",
     "text": [
      "100%|██████████| 100/100 [06:00<00:00,  3.61s/trial, best loss: 0.07]\n",
      "best:\n",
      "{'min_cluster_size': 3, 'n_components': 11, 'n_neighbors': 5}\n",
      "label count: 97\n"
     ]
    }
   ],
   "source": [
    "best_params_st1, trials_st1 = bayesian_search(embeddings_st1, max_evals=100)"
   ]
  },
  {
   "cell_type": "code",
   "execution_count": 26,
   "id": "7c2644a6-d83c-463f-9b51-192b94cd6bb9",
   "metadata": {},
   "outputs": [
    {
     "name": "stdout",
     "output_type": "stream",
     "text": [
      "100%|██████████| 100/100 [05:52<00:00,  3.52s/trial, best loss: 0.077]            \n",
      "best:\n",
      "{'min_cluster_size': 5, 'n_components': 13, 'n_neighbors': 3}\n",
      "label count: 69\n"
     ]
    }
   ],
   "source": [
    "best_params_st2, trials_st2 = bayesian_search(embeddings_st2, max_evals=100)"
   ]
  },
  {
   "cell_type": "code",
   "execution_count": 27,
   "id": "4c7b700b-84a8-4a8f-b87f-387a7538a09b",
   "metadata": {},
   "outputs": [
    {
     "name": "stdout",
     "output_type": "stream",
     "text": [
      "100%|██████████| 100/100 [06:03<00:00,  3.63s/trial, best loss: 0.085]\n",
      "best:\n",
      "{'min_cluster_size': 4, 'n_components': 12, 'n_neighbors': 5}\n",
      "label count: 76\n"
     ]
    }
   ],
   "source": [
    "best_params_st3, trials_st3 = bayesian_search(embeddings_st3, max_evals=100)"
   ]
  },
  {
   "cell_type": "code",
   "execution_count": 65,
   "id": "448f62bd-bf15-472a-a4c0-d73774dabaae",
   "metadata": {},
   "outputs": [
    {
     "name": "stdout",
     "output_type": "stream",
     "text": [
      "100%|██████████| 100/100 [05:19<00:00,  3.19s/trial, best loss: -0.49207440050453716]\n",
      "best:\n",
      "{'min_cluster_size': 8, 'n_components': 12, 'n_neighbors': 12}\n",
      "label count: 30\n"
     ]
    }
   ],
   "source": [
    "best_params_use, trials_use = bayesian_search(embeddings_use, max_evals=100, score='validity')"
   ]
  },
  {
   "cell_type": "code",
   "execution_count": 66,
   "id": "3bcb891f-e67f-4e8e-9e50-183dbd20c239",
   "metadata": {},
   "outputs": [
    {
     "name": "stdout",
     "output_type": "stream",
     "text": [
      "100%|██████████| 100/100 [05:36<00:00,  3.37s/trial, best loss: -0.4455296601142164]\n",
      "best:\n",
      "{'min_cluster_size': 10, 'n_components': 6, 'n_neighbors': 4}\n",
      "label count: 32\n"
     ]
    }
   ],
   "source": [
    "best_params_st1, trials_st1 = bayesian_search(embeddings_st1, max_evals=100, score='validity')"
   ]
  },
  {
   "cell_type": "code",
   "execution_count": 67,
   "id": "af6b6194-ab70-46da-af3b-05290598efc5",
   "metadata": {},
   "outputs": [
    {
     "name": "stdout",
     "output_type": "stream",
     "text": [
      "100%|██████████| 100/100 [05:31<00:00,  3.31s/trial, best loss: -0.4639671912528883]\n",
      "best:\n",
      "{'min_cluster_size': 8, 'n_components': 11, 'n_neighbors': 5}\n",
      "label count: 39\n"
     ]
    }
   ],
   "source": [
    "best_params_st2, trials_st2 = bayesian_search(embeddings_st2, max_evals=100, score='validity')"
   ]
  },
  {
   "cell_type": "code",
   "execution_count": 68,
   "id": "34336223-4471-43df-82a5-45b18d0a0c24",
   "metadata": {},
   "outputs": [
    {
     "name": "stdout",
     "output_type": "stream",
     "text": [
      "100%|██████████| 100/100 [05:32<00:00,  3.33s/trial, best loss: -0.45529630299864227]\n",
      "best:\n",
      "{'min_cluster_size': 8, 'n_components': 12, 'n_neighbors': 6}\n",
      "label count: 38\n"
     ]
    }
   ],
   "source": [
    "best_params_st3, trials_st3 = bayesian_search(embeddings_st3, max_evals=100, score='validity')"
   ]
  },
  {
   "cell_type": "code",
   "execution_count": 76,
   "id": "e355c58f-cd58-4951-a0fc-dba6d9c9fc1a",
   "metadata": {},
   "outputs": [
    {
     "name": "stdout",
     "output_type": "stream",
     "text": [
      "100%|██████████| 100/100 [05:13<00:00,  3.14s/trial, best loss: 0.079]\n",
      "best:\n",
      "{'min_cluster_size': 5, 'n_components': 11, 'n_neighbors': 3}\n",
      "label count: 57\n"
     ]
    }
   ],
   "source": [
    "best_params_use, trials_use = bayesian_search(embeddings_use, max_evals=100, score='cost')"
   ]
  },
  {
   "cell_type": "code",
   "execution_count": 77,
   "id": "ca4b4ed5-5245-4fb9-9b51-6551e2581283",
   "metadata": {},
   "outputs": [
    {
     "name": "stdout",
     "output_type": "stream",
     "text": [
      "100%|██████████| 100/100 [05:39<00:00,  3.40s/trial, best loss: 0.067]            \n",
      "best:\n",
      "{'min_cluster_size': 4, 'n_components': 6, 'n_neighbors': 3}\n",
      "label count: 91\n"
     ]
    }
   ],
   "source": [
    "best_params_st1, trials_st1 = bayesian_search(embeddings_st1, max_evals=100, score='cost')"
   ]
  },
  {
   "cell_type": "code",
   "execution_count": 78,
   "id": "972a0947-8a05-48b9-838c-636a4574a913",
   "metadata": {},
   "outputs": [
    {
     "name": "stdout",
     "output_type": "stream",
     "text": [
      "100%|██████████| 100/100 [05:17<00:00,  3.18s/trial, best loss: 0.07]\n",
      "best:\n",
      "{'min_cluster_size': 5, 'n_components': 4, 'n_neighbors': 3}\n",
      "label count: 73\n"
     ]
    }
   ],
   "source": [
    "best_params_st2, trials_st2 = bayesian_search(embeddings_st2, max_evals=100, score='cost')"
   ]
  },
  {
   "cell_type": "code",
   "execution_count": 79,
   "id": "24e55e75-829c-43e3-8c31-a656cd715c21",
   "metadata": {},
   "outputs": [
    {
     "name": "stdout",
     "output_type": "stream",
     "text": [
      "100%|██████████| 100/100 [1:00:22<00:00, 36.23s/trial, best loss: 0.083]\n",
      "best:\n",
      "{'min_cluster_size': 3, 'n_components': 8, 'n_neighbors': 6}\n",
      "label count: 91\n"
     ]
    }
   ],
   "source": [
    "best_params_st3, trials_st3 = bayesian_search(embeddings_st3, max_evals=100, score='cost')"
   ]
  },
  {
   "cell_type": "markdown",
   "id": "7bdb1583-a05d-4863-a419-80e802ac76d8",
   "metadata": {},
   "source": [
    "### Cluster using best params for each model"
   ]
  },
  {
   "cell_type": "code",
   "execution_count": 80,
   "id": "544e527f-2567-41ae-b82c-74b39d22bac9",
   "metadata": {},
   "outputs": [],
   "source": [
    "best_clusters_use = best_clusters(embeddings_use, best_params_use)"
   ]
  },
  {
   "cell_type": "code",
   "execution_count": 81,
   "id": "f19ceb8b-e9e5-43a0-8211-98c0b5dd4d00",
   "metadata": {},
   "outputs": [],
   "source": [
    "best_clusters_st1 = best_clusters(embeddings_st1, best_params_st1)"
   ]
  },
  {
   "cell_type": "code",
   "execution_count": 82,
   "id": "e8178296-fe6f-4286-9e27-07ddac81e42c",
   "metadata": {},
   "outputs": [],
   "source": [
    "best_clusters_st2 = best_clusters(embeddings_st2, best_params_st2)"
   ]
  },
  {
   "cell_type": "code",
   "execution_count": 83,
   "id": "b40f39b0-59a2-4d51-8dd6-db7543aaee83",
   "metadata": {},
   "outputs": [],
   "source": [
    "best_clusters_st3 = best_clusters(embeddings_st3, best_params_st3)"
   ]
  },
  {
   "cell_type": "markdown",
   "id": "45dcd399-f4de-4676-a68c-9edcf13a987b",
   "metadata": {},
   "source": [
    "## Evaluate clusters"
   ]
  },
  {
   "cell_type": "code",
   "execution_count": 84,
   "id": "0d77c824-a3b9-4603-a834-286ce2e815ec",
   "metadata": {},
   "outputs": [
    {
     "data": {
      "text/html": [
       "<div>\n",
       "<style scoped>\n",
       "    .dataframe tbody tr th:only-of-type {\n",
       "        vertical-align: middle;\n",
       "    }\n",
       "\n",
       "    .dataframe tbody tr th {\n",
       "        vertical-align: top;\n",
       "    }\n",
       "\n",
       "    .dataframe thead th {\n",
       "        text-align: right;\n",
       "    }\n",
       "</style>\n",
       "<table border=\"1\" class=\"dataframe\">\n",
       "  <thead>\n",
       "    <tr style=\"text-align: right;\">\n",
       "      <th></th>\n",
       "      <th>Unnamed: 0</th>\n",
       "      <th>text</th>\n",
       "      <th>category</th>\n",
       "      <th>cleaned_text</th>\n",
       "      <th>label_use</th>\n",
       "      <th>label_st1</th>\n",
       "      <th>label_st2</th>\n",
       "      <th>label_st3</th>\n",
       "    </tr>\n",
       "  </thead>\n",
       "  <tbody>\n",
       "    <tr>\n",
       "      <th>0</th>\n",
       "      <td>1024</td>\n",
       "      <td>I'm worried my card might be lost in the mail? How long does it usually take to arrive?</td>\n",
       "      <td>card_delivery_estimate</td>\n",
       "      <td>im worried card might lost mail long usually take arrive</td>\n",
       "      <td>27</td>\n",
       "      <td>48</td>\n",
       "      <td>25</td>\n",
       "      <td>52</td>\n",
       "    </tr>\n",
       "    <tr>\n",
       "      <th>1</th>\n",
       "      <td>9405</td>\n",
       "      <td>I got charged a fee that shouldn't be there from my cash</td>\n",
       "      <td>cash_withdrawal_charge</td>\n",
       "      <td>got charged fee shouldnt cash</td>\n",
       "      <td>31</td>\n",
       "      <td>52</td>\n",
       "      <td>27</td>\n",
       "      <td>87</td>\n",
       "    </tr>\n",
       "    <tr>\n",
       "      <th>2</th>\n",
       "      <td>9368</td>\n",
       "      <td>Do you charge for making a withdrawal? I took some money out of my account earlier and I was charged for this.</td>\n",
       "      <td>cash_withdrawal_charge</td>\n",
       "      <td>charge making withdrawal took money account earlier charged</td>\n",
       "      <td>31</td>\n",
       "      <td>52</td>\n",
       "      <td>27</td>\n",
       "      <td>87</td>\n",
       "    </tr>\n",
       "    <tr>\n",
       "      <th>3</th>\n",
       "      <td>3414</td>\n",
       "      <td>Is there an issue with my account?  I don't see a cheque deposit that I made yesterday.  Please assist.</td>\n",
       "      <td>balance_not_updated_after_cheque_or_cash_deposit</td>\n",
       "      <td>issue account dont see cheque deposit made yesterday please assist</td>\n",
       "      <td>48</td>\n",
       "      <td>66</td>\n",
       "      <td>29</td>\n",
       "      <td>79</td>\n",
       "    </tr>\n",
       "    <tr>\n",
       "      <th>4</th>\n",
       "      <td>7402</td>\n",
       "      <td>Are there ways for other people to send me money?</td>\n",
       "      <td>receiving_money</td>\n",
       "      <td>way people send money</td>\n",
       "      <td>34</td>\n",
       "      <td>39</td>\n",
       "      <td>27</td>\n",
       "      <td>44</td>\n",
       "    </tr>\n",
       "  </tbody>\n",
       "</table>\n",
       "</div>"
      ],
      "text/plain": [
       "   Unnamed: 0  \\\n",
       "0        1024   \n",
       "1        9405   \n",
       "2        9368   \n",
       "3        3414   \n",
       "4        7402   \n",
       "\n",
       "                                                                                                             text  \\\n",
       "0                         I'm worried my card might be lost in the mail? How long does it usually take to arrive?   \n",
       "1                                                        I got charged a fee that shouldn't be there from my cash   \n",
       "2  Do you charge for making a withdrawal? I took some money out of my account earlier and I was charged for this.   \n",
       "3         Is there an issue with my account?  I don't see a cheque deposit that I made yesterday.  Please assist.   \n",
       "4                                                               Are there ways for other people to send me money?   \n",
       "\n",
       "                                           category  \\\n",
       "0                            card_delivery_estimate   \n",
       "1                            cash_withdrawal_charge   \n",
       "2                            cash_withdrawal_charge   \n",
       "3  balance_not_updated_after_cheque_or_cash_deposit   \n",
       "4                                   receiving_money   \n",
       "\n",
       "                                                         cleaned_text  \\\n",
       "0            im worried card might lost mail long usually take arrive   \n",
       "1                                       got charged fee shouldnt cash   \n",
       "2         charge making withdrawal took money account earlier charged   \n",
       "3  issue account dont see cheque deposit made yesterday please assist   \n",
       "4                                               way people send money   \n",
       "\n",
       "   label_use  label_st1  label_st2  label_st3  \n",
       "0         27         48         25         52  \n",
       "1         31         52         27         87  \n",
       "2         31         52         27         87  \n",
       "3         48         66         29         79  \n",
       "4         34         39         27         44  "
      ]
     },
     "execution_count": 84,
     "metadata": {},
     "output_type": "execute_result"
    }
   ],
   "source": [
    "cluster_dict = {'label_use': best_clusters_use, \n",
    "                    'label_st1': best_clusters_st1, \n",
    "                    'label_st2': best_clusters_st2,\n",
    "                    'label_st3': best_clusters_st3}\n",
    "\n",
    "results_df = combine_results(data_sample, cluster_dict)\n",
    "    \n",
    "results_df.head()"
   ]
  },
  {
   "cell_type": "markdown",
   "id": "33768528-9a03-4216-9f99-3fe13d3a7053",
   "metadata": {
    "tags": []
   },
   "source": [
    "### Visually inspect clusters"
   ]
  },
  {
   "cell_type": "code",
   "execution_count": 94,
   "id": "2fcd3f1f-13cd-467a-95ac-042cdbf70582",
   "metadata": {
    "tags": []
   },
   "outputs": [
    {
     "data": {
      "image/png": "[encoded data removed]",
      "text/plain": [
       "<Figure size 1008x576 with 2 Axes>"
      ]
     },
     "metadata": {
      "needs_background": "light"
     },
     "output_type": "display_data"
    }
   ],
   "source": [
    "plot_clusters(embeddings_use, best_clusters_use, n_neighbors=4)"
   ]
  },
  {
   "cell_type": "code",
   "execution_count": 95,
   "id": "b8f4c148-edf3-45fd-a641-826e61c7484f",
   "metadata": {},
   "outputs": [
    {
     "data": {
      "image/png": "[encoded data removed]",
      "text/plain": [
       "<Figure size 1008x576 with 2 Axes>"
      ]
     },
     "metadata": {
      "needs_background": "light"
     },
     "output_type": "display_data"
    }
   ],
   "source": [
    "plot_clusters(embeddings_st1, best_clusters_st1, n_neighbors=4)"
   ]
  },
  {
   "cell_type": "markdown",
   "id": "0227de0c-5673-4b7e-8047-0247bba74124",
   "metadata": {},
   "source": [
    "### Manually inspect category consistency"
   ]
  },
  {
   "cell_type": "code",
   "execution_count": 38,
   "id": "98de948f-f400-477c-8070-3b8fafa28ecf",
   "metadata": {
    "tags": []
   },
   "outputs": [
    {
     "data": {
      "text/html": [
       "<div>\n",
       "<style scoped>\n",
       "    .dataframe tbody tr th:only-of-type {\n",
       "        vertical-align: middle;\n",
       "    }\n",
       "\n",
       "    .dataframe tbody tr th {\n",
       "        vertical-align: top;\n",
       "    }\n",
       "\n",
       "    .dataframe thead th {\n",
       "        text-align: right;\n",
       "    }\n",
       "</style>\n",
       "<table border=\"1\" class=\"dataframe\">\n",
       "  <thead>\n",
       "    <tr style=\"text-align: right;\">\n",
       "      <th></th>\n",
       "      <th>message</th>\n",
       "      <th>category</th>\n",
       "      <th>label_use</th>\n",
       "      <th>label_st1</th>\n",
       "      <th>label_st2</th>\n",
       "      <th>label_st3</th>\n",
       "    </tr>\n",
       "  </thead>\n",
       "  <tbody>\n",
       "    <tr>\n",
       "      <th>44</th>\n",
       "      <td>What are the countries you have offices in?</td>\n",
       "      <td>country_support</td>\n",
       "      <td>2</td>\n",
       "      <td>8</td>\n",
       "      <td>5</td>\n",
       "      <td>0</td>\n",
       "    </tr>\n",
       "    <tr>\n",
       "      <th>279</th>\n",
       "      <td>What countries are you available in?</td>\n",
       "      <td>country_support</td>\n",
       "      <td>2</td>\n",
       "      <td>8</td>\n",
       "      <td>5</td>\n",
       "      <td>0</td>\n",
       "    </tr>\n",
       "    <tr>\n",
       "      <th>295</th>\n",
       "      <td>What are the countries that you operate in?</td>\n",
       "      <td>country_support</td>\n",
       "      <td>2</td>\n",
       "      <td>8</td>\n",
       "      <td>5</td>\n",
       "      <td>0</td>\n",
       "    </tr>\n",
       "    <tr>\n",
       "      <th>503</th>\n",
       "      <td>Which countries do you operate in</td>\n",
       "      <td>country_support</td>\n",
       "      <td>2</td>\n",
       "      <td>8</td>\n",
       "      <td>5</td>\n",
       "      <td>0</td>\n",
       "    </tr>\n",
       "    <tr>\n",
       "      <th>600</th>\n",
       "      <td>How do I know which countries you provide service in?</td>\n",
       "      <td>country_support</td>\n",
       "      <td>2</td>\n",
       "      <td>8</td>\n",
       "      <td>5</td>\n",
       "      <td>0</td>\n",
       "    </tr>\n",
       "    <tr>\n",
       "      <th>898</th>\n",
       "      <td>I would like to know the countries you are offer services in?</td>\n",
       "      <td>country_support</td>\n",
       "      <td>2</td>\n",
       "      <td>8</td>\n",
       "      <td>5</td>\n",
       "      <td>0</td>\n",
       "    </tr>\n",
       "  </tbody>\n",
       "</table>\n",
       "</div>"
      ],
      "text/plain": [
       "                                                           message  \\\n",
       "44                     What are the countries you have offices in?   \n",
       "279                           What countries are you available in?   \n",
       "295                    What are the countries that you operate in?   \n",
       "503                              Which countries do you operate in   \n",
       "600          How do I know which countries you provide service in?   \n",
       "898  I would like to know the countries you are offer services in?   \n",
       "\n",
       "            category  label_use  label_st1  label_st2  label_st3  \n",
       "44   country_support          2          8          5          0  \n",
       "279  country_support          2          8          5          0  \n",
       "295  country_support          2          8          5          0  \n",
       "503  country_support          2          8          5          0  \n",
       "600  country_support          2          8          5          0  \n",
       "898  country_support          2          8          5          0  "
      ]
     },
     "execution_count": 38,
     "metadata": {},
     "output_type": "execute_result"
    }
   ],
   "source": [
    "results_df[results_df['label_use']==2]"
   ]
  },
  {
   "cell_type": "code",
   "execution_count": 39,
   "id": "a4117056-0569-46aa-aad2-2239f469c1d4",
   "metadata": {},
   "outputs": [
    {
     "data": {
      "text/html": [
       "<div>\n",
       "<style scoped>\n",
       "    .dataframe tbody tr th:only-of-type {\n",
       "        vertical-align: middle;\n",
       "    }\n",
       "\n",
       "    .dataframe tbody tr th {\n",
       "        vertical-align: top;\n",
       "    }\n",
       "\n",
       "    .dataframe thead th {\n",
       "        text-align: right;\n",
       "    }\n",
       "</style>\n",
       "<table border=\"1\" class=\"dataframe\">\n",
       "  <thead>\n",
       "    <tr style=\"text-align: right;\">\n",
       "      <th></th>\n",
       "      <th>message</th>\n",
       "      <th>category</th>\n",
       "      <th>label_use</th>\n",
       "      <th>label_st1</th>\n",
       "      <th>label_st2</th>\n",
       "      <th>label_st3</th>\n",
       "    </tr>\n",
       "  </thead>\n",
       "  <tbody>\n",
       "    <tr>\n",
       "      <th>11</th>\n",
       "      <td>Do you do business in the EU?</td>\n",
       "      <td>country_support</td>\n",
       "      <td>36</td>\n",
       "      <td>4</td>\n",
       "      <td>5</td>\n",
       "      <td>4</td>\n",
       "    </tr>\n",
       "    <tr>\n",
       "      <th>44</th>\n",
       "      <td>What are the countries you have offices in?</td>\n",
       "      <td>country_support</td>\n",
       "      <td>2</td>\n",
       "      <td>8</td>\n",
       "      <td>5</td>\n",
       "      <td>0</td>\n",
       "    </tr>\n",
       "    <tr>\n",
       "      <th>122</th>\n",
       "      <td>Can I use this all over the world?</td>\n",
       "      <td>country_support</td>\n",
       "      <td>48</td>\n",
       "      <td>8</td>\n",
       "      <td>20</td>\n",
       "      <td>15</td>\n",
       "    </tr>\n",
       "    <tr>\n",
       "      <th>279</th>\n",
       "      <td>What countries are you available in?</td>\n",
       "      <td>country_support</td>\n",
       "      <td>2</td>\n",
       "      <td>8</td>\n",
       "      <td>5</td>\n",
       "      <td>0</td>\n",
       "    </tr>\n",
       "    <tr>\n",
       "      <th>295</th>\n",
       "      <td>What are the countries that you operate in?</td>\n",
       "      <td>country_support</td>\n",
       "      <td>2</td>\n",
       "      <td>8</td>\n",
       "      <td>5</td>\n",
       "      <td>0</td>\n",
       "    </tr>\n",
       "    <tr>\n",
       "      <th>311</th>\n",
       "      <td>Can I get a card in the EU?</td>\n",
       "      <td>country_support</td>\n",
       "      <td>36</td>\n",
       "      <td>47</td>\n",
       "      <td>5</td>\n",
       "      <td>4</td>\n",
       "    </tr>\n",
       "    <tr>\n",
       "      <th>503</th>\n",
       "      <td>Which countries do you operate in</td>\n",
       "      <td>country_support</td>\n",
       "      <td>2</td>\n",
       "      <td>8</td>\n",
       "      <td>5</td>\n",
       "      <td>0</td>\n",
       "    </tr>\n",
       "    <tr>\n",
       "      <th>600</th>\n",
       "      <td>How do I know which countries you provide service in?</td>\n",
       "      <td>country_support</td>\n",
       "      <td>2</td>\n",
       "      <td>8</td>\n",
       "      <td>5</td>\n",
       "      <td>0</td>\n",
       "    </tr>\n",
       "    <tr>\n",
       "      <th>724</th>\n",
       "      <td>I'm not in the UK, but can I still get a card?</td>\n",
       "      <td>country_support</td>\n",
       "      <td>36</td>\n",
       "      <td>47</td>\n",
       "      <td>5</td>\n",
       "      <td>55</td>\n",
       "    </tr>\n",
       "    <tr>\n",
       "      <th>732</th>\n",
       "      <td>Can I get support?</td>\n",
       "      <td>country_support</td>\n",
       "      <td>30</td>\n",
       "      <td>54</td>\n",
       "      <td>-1</td>\n",
       "      <td>46</td>\n",
       "    </tr>\n",
       "    <tr>\n",
       "      <th>754</th>\n",
       "      <td>I live in the EU, can I get one of your cards?</td>\n",
       "      <td>country_support</td>\n",
       "      <td>36</td>\n",
       "      <td>47</td>\n",
       "      <td>5</td>\n",
       "      <td>4</td>\n",
       "    </tr>\n",
       "    <tr>\n",
       "      <th>826</th>\n",
       "      <td>Are you only able to get a card if you're in the UK?</td>\n",
       "      <td>country_support</td>\n",
       "      <td>36</td>\n",
       "      <td>47</td>\n",
       "      <td>5</td>\n",
       "      <td>4</td>\n",
       "    </tr>\n",
       "    <tr>\n",
       "      <th>898</th>\n",
       "      <td>I would like to know the countries you are offer services in?</td>\n",
       "      <td>country_support</td>\n",
       "      <td>2</td>\n",
       "      <td>8</td>\n",
       "      <td>5</td>\n",
       "      <td>0</td>\n",
       "    </tr>\n",
       "  </tbody>\n",
       "</table>\n",
       "</div>"
      ],
      "text/plain": [
       "                                                           message  \\\n",
       "11                                   Do you do business in the EU?   \n",
       "44                     What are the countries you have offices in?   \n",
       "122                             Can I use this all over the world?   \n",
       "279                           What countries are you available in?   \n",
       "295                    What are the countries that you operate in?   \n",
       "311                                    Can I get a card in the EU?   \n",
       "503                              Which countries do you operate in   \n",
       "600          How do I know which countries you provide service in?   \n",
       "724                 I'm not in the UK, but can I still get a card?   \n",
       "732                                             Can I get support?   \n",
       "754                 I live in the EU, can I get one of your cards?   \n",
       "826           Are you only able to get a card if you're in the UK?   \n",
       "898  I would like to know the countries you are offer services in?   \n",
       "\n",
       "            category  label_use  label_st1  label_st2  label_st3  \n",
       "11   country_support         36          4          5          4  \n",
       "44   country_support          2          8          5          0  \n",
       "122  country_support         48          8         20         15  \n",
       "279  country_support          2          8          5          0  \n",
       "295  country_support          2          8          5          0  \n",
       "311  country_support         36         47          5          4  \n",
       "503  country_support          2          8          5          0  \n",
       "600  country_support          2          8          5          0  \n",
       "724  country_support         36         47          5         55  \n",
       "732  country_support         30         54         -1         46  \n",
       "754  country_support         36         47          5          4  \n",
       "826  country_support         36         47          5          4  \n",
       "898  country_support          2          8          5          0  "
      ]
     },
     "execution_count": 39,
     "metadata": {},
     "output_type": "execute_result"
    }
   ],
   "source": [
    "results_df[results_df['category']=='country_support']"
   ]
  },
  {
   "cell_type": "markdown",
   "id": "a72ee559-5fc1-48af-9e9a-beec8ddec460",
   "metadata": {},
   "source": [
    "Both USE and ST1 models have high precision for `country_support` category but also both miss many instances in that group."
   ]
  },
  {
   "cell_type": "code",
   "execution_count": 40,
   "id": "ec972d20-470d-4b51-8863-6a1669c4f990",
   "metadata": {},
   "outputs": [
    {
     "data": {
      "text/html": [
       "<div>\n",
       "<style scoped>\n",
       "    .dataframe tbody tr th:only-of-type {\n",
       "        vertical-align: middle;\n",
       "    }\n",
       "\n",
       "    .dataframe tbody tr th {\n",
       "        vertical-align: top;\n",
       "    }\n",
       "\n",
       "    .dataframe thead th {\n",
       "        text-align: right;\n",
       "    }\n",
       "</style>\n",
       "<table border=\"1\" class=\"dataframe\">\n",
       "  <thead>\n",
       "    <tr style=\"text-align: right;\">\n",
       "      <th></th>\n",
       "      <th>message</th>\n",
       "      <th>category</th>\n",
       "      <th>label_use</th>\n",
       "      <th>label_st1</th>\n",
       "      <th>label_st2</th>\n",
       "      <th>label_st3</th>\n",
       "    </tr>\n",
       "  </thead>\n",
       "  <tbody>\n",
       "    <tr>\n",
       "      <th>27</th>\n",
       "      <td>I am overseas in China, can I get a replacement card?</td>\n",
       "      <td>card_about_to_expire</td>\n",
       "      <td>24</td>\n",
       "      <td>30</td>\n",
       "      <td>-1</td>\n",
       "      <td>-1</td>\n",
       "    </tr>\n",
       "    <tr>\n",
       "      <th>370</th>\n",
       "      <td>If I am in China, can I still order a new card and if so, how?</td>\n",
       "      <td>card_about_to_expire</td>\n",
       "      <td>24</td>\n",
       "      <td>30</td>\n",
       "      <td>-1</td>\n",
       "      <td>-1</td>\n",
       "    </tr>\n",
       "    <tr>\n",
       "      <th>441</th>\n",
       "      <td>My card is almost expired.  How fast will I get a new one and what is the cost?</td>\n",
       "      <td>card_about_to_expire</td>\n",
       "      <td>1</td>\n",
       "      <td>30</td>\n",
       "      <td>18</td>\n",
       "      <td>24</td>\n",
       "    </tr>\n",
       "    <tr>\n",
       "      <th>477</th>\n",
       "      <td>My card is about to expire. Do I have to go to a branch to order a new card?</td>\n",
       "      <td>card_about_to_expire</td>\n",
       "      <td>1</td>\n",
       "      <td>30</td>\n",
       "      <td>18</td>\n",
       "      <td>24</td>\n",
       "    </tr>\n",
       "    <tr>\n",
       "      <th>521</th>\n",
       "      <td>My card expires soon, will you send me one automatically?</td>\n",
       "      <td>card_about_to_expire</td>\n",
       "      <td>1</td>\n",
       "      <td>30</td>\n",
       "      <td>18</td>\n",
       "      <td>24</td>\n",
       "    </tr>\n",
       "    <tr>\n",
       "      <th>524</th>\n",
       "      <td>My card expires very soon.  What is the cost and delivery time to get a new one?</td>\n",
       "      <td>card_about_to_expire</td>\n",
       "      <td>1</td>\n",
       "      <td>30</td>\n",
       "      <td>18</td>\n",
       "      <td>24</td>\n",
       "    </tr>\n",
       "    <tr>\n",
       "      <th>551</th>\n",
       "      <td>Where can I have a new bank card sent to China?</td>\n",
       "      <td>card_about_to_expire</td>\n",
       "      <td>24</td>\n",
       "      <td>30</td>\n",
       "      <td>-1</td>\n",
       "      <td>-1</td>\n",
       "    </tr>\n",
       "    <tr>\n",
       "      <th>584</th>\n",
       "      <td>How do I get a new expiration date?</td>\n",
       "      <td>card_about_to_expire</td>\n",
       "      <td>1</td>\n",
       "      <td>30</td>\n",
       "      <td>18</td>\n",
       "      <td>24</td>\n",
       "    </tr>\n",
       "    <tr>\n",
       "      <th>605</th>\n",
       "      <td>Are there any express fees if i want my new card faster?</td>\n",
       "      <td>card_about_to_expire</td>\n",
       "      <td>65</td>\n",
       "      <td>30</td>\n",
       "      <td>30</td>\n",
       "      <td>24</td>\n",
       "    </tr>\n",
       "    <tr>\n",
       "      <th>646</th>\n",
       "      <td>My card is almost going to expire.</td>\n",
       "      <td>card_about_to_expire</td>\n",
       "      <td>1</td>\n",
       "      <td>30</td>\n",
       "      <td>18</td>\n",
       "      <td>24</td>\n",
       "    </tr>\n",
       "    <tr>\n",
       "      <th>765</th>\n",
       "      <td>My card expires soon</td>\n",
       "      <td>card_about_to_expire</td>\n",
       "      <td>1</td>\n",
       "      <td>30</td>\n",
       "      <td>18</td>\n",
       "      <td>24</td>\n",
       "    </tr>\n",
       "    <tr>\n",
       "      <th>812</th>\n",
       "      <td>What is the cost and time frame of getting a new card?</td>\n",
       "      <td>card_about_to_expire</td>\n",
       "      <td>1</td>\n",
       "      <td>30</td>\n",
       "      <td>18</td>\n",
       "      <td>24</td>\n",
       "    </tr>\n",
       "    <tr>\n",
       "      <th>833</th>\n",
       "      <td>Help me order a new card that's going to be expired soon.</td>\n",
       "      <td>card_about_to_expire</td>\n",
       "      <td>1</td>\n",
       "      <td>30</td>\n",
       "      <td>18</td>\n",
       "      <td>24</td>\n",
       "    </tr>\n",
       "    <tr>\n",
       "      <th>888</th>\n",
       "      <td>What happens if my card expires?</td>\n",
       "      <td>card_about_to_expire</td>\n",
       "      <td>1</td>\n",
       "      <td>30</td>\n",
       "      <td>18</td>\n",
       "      <td>24</td>\n",
       "    </tr>\n",
       "  </tbody>\n",
       "</table>\n",
       "</div>"
      ],
      "text/plain": [
       "                                                                              message  \\\n",
       "27                              I am overseas in China, can I get a replacement card?   \n",
       "370                    If I am in China, can I still order a new card and if so, how?   \n",
       "441   My card is almost expired.  How fast will I get a new one and what is the cost?   \n",
       "477      My card is about to expire. Do I have to go to a branch to order a new card?   \n",
       "521                         My card expires soon, will you send me one automatically?   \n",
       "524  My card expires very soon.  What is the cost and delivery time to get a new one?   \n",
       "551                                   Where can I have a new bank card sent to China?   \n",
       "584                                               How do I get a new expiration date?   \n",
       "605                          Are there any express fees if i want my new card faster?   \n",
       "646                                                My card is almost going to expire.   \n",
       "765                                                              My card expires soon   \n",
       "812                            What is the cost and time frame of getting a new card?   \n",
       "833                         Help me order a new card that's going to be expired soon.   \n",
       "888                                                  What happens if my card expires?   \n",
       "\n",
       "                 category  label_use  label_st1  label_st2  label_st3  \n",
       "27   card_about_to_expire         24         30         -1         -1  \n",
       "370  card_about_to_expire         24         30         -1         -1  \n",
       "441  card_about_to_expire          1         30         18         24  \n",
       "477  card_about_to_expire          1         30         18         24  \n",
       "521  card_about_to_expire          1         30         18         24  \n",
       "524  card_about_to_expire          1         30         18         24  \n",
       "551  card_about_to_expire         24         30         -1         -1  \n",
       "584  card_about_to_expire          1         30         18         24  \n",
       "605  card_about_to_expire         65         30         30         24  \n",
       "646  card_about_to_expire          1         30         18         24  \n",
       "765  card_about_to_expire          1         30         18         24  \n",
       "812  card_about_to_expire          1         30         18         24  \n",
       "833  card_about_to_expire          1         30         18         24  \n",
       "888  card_about_to_expire          1         30         18         24  "
      ]
     },
     "execution_count": 40,
     "metadata": {},
     "output_type": "execute_result"
    }
   ],
   "source": [
    "results_df[results_df['category']=='card_about_to_expire']"
   ]
  },
  {
   "cell_type": "code",
   "execution_count": 41,
   "id": "46912852-8f61-49de-ab1c-71d066153b11",
   "metadata": {},
   "outputs": [
    {
     "data": {
      "text/html": [
       "<div>\n",
       "<style scoped>\n",
       "    .dataframe tbody tr th:only-of-type {\n",
       "        vertical-align: middle;\n",
       "    }\n",
       "\n",
       "    .dataframe tbody tr th {\n",
       "        vertical-align: top;\n",
       "    }\n",
       "\n",
       "    .dataframe thead th {\n",
       "        text-align: right;\n",
       "    }\n",
       "</style>\n",
       "<table border=\"1\" class=\"dataframe\">\n",
       "  <thead>\n",
       "    <tr style=\"text-align: right;\">\n",
       "      <th></th>\n",
       "      <th>message</th>\n",
       "      <th>category</th>\n",
       "      <th>label_use</th>\n",
       "      <th>label_st1</th>\n",
       "      <th>label_st2</th>\n",
       "      <th>label_st3</th>\n",
       "    </tr>\n",
       "  </thead>\n",
       "  <tbody>\n",
       "    <tr>\n",
       "      <th>19</th>\n",
       "      <td>What is the limit on Auto top?</td>\n",
       "      <td>automatic_top_up</td>\n",
       "      <td>15</td>\n",
       "      <td>25</td>\n",
       "      <td>28</td>\n",
       "      <td>23</td>\n",
       "    </tr>\n",
       "    <tr>\n",
       "      <th>92</th>\n",
       "      <td>How do I access the option to top up?</td>\n",
       "      <td>automatic_top_up</td>\n",
       "      <td>67</td>\n",
       "      <td>25</td>\n",
       "      <td>28</td>\n",
       "      <td>38</td>\n",
       "    </tr>\n",
       "    <tr>\n",
       "      <th>191</th>\n",
       "      <td>Will the system automatically top up itself?</td>\n",
       "      <td>automatic_top_up</td>\n",
       "      <td>35</td>\n",
       "      <td>25</td>\n",
       "      <td>28</td>\n",
       "      <td>-1</td>\n",
       "    </tr>\n",
       "    <tr>\n",
       "      <th>257</th>\n",
       "      <td>i need help finding the auto top up option.</td>\n",
       "      <td>automatic_top_up</td>\n",
       "      <td>35</td>\n",
       "      <td>25</td>\n",
       "      <td>28</td>\n",
       "      <td>23</td>\n",
       "    </tr>\n",
       "    <tr>\n",
       "      <th>448</th>\n",
       "      <td>Can I set automatic top ups?</td>\n",
       "      <td>automatic_top_up</td>\n",
       "      <td>35</td>\n",
       "      <td>25</td>\n",
       "      <td>28</td>\n",
       "      <td>23</td>\n",
       "    </tr>\n",
       "    <tr>\n",
       "      <th>518</th>\n",
       "      <td>I want to use auto top-up. Is there a limit?</td>\n",
       "      <td>automatic_top_up</td>\n",
       "      <td>15</td>\n",
       "      <td>25</td>\n",
       "      <td>28</td>\n",
       "      <td>23</td>\n",
       "    </tr>\n",
       "    <tr>\n",
       "      <th>528</th>\n",
       "      <td>How can I Use thereto-top option?</td>\n",
       "      <td>automatic_top_up</td>\n",
       "      <td>67</td>\n",
       "      <td>25</td>\n",
       "      <td>28</td>\n",
       "      <td>-1</td>\n",
       "    </tr>\n",
       "    <tr>\n",
       "      <th>532</th>\n",
       "      <td>Is an auto top-up option available?</td>\n",
       "      <td>automatic_top_up</td>\n",
       "      <td>35</td>\n",
       "      <td>25</td>\n",
       "      <td>28</td>\n",
       "      <td>23</td>\n",
       "    </tr>\n",
       "    <tr>\n",
       "      <th>634</th>\n",
       "      <td>I heard you have an auto-top up option, where do I find that?</td>\n",
       "      <td>automatic_top_up</td>\n",
       "      <td>21</td>\n",
       "      <td>25</td>\n",
       "      <td>28</td>\n",
       "      <td>23</td>\n",
       "    </tr>\n",
       "    <tr>\n",
       "      <th>716</th>\n",
       "      <td>Is there an automatic top up feature?</td>\n",
       "      <td>automatic_top_up</td>\n",
       "      <td>35</td>\n",
       "      <td>25</td>\n",
       "      <td>28</td>\n",
       "      <td>23</td>\n",
       "    </tr>\n",
       "    <tr>\n",
       "      <th>722</th>\n",
       "      <td>What are the restrictions on auto top-up?</td>\n",
       "      <td>automatic_top_up</td>\n",
       "      <td>15</td>\n",
       "      <td>25</td>\n",
       "      <td>28</td>\n",
       "      <td>23</td>\n",
       "    </tr>\n",
       "    <tr>\n",
       "      <th>818</th>\n",
       "      <td>What are the auto top-up policies?</td>\n",
       "      <td>automatic_top_up</td>\n",
       "      <td>15</td>\n",
       "      <td>25</td>\n",
       "      <td>28</td>\n",
       "      <td>23</td>\n",
       "    </tr>\n",
       "    <tr>\n",
       "      <th>855</th>\n",
       "      <td>Will the system automatically update once there is no more money left?</td>\n",
       "      <td>automatic_top_up</td>\n",
       "      <td>35</td>\n",
       "      <td>25</td>\n",
       "      <td>47</td>\n",
       "      <td>42</td>\n",
       "    </tr>\n",
       "  </tbody>\n",
       "</table>\n",
       "</div>"
      ],
      "text/plain": [
       "                                                                    message  \\\n",
       "19                                           What is the limit on Auto top?   \n",
       "92                                    How do I access the option to top up?   \n",
       "191                            Will the system automatically top up itself?   \n",
       "257                             i need help finding the auto top up option.   \n",
       "448                                            Can I set automatic top ups?   \n",
       "518                            I want to use auto top-up. Is there a limit?   \n",
       "528                                       How can I Use thereto-top option?   \n",
       "532                                     Is an auto top-up option available?   \n",
       "634           I heard you have an auto-top up option, where do I find that?   \n",
       "716                                   Is there an automatic top up feature?   \n",
       "722                               What are the restrictions on auto top-up?   \n",
       "818                                      What are the auto top-up policies?   \n",
       "855  Will the system automatically update once there is no more money left?   \n",
       "\n",
       "             category  label_use  label_st1  label_st2  label_st3  \n",
       "19   automatic_top_up         15         25         28         23  \n",
       "92   automatic_top_up         67         25         28         38  \n",
       "191  automatic_top_up         35         25         28         -1  \n",
       "257  automatic_top_up         35         25         28         23  \n",
       "448  automatic_top_up         35         25         28         23  \n",
       "518  automatic_top_up         15         25         28         23  \n",
       "528  automatic_top_up         67         25         28         -1  \n",
       "532  automatic_top_up         35         25         28         23  \n",
       "634  automatic_top_up         21         25         28         23  \n",
       "716  automatic_top_up         35         25         28         23  \n",
       "722  automatic_top_up         15         25         28         23  \n",
       "818  automatic_top_up         15         25         28         23  \n",
       "855  automatic_top_up         35         25         47         42  "
      ]
     },
     "execution_count": 41,
     "metadata": {},
     "output_type": "execute_result"
    }
   ],
   "source": [
    "results_df[results_df['label_st1']==25]"
   ]
  },
  {
   "cell_type": "markdown",
   "id": "8f84e273-7c7c-453f-ac43-cdbe45be42c6",
   "metadata": {},
   "source": [
    "### Compare clustering performance using ground truth labels"
   ]
  },
  {
   "cell_type": "code",
   "execution_count": 85,
   "id": "e75fbbb8-76b1-48e4-b839-4aa98b38d643",
   "metadata": {},
   "outputs": [
    {
     "data": {
      "text/html": [
       "<div>\n",
       "<style scoped>\n",
       "    .dataframe tbody tr th:only-of-type {\n",
       "        vertical-align: middle;\n",
       "    }\n",
       "\n",
       "    .dataframe tbody tr th {\n",
       "        vertical-align: top;\n",
       "    }\n",
       "\n",
       "    .dataframe thead th {\n",
       "        text-align: right;\n",
       "    }\n",
       "</style>\n",
       "<table border=\"1\" class=\"dataframe\">\n",
       "  <thead>\n",
       "    <tr style=\"text-align: right;\">\n",
       "      <th></th>\n",
       "      <th>Model</th>\n",
       "      <th>ARI</th>\n",
       "      <th>NMI</th>\n",
       "    </tr>\n",
       "  </thead>\n",
       "  <tbody>\n",
       "    <tr>\n",
       "      <th>0</th>\n",
       "      <td>USE</td>\n",
       "      <td>0.275</td>\n",
       "      <td>0.705</td>\n",
       "    </tr>\n",
       "    <tr>\n",
       "      <th>1</th>\n",
       "      <td>Sent-Transformer_1</td>\n",
       "      <td>0.413</td>\n",
       "      <td>0.785</td>\n",
       "    </tr>\n",
       "    <tr>\n",
       "      <th>2</th>\n",
       "      <td>Sent-Transformer_2</td>\n",
       "      <td>0.325</td>\n",
       "      <td>0.748</td>\n",
       "    </tr>\n",
       "    <tr>\n",
       "      <th>3</th>\n",
       "      <td>Sent-Transformer_3</td>\n",
       "      <td>0.360</td>\n",
       "      <td>0.765</td>\n",
       "    </tr>\n",
       "  </tbody>\n",
       "</table>\n",
       "</div>"
      ],
      "text/plain": [
       "                Model    ARI    NMI\n",
       "0                 USE  0.275  0.705\n",
       "1  Sent-Transformer_1  0.413  0.785\n",
       "2  Sent-Transformer_2  0.325  0.748\n",
       "3  Sent-Transformer_3  0.360  0.765"
      ]
     },
     "execution_count": 85,
     "metadata": {},
     "output_type": "execute_result"
    }
   ],
   "source": [
    "model_dict = {'USE': 'label_use', \n",
    "              'Sent-Transformer_1': 'label_st1', \n",
    "              'Sent-Transformer_2': 'label_st2', \n",
    "              'Sent-Transformer_3': 'label_st3'}\n",
    "\n",
    "comparison_table(model_dict, results_df)"
   ]
  },
  {
   "cell_type": "code",
   "execution_count": 87,
   "id": "59eb6b89-adf2-4abb-b8c9-0e785ee09b48",
   "metadata": {},
   "outputs": [
    {
     "name": "stdout",
     "output_type": "stream",
     "text": [
      "use validity: 0.28647824175918285\n",
      "st1 validity: 0.36964321882829965\n",
      "st2 validity: 0.33256339527562806\n",
      "st3 validity: 0.28176912292243594\n"
     ]
    }
   ],
   "source": [
    "print(f'use validity: {best_clusters_use.relative_validity_}')\n",
    "print(f'st1 validity: {best_clusters_st1.relative_validity_}')\n",
    "print(f'st2 validity: {best_clusters_st2.relative_validity_}')\n",
    "print(f'st3 validity: {best_clusters_st3.relative_validity_}')"
   ]
  },
  {
   "cell_type": "code",
   "execution_count": 75,
   "id": "9987b628-ea48-492b-9bba-42f52c42acb3",
   "metadata": {},
   "outputs": [
    {
     "data": {
      "text/html": [
       "<div>\n",
       "<style scoped>\n",
       "    .dataframe tbody tr th:only-of-type {\n",
       "        vertical-align: middle;\n",
       "    }\n",
       "\n",
       "    .dataframe tbody tr th {\n",
       "        vertical-align: top;\n",
       "    }\n",
       "\n",
       "    .dataframe thead th {\n",
       "        text-align: right;\n",
       "    }\n",
       "</style>\n",
       "<table border=\"1\" class=\"dataframe\">\n",
       "  <thead>\n",
       "    <tr style=\"text-align: right;\">\n",
       "      <th></th>\n",
       "      <th>Model</th>\n",
       "      <th>ARI</th>\n",
       "      <th>NMI</th>\n",
       "    </tr>\n",
       "  </thead>\n",
       "  <tbody>\n",
       "    <tr>\n",
       "      <th>0</th>\n",
       "      <td>USE</td>\n",
       "      <td>0.159</td>\n",
       "      <td>0.637</td>\n",
       "    </tr>\n",
       "    <tr>\n",
       "      <th>1</th>\n",
       "      <td>Sent-Transformer_1</td>\n",
       "      <td>0.241</td>\n",
       "      <td>0.696</td>\n",
       "    </tr>\n",
       "    <tr>\n",
       "      <th>2</th>\n",
       "      <td>Sent-Transformer_2</td>\n",
       "      <td>0.282</td>\n",
       "      <td>0.722</td>\n",
       "    </tr>\n",
       "    <tr>\n",
       "      <th>3</th>\n",
       "      <td>Sent-Transformer_3</td>\n",
       "      <td>0.207</td>\n",
       "      <td>0.689</td>\n",
       "    </tr>\n",
       "  </tbody>\n",
       "</table>\n",
       "</div>"
      ],
      "text/plain": [
       "                Model    ARI    NMI\n",
       "0                 USE  0.159  0.637\n",
       "1  Sent-Transformer_1  0.241  0.696\n",
       "2  Sent-Transformer_2  0.282  0.722\n",
       "3  Sent-Transformer_3  0.207  0.689"
      ]
     },
     "execution_count": 75,
     "metadata": {},
     "output_type": "execute_result"
    }
   ],
   "source": [
    "model_dict = {'USE': 'label_use', \n",
    "              'Sent-Transformer_1': 'label_st1', \n",
    "              'Sent-Transformer_2': 'label_st2', \n",
    "              'Sent-Transformer_3': 'label_st3'}\n",
    "\n",
    "comparison_table(model_dict, results_df)"
   ]
  },
  {
   "cell_type": "code",
   "execution_count": 45,
   "id": "c2ba6c99-4edb-446f-8db8-c3ca8845a98d",
   "metadata": {},
   "outputs": [
    {
     "data": {
      "text/html": [
       "<div>\n",
       "<style scoped>\n",
       "    .dataframe tbody tr th:only-of-type {\n",
       "        vertical-align: middle;\n",
       "    }\n",
       "\n",
       "    .dataframe tbody tr th {\n",
       "        vertical-align: top;\n",
       "    }\n",
       "\n",
       "    .dataframe thead th {\n",
       "        text-align: right;\n",
       "    }\n",
       "</style>\n",
       "<table border=\"1\" class=\"dataframe\">\n",
       "  <thead>\n",
       "    <tr style=\"text-align: right;\">\n",
       "      <th></th>\n",
       "      <th>Model</th>\n",
       "      <th>ARI</th>\n",
       "      <th>NMI</th>\n",
       "    </tr>\n",
       "  </thead>\n",
       "  <tbody>\n",
       "    <tr>\n",
       "      <th>0</th>\n",
       "      <td>USE</td>\n",
       "      <td>0.275</td>\n",
       "      <td>0.720</td>\n",
       "    </tr>\n",
       "    <tr>\n",
       "      <th>1</th>\n",
       "      <td>Sent-Transformer_1</td>\n",
       "      <td>0.405</td>\n",
       "      <td>0.791</td>\n",
       "    </tr>\n",
       "    <tr>\n",
       "      <th>2</th>\n",
       "      <td>Sent-Transformer_2</td>\n",
       "      <td>0.305</td>\n",
       "      <td>0.740</td>\n",
       "    </tr>\n",
       "    <tr>\n",
       "      <th>3</th>\n",
       "      <td>Sent-Transformer_3</td>\n",
       "      <td>0.323</td>\n",
       "      <td>0.748</td>\n",
       "    </tr>\n",
       "  </tbody>\n",
       "</table>\n",
       "</div>"
      ],
      "text/plain": [
       "                Model    ARI    NMI\n",
       "0                 USE  0.275  0.720\n",
       "1  Sent-Transformer_1  0.405  0.791\n",
       "2  Sent-Transformer_2  0.305  0.740\n",
       "3  Sent-Transformer_3  0.323  0.748"
      ]
     },
     "execution_count": 45,
     "metadata": {},
     "output_type": "execute_result"
    }
   ],
   "source": [
    "model_dict = {'USE': 'label_use', \n",
    "              'Sent-Transformer_1': 'label_st1', \n",
    "              'Sent-Transformer_2': 'label_st2', \n",
    "              'Sent-Transformer_3': 'label_st3'}\n",
    "\n",
    "comparison_table(model_dict, results_df)"
   ]
  },
  {
   "cell_type": "markdown",
   "id": "aba228b1-446c-4090-8f82-16eb83bb9ebc",
   "metadata": {},
   "source": [
    "## Applying to the full dataset of 10k intents"
   ]
  },
  {
   "cell_type": "code",
   "execution_count": 97,
   "id": "35fd6d0f-ac21-4d75-97aa-8d78fa0cfbf6",
   "metadata": {},
   "outputs": [
    {
     "data": {
      "text/html": [
       "<div>\n",
       "<style scoped>\n",
       "    .dataframe tbody tr th:only-of-type {\n",
       "        vertical-align: middle;\n",
       "    }\n",
       "\n",
       "    .dataframe tbody tr th {\n",
       "        vertical-align: top;\n",
       "    }\n",
       "\n",
       "    .dataframe thead th {\n",
       "        text-align: right;\n",
       "    }\n",
       "</style>\n",
       "<table border=\"1\" class=\"dataframe\">\n",
       "  <thead>\n",
       "    <tr style=\"text-align: right;\">\n",
       "      <th></th>\n",
       "      <th>text</th>\n",
       "      <th>category</th>\n",
       "    </tr>\n",
       "  </thead>\n",
       "  <tbody>\n",
       "    <tr>\n",
       "      <th>0</th>\n",
       "      <td>I am still waiting on my card?</td>\n",
       "      <td>card_arrival</td>\n",
       "    </tr>\n",
       "    <tr>\n",
       "      <th>1</th>\n",
       "      <td>What can I do if my card still hasn't arrived after 2 weeks?</td>\n",
       "      <td>card_arrival</td>\n",
       "    </tr>\n",
       "    <tr>\n",
       "      <th>2</th>\n",
       "      <td>I have been waiting over a week. Is the card still coming?</td>\n",
       "      <td>card_arrival</td>\n",
       "    </tr>\n",
       "    <tr>\n",
       "      <th>3</th>\n",
       "      <td>Can I track my card while it is in the process of delivery?</td>\n",
       "      <td>card_arrival</td>\n",
       "    </tr>\n",
       "    <tr>\n",
       "      <th>4</th>\n",
       "      <td>How do I know if I will get my card, or if it is lost?</td>\n",
       "      <td>card_arrival</td>\n",
       "    </tr>\n",
       "  </tbody>\n",
       "</table>\n",
       "</div>"
      ],
      "text/plain": [
       "                                                           text      category\n",
       "0                                I am still waiting on my card?  card_arrival\n",
       "1  What can I do if my card still hasn't arrived after 2 weeks?  card_arrival\n",
       "2    I have been waiting over a week. Is the card still coming?  card_arrival\n",
       "3   Can I track my card while it is in the process of delivery?  card_arrival\n",
       "4        How do I know if I will get my card, or if it is lost?  card_arrival"
      ]
     },
     "execution_count": 97,
     "metadata": {},
     "output_type": "execute_result"
    }
   ],
   "source": [
    "data_full = pd.read_csv('../data/raw/train.csv')\n",
    "data_full.head()"
   ]
  },
  {
   "cell_type": "code",
   "execution_count": 98,
   "id": "82731ead-c302-4334-afc6-c6820f306842",
   "metadata": {},
   "outputs": [
    {
     "data": {
      "text/plain": [
       "10003"
      ]
     },
     "execution_count": 98,
     "metadata": {},
     "output_type": "execute_result"
    }
   ],
   "source": [
    "all_intents_full = list(data_full['text'])\n",
    "len(all_intents_full)"
   ]
  },
  {
   "cell_type": "code",
   "execution_count": 99,
   "id": "c247048c-f1d8-4a52-823d-d3e0e0170de1",
   "metadata": {},
   "outputs": [],
   "source": [
    "embeddings_use = embed(model_use, 'use', all_intents_full)\n",
    "embeddings_st1 = embed(model_st1, 'sentence transformer', all_intents_full)\n",
    "embeddings_st2 = embed(model_st2, 'sentence transformer', all_intents_full)\n",
    "embeddings_st3 = embed(model_st3, 'sentence transformer', all_intents_full)"
   ]
  },
  {
   "cell_type": "code",
   "execution_count": 158,
   "id": "c1a2571e-80f0-4765-b3d2-848daecf6679",
   "metadata": {},
   "outputs": [
    {
     "name": "stdout",
     "output_type": "stream",
     "text": [
      "100%|██████████| 100/100 [17:06<00:00, 10.26s/trial, best loss: 0.13026092172348294]\n",
      "best:\n",
      "{'min_cluster_size': 33, 'min_samples': 23, 'n_components': 24, 'n_neighbors': 6}\n",
      "label count: 51\n"
     ]
    }
   ],
   "source": [
    "best_params_use, trials_use = bayesian_search(embeddings_use, max_evals=100)"
   ]
  },
  {
   "cell_type": "code",
   "execution_count": 109,
   "id": "80c8b60e-88e9-4fb9-a033-115a5419d387",
   "metadata": {},
   "outputs": [
    {
     "name": "stdout",
     "output_type": "stream",
     "text": [
      "100%|██████████| 100/100 [14:59<00:00,  9.00s/trial, best loss: 0.11696491052684195]\n",
      "best:\n",
      "{'min_cluster_size': 27, 'n_components': 23, 'n_neighbors': 3}\n",
      "label count: 84\n"
     ]
    }
   ],
   "source": [
    "best_params_use, trials_use = bayesian_search(embeddings_use, max_evals=100)"
   ]
  },
  {
   "cell_type": "code",
   "execution_count": 110,
   "id": "538aa3a5-17e2-4c61-9eb4-a779a410e1af",
   "metadata": {},
   "outputs": [
    {
     "name": "stdout",
     "output_type": "stream",
     "text": [
      "100%|██████████| 100/100 [16:12<00:00,  9.73s/trial, best loss: 0.09757072878136559]\n",
      "best:\n",
      "{'min_cluster_size': 34, 'n_components': 17, 'n_neighbors': 4}\n",
      "label count: 67\n"
     ]
    }
   ],
   "source": [
    "best_params_st1, trials_st1 = bayesian_search(embeddings_st1, max_evals=100)"
   ]
  },
  {
   "cell_type": "code",
   "execution_count": 111,
   "id": "b8d2dc84-144b-4370-93a7-91625626a8c1",
   "metadata": {},
   "outputs": [
    {
     "name": "stdout",
     "output_type": "stream",
     "text": [
      "100%|██████████| 100/100 [19:41<00:00, 11.82s/trial, best loss: 0.09537138858342498]\n",
      "best:\n",
      "{'min_cluster_size': 32, 'n_components': 24, 'n_neighbors': 10}\n",
      "label count: 70\n"
     ]
    }
   ],
   "source": [
    "best_params_st2, trials_st2 = bayesian_search(embeddings_st2, max_evals=100)"
   ]
  },
  {
   "cell_type": "code",
   "execution_count": 112,
   "id": "b1035a44-d8cd-4d88-a4fb-b1560cf73704",
   "metadata": {},
   "outputs": [
    {
     "name": "stdout",
     "output_type": "stream",
     "text": [
      "100%|██████████| 100/100 [17:56<00:00, 10.76s/trial, best loss: 0.13236029191242626]\n",
      "best:\n",
      "{'min_cluster_size': 29, 'n_components': 23, 'n_neighbors': 5}\n",
      "label count: 72\n"
     ]
    }
   ],
   "source": [
    "best_params_st3, trials_st3 = bayesian_search(embeddings_st3, max_evals=100)"
   ]
  },
  {
   "cell_type": "code",
   "execution_count": 113,
   "id": "f68884bc-ca4f-4980-ac40-34d329fda3af",
   "metadata": {},
   "outputs": [],
   "source": [
    "best_clusters_use = best_clusters(embeddings_use, best_params_use)"
   ]
  },
  {
   "cell_type": "code",
   "execution_count": 156,
   "id": "0e55729a-b4db-491c-87ad-0062c21e6072",
   "metadata": {},
   "outputs": [
    {
     "ename": "AttributeError",
     "evalue": "'HDBSCAN' object has no attribute 'validity'",
     "output_type": "error",
     "traceback": [
      "\u001b[0;31m---------------------------------------------------------------------------\u001b[0m",
      "\u001b[0;31mAttributeError\u001b[0m                            Traceback (most recent call last)",
      "\u001b[0;32m<ipython-input-156-48e92347cca0>\u001b[0m in \u001b[0;36m<module>\u001b[0;34m\u001b[0m\n\u001b[0;32m----> 1\u001b[0;31m \u001b[0mbest_clusters\u001b[0m\u001b[0;34m(\u001b[0m\u001b[0membeddings_use\u001b[0m\u001b[0;34m,\u001b[0m \u001b[0mbest_params_use\u001b[0m\u001b[0;34m)\u001b[0m\u001b[0;34m.\u001b[0m\u001b[0mvalidity\u001b[0m\u001b[0;34m.\u001b[0m\u001b[0mvalidity_index\u001b[0m\u001b[0;34m\u001b[0m\u001b[0;34m\u001b[0m\u001b[0m\n\u001b[0m",
      "\u001b[0;31mAttributeError\u001b[0m: 'HDBSCAN' object has no attribute 'validity'"
     ]
    }
   ],
   "source": [
    "best_clusters(embeddings_use, best_params_use).validity.validity_index"
   ]
  },
  {
   "cell_type": "code",
   "execution_count": 151,
   "id": "b9041f51-02d2-49ed-923d-c7858045931d",
   "metadata": {},
   "outputs": [
    {
     "data": {
      "text/plain": [
       "0.310568934078359"
      ]
     },
     "execution_count": 151,
     "metadata": {},
     "output_type": "execute_result"
    }
   ],
   "source": [
    "best_clusters(embeddings_st1, best_params_st1).relative_validity_"
   ]
  },
  {
   "cell_type": "code",
   "execution_count": 152,
   "id": "f85e3a86-7603-4ed0-b004-824bf0c2ccab",
   "metadata": {},
   "outputs": [
    {
     "data": {
      "text/plain": [
       "0.39115523695267307"
      ]
     },
     "execution_count": 152,
     "metadata": {},
     "output_type": "execute_result"
    }
   ],
   "source": [
    "best_clusters(embeddings_st2, best_params_st2).relative_validity_"
   ]
  },
  {
   "cell_type": "code",
   "execution_count": 153,
   "id": "55ce7805-4850-42de-b97f-5662250aadda",
   "metadata": {},
   "outputs": [
    {
     "data": {
      "text/plain": [
       "0.31142916143841864"
      ]
     },
     "execution_count": 153,
     "metadata": {},
     "output_type": "execute_result"
    }
   ],
   "source": [
    "best_clusters(embeddings_st3, best_params_st3).relative_validity_"
   ]
  },
  {
   "cell_type": "code",
   "execution_count": 114,
   "id": "97232a2b-50ce-4a05-bf50-9fa1b7f44267",
   "metadata": {},
   "outputs": [],
   "source": [
    "best_clusters_st1 = best_clusters(embeddings_st1, best_params_st1)"
   ]
  },
  {
   "cell_type": "code",
   "execution_count": 115,
   "id": "1a88cc9e-a3cc-4e2f-aefb-7e4873dbd010",
   "metadata": {},
   "outputs": [],
   "source": [
    "best_clusters_st2 = best_clusters(embeddings_st2, best_params_st2)"
   ]
  },
  {
   "cell_type": "code",
   "execution_count": 116,
   "id": "456f4be5-66f5-490e-89c7-33b537ee5404",
   "metadata": {},
   "outputs": [],
   "source": [
    "best_clusters_st3 = best_clusters(embeddings_st3, best_params_st3)"
   ]
  },
  {
   "cell_type": "code",
   "execution_count": 139,
   "id": "605a709b-9992-48e9-ba13-5bce7ed49ea9",
   "metadata": {},
   "outputs": [
    {
     "data": {
      "text/html": [
       "<div>\n",
       "<style scoped>\n",
       "    .dataframe tbody tr th:only-of-type {\n",
       "        vertical-align: middle;\n",
       "    }\n",
       "\n",
       "    .dataframe tbody tr th {\n",
       "        vertical-align: top;\n",
       "    }\n",
       "\n",
       "    .dataframe thead th {\n",
       "        text-align: right;\n",
       "    }\n",
       "</style>\n",
       "<table border=\"1\" class=\"dataframe\">\n",
       "  <thead>\n",
       "    <tr style=\"text-align: right;\">\n",
       "      <th></th>\n",
       "      <th>text</th>\n",
       "      <th>category</th>\n",
       "      <th>label_use</th>\n",
       "      <th>label_st1</th>\n",
       "      <th>label_st2</th>\n",
       "      <th>label_st3</th>\n",
       "    </tr>\n",
       "  </thead>\n",
       "  <tbody>\n",
       "    <tr>\n",
       "      <th>0</th>\n",
       "      <td>I am still waiting on my card?</td>\n",
       "      <td>card_arrival</td>\n",
       "      <td>41</td>\n",
       "      <td>52</td>\n",
       "      <td>36</td>\n",
       "      <td>27</td>\n",
       "    </tr>\n",
       "    <tr>\n",
       "      <th>1</th>\n",
       "      <td>What can I do if my card still hasn't arrived after 2 weeks?</td>\n",
       "      <td>card_arrival</td>\n",
       "      <td>41</td>\n",
       "      <td>52</td>\n",
       "      <td>36</td>\n",
       "      <td>27</td>\n",
       "    </tr>\n",
       "    <tr>\n",
       "      <th>2</th>\n",
       "      <td>I have been waiting over a week. Is the card still coming?</td>\n",
       "      <td>card_arrival</td>\n",
       "      <td>41</td>\n",
       "      <td>52</td>\n",
       "      <td>36</td>\n",
       "      <td>27</td>\n",
       "    </tr>\n",
       "    <tr>\n",
       "      <th>3</th>\n",
       "      <td>Can I track my card while it is in the process of delivery?</td>\n",
       "      <td>card_arrival</td>\n",
       "      <td>-1</td>\n",
       "      <td>52</td>\n",
       "      <td>36</td>\n",
       "      <td>26</td>\n",
       "    </tr>\n",
       "    <tr>\n",
       "      <th>4</th>\n",
       "      <td>How do I know if I will get my card, or if it is lost?</td>\n",
       "      <td>card_arrival</td>\n",
       "      <td>65</td>\n",
       "      <td>36</td>\n",
       "      <td>36</td>\n",
       "      <td>57</td>\n",
       "    </tr>\n",
       "  </tbody>\n",
       "</table>\n",
       "</div>"
      ],
      "text/plain": [
       "                                                           text      category  \\\n",
       "0                                I am still waiting on my card?  card_arrival   \n",
       "1  What can I do if my card still hasn't arrived after 2 weeks?  card_arrival   \n",
       "2    I have been waiting over a week. Is the card still coming?  card_arrival   \n",
       "3   Can I track my card while it is in the process of delivery?  card_arrival   \n",
       "4        How do I know if I will get my card, or if it is lost?  card_arrival   \n",
       "\n",
       "   label_use  label_st1  label_st2  label_st3  \n",
       "0         41         52         36         27  \n",
       "1         41         52         36         27  \n",
       "2         41         52         36         27  \n",
       "3         -1         52         36         26  \n",
       "4         65         36         36         57  "
      ]
     },
     "execution_count": 139,
     "metadata": {},
     "output_type": "execute_result"
    }
   ],
   "source": [
    "cluster_dict = {'label_use': best_clusters_use, \n",
    "                    'label_st1': best_clusters_st1, \n",
    "                    'label_st2': best_clusters_st2,\n",
    "                    'label_st3': best_clusters_st3}\n",
    "\n",
    "results_df = combine_results(data_full, cluster_dict)\n",
    "    \n",
    "results_df.head()"
   ]
  },
  {
   "cell_type": "code",
   "execution_count": 142,
   "id": "f52d08ea-7da7-4fd0-b332-422eecc7c414",
   "metadata": {},
   "outputs": [
    {
     "data": {
      "text/html": [
       "<div>\n",
       "<style scoped>\n",
       "    .dataframe tbody tr th:only-of-type {\n",
       "        vertical-align: middle;\n",
       "    }\n",
       "\n",
       "    .dataframe tbody tr th {\n",
       "        vertical-align: top;\n",
       "    }\n",
       "\n",
       "    .dataframe thead th {\n",
       "        text-align: right;\n",
       "    }\n",
       "</style>\n",
       "<table border=\"1\" class=\"dataframe\">\n",
       "  <thead>\n",
       "    <tr style=\"text-align: right;\">\n",
       "      <th></th>\n",
       "      <th>Model</th>\n",
       "      <th>ARI</th>\n",
       "      <th>NMI</th>\n",
       "    </tr>\n",
       "  </thead>\n",
       "  <tbody>\n",
       "    <tr>\n",
       "      <th>0</th>\n",
       "      <td>USE</td>\n",
       "      <td>0.253</td>\n",
       "      <td>0.666</td>\n",
       "    </tr>\n",
       "    <tr>\n",
       "      <th>1</th>\n",
       "      <td>Sent-Transformer_1</td>\n",
       "      <td>0.300</td>\n",
       "      <td>0.705</td>\n",
       "    </tr>\n",
       "    <tr>\n",
       "      <th>2</th>\n",
       "      <td>Sent-Transformer_2</td>\n",
       "      <td>0.320</td>\n",
       "      <td>0.736</td>\n",
       "    </tr>\n",
       "    <tr>\n",
       "      <th>3</th>\n",
       "      <td>Sent-Transformer_3</td>\n",
       "      <td>0.262</td>\n",
       "      <td>0.705</td>\n",
       "    </tr>\n",
       "  </tbody>\n",
       "</table>\n",
       "</div>"
      ],
      "text/plain": [
       "                Model    ARI    NMI\n",
       "0                 USE  0.253  0.666\n",
       "1  Sent-Transformer_1  0.300  0.705\n",
       "2  Sent-Transformer_2  0.320  0.736\n",
       "3  Sent-Transformer_3  0.262  0.705"
      ]
     },
     "execution_count": 142,
     "metadata": {},
     "output_type": "execute_result"
    }
   ],
   "source": [
    "model_dict = {'USE': 'label_use', \n",
    "              'Sent-Transformer_1': 'label_st1', \n",
    "              'Sent-Transformer_2': 'label_st2', \n",
    "              'Sent-Transformer_3': 'label_st3'}\n",
    "\n",
    "comparison_table(model_dict, results_df)"
   ]
  },
  {
   "cell_type": "code",
   "execution_count": null,
   "id": "b1bcf85d-93f6-4c7d-847d-3ac393dc60d0",
   "metadata": {},
   "outputs": [],
   "source": []
  }
 ],
 "metadata": {
  "kernelspec": {
   "display_name": "Python 3",
   "language": "python",
   "name": "python3"
  },
  "language_info": {
   "codemirror_mode": {
    "name": "ipython",
    "version": 3
   },
   "file_extension": ".py",
   "mimetype": "text/x-python",
   "name": "python",
   "nbconvert_exporter": "python",
   "pygments_lexer": "ipython3",
   "version": "3.9.6"
  }
 },
 "nbformat": 4,
 "nbformat_minor": 5
}
