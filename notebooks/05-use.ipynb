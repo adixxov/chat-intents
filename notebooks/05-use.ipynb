{
 "cells": [
  {
   "cell_type": "markdown",
   "id": "3f8bcc5e-f730-43a6-9084-5e2338b0c244",
   "metadata": {},
   "source": [
    "# Chat Intents\n",
    "\n",
    "## UMAP + Clustering"
   ]
  },
  {
   "cell_type": "code",
   "execution_count": 276,
   "id": "3c6fb567-223a-4f20-8895-b4352b7ea567",
   "metadata": {},
   "outputs": [],
   "source": [
    "import numpy as np\n",
    "import pandas as pd\n",
    "\n",
    "pd.set_option(\"display.max_rows\", 600)\n",
    "pd.set_option(\"display.max_columns\", 500)\n",
    "pd.set_option(\"max_colwidth\", 400)\n",
    "\n",
    "import matplotlib.pyplot as plt\n",
    "\n",
    "import hdbscan\n",
    "import umap\n",
    "from sklearn.metrics.cluster import normalized_mutual_info_score\n",
    "from sklearn.metrics.cluster import adjusted_rand_score\n",
    "\n",
    "from tqdm.notebook import tqdm, trange\n",
    "from functools import partial\n",
    "from hyperopt import fmin, tpe, hp, STATUS_OK, space_eval, Trials"
   ]
  },
  {
   "cell_type": "code",
   "execution_count": 11,
   "id": "c37b0de2-6b5b-47be-8c08-4c29c3d1f1ab",
   "metadata": {},
   "outputs": [],
   "source": [
    "import tensorflow as tf\n",
    "import tensorflow_hub as hub"
   ]
  },
  {
   "cell_type": "code",
   "execution_count": 12,
   "id": "fcc2a159-0d7c-4fb0-a118-1dff55161cde",
   "metadata": {},
   "outputs": [],
   "source": [
    "from sentence_transformers import SentenceTransformer"
   ]
  },
  {
   "cell_type": "markdown",
   "id": "1fd4839b-afa4-4714-8b84-16056ec8a284",
   "metadata": {},
   "source": [
    "### Load data and pre-trained models"
   ]
  },
  {
   "cell_type": "code",
   "execution_count": 16,
   "id": "a97675ac-dcb0-4bf2-83a9-48ef9249d9da",
   "metadata": {},
   "outputs": [
    {
     "data": {
      "text/html": [
       "<div>\n",
       "<style scoped>\n",
       "    .dataframe tbody tr th:only-of-type {\n",
       "        vertical-align: middle;\n",
       "    }\n",
       "\n",
       "    .dataframe tbody tr th {\n",
       "        vertical-align: top;\n",
       "    }\n",
       "\n",
       "    .dataframe thead th {\n",
       "        text-align: right;\n",
       "    }\n",
       "</style>\n",
       "<table border=\"1\" class=\"dataframe\">\n",
       "  <thead>\n",
       "    <tr style=\"text-align: right;\">\n",
       "      <th></th>\n",
       "      <th>Unnamed: 0</th>\n",
       "      <th>text</th>\n",
       "      <th>category</th>\n",
       "      <th>cleaned_text</th>\n",
       "    </tr>\n",
       "  </thead>\n",
       "  <tbody>\n",
       "    <tr>\n",
       "      <th>0</th>\n",
       "      <td>1024</td>\n",
       "      <td>I'm worried my card might be lost in the mail? How long does it usually take to arrive?</td>\n",
       "      <td>card_delivery_estimate</td>\n",
       "      <td>im worried card might lost mail long usually take arrive</td>\n",
       "    </tr>\n",
       "    <tr>\n",
       "      <th>1</th>\n",
       "      <td>9405</td>\n",
       "      <td>I got charged a fee that shouldn't be there from my cash</td>\n",
       "      <td>cash_withdrawal_charge</td>\n",
       "      <td>got charged fee shouldnt cash</td>\n",
       "    </tr>\n",
       "    <tr>\n",
       "      <th>2</th>\n",
       "      <td>9368</td>\n",
       "      <td>Do you charge for making a withdrawal? I took some money out of my account earlier and I was charged for this.</td>\n",
       "      <td>cash_withdrawal_charge</td>\n",
       "      <td>charge making withdrawal took money account earlier charged</td>\n",
       "    </tr>\n",
       "    <tr>\n",
       "      <th>3</th>\n",
       "      <td>3414</td>\n",
       "      <td>Is there an issue with my account?  I don't see a cheque deposit that I made yesterday.  Please assist.</td>\n",
       "      <td>balance_not_updated_after_cheque_or_cash_deposit</td>\n",
       "      <td>issue account dont see cheque deposit made yesterday please assist</td>\n",
       "    </tr>\n",
       "    <tr>\n",
       "      <th>4</th>\n",
       "      <td>7402</td>\n",
       "      <td>Are there ways for other people to send me money?</td>\n",
       "      <td>receiving_money</td>\n",
       "      <td>way people send money</td>\n",
       "    </tr>\n",
       "  </tbody>\n",
       "</table>\n",
       "</div>"
      ],
      "text/plain": [
       "   Unnamed: 0  \\\n",
       "0        1024   \n",
       "1        9405   \n",
       "2        9368   \n",
       "3        3414   \n",
       "4        7402   \n",
       "\n",
       "                                                                                                             text  \\\n",
       "0                         I'm worried my card might be lost in the mail? How long does it usually take to arrive?   \n",
       "1                                                        I got charged a fee that shouldn't be there from my cash   \n",
       "2  Do you charge for making a withdrawal? I took some money out of my account earlier and I was charged for this.   \n",
       "3         Is there an issue with my account?  I don't see a cheque deposit that I made yesterday.  Please assist.   \n",
       "4                                                               Are there ways for other people to send me money?   \n",
       "\n",
       "                                           category  \\\n",
       "0                            card_delivery_estimate   \n",
       "1                            cash_withdrawal_charge   \n",
       "2                            cash_withdrawal_charge   \n",
       "3  balance_not_updated_after_cheque_or_cash_deposit   \n",
       "4                                   receiving_money   \n",
       "\n",
       "                                                         cleaned_text  \n",
       "0            im worried card might lost mail long usually take arrive  \n",
       "1                                       got charged fee shouldnt cash  \n",
       "2         charge making withdrawal took money account earlier charged  \n",
       "3  issue account dont see cheque deposit made yesterday please assist  \n",
       "4                                               way people send money  "
      ]
     },
     "execution_count": 16,
     "metadata": {},
     "output_type": "execute_result"
    }
   ],
   "source": [
    "data_sample = pd.read_csv('../data/processed/data_sample.csv')\n",
    "data_sample.head()"
   ]
  },
  {
   "cell_type": "code",
   "execution_count": 32,
   "id": "ddc170db-1e83-4217-98a5-1d97b4543558",
   "metadata": {},
   "outputs": [
    {
     "data": {
      "text/plain": [
       "1000"
      ]
     },
     "execution_count": 32,
     "metadata": {},
     "output_type": "execute_result"
    }
   ],
   "source": [
    "all_intents = list(data_sample['text'])\n",
    "len(all_intents)"
   ]
  },
  {
   "cell_type": "code",
   "execution_count": 14,
   "id": "7cd3c824-2a63-4b01-9a6b-7aae1d132d5e",
   "metadata": {},
   "outputs": [
    {
     "name": "stderr",
     "output_type": "stream",
     "text": [
      "INFO:absl:Downloading TF-Hub Module 'https://tfhub.dev/google/universal-sentence-encoder/4'.\n",
      "INFO:absl:Downloading https://tfhub.dev/google/universal-sentence-encoder/4: 230.00MB\n",
      "INFO:absl:Downloading https://tfhub.dev/google/universal-sentence-encoder/4: 460.00MB\n",
      "INFO:absl:Downloading https://tfhub.dev/google/universal-sentence-encoder/4: 690.00MB\n",
      "INFO:absl:Downloading https://tfhub.dev/google/universal-sentence-encoder/4: 920.00MB\n",
      "INFO:absl:Downloaded https://tfhub.dev/google/universal-sentence-encoder/4, Total size: 987.47MB\n",
      "INFO:absl:Downloaded TF-Hub Module 'https://tfhub.dev/google/universal-sentence-encoder/4'.\n"
     ]
    },
    {
     "name": "stdout",
     "output_type": "stream",
     "text": [
      "module https://tfhub.dev/google/universal-sentence-encoder/4 loaded\n"
     ]
    }
   ],
   "source": [
    "module_url = \"https://tfhub.dev/google/universal-sentence-encoder/4\"\n",
    "model_use = hub.load(module_url)\n",
    "\n",
    "print(f\"module {module_url} loaded\")"
   ]
  },
  {
   "cell_type": "code",
   "execution_count": 263,
   "id": "97016d39-1ffd-4efa-aa25-4cc53fe71ff0",
   "metadata": {
    "scrolled": true,
    "tags": []
   },
   "outputs": [
    {
     "data": {
      "application/vnd.jupyter.widget-view+json": {
       "model_id": "d97baf7cf4f24b77b0194847d7768d81",
       "version_major": 2,
       "version_minor": 0
      },
      "text/plain": [
       "Downloading:   0%|          | 0.00/736 [00:00<?, ?B/s]"
      ]
     },
     "metadata": {},
     "output_type": "display_data"
    },
    {
     "data": {
      "application/vnd.jupyter.widget-view+json": {
       "model_id": "99e8c538e7e14379916a6593d8f480e4",
       "version_major": 2,
       "version_minor": 0
      },
      "text/plain": [
       "Downloading:   0%|          | 0.00/3.74k [00:00<?, ?B/s]"
      ]
     },
     "metadata": {},
     "output_type": "display_data"
    },
    {
     "data": {
      "application/vnd.jupyter.widget-view+json": {
       "model_id": "0bbba9ac8e64482ebe5faa8e6782ee96",
       "version_major": 2,
       "version_minor": 0
      },
      "text/plain": [
       "Downloading:   0%|          | 0.00/686 [00:00<?, ?B/s]"
      ]
     },
     "metadata": {},
     "output_type": "display_data"
    },
    {
     "data": {
      "application/vnd.jupyter.widget-view+json": {
       "model_id": "19a6038878214c289f5034acb101e335",
       "version_major": 2,
       "version_minor": 0
      },
      "text/plain": [
       "Downloading:   0%|          | 0.00/122 [00:00<?, ?B/s]"
      ]
     },
     "metadata": {},
     "output_type": "display_data"
    },
    {
     "data": {
      "application/vnd.jupyter.widget-view+json": {
       "model_id": "a3944251b4024f5b8d843f8931c68c14",
       "version_major": 2,
       "version_minor": 0
      },
      "text/plain": [
       "Downloading:   0%|          | 0.00/456k [00:00<?, ?B/s]"
      ]
     },
     "metadata": {},
     "output_type": "display_data"
    },
    {
     "data": {
      "application/vnd.jupyter.widget-view+json": {
       "model_id": "2990659e21af40548b92598678ac10eb",
       "version_major": 2,
       "version_minor": 0
      },
      "text/plain": [
       "Downloading:   0%|          | 0.00/229 [00:00<?, ?B/s]"
      ]
     },
     "metadata": {},
     "output_type": "display_data"
    },
    {
     "data": {
      "application/vnd.jupyter.widget-view+json": {
       "model_id": "a3862fb85e7a4febbe9c5436697bb4bc",
       "version_major": 2,
       "version_minor": 0
      },
      "text/plain": [
       "Downloading:   0%|          | 0.00/329M [00:00<?, ?B/s]"
      ]
     },
     "metadata": {},
     "output_type": "display_data"
    },
    {
     "data": {
      "application/vnd.jupyter.widget-view+json": {
       "model_id": "db4e78f39ab14157b8aba833b247b7d2",
       "version_major": 2,
       "version_minor": 0
      },
      "text/plain": [
       "Downloading:   0%|          | 0.00/53.0 [00:00<?, ?B/s]"
      ]
     },
     "metadata": {},
     "output_type": "display_data"
    },
    {
     "data": {
      "application/vnd.jupyter.widget-view+json": {
       "model_id": "a9cb1ea9e66d4c8183ce8ce2d6ac95aa",
       "version_major": 2,
       "version_minor": 0
      },
      "text/plain": [
       "Downloading:   0%|          | 0.00/239 [00:00<?, ?B/s]"
      ]
     },
     "metadata": {},
     "output_type": "display_data"
    },
    {
     "data": {
      "application/vnd.jupyter.widget-view+json": {
       "model_id": "1172710ae997438583bc6405ec743188",
       "version_major": 2,
       "version_minor": 0
      },
      "text/plain": [
       "Downloading:   0%|          | 0.00/1.36M [00:00<?, ?B/s]"
      ]
     },
     "metadata": {},
     "output_type": "display_data"
    },
    {
     "data": {
      "application/vnd.jupyter.widget-view+json": {
       "model_id": "e49c9d018482435bb131c811d7e83fc6",
       "version_major": 2,
       "version_minor": 0
      },
      "text/plain": [
       "Downloading:   0%|          | 0.00/1.12k [00:00<?, ?B/s]"
      ]
     },
     "metadata": {},
     "output_type": "display_data"
    },
    {
     "data": {
      "application/vnd.jupyter.widget-view+json": {
       "model_id": "6228bd385163434f832c756b00eb94bb",
       "version_major": 2,
       "version_minor": 0
      },
      "text/plain": [
       "Downloading:   0%|          | 0.00/798k [00:00<?, ?B/s]"
      ]
     },
     "metadata": {},
     "output_type": "display_data"
    },
    {
     "data": {
      "application/vnd.jupyter.widget-view+json": {
       "model_id": "f7b40f41493e41b19ccd365afe436ce4",
       "version_major": 2,
       "version_minor": 0
      },
      "text/plain": [
       "Downloading:   0%|          | 0.00/190 [00:00<?, ?B/s]"
      ]
     },
     "metadata": {},
     "output_type": "display_data"
    },
    {
     "data": {
      "application/vnd.jupyter.widget-view+json": {
       "model_id": "af3ec987bf754c668c0f9fac0ab4f0e4",
       "version_major": 2,
       "version_minor": 0
      },
      "text/plain": [
       "Downloading:   0%|          | 0.00/868 [00:00<?, ?B/s]"
      ]
     },
     "metadata": {},
     "output_type": "display_data"
    },
    {
     "data": {
      "application/vnd.jupyter.widget-view+json": {
       "model_id": "1d596d4db34e462287dcfa6da5546746",
       "version_major": 2,
       "version_minor": 0
      },
      "text/plain": [
       "Downloading:   0%|          | 0.00/3.67k [00:00<?, ?B/s]"
      ]
     },
     "metadata": {},
     "output_type": "display_data"
    },
    {
     "data": {
      "application/vnd.jupyter.widget-view+json": {
       "model_id": "de9c43ba9f0a4bf393096ff0f86db512",
       "version_major": 2,
       "version_minor": 0
      },
      "text/plain": [
       "Downloading:   0%|          | 0.00/588 [00:00<?, ?B/s]"
      ]
     },
     "metadata": {},
     "output_type": "display_data"
    },
    {
     "data": {
      "application/vnd.jupyter.widget-view+json": {
       "model_id": "b5f1a8c0098643a7bc8666d40f8fe93d",
       "version_major": 2,
       "version_minor": 0
      },
      "text/plain": [
       "Downloading:   0%|          | 0.00/122 [00:00<?, ?B/s]"
      ]
     },
     "metadata": {},
     "output_type": "display_data"
    },
    {
     "data": {
      "application/vnd.jupyter.widget-view+json": {
       "model_id": "55195ebbbe444ce7993017530b45a7e4",
       "version_major": 2,
       "version_minor": 0
      },
      "text/plain": [
       "Downloading:   0%|          | 0.00/229 [00:00<?, ?B/s]"
      ]
     },
     "metadata": {},
     "output_type": "display_data"
    },
    {
     "data": {
      "application/vnd.jupyter.widget-view+json": {
       "model_id": "562707c9aeac4e46881b3c9dfea565be",
       "version_major": 2,
       "version_minor": 0
      },
      "text/plain": [
       "Downloading:   0%|          | 0.00/438M [00:00<?, ?B/s]"
      ]
     },
     "metadata": {},
     "output_type": "display_data"
    },
    {
     "data": {
      "application/vnd.jupyter.widget-view+json": {
       "model_id": "8503702955d64abea6f8169c98f0be0d",
       "version_major": 2,
       "version_minor": 0
      },
      "text/plain": [
       "Downloading:   0%|          | 0.00/52.0 [00:00<?, ?B/s]"
      ]
     },
     "metadata": {},
     "output_type": "display_data"
    },
    {
     "data": {
      "application/vnd.jupyter.widget-view+json": {
       "model_id": "2f6220f1c85e412cba9bce96e2580498",
       "version_major": 2,
       "version_minor": 0
      },
      "text/plain": [
       "Downloading:   0%|          | 0.00/239 [00:00<?, ?B/s]"
      ]
     },
     "metadata": {},
     "output_type": "display_data"
    },
    {
     "data": {
      "application/vnd.jupyter.widget-view+json": {
       "model_id": "11975e6cc0434660afea93d85ccdb9e8",
       "version_major": 2,
       "version_minor": 0
      },
      "text/plain": [
       "Downloading:   0%|          | 0.00/466k [00:00<?, ?B/s]"
      ]
     },
     "metadata": {},
     "output_type": "display_data"
    },
    {
     "data": {
      "application/vnd.jupyter.widget-view+json": {
       "model_id": "213cf41d55714ea6b6649a86a1c85c2b",
       "version_major": 2,
       "version_minor": 0
      },
      "text/plain": [
       "Downloading:   0%|          | 0.00/1.19k [00:00<?, ?B/s]"
      ]
     },
     "metadata": {},
     "output_type": "display_data"
    },
    {
     "data": {
      "application/vnd.jupyter.widget-view+json": {
       "model_id": "99d7121ba14e4db29913ef4c0dbe149d",
       "version_major": 2,
       "version_minor": 0
      },
      "text/plain": [
       "Downloading:   0%|          | 0.00/232k [00:00<?, ?B/s]"
      ]
     },
     "metadata": {},
     "output_type": "display_data"
    },
    {
     "data": {
      "application/vnd.jupyter.widget-view+json": {
       "model_id": "77e9576338f74edfaeabb52a8ac786f9",
       "version_major": 2,
       "version_minor": 0
      },
      "text/plain": [
       "Downloading:   0%|          | 0.00/190 [00:00<?, ?B/s]"
      ]
     },
     "metadata": {},
     "output_type": "display_data"
    }
   ],
   "source": [
    "model_st1 = SentenceTransformer('paraphrase-mpnet-base-v2')\n",
    "model_st2 = SentenceTransformer('paraphrase-distilroberta-base-v2')\n",
    "model_st3 = SentenceTransformer('stsb-mpnet-base-v2')"
   ]
  },
  {
   "cell_type": "code",
   "execution_count": 272,
   "id": "b53dbf49-2707-4f49-900c-6de896900818",
   "metadata": {},
   "outputs": [],
   "source": [
    "def embed(model, model_type, sentences):\n",
    "    if model_type == 'use':\n",
    "        embeddings = model(sentences)\n",
    "    elif model_type == 'sentence transformer':\n",
    "        embeddings = model.encode(sentences)\n",
    "    \n",
    "    return embeddings"
   ]
  },
  {
   "cell_type": "code",
   "execution_count": 268,
   "id": "25f438c7-1e73-479e-ba94-5de20a6062ca",
   "metadata": {},
   "outputs": [
    {
     "data": {
      "text/plain": [
       "TensorShape([1000, 512])"
      ]
     },
     "execution_count": 268,
     "metadata": {},
     "output_type": "execute_result"
    }
   ],
   "source": [
    "embeddings_use = embed(model_use, 'use', all_intents)\n",
    "embeddings_use.shape"
   ]
  },
  {
   "cell_type": "code",
   "execution_count": 269,
   "id": "03963e44-cffb-49fd-afb4-e6989d8b6514",
   "metadata": {},
   "outputs": [
    {
     "data": {
      "text/plain": [
       "(1000, 768)"
      ]
     },
     "execution_count": 269,
     "metadata": {},
     "output_type": "execute_result"
    }
   ],
   "source": [
    "embeddings_st1 = embed(model_st1, 'sentence transformer', all_intents)\n",
    "embeddings_st1.shape"
   ]
  },
  {
   "cell_type": "code",
   "execution_count": 270,
   "id": "78b3d55e-5b74-416b-a8a1-74b47d9188f6",
   "metadata": {},
   "outputs": [
    {
     "data": {
      "text/plain": [
       "(1000, 768)"
      ]
     },
     "execution_count": 270,
     "metadata": {},
     "output_type": "execute_result"
    }
   ],
   "source": [
    "embeddings_st2 = embed(model_st2, 'sentence transformer', all_intents)\n",
    "embeddings_st2.shape"
   ]
  },
  {
   "cell_type": "code",
   "execution_count": 271,
   "id": "ba64e992-9f92-40fd-82dd-71dbf74e1d3f",
   "metadata": {},
   "outputs": [
    {
     "data": {
      "text/plain": [
       "(1000, 768)"
      ]
     },
     "execution_count": 271,
     "metadata": {},
     "output_type": "execute_result"
    }
   ],
   "source": [
    "embeddings_st3 = embed(model_st3, 'sentence transformer', all_intents)\n",
    "embeddings_st3.shape"
   ]
  },
  {
   "cell_type": "markdown",
   "id": "16ce0339-a8d7-42c8-a749-b55f7c980af7",
   "metadata": {},
   "source": [
    "### Helper functions"
   ]
  },
  {
   "cell_type": "code",
   "execution_count": 277,
   "id": "c0500d9f-6da3-427a-9287-fe5bf78ac33a",
   "metadata": {},
   "outputs": [],
   "source": [
    "def generate_clusters(message_embeddings, \n",
    "                      n_neighbors = 4, \n",
    "                      n_components = 5, \n",
    "                      min_cluster_size = 4, \n",
    "                      random_state = None):\n",
    "    \n",
    "    umap_embeddings = (umap.UMAP(n_neighbors = n_neighbors, \n",
    "                                n_components = n_components, \n",
    "                                metric = 'cosine', \n",
    "                                random_state=random_state)\n",
    "                            .fit_transform(message_embeddings))\n",
    "\n",
    "    clusters = hdbscan.HDBSCAN(min_cluster_size = min_cluster_size, \n",
    "                              metric='euclidean', \n",
    "                              cluster_selection_method='eom').fit(umap_embeddings)\n",
    "    return clusters"
   ]
  },
  {
   "cell_type": "code",
   "execution_count": 287,
   "id": "6a051571-522d-4ace-99ad-a46af0f46e1f",
   "metadata": {},
   "outputs": [],
   "source": [
    "def score_clusters(clusters, prob_threshold = 0.05):\n",
    "    \"\"\"\n",
    "    Returns the label count and cost of a given cluster supplied from running hdbscan\n",
    "    \"\"\"\n",
    "    \n",
    "    #clusters = generate_clusters(message_embeddings, n_neighbors, n_components, min_cluster_size, random_state)\n",
    "    cluster_labels = clusters.labels_\n",
    "    label_count = len(np.unique(cluster_labels))\n",
    "    total_num = len(example_clusters.labels_)\n",
    "    cost = (np.count_nonzero(clusters.probabilities_ < prob_threshold)/total_num)\n",
    "    \n",
    "    return label_count, cost"
   ]
  },
  {
   "cell_type": "code",
   "execution_count": 142,
   "id": "d59315c3-f568-452f-9155-8c6aad68b360",
   "metadata": {},
   "outputs": [],
   "source": [
    "def grid_search(embeddings):\n",
    "    \n",
    "    results = []\n",
    "    for n_neighbors in trange(3, 15, desc='n_neighbors'):\n",
    "        for n_components in trange (3, 8, desc='n_components'):\n",
    "            for min_cluster_size in trange(2, 10, desc='min_cluster_size'):\n",
    "                \n",
    "                avg_label_count, avg_score = score_clusters(n_repeats, n_neighbors, \n",
    "                                                            n_components, min_cluster_size)\n",
    "                \n",
    "                results.append([n_neighbors, n_components, min_cluster_size, avg_label_count, avg_score])\n",
    "    \n",
    "    result_df = pd.DataFrame(results, columns=['n_neighbors', 'n_components', 'min_cluster_size', 'avg_label_count', 'avg_score'])\n",
    "    \n",
    "    return result_df"
   ]
  },
  {
   "cell_type": "code",
   "execution_count": null,
   "id": "83081a7a-2172-4967-a770-647a9f2cb840",
   "metadata": {},
   "outputs": [],
   "source": [
    "%%time\n",
    "results_use = scan_hyperparameters(all_intents, 3)"
   ]
  },
  {
   "cell_type": "code",
   "execution_count": 284,
   "id": "8f0858d9-6a14-4ce3-a0a2-25b6515584eb",
   "metadata": {},
   "outputs": [
    {
     "data": {
      "text/plain": [
       "1000"
      ]
     },
     "execution_count": 284,
     "metadata": {},
     "output_type": "execute_result"
    }
   ],
   "source": [
    "len(example_clusters.labels_)"
   ]
  },
  {
   "cell_type": "code",
   "execution_count": 35,
   "id": "25a7f8b1-b36b-431e-9eae-c4f52ab4fbf4",
   "metadata": {},
   "outputs": [
    {
     "name": "stdout",
     "output_type": "stream",
     "text": [
      "CPU times: user 19.2 s, sys: 1.22 s, total: 20.5 s\n",
      "Wall time: 16.2 s\n"
     ]
    },
    {
     "data": {
      "text/plain": [
       "(83.0, 140.33333333333334)"
      ]
     },
     "execution_count": 35,
     "metadata": {},
     "output_type": "execute_result"
    }
   ],
   "source": [
    "%%time\n",
    "use_embeddings = embed_use(model_use, all_intents)\n",
    "score_clusters(3, use_embeddings, n_neighbors=4, n_components=4, min_cluster_size=4)"
   ]
  },
  {
   "cell_type": "code",
   "execution_count": 145,
   "id": "a4c42915-353c-4400-90aa-65f8590dd4b6",
   "metadata": {},
   "outputs": [
    {
     "name": "stdout",
     "output_type": "stream",
     "text": [
      "CPU times: user 15.7 s, sys: 1.73 s, total: 17.4 s\n",
      "Wall time: 14 s\n"
     ]
    },
    {
     "data": {
      "text/plain": [
       "(80.0, 124.0)"
      ]
     },
     "execution_count": 145,
     "metadata": {},
     "output_type": "execute_result"
    }
   ],
   "source": [
    "%%time\n",
    "use_embeddings = embed_use(model_use, all_intents)\n",
    "score_clusters(3, use_embeddings, n_neighbors=4, n_components=4, min_cluster_size=4)"
   ]
  },
  {
   "cell_type": "code",
   "execution_count": 146,
   "id": "0d359985-527f-45e3-bfcf-33710e9120f7",
   "metadata": {},
   "outputs": [
    {
     "name": "stdout",
     "output_type": "stream",
     "text": [
      "CPU times: user 4.73 s, sys: 2.82 s, total: 7.54 s\n",
      "Wall time: 11.8 s\n"
     ]
    },
    {
     "data": {
      "text/plain": [
       "(77.0, 125.0)"
      ]
     },
     "execution_count": 146,
     "metadata": {},
     "output_type": "execute_result"
    }
   ],
   "source": [
    "%%time\n",
    "use_embeddings = embed_use(model_use, all_intents)\n",
    "score_clusters(1, use_embeddings, n_neighbors=4, n_components=4, min_cluster_size=4, random_state=42)"
   ]
  },
  {
   "cell_type": "code",
   "execution_count": 149,
   "id": "1e00a1cf-3ae3-42a5-971a-91f313af21f5",
   "metadata": {},
   "outputs": [
    {
     "name": "stdout",
     "output_type": "stream",
     "text": [
      "CPU times: user 3.07 s, sys: 101 ms, total: 3.17 s\n",
      "Wall time: 2.7 s\n"
     ]
    },
    {
     "data": {
      "text/plain": [
       "(77.0, 125.0)"
      ]
     },
     "execution_count": 149,
     "metadata": {},
     "output_type": "execute_result"
    }
   ],
   "source": [
    "%%time\n",
    "use_embeddings = embed_use(model_use, all_intents)\n",
    "score_clusters(1, use_embeddings, n_neighbors=4, n_components=4, min_cluster_size=4, random_state=42)"
   ]
  },
  {
   "cell_type": "code",
   "execution_count": 84,
   "id": "d73bfb84-329e-46cd-b588-0ecaa1ac68f0",
   "metadata": {},
   "outputs": [
    {
     "data": {
      "text/html": [
       "<div>\n",
       "<style scoped>\n",
       "    .dataframe tbody tr th:only-of-type {\n",
       "        vertical-align: middle;\n",
       "    }\n",
       "\n",
       "    .dataframe tbody tr th {\n",
       "        vertical-align: top;\n",
       "    }\n",
       "\n",
       "    .dataframe thead th {\n",
       "        text-align: right;\n",
       "    }\n",
       "</style>\n",
       "<table border=\"1\" class=\"dataframe\">\n",
       "  <thead>\n",
       "    <tr style=\"text-align: right;\">\n",
       "      <th></th>\n",
       "      <th>n_neighbors</th>\n",
       "      <th>n_components</th>\n",
       "      <th>min_cluster_size</th>\n",
       "      <th>avg_label_count</th>\n",
       "      <th>avg_score</th>\n",
       "    </tr>\n",
       "  </thead>\n",
       "  <tbody>\n",
       "    <tr>\n",
       "      <th>0</th>\n",
       "      <td>3</td>\n",
       "      <td>3</td>\n",
       "      <td>2</td>\n",
       "      <td>179</td>\n",
       "      <td>77.4</td>\n",
       "    </tr>\n",
       "  </tbody>\n",
       "</table>\n",
       "</div>"
      ],
      "text/plain": [
       "   n_neighbors  n_components  min_cluster_size  avg_label_count  avg_score\n",
       "0            3             3                 2              179       77.4"
      ]
     },
     "execution_count": 84,
     "metadata": {},
     "output_type": "execute_result"
    }
   ],
   "source": [
    "results_use"
   ]
  },
  {
   "cell_type": "code",
   "execution_count": 58,
   "id": "60ee9ec3-71d2-4d67-824a-a3f6686d50f1",
   "metadata": {},
   "outputs": [
    {
     "data": {
      "text/html": [
       "<div>\n",
       "<style scoped>\n",
       "    .dataframe tbody tr th:only-of-type {\n",
       "        vertical-align: middle;\n",
       "    }\n",
       "\n",
       "    .dataframe tbody tr th {\n",
       "        vertical-align: top;\n",
       "    }\n",
       "\n",
       "    .dataframe thead th {\n",
       "        text-align: right;\n",
       "    }\n",
       "</style>\n",
       "<table border=\"1\" class=\"dataframe\">\n",
       "  <thead>\n",
       "    <tr style=\"text-align: right;\">\n",
       "      <th></th>\n",
       "      <th>n_neighbors</th>\n",
       "      <th>n_components</th>\n",
       "      <th>min_cluster_size</th>\n",
       "      <th>label_count</th>\n",
       "      <th>score</th>\n",
       "    </tr>\n",
       "  </thead>\n",
       "  <tbody>\n",
       "    <tr>\n",
       "      <th>42</th>\n",
       "      <td>3</td>\n",
       "      <td>3</td>\n",
       "      <td>4</td>\n",
       "      <td>85</td>\n",
       "      <td>92</td>\n",
       "    </tr>\n",
       "    <tr>\n",
       "      <th>50</th>\n",
       "      <td>3</td>\n",
       "      <td>4</td>\n",
       "      <td>4</td>\n",
       "      <td>81</td>\n",
       "      <td>98</td>\n",
       "    </tr>\n",
       "    <tr>\n",
       "      <th>63</th>\n",
       "      <td>3</td>\n",
       "      <td>5</td>\n",
       "      <td>9</td>\n",
       "      <td>27</td>\n",
       "      <td>72</td>\n",
       "    </tr>\n",
       "    <tr>\n",
       "      <th>67</th>\n",
       "      <td>3</td>\n",
       "      <td>6</td>\n",
       "      <td>5</td>\n",
       "      <td>60</td>\n",
       "      <td>77</td>\n",
       "    </tr>\n",
       "  </tbody>\n",
       "</table>\n",
       "</div>"
      ],
      "text/plain": [
       "    n_neighbors  n_components  min_cluster_size  label_count  score\n",
       "42            3             3                 4           85     92\n",
       "50            3             4                 4           81     98\n",
       "63            3             5                 9           27     72\n",
       "67            3             6                 5           60     77"
      ]
     },
     "execution_count": 58,
     "metadata": {},
     "output_type": "execute_result"
    }
   ],
   "source": [
    "results_use[(results_use.score < 100)&(results_use.label_count < 100)&(results_use.label_count > 10)]"
   ]
  },
  {
   "cell_type": "code",
   "execution_count": 60,
   "id": "092007ff-e2c7-43f6-b188-d5425fcf53e9",
   "metadata": {},
   "outputs": [
    {
     "data": {
      "text/html": [
       "<div>\n",
       "<style scoped>\n",
       "    .dataframe tbody tr th:only-of-type {\n",
       "        vertical-align: middle;\n",
       "    }\n",
       "\n",
       "    .dataframe tbody tr th {\n",
       "        vertical-align: top;\n",
       "    }\n",
       "\n",
       "    .dataframe thead th {\n",
       "        text-align: right;\n",
       "    }\n",
       "</style>\n",
       "<table border=\"1\" class=\"dataframe\">\n",
       "  <thead>\n",
       "    <tr style=\"text-align: right;\">\n",
       "      <th></th>\n",
       "      <th>n_neighbors</th>\n",
       "      <th>n_components</th>\n",
       "      <th>min_cluster_size</th>\n",
       "      <th>label_count</th>\n",
       "      <th>score</th>\n",
       "    </tr>\n",
       "  </thead>\n",
       "  <tbody>\n",
       "    <tr>\n",
       "      <th>0</th>\n",
       "      <td>2</td>\n",
       "      <td>3</td>\n",
       "      <td>2</td>\n",
       "      <td>201</td>\n",
       "      <td>97</td>\n",
       "    </tr>\n",
       "    <tr>\n",
       "      <th>1</th>\n",
       "      <td>2</td>\n",
       "      <td>3</td>\n",
       "      <td>3</td>\n",
       "      <td>147</td>\n",
       "      <td>152</td>\n",
       "    </tr>\n",
       "    <tr>\n",
       "      <th>2</th>\n",
       "      <td>2</td>\n",
       "      <td>3</td>\n",
       "      <td>4</td>\n",
       "      <td>104</td>\n",
       "      <td>247</td>\n",
       "    </tr>\n",
       "    <tr>\n",
       "      <th>3</th>\n",
       "      <td>2</td>\n",
       "      <td>3</td>\n",
       "      <td>5</td>\n",
       "      <td>87</td>\n",
       "      <td>226</td>\n",
       "    </tr>\n",
       "    <tr>\n",
       "      <th>4</th>\n",
       "      <td>2</td>\n",
       "      <td>3</td>\n",
       "      <td>6</td>\n",
       "      <td>70</td>\n",
       "      <td>230</td>\n",
       "    </tr>\n",
       "  </tbody>\n",
       "</table>\n",
       "</div>"
      ],
      "text/plain": [
       "   n_neighbors  n_components  min_cluster_size  label_count  score\n",
       "0            2             3                 2          201     97\n",
       "1            2             3                 3          147    152\n",
       "2            2             3                 4          104    247\n",
       "3            2             3                 5           87    226\n",
       "4            2             3                 6           70    230"
      ]
     },
     "execution_count": 60,
     "metadata": {},
     "output_type": "execute_result"
    }
   ],
   "source": [
    "results_use.head()"
   ]
  },
  {
   "cell_type": "code",
   "execution_count": 71,
   "id": "7ea642ca-105a-49e2-b08c-0f1788c4d33c",
   "metadata": {},
   "outputs": [
    {
     "name": "stdout",
     "output_type": "stream",
     "text": [
      "Avg number of clusters: 85.8 . Avg score: 130.2\n",
      "Avg number of clusters: 31.0 . Avg score: 178.6\n",
      "Avg number of clusters: 86.6 . Avg score: 97.0\n",
      "Avg number of clusters: 87.4 . Avg score: 104.2\n",
      "Avg number of clusters: 53.2 . Avg score: 142.4\n"
     ]
    }
   ],
   "source": [
    "use_embeddings = embed_use(model_use, all_intents)\n",
    "num = 5\n",
    "param_dict = [[4, 5, 4], \n",
    "              [3, 5, 9], \n",
    "              [3, 3, 4], \n",
    "              [3, 4, 4], \n",
    "              [3, 6, 6]]\n",
    "\n",
    "for params in param_dict:\n",
    "    count_sum = 0\n",
    "    score_sum = 0\n",
    "    \n",
    "    for i in range(num):\n",
    "        clusters = generate_clusters(use_embeddings, \n",
    "                                     n_neighbors = params[0], \n",
    "                                     n_components = params[1], \n",
    "                                     min_cluster_size = params[2])\n",
    "        \n",
    "        label_count, score = score_clusters(clusters)\n",
    "\n",
    "        count_sum += label_count\n",
    "        score_sum += score\n",
    "\n",
    "    print(f\"Avg number of clusters: {count_sum/num} . Avg score: {score_sum/num}\")"
   ]
  },
  {
   "cell_type": "code",
   "execution_count": 92,
   "id": "d0ad6b23-469e-41f7-9047-cf39f72e9363",
   "metadata": {},
   "outputs": [
    {
     "name": "stdout",
     "output_type": "stream",
     "text": [
      "88\n",
      "125\n"
     ]
    }
   ],
   "source": [
    "use_embeddings = embed_use(model_use, all_intents)\n",
    "clusters = generate_clusters(use_embeddings, n_neighbors = 3, n_components = 3, min_cluster_size = 4)\n",
    "label_count, score = score_clusters(clusters)\n",
    "print(label_count)\n",
    "print(score)"
   ]
  },
  {
   "cell_type": "code",
   "execution_count": 146,
   "id": "17ff6e38-9af8-4249-884d-6df6b7419d40",
   "metadata": {},
   "outputs": [
    {
     "data": {
      "text/html": [
       "<div>\n",
       "<style scoped>\n",
       "    .dataframe tbody tr th:only-of-type {\n",
       "        vertical-align: middle;\n",
       "    }\n",
       "\n",
       "    .dataframe tbody tr th {\n",
       "        vertical-align: top;\n",
       "    }\n",
       "\n",
       "    .dataframe thead th {\n",
       "        text-align: right;\n",
       "    }\n",
       "</style>\n",
       "<table border=\"1\" class=\"dataframe\">\n",
       "  <thead>\n",
       "    <tr style=\"text-align: right;\">\n",
       "      <th></th>\n",
       "      <th>message</th>\n",
       "      <th>topic_use</th>\n",
       "    </tr>\n",
       "  </thead>\n",
       "  <tbody>\n",
       "    <tr>\n",
       "      <th>0</th>\n",
       "      <td>I'm worried my card might be lost in the mail? How long does it usually take to arrive?</td>\n",
       "      <td>64</td>\n",
       "    </tr>\n",
       "    <tr>\n",
       "      <th>1</th>\n",
       "      <td>I got charged a fee that shouldn't be there from my cash</td>\n",
       "      <td>79</td>\n",
       "    </tr>\n",
       "    <tr>\n",
       "      <th>2</th>\n",
       "      <td>Do you charge for making a withdrawal? I took some money out of my account earlier and I was charged for this.</td>\n",
       "      <td>86</td>\n",
       "    </tr>\n",
       "    <tr>\n",
       "      <th>3</th>\n",
       "      <td>Is there an issue with my account?  I don't see a cheque deposit that I made yesterday.  Please assist.</td>\n",
       "      <td>67</td>\n",
       "    </tr>\n",
       "    <tr>\n",
       "      <th>4</th>\n",
       "      <td>Are there ways for other people to send me money?</td>\n",
       "      <td>13</td>\n",
       "    </tr>\n",
       "    <tr>\n",
       "      <th>5</th>\n",
       "      <td>How can I receive money?</td>\n",
       "      <td>13</td>\n",
       "    </tr>\n",
       "    <tr>\n",
       "      <th>6</th>\n",
       "      <td>where can I change my address?</td>\n",
       "      <td>21</td>\n",
       "    </tr>\n",
       "    <tr>\n",
       "      <th>7</th>\n",
       "      <td>What do I do if I still have not received my new card?</td>\n",
       "      <td>74</td>\n",
       "    </tr>\n",
       "    <tr>\n",
       "      <th>8</th>\n",
       "      <td>Is there anywhere I can't use my card?</td>\n",
       "      <td>54</td>\n",
       "    </tr>\n",
       "    <tr>\n",
       "      <th>9</th>\n",
       "      <td>I want to have multiple currencies in my account if possible.</td>\n",
       "      <td>42</td>\n",
       "    </tr>\n",
       "  </tbody>\n",
       "</table>\n",
       "</div>"
      ],
      "text/plain": [
       "                                                                                                          message  \\\n",
       "0                         I'm worried my card might be lost in the mail? How long does it usually take to arrive?   \n",
       "1                                                        I got charged a fee that shouldn't be there from my cash   \n",
       "2  Do you charge for making a withdrawal? I took some money out of my account earlier and I was charged for this.   \n",
       "3         Is there an issue with my account?  I don't see a cheque deposit that I made yesterday.  Please assist.   \n",
       "4                                                               Are there ways for other people to send me money?   \n",
       "5                                                                                        How can I receive money?   \n",
       "6                                                                                  where can I change my address?   \n",
       "7                                                          What do I do if I still have not received my new card?   \n",
       "8                                                                          Is there anywhere I can't use my card?   \n",
       "9                                                   I want to have multiple currencies in my account if possible.   \n",
       "\n",
       "   topic_use  \n",
       "0         64  \n",
       "1         79  \n",
       "2         86  \n",
       "3         67  \n",
       "4         13  \n",
       "5         13  \n",
       "6         21  \n",
       "7         74  \n",
       "8         54  \n",
       "9         42  "
      ]
     },
     "execution_count": 146,
     "metadata": {},
     "output_type": "execute_result"
    }
   ],
   "source": [
    "intents_df_use = pd.DataFrame(all_intents, columns=['message'])\n",
    "intents_df_use['topic_use'] = clusters.labels_\n",
    "intents_df_use.head(10)"
   ]
  },
  {
   "cell_type": "code",
   "execution_count": 140,
   "id": "8e9fff3b-6b60-4191-8a9c-2ad078ffec1b",
   "metadata": {},
   "outputs": [
    {
     "name": "stdout",
     "output_type": "stream",
     "text": [
      "93\n",
      "71\n"
     ]
    }
   ],
   "source": [
    "st1_embeddings = embed_st(model_st1, all_intents)\n",
    "clusters_st1 = generate_clusters(st1_embeddings, n_neighbors = 3, n_components = 3, min_cluster_size = 4)\n",
    "label_count_st1, score_st1 = score_clusters(clusters_st1)\n",
    "print(label_count_st1)\n",
    "print(score_st1)"
   ]
  },
  {
   "cell_type": "markdown",
   "id": "89502189-0e3f-4b1b-af25-9df568582846",
   "metadata": {},
   "source": [
    "### Bayeisan optimization with Hyperopt"
   ]
  },
  {
   "cell_type": "code",
   "execution_count": 288,
   "id": "11003f1c-59d4-476e-bd9f-4c0d60748222",
   "metadata": {},
   "outputs": [],
   "source": [
    "def objective(params, embeddings, random_state):\n",
    "    \n",
    "    clusters = generate_clusters(embeddings, \n",
    "                                 n_neighbors = params['n_neighbors'], \n",
    "                                 n_components = params['n_components'], \n",
    "                                 min_cluster_size = params['min_cluster_size'], \n",
    "                                 random_state = random_state)\n",
    "    \n",
    "    label_count, cost = score_clusters(clusters, prob_threshold = 0.05)\n",
    "    \n",
    "    #10% penalty on the cost function if outside the desired range of groups\n",
    "    if (label_count < 30) | (label_count > 100):\n",
    "        penalty = 0.1 \n",
    "    else:\n",
    "        penalty = 0\n",
    "    \n",
    "    loss = cost + penalty\n",
    "    \n",
    "    return {'loss': loss, 'label_count': label_count, 'status': STATUS_OK}"
   ]
  },
  {
   "cell_type": "code",
   "execution_count": 289,
   "id": "7e829b7e-4f14-4109-95a9-1516e29dd568",
   "metadata": {},
   "outputs": [],
   "source": [
    "def bayesian_search(embeddings, max_evals=100):\n",
    "    \n",
    "    space = {\n",
    "        \"n_neighbors\": hp.choice('n_neighbors', list(range(3,16))),\n",
    "        \"n_components\": hp.choice('n_components', list(range(3,16))),\n",
    "        \"min_cluster_size\": hp.choice('min_cluster_size', list(range(2,15)))\n",
    "    }\n",
    "    \n",
    "    trials = Trials()\n",
    "    fmin_objective = partial(objective, embeddings=embeddings, random_state=42)\n",
    "    best = fmin(fmin_objective, \n",
    "                space = space, \n",
    "                algo=tpe.suggest,\n",
    "                #algo=partial(tpe.suggest, n_startup_jobs=20),#otherwise the first 20 will be random by default\n",
    "                max_evals=max_evals, \n",
    "                trials=trials)\n",
    "\n",
    "    best_params = space_eval(space, best)\n",
    "    print ('best:')\n",
    "    print (best_params)\n",
    "    print (f\"label count: {trials.best_trial['result']['label_count']}\")\n",
    "    \n",
    "    return best_params, trials"
   ]
  },
  {
   "cell_type": "code",
   "execution_count": 293,
   "id": "892bda42-f2b1-4d4b-a01b-2ff3a957ac00",
   "metadata": {},
   "outputs": [],
   "source": [
    "def best_clusters(embeddings, best_params):\n",
    "    clusters_best = generate_clusters(embeddings, \n",
    "                                 n_neighbors = best_params['n_neighbors'], \n",
    "                                 n_components = best_params['n_components'], \n",
    "                                 min_cluster_size = best_params['min_cluster_size'], \n",
    "                                 random_state=42)\n",
    "    \n",
    "    return clusters_best"
   ]
  },
  {
   "cell_type": "markdown",
   "id": "c1498ac7-c66f-4683-a20c-2ec99f257891",
   "metadata": {},
   "source": [
    "##### Find best params for each model"
   ]
  },
  {
   "cell_type": "code",
   "execution_count": 291,
   "id": "b1254a08-77e2-432b-a122-0f1a11433410",
   "metadata": {},
   "outputs": [
    {
     "name": "stdout",
     "output_type": "stream",
     "text": [
      "100%|██████████| 100/100 [05:46<00:00,  3.46s/trial, best loss: 0.086]\n",
      "best:\n",
      "{'min_cluster_size': 4, 'n_components': 5, 'n_neighbors': 3}\n",
      "label count: 79\n"
     ]
    }
   ],
   "source": [
    "best_params_use, trials_use = bayesian_search(embeddings_use, max_evals=100)"
   ]
  },
  {
   "cell_type": "code",
   "execution_count": 297,
   "id": "6f12e2ce-dbea-40c3-98d5-9444355f811e",
   "metadata": {},
   "outputs": [
    {
     "data": {
      "text/plain": [
       "{'state': 2,\n",
       " 'tid': 13,\n",
       " 'spec': None,\n",
       " 'result': {'loss': 0.086, 'label_count': 79, 'status': 'ok'},\n",
       " 'misc': {'tid': 13,\n",
       "  'cmd': ('domain_attachment', 'FMinIter_Domain'),\n",
       "  'workdir': None,\n",
       "  'idxs': {'min_cluster_size': [13],\n",
       "   'n_components': [13],\n",
       "   'n_neighbors': [13]},\n",
       "  'vals': {'min_cluster_size': [2], 'n_components': [2], 'n_neighbors': [0]}},\n",
       " 'exp_key': None,\n",
       " 'owner': None,\n",
       " 'version': 0,\n",
       " 'book_time': datetime.datetime(2021, 9, 1, 16, 14, 57, 565000),\n",
       " 'refresh_time': datetime.datetime(2021, 9, 1, 16, 14, 59, 967000)}"
      ]
     },
     "execution_count": 297,
     "metadata": {},
     "output_type": "execute_result"
    }
   ],
   "source": [
    "trials_use.best_trial"
   ]
  },
  {
   "cell_type": "code",
   "execution_count": 295,
   "id": "ac785ff5-c9db-41bf-aae6-60bcbbe087e8",
   "metadata": {},
   "outputs": [
    {
     "name": "stdout",
     "output_type": "stream",
     "text": [
      "100%|██████████| 100/100 [06:02<00:00,  3.62s/trial, best loss: 0.075]             \n",
      "best:\n",
      "{'min_cluster_size': 7, 'n_components': 4, 'n_neighbors': 3}\n",
      "label count: 54\n"
     ]
    }
   ],
   "source": [
    "best_params_st1, trials_st1 = bayesian_search(embeddings_st1, max_evals=100)"
   ]
  },
  {
   "cell_type": "code",
   "execution_count": 296,
   "id": "7c2644a6-d83c-463f-9b51-192b94cd6bb9",
   "metadata": {},
   "outputs": [
    {
     "name": "stdout",
     "output_type": "stream",
     "text": [
      "100%|██████████| 100/100 [06:12<00:00,  3.73s/trial, best loss: 0.058]\n",
      "best:\n",
      "{'min_cluster_size': 8, 'n_components': 10, 'n_neighbors': 3}\n",
      "label count: 36\n"
     ]
    }
   ],
   "source": [
    "best_params_st2, trials_st2 = bayesian_search(embeddings_st2, max_evals=100)"
   ]
  },
  {
   "cell_type": "code",
   "execution_count": null,
   "id": "4c7b700b-84a8-4a8f-b87f-387a7538a09b",
   "metadata": {},
   "outputs": [],
   "source": [
    "best_params_st3, trials_st3 = bayesian_search(embeddings_st3, max_evals=100)"
   ]
  },
  {
   "cell_type": "markdown",
   "id": "7bdb1583-a05d-4863-a419-80e802ac76d8",
   "metadata": {},
   "source": [
    "##### Find clusters using best params for each model"
   ]
  },
  {
   "cell_type": "code",
   "execution_count": 298,
   "id": "544e527f-2567-41ae-b82c-74b39d22bac9",
   "metadata": {},
   "outputs": [],
   "source": [
    "best_clusters_use = best_clusters(embeddings_use, best_params_use)"
   ]
  },
  {
   "cell_type": "code",
   "execution_count": 299,
   "id": "f19ceb8b-e9e5-43a0-8211-98c0b5dd4d00",
   "metadata": {},
   "outputs": [],
   "source": [
    "best_clusters_st1 = best_clusters(embeddings_st1, best_params_st1)"
   ]
  },
  {
   "cell_type": "code",
   "execution_count": 300,
   "id": "e8178296-fe6f-4286-9e27-07ddac81e42c",
   "metadata": {},
   "outputs": [],
   "source": [
    "best_clusters_st2 = best_clusters(embeddings_st2, best_params_st2)"
   ]
  },
  {
   "cell_type": "code",
   "execution_count": null,
   "id": "b40f39b0-59a2-4d51-8dd6-db7543aaee83",
   "metadata": {},
   "outputs": [],
   "source": [
    "best_clusters_st3 = best_clusters(embeddings_st3, best_params_st3)"
   ]
  },
  {
   "cell_type": "code",
   "execution_count": 205,
   "id": "939d82af-5dda-486c-8111-235942c4f315",
   "metadata": {},
   "outputs": [
    {
     "name": "stdout",
     "output_type": "stream",
     "text": [
      "100%|██████████| 50/50 [03:31<00:00,  4.24s/trial, best loss: 77.0]\n",
      "best:\n",
      "{'min_cluster_size': 3, 'n_components': 11, 'n_neighbors': 6}\n",
      "label count: 98.0\n"
     ]
    }
   ],
   "source": [
    "st1_embeddings = embed_st(model_st1, all_intents)\n",
    "st1_best, _ = bayesian_search(st1_embeddings, max_evals=50)"
   ]
  },
  {
   "cell_type": "code",
   "execution_count": 216,
   "id": "256e099a-51ce-4bd7-8c8d-03b2f3f95cf1",
   "metadata": {},
   "outputs": [],
   "source": [
    "use_clusters = generate_clusters(use_embeddings, \n",
    "                                 n_neighbors = use_best['n_neighbors'], \n",
    "                                 n_components = use_best['n_components'], \n",
    "                                 min_cluster_size = use_best['min_cluster_size'], \n",
    "                                 random_state=42)"
   ]
  },
  {
   "cell_type": "code",
   "execution_count": 209,
   "id": "86fc6ddd-b9df-4908-b477-6c0d38eaf0ca",
   "metadata": {},
   "outputs": [],
   "source": [
    "st1_clusters = generate_clusters(st1_embeddings, \n",
    "                                 n_neighbors = st1_best['n_neighbors'], \n",
    "                                 n_components = st1_best['n_components'], \n",
    "                                 min_cluster_size = st1_best['min_cluster_size'], \n",
    "                                 random_state=42)"
   ]
  },
  {
   "cell_type": "code",
   "execution_count": 215,
   "id": "2bb0beaf-a154-4449-9232-a1d8d1a379bc",
   "metadata": {},
   "outputs": [
    {
     "data": {
      "text/plain": [
       "98"
      ]
     },
     "execution_count": 215,
     "metadata": {},
     "output_type": "execute_result"
    }
   ],
   "source": [
    "len(np.unique(st1_clusters.labels_))"
   ]
  },
  {
   "cell_type": "code",
   "execution_count": 166,
   "id": "6c777581-278f-4286-b204-3f07eb294516",
   "metadata": {},
   "outputs": [
    {
     "data": {
      "text/plain": [
       "(84.0, 84.0)"
      ]
     },
     "execution_count": 166,
     "metadata": {},
     "output_type": "execute_result"
    }
   ],
   "source": [
    "use_embeddings = embed_use(model_use, all_intents)\n",
    "score_clusters(1, use_embeddings, n_neighbors=3, n_components=4, min_cluster_size=4, random_state=42)"
   ]
  },
  {
   "cell_type": "code",
   "execution_count": 170,
   "id": "1dc8a78d-74f1-4d4f-8edd-945aacefaaea",
   "metadata": {},
   "outputs": [
    {
     "data": {
      "text/plain": [
       "(83.0, 106.0)"
      ]
     },
     "execution_count": 170,
     "metadata": {},
     "output_type": "execute_result"
    }
   ],
   "source": [
    "use_embeddings = embed_use(model_use, all_intents)\n",
    "score_clusters(1, use_embeddings, n_neighbors=4, n_components=11, min_cluster_size=4, random_state=42)"
   ]
  },
  {
   "cell_type": "code",
   "execution_count": 187,
   "id": "8dc2ea64-9775-4f06-9b5f-5d95c8d1e303",
   "metadata": {},
   "outputs": [
    {
     "data": {
      "text/plain": [
       "(92.0, 80.0)"
      ]
     },
     "execution_count": 187,
     "metadata": {},
     "output_type": "execute_result"
    }
   ],
   "source": [
    "st1_embeddings = embed_st(model_st1, all_intents)\n",
    "score_clusters(1, st1_embeddings, n_neighbors=3, n_components=11, min_cluster_size=4, random_state=42)"
   ]
  },
  {
   "cell_type": "markdown",
   "id": "45dcd399-f4de-4676-a68c-9edcf13a987b",
   "metadata": {},
   "source": [
    "## Evaluate clusters"
   ]
  },
  {
   "cell_type": "code",
   "execution_count": 306,
   "id": "0d77c824-a3b9-4603-a834-286ce2e815ec",
   "metadata": {},
   "outputs": [
    {
     "data": {
      "text/html": [
       "<div>\n",
       "<style scoped>\n",
       "    .dataframe tbody tr th:only-of-type {\n",
       "        vertical-align: middle;\n",
       "    }\n",
       "\n",
       "    .dataframe tbody tr th {\n",
       "        vertical-align: top;\n",
       "    }\n",
       "\n",
       "    .dataframe thead th {\n",
       "        text-align: right;\n",
       "    }\n",
       "</style>\n",
       "<table border=\"1\" class=\"dataframe\">\n",
       "  <thead>\n",
       "    <tr style=\"text-align: right;\">\n",
       "      <th></th>\n",
       "      <th>message</th>\n",
       "      <th>category</th>\n",
       "      <th>label_use</th>\n",
       "      <th>label_st1</th>\n",
       "      <th>label_st2</th>\n",
       "    </tr>\n",
       "  </thead>\n",
       "  <tbody>\n",
       "    <tr>\n",
       "      <th>0</th>\n",
       "      <td>I'm worried my card might be lost in the mail? How long does it usually take to arrive?</td>\n",
       "      <td>card_delivery_estimate</td>\n",
       "      <td>55</td>\n",
       "      <td>35</td>\n",
       "      <td>11</td>\n",
       "    </tr>\n",
       "    <tr>\n",
       "      <th>1</th>\n",
       "      <td>I got charged a fee that shouldn't be there from my cash</td>\n",
       "      <td>cash_withdrawal_charge</td>\n",
       "      <td>67</td>\n",
       "      <td>14</td>\n",
       "      <td>26</td>\n",
       "    </tr>\n",
       "    <tr>\n",
       "      <th>2</th>\n",
       "      <td>Do you charge for making a withdrawal? I took some money out of my account earlier and I was charged for this.</td>\n",
       "      <td>cash_withdrawal_charge</td>\n",
       "      <td>74</td>\n",
       "      <td>14</td>\n",
       "      <td>26</td>\n",
       "    </tr>\n",
       "    <tr>\n",
       "      <th>3</th>\n",
       "      <td>Is there an issue with my account?  I don't see a cheque deposit that I made yesterday.  Please assist.</td>\n",
       "      <td>balance_not_updated_after_cheque_or_cash_deposit</td>\n",
       "      <td>71</td>\n",
       "      <td>45</td>\n",
       "      <td>27</td>\n",
       "    </tr>\n",
       "    <tr>\n",
       "      <th>4</th>\n",
       "      <td>Are there ways for other people to send me money?</td>\n",
       "      <td>receiving_money</td>\n",
       "      <td>26</td>\n",
       "      <td>32</td>\n",
       "      <td>26</td>\n",
       "    </tr>\n",
       "  </tbody>\n",
       "</table>\n",
       "</div>"
      ],
      "text/plain": [
       "                                                                                                          message  \\\n",
       "0                         I'm worried my card might be lost in the mail? How long does it usually take to arrive?   \n",
       "1                                                        I got charged a fee that shouldn't be there from my cash   \n",
       "2  Do you charge for making a withdrawal? I took some money out of my account earlier and I was charged for this.   \n",
       "3         Is there an issue with my account?  I don't see a cheque deposit that I made yesterday.  Please assist.   \n",
       "4                                                               Are there ways for other people to send me money?   \n",
       "\n",
       "                                           category  label_use  label_st1  \\\n",
       "0                            card_delivery_estimate         55         35   \n",
       "1                            cash_withdrawal_charge         67         14   \n",
       "2                            cash_withdrawal_charge         74         14   \n",
       "3  balance_not_updated_after_cheque_or_cash_deposit         71         45   \n",
       "4                                   receiving_money         26         32   \n",
       "\n",
       "   label_st2  \n",
       "0         11  \n",
       "1         26  \n",
       "2         26  \n",
       "3         27  \n",
       "4         26  "
      ]
     },
     "execution_count": 306,
     "metadata": {},
     "output_type": "execute_result"
    }
   ],
   "source": [
    "results_df = pd.DataFrame(all_intents, columns=['message'])\n",
    "results_df['category'] = data_sample.category\n",
    "\n",
    "cluster_dict = {'label_use': best_clusters_use, \n",
    "                'label_st1': best_clusters_st1, \n",
    "                'label_st2': best_clusters_st2} \n",
    "                #'label_st3': best_clusters_st3}\n",
    "\n",
    "for key, value in cluster_dict.items():\n",
    "    results_df[key] = value.labels_\n",
    "    \n",
    "results_df.head()"
   ]
  },
  {
   "cell_type": "markdown",
   "id": "33768528-9a03-4216-9f99-3fe13d3a7053",
   "metadata": {
    "tags": []
   },
   "source": [
    "### Visually inspect clusters"
   ]
  },
  {
   "cell_type": "code",
   "execution_count": 241,
   "id": "4acf9098-3414-484b-a499-d86f1f87d0e9",
   "metadata": {},
   "outputs": [],
   "source": [
    "def plot_clusters(embeddings, clusters, n_neighbors=4):\n",
    "    umap_data = umap.UMAP(n_neighbors=n_neighbors, \n",
    "                          n_components=2, \n",
    "                          min_dist = 0.0, \n",
    "                          metric='cosine', \n",
    "                          random_state=42).fit_transform(embeddings)\n",
    "\n",
    "    result = pd.DataFrame(umap_data, columns=['x', 'y'])\n",
    "    result['labels'] = clusters.labels_\n",
    "\n",
    "    fig, ax = plt.subplots(figsize=(14, 8))\n",
    "    outliers = result.loc[result.labels == -1, :]\n",
    "    clustered = result.loc[result.labels != -1, :]\n",
    "    plt.scatter(outliers.x, outliers.y, color = '#BDBDBD', s=4)\n",
    "    plt.scatter(clustered.x, clustered.y, c=clustered.labels, s=4, cmap='hsv_r')\n",
    "    plt.colorbar()\n",
    "    plt.show()"
   ]
  },
  {
   "cell_type": "code",
   "execution_count": 242,
   "id": "2fcd3f1f-13cd-467a-95ac-042cdbf70582",
   "metadata": {
    "tags": []
   },
   "outputs": [
    {
     "data": {
      "image/png": "[encoded data removed]",
      "text/plain": [
       "<Figure size 1008x576 with 2 Axes>"
      ]
     },
     "metadata": {
      "needs_background": "light"
     },
     "output_type": "display_data"
    }
   ],
   "source": [
    "plot_clusters(use_embeddings, use_clusters, n_neighbors=4)"
   ]
  },
  {
   "cell_type": "code",
   "execution_count": 243,
   "id": "b8f4c148-edf3-45fd-a641-826e61c7484f",
   "metadata": {},
   "outputs": [
    {
     "data": {
      "image/png": "[encoded data removed]",
      "text/plain": [
       "<Figure size 1008x576 with 2 Axes>"
      ]
     },
     "metadata": {
      "needs_background": "light"
     },
     "output_type": "display_data"
    }
   ],
   "source": [
    "plot_clusters(st1_embeddings, st1_clusters, n_neighbors=4)"
   ]
  },
  {
   "cell_type": "markdown",
   "id": "0227de0c-5673-4b7e-8047-0247bba74124",
   "metadata": {},
   "source": [
    "### Manually inspect category consistency"
   ]
  },
  {
   "cell_type": "code",
   "execution_count": 249,
   "id": "98de948f-f400-477c-8070-3b8fafa28ecf",
   "metadata": {
    "tags": []
   },
   "outputs": [
    {
     "data": {
      "text/html": [
       "<div>\n",
       "<style scoped>\n",
       "    .dataframe tbody tr th:only-of-type {\n",
       "        vertical-align: middle;\n",
       "    }\n",
       "\n",
       "    .dataframe tbody tr th {\n",
       "        vertical-align: top;\n",
       "    }\n",
       "\n",
       "    .dataframe thead th {\n",
       "        text-align: right;\n",
       "    }\n",
       "</style>\n",
       "<table border=\"1\" class=\"dataframe\">\n",
       "  <thead>\n",
       "    <tr style=\"text-align: right;\">\n",
       "      <th></th>\n",
       "      <th>message</th>\n",
       "      <th>category</th>\n",
       "      <th>label_use</th>\n",
       "      <th>label_st1</th>\n",
       "    </tr>\n",
       "  </thead>\n",
       "  <tbody>\n",
       "    <tr>\n",
       "      <th>44</th>\n",
       "      <td>What are the countries you have offices in?</td>\n",
       "      <td>country_support</td>\n",
       "      <td>2</td>\n",
       "      <td>16</td>\n",
       "    </tr>\n",
       "    <tr>\n",
       "      <th>279</th>\n",
       "      <td>What countries are you available in?</td>\n",
       "      <td>country_support</td>\n",
       "      <td>2</td>\n",
       "      <td>16</td>\n",
       "    </tr>\n",
       "    <tr>\n",
       "      <th>295</th>\n",
       "      <td>What are the countries that you operate in?</td>\n",
       "      <td>country_support</td>\n",
       "      <td>2</td>\n",
       "      <td>16</td>\n",
       "    </tr>\n",
       "    <tr>\n",
       "      <th>503</th>\n",
       "      <td>Which countries do you operate in</td>\n",
       "      <td>country_support</td>\n",
       "      <td>2</td>\n",
       "      <td>16</td>\n",
       "    </tr>\n",
       "    <tr>\n",
       "      <th>600</th>\n",
       "      <td>How do I know which countries you provide service in?</td>\n",
       "      <td>country_support</td>\n",
       "      <td>2</td>\n",
       "      <td>16</td>\n",
       "    </tr>\n",
       "    <tr>\n",
       "      <th>898</th>\n",
       "      <td>I would like to know the countries you are offer services in?</td>\n",
       "      <td>country_support</td>\n",
       "      <td>2</td>\n",
       "      <td>16</td>\n",
       "    </tr>\n",
       "  </tbody>\n",
       "</table>\n",
       "</div>"
      ],
      "text/plain": [
       "                                                           message  \\\n",
       "44                     What are the countries you have offices in?   \n",
       "279                           What countries are you available in?   \n",
       "295                    What are the countries that you operate in?   \n",
       "503                              Which countries do you operate in   \n",
       "600          How do I know which countries you provide service in?   \n",
       "898  I would like to know the countries you are offer services in?   \n",
       "\n",
       "            category  label_use  label_st1  \n",
       "44   country_support          2         16  \n",
       "279  country_support          2         16  \n",
       "295  country_support          2         16  \n",
       "503  country_support          2         16  \n",
       "600  country_support          2         16  \n",
       "898  country_support          2         16  "
      ]
     },
     "execution_count": 249,
     "metadata": {},
     "output_type": "execute_result"
    }
   ],
   "source": [
    "results_df[results_df['label_use']==2]"
   ]
  },
  {
   "cell_type": "code",
   "execution_count": 245,
   "id": "a4117056-0569-46aa-aad2-2239f469c1d4",
   "metadata": {},
   "outputs": [
    {
     "data": {
      "text/html": [
       "<div>\n",
       "<style scoped>\n",
       "    .dataframe tbody tr th:only-of-type {\n",
       "        vertical-align: middle;\n",
       "    }\n",
       "\n",
       "    .dataframe tbody tr th {\n",
       "        vertical-align: top;\n",
       "    }\n",
       "\n",
       "    .dataframe thead th {\n",
       "        text-align: right;\n",
       "    }\n",
       "</style>\n",
       "<table border=\"1\" class=\"dataframe\">\n",
       "  <thead>\n",
       "    <tr style=\"text-align: right;\">\n",
       "      <th></th>\n",
       "      <th>message</th>\n",
       "      <th>category</th>\n",
       "      <th>label_use</th>\n",
       "      <th>label_st1</th>\n",
       "    </tr>\n",
       "  </thead>\n",
       "  <tbody>\n",
       "    <tr>\n",
       "      <th>11</th>\n",
       "      <td>Do you do business in the EU?</td>\n",
       "      <td>country_support</td>\n",
       "      <td>41</td>\n",
       "      <td>15</td>\n",
       "    </tr>\n",
       "    <tr>\n",
       "      <th>44</th>\n",
       "      <td>What are the countries you have offices in?</td>\n",
       "      <td>country_support</td>\n",
       "      <td>2</td>\n",
       "      <td>16</td>\n",
       "    </tr>\n",
       "    <tr>\n",
       "      <th>122</th>\n",
       "      <td>Can I use this all over the world?</td>\n",
       "      <td>country_support</td>\n",
       "      <td>47</td>\n",
       "      <td>16</td>\n",
       "    </tr>\n",
       "    <tr>\n",
       "      <th>279</th>\n",
       "      <td>What countries are you available in?</td>\n",
       "      <td>country_support</td>\n",
       "      <td>2</td>\n",
       "      <td>16</td>\n",
       "    </tr>\n",
       "    <tr>\n",
       "      <th>295</th>\n",
       "      <td>What are the countries that you operate in?</td>\n",
       "      <td>country_support</td>\n",
       "      <td>2</td>\n",
       "      <td>16</td>\n",
       "    </tr>\n",
       "    <tr>\n",
       "      <th>311</th>\n",
       "      <td>Can I get a card in the EU?</td>\n",
       "      <td>country_support</td>\n",
       "      <td>41</td>\n",
       "      <td>61</td>\n",
       "    </tr>\n",
       "    <tr>\n",
       "      <th>503</th>\n",
       "      <td>Which countries do you operate in</td>\n",
       "      <td>country_support</td>\n",
       "      <td>2</td>\n",
       "      <td>16</td>\n",
       "    </tr>\n",
       "    <tr>\n",
       "      <th>600</th>\n",
       "      <td>How do I know which countries you provide service in?</td>\n",
       "      <td>country_support</td>\n",
       "      <td>2</td>\n",
       "      <td>16</td>\n",
       "    </tr>\n",
       "    <tr>\n",
       "      <th>724</th>\n",
       "      <td>I'm not in the UK, but can I still get a card?</td>\n",
       "      <td>country_support</td>\n",
       "      <td>41</td>\n",
       "      <td>61</td>\n",
       "    </tr>\n",
       "    <tr>\n",
       "      <th>732</th>\n",
       "      <td>Can I get support?</td>\n",
       "      <td>country_support</td>\n",
       "      <td>32</td>\n",
       "      <td>53</td>\n",
       "    </tr>\n",
       "    <tr>\n",
       "      <th>754</th>\n",
       "      <td>I live in the EU, can I get one of your cards?</td>\n",
       "      <td>country_support</td>\n",
       "      <td>41</td>\n",
       "      <td>61</td>\n",
       "    </tr>\n",
       "    <tr>\n",
       "      <th>826</th>\n",
       "      <td>Are you only able to get a card if you're in the UK?</td>\n",
       "      <td>country_support</td>\n",
       "      <td>41</td>\n",
       "      <td>61</td>\n",
       "    </tr>\n",
       "    <tr>\n",
       "      <th>898</th>\n",
       "      <td>I would like to know the countries you are offer services in?</td>\n",
       "      <td>country_support</td>\n",
       "      <td>2</td>\n",
       "      <td>16</td>\n",
       "    </tr>\n",
       "  </tbody>\n",
       "</table>\n",
       "</div>"
      ],
      "text/plain": [
       "                                                           message  \\\n",
       "11                                   Do you do business in the EU?   \n",
       "44                     What are the countries you have offices in?   \n",
       "122                             Can I use this all over the world?   \n",
       "279                           What countries are you available in?   \n",
       "295                    What are the countries that you operate in?   \n",
       "311                                    Can I get a card in the EU?   \n",
       "503                              Which countries do you operate in   \n",
       "600          How do I know which countries you provide service in?   \n",
       "724                 I'm not in the UK, but can I still get a card?   \n",
       "732                                             Can I get support?   \n",
       "754                 I live in the EU, can I get one of your cards?   \n",
       "826           Are you only able to get a card if you're in the UK?   \n",
       "898  I would like to know the countries you are offer services in?   \n",
       "\n",
       "            category  label_use  label_st1  \n",
       "11   country_support         41         15  \n",
       "44   country_support          2         16  \n",
       "122  country_support         47         16  \n",
       "279  country_support          2         16  \n",
       "295  country_support          2         16  \n",
       "311  country_support         41         61  \n",
       "503  country_support          2         16  \n",
       "600  country_support          2         16  \n",
       "724  country_support         41         61  \n",
       "732  country_support         32         53  \n",
       "754  country_support         41         61  \n",
       "826  country_support         41         61  \n",
       "898  country_support          2         16  "
      ]
     },
     "execution_count": 245,
     "metadata": {},
     "output_type": "execute_result"
    }
   ],
   "source": [
    "results_df[results_df['category']=='country_support']"
   ]
  },
  {
   "cell_type": "markdown",
   "id": "a72ee559-5fc1-48af-9e9a-beec8ddec460",
   "metadata": {},
   "source": [
    "Both USE and ST1 models have high precision for `country_support` category but also both miss many instances in that group."
   ]
  },
  {
   "cell_type": "code",
   "execution_count": 250,
   "id": "ec972d20-470d-4b51-8863-6a1669c4f990",
   "metadata": {},
   "outputs": [
    {
     "data": {
      "text/html": [
       "<div>\n",
       "<style scoped>\n",
       "    .dataframe tbody tr th:only-of-type {\n",
       "        vertical-align: middle;\n",
       "    }\n",
       "\n",
       "    .dataframe tbody tr th {\n",
       "        vertical-align: top;\n",
       "    }\n",
       "\n",
       "    .dataframe thead th {\n",
       "        text-align: right;\n",
       "    }\n",
       "</style>\n",
       "<table border=\"1\" class=\"dataframe\">\n",
       "  <thead>\n",
       "    <tr style=\"text-align: right;\">\n",
       "      <th></th>\n",
       "      <th>message</th>\n",
       "      <th>category</th>\n",
       "      <th>label_use</th>\n",
       "      <th>label_st1</th>\n",
       "    </tr>\n",
       "  </thead>\n",
       "  <tbody>\n",
       "    <tr>\n",
       "      <th>27</th>\n",
       "      <td>I am overseas in China, can I get a replacement card?</td>\n",
       "      <td>card_about_to_expire</td>\n",
       "      <td>35</td>\n",
       "      <td>25</td>\n",
       "    </tr>\n",
       "    <tr>\n",
       "      <th>370</th>\n",
       "      <td>If I am in China, can I still order a new card and if so, how?</td>\n",
       "      <td>card_about_to_expire</td>\n",
       "      <td>35</td>\n",
       "      <td>25</td>\n",
       "    </tr>\n",
       "    <tr>\n",
       "      <th>441</th>\n",
       "      <td>My card is almost expired.  How fast will I get a new one and what is the cost?</td>\n",
       "      <td>card_about_to_expire</td>\n",
       "      <td>9</td>\n",
       "      <td>25</td>\n",
       "    </tr>\n",
       "    <tr>\n",
       "      <th>477</th>\n",
       "      <td>My card is about to expire. Do I have to go to a branch to order a new card?</td>\n",
       "      <td>card_about_to_expire</td>\n",
       "      <td>9</td>\n",
       "      <td>25</td>\n",
       "    </tr>\n",
       "    <tr>\n",
       "      <th>521</th>\n",
       "      <td>My card expires soon, will you send me one automatically?</td>\n",
       "      <td>card_about_to_expire</td>\n",
       "      <td>9</td>\n",
       "      <td>25</td>\n",
       "    </tr>\n",
       "    <tr>\n",
       "      <th>524</th>\n",
       "      <td>My card expires very soon.  What is the cost and delivery time to get a new one?</td>\n",
       "      <td>card_about_to_expire</td>\n",
       "      <td>9</td>\n",
       "      <td>25</td>\n",
       "    </tr>\n",
       "    <tr>\n",
       "      <th>551</th>\n",
       "      <td>Where can I have a new bank card sent to China?</td>\n",
       "      <td>card_about_to_expire</td>\n",
       "      <td>35</td>\n",
       "      <td>25</td>\n",
       "    </tr>\n",
       "    <tr>\n",
       "      <th>584</th>\n",
       "      <td>How do I get a new expiration date?</td>\n",
       "      <td>card_about_to_expire</td>\n",
       "      <td>9</td>\n",
       "      <td>25</td>\n",
       "    </tr>\n",
       "    <tr>\n",
       "      <th>605</th>\n",
       "      <td>Are there any express fees if i want my new card faster?</td>\n",
       "      <td>card_about_to_expire</td>\n",
       "      <td>-1</td>\n",
       "      <td>25</td>\n",
       "    </tr>\n",
       "    <tr>\n",
       "      <th>646</th>\n",
       "      <td>My card is almost going to expire.</td>\n",
       "      <td>card_about_to_expire</td>\n",
       "      <td>9</td>\n",
       "      <td>25</td>\n",
       "    </tr>\n",
       "    <tr>\n",
       "      <th>765</th>\n",
       "      <td>My card expires soon</td>\n",
       "      <td>card_about_to_expire</td>\n",
       "      <td>9</td>\n",
       "      <td>25</td>\n",
       "    </tr>\n",
       "    <tr>\n",
       "      <th>812</th>\n",
       "      <td>What is the cost and time frame of getting a new card?</td>\n",
       "      <td>card_about_to_expire</td>\n",
       "      <td>9</td>\n",
       "      <td>25</td>\n",
       "    </tr>\n",
       "    <tr>\n",
       "      <th>833</th>\n",
       "      <td>Help me order a new card that's going to be expired soon.</td>\n",
       "      <td>card_about_to_expire</td>\n",
       "      <td>9</td>\n",
       "      <td>25</td>\n",
       "    </tr>\n",
       "    <tr>\n",
       "      <th>888</th>\n",
       "      <td>What happens if my card expires?</td>\n",
       "      <td>card_about_to_expire</td>\n",
       "      <td>9</td>\n",
       "      <td>25</td>\n",
       "    </tr>\n",
       "  </tbody>\n",
       "</table>\n",
       "</div>"
      ],
      "text/plain": [
       "                                                                              message  \\\n",
       "27                              I am overseas in China, can I get a replacement card?   \n",
       "370                    If I am in China, can I still order a new card and if so, how?   \n",
       "441   My card is almost expired.  How fast will I get a new one and what is the cost?   \n",
       "477      My card is about to expire. Do I have to go to a branch to order a new card?   \n",
       "521                         My card expires soon, will you send me one automatically?   \n",
       "524  My card expires very soon.  What is the cost and delivery time to get a new one?   \n",
       "551                                   Where can I have a new bank card sent to China?   \n",
       "584                                               How do I get a new expiration date?   \n",
       "605                          Are there any express fees if i want my new card faster?   \n",
       "646                                                My card is almost going to expire.   \n",
       "765                                                              My card expires soon   \n",
       "812                            What is the cost and time frame of getting a new card?   \n",
       "833                         Help me order a new card that's going to be expired soon.   \n",
       "888                                                  What happens if my card expires?   \n",
       "\n",
       "                 category  label_use  label_st1  \n",
       "27   card_about_to_expire         35         25  \n",
       "370  card_about_to_expire         35         25  \n",
       "441  card_about_to_expire          9         25  \n",
       "477  card_about_to_expire          9         25  \n",
       "521  card_about_to_expire          9         25  \n",
       "524  card_about_to_expire          9         25  \n",
       "551  card_about_to_expire         35         25  \n",
       "584  card_about_to_expire          9         25  \n",
       "605  card_about_to_expire         -1         25  \n",
       "646  card_about_to_expire          9         25  \n",
       "765  card_about_to_expire          9         25  \n",
       "812  card_about_to_expire          9         25  \n",
       "833  card_about_to_expire          9         25  \n",
       "888  card_about_to_expire          9         25  "
      ]
     },
     "execution_count": 250,
     "metadata": {},
     "output_type": "execute_result"
    }
   ],
   "source": [
    "results_df[results_df['category']=='card_about_to_expire']"
   ]
  },
  {
   "cell_type": "code",
   "execution_count": 251,
   "id": "46912852-8f61-49de-ab1c-71d066153b11",
   "metadata": {},
   "outputs": [
    {
     "data": {
      "text/html": [
       "<div>\n",
       "<style scoped>\n",
       "    .dataframe tbody tr th:only-of-type {\n",
       "        vertical-align: middle;\n",
       "    }\n",
       "\n",
       "    .dataframe tbody tr th {\n",
       "        vertical-align: top;\n",
       "    }\n",
       "\n",
       "    .dataframe thead th {\n",
       "        text-align: right;\n",
       "    }\n",
       "</style>\n",
       "<table border=\"1\" class=\"dataframe\">\n",
       "  <thead>\n",
       "    <tr style=\"text-align: right;\">\n",
       "      <th></th>\n",
       "      <th>message</th>\n",
       "      <th>category</th>\n",
       "      <th>label_use</th>\n",
       "      <th>label_st1</th>\n",
       "    </tr>\n",
       "  </thead>\n",
       "  <tbody>\n",
       "    <tr>\n",
       "      <th>27</th>\n",
       "      <td>I am overseas in China, can I get a replacement card?</td>\n",
       "      <td>card_about_to_expire</td>\n",
       "      <td>35</td>\n",
       "      <td>25</td>\n",
       "    </tr>\n",
       "    <tr>\n",
       "      <th>108</th>\n",
       "      <td>I would like to purchase another card.</td>\n",
       "      <td>getting_spare_card</td>\n",
       "      <td>66</td>\n",
       "      <td>25</td>\n",
       "    </tr>\n",
       "    <tr>\n",
       "      <th>370</th>\n",
       "      <td>If I am in China, can I still order a new card and if so, how?</td>\n",
       "      <td>card_about_to_expire</td>\n",
       "      <td>35</td>\n",
       "      <td>25</td>\n",
       "    </tr>\n",
       "    <tr>\n",
       "      <th>383</th>\n",
       "      <td>What is the price for an additional card?</td>\n",
       "      <td>getting_spare_card</td>\n",
       "      <td>-1</td>\n",
       "      <td>25</td>\n",
       "    </tr>\n",
       "    <tr>\n",
       "      <th>441</th>\n",
       "      <td>My card is almost expired.  How fast will I get a new one and what is the cost?</td>\n",
       "      <td>card_about_to_expire</td>\n",
       "      <td>9</td>\n",
       "      <td>25</td>\n",
       "    </tr>\n",
       "    <tr>\n",
       "      <th>477</th>\n",
       "      <td>My card is about to expire. Do I have to go to a branch to order a new card?</td>\n",
       "      <td>card_about_to_expire</td>\n",
       "      <td>9</td>\n",
       "      <td>25</td>\n",
       "    </tr>\n",
       "    <tr>\n",
       "      <th>521</th>\n",
       "      <td>My card expires soon, will you send me one automatically?</td>\n",
       "      <td>card_about_to_expire</td>\n",
       "      <td>9</td>\n",
       "      <td>25</td>\n",
       "    </tr>\n",
       "    <tr>\n",
       "      <th>524</th>\n",
       "      <td>My card expires very soon.  What is the cost and delivery time to get a new one?</td>\n",
       "      <td>card_about_to_expire</td>\n",
       "      <td>9</td>\n",
       "      <td>25</td>\n",
       "    </tr>\n",
       "    <tr>\n",
       "      <th>551</th>\n",
       "      <td>Where can I have a new bank card sent to China?</td>\n",
       "      <td>card_about_to_expire</td>\n",
       "      <td>35</td>\n",
       "      <td>25</td>\n",
       "    </tr>\n",
       "    <tr>\n",
       "      <th>584</th>\n",
       "      <td>How do I get a new expiration date?</td>\n",
       "      <td>card_about_to_expire</td>\n",
       "      <td>9</td>\n",
       "      <td>25</td>\n",
       "    </tr>\n",
       "    <tr>\n",
       "      <th>605</th>\n",
       "      <td>Are there any express fees if i want my new card faster?</td>\n",
       "      <td>card_about_to_expire</td>\n",
       "      <td>-1</td>\n",
       "      <td>25</td>\n",
       "    </tr>\n",
       "    <tr>\n",
       "      <th>646</th>\n",
       "      <td>My card is almost going to expire.</td>\n",
       "      <td>card_about_to_expire</td>\n",
       "      <td>9</td>\n",
       "      <td>25</td>\n",
       "    </tr>\n",
       "    <tr>\n",
       "      <th>765</th>\n",
       "      <td>My card expires soon</td>\n",
       "      <td>card_about_to_expire</td>\n",
       "      <td>9</td>\n",
       "      <td>25</td>\n",
       "    </tr>\n",
       "    <tr>\n",
       "      <th>812</th>\n",
       "      <td>What is the cost and time frame of getting a new card?</td>\n",
       "      <td>card_about_to_expire</td>\n",
       "      <td>9</td>\n",
       "      <td>25</td>\n",
       "    </tr>\n",
       "    <tr>\n",
       "      <th>833</th>\n",
       "      <td>Help me order a new card that's going to be expired soon.</td>\n",
       "      <td>card_about_to_expire</td>\n",
       "      <td>9</td>\n",
       "      <td>25</td>\n",
       "    </tr>\n",
       "    <tr>\n",
       "      <th>879</th>\n",
       "      <td>I want a new card</td>\n",
       "      <td>getting_spare_card</td>\n",
       "      <td>66</td>\n",
       "      <td>25</td>\n",
       "    </tr>\n",
       "    <tr>\n",
       "      <th>888</th>\n",
       "      <td>What happens if my card expires?</td>\n",
       "      <td>card_about_to_expire</td>\n",
       "      <td>9</td>\n",
       "      <td>25</td>\n",
       "    </tr>\n",
       "  </tbody>\n",
       "</table>\n",
       "</div>"
      ],
      "text/plain": [
       "                                                                              message  \\\n",
       "27                              I am overseas in China, can I get a replacement card?   \n",
       "108                                            I would like to purchase another card.   \n",
       "370                    If I am in China, can I still order a new card and if so, how?   \n",
       "383                                         What is the price for an additional card?   \n",
       "441   My card is almost expired.  How fast will I get a new one and what is the cost?   \n",
       "477      My card is about to expire. Do I have to go to a branch to order a new card?   \n",
       "521                         My card expires soon, will you send me one automatically?   \n",
       "524  My card expires very soon.  What is the cost and delivery time to get a new one?   \n",
       "551                                   Where can I have a new bank card sent to China?   \n",
       "584                                               How do I get a new expiration date?   \n",
       "605                          Are there any express fees if i want my new card faster?   \n",
       "646                                                My card is almost going to expire.   \n",
       "765                                                              My card expires soon   \n",
       "812                            What is the cost and time frame of getting a new card?   \n",
       "833                         Help me order a new card that's going to be expired soon.   \n",
       "879                                                                 I want a new card   \n",
       "888                                                  What happens if my card expires?   \n",
       "\n",
       "                 category  label_use  label_st1  \n",
       "27   card_about_to_expire         35         25  \n",
       "108    getting_spare_card         66         25  \n",
       "370  card_about_to_expire         35         25  \n",
       "383    getting_spare_card         -1         25  \n",
       "441  card_about_to_expire          9         25  \n",
       "477  card_about_to_expire          9         25  \n",
       "521  card_about_to_expire          9         25  \n",
       "524  card_about_to_expire          9         25  \n",
       "551  card_about_to_expire         35         25  \n",
       "584  card_about_to_expire          9         25  \n",
       "605  card_about_to_expire         -1         25  \n",
       "646  card_about_to_expire          9         25  \n",
       "765  card_about_to_expire          9         25  \n",
       "812  card_about_to_expire          9         25  \n",
       "833  card_about_to_expire          9         25  \n",
       "879    getting_spare_card         66         25  \n",
       "888  card_about_to_expire          9         25  "
      ]
     },
     "execution_count": 251,
     "metadata": {},
     "output_type": "execute_result"
    }
   ],
   "source": [
    "results_df[results_df['label_st1']==25]"
   ]
  },
  {
   "cell_type": "markdown",
   "id": "8f84e273-7c7c-453f-ac43-cdbe45be42c6",
   "metadata": {},
   "source": [
    "### Manually inspect category consistency with ground truth labels"
   ]
  },
  {
   "cell_type": "code",
   "execution_count": 307,
   "id": "ccefae2b-12bb-4da4-b6de-f38ffab2bbf4",
   "metadata": {},
   "outputs": [],
   "source": [
    "def comparison_table(model_dict, results_df):\n",
    "    summary = []\n",
    "\n",
    "    for key, value in model_dict.items():\n",
    "        ari = np.round(adjusted_rand_score(results_df['category'].values, results_df[value].values), 3)\n",
    "        nmi = np.round(normalized_mutual_info_score(results_df['category'].values, results_df[value].values), 3)\n",
    "        summary.append([key, ari, nmi])\n",
    "\n",
    "    comparison_df = pd.DataFrame(results, columns=['Model','ARI', 'NMI'])\n",
    "    \n",
    "    return comparison_df"
   ]
  },
  {
   "cell_type": "code",
   "execution_count": 311,
   "id": "c2ba6c99-4edb-446f-8db8-c3ca8845a98d",
   "metadata": {},
   "outputs": [
    {
     "data": {
      "text/html": [
       "<div>\n",
       "<style scoped>\n",
       "    .dataframe tbody tr th:only-of-type {\n",
       "        vertical-align: middle;\n",
       "    }\n",
       "\n",
       "    .dataframe tbody tr th {\n",
       "        vertical-align: top;\n",
       "    }\n",
       "\n",
       "    .dataframe thead th {\n",
       "        text-align: right;\n",
       "    }\n",
       "</style>\n",
       "<table border=\"1\" class=\"dataframe\">\n",
       "  <thead>\n",
       "    <tr style=\"text-align: right;\">\n",
       "      <th></th>\n",
       "      <th>Model</th>\n",
       "      <th>ARI</th>\n",
       "      <th>NMI</th>\n",
       "    </tr>\n",
       "  </thead>\n",
       "  <tbody>\n",
       "    <tr>\n",
       "      <th>0</th>\n",
       "      <td>USE</td>\n",
       "      <td>0.268</td>\n",
       "      <td>0.725</td>\n",
       "    </tr>\n",
       "    <tr>\n",
       "      <th>1</th>\n",
       "      <td>Sent-Transformer_1</td>\n",
       "      <td>0.410</td>\n",
       "      <td>0.798</td>\n",
       "    </tr>\n",
       "  </tbody>\n",
       "</table>\n",
       "</div>"
      ],
      "text/plain": [
       "                Model    ARI    NMI\n",
       "0                 USE  0.268  0.725\n",
       "1  Sent-Transformer_1  0.410  0.798"
      ]
     },
     "execution_count": 311,
     "metadata": {},
     "output_type": "execute_result"
    }
   ],
   "source": [
    "model_dict = {'USE': 'label_use', \n",
    "              'Sent-Transformer_1': 'label_st1', \n",
    "              'Sent-Transformer_2': 'label_st2'}\n",
    "\n",
    "comparison_table(model_dict, results_df)"
   ]
  },
  {
   "cell_type": "code",
   "execution_count": null,
   "id": "8e88f263-f221-4b19-b9e5-7dc9e9e30a26",
   "metadata": {},
   "outputs": [],
   "source": []
  }
 ],
 "metadata": {
  "kernelspec": {
   "display_name": "Python 3",
   "language": "python",
   "name": "python3"
  },
  "language_info": {
   "codemirror_mode": {
    "name": "ipython",
    "version": 3
   },
   "file_extension": ".py",
   "mimetype": "text/x-python",
   "name": "python",
   "nbconvert_exporter": "python",
   "pygments_lexer": "ipython3",
   "version": "3.9.6"
  }
 },
 "nbformat": 4,
 "nbformat_minor": 5
}
