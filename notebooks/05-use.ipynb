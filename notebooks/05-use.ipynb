{
 "cells": [
  {
   "cell_type": "markdown",
   "id": "3f8bcc5e-f730-43a6-9084-5e2338b0c244",
   "metadata": {},
   "source": [
    "# Chat Intents\n",
    "\n",
    "## UMAP + Clustering"
   ]
  },
  {
   "cell_type": "code",
   "execution_count": 134,
   "id": "3c6fb567-223a-4f20-8895-b4352b7ea567",
   "metadata": {},
   "outputs": [],
   "source": [
    "import numpy as np\n",
    "import pandas as pd\n",
    "\n",
    "pd.set_option(\"display.max_rows\", 600)\n",
    "pd.set_option(\"display.max_columns\", 500)\n",
    "pd.set_option(\"max_colwidth\", 400)\n",
    "\n",
    "import matplotlib.pyplot as plt\n",
    "from sklearn.feature_extraction.text import CountVectorizer\n",
    "\n",
    "from sklearn.cluster import KMeans\n",
    "from sklearn.cluster import DBSCAN\n",
    "import hdbscan\n",
    "from sklearn.metrics import silhouette_samples, silhouette_score\n",
    "from sklearn.metrics.cluster import normalized_mutual_info_score\n",
    "from sklearn.metrics.cluster import adjusted_rand_score\n",
    "\n",
    "import umap"
   ]
  },
  {
   "cell_type": "code",
   "execution_count": 72,
   "id": "326a200a-9470-4cd9-860c-15a882b9d014",
   "metadata": {},
   "outputs": [],
   "source": [
    "from tqdm.notebook import tqdm, trange"
   ]
  },
  {
   "cell_type": "code",
   "execution_count": 2,
   "id": "c37b0de2-6b5b-47be-8c08-4c29c3d1f1ab",
   "metadata": {},
   "outputs": [],
   "source": [
    "import tensorflow as tf\n",
    "import tensorflow_hub as hub"
   ]
  },
  {
   "cell_type": "code",
   "execution_count": 3,
   "id": "fcc2a159-0d7c-4fb0-a118-1dff55161cde",
   "metadata": {},
   "outputs": [],
   "source": [
    "from sentence_transformers import SentenceTransformer"
   ]
  },
  {
   "cell_type": "code",
   "execution_count": 9,
   "id": "7cd3c824-2a63-4b01-9a6b-7aae1d132d5e",
   "metadata": {},
   "outputs": [
    {
     "name": "stdout",
     "output_type": "stream",
     "text": [
      "module https://tfhub.dev/google/universal-sentence-encoder/4 loaded\n"
     ]
    }
   ],
   "source": [
    "module_url = \"https://tfhub.dev/google/universal-sentence-encoder/4\"\n",
    "model_use = hub.load(module_url)\n",
    "\n",
    "print(f\"module {module_url} loaded\")"
   ]
  },
  {
   "cell_type": "code",
   "execution_count": 5,
   "id": "97016d39-1ffd-4efa-aa25-4cc53fe71ff0",
   "metadata": {},
   "outputs": [
    {
     "data": {
      "application/vnd.jupyter.widget-view+json": {
       "model_id": "989913f9ce3e4136b1543a2f21d679d8",
       "version_major": 2,
       "version_minor": 0
      },
      "text/plain": [
       "Downloading:   0%|          | 0.00/690 [00:00<?, ?B/s]"
      ]
     },
     "metadata": {},
     "output_type": "display_data"
    },
    {
     "data": {
      "application/vnd.jupyter.widget-view+json": {
       "model_id": "2ad95c75223345b3baa2126e3850c706",
       "version_major": 2,
       "version_minor": 0
      },
      "text/plain": [
       "Downloading:   0%|          | 0.00/3.70k [00:00<?, ?B/s]"
      ]
     },
     "metadata": {},
     "output_type": "display_data"
    },
    {
     "data": {
      "application/vnd.jupyter.widget-view+json": {
       "model_id": "65728023c35740f59746817baf44bb7b",
       "version_major": 2,
       "version_minor": 0
      },
      "text/plain": [
       "Downloading:   0%|          | 0.00/594 [00:00<?, ?B/s]"
      ]
     },
     "metadata": {},
     "output_type": "display_data"
    },
    {
     "data": {
      "application/vnd.jupyter.widget-view+json": {
       "model_id": "68f0bb567d28468cb338d97cdd3a365b",
       "version_major": 2,
       "version_minor": 0
      },
      "text/plain": [
       "Downloading:   0%|          | 0.00/122 [00:00<?, ?B/s]"
      ]
     },
     "metadata": {},
     "output_type": "display_data"
    },
    {
     "data": {
      "application/vnd.jupyter.widget-view+json": {
       "model_id": "16cd792c277541b692276a4769c92fed",
       "version_major": 2,
       "version_minor": 0
      },
      "text/plain": [
       "Downloading:   0%|          | 0.00/229 [00:00<?, ?B/s]"
      ]
     },
     "metadata": {},
     "output_type": "display_data"
    },
    {
     "data": {
      "application/vnd.jupyter.widget-view+json": {
       "model_id": "1689b4bfd4b84b72a7c5587ee04fb0bb",
       "version_major": 2,
       "version_minor": 0
      },
      "text/plain": [
       "Downloading:   0%|          | 0.00/438M [00:00<?, ?B/s]"
      ]
     },
     "metadata": {},
     "output_type": "display_data"
    },
    {
     "data": {
      "application/vnd.jupyter.widget-view+json": {
       "model_id": "d91b4fd0d7cf41d492408159e39bb04d",
       "version_major": 2,
       "version_minor": 0
      },
      "text/plain": [
       "Downloading:   0%|          | 0.00/53.0 [00:00<?, ?B/s]"
      ]
     },
     "metadata": {},
     "output_type": "display_data"
    },
    {
     "data": {
      "application/vnd.jupyter.widget-view+json": {
       "model_id": "11edb9148e2a44d993773dc0c5b55f36",
       "version_major": 2,
       "version_minor": 0
      },
      "text/plain": [
       "Downloading:   0%|          | 0.00/239 [00:00<?, ?B/s]"
      ]
     },
     "metadata": {},
     "output_type": "display_data"
    },
    {
     "data": {
      "application/vnd.jupyter.widget-view+json": {
       "model_id": "9e343c7a4c2c4592b01517f1940a743f",
       "version_major": 2,
       "version_minor": 0
      },
      "text/plain": [
       "Downloading:   0%|          | 0.00/466k [00:00<?, ?B/s]"
      ]
     },
     "metadata": {},
     "output_type": "display_data"
    },
    {
     "data": {
      "application/vnd.jupyter.widget-view+json": {
       "model_id": "b185667491af4c1d92f94d2f29c19da9",
       "version_major": 2,
       "version_minor": 0
      },
      "text/plain": [
       "Downloading:   0%|          | 0.00/1.19k [00:00<?, ?B/s]"
      ]
     },
     "metadata": {},
     "output_type": "display_data"
    },
    {
     "data": {
      "application/vnd.jupyter.widget-view+json": {
       "model_id": "e1b6bd0bca0f443d844f7e0fb9a805c2",
       "version_major": 2,
       "version_minor": 0
      },
      "text/plain": [
       "Downloading:   0%|          | 0.00/232k [00:00<?, ?B/s]"
      ]
     },
     "metadata": {},
     "output_type": "display_data"
    },
    {
     "data": {
      "application/vnd.jupyter.widget-view+json": {
       "model_id": "cffd77edf2064a91ab79d97971dd11f2",
       "version_major": 2,
       "version_minor": 0
      },
      "text/plain": [
       "Downloading:   0%|          | 0.00/190 [00:00<?, ?B/s]"
      ]
     },
     "metadata": {},
     "output_type": "display_data"
    }
   ],
   "source": [
    "model_st1 = SentenceTransformer('paraphrase-mpnet-base-v2')"
   ]
  },
  {
   "cell_type": "code",
   "execution_count": 6,
   "id": "a97675ac-dcb0-4bf2-83a9-48ef9249d9da",
   "metadata": {},
   "outputs": [
    {
     "data": {
      "text/html": [
       "<div>\n",
       "<style scoped>\n",
       "    .dataframe tbody tr th:only-of-type {\n",
       "        vertical-align: middle;\n",
       "    }\n",
       "\n",
       "    .dataframe tbody tr th {\n",
       "        vertical-align: top;\n",
       "    }\n",
       "\n",
       "    .dataframe thead th {\n",
       "        text-align: right;\n",
       "    }\n",
       "</style>\n",
       "<table border=\"1\" class=\"dataframe\">\n",
       "  <thead>\n",
       "    <tr style=\"text-align: right;\">\n",
       "      <th></th>\n",
       "      <th>Unnamed: 0</th>\n",
       "      <th>text</th>\n",
       "      <th>category</th>\n",
       "      <th>cleaned_text</th>\n",
       "    </tr>\n",
       "  </thead>\n",
       "  <tbody>\n",
       "    <tr>\n",
       "      <th>0</th>\n",
       "      <td>1024</td>\n",
       "      <td>I'm worried my card might be lost in the mail? How long does it usually take to arrive?</td>\n",
       "      <td>card_delivery_estimate</td>\n",
       "      <td>im worried card might lost mail long usually take arrive</td>\n",
       "    </tr>\n",
       "    <tr>\n",
       "      <th>1</th>\n",
       "      <td>9405</td>\n",
       "      <td>I got charged a fee that shouldn't be there from my cash</td>\n",
       "      <td>cash_withdrawal_charge</td>\n",
       "      <td>got charged fee shouldnt cash</td>\n",
       "    </tr>\n",
       "    <tr>\n",
       "      <th>2</th>\n",
       "      <td>9368</td>\n",
       "      <td>Do you charge for making a withdrawal? I took some money out of my account earlier and I was charged for this.</td>\n",
       "      <td>cash_withdrawal_charge</td>\n",
       "      <td>charge making withdrawal took money account earlier charged</td>\n",
       "    </tr>\n",
       "    <tr>\n",
       "      <th>3</th>\n",
       "      <td>3414</td>\n",
       "      <td>Is there an issue with my account?  I don't see a cheque deposit that I made yesterday.  Please assist.</td>\n",
       "      <td>balance_not_updated_after_cheque_or_cash_deposit</td>\n",
       "      <td>issue account dont see cheque deposit made yesterday please assist</td>\n",
       "    </tr>\n",
       "    <tr>\n",
       "      <th>4</th>\n",
       "      <td>7402</td>\n",
       "      <td>Are there ways for other people to send me money?</td>\n",
       "      <td>receiving_money</td>\n",
       "      <td>way people send money</td>\n",
       "    </tr>\n",
       "  </tbody>\n",
       "</table>\n",
       "</div>"
      ],
      "text/plain": [
       "   Unnamed: 0  \\\n",
       "0        1024   \n",
       "1        9405   \n",
       "2        9368   \n",
       "3        3414   \n",
       "4        7402   \n",
       "\n",
       "                                                                                                             text  \\\n",
       "0                         I'm worried my card might be lost in the mail? How long does it usually take to arrive?   \n",
       "1                                                        I got charged a fee that shouldn't be there from my cash   \n",
       "2  Do you charge for making a withdrawal? I took some money out of my account earlier and I was charged for this.   \n",
       "3         Is there an issue with my account?  I don't see a cheque deposit that I made yesterday.  Please assist.   \n",
       "4                                                               Are there ways for other people to send me money?   \n",
       "\n",
       "                                           category  \\\n",
       "0                            card_delivery_estimate   \n",
       "1                            cash_withdrawal_charge   \n",
       "2                            cash_withdrawal_charge   \n",
       "3  balance_not_updated_after_cheque_or_cash_deposit   \n",
       "4                                   receiving_money   \n",
       "\n",
       "                                                         cleaned_text  \n",
       "0            im worried card might lost mail long usually take arrive  \n",
       "1                                       got charged fee shouldnt cash  \n",
       "2         charge making withdrawal took money account earlier charged  \n",
       "3  issue account dont see cheque deposit made yesterday please assist  \n",
       "4                                               way people send money  "
      ]
     },
     "execution_count": 6,
     "metadata": {},
     "output_type": "execute_result"
    }
   ],
   "source": [
    "data_sample = pd.read_csv('../data/processed/data_sample.csv')\n",
    "data_sample.head()"
   ]
  },
  {
   "cell_type": "code",
   "execution_count": 8,
   "id": "b53dbf49-2707-4f49-900c-6de896900818",
   "metadata": {},
   "outputs": [],
   "source": [
    "def embed_use(model, sentences):\n",
    "    return model(sentences)\n",
    "\n",
    "def embed_st(model, sentences):\n",
    "    return model.encode(sentences)"
   ]
  },
  {
   "cell_type": "code",
   "execution_count": 12,
   "id": "85b9e3c0-8ff5-4fd7-a8a3-37c009e444cc",
   "metadata": {
    "scrolled": true,
    "tags": []
   },
   "outputs": [
    {
     "data": {
      "text/plain": [
       "TensorShape([1, 512])"
      ]
     },
     "execution_count": 12,
     "metadata": {},
     "output_type": "execute_result"
    }
   ],
   "source": [
    "embed_use(model_use, [data_sample.loc[0, 'text']]).shape"
   ]
  },
  {
   "cell_type": "code",
   "execution_count": 13,
   "id": "2d0c4198-996c-444c-8db3-cf80ae4b9242",
   "metadata": {},
   "outputs": [
    {
     "data": {
      "text/plain": [
       "(1, 768)"
      ]
     },
     "execution_count": 13,
     "metadata": {},
     "output_type": "execute_result"
    }
   ],
   "source": [
    "embed_st(model_st1, [data_sample.loc[0, 'text']]).shape"
   ]
  },
  {
   "cell_type": "code",
   "execution_count": 16,
   "id": "ddc170db-1e83-4217-98a5-1d97b4543558",
   "metadata": {},
   "outputs": [
    {
     "data": {
      "text/plain": [
       "1000"
      ]
     },
     "execution_count": 16,
     "metadata": {},
     "output_type": "execute_result"
    }
   ],
   "source": [
    "all_intents = list(data_sample['text'])\n",
    "len(all_intents)"
   ]
  },
  {
   "cell_type": "markdown",
   "id": "5d24ecea-ad84-4c5a-b97e-07ba1a89b38f",
   "metadata": {},
   "source": [
    "## Clustering without dimensionality reduction"
   ]
  },
  {
   "cell_type": "markdown",
   "id": "37c47aa0-da49-4d83-8c54-ba53409fe4fe",
   "metadata": {},
   "source": [
    "### K-means"
   ]
  },
  {
   "cell_type": "code",
   "execution_count": 8,
   "id": "c998b293-240a-4d3d-a8ba-12c4fbc006b0",
   "metadata": {},
   "outputs": [],
   "source": [
    "def plot_kmeans(X, k_range):\n",
    "    sse = []\n",
    "    silhouette_avg_n_clusters = []\n",
    "\n",
    "    for k in k_range:\n",
    "        kmeans = KMeans(n_clusters=k, init='k-means++', max_iter=100, n_init=1)\n",
    "        kmeans.fit(X)\n",
    "        sse.append(kmeans.inertia_)\n",
    "\n",
    "        silhouette_avg = silhouette_score(X, kmeans.predict(X))\n",
    "        silhouette_avg_n_clusters.append(silhouette_avg)\n",
    "\n",
    "\n",
    "    # plot sse\n",
    "    fig, axes = plt.subplots(1, 2, figsize=(14, 6))\n",
    "    axes[0].plot(k_range, sse)\n",
    "    axes[0].set(xlabel = 'k clusters', ylabel = 'SSE', title = 'Elbow plot')\n",
    "    axes[0].grid()\n",
    "    \n",
    "    # plot avg silhouette score\n",
    "    axes[1].plot(k_range, silhouette_avg_n_clusters)\n",
    "    axes[1].set(xlabel = 'k clusters', ylabel = 'Silhouette score', title = 'Silhouette score')\n",
    "    axes[1].grid()\n",
    "\n",
    "    plt.show()"
   ]
  },
  {
   "cell_type": "code",
   "execution_count": 9,
   "id": "01a24c09-7842-41f6-99c0-f198332ae663",
   "metadata": {},
   "outputs": [
    {
     "data": {
      "image/png": "[encoded data removed]",
      "text/plain": [
       "<Figure size 1008x432 with 2 Axes>"
      ]
     },
     "metadata": {
      "needs_background": "light"
     },
     "output_type": "display_data"
    },
    {
     "name": "stdout",
     "output_type": "stream",
     "text": [
      "CPU times: user 42.9 s, sys: 1.7 s, total: 44.6 s\n",
      "Wall time: 14.4 s\n"
     ]
    }
   ],
   "source": [
    "%%time\n",
    "\n",
    "X = intents_embeddings\n",
    "k_range = range(5, 101)\n",
    "\n",
    "plot_kmeans(X, k_range)"
   ]
  },
  {
   "cell_type": "markdown",
   "id": "f80a057a-dec5-4c3e-8028-b00f39d8ddb2",
   "metadata": {},
   "source": [
    "### DBSCAN"
   ]
  },
  {
   "cell_type": "code",
   "execution_count": 10,
   "id": "e0e9c5b5-be4f-4155-91c2-930fe69fcf90",
   "metadata": {},
   "outputs": [
    {
     "data": {
      "text/plain": [
       "21"
      ]
     },
     "execution_count": 10,
     "metadata": {},
     "output_type": "execute_result"
    }
   ],
   "source": [
    "db = DBSCAN(eps=0.25, min_samples=5, metric='cosine').fit(X)\n",
    "labels = db.labels_\n",
    "len(np.unique(labels))"
   ]
  },
  {
   "cell_type": "code",
   "execution_count": 11,
   "id": "118816d4-0312-4ae8-a221-6a993453e0ab",
   "metadata": {},
   "outputs": [
    {
     "data": {
      "text/plain": [
       "1000"
      ]
     },
     "execution_count": 11,
     "metadata": {},
     "output_type": "execute_result"
    }
   ],
   "source": [
    "len(labels)"
   ]
  },
  {
   "cell_type": "code",
   "execution_count": 12,
   "id": "b26f1759-0bff-4b0b-b574-7255f2fc5fcf",
   "metadata": {},
   "outputs": [
    {
     "data": {
      "text/plain": [
       "-0.19035175"
      ]
     },
     "execution_count": 12,
     "metadata": {},
     "output_type": "execute_result"
    }
   ],
   "source": [
    "silhouette_score(X, labels, metric='cosine')"
   ]
  },
  {
   "cell_type": "code",
   "execution_count": 94,
   "id": "36a51519-86f9-431f-a496-645fddbef79e",
   "metadata": {},
   "outputs": [],
   "source": [
    "def plot_dbscan(X, eps_range):\n",
    "    silhouette_avg_n_clusters = []\n",
    "    silhouette_avg = -1\n",
    "\n",
    "    for eps in eps_range:\n",
    "        db = DBSCAN(eps=eps, min_samples=3, metric='cosine').fit(X)\n",
    "        labels = db.labels_\n",
    "\n",
    "        if len(np.unique(labels)) > 1:\n",
    "            silhouette_avg = silhouette_score(X, labels, metric='cosine')\n",
    "        else:\n",
    "            silhouette_av = -1\n",
    "        silhouette_avg_n_clusters.append(silhouette_avg)\n",
    "\n",
    "    \n",
    "    # plot avg silhouette score\n",
    "    fig, ax = plt.subplots(figsize=(8,5))\n",
    "    ax.plot(eps_range, silhouette_avg_n_clusters)\n",
    "    ax.set(xlabel = 'k clusters', ylabel = 'Silhouette score', title = 'Silhouette score')\n",
    "    ax.grid()\n",
    "\n",
    "    plt.show()"
   ]
  },
  {
   "cell_type": "code",
   "execution_count": 95,
   "id": "33333636-c300-4b06-addf-1259119e7877",
   "metadata": {},
   "outputs": [
    {
     "data": {
      "image/png": "[encoded data removed]",
      "text/plain": [
       "<Figure size 576x360 with 1 Axes>"
      ]
     },
     "metadata": {
      "needs_background": "light"
     },
     "output_type": "display_data"
    }
   ],
   "source": [
    "eps_range = np.arange(0.2, 0.7, 0.025)\n",
    "plot_dbscan(X, eps_range)"
   ]
  },
  {
   "cell_type": "code",
   "execution_count": 96,
   "id": "35b3b125-ff4c-47d4-840a-38ec54f6d515",
   "metadata": {},
   "outputs": [
    {
     "data": {
      "text/plain": [
       "3"
      ]
     },
     "execution_count": 96,
     "metadata": {},
     "output_type": "execute_result"
    }
   ],
   "source": [
    "db = DBSCAN(eps=0.5, min_samples=3, metric='cosine').fit(X)\n",
    "labels = db.labels_\n",
    "len(np.unique(labels))"
   ]
  },
  {
   "cell_type": "code",
   "execution_count": 97,
   "id": "4d2476c4-6d2e-4efe-94c6-ee7778b4bdcc",
   "metadata": {},
   "outputs": [
    {
     "data": {
      "text/plain": [
       "0.099877276"
      ]
     },
     "execution_count": 97,
     "metadata": {},
     "output_type": "execute_result"
    }
   ],
   "source": [
    "silhouette_score(X, labels, metric='cosine')"
   ]
  },
  {
   "cell_type": "markdown",
   "id": "16ce0339-a8d7-42c8-a749-b55f7c980af7",
   "metadata": {},
   "source": [
    "### HDBSCAN"
   ]
  },
  {
   "cell_type": "code",
   "execution_count": 13,
   "id": "a23299d2-7f8e-42fa-938e-85a5843388f6",
   "metadata": {},
   "outputs": [
    {
     "data": {
      "text/plain": [
       "204"
      ]
     },
     "execution_count": 13,
     "metadata": {},
     "output_type": "execute_result"
    }
   ],
   "source": [
    "X = intents_embeddings\n",
    "clusters_hdbscan = hdbscan.HDBSCAN(min_cluster_size=2, \n",
    "                                   metric='euclidean', \n",
    "                                   cluster_selection_method='eom').fit(X)\n",
    "\n",
    "labels = clusters_hdbscan.labels_\n",
    "len(np.unique(labels))"
   ]
  },
  {
   "cell_type": "code",
   "execution_count": 14,
   "id": "86f708ee-5fdc-442e-b526-23f5becd8485",
   "metadata": {},
   "outputs": [
    {
     "data": {
      "text/plain": [
       "355"
      ]
     },
     "execution_count": 14,
     "metadata": {},
     "output_type": "execute_result"
    }
   ],
   "source": [
    "np.count_nonzero(clusters_hdbscan.probabilities_ < 0.05)"
   ]
  },
  {
   "cell_type": "markdown",
   "id": "2b2f243e-1f22-48ad-a504-374a2de161ec",
   "metadata": {},
   "source": [
    "## Clustering with dimensionality reduction"
   ]
  },
  {
   "cell_type": "code",
   "execution_count": 29,
   "id": "c0500d9f-6da3-427a-9287-fe5bf78ac33a",
   "metadata": {},
   "outputs": [],
   "source": [
    "def generate_clusters(message_embeddings, n_neighbors = 4, n_components = 5, min_cluster_size = 4):\n",
    "    umap_embeddings = umap.UMAP(n_neighbors = n_neighbors, \n",
    "                                n_components = n_components, \n",
    "                                metric = 'cosine').fit_transform(message_embeddings)\n",
    "\n",
    "    cluster = hdbscan.HDBSCAN(min_cluster_size = min_cluster_size, \n",
    "                              metric='euclidean', \n",
    "                              cluster_selection_method='eom').fit(umap_embeddings)\n",
    "    return cluster"
   ]
  },
  {
   "cell_type": "code",
   "execution_count": 59,
   "id": "6a051571-522d-4ace-99ad-a46af0f46e1f",
   "metadata": {},
   "outputs": [],
   "source": [
    "def score_clusters(clusters):\n",
    "    cluster_labels = clusters.labels_\n",
    "    label_count = len(np.unique(cluster_labels))\n",
    "    score = np.count_nonzero(clusters.probabilities_ < 0.05)\n",
    "    \n",
    "    return label_count, score"
   ]
  },
  {
   "cell_type": "code",
   "execution_count": 88,
   "id": "d59315c3-f568-452f-9155-8c6aad68b360",
   "metadata": {},
   "outputs": [],
   "source": [
    "def scan_hyperparameters(all_intents, n_repeats):\n",
    "    use_embeddings = embed_use(model_use, all_intents)\n",
    "    \n",
    "    results = []\n",
    "    for n_neighbors in trange(3, 15, desc='n_neighbors'):\n",
    "        for n_components in trange (3, 8, desc='n_components'):\n",
    "            for min_cluster_size in trange(2, 10, desc='min_cluster_size'):\n",
    "                count_sum = 0\n",
    "                score_sum = 0\n",
    "    \n",
    "                for i in range(n_repeats):\n",
    "                    use_clusters = generate_clusters(use_embeddings, n_neighbors, n_components, min_cluster_size)\n",
    "                    label_count, score = score_clusters(use_clusters)\n",
    "                    \n",
    "                    count_sum += label_count\n",
    "                    score_sum += score\n",
    "                    \n",
    "                avg_label_count = count_sum/n_repeats\n",
    "                avg_score = score_sum/n_repeats\n",
    "                results.append([n_neighbors, n_components, min_cluster_size, avg_label_count, avg_score])\n",
    "    \n",
    "    result_df = pd.DataFrame(results, columns=['n_neighbors', 'n_components', 'min_cluster_size', 'avg_label_count', 'avg_score'])\n",
    "    \n",
    "    return result_df"
   ]
  },
  {
   "cell_type": "code",
   "execution_count": null,
   "id": "83081a7a-2172-4967-a770-647a9f2cb840",
   "metadata": {},
   "outputs": [],
   "source": [
    "%%time\n",
    "results_use = scan_hyperparameters(all_intents, 3)"
   ]
  },
  {
   "cell_type": "code",
   "execution_count": 84,
   "id": "d73bfb84-329e-46cd-b588-0ecaa1ac68f0",
   "metadata": {},
   "outputs": [
    {
     "data": {
      "text/html": [
       "<div>\n",
       "<style scoped>\n",
       "    .dataframe tbody tr th:only-of-type {\n",
       "        vertical-align: middle;\n",
       "    }\n",
       "\n",
       "    .dataframe tbody tr th {\n",
       "        vertical-align: top;\n",
       "    }\n",
       "\n",
       "    .dataframe thead th {\n",
       "        text-align: right;\n",
       "    }\n",
       "</style>\n",
       "<table border=\"1\" class=\"dataframe\">\n",
       "  <thead>\n",
       "    <tr style=\"text-align: right;\">\n",
       "      <th></th>\n",
       "      <th>n_neighbors</th>\n",
       "      <th>n_components</th>\n",
       "      <th>min_cluster_size</th>\n",
       "      <th>avg_label_count</th>\n",
       "      <th>avg_score</th>\n",
       "    </tr>\n",
       "  </thead>\n",
       "  <tbody>\n",
       "    <tr>\n",
       "      <th>0</th>\n",
       "      <td>3</td>\n",
       "      <td>3</td>\n",
       "      <td>2</td>\n",
       "      <td>179</td>\n",
       "      <td>77.4</td>\n",
       "    </tr>\n",
       "  </tbody>\n",
       "</table>\n",
       "</div>"
      ],
      "text/plain": [
       "   n_neighbors  n_components  min_cluster_size  avg_label_count  avg_score\n",
       "0            3             3                 2              179       77.4"
      ]
     },
     "execution_count": 84,
     "metadata": {},
     "output_type": "execute_result"
    }
   ],
   "source": [
    "results_use"
   ]
  },
  {
   "cell_type": "code",
   "execution_count": 58,
   "id": "60ee9ec3-71d2-4d67-824a-a3f6686d50f1",
   "metadata": {},
   "outputs": [
    {
     "data": {
      "text/html": [
       "<div>\n",
       "<style scoped>\n",
       "    .dataframe tbody tr th:only-of-type {\n",
       "        vertical-align: middle;\n",
       "    }\n",
       "\n",
       "    .dataframe tbody tr th {\n",
       "        vertical-align: top;\n",
       "    }\n",
       "\n",
       "    .dataframe thead th {\n",
       "        text-align: right;\n",
       "    }\n",
       "</style>\n",
       "<table border=\"1\" class=\"dataframe\">\n",
       "  <thead>\n",
       "    <tr style=\"text-align: right;\">\n",
       "      <th></th>\n",
       "      <th>n_neighbors</th>\n",
       "      <th>n_components</th>\n",
       "      <th>min_cluster_size</th>\n",
       "      <th>label_count</th>\n",
       "      <th>score</th>\n",
       "    </tr>\n",
       "  </thead>\n",
       "  <tbody>\n",
       "    <tr>\n",
       "      <th>42</th>\n",
       "      <td>3</td>\n",
       "      <td>3</td>\n",
       "      <td>4</td>\n",
       "      <td>85</td>\n",
       "      <td>92</td>\n",
       "    </tr>\n",
       "    <tr>\n",
       "      <th>50</th>\n",
       "      <td>3</td>\n",
       "      <td>4</td>\n",
       "      <td>4</td>\n",
       "      <td>81</td>\n",
       "      <td>98</td>\n",
       "    </tr>\n",
       "    <tr>\n",
       "      <th>63</th>\n",
       "      <td>3</td>\n",
       "      <td>5</td>\n",
       "      <td>9</td>\n",
       "      <td>27</td>\n",
       "      <td>72</td>\n",
       "    </tr>\n",
       "    <tr>\n",
       "      <th>67</th>\n",
       "      <td>3</td>\n",
       "      <td>6</td>\n",
       "      <td>5</td>\n",
       "      <td>60</td>\n",
       "      <td>77</td>\n",
       "    </tr>\n",
       "  </tbody>\n",
       "</table>\n",
       "</div>"
      ],
      "text/plain": [
       "    n_neighbors  n_components  min_cluster_size  label_count  score\n",
       "42            3             3                 4           85     92\n",
       "50            3             4                 4           81     98\n",
       "63            3             5                 9           27     72\n",
       "67            3             6                 5           60     77"
      ]
     },
     "execution_count": 58,
     "metadata": {},
     "output_type": "execute_result"
    }
   ],
   "source": [
    "results_use[(results_use.score < 100)&(results_use.label_count < 100)&(results_use.label_count > 10)]"
   ]
  },
  {
   "cell_type": "code",
   "execution_count": 60,
   "id": "092007ff-e2c7-43f6-b188-d5425fcf53e9",
   "metadata": {},
   "outputs": [
    {
     "data": {
      "text/html": [
       "<div>\n",
       "<style scoped>\n",
       "    .dataframe tbody tr th:only-of-type {\n",
       "        vertical-align: middle;\n",
       "    }\n",
       "\n",
       "    .dataframe tbody tr th {\n",
       "        vertical-align: top;\n",
       "    }\n",
       "\n",
       "    .dataframe thead th {\n",
       "        text-align: right;\n",
       "    }\n",
       "</style>\n",
       "<table border=\"1\" class=\"dataframe\">\n",
       "  <thead>\n",
       "    <tr style=\"text-align: right;\">\n",
       "      <th></th>\n",
       "      <th>n_neighbors</th>\n",
       "      <th>n_components</th>\n",
       "      <th>min_cluster_size</th>\n",
       "      <th>label_count</th>\n",
       "      <th>score</th>\n",
       "    </tr>\n",
       "  </thead>\n",
       "  <tbody>\n",
       "    <tr>\n",
       "      <th>0</th>\n",
       "      <td>2</td>\n",
       "      <td>3</td>\n",
       "      <td>2</td>\n",
       "      <td>201</td>\n",
       "      <td>97</td>\n",
       "    </tr>\n",
       "    <tr>\n",
       "      <th>1</th>\n",
       "      <td>2</td>\n",
       "      <td>3</td>\n",
       "      <td>3</td>\n",
       "      <td>147</td>\n",
       "      <td>152</td>\n",
       "    </tr>\n",
       "    <tr>\n",
       "      <th>2</th>\n",
       "      <td>2</td>\n",
       "      <td>3</td>\n",
       "      <td>4</td>\n",
       "      <td>104</td>\n",
       "      <td>247</td>\n",
       "    </tr>\n",
       "    <tr>\n",
       "      <th>3</th>\n",
       "      <td>2</td>\n",
       "      <td>3</td>\n",
       "      <td>5</td>\n",
       "      <td>87</td>\n",
       "      <td>226</td>\n",
       "    </tr>\n",
       "    <tr>\n",
       "      <th>4</th>\n",
       "      <td>2</td>\n",
       "      <td>3</td>\n",
       "      <td>6</td>\n",
       "      <td>70</td>\n",
       "      <td>230</td>\n",
       "    </tr>\n",
       "  </tbody>\n",
       "</table>\n",
       "</div>"
      ],
      "text/plain": [
       "   n_neighbors  n_components  min_cluster_size  label_count  score\n",
       "0            2             3                 2          201     97\n",
       "1            2             3                 3          147    152\n",
       "2            2             3                 4          104    247\n",
       "3            2             3                 5           87    226\n",
       "4            2             3                 6           70    230"
      ]
     },
     "execution_count": 60,
     "metadata": {},
     "output_type": "execute_result"
    }
   ],
   "source": [
    "results_use.head()"
   ]
  },
  {
   "cell_type": "code",
   "execution_count": 71,
   "id": "7ea642ca-105a-49e2-b08c-0f1788c4d33c",
   "metadata": {},
   "outputs": [
    {
     "name": "stdout",
     "output_type": "stream",
     "text": [
      "Avg number of clusters: 85.8 . Avg score: 130.2\n",
      "Avg number of clusters: 31.0 . Avg score: 178.6\n",
      "Avg number of clusters: 86.6 . Avg score: 97.0\n",
      "Avg number of clusters: 87.4 . Avg score: 104.2\n",
      "Avg number of clusters: 53.2 . Avg score: 142.4\n"
     ]
    }
   ],
   "source": [
    "use_embeddings = embed_use(model_use, all_intents)\n",
    "num = 5\n",
    "param_dict = [[4, 5, 4], \n",
    "              [3, 5, 9], \n",
    "              [3, 3, 4], \n",
    "              [3, 4, 4], \n",
    "              [3, 6, 6]]\n",
    "\n",
    "for params in param_dict:\n",
    "    count_sum = 0\n",
    "    score_sum = 0\n",
    "    \n",
    "    for i in range(num):\n",
    "        clusters = generate_clusters(use_embeddings, \n",
    "                                     n_neighbors = params[0], \n",
    "                                     n_components = params[1], \n",
    "                                     min_cluster_size = params[2])\n",
    "        \n",
    "        label_count, score = score_clusters(clusters)\n",
    "\n",
    "        count_sum += label_count\n",
    "        score_sum += score\n",
    "\n",
    "    print(f\"Avg number of clusters: {count_sum/num} . Avg score: {score_sum/num}\")"
   ]
  },
  {
   "cell_type": "code",
   "execution_count": 92,
   "id": "d0ad6b23-469e-41f7-9047-cf39f72e9363",
   "metadata": {},
   "outputs": [
    {
     "name": "stdout",
     "output_type": "stream",
     "text": [
      "88\n",
      "125\n"
     ]
    }
   ],
   "source": [
    "use_embeddings = embed_use(model_use, all_intents)\n",
    "clusters = generate_clusters(use_embeddings, n_neighbors = 3, n_components = 3, min_cluster_size = 4)\n",
    "label_count, score = score_clusters(clusters)\n",
    "print(label_count)\n",
    "print(score)"
   ]
  },
  {
   "cell_type": "code",
   "execution_count": 146,
   "id": "17ff6e38-9af8-4249-884d-6df6b7419d40",
   "metadata": {},
   "outputs": [
    {
     "data": {
      "text/html": [
       "<div>\n",
       "<style scoped>\n",
       "    .dataframe tbody tr th:only-of-type {\n",
       "        vertical-align: middle;\n",
       "    }\n",
       "\n",
       "    .dataframe tbody tr th {\n",
       "        vertical-align: top;\n",
       "    }\n",
       "\n",
       "    .dataframe thead th {\n",
       "        text-align: right;\n",
       "    }\n",
       "</style>\n",
       "<table border=\"1\" class=\"dataframe\">\n",
       "  <thead>\n",
       "    <tr style=\"text-align: right;\">\n",
       "      <th></th>\n",
       "      <th>message</th>\n",
       "      <th>topic_use</th>\n",
       "    </tr>\n",
       "  </thead>\n",
       "  <tbody>\n",
       "    <tr>\n",
       "      <th>0</th>\n",
       "      <td>I'm worried my card might be lost in the mail? How long does it usually take to arrive?</td>\n",
       "      <td>64</td>\n",
       "    </tr>\n",
       "    <tr>\n",
       "      <th>1</th>\n",
       "      <td>I got charged a fee that shouldn't be there from my cash</td>\n",
       "      <td>79</td>\n",
       "    </tr>\n",
       "    <tr>\n",
       "      <th>2</th>\n",
       "      <td>Do you charge for making a withdrawal? I took some money out of my account earlier and I was charged for this.</td>\n",
       "      <td>86</td>\n",
       "    </tr>\n",
       "    <tr>\n",
       "      <th>3</th>\n",
       "      <td>Is there an issue with my account?  I don't see a cheque deposit that I made yesterday.  Please assist.</td>\n",
       "      <td>67</td>\n",
       "    </tr>\n",
       "    <tr>\n",
       "      <th>4</th>\n",
       "      <td>Are there ways for other people to send me money?</td>\n",
       "      <td>13</td>\n",
       "    </tr>\n",
       "    <tr>\n",
       "      <th>5</th>\n",
       "      <td>How can I receive money?</td>\n",
       "      <td>13</td>\n",
       "    </tr>\n",
       "    <tr>\n",
       "      <th>6</th>\n",
       "      <td>where can I change my address?</td>\n",
       "      <td>21</td>\n",
       "    </tr>\n",
       "    <tr>\n",
       "      <th>7</th>\n",
       "      <td>What do I do if I still have not received my new card?</td>\n",
       "      <td>74</td>\n",
       "    </tr>\n",
       "    <tr>\n",
       "      <th>8</th>\n",
       "      <td>Is there anywhere I can't use my card?</td>\n",
       "      <td>54</td>\n",
       "    </tr>\n",
       "    <tr>\n",
       "      <th>9</th>\n",
       "      <td>I want to have multiple currencies in my account if possible.</td>\n",
       "      <td>42</td>\n",
       "    </tr>\n",
       "  </tbody>\n",
       "</table>\n",
       "</div>"
      ],
      "text/plain": [
       "                                                                                                          message  \\\n",
       "0                         I'm worried my card might be lost in the mail? How long does it usually take to arrive?   \n",
       "1                                                        I got charged a fee that shouldn't be there from my cash   \n",
       "2  Do you charge for making a withdrawal? I took some money out of my account earlier and I was charged for this.   \n",
       "3         Is there an issue with my account?  I don't see a cheque deposit that I made yesterday.  Please assist.   \n",
       "4                                                               Are there ways for other people to send me money?   \n",
       "5                                                                                        How can I receive money?   \n",
       "6                                                                                  where can I change my address?   \n",
       "7                                                          What do I do if I still have not received my new card?   \n",
       "8                                                                          Is there anywhere I can't use my card?   \n",
       "9                                                   I want to have multiple currencies in my account if possible.   \n",
       "\n",
       "   topic_use  \n",
       "0         64  \n",
       "1         79  \n",
       "2         86  \n",
       "3         67  \n",
       "4         13  \n",
       "5         13  \n",
       "6         21  \n",
       "7         74  \n",
       "8         54  \n",
       "9         42  "
      ]
     },
     "execution_count": 146,
     "metadata": {},
     "output_type": "execute_result"
    }
   ],
   "source": [
    "intents_df_use = pd.DataFrame(all_intents, columns=['message'])\n",
    "intents_df_use['topic_use'] = clusters.labels_\n",
    "intents_df_use.head(10)"
   ]
  },
  {
   "cell_type": "code",
   "execution_count": 140,
   "id": "8e9fff3b-6b60-4191-8a9c-2ad078ffec1b",
   "metadata": {},
   "outputs": [
    {
     "name": "stdout",
     "output_type": "stream",
     "text": [
      "93\n",
      "71\n"
     ]
    }
   ],
   "source": [
    "st1_embeddings = embed_st(model_st1, all_intents)\n",
    "clusters_st1 = generate_clusters(st1_embeddings, n_neighbors = 3, n_components = 3, min_cluster_size = 4)\n",
    "label_count_st1, score_st1 = score_clusters(clusters_st1)\n",
    "print(label_count_st1)\n",
    "print(score_st1)"
   ]
  },
  {
   "cell_type": "markdown",
   "id": "45dcd399-f4de-4676-a68c-9edcf13a987b",
   "metadata": {},
   "source": [
    "## Evaluate clusters"
   ]
  },
  {
   "cell_type": "code",
   "execution_count": 158,
   "id": "b7453c6d-afe6-44a6-be34-4328eafce3ac",
   "metadata": {},
   "outputs": [
    {
     "data": {
      "text/html": [
       "<div>\n",
       "<style scoped>\n",
       "    .dataframe tbody tr th:only-of-type {\n",
       "        vertical-align: middle;\n",
       "    }\n",
       "\n",
       "    .dataframe tbody tr th {\n",
       "        vertical-align: top;\n",
       "    }\n",
       "\n",
       "    .dataframe thead th {\n",
       "        text-align: right;\n",
       "    }\n",
       "</style>\n",
       "<table border=\"1\" class=\"dataframe\">\n",
       "  <thead>\n",
       "    <tr style=\"text-align: right;\">\n",
       "      <th></th>\n",
       "      <th>message</th>\n",
       "      <th>topic_st1</th>\n",
       "    </tr>\n",
       "  </thead>\n",
       "  <tbody>\n",
       "    <tr>\n",
       "      <th>0</th>\n",
       "      <td>I'm worried my card might be lost in the mail? How long does it usually take to arrive?</td>\n",
       "      <td>18</td>\n",
       "    </tr>\n",
       "    <tr>\n",
       "      <th>1</th>\n",
       "      <td>I got charged a fee that shouldn't be there from my cash</td>\n",
       "      <td>-1</td>\n",
       "    </tr>\n",
       "    <tr>\n",
       "      <th>2</th>\n",
       "      <td>Do you charge for making a withdrawal? I took some money out of my account earlier and I was charged for this.</td>\n",
       "      <td>90</td>\n",
       "    </tr>\n",
       "    <tr>\n",
       "      <th>3</th>\n",
       "      <td>Is there an issue with my account?  I don't see a cheque deposit that I made yesterday.  Please assist.</td>\n",
       "      <td>74</td>\n",
       "    </tr>\n",
       "    <tr>\n",
       "      <th>4</th>\n",
       "      <td>Are there ways for other people to send me money?</td>\n",
       "      <td>40</td>\n",
       "    </tr>\n",
       "  </tbody>\n",
       "</table>\n",
       "</div>"
      ],
      "text/plain": [
       "                                                                                                          message  \\\n",
       "0                         I'm worried my card might be lost in the mail? How long does it usually take to arrive?   \n",
       "1                                                        I got charged a fee that shouldn't be there from my cash   \n",
       "2  Do you charge for making a withdrawal? I took some money out of my account earlier and I was charged for this.   \n",
       "3         Is there an issue with my account?  I don't see a cheque deposit that I made yesterday.  Please assist.   \n",
       "4                                                               Are there ways for other people to send me money?   \n",
       "\n",
       "   topic_st1  \n",
       "0         18  \n",
       "1         -1  \n",
       "2         90  \n",
       "3         74  \n",
       "4         40  "
      ]
     },
     "execution_count": 158,
     "metadata": {},
     "output_type": "execute_result"
    }
   ],
   "source": [
    "intents_df_st1 = pd.DataFrame(all_intents, columns=['message'])\n",
    "intents_df_st1['topic_st1'] = clusters_st1.labels_\n",
    "intents_df_st1.head()"
   ]
  },
  {
   "cell_type": "code",
   "execution_count": 159,
   "id": "e9f31ed4-2bb0-45f8-ae1c-f3675e63099a",
   "metadata": {
    "scrolled": true,
    "tags": []
   },
   "outputs": [
    {
     "data": {
      "text/html": [
       "<div>\n",
       "<style scoped>\n",
       "    .dataframe tbody tr th:only-of-type {\n",
       "        vertical-align: middle;\n",
       "    }\n",
       "\n",
       "    .dataframe tbody tr th {\n",
       "        vertical-align: top;\n",
       "    }\n",
       "\n",
       "    .dataframe thead th {\n",
       "        text-align: right;\n",
       "    }\n",
       "</style>\n",
       "<table border=\"1\" class=\"dataframe\">\n",
       "  <thead>\n",
       "    <tr style=\"text-align: right;\">\n",
       "      <th></th>\n",
       "      <th>message</th>\n",
       "      <th>topic_use</th>\n",
       "      <th>category</th>\n",
       "      <th>topic_st1</th>\n",
       "    </tr>\n",
       "  </thead>\n",
       "  <tbody>\n",
       "    <tr>\n",
       "      <th>0</th>\n",
       "      <td>I'm worried my card might be lost in the mail? How long does it usually take to arrive?</td>\n",
       "      <td>64</td>\n",
       "      <td>card_delivery_estimate</td>\n",
       "      <td>18</td>\n",
       "    </tr>\n",
       "    <tr>\n",
       "      <th>1</th>\n",
       "      <td>I got charged a fee that shouldn't be there from my cash</td>\n",
       "      <td>79</td>\n",
       "      <td>cash_withdrawal_charge</td>\n",
       "      <td>-1</td>\n",
       "    </tr>\n",
       "    <tr>\n",
       "      <th>2</th>\n",
       "      <td>Do you charge for making a withdrawal? I took some money out of my account earlier and I was charged for this.</td>\n",
       "      <td>86</td>\n",
       "      <td>cash_withdrawal_charge</td>\n",
       "      <td>90</td>\n",
       "    </tr>\n",
       "    <tr>\n",
       "      <th>3</th>\n",
       "      <td>Is there an issue with my account?  I don't see a cheque deposit that I made yesterday.  Please assist.</td>\n",
       "      <td>67</td>\n",
       "      <td>balance_not_updated_after_cheque_or_cash_deposit</td>\n",
       "      <td>74</td>\n",
       "    </tr>\n",
       "    <tr>\n",
       "      <th>4</th>\n",
       "      <td>Are there ways for other people to send me money?</td>\n",
       "      <td>13</td>\n",
       "      <td>receiving_money</td>\n",
       "      <td>40</td>\n",
       "    </tr>\n",
       "    <tr>\n",
       "      <th>5</th>\n",
       "      <td>How can I receive money?</td>\n",
       "      <td>13</td>\n",
       "      <td>receiving_money</td>\n",
       "      <td>40</td>\n",
       "    </tr>\n",
       "    <tr>\n",
       "      <th>6</th>\n",
       "      <td>where can I change my address?</td>\n",
       "      <td>21</td>\n",
       "      <td>edit_personal_details</td>\n",
       "      <td>35</td>\n",
       "    </tr>\n",
       "    <tr>\n",
       "      <th>7</th>\n",
       "      <td>What do I do if I still have not received my new card?</td>\n",
       "      <td>74</td>\n",
       "      <td>card_arrival</td>\n",
       "      <td>18</td>\n",
       "    </tr>\n",
       "    <tr>\n",
       "      <th>8</th>\n",
       "      <td>Is there anywhere I can't use my card?</td>\n",
       "      <td>54</td>\n",
       "      <td>card_acceptance</td>\n",
       "      <td>10</td>\n",
       "    </tr>\n",
       "    <tr>\n",
       "      <th>9</th>\n",
       "      <td>I want to have multiple currencies in my account if possible.</td>\n",
       "      <td>42</td>\n",
       "      <td>fiat_currency_support</td>\n",
       "      <td>4</td>\n",
       "    </tr>\n",
       "  </tbody>\n",
       "</table>\n",
       "</div>"
      ],
      "text/plain": [
       "                                                                                                          message  \\\n",
       "0                         I'm worried my card might be lost in the mail? How long does it usually take to arrive?   \n",
       "1                                                        I got charged a fee that shouldn't be there from my cash   \n",
       "2  Do you charge for making a withdrawal? I took some money out of my account earlier and I was charged for this.   \n",
       "3         Is there an issue with my account?  I don't see a cheque deposit that I made yesterday.  Please assist.   \n",
       "4                                                               Are there ways for other people to send me money?   \n",
       "5                                                                                        How can I receive money?   \n",
       "6                                                                                  where can I change my address?   \n",
       "7                                                          What do I do if I still have not received my new card?   \n",
       "8                                                                          Is there anywhere I can't use my card?   \n",
       "9                                                   I want to have multiple currencies in my account if possible.   \n",
       "\n",
       "   topic_use                                          category  topic_st1  \n",
       "0         64                            card_delivery_estimate         18  \n",
       "1         79                            cash_withdrawal_charge         -1  \n",
       "2         86                            cash_withdrawal_charge         90  \n",
       "3         67  balance_not_updated_after_cheque_or_cash_deposit         74  \n",
       "4         13                                   receiving_money         40  \n",
       "5         13                                   receiving_money         40  \n",
       "6         21                             edit_personal_details         35  \n",
       "7         74                                      card_arrival         18  \n",
       "8         54                                   card_acceptance         10  \n",
       "9         42                             fiat_currency_support          4  "
      ]
     },
     "execution_count": 159,
     "metadata": {},
     "output_type": "execute_result"
    }
   ],
   "source": [
    "results_df = pd.merge(intents_df_use, data_sample, left_on = 'message', right_on='text', how = 'left')[['message','topic_use','category']]\n",
    "results_df = pd.merge(results_df, intents_df_st1, left_on = 'message', right_on='message', how = 'left')\n",
    "results_df.head(10)"
   ]
  },
  {
   "cell_type": "code",
   "execution_count": 162,
   "id": "98de948f-f400-477c-8070-3b8fafa28ecf",
   "metadata": {
    "tags": []
   },
   "outputs": [
    {
     "data": {
      "text/html": [
       "<div>\n",
       "<style scoped>\n",
       "    .dataframe tbody tr th:only-of-type {\n",
       "        vertical-align: middle;\n",
       "    }\n",
       "\n",
       "    .dataframe tbody tr th {\n",
       "        vertical-align: top;\n",
       "    }\n",
       "\n",
       "    .dataframe thead th {\n",
       "        text-align: right;\n",
       "    }\n",
       "</style>\n",
       "<table border=\"1\" class=\"dataframe\">\n",
       "  <thead>\n",
       "    <tr style=\"text-align: right;\">\n",
       "      <th></th>\n",
       "      <th>message</th>\n",
       "      <th>topic_use</th>\n",
       "      <th>category</th>\n",
       "      <th>topic_st1</th>\n",
       "    </tr>\n",
       "  </thead>\n",
       "  <tbody>\n",
       "    <tr>\n",
       "      <th>441</th>\n",
       "      <td>My card is almost expired.  How fast will I get a new one and what is the cost?</td>\n",
       "      <td>2</td>\n",
       "      <td>card_about_to_expire</td>\n",
       "      <td>42</td>\n",
       "    </tr>\n",
       "    <tr>\n",
       "      <th>477</th>\n",
       "      <td>My card is about to expire. Do I have to go to a branch to order a new card?</td>\n",
       "      <td>2</td>\n",
       "      <td>card_about_to_expire</td>\n",
       "      <td>42</td>\n",
       "    </tr>\n",
       "    <tr>\n",
       "      <th>521</th>\n",
       "      <td>My card expires soon, will you send me one automatically?</td>\n",
       "      <td>2</td>\n",
       "      <td>card_about_to_expire</td>\n",
       "      <td>42</td>\n",
       "    </tr>\n",
       "    <tr>\n",
       "      <th>524</th>\n",
       "      <td>My card expires very soon.  What is the cost and delivery time to get a new one?</td>\n",
       "      <td>2</td>\n",
       "      <td>card_about_to_expire</td>\n",
       "      <td>42</td>\n",
       "    </tr>\n",
       "    <tr>\n",
       "      <th>584</th>\n",
       "      <td>How do I get a new expiration date?</td>\n",
       "      <td>2</td>\n",
       "      <td>card_about_to_expire</td>\n",
       "      <td>42</td>\n",
       "    </tr>\n",
       "    <tr>\n",
       "      <th>646</th>\n",
       "      <td>My card is almost going to expire.</td>\n",
       "      <td>2</td>\n",
       "      <td>card_about_to_expire</td>\n",
       "      <td>42</td>\n",
       "    </tr>\n",
       "    <tr>\n",
       "      <th>765</th>\n",
       "      <td>My card expires soon</td>\n",
       "      <td>2</td>\n",
       "      <td>card_about_to_expire</td>\n",
       "      <td>42</td>\n",
       "    </tr>\n",
       "    <tr>\n",
       "      <th>812</th>\n",
       "      <td>What is the cost and time frame of getting a new card?</td>\n",
       "      <td>2</td>\n",
       "      <td>card_about_to_expire</td>\n",
       "      <td>42</td>\n",
       "    </tr>\n",
       "    <tr>\n",
       "      <th>833</th>\n",
       "      <td>Help me order a new card that's going to be expired soon.</td>\n",
       "      <td>2</td>\n",
       "      <td>card_about_to_expire</td>\n",
       "      <td>42</td>\n",
       "    </tr>\n",
       "    <tr>\n",
       "      <th>888</th>\n",
       "      <td>What happens if my card expires?</td>\n",
       "      <td>2</td>\n",
       "      <td>card_about_to_expire</td>\n",
       "      <td>42</td>\n",
       "    </tr>\n",
       "  </tbody>\n",
       "</table>\n",
       "</div>"
      ],
      "text/plain": [
       "                                                                              message  \\\n",
       "441   My card is almost expired.  How fast will I get a new one and what is the cost?   \n",
       "477      My card is about to expire. Do I have to go to a branch to order a new card?   \n",
       "521                         My card expires soon, will you send me one automatically?   \n",
       "524  My card expires very soon.  What is the cost and delivery time to get a new one?   \n",
       "584                                               How do I get a new expiration date?   \n",
       "646                                                My card is almost going to expire.   \n",
       "765                                                              My card expires soon   \n",
       "812                            What is the cost and time frame of getting a new card?   \n",
       "833                         Help me order a new card that's going to be expired soon.   \n",
       "888                                                  What happens if my card expires?   \n",
       "\n",
       "     topic_use              category  topic_st1  \n",
       "441          2  card_about_to_expire         42  \n",
       "477          2  card_about_to_expire         42  \n",
       "521          2  card_about_to_expire         42  \n",
       "524          2  card_about_to_expire         42  \n",
       "584          2  card_about_to_expire         42  \n",
       "646          2  card_about_to_expire         42  \n",
       "765          2  card_about_to_expire         42  \n",
       "812          2  card_about_to_expire         42  \n",
       "833          2  card_about_to_expire         42  \n",
       "888          2  card_about_to_expire         42  "
      ]
     },
     "execution_count": 162,
     "metadata": {},
     "output_type": "execute_result"
    }
   ],
   "source": [
    "results_df[results_df['topic_use']==2]"
   ]
  },
  {
   "cell_type": "code",
   "execution_count": 163,
   "id": "ec972d20-470d-4b51-8863-6a1669c4f990",
   "metadata": {},
   "outputs": [
    {
     "data": {
      "text/html": [
       "<div>\n",
       "<style scoped>\n",
       "    .dataframe tbody tr th:only-of-type {\n",
       "        vertical-align: middle;\n",
       "    }\n",
       "\n",
       "    .dataframe tbody tr th {\n",
       "        vertical-align: top;\n",
       "    }\n",
       "\n",
       "    .dataframe thead th {\n",
       "        text-align: right;\n",
       "    }\n",
       "</style>\n",
       "<table border=\"1\" class=\"dataframe\">\n",
       "  <thead>\n",
       "    <tr style=\"text-align: right;\">\n",
       "      <th></th>\n",
       "      <th>message</th>\n",
       "      <th>topic_use</th>\n",
       "      <th>category</th>\n",
       "      <th>topic_st1</th>\n",
       "    </tr>\n",
       "  </thead>\n",
       "  <tbody>\n",
       "    <tr>\n",
       "      <th>27</th>\n",
       "      <td>I am overseas in China, can I get a replacement card?</td>\n",
       "      <td>44</td>\n",
       "      <td>card_about_to_expire</td>\n",
       "      <td>0</td>\n",
       "    </tr>\n",
       "    <tr>\n",
       "      <th>370</th>\n",
       "      <td>If I am in China, can I still order a new card and if so, how?</td>\n",
       "      <td>44</td>\n",
       "      <td>card_about_to_expire</td>\n",
       "      <td>0</td>\n",
       "    </tr>\n",
       "    <tr>\n",
       "      <th>441</th>\n",
       "      <td>My card is almost expired.  How fast will I get a new one and what is the cost?</td>\n",
       "      <td>2</td>\n",
       "      <td>card_about_to_expire</td>\n",
       "      <td>42</td>\n",
       "    </tr>\n",
       "    <tr>\n",
       "      <th>477</th>\n",
       "      <td>My card is about to expire. Do I have to go to a branch to order a new card?</td>\n",
       "      <td>2</td>\n",
       "      <td>card_about_to_expire</td>\n",
       "      <td>42</td>\n",
       "    </tr>\n",
       "    <tr>\n",
       "      <th>521</th>\n",
       "      <td>My card expires soon, will you send me one automatically?</td>\n",
       "      <td>2</td>\n",
       "      <td>card_about_to_expire</td>\n",
       "      <td>42</td>\n",
       "    </tr>\n",
       "    <tr>\n",
       "      <th>524</th>\n",
       "      <td>My card expires very soon.  What is the cost and delivery time to get a new one?</td>\n",
       "      <td>2</td>\n",
       "      <td>card_about_to_expire</td>\n",
       "      <td>42</td>\n",
       "    </tr>\n",
       "    <tr>\n",
       "      <th>551</th>\n",
       "      <td>Where can I have a new bank card sent to China?</td>\n",
       "      <td>44</td>\n",
       "      <td>card_about_to_expire</td>\n",
       "      <td>0</td>\n",
       "    </tr>\n",
       "    <tr>\n",
       "      <th>584</th>\n",
       "      <td>How do I get a new expiration date?</td>\n",
       "      <td>2</td>\n",
       "      <td>card_about_to_expire</td>\n",
       "      <td>42</td>\n",
       "    </tr>\n",
       "    <tr>\n",
       "      <th>605</th>\n",
       "      <td>Are there any express fees if i want my new card faster?</td>\n",
       "      <td>-1</td>\n",
       "      <td>card_about_to_expire</td>\n",
       "      <td>42</td>\n",
       "    </tr>\n",
       "    <tr>\n",
       "      <th>646</th>\n",
       "      <td>My card is almost going to expire.</td>\n",
       "      <td>2</td>\n",
       "      <td>card_about_to_expire</td>\n",
       "      <td>42</td>\n",
       "    </tr>\n",
       "    <tr>\n",
       "      <th>765</th>\n",
       "      <td>My card expires soon</td>\n",
       "      <td>2</td>\n",
       "      <td>card_about_to_expire</td>\n",
       "      <td>42</td>\n",
       "    </tr>\n",
       "    <tr>\n",
       "      <th>812</th>\n",
       "      <td>What is the cost and time frame of getting a new card?</td>\n",
       "      <td>2</td>\n",
       "      <td>card_about_to_expire</td>\n",
       "      <td>42</td>\n",
       "    </tr>\n",
       "    <tr>\n",
       "      <th>833</th>\n",
       "      <td>Help me order a new card that's going to be expired soon.</td>\n",
       "      <td>2</td>\n",
       "      <td>card_about_to_expire</td>\n",
       "      <td>42</td>\n",
       "    </tr>\n",
       "    <tr>\n",
       "      <th>888</th>\n",
       "      <td>What happens if my card expires?</td>\n",
       "      <td>2</td>\n",
       "      <td>card_about_to_expire</td>\n",
       "      <td>42</td>\n",
       "    </tr>\n",
       "  </tbody>\n",
       "</table>\n",
       "</div>"
      ],
      "text/plain": [
       "                                                                              message  \\\n",
       "27                              I am overseas in China, can I get a replacement card?   \n",
       "370                    If I am in China, can I still order a new card and if so, how?   \n",
       "441   My card is almost expired.  How fast will I get a new one and what is the cost?   \n",
       "477      My card is about to expire. Do I have to go to a branch to order a new card?   \n",
       "521                         My card expires soon, will you send me one automatically?   \n",
       "524  My card expires very soon.  What is the cost and delivery time to get a new one?   \n",
       "551                                   Where can I have a new bank card sent to China?   \n",
       "584                                               How do I get a new expiration date?   \n",
       "605                          Are there any express fees if i want my new card faster?   \n",
       "646                                                My card is almost going to expire.   \n",
       "765                                                              My card expires soon   \n",
       "812                            What is the cost and time frame of getting a new card?   \n",
       "833                         Help me order a new card that's going to be expired soon.   \n",
       "888                                                  What happens if my card expires?   \n",
       "\n",
       "     topic_use              category  topic_st1  \n",
       "27          44  card_about_to_expire          0  \n",
       "370         44  card_about_to_expire          0  \n",
       "441          2  card_about_to_expire         42  \n",
       "477          2  card_about_to_expire         42  \n",
       "521          2  card_about_to_expire         42  \n",
       "524          2  card_about_to_expire         42  \n",
       "551         44  card_about_to_expire          0  \n",
       "584          2  card_about_to_expire         42  \n",
       "605         -1  card_about_to_expire         42  \n",
       "646          2  card_about_to_expire         42  \n",
       "765          2  card_about_to_expire         42  \n",
       "812          2  card_about_to_expire         42  \n",
       "833          2  card_about_to_expire         42  \n",
       "888          2  card_about_to_expire         42  "
      ]
     },
     "execution_count": 163,
     "metadata": {},
     "output_type": "execute_result"
    }
   ],
   "source": [
    "results_df[results_df['category']=='card_about_to_expire']"
   ]
  },
  {
   "cell_type": "code",
   "execution_count": 126,
   "id": "46912852-8f61-49de-ab1c-71d066153b11",
   "metadata": {},
   "outputs": [
    {
     "data": {
      "text/html": [
       "<div>\n",
       "<style scoped>\n",
       "    .dataframe tbody tr th:only-of-type {\n",
       "        vertical-align: middle;\n",
       "    }\n",
       "\n",
       "    .dataframe tbody tr th {\n",
       "        vertical-align: top;\n",
       "    }\n",
       "\n",
       "    .dataframe thead th {\n",
       "        text-align: right;\n",
       "    }\n",
       "</style>\n",
       "<table border=\"1\" class=\"dataframe\">\n",
       "  <thead>\n",
       "    <tr style=\"text-align: right;\">\n",
       "      <th></th>\n",
       "      <th>message</th>\n",
       "      <th>topic</th>\n",
       "      <th>category</th>\n",
       "    </tr>\n",
       "  </thead>\n",
       "  <tbody>\n",
       "    <tr>\n",
       "      <th>27</th>\n",
       "      <td>I am overseas in China, can I get a replacement card?</td>\n",
       "      <td>44</td>\n",
       "      <td>card_about_to_expire</td>\n",
       "    </tr>\n",
       "    <tr>\n",
       "      <th>370</th>\n",
       "      <td>If I am in China, can I still order a new card and if so, how?</td>\n",
       "      <td>44</td>\n",
       "      <td>card_about_to_expire</td>\n",
       "    </tr>\n",
       "    <tr>\n",
       "      <th>381</th>\n",
       "      <td>Where is the PIN for my card located?</td>\n",
       "      <td>44</td>\n",
       "      <td>get_physical_card</td>\n",
       "    </tr>\n",
       "    <tr>\n",
       "      <th>420</th>\n",
       "      <td>Where do I find my PIN for my new card?</td>\n",
       "      <td>44</td>\n",
       "      <td>get_physical_card</td>\n",
       "    </tr>\n",
       "    <tr>\n",
       "      <th>450</th>\n",
       "      <td>Where can I get my card PIN?</td>\n",
       "      <td>44</td>\n",
       "      <td>get_physical_card</td>\n",
       "    </tr>\n",
       "    <tr>\n",
       "      <th>551</th>\n",
       "      <td>Where can I have a new bank card sent to China?</td>\n",
       "      <td>44</td>\n",
       "      <td>card_about_to_expire</td>\n",
       "    </tr>\n",
       "    <tr>\n",
       "      <th>627</th>\n",
       "      <td>When do I get my card PIN?</td>\n",
       "      <td>44</td>\n",
       "      <td>get_physical_card</td>\n",
       "    </tr>\n",
       "    <tr>\n",
       "      <th>918</th>\n",
       "      <td>In the app, where do I find my card PIN?</td>\n",
       "      <td>44</td>\n",
       "      <td>get_physical_card</td>\n",
       "    </tr>\n",
       "  </tbody>\n",
       "</table>\n",
       "</div>"
      ],
      "text/plain": [
       "                                                            message  topic  \\\n",
       "27            I am overseas in China, can I get a replacement card?     44   \n",
       "370  If I am in China, can I still order a new card and if so, how?     44   \n",
       "381                           Where is the PIN for my card located?     44   \n",
       "420                         Where do I find my PIN for my new card?     44   \n",
       "450                                    Where can I get my card PIN?     44   \n",
       "551                 Where can I have a new bank card sent to China?     44   \n",
       "627                                      When do I get my card PIN?     44   \n",
       "918                        In the app, where do I find my card PIN?     44   \n",
       "\n",
       "                 category  \n",
       "27   card_about_to_expire  \n",
       "370  card_about_to_expire  \n",
       "381     get_physical_card  \n",
       "420     get_physical_card  \n",
       "450     get_physical_card  \n",
       "551  card_about_to_expire  \n",
       "627     get_physical_card  \n",
       "918     get_physical_card  "
      ]
     },
     "execution_count": 126,
     "metadata": {},
     "output_type": "execute_result"
    }
   ],
   "source": [
    "results_df[results_df['topic']==44]"
   ]
  },
  {
   "cell_type": "code",
   "execution_count": 128,
   "id": "ed1144d9-e7ac-4168-a178-ab52563e0434",
   "metadata": {},
   "outputs": [
    {
     "data": {
      "text/html": [
       "<div>\n",
       "<style scoped>\n",
       "    .dataframe tbody tr th:only-of-type {\n",
       "        vertical-align: middle;\n",
       "    }\n",
       "\n",
       "    .dataframe tbody tr th {\n",
       "        vertical-align: top;\n",
       "    }\n",
       "\n",
       "    .dataframe thead th {\n",
       "        text-align: right;\n",
       "    }\n",
       "</style>\n",
       "<table border=\"1\" class=\"dataframe\">\n",
       "  <thead>\n",
       "    <tr style=\"text-align: right;\">\n",
       "      <th></th>\n",
       "      <th>Unnamed: 0</th>\n",
       "      <th>text</th>\n",
       "      <th>category</th>\n",
       "      <th>cleaned_text</th>\n",
       "    </tr>\n",
       "  </thead>\n",
       "  <tbody>\n",
       "    <tr>\n",
       "      <th>269</th>\n",
       "      <td>4038</td>\n",
       "      <td>How do I request the PIN?</td>\n",
       "      <td>get_physical_card</td>\n",
       "      <td>request pin</td>\n",
       "    </tr>\n",
       "    <tr>\n",
       "      <th>381</th>\n",
       "      <td>4026</td>\n",
       "      <td>Where is the PIN for my card located?</td>\n",
       "      <td>get_physical_card</td>\n",
       "      <td>pin card located</td>\n",
       "    </tr>\n",
       "    <tr>\n",
       "      <th>417</th>\n",
       "      <td>4005</td>\n",
       "      <td>My pin isn't here yet</td>\n",
       "      <td>get_physical_card</td>\n",
       "      <td>pin isnt yet</td>\n",
       "    </tr>\n",
       "    <tr>\n",
       "      <th>420</th>\n",
       "      <td>4096</td>\n",
       "      <td>Where do I find my PIN for my new card?</td>\n",
       "      <td>get_physical_card</td>\n",
       "      <td>find pin new card</td>\n",
       "    </tr>\n",
       "    <tr>\n",
       "      <th>450</th>\n",
       "      <td>3996</td>\n",
       "      <td>Where can I get my card PIN?</td>\n",
       "      <td>get_physical_card</td>\n",
       "      <td>get card pin</td>\n",
       "    </tr>\n",
       "    <tr>\n",
       "      <th>510</th>\n",
       "      <td>4044</td>\n",
       "      <td>Where's my card PIN?</td>\n",
       "      <td>get_physical_card</td>\n",
       "      <td>wheres card pin</td>\n",
       "    </tr>\n",
       "    <tr>\n",
       "      <th>560</th>\n",
       "      <td>4045</td>\n",
       "      <td>How do I set my physical card PIN?</td>\n",
       "      <td>get_physical_card</td>\n",
       "      <td>set physical card pin</td>\n",
       "    </tr>\n",
       "    <tr>\n",
       "      <th>583</th>\n",
       "      <td>3994</td>\n",
       "      <td>I'm not sure what to do about the PIN, because I don't have one yet.</td>\n",
       "      <td>get_physical_card</td>\n",
       "      <td>im sure pin dont one yet</td>\n",
       "    </tr>\n",
       "    <tr>\n",
       "      <th>627</th>\n",
       "      <td>4084</td>\n",
       "      <td>When do I get my card PIN?</td>\n",
       "      <td>get_physical_card</td>\n",
       "      <td>get card pin</td>\n",
       "    </tr>\n",
       "    <tr>\n",
       "      <th>844</th>\n",
       "      <td>4046</td>\n",
       "      <td>wheres my pin</td>\n",
       "      <td>get_physical_card</td>\n",
       "      <td>wheres pin</td>\n",
       "    </tr>\n",
       "    <tr>\n",
       "      <th>899</th>\n",
       "      <td>4065</td>\n",
       "      <td>How do I get my card PIN?</td>\n",
       "      <td>get_physical_card</td>\n",
       "      <td>get card pin</td>\n",
       "    </tr>\n",
       "    <tr>\n",
       "      <th>918</th>\n",
       "      <td>4018</td>\n",
       "      <td>In the app, where do I find my card PIN?</td>\n",
       "      <td>get_physical_card</td>\n",
       "      <td>app find card pin</td>\n",
       "    </tr>\n",
       "  </tbody>\n",
       "</table>\n",
       "</div>"
      ],
      "text/plain": [
       "     Unnamed: 0  \\\n",
       "269        4038   \n",
       "381        4026   \n",
       "417        4005   \n",
       "420        4096   \n",
       "450        3996   \n",
       "510        4044   \n",
       "560        4045   \n",
       "583        3994   \n",
       "627        4084   \n",
       "844        4046   \n",
       "899        4065   \n",
       "918        4018   \n",
       "\n",
       "                                                                     text  \\\n",
       "269                                             How do I request the PIN?   \n",
       "381                                 Where is the PIN for my card located?   \n",
       "417                                                 My pin isn't here yet   \n",
       "420                               Where do I find my PIN for my new card?   \n",
       "450                                          Where can I get my card PIN?   \n",
       "510                                                  Where's my card PIN?   \n",
       "560                                    How do I set my physical card PIN?   \n",
       "583  I'm not sure what to do about the PIN, because I don't have one yet.   \n",
       "627                                            When do I get my card PIN?   \n",
       "844                                                         wheres my pin   \n",
       "899                                             How do I get my card PIN?   \n",
       "918                              In the app, where do I find my card PIN?   \n",
       "\n",
       "              category              cleaned_text  \n",
       "269  get_physical_card               request pin  \n",
       "381  get_physical_card          pin card located  \n",
       "417  get_physical_card              pin isnt yet  \n",
       "420  get_physical_card         find pin new card  \n",
       "450  get_physical_card              get card pin  \n",
       "510  get_physical_card           wheres card pin  \n",
       "560  get_physical_card     set physical card pin  \n",
       "583  get_physical_card  im sure pin dont one yet  \n",
       "627  get_physical_card              get card pin  \n",
       "844  get_physical_card                wheres pin  \n",
       "899  get_physical_card              get card pin  \n",
       "918  get_physical_card         app find card pin  "
      ]
     },
     "execution_count": 128,
     "metadata": {},
     "output_type": "execute_result"
    }
   ],
   "source": [
    "data_sample[data_sample['category']=='get_physical_card']"
   ]
  },
  {
   "cell_type": "code",
   "execution_count": 165,
   "id": "f26113b7-cd67-4c31-bab6-102817af5e73",
   "metadata": {},
   "outputs": [
    {
     "name": "stdout",
     "output_type": "stream",
     "text": [
      "NMI for USE embedding: 0.7173797693365336\n",
      "NMI for Sent-transformer 1 embedding: 0.7801523881618632\n"
     ]
    }
   ],
   "source": [
    "nmi_use = normalized_mutual_info_score(results_df['category'].values, results_df['topic_use'].values)\n",
    "nmi_st1 = normalized_mutual_info_score(results_df['category'].values, results_df['topic_st1'].values)\n",
    "print(f\"NMI for USE embedding: {nmi_use}\")\n",
    "print(f\"NMI for Sent-transformer 1 embedding: {nmi_st1}\")"
   ]
  },
  {
   "cell_type": "code",
   "execution_count": 167,
   "id": "41492de2-0e7e-4e73-ab64-18351b773c05",
   "metadata": {},
   "outputs": [
    {
     "name": "stdout",
     "output_type": "stream",
     "text": [
      "ARI for USE embedding: 0.23851974666661185\n",
      "ARI for Sent-transformer 1 embedding: 0.3862417266135025\n"
     ]
    }
   ],
   "source": [
    "ari_use = adjusted_rand_score(results_df['category'].values, results_df['topic_use'].values)\n",
    "ari_st1 = adjusted_rand_score(results_df['category'].values, results_df['topic_st1'].values)\n",
    "print(f\"ARI for USE embedding: {ari_use}\")\n",
    "print(f\"ARI for Sent-transformer 1 embedding: {ari_st1}\")"
   ]
  },
  {
   "cell_type": "markdown",
   "id": "33768528-9a03-4216-9f99-3fe13d3a7053",
   "metadata": {},
   "source": [
    "## Visualize clusters"
   ]
  },
  {
   "cell_type": "code",
   "execution_count": 168,
   "id": "4acf9098-3414-484b-a499-d86f1f87d0e9",
   "metadata": {},
   "outputs": [
    {
     "data": {
      "text/plain": [
       "<matplotlib.colorbar.Colorbar at 0x7fe063d64910>"
      ]
     },
     "execution_count": 168,
     "metadata": {},
     "output_type": "execute_result"
    },
    {
     "data": {
      "image/png": "[encoded data removed]",
      "text/plain": [
       "<Figure size 1440x720 with 2 Axes>"
      ]
     },
     "metadata": {
      "needs_background": "light"
     },
     "output_type": "display_data"
    }
   ],
   "source": [
    "umap_data = umap.UMAP(n_neighbors=4, \n",
    "                      n_components=2, \n",
    "                      min_dist = 0.0, \n",
    "                      metric='cosine').fit_transform(use_embeddings)\n",
    "\n",
    "result = pd.DataFrame(umap_data, columns=['x', 'y'])\n",
    "result['labels'] = clusters.labels_\n",
    "\n",
    "fig, ax = plt.subplots(figsize=(20, 10))\n",
    "outliers = result.loc[result.labels == -1, :]\n",
    "clustered = result.loc[result.labels != -1, :]\n",
    "plt.scatter(outliers.x, outliers.y, color = '#BDBDBD', s=4)\n",
    "plt.scatter(clustered.x, clustered.y, c=clustered.labels, s=4, cmap='hsv_r')\n",
    "plt.colorbar()"
   ]
  },
  {
   "cell_type": "code",
   "execution_count": null,
   "id": "2fcd3f1f-13cd-467a-95ac-042cdbf70582",
   "metadata": {},
   "outputs": [],
   "source": []
  }
 ],
 "metadata": {
  "kernelspec": {
   "display_name": "Python 3",
   "language": "python",
   "name": "python3"
  },
  "language_info": {
   "codemirror_mode": {
    "name": "ipython",
    "version": 3
   },
   "file_extension": ".py",
   "mimetype": "text/x-python",
   "name": "python",
   "nbconvert_exporter": "python",
   "pygments_lexer": "ipython3",
   "version": "3.9.6"
  }
 },
 "nbformat": 4,
 "nbformat_minor": 5
}
