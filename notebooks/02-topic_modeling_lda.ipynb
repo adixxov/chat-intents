{
 "cells": [
  {
   "cell_type": "markdown",
   "id": "19497f47-272b-4848-b193-37dd1aeaf8dd",
   "metadata": {},
   "source": [
    "# Chat Intents\n",
    "\n",
    "## Topic Modeling - LDA"
   ]
  },
  {
   "cell_type": "code",
   "execution_count": 9,
   "id": "31fe2d45-e000-4127-a244-6e4a713d3bdb",
   "metadata": {},
   "outputs": [],
   "source": [
    "import numpy as np\n",
    "import pandas as pd\n",
    "\n",
    "pd.set_option(\"display.max_rows\", 500)\n",
    "pd.set_option(\"display.max_columns\", 500)\n",
    "pd.set_option(\"max_colwidth\", 400)\n",
    "\n",
    "import matplotlib.pyplot as plt\n",
    "%matplotlib inline\n",
    "\n",
    "from sklearn import metrics\n",
    "from sklearn.feature_extraction.text import CountVectorizer\n",
    "from sklearn.decomposition import LatentDirichletAllocation\n",
    "from sklearn.manifold import TSNE\n",
    "from sklearn.manifold import Isomap\n",
    "\n",
    "import gensim\n",
    "from gensim.corpora.dictionary import Dictionary\n",
    "from gensim.models.phrases import Phrases, Phraser\n",
    "from gensim.models import CoherenceModel\n",
    "import pyLDAvis\n",
    "import pyLDAvis.gensim_models\n",
    "\n",
    "import warnings\n",
    "warnings.filterwarnings('ignore', category=DeprecationWarning)"
   ]
  },
  {
   "cell_type": "code",
   "execution_count": 10,
   "id": "e048f58d-b79b-464b-a64b-da44ce7e88ec",
   "metadata": {},
   "outputs": [
    {
     "data": {
      "text/html": [
       "<div>\n",
       "<style scoped>\n",
       "    .dataframe tbody tr th:only-of-type {\n",
       "        vertical-align: middle;\n",
       "    }\n",
       "\n",
       "    .dataframe tbody tr th {\n",
       "        vertical-align: top;\n",
       "    }\n",
       "\n",
       "    .dataframe thead th {\n",
       "        text-align: right;\n",
       "    }\n",
       "</style>\n",
       "<table border=\"1\" class=\"dataframe\">\n",
       "  <thead>\n",
       "    <tr style=\"text-align: right;\">\n",
       "      <th></th>\n",
       "      <th>Unnamed: 0</th>\n",
       "      <th>text</th>\n",
       "      <th>category</th>\n",
       "      <th>cleaned_text</th>\n",
       "    </tr>\n",
       "  </thead>\n",
       "  <tbody>\n",
       "    <tr>\n",
       "      <th>0</th>\n",
       "      <td>1024</td>\n",
       "      <td>I'm worried my card might be lost in the mail? How long does it usually take to arrive?</td>\n",
       "      <td>card_delivery_estimate</td>\n",
       "      <td>im worried card might lost mail long usually take arrive</td>\n",
       "    </tr>\n",
       "    <tr>\n",
       "      <th>1</th>\n",
       "      <td>9405</td>\n",
       "      <td>I got charged a fee that shouldn't be there from my cash</td>\n",
       "      <td>cash_withdrawal_charge</td>\n",
       "      <td>got charged fee shouldnt cash</td>\n",
       "    </tr>\n",
       "    <tr>\n",
       "      <th>2</th>\n",
       "      <td>9368</td>\n",
       "      <td>Do you charge for making a withdrawal? I took some money out of my account earlier and I was charged for this.</td>\n",
       "      <td>cash_withdrawal_charge</td>\n",
       "      <td>charge making withdrawal took money account earlier charged</td>\n",
       "    </tr>\n",
       "    <tr>\n",
       "      <th>3</th>\n",
       "      <td>3414</td>\n",
       "      <td>Is there an issue with my account?  I don't see a cheque deposit that I made yesterday.  Please assist.</td>\n",
       "      <td>balance_not_updated_after_cheque_or_cash_deposit</td>\n",
       "      <td>issue account dont see cheque deposit made yesterday please assist</td>\n",
       "    </tr>\n",
       "    <tr>\n",
       "      <th>4</th>\n",
       "      <td>7402</td>\n",
       "      <td>Are there ways for other people to send me money?</td>\n",
       "      <td>receiving_money</td>\n",
       "      <td>way people send money</td>\n",
       "    </tr>\n",
       "  </tbody>\n",
       "</table>\n",
       "</div>"
      ],
      "text/plain": [
       "   Unnamed: 0  \\\n",
       "0        1024   \n",
       "1        9405   \n",
       "2        9368   \n",
       "3        3414   \n",
       "4        7402   \n",
       "\n",
       "                                                                                                             text  \\\n",
       "0                         I'm worried my card might be lost in the mail? How long does it usually take to arrive?   \n",
       "1                                                        I got charged a fee that shouldn't be there from my cash   \n",
       "2  Do you charge for making a withdrawal? I took some money out of my account earlier and I was charged for this.   \n",
       "3         Is there an issue with my account?  I don't see a cheque deposit that I made yesterday.  Please assist.   \n",
       "4                                                               Are there ways for other people to send me money?   \n",
       "\n",
       "                                           category  \\\n",
       "0                            card_delivery_estimate   \n",
       "1                            cash_withdrawal_charge   \n",
       "2                            cash_withdrawal_charge   \n",
       "3  balance_not_updated_after_cheque_or_cash_deposit   \n",
       "4                                   receiving_money   \n",
       "\n",
       "                                                         cleaned_text  \n",
       "0            im worried card might lost mail long usually take arrive  \n",
       "1                                       got charged fee shouldnt cash  \n",
       "2         charge making withdrawal took money account earlier charged  \n",
       "3  issue account dont see cheque deposit made yesterday please assist  \n",
       "4                                               way people send money  "
      ]
     },
     "execution_count": 10,
     "metadata": {},
     "output_type": "execute_result"
    }
   ],
   "source": [
    "data_sample = pd.read_csv('../data/processed/data_sample.csv')\n",
    "data_sample.head()"
   ]
  },
  {
   "cell_type": "code",
   "execution_count": 11,
   "id": "4993da00-b919-40aa-a8b9-5250bbde6a78",
   "metadata": {},
   "outputs": [
    {
     "data": {
      "text/plain": [
       "0              im worried card might lost mail long usually take arrive\n",
       "1                                         got charged fee shouldnt cash\n",
       "2           charge making withdrawal took money account earlier charged\n",
       "3    issue account dont see cheque deposit made yesterday please assist\n",
       "4                                                 way people send money\n",
       "Name: cleaned_text, dtype: object"
      ]
     },
     "execution_count": 11,
     "metadata": {},
     "output_type": "execute_result"
    }
   ],
   "source": [
    "X = data_sample['cleaned_text']\n",
    "X.head()"
   ]
  },
  {
   "cell_type": "code",
   "execution_count": 12,
   "id": "5831e5c9-3603-47e4-8721-2796b6d5b829",
   "metadata": {},
   "outputs": [
    {
     "data": {
      "text/plain": [
       "1000"
      ]
     },
     "execution_count": 12,
     "metadata": {},
     "output_type": "execute_result"
    }
   ],
   "source": [
    "len(X)"
   ]
  },
  {
   "cell_type": "markdown",
   "id": "2df26528-86cd-454d-90fa-22c884f350c0",
   "metadata": {},
   "source": [
    "## LDA with Scikit-learn"
   ]
  },
  {
   "cell_type": "code",
   "execution_count": 13,
   "id": "a2cd5828-874c-4495-aaad-95a956b662e6",
   "metadata": {},
   "outputs": [
    {
     "data": {
      "text/plain": [
       "(1000, 144)"
      ]
     },
     "execution_count": 13,
     "metadata": {},
     "output_type": "execute_result"
    }
   ],
   "source": [
    "count_vectorizer = CountVectorizer(ngram_range = (1, 2), max_df = 900, min_df = 10)\n",
    "\n",
    "transformed_vector = count_vectorizer.fit_transform(X)\n",
    "transformed_vector.shape"
   ]
  },
  {
   "cell_type": "code",
   "execution_count": 14,
   "id": "50d25a60-ab69-47d5-9edc-ad9fac3645f7",
   "metadata": {},
   "outputs": [
    {
     "data": {
      "text/plain": [
       "['able',\n",
       " 'accept',\n",
       " 'account',\n",
       " 'ago',\n",
       " 'already',\n",
       " 'amount',\n",
       " 'app',\n",
       " 'atm',\n",
       " 'back',\n",
       " 'balance']"
      ]
     },
     "execution_count": 14,
     "metadata": {},
     "output_type": "execute_result"
    }
   ],
   "source": [
    "feature_names = count_vectorizer.get_feature_names()\n",
    "feature_names[0:10]"
   ]
  },
  {
   "cell_type": "code",
   "execution_count": 15,
   "id": "301848f7-5e13-4489-b36f-12515fee1b2a",
   "metadata": {},
   "outputs": [
    {
     "name": "stdout",
     "output_type": "stream",
     "text": [
      "CPU times: user 2min 42s, sys: 1.25 s, total: 2min 43s\n",
      "Wall time: 2min 48s\n"
     ]
    }
   ],
   "source": [
    "%%time\n",
    "\n",
    "perplexities = []\n",
    "for NUM_TOPICS in range(5,101):\n",
    "    lda_model = LatentDirichletAllocation(n_components = NUM_TOPICS, max_iter=20)\n",
    "    lda = lda_model.fit_transform(transformed_vector)\n",
    "    perplexities.append(lda_model.perplexity(transformed_vector))"
   ]
  },
  {
   "cell_type": "code",
   "execution_count": 16,
   "id": "405f2543-ae1b-46a4-bbbe-15f95f441d38",
   "metadata": {},
   "outputs": [
    {
     "data": {
      "image/png": "[encoded data removed]",
      "text/plain": [
       "<Figure size 432x288 with 1 Axes>"
      ]
     },
     "metadata": {
      "needs_background": "light"
     },
     "output_type": "display_data"
    }
   ],
   "source": [
    "x = range(5, 101)\n",
    "y = perplexities\n",
    "\n",
    "fig, ax = plt.subplots()\n",
    "ax.plot(x, y)\n",
    "\n",
    "ax.set(xlabel = 'num topics', ylabel = 'perplexity', title = 'LDA')\n",
    "ax.grid()\n",
    "\n",
    "plt.show()"
   ]
  },
  {
   "cell_type": "code",
   "execution_count": 17,
   "id": "601426b9-cff6-44bf-81bb-21e2d6efee76",
   "metadata": {},
   "outputs": [
    {
     "name": "stdout",
     "output_type": "stream",
     "text": [
      "CPU times: user 2min 46s, sys: 1.61 s, total: 2min 48s\n",
      "Wall time: 2min 59s\n"
     ]
    }
   ],
   "source": [
    "%%time\n",
    "\n",
    "scores = []\n",
    "for NUM_TOPICS in range(5,101):\n",
    "    lda_model = LatentDirichletAllocation(n_components = NUM_TOPICS, max_iter=20)\n",
    "    lda = lda_model.fit_transform(transformed_vector)\n",
    "    scores.append(lda_model.score(transformed_vector))"
   ]
  },
  {
   "cell_type": "code",
   "execution_count": 18,
   "id": "d76682de-7769-4643-a3ad-0940417dbc30",
   "metadata": {},
   "outputs": [
    {
     "data": {
      "image/png": "[encoded data removed]",
      "text/plain": [
       "<Figure size 432x288 with 1 Axes>"
      ]
     },
     "metadata": {
      "needs_background": "light"
     },
     "output_type": "display_data"
    }
   ],
   "source": [
    "x = range(5, 101)\n",
    "y = scores\n",
    "\n",
    "fig, ax = plt.subplots()\n",
    "ax.plot(x, y)\n",
    "\n",
    "ax.set(xlabel = 'num topics', ylabel = 'score', title = 'LDA')\n",
    "ax.grid()\n",
    "\n",
    "plt.show()"
   ]
  },
  {
   "cell_type": "markdown",
   "id": "c2e82e56-4d0a-4526-9ebe-798242143ff7",
   "metadata": {},
   "source": [
    "### Evaluate a fixed number of topics"
   ]
  },
  {
   "cell_type": "code",
   "execution_count": 19,
   "id": "9f3e2e7c-2c0b-4802-ab8b-bc5313e1874f",
   "metadata": {},
   "outputs": [
    {
     "data": {
      "text/plain": [
       "(1000, 15)"
      ]
     },
     "execution_count": 19,
     "metadata": {},
     "output_type": "execute_result"
    }
   ],
   "source": [
    "NUM_TOPICS = 15\n",
    "\n",
    "lda_model = LatentDirichletAllocation(n_components = NUM_TOPICS, max_iter=20)\n",
    "\n",
    "lda = lda_model.fit_transform(transformed_vector)\n",
    "lda.shape"
   ]
  },
  {
   "cell_type": "code",
   "execution_count": 20,
   "id": "29efaef1-16f7-4215-99aa-31784b3dd023",
   "metadata": {},
   "outputs": [
    {
     "data": {
      "text/plain": [
       "1.0"
      ]
     },
     "execution_count": 20,
     "metadata": {},
     "output_type": "execute_result"
    }
   ],
   "source": [
    "sum(lda[0])"
   ]
  },
  {
   "cell_type": "code",
   "execution_count": 21,
   "id": "44358819-001e-4048-a411-2fe5e206e91d",
   "metadata": {},
   "outputs": [
    {
     "data": {
      "text/plain": [
       "(15, 144)"
      ]
     },
     "execution_count": 21,
     "metadata": {},
     "output_type": "execute_result"
    }
   ],
   "source": [
    "lda_model.components_.shape"
   ]
  },
  {
   "cell_type": "code",
   "execution_count": 22,
   "id": "20a6b6eb-9899-4a71-8e19-f91767702d09",
   "metadata": {},
   "outputs": [
    {
     "data": {
      "text/plain": [
       "-19228.35628455235"
      ]
     },
     "execution_count": 22,
     "metadata": {},
     "output_type": "execute_result"
    }
   ],
   "source": [
    "lda_model.score(transformed_vector)"
   ]
  },
  {
   "cell_type": "code",
   "execution_count": 23,
   "id": "fdcbdb52-6ee9-4f64-a2e5-1c1751f2ed36",
   "metadata": {},
   "outputs": [],
   "source": [
    "def print_topic(identifier, top_words=10):\n",
    "    for topic_id, topic_word_probs in enumerate(lda_model.components_):\n",
    "        if topic_id == identifier:\n",
    "            print(f\"Topic {topic_id}: \")\n",
    "            \n",
    "            top_feature_names = [feature_names[i] for i in topic_word_probs.argsort()[: -top_words - 1: -1]]\n",
    "            \n",
    "            print(\" \".join(top_feature_names))"
   ]
  },
  {
   "cell_type": "code",
   "execution_count": 24,
   "id": "e9eb2c8a-cd11-46d7-8020-f7847edf43b0",
   "metadata": {},
   "outputs": [
    {
     "name": "stdout",
     "output_type": "stream",
     "text": [
      "Topic 0: \n",
      "get card pin find cant stolen get card physical many used\n",
      "Topic 1: \n",
      "card virtual virtual card disposable order work disposable card disposable virtual use accept\n",
      "Topic 2: \n",
      "money account charge show see transfer money account ago dont deposit\n",
      "Topic 3: \n",
      "exchange rate exchange rate time wrong tried currency receive one correct\n",
      "Topic 4: \n",
      "top working use pay bank card im much today account\n",
      "Topic 5: \n",
      "transaction identity debit direct hasnt direct debit gone verification yet cancel\n",
      "Topic 6: \n",
      "app didnt make fund payment someone phone cant cost work\n",
      "Topic 7: \n",
      "help please card new account want dont please help know new card\n",
      "Topic 8: \n",
      "payment card card payment showing account made isnt balance day please\n",
      "Topic 9: \n",
      "refund getting extra get statement mastercard declined visa reason atm\n",
      "Topic 10: \n",
      "cash withdrawal atm cash withdrawal withdraw amount made still whats pending\n",
      "Topic 11: \n",
      "need would like would like change sent account pin know friend\n",
      "Topic 12: \n",
      "topup verify passcode need go work already doesnt time tried\n",
      "Topic 13: \n",
      "transfer take long pending long take cheque still cancelled something service\n",
      "Topic 14: \n",
      "charged fee currency got charged fee using money use ive cash\n"
     ]
    }
   ],
   "source": [
    "for i in range(NUM_TOPICS):\n",
    "    print_topic(i, top_words=10)"
   ]
  },
  {
   "cell_type": "code",
   "execution_count": 25,
   "id": "f768b08b-fff0-43fe-b7dc-3fa2d044f16f",
   "metadata": {},
   "outputs": [],
   "source": [
    "topics = []\n",
    "\n",
    "for i in range(len(X)):\n",
    "    topics.append(lda[i].argmax())"
   ]
  },
  {
   "cell_type": "code",
   "execution_count": 26,
   "id": "b30dd267-54f2-41ba-875d-e711e4538d01",
   "metadata": {},
   "outputs": [
    {
     "data": {
      "text/html": [
       "<div>\n",
       "<style scoped>\n",
       "    .dataframe tbody tr th:only-of-type {\n",
       "        vertical-align: middle;\n",
       "    }\n",
       "\n",
       "    .dataframe tbody tr th {\n",
       "        vertical-align: top;\n",
       "    }\n",
       "\n",
       "    .dataframe thead th {\n",
       "        text-align: right;\n",
       "    }\n",
       "</style>\n",
       "<table border=\"1\" class=\"dataframe\">\n",
       "  <thead>\n",
       "    <tr style=\"text-align: right;\">\n",
       "      <th></th>\n",
       "      <th>Unnamed: 0</th>\n",
       "      <th>text</th>\n",
       "      <th>category</th>\n",
       "      <th>cleaned_text</th>\n",
       "      <th>topic</th>\n",
       "    </tr>\n",
       "  </thead>\n",
       "  <tbody>\n",
       "    <tr>\n",
       "      <th>0</th>\n",
       "      <td>1024</td>\n",
       "      <td>I'm worried my card might be lost in the mail? How long does it usually take to arrive?</td>\n",
       "      <td>card_delivery_estimate</td>\n",
       "      <td>im worried card might lost mail long usually take arrive</td>\n",
       "      <td>13</td>\n",
       "    </tr>\n",
       "    <tr>\n",
       "      <th>1</th>\n",
       "      <td>9405</td>\n",
       "      <td>I got charged a fee that shouldn't be there from my cash</td>\n",
       "      <td>cash_withdrawal_charge</td>\n",
       "      <td>got charged fee shouldnt cash</td>\n",
       "      <td>14</td>\n",
       "    </tr>\n",
       "    <tr>\n",
       "      <th>2</th>\n",
       "      <td>9368</td>\n",
       "      <td>Do you charge for making a withdrawal? I took some money out of my account earlier and I was charged for this.</td>\n",
       "      <td>cash_withdrawal_charge</td>\n",
       "      <td>charge making withdrawal took money account earlier charged</td>\n",
       "      <td>2</td>\n",
       "    </tr>\n",
       "    <tr>\n",
       "      <th>3</th>\n",
       "      <td>3414</td>\n",
       "      <td>Is there an issue with my account?  I don't see a cheque deposit that I made yesterday.  Please assist.</td>\n",
       "      <td>balance_not_updated_after_cheque_or_cash_deposit</td>\n",
       "      <td>issue account dont see cheque deposit made yesterday please assist</td>\n",
       "      <td>2</td>\n",
       "    </tr>\n",
       "    <tr>\n",
       "      <th>4</th>\n",
       "      <td>7402</td>\n",
       "      <td>Are there ways for other people to send me money?</td>\n",
       "      <td>receiving_money</td>\n",
       "      <td>way people send money</td>\n",
       "      <td>2</td>\n",
       "    </tr>\n",
       "  </tbody>\n",
       "</table>\n",
       "</div>"
      ],
      "text/plain": [
       "   Unnamed: 0  \\\n",
       "0        1024   \n",
       "1        9405   \n",
       "2        9368   \n",
       "3        3414   \n",
       "4        7402   \n",
       "\n",
       "                                                                                                             text  \\\n",
       "0                         I'm worried my card might be lost in the mail? How long does it usually take to arrive?   \n",
       "1                                                        I got charged a fee that shouldn't be there from my cash   \n",
       "2  Do you charge for making a withdrawal? I took some money out of my account earlier and I was charged for this.   \n",
       "3         Is there an issue with my account?  I don't see a cheque deposit that I made yesterday.  Please assist.   \n",
       "4                                                               Are there ways for other people to send me money?   \n",
       "\n",
       "                                           category  \\\n",
       "0                            card_delivery_estimate   \n",
       "1                            cash_withdrawal_charge   \n",
       "2                            cash_withdrawal_charge   \n",
       "3  balance_not_updated_after_cheque_or_cash_deposit   \n",
       "4                                   receiving_money   \n",
       "\n",
       "                                                         cleaned_text  topic  \n",
       "0            im worried card might lost mail long usually take arrive     13  \n",
       "1                                       got charged fee shouldnt cash     14  \n",
       "2         charge making withdrawal took money account earlier charged      2  \n",
       "3  issue account dont see cheque deposit made yesterday please assist      2  \n",
       "4                                               way people send money      2  "
      ]
     },
     "execution_count": 26,
     "metadata": {},
     "output_type": "execute_result"
    }
   ],
   "source": [
    "data_sample['topic'] = topics\n",
    "\n",
    "data_sample.head()"
   ]
  },
  {
   "cell_type": "code",
   "execution_count": 27,
   "id": "26b3f99e-b2d5-4e7d-ab75-70af3d6c7d9a",
   "metadata": {},
   "outputs": [
    {
     "data": {
      "text/plain": [
       "(1000, 2)"
      ]
     },
     "execution_count": 27,
     "metadata": {},
     "output_type": "execute_result"
    }
   ],
   "source": [
    "tsne = TSNE(n_components = 2, init = 'pca', random_state = 0)\n",
    "lda_2d_tsne = tsne.fit_transform(lda)\n",
    "lda_df_tsne = pd.DataFrame(lda_2d_tsne)\n",
    "lda_df_tsne.shape"
   ]
  },
  {
   "cell_type": "code",
   "execution_count": 28,
   "id": "57cbdd67-7b99-4166-ab9d-1608b965aae9",
   "metadata": {},
   "outputs": [
    {
     "data": {
      "text/plain": [
       "<matplotlib.collections.PathCollection at 0x7fd72bad3310>"
      ]
     },
     "execution_count": 28,
     "metadata": {},
     "output_type": "execute_result"
    },
    {
     "data": {
      "image/png": "[encoded data removed]",
      "text/plain": [
       "<Figure size 864x720 with 1 Axes>"
      ]
     },
     "metadata": {
      "needs_background": "light"
     },
     "output_type": "display_data"
    }
   ],
   "source": [
    "plt.subplots(figsize=(12, 10))\n",
    "plt.axis('equal')\n",
    "\n",
    "plt.scatter(lda_df_tsne[0], lda_df_tsne[1], c=data_sample['topic'], cmap = plt.cm.Spectral)"
   ]
  },
  {
   "cell_type": "code",
   "execution_count": 29,
   "id": "f21917e7-b810-4afa-9952-167dd0ef13c3",
   "metadata": {},
   "outputs": [
    {
     "data": {
      "text/html": [
       "<div>\n",
       "<style scoped>\n",
       "    .dataframe tbody tr th:only-of-type {\n",
       "        vertical-align: middle;\n",
       "    }\n",
       "\n",
       "    .dataframe tbody tr th {\n",
       "        vertical-align: top;\n",
       "    }\n",
       "\n",
       "    .dataframe thead th {\n",
       "        text-align: right;\n",
       "    }\n",
       "</style>\n",
       "<table border=\"1\" class=\"dataframe\">\n",
       "  <thead>\n",
       "    <tr style=\"text-align: right;\">\n",
       "      <th></th>\n",
       "      <th>0</th>\n",
       "      <th>1</th>\n",
       "    </tr>\n",
       "  </thead>\n",
       "  <tbody>\n",
       "    <tr>\n",
       "      <th>0</th>\n",
       "      <td>0.320785</td>\n",
       "      <td>0.059012</td>\n",
       "    </tr>\n",
       "    <tr>\n",
       "      <th>1</th>\n",
       "      <td>0.203824</td>\n",
       "      <td>0.173898</td>\n",
       "    </tr>\n",
       "    <tr>\n",
       "      <th>2</th>\n",
       "      <td>0.009614</td>\n",
       "      <td>0.095724</td>\n",
       "    </tr>\n",
       "    <tr>\n",
       "      <th>3</th>\n",
       "      <td>-0.101968</td>\n",
       "      <td>0.039864</td>\n",
       "    </tr>\n",
       "    <tr>\n",
       "      <th>4</th>\n",
       "      <td>0.032937</td>\n",
       "      <td>0.071292</td>\n",
       "    </tr>\n",
       "  </tbody>\n",
       "</table>\n",
       "</div>"
      ],
      "text/plain": [
       "          0         1\n",
       "0  0.320785  0.059012\n",
       "1  0.203824  0.173898\n",
       "2  0.009614  0.095724\n",
       "3 -0.101968  0.039864\n",
       "4  0.032937  0.071292"
      ]
     },
     "execution_count": 29,
     "metadata": {},
     "output_type": "execute_result"
    }
   ],
   "source": [
    "isomap = Isomap(n_neighbors = 20, n_components = 2)\n",
    "lda_2d_isomap = isomap.fit_transform(lda)\n",
    "lda_df_isomap = pd.DataFrame(lda_2d_isomap)\n",
    "\n",
    "lda_df_isomap.head()"
   ]
  },
  {
   "cell_type": "code",
   "execution_count": 30,
   "id": "d6893e00-83c0-4b05-a9ce-0ee196a770ec",
   "metadata": {},
   "outputs": [
    {
     "data": {
      "text/plain": [
       "<matplotlib.collections.PathCollection at 0x7fd72b8d3a00>"
      ]
     },
     "execution_count": 30,
     "metadata": {},
     "output_type": "execute_result"
    },
    {
     "data": {
      "image/png": "[encoded data removed]",
      "text/plain": [
       "<Figure size 576x576 with 1 Axes>"
      ]
     },
     "metadata": {
      "needs_background": "light"
     },
     "output_type": "display_data"
    }
   ],
   "source": [
    "plt.subplots(figsize=(8,8))\n",
    "plt.axis('equal')\n",
    "\n",
    "plt.scatter(lda_df_isomap[0], lda_df_isomap[1], c = data_sample['topic'], cmap = plt.cm.Spectral) "
   ]
  },
  {
   "cell_type": "markdown",
   "id": "b5a4bad2-b7ba-4faa-89b9-8c3b28e349ca",
   "metadata": {},
   "source": [
    "## LDA with Gensim"
   ]
  },
  {
   "cell_type": "code",
   "execution_count": 31,
   "id": "fc86ca22-94f2-430a-b60e-3cb2b02743c2",
   "metadata": {},
   "outputs": [],
   "source": [
    "all_messages = data_sample['cleaned_text'].values.tolist()\n",
    "all_tokens = [sent.split(' ') for sent in all_messages]"
   ]
  },
  {
   "cell_type": "code",
   "execution_count": 32,
   "id": "0c49c0db-1993-4748-a4ba-7f83e9d822bd",
   "metadata": {},
   "outputs": [],
   "source": [
    "# Add bigrams and trigrams to docs (only ones that appear 10 times or more).\n",
    "bigram_phrases = Phrases(all_tokens, min_count=5)\n",
    "bigram = Phraser(bigram_phrases)\n",
    "\n",
    "for idx in range(len(all_tokens)):\n",
    "    for token in bigram[all_tokens[idx]]:\n",
    "        if '_' in token:\n",
    "            # Token is a bigram, add to document.\n",
    "            all_tokens[idx].append(token)"
   ]
  },
  {
   "cell_type": "code",
   "execution_count": 33,
   "id": "f159eeef-5a0d-46a9-9691-8d601309fdb5",
   "metadata": {},
   "outputs": [
    {
     "data": {
      "text/plain": [
       "{'charged_fee': 11.54074074074074,\n",
       " 'exchange_rate': 61.20364550597109,\n",
       " 'virtual_card': 10.742710795902285,\n",
       " 'whats_going': 22.777777777777775,\n",
       " 'visa_mastercard': 69.55357142857143,\n",
       " 'verify_topup': 13.248299319727892,\n",
       " 'extra_fee': 22.91176470588235,\n",
       " 'please_help': 19.378109452736318,\n",
       " 'direct_debit': 148.3809523809524,\n",
       " 'disposable_virtual': 39.343434343434346,\n",
       " 'would_like': 53.05689102564103,\n",
       " 'change_pin': 22.17267552182163,\n",
       " 'long_take': 24.481458202388435,\n",
       " 'google_pay': 29.285714285714285,\n",
       " 'cash_withdrawal': 21.061643835616437,\n",
       " 'didnt_make': 14.78178368121442,\n",
       " 'still_pending': 10.730027548209367}"
      ]
     },
     "execution_count": 33,
     "metadata": {},
     "output_type": "execute_result"
    }
   ],
   "source": [
    "bigram.phrasegrams"
   ]
  },
  {
   "cell_type": "code",
   "execution_count": 34,
   "id": "0d55b766-b8f4-4ddc-9ee6-cfe730f702b7",
   "metadata": {},
   "outputs": [],
   "source": [
    "dictionary = Dictionary(all_tokens)\n",
    "\n",
    "# Filter out words that occur less than 20 documents, or more than 50% of the documents.\n",
    "dictionary.filter_extremes(no_below=10, no_above=0.9)\n",
    "\n",
    "# Bag-of-words representation of the documents\n",
    "corpus = [dictionary.doc2bow(text) for text in all_tokens]"
   ]
  },
  {
   "cell_type": "code",
   "execution_count": 35,
   "id": "9826aa0b-0ae0-41f4-a3ed-8883212d767c",
   "metadata": {},
   "outputs": [
    {
     "name": "stdout",
     "output_type": "stream",
     "text": [
      "Number of unique tokens: 139\n",
      "Number of documents: 1000\n"
     ]
    }
   ],
   "source": [
    "print('Number of unique tokens: %d' % len(dictionary))\n",
    "print('Number of documents: %d' % len(corpus))"
   ]
  },
  {
   "cell_type": "markdown",
   "id": "4ab5879b-c993-47a9-b7b4-388a66f80760",
   "metadata": {},
   "source": [
    "Similar size corpus as the scikit-learn implementation above"
   ]
  },
  {
   "cell_type": "markdown",
   "id": "a5128b61-2edc-4448-bb49-fa85e7ede69d",
   "metadata": {},
   "source": [
    "### Iterate through different topic sizes"
   ]
  },
  {
   "cell_type": "code",
   "execution_count": 47,
   "id": "90f44247-23b9-4172-a364-69d04b602713",
   "metadata": {},
   "outputs": [],
   "source": [
    "def compute_coherence_values(corpus, dictionary, num_topics):\n",
    "    \n",
    "    # Set training parameters\n",
    "    chunksize = 2000\n",
    "    passes = 20\n",
    "    iterations = 400\n",
    "    eval_every = None  \n",
    "    \n",
    "    # Make a index to word dictionary.\n",
    "    temp = dictionary[0]  # This is only to \"load\" the dictionary.\n",
    "    id2word = dictionary.id2token\n",
    "    \n",
    "    lda_model = gensim.models.LdaModel(corpus=corpus,\n",
    "                                       id2word=id2word,\n",
    "                                       chunksize=chunksize,\n",
    "                                       alpha='auto',\n",
    "                                       eta='auto',\n",
    "                                       iterations=iterations,\n",
    "                                       num_topics=num_topics,\n",
    "                                       passes=passes,\n",
    "                                       eval_every=eval_every\n",
    "                                      )\n",
    "    \n",
    "    coherence_model_lda = CoherenceModel(model=lda_model, \n",
    "                                         texts=all_tokens, \n",
    "                                         dictionary=dictionary, \n",
    "                                         coherence='c_v')\n",
    "    \n",
    "    coherence = coherence_model_lda.get_coherence()\n",
    "    #perplexity = lda_model.log_perplexity(corpus)  \n",
    "    \n",
    "    return coherence"
   ]
  },
  {
   "cell_type": "code",
   "execution_count": 49,
   "id": "27eb2e83-96cd-45dc-a0d8-b63c251904c4",
   "metadata": {},
   "outputs": [
    {
     "name": "stdout",
     "output_type": "stream",
     "text": [
      "CPU times: user 7min 3s, sys: 6.33 s, total: 7min 9s\n",
      "Wall time: 9min 15s\n"
     ]
    }
   ],
   "source": [
    "%%time\n",
    "\n",
    "coherence_scores = []\n",
    "#perplexity_scores = []\n",
    "for NUM_TOPICS in range(5,120):\n",
    "    coherence = compute_coherence_values(corpus, dictionary, NUM_TOPICS)\n",
    "    coherence_scores.append(coherence)\n",
    "    #perplexity_scores.append(perplexity)"
   ]
  },
  {
   "cell_type": "code",
   "execution_count": 50,
   "id": "d8f6b2d5-9a37-44f1-abbe-94291375d122",
   "metadata": {},
   "outputs": [
    {
     "data": {
      "image/png": "[encoded data removed]",
      "text/plain": [
       "<Figure size 432x288 with 1 Axes>"
      ]
     },
     "metadata": {
      "needs_background": "light"
     },
     "output_type": "display_data"
    }
   ],
   "source": [
    "x = range(5, 120)\n",
    "y = coherence_scores\n",
    "\n",
    "fig, ax = plt.subplots()\n",
    "ax.plot(x, y)\n",
    "\n",
    "ax.set(xlabel = 'num topics', ylabel = 'coherence', title = 'LDA')\n",
    "ax.grid()\n",
    "\n",
    "plt.show()"
   ]
  },
  {
   "cell_type": "code",
   "execution_count": 51,
   "id": "736043bd-6fbb-4c49-b948-cead29e8a2b1",
   "metadata": {},
   "outputs": [
    {
     "data": {
      "text/plain": [
       "118"
      ]
     },
     "execution_count": 51,
     "metadata": {},
     "output_type": "execute_result"
    }
   ],
   "source": [
    "list(range(5,120))[np.argmax(coherence_scores)]"
   ]
  },
  {
   "cell_type": "markdown",
   "id": "d6e7a3c6-f918-4224-a5bf-885340d36b49",
   "metadata": {},
   "source": [
    "#### Investigate 'optimal' topic number model"
   ]
  },
  {
   "cell_type": "code",
   "execution_count": 52,
   "id": "bdf71b52-df55-4aa3-9c85-1545faebe452",
   "metadata": {},
   "outputs": [],
   "source": [
    "# Set training parameters\n",
    "num_topics = 19\n",
    "chunksize = 2000\n",
    "passes = 20\n",
    "iterations = 400\n",
    "eval_every = 5  \n",
    "\n",
    "# Make a index to word dictionary.\n",
    "temp = dictionary[0]  # This is only to \"load\" the dictionary.\n",
    "id2word = dictionary.id2token\n",
    "\n",
    "model = gensim.models.LdaModel(\n",
    "    corpus=corpus,\n",
    "    id2word=id2word,\n",
    "    chunksize=chunksize,\n",
    "    alpha='auto',\n",
    "    eta='auto',\n",
    "    iterations=iterations,\n",
    "    num_topics=num_topics,\n",
    "    passes=passes,\n",
    "    eval_every=eval_every\n",
    ")"
   ]
  },
  {
   "cell_type": "code",
   "execution_count": 53,
   "id": "cdea74a6-6ba0-4dab-ae17-067ae4ed7466",
   "metadata": {
    "scrolled": true,
    "tags": []
   },
   "outputs": [
    {
     "name": "stdout",
     "output_type": "stream",
     "text": [
      "Average topic coherence: -10.2827.\n",
      "[([(0.114762396, 'tried'),\n",
      "   (0.11442425, 'using'),\n",
      "   (0.09383422, 'card'),\n",
      "   (0.045928713, 'today'),\n",
      "   (0.04405603, 'something'),\n",
      "   (0.042015024, 'yesterday'),\n",
      "   (0.041413236, 'isnt'),\n",
      "   (0.0393178, 'declined'),\n",
      "   (0.039227035, 'reason'),\n",
      "   (0.036865875, 'wrong'),\n",
      "   (0.034241363, 'working'),\n",
      "   (0.03253763, 'account'),\n",
      "   (0.029197847, 'could'),\n",
      "   (0.0283919, 'time'),\n",
      "   (0.028238202, 'please'),\n",
      "   (0.021199621, 'charged'),\n",
      "   (0.020662168, 'showing'),\n",
      "   (0.019162849, 'balance'),\n",
      "   (0.017627526, 'check'),\n",
      "   (0.01556041, 'still')],\n",
      "  -7.61868241487866),\n",
      " ([(0.20433362, 'money'),\n",
      "   (0.19693778, 'account'),\n",
      "   (0.06770371, 'im'),\n",
      "   (0.056820586, 'see'),\n",
      "   (0.051578563, 'dont'),\n",
      "   (0.04716341, 'time'),\n",
      "   (0.04590393, 'hasnt'),\n",
      "   (0.044708166, 'yet'),\n",
      "   (0.039966382, 'gone'),\n",
      "   (0.037543014, 'able'),\n",
      "   (0.034754384, 'friend'),\n",
      "   (0.033426028, 'transfer'),\n",
      "   (0.016673703, 'sent'),\n",
      "   (0.014691594, 'need'),\n",
      "   (0.010867974, 'ago'),\n",
      "   (0.010765016, 'getting'),\n",
      "   (0.009396806, 'refund'),\n",
      "   (0.008104582, 'much'),\n",
      "   (0.0073774816, 'take'),\n",
      "   (0.0060459613, 'know')],\n",
      "  -7.789713331522149),\n",
      " ([(0.15971258, 'refund'),\n",
      "   (0.12525597, 'cant'),\n",
      "   (0.055284668, 'please'),\n",
      "   (0.05465804, 'money'),\n",
      "   (0.04221699, 'get'),\n",
      "   (0.040660296, 'account'),\n",
      "   (0.03975508, 'back'),\n",
      "   (0.03629851, 'ago'),\n",
      "   (0.03478161, 'statement'),\n",
      "   (0.030936545, 'yet'),\n",
      "   (0.028626576, 'need'),\n",
      "   (0.02824579, 'help'),\n",
      "   (0.026263975, 'bought'),\n",
      "   (0.02482403, 'tell'),\n",
      "   (0.019966708, 'something'),\n",
      "   (0.019873476, 'please_help'),\n",
      "   (0.016601492, 'show'),\n",
      "   (0.014877654, 'couple'),\n",
      "   (0.014021958, 'sent'),\n",
      "   (0.013316686, 'received')],\n",
      "  -7.81413033242699),\n",
      " ([(0.16603501, 'long'),\n",
      "   (0.13839832, 'take'),\n",
      "   (0.08398179, 'show'),\n",
      "   (0.08292901, 'transfer'),\n",
      "   (0.06888122, 'pending'),\n",
      "   (0.063119724, 'long_take'),\n",
      "   (0.057895783, 'verify'),\n",
      "   (0.051458668, 'go'),\n",
      "   (0.045704793, 'money'),\n",
      "   (0.04344616, 'receive'),\n",
      "   (0.041908972, 'need'),\n",
      "   (0.03700076, 'card'),\n",
      "   (0.018147597, 'something'),\n",
      "   (0.016970042, 'already'),\n",
      "   (0.013805513, 'made'),\n",
      "   (0.010187461, 'time'),\n",
      "   (0.0074775033, 'payment'),\n",
      "   (0.006720328, 'hasnt'),\n",
      "   (0.0055330535, 'day'),\n",
      "   (0.0044156327, 'think')],\n",
      "  -8.083931831002669),\n",
      " ([(0.15362313, 'cash'),\n",
      "   (0.1239897, 'charged'),\n",
      "   (0.105164304, 'withdrawal'),\n",
      "   (0.09484006, 'fee'),\n",
      "   (0.09102639, 'still'),\n",
      "   (0.0794447, 'pending'),\n",
      "   (0.06998312, 'cash_withdrawal'),\n",
      "   (0.061680187, 'made'),\n",
      "   (0.045891333, 'charged_fee'),\n",
      "   (0.027349997, 'account'),\n",
      "   (0.025429761, 'money'),\n",
      "   (0.024003753, 'earlier'),\n",
      "   (0.016413925, 'payment'),\n",
      "   (0.009266356, 'come'),\n",
      "   (0.008492545, 'didnt'),\n",
      "   (0.0074562966, 'transfer'),\n",
      "   (0.0071883304, 'purchase'),\n",
      "   (0.006180072, 'today'),\n",
      "   (0.0054649143, 'showing'),\n",
      "   (0.0040377458, 'used')],\n",
      "  -8.457154794243895),\n",
      " ([(0.09773227, 'identity'),\n",
      "   (0.09459713, 'declined'),\n",
      "   (0.07950512, 'check'),\n",
      "   (0.07320229, 'transfer'),\n",
      "   (0.059341658, 'getting'),\n",
      "   (0.04944243, 'deposit'),\n",
      "   (0.048454534, 'whats'),\n",
      "   (0.045864888, 'account'),\n",
      "   (0.03788477, 'dont'),\n",
      "   (0.036909197, 'keep'),\n",
      "   (0.034469407, 'see'),\n",
      "   (0.03274921, 'made'),\n",
      "   (0.032296848, 'cash'),\n",
      "   (0.03047364, 'please'),\n",
      "   (0.024930684, 'verification'),\n",
      "   (0.023818782, 'already'),\n",
      "   (0.023607623, 'ago'),\n",
      "   (0.021437142, 'yet'),\n",
      "   (0.015942901, 'bank'),\n",
      "   (0.015925774, 'use')],\n",
      "  -9.00831967356699),\n",
      " ([(0.27911687, 'transaction'),\n",
      "   (0.13725702, 'cancel'),\n",
      "   (0.06128, 'fund'),\n",
      "   (0.046243373, 'sent'),\n",
      "   (0.04565267, 'app'),\n",
      "   (0.03792301, 'cash'),\n",
      "   (0.03778627, 'showing'),\n",
      "   (0.033179533, 'atm'),\n",
      "   (0.028924715, 'wrong'),\n",
      "   (0.027781859, 'charged'),\n",
      "   (0.025239004, 'receive'),\n",
      "   (0.02435661, 'payment'),\n",
      "   (0.022018017, 'used'),\n",
      "   (0.016653722, 'made'),\n",
      "   (0.016007233, 'amount'),\n",
      "   (0.0148323085, 'back'),\n",
      "   (0.013110224, 'please'),\n",
      "   (0.011890975, 'day'),\n",
      "   (0.008060545, 'isnt'),\n",
      "   (0.007858611, 'correct')],\n",
      "  -9.739055881140766),\n",
      " ([(0.19762751, 'help'),\n",
      "   (0.1708953, 'please'),\n",
      "   (0.08054104, 'please_help'),\n",
      "   (0.075182945, 'card'),\n",
      "   (0.06513387, 'account'),\n",
      "   (0.050374165, 'stolen'),\n",
      "   (0.04878113, 'find'),\n",
      "   (0.040005393, 'made'),\n",
      "   (0.037193425, 'withdrawal'),\n",
      "   (0.036902785, 'know'),\n",
      "   (0.025907477, 'dont'),\n",
      "   (0.024100723, 'someone'),\n",
      "   (0.015086366, 'need'),\n",
      "   (0.014085873, 'phone'),\n",
      "   (0.014076796, 'passcode'),\n",
      "   (0.012631145, 'fund'),\n",
      "   (0.011743047, 'amount'),\n",
      "   (0.009821084, 'wasnt'),\n",
      "   (0.007872765, 'order'),\n",
      "   (0.0068440116, 'withdraw')],\n",
      "  -9.795600891858449),\n",
      " ([(0.24309069, 'topup'),\n",
      "   (0.13741265, 'card'),\n",
      "   (0.10957074, 'charge'),\n",
      "   (0.099866405, 'tell'),\n",
      "   (0.08742988, 'working'),\n",
      "   (0.060476318, 'money'),\n",
      "   (0.050474476, 'used'),\n",
      "   (0.033997826, 'wasnt'),\n",
      "   (0.02240159, 'use'),\n",
      "   (0.019829432, 'keep'),\n",
      "   (0.015376005, 'withdraw'),\n",
      "   (0.015339358, 'need'),\n",
      "   (0.012318549, 'atm'),\n",
      "   (0.010948894, 'think'),\n",
      "   (0.009159627, 'today'),\n",
      "   (0.007218442, 'dont'),\n",
      "   (0.0063234926, 'right'),\n",
      "   (0.006097054, 'new'),\n",
      "   (0.006097054, 'ive'),\n",
      "   (0.00548255, 'made')],\n",
      "  -9.997698593402443),\n",
      " ([(0.32506844, 'payment'),\n",
      "   (0.1290495, 'card'),\n",
      "   (0.11579642, 'make'),\n",
      "   (0.09088983, 'didnt'),\n",
      "   (0.062384725, 'work'),\n",
      "   (0.042303678, 'much'),\n",
      "   (0.037616964, 'account'),\n",
      "   (0.028532943, 'doesnt'),\n",
      "   (0.028343435, 'day'),\n",
      "   (0.021104971, 'couple'),\n",
      "   (0.017471699, 'top'),\n",
      "   (0.015301911, 'showing'),\n",
      "   (0.012649963, 'pending'),\n",
      "   (0.009730483, 'ago'),\n",
      "   (0.009590966, 'app'),\n",
      "   (0.008300322, 'could'),\n",
      "   (0.0042592436, 'stolen'),\n",
      "   (0.0042592166, 'ive'),\n",
      "   (0.0029586367, 'time'),\n",
      "   (0.0022143011, 'hasnt')],\n",
      "  -10.386103009358674),\n",
      " ([(0.10579899, 'got'),\n",
      "   (0.09704353, 'one'),\n",
      "   (0.09391724, 'extra'),\n",
      "   (0.08141111, 'fee'),\n",
      "   (0.0629438, 'card'),\n",
      "   (0.058085997, 'going'),\n",
      "   (0.055461414, 'charged'),\n",
      "   (0.05541453, 'extra_fee'),\n",
      "   (0.04983547, 'ive'),\n",
      "   (0.046900246, 'charge'),\n",
      "   (0.038645625, 'country'),\n",
      "   (0.028518952, 'time'),\n",
      "   (0.02172832, 'think'),\n",
      "   (0.021312961, 'app'),\n",
      "   (0.017867358, 'new'),\n",
      "   (0.017281663, 'pay'),\n",
      "   (0.016832918, 'payment'),\n",
      "   (0.016830783, 'statement'),\n",
      "   (0.016818417, 'passcode'),\n",
      "   (0.014229238, 'please')],\n",
      "  -10.530691201641329),\n",
      " ([(0.19458407, 'atm'),\n",
      "   (0.17650639, 'use'),\n",
      "   (0.159465, 'app'),\n",
      "   (0.11783311, 'card'),\n",
      "   (0.0657078, 'someone'),\n",
      "   (0.055817, 'currency'),\n",
      "   (0.03960916, 'cash'),\n",
      "   (0.038095836, 'phone'),\n",
      "   (0.02268211, 'received'),\n",
      "   (0.021525841, 'whats'),\n",
      "   (0.015182149, 'find'),\n",
      "   (0.014708629, 'wrong'),\n",
      "   (0.011754186, 'going'),\n",
      "   (0.0076388577, 'account'),\n",
      "   (0.005377183, 'back'),\n",
      "   (0.0052836756, 'amount'),\n",
      "   (0.0052039493, 'give'),\n",
      "   (0.0031400018, 'using'),\n",
      "   (0.0029714948, 'accept'),\n",
      "   (0.0021322828, 'need')],\n",
      "  -10.623777172210483),\n",
      " ([(0.29945523, 'transfer'),\n",
      "   (0.07144724, 'bank'),\n",
      "   (0.06794768, 'amount'),\n",
      "   (0.06241692, 'withdraw'),\n",
      "   (0.05334868, 'money'),\n",
      "   (0.0465585, 'missing'),\n",
      "   (0.04128971, 'statement'),\n",
      "   (0.04006775, 'fee'),\n",
      "   (0.03968985, 'refund'),\n",
      "   (0.039223853, 'cost'),\n",
      "   (0.029976746, 'received'),\n",
      "   (0.02402366, 'didnt'),\n",
      "   (0.022038026, 'charge'),\n",
      "   (0.019296018, 'showing'),\n",
      "   (0.016040599, 'made'),\n",
      "   (0.014723422, 'fund'),\n",
      "   (0.013636285, 'right'),\n",
      "   (0.012380277, 'tried'),\n",
      "   (0.011819709, 'top'),\n",
      "   (0.011614261, 'account')],\n",
      "  -10.970156652007402),\n",
      " ([(0.28627035, 'card'),\n",
      "   (0.11327804, 'new'),\n",
      "   (0.10617949, 'virtual'),\n",
      "   (0.08654973, 'disposable'),\n",
      "   (0.059080243, 'virtual_card'),\n",
      "   (0.043381613, 'disposable_virtual'),\n",
      "   (0.042683627, 'wont'),\n",
      "   (0.04063968, 'order'),\n",
      "   (0.029588353, 'work'),\n",
      "   (0.027403267, 'get'),\n",
      "   (0.017250326, 'one'),\n",
      "   (0.016505172, 'getting'),\n",
      "   (0.015906647, 'passcode'),\n",
      "   (0.0132886125, 'please'),\n",
      "   (0.012287228, 'cost'),\n",
      "   (0.012208028, 'go'),\n",
      "   (0.012156599, 'time'),\n",
      "   (0.008784667, 'right'),\n",
      "   (0.0084251305, 'used'),\n",
      "   (0.008058348, 'still')],\n",
      "  -11.112600786339911),\n",
      " ([(0.24545252, 'would'),\n",
      "   (0.19673543, 'like'),\n",
      "   (0.14325336, 'would_like'),\n",
      "   (0.10424199, 'purchase'),\n",
      "   (0.06533262, 'balance'),\n",
      "   (0.039871275, 'give'),\n",
      "   (0.034431845, 'bought'),\n",
      "   (0.033937514, 'card'),\n",
      "   (0.031032987, 'refund'),\n",
      "   (0.01577539, 'im'),\n",
      "   (0.013510922, 'cancel'),\n",
      "   (0.007018803, 'going'),\n",
      "   (0.006947287, 'working'),\n",
      "   (0.0068737576, 'passcode'),\n",
      "   (0.0035564485, 'back'),\n",
      "   (0.0028554876, 'payment'),\n",
      "   (0.0027570499, 'something'),\n",
      "   (0.0019150814, 'take'),\n",
      "   (0.0014633213, 'cash'),\n",
      "   (0.00091361225, 'get')],\n",
      "  -11.149443529383612),\n",
      " ([(0.2977185, 'get'),\n",
      "   (0.23840243, 'card'),\n",
      "   (0.13061471, 'want'),\n",
      "   (0.06929924, 'mastercard'),\n",
      "   (0.060489528, 'visa'),\n",
      "   (0.048742477, 'accept'),\n",
      "   (0.046489194, 'pin'),\n",
      "   (0.038891826, 'come'),\n",
      "   (0.016183384, 'possible'),\n",
      "   (0.011087614, 'isnt'),\n",
      "   (0.0029625408, 'account'),\n",
      "   (0.0015913979, 'getting'),\n",
      "   (0.0011656708, 'would'),\n",
      "   (0.0006117992, 'one'),\n",
      "   (0.0005743798, 'give'),\n",
      "   (0.0005677459, 'know'),\n",
      "   (0.00041498657, 'payment'),\n",
      "   (0.00041271516, 'use'),\n",
      "   (0.00040103664, 'atm'),\n",
      "   (0.00039228343, 'money')],\n",
      "  -11.334326756744819),\n",
      " ([(0.17295024, 'exchange'),\n",
      "   (0.14886428, 'rate'),\n",
      "   (0.12073718, 'exchange_rate'),\n",
      "   (0.109746404, 'currency'),\n",
      "   (0.06114612, 'wrong'),\n",
      "   (0.06022023, 'debit'),\n",
      "   (0.05595376, 'direct'),\n",
      "   (0.052426044, 'direct_debit'),\n",
      "   (0.03510142, 'cash'),\n",
      "   (0.028001152, 'correct'),\n",
      "   (0.019090768, 'app'),\n",
      "   (0.016286446, 'got'),\n",
      "   (0.013615784, 'see'),\n",
      "   (0.013182611, 'didnt'),\n",
      "   (0.01227446, 'getting'),\n",
      "   (0.012261592, 'think'),\n",
      "   (0.009274577, 'im'),\n",
      "   (0.008442637, 'statement'),\n",
      "   (0.008248441, 'wasnt'),\n",
      "   (0.008182045, 'used')],\n",
      "  -13.451283128609994),\n",
      " ([(0.30947474, 'top'),\n",
      "   (0.12260056, 'pin'),\n",
      "   (0.09511362, 'change'),\n",
      "   (0.08211053, 'pay'),\n",
      "   (0.049948834, 'cheque'),\n",
      "   (0.045012433, 'verification'),\n",
      "   (0.044199664, 'need'),\n",
      "   (0.033137877, 'bank'),\n",
      "   (0.02638867, 'working'),\n",
      "   (0.023538923, 'isnt'),\n",
      "   (0.01707419, 'accept'),\n",
      "   (0.016962469, 'yet'),\n",
      "   (0.016491065, 'im'),\n",
      "   (0.014148205, 'find'),\n",
      "   (0.01219437, 'use'),\n",
      "   (0.011474658, 'ive'),\n",
      "   (0.011088854, 'hasnt'),\n",
      "   (0.0106127905, 'number'),\n",
      "   (0.0059811478, 'ago'),\n",
      "   (0.005961663, 'day')],\n",
      "  -13.658732726993623),\n",
      " ([(0.2240062, 'need'),\n",
      "   (0.11455126, 'know'),\n",
      "   (0.11338842, 'card'),\n",
      "   (0.0694958, 'possible'),\n",
      "   (0.06928314, 'account'),\n",
      "   (0.058948398, 'cancelled'),\n",
      "   (0.054218575, 'physical'),\n",
      "   (0.054207098, 'service'),\n",
      "   (0.05337532, 'many'),\n",
      "   (0.02979734, 'fund'),\n",
      "   (0.022313835, 'number'),\n",
      "   (0.013744662, 'go'),\n",
      "   (0.0120431725, 'right'),\n",
      "   (0.011889315, 'payment'),\n",
      "   (0.01107657, 'country'),\n",
      "   (0.010979879, 'receive'),\n",
      "   (0.010784236, 'dont'),\n",
      "   (0.007743397, 'give'),\n",
      "   (0.0070397495, 'cost'),\n",
      "   (0.006420661, 'think')],\n",
      "  -13.849819120685956)]\n"
     ]
    }
   ],
   "source": [
    "top_topics = model.top_topics(corpus) #, num_words=20)\n",
    "\n",
    "# Average topic coherence is the sum of topic coherences of all topics, divided by the number of topics.\n",
    "avg_topic_coherence = sum([t[1] for t in top_topics]) / num_topics\n",
    "print('Average topic coherence: %.4f.' % avg_topic_coherence)\n",
    "\n",
    "from pprint import pprint\n",
    "pprint(top_topics)"
   ]
  },
  {
   "cell_type": "code",
   "execution_count": 56,
   "id": "e1f3c314-4f8d-4b8e-9c0f-c657669a43a2",
   "metadata": {},
   "outputs": [
    {
     "name": "stdout",
     "output_type": "stream",
     "text": [
      "(0, '0.198*\"help\" + 0.171*\"please\" + 0.081*\"please_help\" + 0.075*\"card\" + 0.065*\"account\" + 0.050*\"stolen\"')\n",
      "(1, '0.106*\"got\" + 0.097*\"one\" + 0.094*\"extra\" + 0.081*\"fee\" + 0.063*\"card\" + 0.058*\"going\"')\n",
      "(2, '0.160*\"refund\" + 0.125*\"cant\" + 0.055*\"please\" + 0.055*\"money\" + 0.042*\"get\" + 0.041*\"account\"')\n",
      "(3, '0.204*\"money\" + 0.197*\"account\" + 0.068*\"im\" + 0.057*\"see\" + 0.052*\"dont\" + 0.047*\"time\"')\n",
      "(4, '0.325*\"payment\" + 0.129*\"card\" + 0.116*\"make\" + 0.091*\"didnt\" + 0.062*\"work\" + 0.042*\"much\"')\n",
      "(5, '0.299*\"transfer\" + 0.071*\"bank\" + 0.068*\"amount\" + 0.062*\"withdraw\" + 0.053*\"money\" + 0.047*\"missing\"')\n",
      "(6, '0.245*\"would\" + 0.197*\"like\" + 0.143*\"would_like\" + 0.104*\"purchase\" + 0.065*\"balance\" + 0.040*\"give\"')\n",
      "(7, '0.115*\"tried\" + 0.114*\"using\" + 0.094*\"card\" + 0.046*\"today\" + 0.044*\"something\" + 0.042*\"yesterday\"')\n",
      "(8, '0.309*\"top\" + 0.123*\"pin\" + 0.095*\"change\" + 0.082*\"pay\" + 0.050*\"cheque\" + 0.045*\"verification\"')\n",
      "(9, '0.173*\"exchange\" + 0.149*\"rate\" + 0.121*\"exchange_rate\" + 0.110*\"currency\" + 0.061*\"wrong\" + 0.060*\"debit\"')\n",
      "(10, '0.195*\"atm\" + 0.177*\"use\" + 0.159*\"app\" + 0.118*\"card\" + 0.066*\"someone\" + 0.056*\"currency\"')\n",
      "(11, '0.279*\"transaction\" + 0.137*\"cancel\" + 0.061*\"fund\" + 0.046*\"sent\" + 0.046*\"app\" + 0.038*\"cash\"')\n",
      "(12, '0.224*\"need\" + 0.115*\"know\" + 0.113*\"card\" + 0.069*\"possible\" + 0.069*\"account\" + 0.059*\"cancelled\"')\n",
      "(13, '0.286*\"card\" + 0.113*\"new\" + 0.106*\"virtual\" + 0.087*\"disposable\" + 0.059*\"virtual_card\" + 0.043*\"disposable_virtual\"')\n",
      "(14, '0.098*\"identity\" + 0.095*\"declined\" + 0.080*\"check\" + 0.073*\"transfer\" + 0.059*\"getting\" + 0.049*\"deposit\"')\n",
      "(15, '0.298*\"get\" + 0.238*\"card\" + 0.131*\"want\" + 0.069*\"mastercard\" + 0.060*\"visa\" + 0.049*\"accept\"')\n",
      "(16, '0.243*\"topup\" + 0.137*\"card\" + 0.110*\"charge\" + 0.100*\"tell\" + 0.087*\"working\" + 0.060*\"money\"')\n",
      "(17, '0.154*\"cash\" + 0.124*\"charged\" + 0.105*\"withdrawal\" + 0.095*\"fee\" + 0.091*\"still\" + 0.079*\"pending\"')\n",
      "(18, '0.166*\"long\" + 0.138*\"take\" + 0.084*\"show\" + 0.083*\"transfer\" + 0.069*\"pending\" + 0.063*\"long_take\"')\n"
     ]
    }
   ],
   "source": [
    "topics = model.print_topics(num_words=6)\n",
    "for topic in topics:\n",
    "    print(topic)"
   ]
  },
  {
   "cell_type": "code",
   "execution_count": 57,
   "id": "b461eded-fe85-4c1b-9aed-d9f1f0a56b9e",
   "metadata": {},
   "outputs": [
    {
     "name": "stdout",
     "output_type": "stream",
     "text": [
      "\n",
      "Coherence Score:  0.3623309388715617\n",
      "\n",
      "Perplexity:  -4.946467755307579\n"
     ]
    }
   ],
   "source": [
    "# Compute Coherence Score\n",
    "coherence_model_lda = CoherenceModel(model=model, \n",
    "                                     texts=all_tokens, \n",
    "                                     dictionary=dictionary, \n",
    "                                     coherence='c_v')\n",
    "\n",
    "coherence_lda = coherence_model_lda.get_coherence()\n",
    "print('\\nCoherence Score: ', coherence_lda)\n",
    "\n",
    "print('\\nPerplexity: ', model.log_perplexity(corpus))"
   ]
  },
  {
   "cell_type": "markdown",
   "id": "945811c7-b573-4205-9b20-9ada48e72575",
   "metadata": {},
   "source": [
    "### Visualize the topics"
   ]
  },
  {
   "cell_type": "code",
   "execution_count": null,
   "id": "4d9b917b-eb9a-44f3-8b63-16b1ab1eb58b",
   "metadata": {},
   "outputs": [],
   "source": [
    "pyLDAvis.enable_notebook()\n",
    "LDAvis_prepared = pyLDAvis.gensim_models.prepare(model, corpus, dictionary)\n",
    "LDAvis_prepared"
   ]
  },
  {
   "cell_type": "code",
   "execution_count": null,
   "id": "4ab3fd26-db93-46d9-a3eb-1a48ec3112f8",
   "metadata": {},
   "outputs": [],
   "source": [
    "pyLDAvis.disable_notebook()"
   ]
  },
  {
   "cell_type": "markdown",
   "id": "1380eb97-5ed5-45c1-88bf-d1387b85f12b",
   "metadata": {},
   "source": [
    "## Hierarchical Dirichlet Process"
   ]
  },
  {
   "cell_type": "code",
   "execution_count": 58,
   "id": "ac9a78f7-db69-4826-b41f-dea2aa4a7ab3",
   "metadata": {},
   "outputs": [],
   "source": [
    "hdp = gensim.models.HdpModel(corpus, dictionary)"
   ]
  },
  {
   "cell_type": "code",
   "execution_count": 59,
   "id": "b6865ca8-7125-4434-b550-7d05478863bf",
   "metadata": {},
   "outputs": [
    {
     "data": {
      "text/plain": [
       "0"
      ]
     },
     "execution_count": 59,
     "metadata": {},
     "output_type": "execute_result"
    }
   ],
   "source": [
    "topic_info = hdp.print_topics(num_topics=-1, num_words=10)\n",
    "len(topic_info)"
   ]
  },
  {
   "cell_type": "code",
   "execution_count": 60,
   "id": "1537e3ef-6727-4e6c-9698-fc6d08262c53",
   "metadata": {},
   "outputs": [
    {
     "data": {
      "text/plain": [
       "150"
      ]
     },
     "execution_count": 60,
     "metadata": {},
     "output_type": "execute_result"
    }
   ],
   "source": [
    "len(hdp.get_topics())"
   ]
  },
  {
   "cell_type": "markdown",
   "id": "0e6b5f4c-43d2-44ec-b7a5-ed892202375a",
   "metadata": {},
   "source": [
    "In theory, the HDP algorithm is supposed to be able to automatically determine the number of topics in the data, but this dataset might be too small for it to be useful. See https://radimrehurek.com/gensim/models/hdpmodel.html for more details."
   ]
  },
  {
   "cell_type": "code",
   "execution_count": null,
   "id": "5f36adf1-c9ed-49e0-b005-432b29d3a8c6",
   "metadata": {},
   "outputs": [],
   "source": []
  }
 ],
 "metadata": {
  "kernelspec": {
   "display_name": "Python 3",
   "language": "python",
   "name": "python3"
  },
  "language_info": {
   "codemirror_mode": {
    "name": "ipython",
    "version": 3
   },
   "file_extension": ".py",
   "mimetype": "text/x-python",
   "name": "python",
   "nbconvert_exporter": "python",
   "pygments_lexer": "ipython3",
   "version": "3.9.6"
  }
 },
 "nbformat": 4,
 "nbformat_minor": 5
}
