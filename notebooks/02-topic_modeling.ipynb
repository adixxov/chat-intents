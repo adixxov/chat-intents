{
 "cells": [
  {
   "cell_type": "markdown",
   "id": "19497f47-272b-4848-b193-37dd1aeaf8dd",
   "metadata": {},
   "source": [
    "# Chat Intents\n",
    "\n",
    "## Topic Modeling"
   ]
  },
  {
   "cell_type": "markdown",
   "id": "963e85e1-5fb1-481e-9c14-4b3768cb2402",
   "metadata": {},
   "source": [
    "**Summary**\n",
    "\n",
    "This notebook explores the possibilty of using topic modeling to extract intents from the 1,000 sample subset of the overall bank77 dataset. The scikit-learn and gensim implementations of LDA are investigated. Additionally, Correlation Explanation (https://github.com/gregversteeg/corex_topic), or CorEx, is also included in the analysis. As shown in the analysis below, one of the biggest challenges is identifying how many topics to include.\n",
    "\n",
    "In order to avoid some package dependency conflicts, this notebook was created in a separate virtual environment than the rest of the notebooks and code in this repo. Before being able to run the below notebook, install gensim, pyLDAvis, and CorEx using:\n",
    "\n",
    "`pip install gensim`\n",
    "\n",
    "`pip install pyldavis`\n",
    "\n",
    "`pip install corextopic`"
   ]
  },
  {
   "cell_type": "code",
   "execution_count": 2,
   "id": "31fe2d45-e000-4127-a244-6e4a713d3bdb",
   "metadata": {},
   "outputs": [],
   "source": [
    "import numpy as np\n",
    "import pandas as pd\n",
    "import matplotlib.pyplot as plt\n",
    "%matplotlib inline\n",
    "\n",
    "from sklearn import metrics\n",
    "from sklearn.feature_extraction.text import CountVectorizer\n",
    "from sklearn.feature_extraction.text import TfidfVectorizer\n",
    "from sklearn.decomposition import LatentDirichletAllocation\n",
    "from sklearn.manifold import TSNE\n",
    "\n",
    "import gensim\n",
    "from gensim.corpora.dictionary import Dictionary\n",
    "from gensim.models.phrases import Phrases, Phraser\n",
    "from gensim.models import CoherenceModel\n",
    "import pyLDAvis\n",
    "import pyLDAvis.gensim_models\n",
    "from corextopic import corextopic as ct\n",
    "\n",
    "import warnings\n",
    "warnings.filterwarnings('ignore', category=DeprecationWarning)\n",
    "\n",
    "pd.set_option(\"display.max_rows\", 500)\n",
    "pd.set_option(\"display.max_columns\", 500)\n",
    "pd.set_option(\"max_colwidth\", 400)"
   ]
  },
  {
   "cell_type": "code",
   "execution_count": 3,
   "id": "e048f58d-b79b-464b-a64b-da44ce7e88ec",
   "metadata": {},
   "outputs": [
    {
     "data": {
      "text/html": [
       "<div>\n",
       "<style scoped>\n",
       "    .dataframe tbody tr th:only-of-type {\n",
       "        vertical-align: middle;\n",
       "    }\n",
       "\n",
       "    .dataframe tbody tr th {\n",
       "        vertical-align: top;\n",
       "    }\n",
       "\n",
       "    .dataframe thead th {\n",
       "        text-align: right;\n",
       "    }\n",
       "</style>\n",
       "<table border=\"1\" class=\"dataframe\">\n",
       "  <thead>\n",
       "    <tr style=\"text-align: right;\">\n",
       "      <th></th>\n",
       "      <th>Unnamed: 0</th>\n",
       "      <th>text</th>\n",
       "      <th>category</th>\n",
       "      <th>cleaned_text</th>\n",
       "    </tr>\n",
       "  </thead>\n",
       "  <tbody>\n",
       "    <tr>\n",
       "      <th>0</th>\n",
       "      <td>1024</td>\n",
       "      <td>I'm worried my card might be lost in the mail? How long does it usually take to arrive?</td>\n",
       "      <td>card_delivery_estimate</td>\n",
       "      <td>im worried card might lost mail long usually take arrive</td>\n",
       "    </tr>\n",
       "    <tr>\n",
       "      <th>1</th>\n",
       "      <td>9405</td>\n",
       "      <td>I got charged a fee that shouldn't be there from my cash</td>\n",
       "      <td>cash_withdrawal_charge</td>\n",
       "      <td>got charged fee shouldnt cash</td>\n",
       "    </tr>\n",
       "    <tr>\n",
       "      <th>2</th>\n",
       "      <td>9368</td>\n",
       "      <td>Do you charge for making a withdrawal? I took some money out of my account earlier and I was charged for this.</td>\n",
       "      <td>cash_withdrawal_charge</td>\n",
       "      <td>charge making withdrawal took money account earlier charged</td>\n",
       "    </tr>\n",
       "    <tr>\n",
       "      <th>3</th>\n",
       "      <td>3414</td>\n",
       "      <td>Is there an issue with my account?  I don't see a cheque deposit that I made yesterday.  Please assist.</td>\n",
       "      <td>balance_not_updated_after_cheque_or_cash_deposit</td>\n",
       "      <td>issue account dont see cheque deposit made yesterday please assist</td>\n",
       "    </tr>\n",
       "    <tr>\n",
       "      <th>4</th>\n",
       "      <td>7402</td>\n",
       "      <td>Are there ways for other people to send me money?</td>\n",
       "      <td>receiving_money</td>\n",
       "      <td>way people send money</td>\n",
       "    </tr>\n",
       "  </tbody>\n",
       "</table>\n",
       "</div>"
      ],
      "text/plain": [
       "   Unnamed: 0  \\\n",
       "0        1024   \n",
       "1        9405   \n",
       "2        9368   \n",
       "3        3414   \n",
       "4        7402   \n",
       "\n",
       "                                                                                                             text  \\\n",
       "0                         I'm worried my card might be lost in the mail? How long does it usually take to arrive?   \n",
       "1                                                        I got charged a fee that shouldn't be there from my cash   \n",
       "2  Do you charge for making a withdrawal? I took some money out of my account earlier and I was charged for this.   \n",
       "3         Is there an issue with my account?  I don't see a cheque deposit that I made yesterday.  Please assist.   \n",
       "4                                                               Are there ways for other people to send me money?   \n",
       "\n",
       "                                           category  \\\n",
       "0                            card_delivery_estimate   \n",
       "1                            cash_withdrawal_charge   \n",
       "2                            cash_withdrawal_charge   \n",
       "3  balance_not_updated_after_cheque_or_cash_deposit   \n",
       "4                                   receiving_money   \n",
       "\n",
       "                                                         cleaned_text  \n",
       "0            im worried card might lost mail long usually take arrive  \n",
       "1                                       got charged fee shouldnt cash  \n",
       "2         charge making withdrawal took money account earlier charged  \n",
       "3  issue account dont see cheque deposit made yesterday please assist  \n",
       "4                                               way people send money  "
      ]
     },
     "execution_count": 3,
     "metadata": {},
     "output_type": "execute_result"
    }
   ],
   "source": [
    "data_sample = pd.read_csv('../data/processed/data_sample.csv')\n",
    "data_sample.head()"
   ]
  },
  {
   "cell_type": "code",
   "execution_count": 4,
   "id": "4993da00-b919-40aa-a8b9-5250bbde6a78",
   "metadata": {},
   "outputs": [
    {
     "data": {
      "text/plain": [
       "0              im worried card might lost mail long usually take arrive\n",
       "1                                         got charged fee shouldnt cash\n",
       "2           charge making withdrawal took money account earlier charged\n",
       "3    issue account dont see cheque deposit made yesterday please assist\n",
       "4                                                 way people send money\n",
       "Name: cleaned_text, dtype: object"
      ]
     },
     "execution_count": 4,
     "metadata": {},
     "output_type": "execute_result"
    }
   ],
   "source": [
    "X = data_sample['cleaned_text']\n",
    "X.head()"
   ]
  },
  {
   "cell_type": "code",
   "execution_count": 5,
   "id": "5831e5c9-3603-47e4-8721-2796b6d5b829",
   "metadata": {},
   "outputs": [
    {
     "data": {
      "text/plain": [
       "1000"
      ]
     },
     "execution_count": 5,
     "metadata": {},
     "output_type": "execute_result"
    }
   ],
   "source": [
    "len(X)"
   ]
  },
  {
   "cell_type": "markdown",
   "id": "2df26528-86cd-454d-90fa-22c884f350c0",
   "metadata": {},
   "source": [
    "## LDA with Scikit-learn"
   ]
  },
  {
   "cell_type": "code",
   "execution_count": 6,
   "id": "a2cd5828-874c-4495-aaad-95a956b662e6",
   "metadata": {},
   "outputs": [
    {
     "data": {
      "text/plain": [
       "(1000, 144)"
      ]
     },
     "execution_count": 6,
     "metadata": {},
     "output_type": "execute_result"
    }
   ],
   "source": [
    "count_vectorizer = CountVectorizer(ngram_range = (1, 2), max_df = 900, min_df = 10)\n",
    "\n",
    "transformed_vector = count_vectorizer.fit_transform(X)\n",
    "transformed_vector.shape"
   ]
  },
  {
   "cell_type": "code",
   "execution_count": 7,
   "id": "50d25a60-ab69-47d5-9edc-ad9fac3645f7",
   "metadata": {},
   "outputs": [
    {
     "data": {
      "text/plain": [
       "['able',\n",
       " 'accept',\n",
       " 'account',\n",
       " 'ago',\n",
       " 'already',\n",
       " 'amount',\n",
       " 'app',\n",
       " 'atm',\n",
       " 'back',\n",
       " 'balance']"
      ]
     },
     "execution_count": 7,
     "metadata": {},
     "output_type": "execute_result"
    }
   ],
   "source": [
    "feature_names = count_vectorizer.get_feature_names()\n",
    "feature_names[0:10]"
   ]
  },
  {
   "cell_type": "code",
   "execution_count": 8,
   "id": "301848f7-5e13-4489-b36f-12515fee1b2a",
   "metadata": {},
   "outputs": [
    {
     "name": "stdout",
     "output_type": "stream",
     "text": [
      "CPU times: user 2min 52s, sys: 1.62 s, total: 2min 54s\n",
      "Wall time: 3min 27s\n"
     ]
    }
   ],
   "source": [
    "%%time\n",
    "\n",
    "perplexities = []\n",
    "for NUM_TOPICS in range(5,101):\n",
    "    lda_model = LatentDirichletAllocation(n_components = NUM_TOPICS, max_iter=20)\n",
    "    lda = lda_model.fit_transform(transformed_vector)\n",
    "    perplexities.append(lda_model.perplexity(transformed_vector))"
   ]
  },
  {
   "cell_type": "code",
   "execution_count": 14,
   "id": "405f2543-ae1b-46a4-bbbe-15f95f441d38",
   "metadata": {},
   "outputs": [
    {
     "data": {
      "image/png": "[encoded data removed]",
      "text/plain": [
       "<Figure size 576x432 with 1 Axes>"
      ]
     },
     "metadata": {
      "needs_background": "light"
     },
     "output_type": "display_data"
    }
   ],
   "source": [
    "x = range(5, 101)\n",
    "y = perplexities\n",
    "\n",
    "fig, ax = plt.subplots(figsize=(8,6))\n",
    "ax.plot(x, y)\n",
    "\n",
    "ax.set(xlabel = 'num topics', ylabel = 'perplexity', title = 'LDA')\n",
    "ax.grid()\n",
    "\n",
    "plt.show()"
   ]
  },
  {
   "cell_type": "code",
   "execution_count": 11,
   "id": "601426b9-cff6-44bf-81bb-21e2d6efee76",
   "metadata": {},
   "outputs": [
    {
     "name": "stdout",
     "output_type": "stream",
     "text": [
      "CPU times: user 2min 41s, sys: 1.15 s, total: 2min 42s\n",
      "Wall time: 2min 49s\n"
     ]
    }
   ],
   "source": [
    "%%time\n",
    "\n",
    "scores = []\n",
    "for NUM_TOPICS in range(5,101):\n",
    "    lda_model = LatentDirichletAllocation(n_components = NUM_TOPICS, max_iter=20)\n",
    "    lda = lda_model.fit_transform(transformed_vector)\n",
    "    scores.append(lda_model.score(transformed_vector))"
   ]
  },
  {
   "cell_type": "code",
   "execution_count": 15,
   "id": "d76682de-7769-4643-a3ad-0940417dbc30",
   "metadata": {},
   "outputs": [
    {
     "data": {
      "image/png": "[encoded data removed]",
      "text/plain": [
       "<Figure size 576x432 with 1 Axes>"
      ]
     },
     "metadata": {
      "needs_background": "light"
     },
     "output_type": "display_data"
    }
   ],
   "source": [
    "x = range(5, 101)\n",
    "y = scores\n",
    "\n",
    "fig, ax = plt.subplots(figsize=(8,6))\n",
    "ax.plot(x, y)\n",
    "\n",
    "ax.set(xlabel = 'num topics', ylabel = 'score', title = 'LDA')\n",
    "ax.grid()\n",
    "\n",
    "plt.show()"
   ]
  },
  {
   "cell_type": "markdown",
   "id": "7ba78147-a917-41ba-b99d-781602f8cc11",
   "metadata": {},
   "source": [
    "Some literature suggests that it might be possible to use perplexity (https://en.wikipedia.org/wiki/Perplexity)  to determine an optimal number of topics, but others have questioned relying on it. Regardless, the scikit-learn implementation appears to still have a bug(https://github.com/scikit-learn/scikit-learn/issues/6777) that makes the perplexity value unreliable. "
   ]
  },
  {
   "cell_type": "markdown",
   "id": "c2e82e56-4d0a-4526-9ebe-798242143ff7",
   "metadata": {},
   "source": [
    "### Evaluate a fixed number of topics"
   ]
  },
  {
   "cell_type": "code",
   "execution_count": 16,
   "id": "9f3e2e7c-2c0b-4802-ab8b-bc5313e1874f",
   "metadata": {},
   "outputs": [
    {
     "data": {
      "text/plain": [
       "(1000, 15)"
      ]
     },
     "execution_count": 16,
     "metadata": {},
     "output_type": "execute_result"
    }
   ],
   "source": [
    "NUM_TOPICS = 15\n",
    "\n",
    "lda_model = LatentDirichletAllocation(n_components = NUM_TOPICS, max_iter=20)\n",
    "\n",
    "lda = lda_model.fit_transform(transformed_vector)\n",
    "lda.shape"
   ]
  },
  {
   "cell_type": "code",
   "execution_count": 17,
   "id": "29efaef1-16f7-4215-99aa-31784b3dd023",
   "metadata": {},
   "outputs": [
    {
     "data": {
      "text/plain": [
       "1.0"
      ]
     },
     "execution_count": 17,
     "metadata": {},
     "output_type": "execute_result"
    }
   ],
   "source": [
    "sum(lda[0])"
   ]
  },
  {
   "cell_type": "code",
   "execution_count": 18,
   "id": "44358819-001e-4048-a411-2fe5e206e91d",
   "metadata": {},
   "outputs": [
    {
     "data": {
      "text/plain": [
       "(15, 144)"
      ]
     },
     "execution_count": 18,
     "metadata": {},
     "output_type": "execute_result"
    }
   ],
   "source": [
    "lda_model.components_.shape"
   ]
  },
  {
   "cell_type": "code",
   "execution_count": 19,
   "id": "20a6b6eb-9899-4a71-8e19-f91767702d09",
   "metadata": {},
   "outputs": [
    {
     "data": {
      "text/plain": [
       "-19274.42495861938"
      ]
     },
     "execution_count": 19,
     "metadata": {},
     "output_type": "execute_result"
    }
   ],
   "source": [
    "lda_model.score(transformed_vector)"
   ]
  },
  {
   "cell_type": "code",
   "execution_count": 20,
   "id": "fdcbdb52-6ee9-4f64-a2e5-1c1751f2ed36",
   "metadata": {},
   "outputs": [],
   "source": [
    "def print_topic(identifier, top_words=10):\n",
    "    for topic_id, topic_word_probs in enumerate(lda_model.components_):\n",
    "        if topic_id == identifier:\n",
    "            print(f\"Topic {topic_id}: \")\n",
    "            \n",
    "            top_feature_names = [feature_names[i] for i in topic_word_probs.argsort()[: -top_words - 1: -1]]\n",
    "            \n",
    "            print(\" \".join(top_feature_names))"
   ]
  },
  {
   "cell_type": "code",
   "execution_count": 21,
   "id": "e9eb2c8a-cd11-46d7-8020-f7847edf43b0",
   "metadata": {},
   "outputs": [
    {
     "name": "stdout",
     "output_type": "stream",
     "text": [
      "Topic 0: \n",
      "top use card currency pay tell phone bank cheque stolen\n",
      "Topic 1: \n",
      "card exchange get rate exchange rate virtual virtual card disposable currency used\n",
      "Topic 2: \n",
      "still pending find mastercard possible visa cash transfer earlier made\n",
      "Topic 3: \n",
      "payment app card make card payment made cant didnt account receive\n",
      "Topic 4: \n",
      "charge want debit direct direct debit card didnt see much statement\n",
      "Topic 5: \n",
      "money working show tried balance isnt today check deposit account\n",
      "Topic 6: \n",
      "cash card new withdrawal got cash withdrawal new card get charged reason\n",
      "Topic 7: \n",
      "please help card account using please help cancel need someone made\n",
      "Topic 8: \n",
      "topup long take time one go card transfer pending long take\n",
      "Topic 9: \n",
      "fee charged money yet hasnt extra received transfer charged fee gone\n",
      "Topic 10: \n",
      "would like would like purchase number card know wrong back much\n",
      "Topic 11: \n",
      "account transfer money dont see declined whats going keep money account\n",
      "Topic 12: \n",
      "work fund amount know card withdraw wrong wont atm right\n",
      "Topic 13: \n",
      "card atm identity verification accept getting give could account please\n",
      "Topic 14: \n",
      "refund transaction need pin statement change im bought get showing\n"
     ]
    }
   ],
   "source": [
    "for i in range(NUM_TOPICS):\n",
    "    print_topic(i, top_words=10)"
   ]
  },
  {
   "cell_type": "code",
   "execution_count": 22,
   "id": "f768b08b-fff0-43fe-b7dc-3fa2d044f16f",
   "metadata": {},
   "outputs": [],
   "source": [
    "topics = []\n",
    "\n",
    "for i in range(len(X)):\n",
    "    topics.append(lda[i].argmax())"
   ]
  },
  {
   "cell_type": "code",
   "execution_count": 23,
   "id": "b30dd267-54f2-41ba-875d-e711e4538d01",
   "metadata": {},
   "outputs": [
    {
     "data": {
      "text/html": [
       "<div>\n",
       "<style scoped>\n",
       "    .dataframe tbody tr th:only-of-type {\n",
       "        vertical-align: middle;\n",
       "    }\n",
       "\n",
       "    .dataframe tbody tr th {\n",
       "        vertical-align: top;\n",
       "    }\n",
       "\n",
       "    .dataframe thead th {\n",
       "        text-align: right;\n",
       "    }\n",
       "</style>\n",
       "<table border=\"1\" class=\"dataframe\">\n",
       "  <thead>\n",
       "    <tr style=\"text-align: right;\">\n",
       "      <th></th>\n",
       "      <th>Unnamed: 0</th>\n",
       "      <th>text</th>\n",
       "      <th>category</th>\n",
       "      <th>cleaned_text</th>\n",
       "      <th>topic</th>\n",
       "    </tr>\n",
       "  </thead>\n",
       "  <tbody>\n",
       "    <tr>\n",
       "      <th>0</th>\n",
       "      <td>1024</td>\n",
       "      <td>I'm worried my card might be lost in the mail? How long does it usually take to arrive?</td>\n",
       "      <td>card_delivery_estimate</td>\n",
       "      <td>im worried card might lost mail long usually take arrive</td>\n",
       "      <td>8</td>\n",
       "    </tr>\n",
       "    <tr>\n",
       "      <th>1</th>\n",
       "      <td>9405</td>\n",
       "      <td>I got charged a fee that shouldn't be there from my cash</td>\n",
       "      <td>cash_withdrawal_charge</td>\n",
       "      <td>got charged fee shouldnt cash</td>\n",
       "      <td>9</td>\n",
       "    </tr>\n",
       "    <tr>\n",
       "      <th>2</th>\n",
       "      <td>9368</td>\n",
       "      <td>Do you charge for making a withdrawal? I took some money out of my account earlier and I was charged for this.</td>\n",
       "      <td>cash_withdrawal_charge</td>\n",
       "      <td>charge making withdrawal took money account earlier charged</td>\n",
       "      <td>11</td>\n",
       "    </tr>\n",
       "    <tr>\n",
       "      <th>3</th>\n",
       "      <td>3414</td>\n",
       "      <td>Is there an issue with my account?  I don't see a cheque deposit that I made yesterday.  Please assist.</td>\n",
       "      <td>balance_not_updated_after_cheque_or_cash_deposit</td>\n",
       "      <td>issue account dont see cheque deposit made yesterday please assist</td>\n",
       "      <td>11</td>\n",
       "    </tr>\n",
       "    <tr>\n",
       "      <th>4</th>\n",
       "      <td>7402</td>\n",
       "      <td>Are there ways for other people to send me money?</td>\n",
       "      <td>receiving_money</td>\n",
       "      <td>way people send money</td>\n",
       "      <td>5</td>\n",
       "    </tr>\n",
       "  </tbody>\n",
       "</table>\n",
       "</div>"
      ],
      "text/plain": [
       "   Unnamed: 0  \\\n",
       "0        1024   \n",
       "1        9405   \n",
       "2        9368   \n",
       "3        3414   \n",
       "4        7402   \n",
       "\n",
       "                                                                                                             text  \\\n",
       "0                         I'm worried my card might be lost in the mail? How long does it usually take to arrive?   \n",
       "1                                                        I got charged a fee that shouldn't be there from my cash   \n",
       "2  Do you charge for making a withdrawal? I took some money out of my account earlier and I was charged for this.   \n",
       "3         Is there an issue with my account?  I don't see a cheque deposit that I made yesterday.  Please assist.   \n",
       "4                                                               Are there ways for other people to send me money?   \n",
       "\n",
       "                                           category  \\\n",
       "0                            card_delivery_estimate   \n",
       "1                            cash_withdrawal_charge   \n",
       "2                            cash_withdrawal_charge   \n",
       "3  balance_not_updated_after_cheque_or_cash_deposit   \n",
       "4                                   receiving_money   \n",
       "\n",
       "                                                         cleaned_text  topic  \n",
       "0            im worried card might lost mail long usually take arrive      8  \n",
       "1                                       got charged fee shouldnt cash      9  \n",
       "2         charge making withdrawal took money account earlier charged     11  \n",
       "3  issue account dont see cheque deposit made yesterday please assist     11  \n",
       "4                                               way people send money      5  "
      ]
     },
     "execution_count": 23,
     "metadata": {},
     "output_type": "execute_result"
    }
   ],
   "source": [
    "data_sample['topic'] = topics\n",
    "\n",
    "data_sample.head()"
   ]
  },
  {
   "cell_type": "code",
   "execution_count": 24,
   "id": "26b3f99e-b2d5-4e7d-ab75-70af3d6c7d9a",
   "metadata": {},
   "outputs": [
    {
     "data": {
      "text/plain": [
       "(1000, 2)"
      ]
     },
     "execution_count": 24,
     "metadata": {},
     "output_type": "execute_result"
    }
   ],
   "source": [
    "tsne = TSNE(n_components = 2, init = 'pca', random_state = 0)\n",
    "lda_2d_tsne = tsne.fit_transform(lda)\n",
    "lda_df_tsne = pd.DataFrame(lda_2d_tsne)\n",
    "lda_df_tsne.shape"
   ]
  },
  {
   "cell_type": "code",
   "execution_count": 25,
   "id": "57cbdd67-7b99-4166-ab9d-1608b965aae9",
   "metadata": {},
   "outputs": [
    {
     "data": {
      "text/plain": [
       "<matplotlib.collections.PathCollection at 0x7fc14f214e50>"
      ]
     },
     "execution_count": 25,
     "metadata": {},
     "output_type": "execute_result"
    },
    {
     "data": {
      "image/png": "[encoded data removed]",
      "text/plain": [
       "<Figure size 864x720 with 1 Axes>"
      ]
     },
     "metadata": {
      "needs_background": "light"
     },
     "output_type": "display_data"
    }
   ],
   "source": [
    "plt.subplots(figsize=(12, 10))\n",
    "plt.axis('equal')\n",
    "\n",
    "plt.scatter(lda_df_tsne[0], lda_df_tsne[1], c=data_sample['topic'], cmap = plt.cm.Spectral)"
   ]
  },
  {
   "cell_type": "markdown",
   "id": "b5a4bad2-b7ba-4faa-89b9-8c3b28e349ca",
   "metadata": {},
   "source": [
    "## LDA with Gensim"
   ]
  },
  {
   "cell_type": "markdown",
   "id": "25326920-0c4e-4511-83c0-3676e5077f8c",
   "metadata": {},
   "source": [
    "Gensim is a popular library for performing topic modeling and provides some additional functionality compared to the scikit-learn implementation."
   ]
  },
  {
   "cell_type": "code",
   "execution_count": 26,
   "id": "fc86ca22-94f2-430a-b60e-3cb2b02743c2",
   "metadata": {},
   "outputs": [],
   "source": [
    "all_messages = data_sample['cleaned_text'].values.tolist()\n",
    "all_tokens = [sent.split(' ') for sent in all_messages]"
   ]
  },
  {
   "cell_type": "code",
   "execution_count": 27,
   "id": "0c49c0db-1993-4748-a4ba-7f83e9d822bd",
   "metadata": {},
   "outputs": [],
   "source": [
    "# Add bigrams and trigrams to docs (only ones that appear 10 times or more).\n",
    "bigram_phrases = Phrases(all_tokens, min_count=5)\n",
    "bigram = Phraser(bigram_phrases)\n",
    "\n",
    "for idx in range(len(all_tokens)):\n",
    "    for token in bigram[all_tokens[idx]]:\n",
    "        if '_' in token:\n",
    "            # Token is a bigram, add to document.\n",
    "            all_tokens[idx].append(token)"
   ]
  },
  {
   "cell_type": "code",
   "execution_count": 28,
   "id": "f159eeef-5a0d-46a9-9691-8d601309fdb5",
   "metadata": {},
   "outputs": [
    {
     "data": {
      "text/plain": [
       "{'charged_fee': 11.54074074074074,\n",
       " 'exchange_rate': 61.20364550597109,\n",
       " 'virtual_card': 10.742710795902285,\n",
       " 'whats_going': 22.777777777777775,\n",
       " 'visa_mastercard': 69.55357142857143,\n",
       " 'verify_topup': 13.248299319727892,\n",
       " 'extra_fee': 22.91176470588235,\n",
       " 'please_help': 19.378109452736318,\n",
       " 'direct_debit': 148.3809523809524,\n",
       " 'disposable_virtual': 39.343434343434346,\n",
       " 'would_like': 53.05689102564103,\n",
       " 'change_pin': 22.17267552182163,\n",
       " 'long_take': 24.481458202388435,\n",
       " 'google_pay': 29.285714285714285,\n",
       " 'cash_withdrawal': 21.061643835616437,\n",
       " 'didnt_make': 14.78178368121442,\n",
       " 'still_pending': 10.730027548209367}"
      ]
     },
     "execution_count": 28,
     "metadata": {},
     "output_type": "execute_result"
    }
   ],
   "source": [
    "bigram.phrasegrams"
   ]
  },
  {
   "cell_type": "code",
   "execution_count": 29,
   "id": "0d55b766-b8f4-4ddc-9ee6-cfe730f702b7",
   "metadata": {},
   "outputs": [],
   "source": [
    "dictionary = Dictionary(all_tokens)\n",
    "\n",
    "# filter out words that occur less than 20 documents, or more than 50% of the documents.\n",
    "dictionary.filter_extremes(no_below=10, no_above=0.9)\n",
    "\n",
    "# bag-of-words representation of the documents\n",
    "corpus = [dictionary.doc2bow(text) for text in all_tokens]"
   ]
  },
  {
   "cell_type": "code",
   "execution_count": 30,
   "id": "9826aa0b-0ae0-41f4-a3ed-8883212d767c",
   "metadata": {},
   "outputs": [
    {
     "name": "stdout",
     "output_type": "stream",
     "text": [
      "Number of unique tokens: 139\n",
      "Number of documents: 1000\n"
     ]
    }
   ],
   "source": [
    "print('Number of unique tokens: %d' % len(dictionary))\n",
    "print('Number of documents: %d' % len(corpus))"
   ]
  },
  {
   "cell_type": "markdown",
   "id": "4ab5879b-c993-47a9-b7b4-388a66f80760",
   "metadata": {},
   "source": [
    "Similar size corpus as the scikit-learn implementation above"
   ]
  },
  {
   "cell_type": "markdown",
   "id": "a5128b61-2edc-4448-bb49-fa85e7ede69d",
   "metadata": {},
   "source": [
    "### Iterate through different topic sizes"
   ]
  },
  {
   "cell_type": "markdown",
   "id": "ea87e9a6-42d7-4ec4-8f51-4cc31c463a06",
   "metadata": {},
   "source": [
    "There are numerous coherence metrics, as outlined in the paper (http://svn.aksw.org/papers/2015/WSDM_Topic_Evaluation/public.pdf ) that the gensim implementation is based.\n"
   ]
  },
  {
   "cell_type": "code",
   "execution_count": 33,
   "id": "90f44247-23b9-4172-a364-69d04b602713",
   "metadata": {},
   "outputs": [],
   "source": [
    "def compute_coherence_values(corpus, dictionary, num_topics):\n",
    "    \"\"\"\n",
    "    Returns coherence of LDA model based for a given number of topics\n",
    "    \n",
    "    Arguments:\n",
    "        corpus: list, of bag-of-words representation of each document\n",
    "        dictionary: gensim dictionary oboject of document tokens\n",
    "        num_topics: int, number of topics to model\n",
    "    Returns:\n",
    "        coherence: Cv coherence measure of topic model\n",
    "    \"\"\"\n",
    "    \n",
    "    # Set training parameters\n",
    "    chunksize = 2000\n",
    "    passes = 20\n",
    "    iterations = 400\n",
    "    eval_every = None  \n",
    "    \n",
    "    # Make a index to word dictionary.\n",
    "    temp = dictionary[0]  # This is only to \"load\" the dictionary.\n",
    "    id2word = dictionary.id2token\n",
    "    \n",
    "    lda_model = gensim.models.LdaModel(corpus=corpus,\n",
    "                                       id2word=id2word,\n",
    "                                       chunksize=chunksize,\n",
    "                                       alpha='auto',\n",
    "                                       eta='auto',\n",
    "                                       iterations=iterations,\n",
    "                                       num_topics=num_topics,\n",
    "                                       passes=passes,\n",
    "                                       eval_every=eval_every\n",
    "                                      )\n",
    "    \n",
    "    coherence_model_lda = CoherenceModel(model=lda_model, \n",
    "                                         texts=all_tokens, \n",
    "                                         dictionary=dictionary, \n",
    "                                         coherence='c_v')\n",
    "    \n",
    "    coherence = coherence_model_lda.get_coherence()\n",
    "    #perplexity = lda_model.log_perplexity(corpus)  \n",
    "    \n",
    "    return coherence"
   ]
  },
  {
   "cell_type": "code",
   "execution_count": 34,
   "id": "27eb2e83-96cd-45dc-a0d8-b63c251904c4",
   "metadata": {},
   "outputs": [
    {
     "name": "stdout",
     "output_type": "stream",
     "text": [
      "CPU times: user 7min 14s, sys: 6.26 s, total: 7min 21s\n",
      "Wall time: 9min 50s\n"
     ]
    }
   ],
   "source": [
    "%%time\n",
    "\n",
    "coherence_scores = []\n",
    "#perplexity_scores = []\n",
    "for NUM_TOPICS in range(5,120):\n",
    "    coherence = compute_coherence_values(corpus, dictionary, NUM_TOPICS)\n",
    "    coherence_scores.append(coherence)\n",
    "    #perplexity_scores.append(perplexity)"
   ]
  },
  {
   "cell_type": "code",
   "execution_count": 47,
   "id": "d8f6b2d5-9a37-44f1-abbe-94291375d122",
   "metadata": {},
   "outputs": [
    {
     "data": {
      "image/png": "[encoded data removed]",
      "text/plain": [
       "<Figure size 576x432 with 1 Axes>"
      ]
     },
     "metadata": {
      "needs_background": "light"
     },
     "output_type": "display_data"
    }
   ],
   "source": [
    "x = range(5, 120)\n",
    "y = coherence_scores\n",
    "\n",
    "fig, ax = plt.subplots(figsize=(8,6))\n",
    "ax.plot(x, y)\n",
    "\n",
    "plt.xlabel('num topics', fontsize=18)\n",
    "plt.ylabel('coherence', fontsize=18)\n",
    "plt.title('LDA coherence vs number of topics', fontsize=18)\n",
    "plt.xticks(fontsize=14)\n",
    "plt.yticks(fontsize=14)\n",
    "plt.show()"
   ]
  },
  {
   "cell_type": "code",
   "execution_count": 49,
   "id": "4b3d52d5-3fdc-41bd-9962-117c5335dff5",
   "metadata": {},
   "outputs": [
    {
     "data": {
      "text/plain": [
       "<Figure size 432x288 with 0 Axes>"
      ]
     },
     "metadata": {},
     "output_type": "display_data"
    }
   ],
   "source": [
    "plt.savefig('../images/lda_coherence.png')"
   ]
  },
  {
   "cell_type": "code",
   "execution_count": 46,
   "id": "736043bd-6fbb-4c49-b948-cead29e8a2b1",
   "metadata": {},
   "outputs": [
    {
     "data": {
      "text/plain": [
       "111"
      ]
     },
     "execution_count": 46,
     "metadata": {},
     "output_type": "execute_result"
    }
   ],
   "source": [
    "list(range(5,120))[np.argmax(coherence_scores)]"
   ]
  },
  {
   "cell_type": "markdown",
   "id": "d6e7a3c6-f918-4224-a5bf-885340d36b49",
   "metadata": {},
   "source": [
    "#### Investigate 'optimal' topic number model"
   ]
  },
  {
   "cell_type": "markdown",
   "id": "afd96609-1e3a-4368-b7c5-4d110a6a35a6",
   "metadata": {},
   "source": [
    "The maximum coherence value in the range searched appears to be 111. However, it seems like coherence will continue to increase with more topics. Additionally, 111 is already quite high. Instead, we'll pick an earlier max of ~17 topics as the 'right' number of topics."
   ]
  },
  {
   "cell_type": "code",
   "execution_count": 50,
   "id": "bdf71b52-df55-4aa3-9c85-1545faebe452",
   "metadata": {},
   "outputs": [],
   "source": [
    "# Set training parameters\n",
    "num_topics = 17\n",
    "chunksize = 2000\n",
    "passes = 20\n",
    "iterations = 400\n",
    "eval_every = 5  \n",
    "\n",
    "# Make a index to word dictionary.\n",
    "temp = dictionary[0]  # This is only to \"load\" the dictionary.\n",
    "id2word = dictionary.id2token\n",
    "\n",
    "model = gensim.models.LdaModel(\n",
    "    corpus=corpus,\n",
    "    id2word=id2word,\n",
    "    chunksize=chunksize,\n",
    "    alpha='auto',\n",
    "    eta='auto',\n",
    "    iterations=iterations,\n",
    "    num_topics=num_topics,\n",
    "    passes=passes,\n",
    "    eval_every=eval_every\n",
    ")"
   ]
  },
  {
   "cell_type": "code",
   "execution_count": 51,
   "id": "cdea74a6-6ba0-4dab-ae17-067ae4ed7466",
   "metadata": {
    "scrolled": true,
    "tags": []
   },
   "outputs": [
    {
     "name": "stdout",
     "output_type": "stream",
     "text": [
      "Average topic coherence: -10.4907.\n",
      "[([(0.12516052, 'please'),\n",
      "   (0.08153919, 'help'),\n",
      "   (0.07908079, 'made'),\n",
      "   (0.07508949, 'time'),\n",
      "   (0.058710024, 'showing'),\n",
      "   (0.056938652, 'please_help'),\n",
      "   (0.054309707, 'isnt'),\n",
      "   (0.048946016, 'payment'),\n",
      "   (0.0322507, 'card'),\n",
      "   (0.03158759, 'back'),\n",
      "   (0.030514983, 'pending'),\n",
      "   (0.028451063, 'app'),\n",
      "   (0.02764129, 'still'),\n",
      "   (0.024524467, 'reason'),\n",
      "   (0.019483872, 'refund'),\n",
      "   (0.017030083, 'one'),\n",
      "   (0.015483591, 'yesterday'),\n",
      "   (0.015170098, 'number'),\n",
      "   (0.012674015, 'purchase'),\n",
      "   (0.011751735, 'yet')],\n",
      "  -7.35162825605177),\n",
      " ([(0.21606034, 'payment'),\n",
      "   (0.114384264, 'card'),\n",
      "   (0.07750783, 'cancel'),\n",
      "   (0.055008415, 'made'),\n",
      "   (0.05233831, 'virtual_card'),\n",
      "   (0.046231918, 'virtual'),\n",
      "   (0.03150368, 'cancelled'),\n",
      "   (0.031130899, 'couple'),\n",
      "   (0.030511014, 'transaction'),\n",
      "   (0.029362062, 'account'),\n",
      "   (0.024931824, 'yet'),\n",
      "   (0.024910191, 'dont'),\n",
      "   (0.024256943, 'day'),\n",
      "   (0.023310054, 'hasnt'),\n",
      "   (0.021044552, 'ago'),\n",
      "   (0.01633768, 'make'),\n",
      "   (0.014709163, 'go'),\n",
      "   (0.011266618, 'ive'),\n",
      "   (0.011178118, 'one'),\n",
      "   (0.01064353, 'already')],\n",
      "  -8.935974506930295),\n",
      " ([(0.18107648, 'didnt'),\n",
      "   (0.17476617, 'top'),\n",
      "   (0.10830675, 'debit'),\n",
      "   (0.101121046, 'direct'),\n",
      "   (0.09394229, 'direct_debit'),\n",
      "   (0.04477387, 'payment'),\n",
      "   (0.036767878, 'help'),\n",
      "   (0.027750824, 'work'),\n",
      "   (0.02741351, 'see'),\n",
      "   (0.026816698, 'app'),\n",
      "   (0.023766441, 'dont'),\n",
      "   (0.021998731, 'statement'),\n",
      "   (0.014347792, 'cash'),\n",
      "   (0.0118427705, 'get'),\n",
      "   (0.011136548, 'physical'),\n",
      "   (0.00866849, 'know'),\n",
      "   (0.00856937, 'transaction'),\n",
      "   (0.0076206564, 'find'),\n",
      "   (0.006160796, 'atm'),\n",
      "   (0.004541803, 'card')],\n",
      "  -9.186182809573753),\n",
      " ([(0.19474939, 'exchange'),\n",
      "   (0.16753073, 'rate'),\n",
      "   (0.13595583, 'exchange_rate'),\n",
      "   (0.13042861, 'currency'),\n",
      "   (0.079861514, 'im'),\n",
      "   (0.061092887, 'getting'),\n",
      "   (0.0528236, 'wrong'),\n",
      "   (0.050096802, 'cash'),\n",
      "   (0.021520335, 'purchase'),\n",
      "   (0.020318955, 'get'),\n",
      "   (0.017875966, 'got'),\n",
      "   (0.013835686, 'much'),\n",
      "   (0.009557155, 'change'),\n",
      "   (0.004179033, 'working'),\n",
      "   (0.0035407026, 'transaction'),\n",
      "   (0.0016334652, 'money'),\n",
      "   (0.00072845153, 'charged'),\n",
      "   (0.00061855995, 'top'),\n",
      "   (0.0006127911, 'ive'),\n",
      "   (0.00046120692, 'today')],\n",
      "  -9.211730639888124),\n",
      " ([(0.17880385, 'want'),\n",
      "   (0.16194338, 'bank'),\n",
      "   (0.08327747, 'transfer'),\n",
      "   (0.07606295, 'account'),\n",
      "   (0.0701959, 'top'),\n",
      "   (0.06676871, 'card'),\n",
      "   (0.051130645, 'new'),\n",
      "   (0.04853959, 'pin'),\n",
      "   (0.03449761, 'fee'),\n",
      "   (0.033426676, 'money'),\n",
      "   (0.026620075, 'number'),\n",
      "   (0.016725626, 'im'),\n",
      "   (0.016387707, 'using'),\n",
      "   (0.015704075, 'sent'),\n",
      "   (0.008582159, 'today'),\n",
      "   (0.008516019, 'know'),\n",
      "   (0.007906433, 'one'),\n",
      "   (0.0076765856, 'working'),\n",
      "   (0.0073169186, 'tried'),\n",
      "   (0.007278524, 'missing')],\n",
      "  -9.65365976278251),\n",
      " ([(0.28177944, 'account'),\n",
      "   (0.12448351, 'money'),\n",
      "   (0.07787583, 'show'),\n",
      "   (0.059019063, 'see'),\n",
      "   (0.051165745, 'dont'),\n",
      "   (0.034391966, 'country'),\n",
      "   (0.032319777, 'cash'),\n",
      "   (0.032030508, 'check'),\n",
      "   (0.031208986, 'deposit'),\n",
      "   (0.030653456, 'service'),\n",
      "   (0.02680564, 'need'),\n",
      "   (0.024150215, 'long'),\n",
      "   (0.022285499, 'ago'),\n",
      "   (0.02124304, 'know'),\n",
      "   (0.018917546, 'cheque'),\n",
      "   (0.016329551, 'cant'),\n",
      "   (0.015809406, 'come'),\n",
      "   (0.013090955, 'transaction'),\n",
      "   (0.011262383, 'refund'),\n",
      "   (0.008588812, 'yet')],\n",
      "  -9.822940068779085),\n",
      " ([(0.13565257, 'use'),\n",
      "   (0.12202096, 'app'),\n",
      "   (0.089498535, 'card'),\n",
      "   (0.07690564, 'make'),\n",
      "   (0.06408176, 'identity'),\n",
      "   (0.04638587, 'account'),\n",
      "   (0.04343122, 'need'),\n",
      "   (0.03534922, 'phone'),\n",
      "   (0.032804523, 'verification'),\n",
      "   (0.03026178, 'currency'),\n",
      "   (0.029898906, 'could'),\n",
      "   (0.029775986, 'top'),\n",
      "   (0.025953555, 'whats'),\n",
      "   (0.025786908, 'someone'),\n",
      "   (0.024895597, 'find'),\n",
      "   (0.023465158, 'didnt'),\n",
      "   (0.020890042, 'able'),\n",
      "   (0.019374618, 'stolen'),\n",
      "   (0.01876173, 'cant'),\n",
      "   (0.011967422, 'im')],\n",
      "  -10.164210860268076),\n",
      " ([(0.24455467, 'get'),\n",
      "   (0.20913182, 'card'),\n",
      "   (0.13285764, 'charge'),\n",
      "   (0.07799934, 'new'),\n",
      "   (0.048362687, 'still'),\n",
      "   (0.04763, 'money'),\n",
      "   (0.03923846, 'receive'),\n",
      "   (0.03433736, 'one'),\n",
      "   (0.026397815, 'physical'),\n",
      "   (0.019213991, 'getting'),\n",
      "   (0.016450806, 'cost'),\n",
      "   (0.016029146, 'ive'),\n",
      "   (0.012978866, 'time'),\n",
      "   (0.010095169, 'payment'),\n",
      "   (0.0076132505, 'earlier'),\n",
      "   (0.0054838103, 'come'),\n",
      "   (0.004288604, 'working'),\n",
      "   (0.0040212236, 'pending'),\n",
      "   (0.0039674705, 'declined'),\n",
      "   (0.0032947727, 'received')],\n",
      "  -10.589327699076966),\n",
      " ([(0.24257371, 'transfer'),\n",
      "   (0.09736979, 'long'),\n",
      "   (0.0914541, 'pending'),\n",
      "   (0.08937306, 'withdrawal'),\n",
      "   (0.085730925, 'cash'),\n",
      "   (0.08199108, 'take'),\n",
      "   (0.06006209, 'cash_withdrawal'),\n",
      "   (0.04500908, 'long_take'),\n",
      "   (0.03483215, 'still'),\n",
      "   (0.031865492, 'declined'),\n",
      "   (0.014313407, 'charged'),\n",
      "   (0.013922097, 'atm'),\n",
      "   (0.013677891, 'come'),\n",
      "   (0.012539757, 'see'),\n",
      "   (0.00960748, 'earlier'),\n",
      "   (0.008362126, 'something'),\n",
      "   (0.008297756, 'receive'),\n",
      "   (0.006607583, 'make'),\n",
      "   (0.0061767213, 'fee'),\n",
      "   (0.004893419, 'reason')],\n",
      "  -10.835138290286594),\n",
      " ([(0.1504632, 'atm'),\n",
      "   (0.11027186, 'tried'),\n",
      "   (0.09087587, 'amount'),\n",
      "   (0.08298169, 'withdraw'),\n",
      "   (0.07503583, 'wrong'),\n",
      "   (0.06854284, 'cash'),\n",
      "   (0.05027116, 'money'),\n",
      "   (0.046261437, 'doesnt'),\n",
      "   (0.03798498, 'got'),\n",
      "   (0.03494116, 'something'),\n",
      "   (0.03481438, 'today'),\n",
      "   (0.022864968, 'work'),\n",
      "   (0.018384192, 'yesterday'),\n",
      "   (0.017814554, 'declined'),\n",
      "   (0.017563544, 'correct'),\n",
      "   (0.017117308, 'receive'),\n",
      "   (0.017004294, 'using'),\n",
      "   (0.015627928, 'received'),\n",
      "   (0.012824541, 'whats'),\n",
      "   (0.009489159, 'give')],\n",
      "  -10.885484968618076),\n",
      " ([(0.15248457, 'would'),\n",
      "   (0.12593468, 'like'),\n",
      "   (0.107667, 'need'),\n",
      "   (0.08687726, 'would_like'),\n",
      "   (0.06331902, 'possible'),\n",
      "   (0.062001966, 'know'),\n",
      "   (0.05330336, 'fund'),\n",
      "   (0.052635204, 'refund'),\n",
      "   (0.039603677, 'give'),\n",
      "   (0.03407153, 'please'),\n",
      "   (0.0312198, 'bought'),\n",
      "   (0.026234254, 'something'),\n",
      "   (0.02606331, 'help'),\n",
      "   (0.019668188, 'purchase'),\n",
      "   (0.012059852, 'day'),\n",
      "   (0.010016102, 'im'),\n",
      "   (0.009346252, 'getting'),\n",
      "   (0.008117375, 'cancelled'),\n",
      "   (0.008115391, 'work'),\n",
      "   (0.008094819, 'please_help')],\n",
      "  -10.995075422354851),\n",
      " ([(0.123556875, 'pay'),\n",
      "   (0.11811247, 'extra'),\n",
      "   (0.080738015, 'go'),\n",
      "   (0.078330025, 'need'),\n",
      "   (0.07207205, 'fee'),\n",
      "   (0.069719106, 'extra_fee'),\n",
      "   (0.06582139, 'change'),\n",
      "   (0.054540038, 'top'),\n",
      "   (0.048210233, 'charged'),\n",
      "   (0.02687951, 'one'),\n",
      "   (0.025568146, 'atm'),\n",
      "   (0.023867164, 'got'),\n",
      "   (0.021199655, 'statement'),\n",
      "   (0.019231042, 'pending'),\n",
      "   (0.018722031, 'already'),\n",
      "   (0.015719851, 'please'),\n",
      "   (0.015692772, 'money'),\n",
      "   (0.00978133, 'reason'),\n",
      "   (0.009347327, 'take'),\n",
      "   (0.009125385, 'purchase')],\n",
      "  -11.211073896371675),\n",
      " ([(0.20283353, 'charged'),\n",
      "   (0.20200309, 'topup'),\n",
      "   (0.15668367, 'fee'),\n",
      "   (0.105383374, 'transaction'),\n",
      "   (0.06280997, 'charged_fee'),\n",
      "   (0.051614664, 'verify'),\n",
      "   (0.04925182, 'got'),\n",
      "   (0.027909506, 'cash'),\n",
      "   (0.025041064, 'money'),\n",
      "   (0.017681869, 'card'),\n",
      "   (0.016199583, 'think'),\n",
      "   (0.0135832, 'verification'),\n",
      "   (0.011111194, 'time'),\n",
      "   (0.008201294, 'used'),\n",
      "   (0.00685795, 'ive'),\n",
      "   (0.004588703, 'account'),\n",
      "   (0.0017595323, 'using'),\n",
      "   (0.0008331448, 'see'),\n",
      "   (0.00082753756, 'number'),\n",
      "   (0.0004906318, 'would')],\n",
      "  -11.437514137033979),\n",
      " ([(0.37509266, 'card'),\n",
      "   (0.07791381, 'disposable'),\n",
      "   (0.058795832, 'using'),\n",
      "   (0.048797335, 'virtual'),\n",
      "   (0.046129897, 'used'),\n",
      "   (0.03927872, 'work'),\n",
      "   (0.039059408, 'disposable_virtual'),\n",
      "   (0.03892254, 'someone'),\n",
      "   (0.03481542, 'please'),\n",
      "   (0.034494493, 'right'),\n",
      "   (0.029778464, 'need'),\n",
      "   (0.028332565, 'wasnt'),\n",
      "   (0.027428426, 'think'),\n",
      "   (0.02139419, 'withdrawal'),\n",
      "   (0.017804371, 'wont'),\n",
      "   (0.0077107465, 'correct'),\n",
      "   (0.0072208014, 'help'),\n",
      "   (0.005675344, 'earlier'),\n",
      "   (0.0046850247, 'got'),\n",
      "   (0.0045943237, 'purchase')],\n",
      "  -11.744068386844456),\n",
      " ([(0.12306207, 'refund'),\n",
      "   (0.11576963, 'tell'),\n",
      "   (0.09431308, 'going'),\n",
      "   (0.06554775, 'statement'),\n",
      "   (0.06192365, 'passcode'),\n",
      "   (0.05437252, 'cant'),\n",
      "   (0.053595494, 'payment'),\n",
      "   (0.050865382, 'declined'),\n",
      "   (0.039570976, 'missing'),\n",
      "   (0.030261511, 'whats'),\n",
      "   (0.02954558, 'dont'),\n",
      "   (0.028305378, 'wont'),\n",
      "   (0.028134463, 'ive'),\n",
      "   (0.023008265, 'go'),\n",
      "   (0.021232678, 'yet'),\n",
      "   (0.01972335, 'know'),\n",
      "   (0.017054064, 'help'),\n",
      "   (0.0131049715, 'card'),\n",
      "   (0.012816638, 'work'),\n",
      "   (0.011549325, 'sent')],\n",
      "  -11.930434109525844),\n",
      " ([(0.18207638, 'card'),\n",
      "   (0.121456936, 'working'),\n",
      "   (0.11718554, 'pin'),\n",
      "   (0.06461812, 'accept'),\n",
      "   (0.054129086, 'keep'),\n",
      "   (0.04968405, 'many'),\n",
      "   (0.04952501, 'order'),\n",
      "   (0.040450063, 'atm'),\n",
      "   (0.02995792, 'stolen'),\n",
      "   (0.029243145, 'check'),\n",
      "   (0.028626913, 'please'),\n",
      "   (0.027558135, 'change'),\n",
      "   (0.026419397, 'new'),\n",
      "   (0.021849884, 'already'),\n",
      "   (0.015189835, 'go'),\n",
      "   (0.014948363, 'account'),\n",
      "   (0.014216647, 'cheque'),\n",
      "   (0.012263448, 'declined'),\n",
      "   (0.010397108, 'help'),\n",
      "   (0.010351167, 'use')],\n",
      "  -12.016386830189159),\n",
      " ([(0.17882656, 'money'),\n",
      "   (0.07187332, 'mastercard'),\n",
      "   (0.061482184, 'visa'),\n",
      "   (0.060384504, 'transfer'),\n",
      "   (0.058303293, 'hasnt'),\n",
      "   (0.05652905, 'friend'),\n",
      "   (0.051536333, 'received'),\n",
      "   (0.05145391, 'much'),\n",
      "   (0.05140022, 'balance'),\n",
      "   (0.04930462, 'top'),\n",
      "   (0.04863597, 'gone'),\n",
      "   (0.040144853, 'cost'),\n",
      "   (0.03888328, 'yet'),\n",
      "   (0.037614085, 'sent'),\n",
      "   (0.030586623, 'fund'),\n",
      "   (0.01705318, 'need'),\n",
      "   (0.01624559, 'find'),\n",
      "   (0.015391331, 'missing'),\n",
      "   (0.012979352, 'take'),\n",
      "   (0.0105435755, 'time')],\n",
      "  -12.370902035756679)]\n"
     ]
    }
   ],
   "source": [
    "top_topics = model.top_topics(corpus) #, num_words=20)\n",
    "\n",
    "# Average topic coherence is the sum of topic coherences of all topics, divided by the number of topics.\n",
    "avg_topic_coherence = sum([t[1] for t in top_topics]) / num_topics\n",
    "print('Average topic coherence: %.4f.' % avg_topic_coherence)\n",
    "\n",
    "from pprint import pprint\n",
    "pprint(top_topics)"
   ]
  },
  {
   "cell_type": "code",
   "execution_count": 53,
   "id": "e1f3c314-4f8d-4b8e-9c0f-c657669a43a2",
   "metadata": {},
   "outputs": [
    {
     "name": "stdout",
     "output_type": "stream",
     "text": [
      "(0, '0.125*\"please\" + 0.082*\"help\" + 0.079*\"made\" + 0.075*\"time\" + 0.059*\"showing\"')\n",
      "(1, '0.152*\"would\" + 0.126*\"like\" + 0.108*\"need\" + 0.087*\"would_like\" + 0.063*\"possible\"')\n",
      "(2, '0.150*\"atm\" + 0.110*\"tried\" + 0.091*\"amount\" + 0.083*\"withdraw\" + 0.075*\"wrong\"')\n",
      "(3, '0.123*\"refund\" + 0.116*\"tell\" + 0.094*\"going\" + 0.066*\"statement\" + 0.062*\"passcode\"')\n",
      "(4, '0.203*\"charged\" + 0.202*\"topup\" + 0.157*\"fee\" + 0.105*\"transaction\" + 0.063*\"charged_fee\"')\n",
      "(5, '0.179*\"want\" + 0.162*\"bank\" + 0.083*\"transfer\" + 0.076*\"account\" + 0.070*\"top\"')\n",
      "(6, '0.375*\"card\" + 0.078*\"disposable\" + 0.059*\"using\" + 0.049*\"virtual\" + 0.046*\"used\"')\n",
      "(7, '0.216*\"payment\" + 0.114*\"card\" + 0.078*\"cancel\" + 0.055*\"made\" + 0.052*\"virtual_card\"')\n",
      "(8, '0.195*\"exchange\" + 0.168*\"rate\" + 0.136*\"exchange_rate\" + 0.130*\"currency\" + 0.080*\"im\"')\n",
      "(9, '0.243*\"transfer\" + 0.097*\"long\" + 0.091*\"pending\" + 0.089*\"withdrawal\" + 0.086*\"cash\"')\n",
      "(10, '0.179*\"money\" + 0.072*\"mastercard\" + 0.061*\"visa\" + 0.060*\"transfer\" + 0.058*\"hasnt\"')\n",
      "(11, '0.124*\"pay\" + 0.118*\"extra\" + 0.081*\"go\" + 0.078*\"need\" + 0.072*\"fee\"')\n",
      "(12, '0.136*\"use\" + 0.122*\"app\" + 0.089*\"card\" + 0.077*\"make\" + 0.064*\"identity\"')\n",
      "(13, '0.245*\"get\" + 0.209*\"card\" + 0.133*\"charge\" + 0.078*\"new\" + 0.048*\"still\"')\n",
      "(14, '0.182*\"card\" + 0.121*\"working\" + 0.117*\"pin\" + 0.065*\"accept\" + 0.054*\"keep\"')\n",
      "(15, '0.282*\"account\" + 0.124*\"money\" + 0.078*\"show\" + 0.059*\"see\" + 0.051*\"dont\"')\n",
      "(16, '0.181*\"didnt\" + 0.175*\"top\" + 0.108*\"debit\" + 0.101*\"direct\" + 0.094*\"direct_debit\"')\n"
     ]
    }
   ],
   "source": [
    "topics = model.print_topics(num_words=5)\n",
    "for topic in topics:\n",
    "    print(topic)"
   ]
  },
  {
   "cell_type": "code",
   "execution_count": 54,
   "id": "b461eded-fe85-4c1b-9aed-d9f1f0a56b9e",
   "metadata": {},
   "outputs": [
    {
     "name": "stdout",
     "output_type": "stream",
     "text": [
      "\n",
      "Coherence Score:  0.3523791379051739\n",
      "\n",
      "Perplexity:  -4.930786574073809\n"
     ]
    }
   ],
   "source": [
    "# compute coherence score\n",
    "coherence_model_lda = CoherenceModel(model=model, \n",
    "                                     texts=all_tokens, \n",
    "                                     dictionary=dictionary, \n",
    "                                     coherence='c_v')\n",
    "\n",
    "coherence_lda = coherence_model_lda.get_coherence()\n",
    "print('\\nCoherence Score: ', coherence_lda)\n",
    "\n",
    "print('\\nPerplexity: ', model.log_perplexity(corpus))"
   ]
  },
  {
   "cell_type": "markdown",
   "id": "945811c7-b573-4205-9b20-9ada48e72575",
   "metadata": {},
   "source": [
    "### Visualize the topics"
   ]
  },
  {
   "cell_type": "markdown",
   "id": "48402aa8-be59-4b6b-bcf3-f328b80dda84",
   "metadata": {},
   "source": [
    "pyLDAvis (https://github.com/bmabey/pyLDAvis) is a helpful tool for visualizing topics (although it doesn’t play nicely with Jupyter lab https://github.com/jupyterlab/jupyterlab/issues/7959) "
   ]
  },
  {
   "cell_type": "code",
   "execution_count": null,
   "id": "4d9b917b-eb9a-44f3-8b63-16b1ab1eb58b",
   "metadata": {},
   "outputs": [],
   "source": [
    "pyLDAvis.enable_notebook()\n",
    "LDAvis_prepared = pyLDAvis.gensim_models.prepare(model, corpus, dictionary)\n",
    "LDAvis_prepared"
   ]
  },
  {
   "cell_type": "code",
   "execution_count": null,
   "id": "4ab3fd26-db93-46d9-a3eb-1a48ec3112f8",
   "metadata": {},
   "outputs": [],
   "source": [
    "pyLDAvis.disable_notebook()"
   ]
  },
  {
   "cell_type": "markdown",
   "id": "1380eb97-5ed5-45c1-88bf-d1387b85f12b",
   "metadata": {},
   "source": [
    "## Hierarchical Dirichlet Process"
   ]
  },
  {
   "cell_type": "code",
   "execution_count": 55,
   "id": "ac9a78f7-db69-4826-b41f-dea2aa4a7ab3",
   "metadata": {},
   "outputs": [],
   "source": [
    "hdp = gensim.models.HdpModel(corpus, dictionary)"
   ]
  },
  {
   "cell_type": "code",
   "execution_count": 56,
   "id": "b6865ca8-7125-4434-b550-7d05478863bf",
   "metadata": {},
   "outputs": [
    {
     "data": {
      "text/plain": [
       "0"
      ]
     },
     "execution_count": 56,
     "metadata": {},
     "output_type": "execute_result"
    }
   ],
   "source": [
    "topic_info = hdp.print_topics(num_topics=-1, num_words=10)\n",
    "len(topic_info)"
   ]
  },
  {
   "cell_type": "code",
   "execution_count": 57,
   "id": "1537e3ef-6727-4e6c-9698-fc6d08262c53",
   "metadata": {},
   "outputs": [
    {
     "data": {
      "text/plain": [
       "150"
      ]
     },
     "execution_count": 57,
     "metadata": {},
     "output_type": "execute_result"
    }
   ],
   "source": [
    "len(hdp.get_topics())"
   ]
  },
  {
   "cell_type": "markdown",
   "id": "0e6b5f4c-43d2-44ec-b7a5-ed892202375a",
   "metadata": {},
   "source": [
    "In theory, the HDP algorithm is supposed to be able to automatically determine the number of topics in the data, but this dataset might be too small for it to be useful. See https://radimrehurek.com/gensim/models/hdpmodel.html for more details."
   ]
  },
  {
   "cell_type": "markdown",
   "id": "0423abae-c49b-4f5c-bccb-6ec996e4164c",
   "metadata": {},
   "source": [
    "## CorEx"
   ]
  },
  {
   "cell_type": "code",
   "execution_count": 58,
   "id": "e49838e3-d2a8-4499-950d-e0f2c3bf0024",
   "metadata": {},
   "outputs": [
    {
     "name": "stdout",
     "output_type": "stream",
     "text": [
      "309\n"
     ]
    }
   ],
   "source": [
    "tfidf_vectorizer = TfidfVectorizer(max_df = 1.0, \n",
    "                                   min_df = 5, \n",
    "                                   ngram_range = (1, 2)\n",
    "                                  )\n",
    "\n",
    "vectorizer = tfidf_vectorizer.fit(X)\n",
    "tfidf = vectorizer.transform(X)\n",
    "vocab = vectorizer.get_feature_names()\n",
    "print(len(vocab))"
   ]
  },
  {
   "cell_type": "markdown",
   "id": "7761e5d1-bc7a-430b-b69e-0bf1cdf04f8d",
   "metadata": {},
   "source": [
    "### Without anchor words"
   ]
  },
  {
   "cell_type": "code",
   "execution_count": 59,
   "id": "6096f651-7bd7-4fe3-b180-9cb929725220",
   "metadata": {},
   "outputs": [
    {
     "data": {
      "image/png": "[encoded data removed]",
      "text/plain": [
       "<Figure size 432x288 with 1 Axes>"
      ]
     },
     "metadata": {
      "needs_background": "light"
     },
     "output_type": "display_data"
    }
   ],
   "source": [
    "total_correlation = []\n",
    "\n",
    "for n in range(1, 40):\n",
    "    anchors = []\n",
    "    model = ct.Corex(n_hidden = n, seed = 23)\n",
    "    model = model.fit(tfidf, words=vocab)\n",
    "    total_correlation.append(model.tc)\n",
    "    \n",
    "x = range(1, 40)\n",
    "y = total_correlation\n",
    "\n",
    "fig, ax = plt.subplots()\n",
    "ax.plot(x, y)\n",
    "\n",
    "ax.set(xlabel = 'num topics', ylabel = 'total correlation', title = 'Elow plot')\n",
    "ax.grid()\n",
    "\n",
    "plt.show()"
   ]
  },
  {
   "cell_type": "code",
   "execution_count": 60,
   "id": "36518f92-c9fa-4147-aa10-e9006bd777a8",
   "metadata": {},
   "outputs": [],
   "source": [
    "anchors = []\n",
    "model = ct.Corex(n_hidden=9, seed = 23)\n",
    "model = model.fit(tfidf, words=vocab)"
   ]
  },
  {
   "cell_type": "code",
   "execution_count": 61,
   "id": "c1dc2d69-a86f-4ec0-b02c-2580683a1c00",
   "metadata": {},
   "outputs": [
    {
     "name": "stdout",
     "output_type": "stream",
     "text": [
      "Topic #1: verify, verification, identity, topup, top, verify topup, auto, source, payment, credit card\n",
      "Topic #2: virtual, virtual card, disposable, disposable card, disposable virtual, activate, activate card, card, new card, wont\n",
      "Topic #3: rate, exchange rate, exchange, wrong, correct, foreign, getting cash, item, cash, currency\n",
      "Topic #4: direct debit, direct, debit, recognize, dont recognize, dont, set, strange, payment app, see\n",
      "Topic #5: mastercard, visa, visa mastercard, pin, change pin, change, physical, physical card, card pin, give\n",
      "Topic #6: would like, like, would, delete account, delete, like know, service, know, purchase, understand\n",
      "Topic #7: european, european bank, bank, get charged\n",
      "Topic #8: extra, extra fee, charged extra\n",
      "Topic #9: left, hotel, phone\n"
     ]
    }
   ],
   "source": [
    "for i, topic_ngrams in enumerate(model.get_topics(n_words=10)):\n",
    "    topic_ngrams = [ngram[0] for ngram in topic_ngrams if ngram[1] > 0]\n",
    "    print(f\"Topic #{i+1}: {', '.join(topic_ngrams)}\")"
   ]
  },
  {
   "cell_type": "code",
   "execution_count": 62,
   "id": "692f783a-0fcf-4307-b963-710b0d8cbf35",
   "metadata": {},
   "outputs": [
    {
     "data": {
      "text/html": [
       "<div>\n",
       "<style scoped>\n",
       "    .dataframe tbody tr th:only-of-type {\n",
       "        vertical-align: middle;\n",
       "    }\n",
       "\n",
       "    .dataframe tbody tr th {\n",
       "        vertical-align: top;\n",
       "    }\n",
       "\n",
       "    .dataframe thead th {\n",
       "        text-align: right;\n",
       "    }\n",
       "</style>\n",
       "<table border=\"1\" class=\"dataframe\">\n",
       "  <thead>\n",
       "    <tr style=\"text-align: right;\">\n",
       "      <th></th>\n",
       "      <th>Unnamed: 0</th>\n",
       "      <th>text</th>\n",
       "      <th>category</th>\n",
       "      <th>cleaned_text</th>\n",
       "      <th>topic</th>\n",
       "      <th>topic_1</th>\n",
       "      <th>topic_2</th>\n",
       "      <th>topic_3</th>\n",
       "      <th>topic_4</th>\n",
       "      <th>topic_5</th>\n",
       "      <th>topic_6</th>\n",
       "      <th>topic_7</th>\n",
       "      <th>topic_8</th>\n",
       "      <th>topic_9</th>\n",
       "    </tr>\n",
       "  </thead>\n",
       "  <tbody>\n",
       "    <tr>\n",
       "      <th>515</th>\n",
       "      <td>4583</td>\n",
       "      <td>I need an ATM right now!</td>\n",
       "      <td>atm_support</td>\n",
       "      <td>need atm right</td>\n",
       "      <td>12</td>\n",
       "      <td>0.0</td>\n",
       "      <td>0.0</td>\n",
       "      <td>0.0</td>\n",
       "      <td>0.0</td>\n",
       "      <td>0.0</td>\n",
       "      <td>0.0</td>\n",
       "      <td>0.0</td>\n",
       "      <td>1.0</td>\n",
       "      <td>0.0</td>\n",
       "    </tr>\n",
       "    <tr>\n",
       "      <th>911</th>\n",
       "      <td>9356</td>\n",
       "      <td>Why was I charged for cash withdrawal?</td>\n",
       "      <td>cash_withdrawal_charge</td>\n",
       "      <td>charged cash withdrawal</td>\n",
       "      <td>6</td>\n",
       "      <td>0.0</td>\n",
       "      <td>0.0</td>\n",
       "      <td>0.0</td>\n",
       "      <td>0.0</td>\n",
       "      <td>0.0</td>\n",
       "      <td>0.0</td>\n",
       "      <td>0.0</td>\n",
       "      <td>1.0</td>\n",
       "      <td>0.0</td>\n",
       "    </tr>\n",
       "    <tr>\n",
       "      <th>467</th>\n",
       "      <td>6961</td>\n",
       "      <td>I would like to change the the PIN on my card.</td>\n",
       "      <td>change_pin</td>\n",
       "      <td>would like change pin card</td>\n",
       "      <td>10</td>\n",
       "      <td>0.0</td>\n",
       "      <td>0.0</td>\n",
       "      <td>0.0</td>\n",
       "      <td>0.0</td>\n",
       "      <td>1.0</td>\n",
       "      <td>1.0</td>\n",
       "      <td>0.0</td>\n",
       "      <td>1.0</td>\n",
       "      <td>0.0</td>\n",
       "    </tr>\n",
       "    <tr>\n",
       "      <th>602</th>\n",
       "      <td>9268</td>\n",
       "      <td>How do I active this card?</td>\n",
       "      <td>activate_my_card</td>\n",
       "      <td>active card</td>\n",
       "      <td>1</td>\n",
       "      <td>0.0</td>\n",
       "      <td>0.0</td>\n",
       "      <td>0.0</td>\n",
       "      <td>0.0</td>\n",
       "      <td>0.0</td>\n",
       "      <td>0.0</td>\n",
       "      <td>0.0</td>\n",
       "      <td>1.0</td>\n",
       "      <td>0.0</td>\n",
       "    </tr>\n",
       "    <tr>\n",
       "      <th>975</th>\n",
       "      <td>685</td>\n",
       "      <td>In my statement, there was an extra €1 fee</td>\n",
       "      <td>extra_charge_on_statement</td>\n",
       "      <td>statement extra fee</td>\n",
       "      <td>9</td>\n",
       "      <td>0.0</td>\n",
       "      <td>0.0</td>\n",
       "      <td>0.0</td>\n",
       "      <td>0.0</td>\n",
       "      <td>0.0</td>\n",
       "      <td>0.0</td>\n",
       "      <td>0.0</td>\n",
       "      <td>1.0</td>\n",
       "      <td>0.0</td>\n",
       "    </tr>\n",
       "  </tbody>\n",
       "</table>\n",
       "</div>"
      ],
      "text/plain": [
       "     Unnamed: 0                                            text  \\\n",
       "515        4583                        I need an ATM right now!   \n",
       "911        9356          Why was I charged for cash withdrawal?   \n",
       "467        6961  I would like to change the the PIN on my card.   \n",
       "602        9268                      How do I active this card?   \n",
       "975         685      In my statement, there was an extra €1 fee   \n",
       "\n",
       "                      category                cleaned_text  topic  topic_1  \\\n",
       "515                atm_support              need atm right     12      0.0   \n",
       "911     cash_withdrawal_charge     charged cash withdrawal      6      0.0   \n",
       "467                 change_pin  would like change pin card     10      0.0   \n",
       "602           activate_my_card                 active card      1      0.0   \n",
       "975  extra_charge_on_statement         statement extra fee      9      0.0   \n",
       "\n",
       "     topic_2  topic_3  topic_4  topic_5  topic_6  topic_7  topic_8  topic_9  \n",
       "515      0.0      0.0      0.0      0.0      0.0      0.0      1.0      0.0  \n",
       "911      0.0      0.0      0.0      0.0      0.0      0.0      1.0      0.0  \n",
       "467      0.0      0.0      0.0      1.0      1.0      0.0      1.0      0.0  \n",
       "602      0.0      0.0      0.0      0.0      0.0      0.0      1.0      0.0  \n",
       "975      0.0      0.0      0.0      0.0      0.0      0.0      1.0      0.0  "
      ]
     },
     "execution_count": 62,
     "metadata": {},
     "output_type": "execute_result"
    }
   ],
   "source": [
    "anchor_df = data_sample.copy()\n",
    "\n",
    "topic_df = pd.DataFrame(model.transform(tfidf), \n",
    "                        columns=[f\"topic_{i+1}\" for i in range(model.n_hidden)]\n",
    "                       ).astype(float)\n",
    "\n",
    "topic_df.index = anchor_df.index\n",
    "anchor_df = pd.concat([anchor_df, topic_df], axis=1)\n",
    "anchor_df.sample(5)"
   ]
  },
  {
   "cell_type": "code",
   "execution_count": 65,
   "id": "efc42278-1c7b-4000-a3b9-24e8d224c990",
   "metadata": {},
   "outputs": [
    {
     "data": {
      "text/html": [
       "<div>\n",
       "<style scoped>\n",
       "    .dataframe tbody tr th:only-of-type {\n",
       "        vertical-align: middle;\n",
       "    }\n",
       "\n",
       "    .dataframe tbody tr th {\n",
       "        vertical-align: top;\n",
       "    }\n",
       "\n",
       "    .dataframe thead th {\n",
       "        text-align: right;\n",
       "    }\n",
       "</style>\n",
       "<table border=\"1\" class=\"dataframe\">\n",
       "  <thead>\n",
       "    <tr style=\"text-align: right;\">\n",
       "      <th></th>\n",
       "      <th>Unnamed: 0</th>\n",
       "      <th>text</th>\n",
       "      <th>category</th>\n",
       "      <th>cleaned_text</th>\n",
       "      <th>topic</th>\n",
       "      <th>topic_1</th>\n",
       "      <th>topic_2</th>\n",
       "      <th>topic_3</th>\n",
       "      <th>topic_4</th>\n",
       "      <th>topic_5</th>\n",
       "      <th>topic_6</th>\n",
       "      <th>topic_7</th>\n",
       "      <th>topic_8</th>\n",
       "      <th>topic_9</th>\n",
       "    </tr>\n",
       "  </thead>\n",
       "  <tbody>\n",
       "    <tr>\n",
       "      <th>612</th>\n",
       "      <td>4646</td>\n",
       "      <td>I see a direct debit transaction in my history that I did not set up.</td>\n",
       "      <td>direct_debit_payment_not_recognised</td>\n",
       "      <td>see direct debit transaction history set</td>\n",
       "      <td>4</td>\n",
       "      <td>0.0</td>\n",
       "      <td>0.0</td>\n",
       "      <td>0.0</td>\n",
       "      <td>1.0</td>\n",
       "      <td>0.0</td>\n",
       "      <td>0.0</td>\n",
       "      <td>0.0</td>\n",
       "      <td>1.0</td>\n",
       "      <td>0.0</td>\n",
       "    </tr>\n",
       "    <tr>\n",
       "      <th>188</th>\n",
       "      <td>3528</td>\n",
       "      <td>There's a payment in the app I don't recognize.</td>\n",
       "      <td>card_payment_not_recognised</td>\n",
       "      <td>there payment app dont recognize</td>\n",
       "      <td>3</td>\n",
       "      <td>0.0</td>\n",
       "      <td>0.0</td>\n",
       "      <td>0.0</td>\n",
       "      <td>1.0</td>\n",
       "      <td>0.0</td>\n",
       "      <td>0.0</td>\n",
       "      <td>0.0</td>\n",
       "      <td>1.0</td>\n",
       "      <td>0.0</td>\n",
       "    </tr>\n",
       "    <tr>\n",
       "      <th>424</th>\n",
       "      <td>4797</td>\n",
       "      <td>I do not recognize a direct debit payment that I see on my app</td>\n",
       "      <td>direct_debit_payment_not_recognised</td>\n",
       "      <td>recognize direct debit payment see app</td>\n",
       "      <td>4</td>\n",
       "      <td>0.0</td>\n",
       "      <td>0.0</td>\n",
       "      <td>0.0</td>\n",
       "      <td>1.0</td>\n",
       "      <td>0.0</td>\n",
       "      <td>0.0</td>\n",
       "      <td>0.0</td>\n",
       "      <td>1.0</td>\n",
       "      <td>0.0</td>\n",
       "    </tr>\n",
       "    <tr>\n",
       "      <th>923</th>\n",
       "      <td>3553</td>\n",
       "      <td>There is a payment I don't recognize</td>\n",
       "      <td>card_payment_not_recognised</td>\n",
       "      <td>payment dont recognize</td>\n",
       "      <td>3</td>\n",
       "      <td>0.0</td>\n",
       "      <td>0.0</td>\n",
       "      <td>0.0</td>\n",
       "      <td>1.0</td>\n",
       "      <td>0.0</td>\n",
       "      <td>0.0</td>\n",
       "      <td>0.0</td>\n",
       "      <td>1.0</td>\n",
       "      <td>0.0</td>\n",
       "    </tr>\n",
       "    <tr>\n",
       "      <th>50</th>\n",
       "      <td>4696</td>\n",
       "      <td>I see a direct debit that isn't mine? How can I get my money back?</td>\n",
       "      <td>direct_debit_payment_not_recognised</td>\n",
       "      <td>see direct debit isnt mine get money back</td>\n",
       "      <td>4</td>\n",
       "      <td>0.0</td>\n",
       "      <td>0.0</td>\n",
       "      <td>0.0</td>\n",
       "      <td>1.0</td>\n",
       "      <td>0.0</td>\n",
       "      <td>0.0</td>\n",
       "      <td>0.0</td>\n",
       "      <td>1.0</td>\n",
       "      <td>0.0</td>\n",
       "    </tr>\n",
       "  </tbody>\n",
       "</table>\n",
       "</div>"
      ],
      "text/plain": [
       "     Unnamed: 0  \\\n",
       "612        4646   \n",
       "188        3528   \n",
       "424        4797   \n",
       "923        3553   \n",
       "50         4696   \n",
       "\n",
       "                                                                      text  \\\n",
       "612  I see a direct debit transaction in my history that I did not set up.   \n",
       "188                        There's a payment in the app I don't recognize.   \n",
       "424         I do not recognize a direct debit payment that I see on my app   \n",
       "923                                   There is a payment I don't recognize   \n",
       "50      I see a direct debit that isn't mine? How can I get my money back?   \n",
       "\n",
       "                                category  \\\n",
       "612  direct_debit_payment_not_recognised   \n",
       "188          card_payment_not_recognised   \n",
       "424  direct_debit_payment_not_recognised   \n",
       "923          card_payment_not_recognised   \n",
       "50   direct_debit_payment_not_recognised   \n",
       "\n",
       "                                  cleaned_text  topic  topic_1  topic_2  \\\n",
       "612   see direct debit transaction history set      4      0.0      0.0   \n",
       "188           there payment app dont recognize      3      0.0      0.0   \n",
       "424     recognize direct debit payment see app      4      0.0      0.0   \n",
       "923                     payment dont recognize      3      0.0      0.0   \n",
       "50   see direct debit isnt mine get money back      4      0.0      0.0   \n",
       "\n",
       "     topic_3  topic_4  topic_5  topic_6  topic_7  topic_8  topic_9  \n",
       "612      0.0      1.0      0.0      0.0      0.0      1.0      0.0  \n",
       "188      0.0      1.0      0.0      0.0      0.0      1.0      0.0  \n",
       "424      0.0      1.0      0.0      0.0      0.0      1.0      0.0  \n",
       "923      0.0      1.0      0.0      0.0      0.0      1.0      0.0  \n",
       "50       0.0      1.0      0.0      0.0      0.0      1.0      0.0  "
      ]
     },
     "execution_count": 65,
     "metadata": {},
     "output_type": "execute_result"
    }
   ],
   "source": [
    "anchor_df[anchor_df['topic_4']==1].sample(5)"
   ]
  },
  {
   "cell_type": "markdown",
   "id": "48e26d65-6d3e-4bea-84b2-c8810e982a0d",
   "metadata": {},
   "source": [
    "### With anchor words"
   ]
  },
  {
   "cell_type": "code",
   "execution_count": 66,
   "id": "eb188f33-7a03-4dbb-beef-3251cd6d5887",
   "metadata": {},
   "outputs": [
    {
     "name": "stdout",
     "output_type": "stream",
     "text": [
      "model total correlation: 3.5072613908472703\n"
     ]
    }
   ],
   "source": [
    "anchors = [\n",
    "    ['card'], \n",
    "    ['money'], \n",
    "    ['account'], \n",
    "    ['payment'], \n",
    "    ['transfer'], \n",
    "    ['cash'], \n",
    "    ['exchange', 'rate'], \n",
    "    ['charged'], \n",
    "    ['withdrawal'], \n",
    "    ['fee'], \n",
    "    ['atm'], \n",
    "    ['refund'], \n",
    "    ['pending'], \n",
    "    ['currency'], \n",
    "    ['transaction'], \n",
    "    ['declined'], \n",
    "    ['pin'], \n",
    "    ['balance'], \n",
    "    ['identity'], \n",
    "    ['stolen'], \n",
    "    ['foreign']]\n",
    "\n",
    "anchors = [\n",
    "    [a for a in topic if a in vocab]\n",
    "    for topic in anchors\n",
    "]\n",
    "\n",
    "model = ct.Corex(n_hidden=len(anchors), seed=42)\n",
    "model = model.fit(tfidf, words=vocab, anchors=anchors, anchor_strength=5)\n",
    "print(f\"model total correlation: {model.tc}\")"
   ]
  },
  {
   "cell_type": "code",
   "execution_count": 67,
   "id": "773a402c-b6d0-4c4f-83f7-5dde988b86b6",
   "metadata": {},
   "outputs": [
    {
     "name": "stdout",
     "output_type": "stream",
     "text": [
      "Topic #1: card, virtual card, virtual, disposable, new card, disposable card, get card, disposable virtual, activate, using card\n",
      "Topic #2: money, money account, transferred, get money, transferred money, withdraw money, add money, money back, add, friend\n",
      "Topic #3: account, top account, delete, delete account, daughter, card account, wrong account, topup, dont see, please\n",
      "Topic #4: payment, card payment, payment card, payment cancelled, payment app, payment made, recognize, cancelled, made payment, dont recognize\n",
      "Topic #5: transfer, bank transfer, swift, money transfer, bank, transfer money, long, take, china, long take\n",
      "Topic #6: cash, getting cash, cash deposit, withdrew, deposited, deposit, withdraw, need, got, would\n",
      "Topic #7: exchange, rate, exchange rate, wrong, correct, item, eur, abroad, top, think\n",
      "Topic #8: charged, charged extra, get charged, twice, may, reason, know\n",
      "Topic #9: withdrawal, cash withdrawal, strange, please help, wasnt, believe\n",
      "Topic #10: fee, charged fee, extra fee, extra, european, european bank, place, explain\n",
      "Topic #11: atm, cash atm, tried using, amount, ive, right, without\n",
      "Topic #12: refund, statement, missing, requested refund, bought, requested, request, showing, something, ago\n",
      "Topic #13: pending, still pending, still, pending payment, earlier, say, long time, already, really, time\n",
      "Topic #14: currency, currency use, different, use, multiple, another, available, receive, pay top, additional\n",
      "Topic #15: transaction, cancel transaction, cancel, make, complete, waiting\n",
      "Topic #16: declined, payment declined, keep getting, tried, keep, buy, today, store, went, one\n",
      "Topic #17: pin, change pin, card pin, change, number, let, changed\n",
      "Topic #18: balance, updated, yesterday, isnt, thought, system, error, hasnt, seem\n",
      "Topic #19: identity, verified, verification, trouble, check, verify, able, need verify, like know\n",
      "Topic #20: stolen, phone, wallet, help\n",
      "Topic #21: foreign, incorrect, recently\n"
     ]
    }
   ],
   "source": [
    "for i, topic_ngrams in enumerate(model.get_topics(n_words=10)):\n",
    "    topic_ngrams = [ngram[0] for ngram in topic_ngrams if ngram[1] > 0]\n",
    "    print(f\"Topic #{i+1}: {', '.join(topic_ngrams)}\")"
   ]
  },
  {
   "cell_type": "code",
   "execution_count": null,
   "id": "cd5627b6-3a04-423a-9c10-d692b62d09a2",
   "metadata": {},
   "outputs": [],
   "source": []
  }
 ],
 "metadata": {
  "kernelspec": {
   "display_name": "Python 3",
   "language": "python",
   "name": "python3"
  },
  "language_info": {
   "codemirror_mode": {
    "name": "ipython",
    "version": 3
   },
   "file_extension": ".py",
   "mimetype": "text/x-python",
   "name": "python",
   "nbconvert_exporter": "python",
   "pygments_lexer": "ipython3",
   "version": "3.9.6"
  }
 },
 "nbformat": 4,
 "nbformat_minor": 5
}
