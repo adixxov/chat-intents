{
 "cells": [
  {
   "cell_type": "markdown",
   "id": "3f8bcc5e-f730-43a6-9084-5e2338b0c244",
   "metadata": {},
   "source": [
    "# Chat Intents\n",
    "\n",
    "## UMAP + HDBSCAN"
   ]
  },
  {
   "cell_type": "markdown",
   "id": "0a3cdc30-8cac-4778-8f76-77bb80f667f3",
   "metadata": {},
   "source": [
    "**Summary**\n",
    "\n",
    "This notebook outlines a way to automatically determine the best hyperparameters for UMAP + HDBSCAN. See the `chatintents_tutorial.ipynb` notebook for a tutorial of the chatintents package, which simplifies and makes it easier to use the methods outlined below.\n"
   ]
  },
  {
   "cell_type": "code",
   "execution_count": 1,
   "id": "3c6fb567-223a-4f20-8895-b4352b7ea567",
   "metadata": {},
   "outputs": [],
   "source": [
    "import random\n",
    "from functools import partial\n",
    "\n",
    "import numpy as np\n",
    "import pandas as pd\n",
    "import matplotlib.pyplot as plt\n",
    "import hdbscan\n",
    "import umap\n",
    "import tensorflow as tf\n",
    "import tensorflow_hub as hub\n",
    "from sentence_transformers import SentenceTransformer\n",
    "from sklearn.metrics.cluster import normalized_mutual_info_score\n",
    "from sklearn.metrics.cluster import adjusted_rand_score\n",
    "from tqdm.notebook import trange\n",
    "from hyperopt import fmin, tpe, hp, STATUS_OK, space_eval, Trials\n",
    "\n",
    "pd.set_option(\"display.max_rows\", 600)\n",
    "pd.set_option(\"display.max_columns\", 500)\n",
    "pd.set_option(\"max_colwidth\", 400)"
   ]
  },
  {
   "cell_type": "markdown",
   "id": "1fd4839b-afa4-4714-8b84-16056ec8a284",
   "metadata": {},
   "source": [
    "## Load data and pre-trained models"
   ]
  },
  {
   "cell_type": "code",
   "execution_count": 2,
   "id": "a97675ac-dcb0-4bf2-83a9-48ef9249d9da",
   "metadata": {},
   "outputs": [
    {
     "data": {
      "text/html": [
       "<div>\n",
       "<style scoped>\n",
       "    .dataframe tbody tr th:only-of-type {\n",
       "        vertical-align: middle;\n",
       "    }\n",
       "\n",
       "    .dataframe tbody tr th {\n",
       "        vertical-align: top;\n",
       "    }\n",
       "\n",
       "    .dataframe thead th {\n",
       "        text-align: right;\n",
       "    }\n",
       "</style>\n",
       "<table border=\"1\" class=\"dataframe\">\n",
       "  <thead>\n",
       "    <tr style=\"text-align: right;\">\n",
       "      <th></th>\n",
       "      <th>Unnamed: 0</th>\n",
       "      <th>text</th>\n",
       "      <th>category</th>\n",
       "      <th>cleaned_text</th>\n",
       "    </tr>\n",
       "  </thead>\n",
       "  <tbody>\n",
       "    <tr>\n",
       "      <th>0</th>\n",
       "      <td>1024</td>\n",
       "      <td>I'm worried my card might be lost in the mail? How long does it usually take to arrive?</td>\n",
       "      <td>card_delivery_estimate</td>\n",
       "      <td>im worried card might lost mail long usually take arrive</td>\n",
       "    </tr>\n",
       "    <tr>\n",
       "      <th>1</th>\n",
       "      <td>9405</td>\n",
       "      <td>I got charged a fee that shouldn't be there from my cash</td>\n",
       "      <td>cash_withdrawal_charge</td>\n",
       "      <td>got charged fee shouldnt cash</td>\n",
       "    </tr>\n",
       "    <tr>\n",
       "      <th>2</th>\n",
       "      <td>9368</td>\n",
       "      <td>Do you charge for making a withdrawal? I took some money out of my account earlier and I was charged for this.</td>\n",
       "      <td>cash_withdrawal_charge</td>\n",
       "      <td>charge making withdrawal took money account earlier charged</td>\n",
       "    </tr>\n",
       "    <tr>\n",
       "      <th>3</th>\n",
       "      <td>3414</td>\n",
       "      <td>Is there an issue with my account?  I don't see a cheque deposit that I made yesterday.  Please assist.</td>\n",
       "      <td>balance_not_updated_after_cheque_or_cash_deposit</td>\n",
       "      <td>issue account dont see cheque deposit made yesterday please assist</td>\n",
       "    </tr>\n",
       "    <tr>\n",
       "      <th>4</th>\n",
       "      <td>7402</td>\n",
       "      <td>Are there ways for other people to send me money?</td>\n",
       "      <td>receiving_money</td>\n",
       "      <td>way people send money</td>\n",
       "    </tr>\n",
       "  </tbody>\n",
       "</table>\n",
       "</div>"
      ],
      "text/plain": [
       "   Unnamed: 0  \\\n",
       "0        1024   \n",
       "1        9405   \n",
       "2        9368   \n",
       "3        3414   \n",
       "4        7402   \n",
       "\n",
       "                                                                                                             text  \\\n",
       "0                         I'm worried my card might be lost in the mail? How long does it usually take to arrive?   \n",
       "1                                                        I got charged a fee that shouldn't be there from my cash   \n",
       "2  Do you charge for making a withdrawal? I took some money out of my account earlier and I was charged for this.   \n",
       "3         Is there an issue with my account?  I don't see a cheque deposit that I made yesterday.  Please assist.   \n",
       "4                                                               Are there ways for other people to send me money?   \n",
       "\n",
       "                                           category  \\\n",
       "0                            card_delivery_estimate   \n",
       "1                            cash_withdrawal_charge   \n",
       "2                            cash_withdrawal_charge   \n",
       "3  balance_not_updated_after_cheque_or_cash_deposit   \n",
       "4                                   receiving_money   \n",
       "\n",
       "                                                         cleaned_text  \n",
       "0            im worried card might lost mail long usually take arrive  \n",
       "1                                       got charged fee shouldnt cash  \n",
       "2         charge making withdrawal took money account earlier charged  \n",
       "3  issue account dont see cheque deposit made yesterday please assist  \n",
       "4                                               way people send money  "
      ]
     },
     "execution_count": 2,
     "metadata": {},
     "output_type": "execute_result"
    }
   ],
   "source": [
    "data_sample = pd.read_csv('../data/processed/data_sample.csv')\n",
    "data_sample.head()"
   ]
  },
  {
   "cell_type": "code",
   "execution_count": 3,
   "id": "ddc170db-1e83-4217-98a5-1d97b4543558",
   "metadata": {},
   "outputs": [
    {
     "data": {
      "text/plain": [
       "1000"
      ]
     },
     "execution_count": 3,
     "metadata": {},
     "output_type": "execute_result"
    }
   ],
   "source": [
    "all_intents = list(data_sample['text'])\n",
    "len(all_intents)"
   ]
  },
  {
   "cell_type": "code",
   "execution_count": 4,
   "id": "7cd3c824-2a63-4b01-9a6b-7aae1d132d5e",
   "metadata": {},
   "outputs": [
    {
     "name": "stderr",
     "output_type": "stream",
     "text": [
      "INFO:absl:Using /var/folders/_d/glx67tx142z43y0r2thyl3g80000gn/T/tfhub_modules to cache modules.\n"
     ]
    },
    {
     "name": "stdout",
     "output_type": "stream",
     "text": [
      "module https://tfhub.dev/google/universal-sentence-encoder/4 loaded\n"
     ]
    }
   ],
   "source": [
    "module_url = \"https://tfhub.dev/google/universal-sentence-encoder/4\"\n",
    "model_use = hub.load(module_url)\n",
    "\n",
    "print(f\"module {module_url} loaded\")"
   ]
  },
  {
   "cell_type": "code",
   "execution_count": 5,
   "id": "97016d39-1ffd-4efa-aa25-4cc53fe71ff0",
   "metadata": {
    "scrolled": true,
    "tags": []
   },
   "outputs": [],
   "source": [
    "model_st1 = SentenceTransformer('all-mpnet-base-v2')\n",
    "model_st2 = SentenceTransformer('all-MiniLM-L6-v2')\n",
    "model_st3 = SentenceTransformer('all-distilroberta-v1')"
   ]
  },
  {
   "cell_type": "code",
   "execution_count": 6,
   "id": "b53dbf49-2707-4f49-900c-6de896900818",
   "metadata": {},
   "outputs": [],
   "source": [
    "def embed(model, model_type, sentences):\n",
    "    if model_type == 'use':\n",
    "        embeddings = model(sentences)\n",
    "    elif model_type == 'sentence transformer':\n",
    "        embeddings = model.encode(sentences, show_progress_bar=True)\n",
    "    \n",
    "    return embeddings"
   ]
  },
  {
   "cell_type": "code",
   "execution_count": 7,
   "id": "25f438c7-1e73-479e-ba94-5de20a6062ca",
   "metadata": {},
   "outputs": [],
   "source": [
    "embeddings_use = embed(model_use, 'use', all_intents)"
   ]
  },
  {
   "cell_type": "code",
   "execution_count": 8,
   "id": "03963e44-cffb-49fd-afb4-e6989d8b6514",
   "metadata": {},
   "outputs": [
    {
     "data": {
      "application/vnd.jupyter.widget-view+json": {
       "model_id": "ca3d74c0e3124377ac0d3ec11fab7819",
       "version_major": 2,
       "version_minor": 0
      },
      "text/plain": [
       "Batches:   0%|          | 0/32 [00:00<?, ?it/s]"
      ]
     },
     "metadata": {},
     "output_type": "display_data"
    }
   ],
   "source": [
    "embeddings_st1 = embed(model_st1, 'sentence transformer', all_intents)"
   ]
  },
  {
   "cell_type": "code",
   "execution_count": 9,
   "id": "78b3d55e-5b74-416b-a8a1-74b47d9188f6",
   "metadata": {},
   "outputs": [
    {
     "data": {
      "application/vnd.jupyter.widget-view+json": {
       "model_id": "265f7ca28ae640bc9b87bbc58663f4e9",
       "version_major": 2,
       "version_minor": 0
      },
      "text/plain": [
       "Batches:   0%|          | 0/32 [00:00<?, ?it/s]"
      ]
     },
     "metadata": {},
     "output_type": "display_data"
    }
   ],
   "source": [
    "embeddings_st2 = embed(model_st2, 'sentence transformer', all_intents)"
   ]
  },
  {
   "cell_type": "code",
   "execution_count": 10,
   "id": "ba64e992-9f92-40fd-82dd-71dbf74e1d3f",
   "metadata": {},
   "outputs": [
    {
     "data": {
      "application/vnd.jupyter.widget-view+json": {
       "model_id": "4df1937d5ec7461f956797b51518420c",
       "version_major": 2,
       "version_minor": 0
      },
      "text/plain": [
       "Batches:   0%|          | 0/32 [00:00<?, ?it/s]"
      ]
     },
     "metadata": {},
     "output_type": "display_data"
    }
   ],
   "source": [
    "embeddings_st3 = embed(model_st3, 'sentence transformer', all_intents)"
   ]
  },
  {
   "cell_type": "code",
   "execution_count": 11,
   "id": "7237a94c-5835-436c-b95a-077a477683bc",
   "metadata": {},
   "outputs": [
    {
     "name": "stdout",
     "output_type": "stream",
     "text": [
      "(1000, 512)\n",
      "(1000, 768)\n",
      "(1000, 384)\n",
      "(1000, 768)\n"
     ]
    }
   ],
   "source": [
    "embeddings = [embeddings_use, embeddings_st1, embeddings_st2, embeddings_st3]\n",
    "\n",
    "for embedding in embeddings:\n",
    "    print(embedding.shape)"
   ]
  },
  {
   "cell_type": "markdown",
   "id": "16ce0339-a8d7-42c8-a749-b55f7c980af7",
   "metadata": {},
   "source": [
    "## Helper functions"
   ]
  },
  {
   "cell_type": "code",
   "execution_count": 12,
   "id": "c0500d9f-6da3-427a-9287-fe5bf78ac33a",
   "metadata": {},
   "outputs": [],
   "source": [
    "def generate_clusters(message_embeddings,\n",
    "                      n_neighbors,\n",
    "                      n_components, \n",
    "                      min_cluster_size,\n",
    "                      min_samples = None,\n",
    "                      random_state = None):\n",
    "    \"\"\"\n",
    "    Returns HDBSCAN objects after first performing dimensionality reduction using UMAP\n",
    "    \n",
    "    Arguments:\n",
    "        message_embeddings: embeddings to use\n",
    "        n_neighbors: int, UMAP hyperparameter n_neighbors\n",
    "        n_components: int, UMAP hyperparameter n_components\n",
    "        min_cluster_size: int, HDBSCAN hyperparameter min_cluster_size\n",
    "        min_samples: int, HDBSCAN hyperparameter min_samples\n",
    "        random_state: int, random seed\n",
    "        \n",
    "    Returns:\n",
    "        clusters: HDBSCAN object of clusters\n",
    "    \"\"\"\n",
    "    \n",
    "    umap_embeddings = (umap.UMAP(n_neighbors = n_neighbors, \n",
    "                                n_components = n_components, \n",
    "                                metric = 'cosine', \n",
    "                                random_state=random_state)\n",
    "                            .fit_transform(message_embeddings))\n",
    "\n",
    "    clusters = hdbscan.HDBSCAN(min_cluster_size = min_cluster_size, \n",
    "                               min_samples = min_samples,\n",
    "                               metric='euclidean', \n",
    "                               gen_min_span_tree=True,\n",
    "                               cluster_selection_method='eom').fit(umap_embeddings)\n",
    "    \n",
    "    return clusters"
   ]
  },
  {
   "cell_type": "code",
   "execution_count": 13,
   "id": "6a051571-522d-4ace-99ad-a46af0f46e1f",
   "metadata": {},
   "outputs": [],
   "source": [
    "def score_clusters(clusters, prob_threshold = 0.05):\n",
    "    \"\"\"\n",
    "    Returns the label count and cost of a given clustering\n",
    "\n",
    "    Arguments:\n",
    "        clusters: HDBSCAN clustering object\n",
    "        prob_threshold: float, probability threshold to use for deciding\n",
    "                        what cluster labels are considered low confidence\n",
    "\n",
    "    Returns:\n",
    "        label_count: int, number of unique cluster labels, including noise\n",
    "        cost: float, fraction of data points whose cluster assignment has\n",
    "              a probability below cutoff threshold\n",
    "    \"\"\"\n",
    "    \n",
    "    cluster_labels = clusters.labels_\n",
    "    label_count = len(np.unique(cluster_labels))\n",
    "    total_num = len(clusters.labels_)\n",
    "    cost = (np.count_nonzero(clusters.probabilities_ < prob_threshold)/total_num)\n",
    "    \n",
    "    return label_count, cost"
   ]
  },
  {
   "cell_type": "code",
   "execution_count": 14,
   "id": "63ed3831-173b-401c-8050-bfc0b82e605d",
   "metadata": {},
   "outputs": [],
   "source": [
    "def random_search(embeddings, space, num_evals):\n",
    "    \"\"\"\n",
    "    Randomly search parameter space of clustering pipeline\n",
    "\n",
    "    Arguments:\n",
    "        embeddings: embeddings to use\n",
    "        space: dict, contains keys for 'n_neighbors', 'n_components',\n",
    "               and 'min_cluster_size' and values with\n",
    "               corresponding lists or ranges of parameters to search\n",
    "        num_evals: int, number of random parameter combinations to try\n",
    "\n",
    "    Returns:\n",
    "        df_result: pandas dataframe containing info on each evaluation\n",
    "                   performed, including run_id, parameters used, label\n",
    "                   count, and cost\n",
    "    \"\"\"\n",
    "    \n",
    "    results = []\n",
    "    \n",
    "    for i in trange(num_evals):\n",
    "        n_neighbors = random.choice(space['n_neighbors'])\n",
    "        n_components = random.choice(space['n_components'])\n",
    "        min_cluster_size = random.choice(space['min_cluster_size'])\n",
    "        random_state = space['random_state']\n",
    "        \n",
    "        clusters = generate_clusters(embeddings, \n",
    "                                     n_neighbors=n_neighbors, \n",
    "                                     n_components=n_components, \n",
    "                                     min_cluster_size=min_cluster_size, \n",
    "                                     random_state=random_state)\n",
    "    \n",
    "        label_count, cost = score_clusters(clusters, prob_threshold = 0.05)\n",
    "                \n",
    "        results.append([i, n_neighbors, n_components, min_cluster_size, label_count, cost])\n",
    "    \n",
    "    result_df = pd.DataFrame(results, columns=['run_id', 'n_neighbors', 'n_components', \n",
    "                                               'min_cluster_size', 'label_count', 'cost'])\n",
    "    \n",
    "    return result_df.sort_values(by='cost')"
   ]
  },
  {
   "cell_type": "code",
   "execution_count": 15,
   "id": "11003f1c-59d4-476e-bd9f-4c0d60748222",
   "metadata": {},
   "outputs": [],
   "source": [
    "def objective(params, embeddings, label_lower, label_upper):\n",
    "    \"\"\"\n",
    "    Objective function for hyperopt to minimize\n",
    "\n",
    "    Arguments:\n",
    "        params: dict, contains keys for 'n_neighbors', 'n_components',\n",
    "               'min_cluster_size', 'random_state' and\n",
    "               their values to use for evaluation\n",
    "        embeddings: embeddings to use\n",
    "        label_lower: int, lower end of range of number of expected clusters\n",
    "        label_upper: int, upper end of range of number of expected clusters\n",
    "\n",
    "    Returns:\n",
    "        loss: cost function result incorporating penalties for falling\n",
    "              outside desired range for number of clusters\n",
    "        label_count: int, number of unique cluster labels, including noise\n",
    "        status: string, hypoeropt status\n",
    "\n",
    "        \"\"\"\n",
    "    \n",
    "    clusters = generate_clusters(embeddings, \n",
    "                                 n_neighbors = params['n_neighbors'], \n",
    "                                 n_components = params['n_components'], \n",
    "                                 min_cluster_size = params['min_cluster_size'],\n",
    "                                 random_state = params['random_state'])\n",
    "    \n",
    "    label_count, cost = score_clusters(clusters, prob_threshold = 0.05)\n",
    "    \n",
    "    #15% penalty on the cost function if outside the desired range of groups\n",
    "    if (label_count < label_lower) | (label_count > label_upper):\n",
    "        penalty = 0.15 \n",
    "    else:\n",
    "        penalty = 0\n",
    "    \n",
    "    loss = cost + penalty\n",
    "    \n",
    "    return {'loss': loss, 'label_count': label_count, 'status': STATUS_OK}"
   ]
  },
  {
   "cell_type": "code",
   "execution_count": 16,
   "id": "7e829b7e-4f14-4109-95a9-1516e29dd568",
   "metadata": {},
   "outputs": [],
   "source": [
    "def bayesian_search(embeddings, space, label_lower, label_upper, max_evals=100):\n",
    "    \"\"\"\n",
    "    Perform bayesian search on hyperparameter space using hyperopt\n",
    "\n",
    "    Arguments:\n",
    "        embeddings: embeddings to use\n",
    "        space: dict, contains keys for 'n_neighbors', 'n_components',\n",
    "               'min_cluster_size', and 'random_state' and\n",
    "               values that use built-in hyperopt functions to define\n",
    "               search spaces for each\n",
    "        label_lower: int, lower end of range of number of expected clusters\n",
    "        label_upper: int, upper end of range of number of expected clusters\n",
    "        max_evals: int, maximum number of parameter combinations to try\n",
    "\n",
    "    Saves the following to instance variables:\n",
    "        best_params: dict, contains keys for 'n_neighbors', 'n_components',\n",
    "               'min_cluster_size', 'min_samples', and 'random_state' and\n",
    "               values associated with lowest cost scenario tested\n",
    "        best_clusters: HDBSCAN object associated with lowest cost scenario\n",
    "                       tested\n",
    "        trials: hyperopt trials object for search\n",
    "\n",
    "        \"\"\"\n",
    "    \n",
    "    trials = Trials()\n",
    "    fmin_objective = partial(objective, \n",
    "                             embeddings=embeddings, \n",
    "                             label_lower=label_lower,\n",
    "                             label_upper=label_upper)\n",
    "    \n",
    "    best = fmin(fmin_objective, \n",
    "                space = space, \n",
    "                algo=tpe.suggest,\n",
    "                max_evals=max_evals, \n",
    "                trials=trials)\n",
    "\n",
    "    best_params = space_eval(space, best)\n",
    "    print ('best:')\n",
    "    print (best_params)\n",
    "    print (f\"label count: {trials.best_trial['result']['label_count']}\")\n",
    "    \n",
    "    best_clusters = generate_clusters(embeddings, \n",
    "                                      n_neighbors = best_params['n_neighbors'], \n",
    "                                      n_components = best_params['n_components'], \n",
    "                                      min_cluster_size = best_params['min_cluster_size'],\n",
    "                                      random_state = best_params['random_state'])\n",
    "    \n",
    "    return best_params, best_clusters, trials"
   ]
  },
  {
   "cell_type": "code",
   "execution_count": 17,
   "id": "4962492b-1605-40d0-ab41-2c4aa7690d6a",
   "metadata": {},
   "outputs": [],
   "source": [
    "def combine_results(df_ground, cluster_dict):\n",
    "    \"\"\"\n",
    "    Returns dataframe of all documents and each model's assigned cluster\n",
    "\n",
    "    Arguments:\n",
    "        df_ground: dataframe of original documents with associated ground truth\n",
    "                   labels\n",
    "        cluster_dict: dict, keys as column name for specific model and value as\n",
    "                      best clusters HDBSCAN object\n",
    "\n",
    "    Returns:\n",
    "        df_combined: dataframe of all documents with labels from\n",
    "                     best clusters for each model\n",
    "\n",
    "    \"\"\"\n",
    "\n",
    "    df_combined = df_ground.copy()\n",
    "    \n",
    "    for key, value in cluster_dict.items():\n",
    "        df_combined[key] = value.labels_\n",
    "    \n",
    "    return df_combined"
   ]
  },
  {
   "cell_type": "code",
   "execution_count": 18,
   "id": "8e96b8e8-96d9-43cb-b49f-142076e7aeda",
   "metadata": {},
   "outputs": [],
   "source": [
    "def summarize_results(results_dict, results_df):\n",
    "    \"\"\"\n",
    "    Returns a table summarizing each model's performance compared to ground\n",
    "    truth labels and the model's hyperparametes\n",
    "\n",
    "    Arguments:\n",
    "        results_dict: dict, key is the model name and value is a list of: \n",
    "                      model column name in combine_results output, best_params and best_clusters \n",
    "                      for each model (e.g. ['label_use', best_params_use, trials_use])\n",
    "        results_df: dataframe output of combine_results function; dataframe of all documents \n",
    "                    with labels from best clusters for each model\n",
    "\n",
    "    Returns:\n",
    "        df_final: dataframe with each row including a model name, calculated ARI and NMI,\n",
    "                  loss, label count, and hyperparameters of best model\n",
    "\n",
    "    \"\"\"\n",
    "    \n",
    "    summary = []\n",
    "\n",
    "    for key, value in results_dict.items():\n",
    "        ground_label = results_df['category'].values\n",
    "        predicted_label = results_df[value[0]].values\n",
    "        \n",
    "        ari = np.round(adjusted_rand_score(ground_label, predicted_label), 3)\n",
    "        nmi = np.round(normalized_mutual_info_score(ground_label, predicted_label), 3)\n",
    "        loss = value[2].best_trial['result']['loss']\n",
    "        label_count = value[2].best_trial['result']['label_count']\n",
    "        n_neighbors = value[1]['n_neighbors']\n",
    "        n_components = value[1]['n_components']\n",
    "        min_cluster_size = value[1]['min_cluster_size']\n",
    "        random_state = value[1]['random_state']\n",
    "        \n",
    "        summary.append([key, ari, nmi, loss, label_count, n_neighbors, n_components, \n",
    "                        min_cluster_size, random_state])\n",
    "\n",
    "    df_final = pd.DataFrame(summary, columns=['Model', 'ARI', 'NMI', 'loss', \n",
    "                                              'label_count', 'n_neighbors',\n",
    "                                              'n_components', 'min_cluster_size',\n",
    "                                              'random_state'])\n",
    "    \n",
    "    return df_final.sort_values(by='NMI', ascending=False)"
   ]
  },
  {
   "cell_type": "code",
   "execution_count": 19,
   "id": "4acf9098-3414-484b-a499-d86f1f87d0e9",
   "metadata": {},
   "outputs": [],
   "source": [
    "def plot_clusters(embeddings, clusters, n_neighbors=15, min_dist=0.1):\n",
    "    \"\"\"\n",
    "    Reduce dimensionality of best clusters and plot in 2D\n",
    "\n",
    "    Arguments:\n",
    "        embeddings: embeddings to use\n",
    "        clusteres: HDBSCAN object of clusters\n",
    "        n_neighbors: float, UMAP hyperparameter n_neighbors\n",
    "        min_dist: float, UMAP hyperparameter min_dist for effective\n",
    "                  minimum distance between embedded points\n",
    "\n",
    "    \"\"\"\n",
    "    umap_data = umap.UMAP(n_neighbors=n_neighbors, \n",
    "                          n_components=2, \n",
    "                          min_dist = min_dist,  \n",
    "                          #metric='cosine',\n",
    "                          random_state=42).fit_transform(embeddings)\n",
    "\n",
    "    point_size = 100.0 / np.sqrt(embeddings.shape[0])\n",
    "    \n",
    "    result = pd.DataFrame(umap_data, columns=['x', 'y'])\n",
    "    result['labels'] = clusters.labels_\n",
    "\n",
    "    fig, ax = plt.subplots(figsize=(14, 8))\n",
    "    outliers = result[result.labels == -1]\n",
    "    clustered = result[result.labels != -1]\n",
    "    plt.scatter(outliers.x, outliers.y, color = 'lightgrey', s=point_size)\n",
    "    plt.scatter(clustered.x, clustered.y, c=clustered.labels, s=point_size, cmap='jet')\n",
    "    plt.colorbar()\n",
    "    plt.show()"
   ]
  },
  {
   "cell_type": "markdown",
   "id": "ee38fbbe-69ff-49c9-a14b-b0e05c60e949",
   "metadata": {},
   "source": [
    "## Results with default hyperparameters"
   ]
  },
  {
   "cell_type": "code",
   "execution_count": 20,
   "id": "ecd37ee7-2e78-4b6e-8de7-7ca9c008c83c",
   "metadata": {},
   "outputs": [],
   "source": [
    "clusters_default = generate_clusters(embeddings_st1, \n",
    "                                     n_neighbors = 15, \n",
    "                                     n_components = 5, \n",
    "                                     min_cluster_size = 10,\n",
    "                                     random_state=42)"
   ]
  },
  {
   "cell_type": "code",
   "execution_count": 21,
   "id": "a9f4a4a3-7236-4b8b-9b1a-ca09ae41533a",
   "metadata": {},
   "outputs": [
    {
     "name": "stdout",
     "output_type": "stream",
     "text": [
      "32\n",
      "0.185\n"
     ]
    }
   ],
   "source": [
    "labels_def, cost_def = score_clusters(clusters_default)\n",
    "print(labels_def)\n",
    "print(cost_def)"
   ]
  },
  {
   "cell_type": "markdown",
   "id": "bea58c44-61b0-41d1-adb7-afb273b65f3e",
   "metadata": {},
   "source": [
    "Using the default hyperparameter selections from other applications results in a relatively low number of clusters (although still within our specified range of 30 < num_clusters < 100), but nearly 19% of the data is still labeled as noise."
   ]
  },
  {
   "cell_type": "markdown",
   "id": "692e5dc0-4ed0-4b18-8d80-8fb4668bb96c",
   "metadata": {},
   "source": [
    "## Tuning hyperparameters"
   ]
  },
  {
   "cell_type": "markdown",
   "id": "eff16945-e71a-4e42-be59-9c2d2074bbc4",
   "metadata": {},
   "source": [
    "### Random hyperparameter search"
   ]
  },
  {
   "cell_type": "code",
   "execution_count": 22,
   "id": "7f95f326-5ed7-456e-afe7-c774206352a9",
   "metadata": {},
   "outputs": [
    {
     "data": {
      "application/vnd.jupyter.widget-view+json": {
       "model_id": "ab26cb933a6341a9bd7008f768ff1167",
       "version_major": 2,
       "version_minor": 0
      },
      "text/plain": [
       "  0%|          | 0/100 [00:00<?, ?it/s]"
      ]
     },
     "metadata": {},
     "output_type": "display_data"
    },
    {
     "name": "stdout",
     "output_type": "stream",
     "text": [
      "CPU times: user 6min 7s, sys: 4.63 s, total: 6min 12s\n",
      "Wall time: 5min 43s\n"
     ]
    }
   ],
   "source": [
    "%%time\n",
    "\n",
    "space = {\n",
    "        \"n_neighbors\": range(12,16),\n",
    "        \"n_components\": range(3,7),\n",
    "        \"min_cluster_size\": range(2,16),\n",
    "        \"random_state\": 42\n",
    "    }\n",
    "\n",
    "random_use = random_search(embeddings_use, space, 100)"
   ]
  },
  {
   "cell_type": "code",
   "execution_count": 23,
   "id": "0483c7dd-7ad9-4af9-9fc2-9d4e9949f6ea",
   "metadata": {},
   "outputs": [
    {
     "data": {
      "text/html": [
       "<div>\n",
       "<style scoped>\n",
       "    .dataframe tbody tr th:only-of-type {\n",
       "        vertical-align: middle;\n",
       "    }\n",
       "\n",
       "    .dataframe tbody tr th {\n",
       "        vertical-align: top;\n",
       "    }\n",
       "\n",
       "    .dataframe thead th {\n",
       "        text-align: right;\n",
       "    }\n",
       "</style>\n",
       "<table border=\"1\" class=\"dataframe\">\n",
       "  <thead>\n",
       "    <tr style=\"text-align: right;\">\n",
       "      <th></th>\n",
       "      <th>run_id</th>\n",
       "      <th>n_neighbors</th>\n",
       "      <th>n_components</th>\n",
       "      <th>min_cluster_size</th>\n",
       "      <th>label_count</th>\n",
       "      <th>cost</th>\n",
       "    </tr>\n",
       "  </thead>\n",
       "  <tbody>\n",
       "    <tr>\n",
       "      <th>38</th>\n",
       "      <td>38</td>\n",
       "      <td>12</td>\n",
       "      <td>4</td>\n",
       "      <td>14</td>\n",
       "      <td>2</td>\n",
       "      <td>0.000</td>\n",
       "    </tr>\n",
       "    <tr>\n",
       "      <th>35</th>\n",
       "      <td>35</td>\n",
       "      <td>13</td>\n",
       "      <td>5</td>\n",
       "      <td>12</td>\n",
       "      <td>7</td>\n",
       "      <td>0.025</td>\n",
       "    </tr>\n",
       "    <tr>\n",
       "      <th>7</th>\n",
       "      <td>7</td>\n",
       "      <td>13</td>\n",
       "      <td>5</td>\n",
       "      <td>13</td>\n",
       "      <td>7</td>\n",
       "      <td>0.025</td>\n",
       "    </tr>\n",
       "    <tr>\n",
       "      <th>14</th>\n",
       "      <td>14</td>\n",
       "      <td>13</td>\n",
       "      <td>5</td>\n",
       "      <td>13</td>\n",
       "      <td>7</td>\n",
       "      <td>0.025</td>\n",
       "    </tr>\n",
       "    <tr>\n",
       "      <th>89</th>\n",
       "      <td>89</td>\n",
       "      <td>13</td>\n",
       "      <td>5</td>\n",
       "      <td>14</td>\n",
       "      <td>7</td>\n",
       "      <td>0.026</td>\n",
       "    </tr>\n",
       "    <tr>\n",
       "      <th>22</th>\n",
       "      <td>22</td>\n",
       "      <td>15</td>\n",
       "      <td>5</td>\n",
       "      <td>12</td>\n",
       "      <td>7</td>\n",
       "      <td>0.029</td>\n",
       "    </tr>\n",
       "    <tr>\n",
       "      <th>92</th>\n",
       "      <td>92</td>\n",
       "      <td>14</td>\n",
       "      <td>5</td>\n",
       "      <td>14</td>\n",
       "      <td>7</td>\n",
       "      <td>0.031</td>\n",
       "    </tr>\n",
       "    <tr>\n",
       "      <th>81</th>\n",
       "      <td>81</td>\n",
       "      <td>14</td>\n",
       "      <td>3</td>\n",
       "      <td>11</td>\n",
       "      <td>17</td>\n",
       "      <td>0.123</td>\n",
       "    </tr>\n",
       "    <tr>\n",
       "      <th>53</th>\n",
       "      <td>53</td>\n",
       "      <td>14</td>\n",
       "      <td>3</td>\n",
       "      <td>11</td>\n",
       "      <td>17</td>\n",
       "      <td>0.123</td>\n",
       "    </tr>\n",
       "    <tr>\n",
       "      <th>86</th>\n",
       "      <td>86</td>\n",
       "      <td>15</td>\n",
       "      <td>5</td>\n",
       "      <td>4</td>\n",
       "      <td>59</td>\n",
       "      <td>0.140</td>\n",
       "    </tr>\n",
       "    <tr>\n",
       "      <th>60</th>\n",
       "      <td>60</td>\n",
       "      <td>12</td>\n",
       "      <td>6</td>\n",
       "      <td>2</td>\n",
       "      <td>127</td>\n",
       "      <td>0.143</td>\n",
       "    </tr>\n",
       "    <tr>\n",
       "      <th>91</th>\n",
       "      <td>91</td>\n",
       "      <td>14</td>\n",
       "      <td>3</td>\n",
       "      <td>3</td>\n",
       "      <td>78</td>\n",
       "      <td>0.145</td>\n",
       "    </tr>\n",
       "    <tr>\n",
       "      <th>79</th>\n",
       "      <td>79</td>\n",
       "      <td>14</td>\n",
       "      <td>5</td>\n",
       "      <td>2</td>\n",
       "      <td>124</td>\n",
       "      <td>0.148</td>\n",
       "    </tr>\n",
       "    <tr>\n",
       "      <th>80</th>\n",
       "      <td>80</td>\n",
       "      <td>12</td>\n",
       "      <td>4</td>\n",
       "      <td>2</td>\n",
       "      <td>134</td>\n",
       "      <td>0.148</td>\n",
       "    </tr>\n",
       "    <tr>\n",
       "      <th>69</th>\n",
       "      <td>69</td>\n",
       "      <td>15</td>\n",
       "      <td>5</td>\n",
       "      <td>5</td>\n",
       "      <td>45</td>\n",
       "      <td>0.149</td>\n",
       "    </tr>\n",
       "    <tr>\n",
       "      <th>61</th>\n",
       "      <td>61</td>\n",
       "      <td>15</td>\n",
       "      <td>5</td>\n",
       "      <td>8</td>\n",
       "      <td>26</td>\n",
       "      <td>0.152</td>\n",
       "    </tr>\n",
       "    <tr>\n",
       "      <th>37</th>\n",
       "      <td>37</td>\n",
       "      <td>15</td>\n",
       "      <td>5</td>\n",
       "      <td>8</td>\n",
       "      <td>26</td>\n",
       "      <td>0.152</td>\n",
       "    </tr>\n",
       "    <tr>\n",
       "      <th>87</th>\n",
       "      <td>87</td>\n",
       "      <td>13</td>\n",
       "      <td>5</td>\n",
       "      <td>6</td>\n",
       "      <td>38</td>\n",
       "      <td>0.157</td>\n",
       "    </tr>\n",
       "    <tr>\n",
       "      <th>90</th>\n",
       "      <td>90</td>\n",
       "      <td>13</td>\n",
       "      <td>6</td>\n",
       "      <td>2</td>\n",
       "      <td>121</td>\n",
       "      <td>0.157</td>\n",
       "    </tr>\n",
       "    <tr>\n",
       "      <th>48</th>\n",
       "      <td>48</td>\n",
       "      <td>14</td>\n",
       "      <td>4</td>\n",
       "      <td>3</td>\n",
       "      <td>89</td>\n",
       "      <td>0.159</td>\n",
       "    </tr>\n",
       "    <tr>\n",
       "      <th>18</th>\n",
       "      <td>18</td>\n",
       "      <td>12</td>\n",
       "      <td>5</td>\n",
       "      <td>10</td>\n",
       "      <td>22</td>\n",
       "      <td>0.160</td>\n",
       "    </tr>\n",
       "    <tr>\n",
       "      <th>54</th>\n",
       "      <td>54</td>\n",
       "      <td>12</td>\n",
       "      <td>6</td>\n",
       "      <td>3</td>\n",
       "      <td>89</td>\n",
       "      <td>0.163</td>\n",
       "    </tr>\n",
       "    <tr>\n",
       "      <th>44</th>\n",
       "      <td>44</td>\n",
       "      <td>15</td>\n",
       "      <td>5</td>\n",
       "      <td>11</td>\n",
       "      <td>19</td>\n",
       "      <td>0.166</td>\n",
       "    </tr>\n",
       "    <tr>\n",
       "      <th>84</th>\n",
       "      <td>84</td>\n",
       "      <td>15</td>\n",
       "      <td>5</td>\n",
       "      <td>11</td>\n",
       "      <td>19</td>\n",
       "      <td>0.166</td>\n",
       "    </tr>\n",
       "    <tr>\n",
       "      <th>19</th>\n",
       "      <td>19</td>\n",
       "      <td>15</td>\n",
       "      <td>6</td>\n",
       "      <td>5</td>\n",
       "      <td>45</td>\n",
       "      <td>0.169</td>\n",
       "    </tr>\n",
       "  </tbody>\n",
       "</table>\n",
       "</div>"
      ],
      "text/plain": [
       "    run_id  n_neighbors  n_components  min_cluster_size  label_count   cost\n",
       "38      38           12             4                14            2  0.000\n",
       "35      35           13             5                12            7  0.025\n",
       "7        7           13             5                13            7  0.025\n",
       "14      14           13             5                13            7  0.025\n",
       "89      89           13             5                14            7  0.026\n",
       "22      22           15             5                12            7  0.029\n",
       "92      92           14             5                14            7  0.031\n",
       "81      81           14             3                11           17  0.123\n",
       "53      53           14             3                11           17  0.123\n",
       "86      86           15             5                 4           59  0.140\n",
       "60      60           12             6                 2          127  0.143\n",
       "91      91           14             3                 3           78  0.145\n",
       "79      79           14             5                 2          124  0.148\n",
       "80      80           12             4                 2          134  0.148\n",
       "69      69           15             5                 5           45  0.149\n",
       "61      61           15             5                 8           26  0.152\n",
       "37      37           15             5                 8           26  0.152\n",
       "87      87           13             5                 6           38  0.157\n",
       "90      90           13             6                 2          121  0.157\n",
       "48      48           14             4                 3           89  0.159\n",
       "18      18           12             5                10           22  0.160\n",
       "54      54           12             6                 3           89  0.163\n",
       "44      44           15             5                11           19  0.166\n",
       "84      84           15             5                11           19  0.166\n",
       "19      19           15             6                 5           45  0.169"
      ]
     },
     "execution_count": 23,
     "metadata": {},
     "output_type": "execute_result"
    }
   ],
   "source": [
    "random_use.head(25)"
   ]
  },
  {
   "cell_type": "markdown",
   "id": "89502189-0e3f-4b1b-af25-9df568582846",
   "metadata": {},
   "source": [
    "### Bayesian optimization with Hyperopt"
   ]
  },
  {
   "cell_type": "code",
   "execution_count": 29,
   "id": "b4cbeee3-d676-4849-8718-7fa77ba8d771",
   "metadata": {},
   "outputs": [],
   "source": [
    "hspace = {\n",
    "    \"n_neighbors\": hp.choice('n_neighbors', range(3,16)),\n",
    "    \"n_components\": hp.choice('n_components', range(3,16)),\n",
    "    \"min_cluster_size\": hp.choice('min_cluster_size', range(2,16)),\n",
    "    \"random_state\": 42\n",
    "}\n",
    "\n",
    "label_lower = 30\n",
    "label_upper = 100\n",
    "max_evals = 100"
   ]
  },
  {
   "cell_type": "code",
   "execution_count": 30,
   "id": "fa21cf93-2efb-41a1-823a-d904f16b2db4",
   "metadata": {},
   "outputs": [
    {
     "name": "stdout",
     "output_type": "stream",
     "text": [
      "100%|██████████| 100/100 [05:18<00:00,  3.18s/trial, best loss: 0.086]\n",
      "best:\n",
      "{'min_cluster_size': 4, 'n_components': 5, 'n_neighbors': 3, 'random_state': 42}\n",
      "label count: 79\n"
     ]
    }
   ],
   "source": [
    "best_params_use, best_clusters_use, trials_use = bayesian_search(embeddings_use, \n",
    "                                                                 space=hspace, \n",
    "                                                                 label_lower=label_lower, \n",
    "                                                                 label_upper=label_upper, \n",
    "                                                                 max_evals=max_evals)"
   ]
  },
  {
   "cell_type": "code",
   "execution_count": 31,
   "id": "6f12e2ce-dbea-40c3-98d5-9444355f811e",
   "metadata": {},
   "outputs": [
    {
     "data": {
      "text/plain": [
       "{'state': 2,\n",
       " 'tid': 34,\n",
       " 'spec': None,\n",
       " 'result': {'loss': 0.086, 'label_count': 79, 'status': 'ok'},\n",
       " 'misc': {'tid': 34,\n",
       "  'cmd': ('domain_attachment', 'FMinIter_Domain'),\n",
       "  'workdir': None,\n",
       "  'idxs': {'min_cluster_size': [34],\n",
       "   'n_components': [34],\n",
       "   'n_neighbors': [34]},\n",
       "  'vals': {'min_cluster_size': [2], 'n_components': [2], 'n_neighbors': [0]}},\n",
       " 'exp_key': None,\n",
       " 'owner': None,\n",
       " 'version': 0,\n",
       " 'book_time': datetime.datetime(2021, 10, 6, 0, 33, 31, 837000),\n",
       " 'refresh_time': datetime.datetime(2021, 10, 6, 0, 33, 34, 502000)}"
      ]
     },
     "execution_count": 31,
     "metadata": {},
     "output_type": "execute_result"
    }
   ],
   "source": [
    "trials_use.best_trial"
   ]
  },
  {
   "cell_type": "code",
   "execution_count": 32,
   "id": "6216d172-86b2-4d3f-8378-1c0b8dc64c24",
   "metadata": {},
   "outputs": [
    {
     "name": "stdout",
     "output_type": "stream",
     "text": [
      "100%|██████████| 100/100 [06:08<00:00,  3.68s/trial, best loss: 0.056]\n",
      "best:\n",
      "{'min_cluster_size': 6, 'n_components': 9, 'n_neighbors': 6, 'random_state': 42}\n",
      "label count: 55\n"
     ]
    }
   ],
   "source": [
    "best_params_st1, best_clusters_st1, trials_st1 = bayesian_search(embeddings_st1, \n",
    "                                                                 space=hspace, \n",
    "                                                                 label_lower=label_lower, \n",
    "                                                                 label_upper=label_upper, \n",
    "                                                                 max_evals=max_evals)"
   ]
  },
  {
   "cell_type": "code",
   "execution_count": 33,
   "id": "c21e2938-e537-43f2-8678-50e29467a45a",
   "metadata": {},
   "outputs": [
    {
     "name": "stdout",
     "output_type": "stream",
     "text": [
      "100%|██████████| 100/100 [05:20<00:00,  3.20s/trial, best loss: 0.075]\n",
      "best:\n",
      "{'min_cluster_size': 6, 'n_components': 11, 'n_neighbors': 4, 'random_state': 42}\n",
      "label count: 56\n"
     ]
    }
   ],
   "source": [
    "best_params_st2, best_clusters_st2, trials_st2 = bayesian_search(embeddings_st2, \n",
    "                                                                 space=hspace, \n",
    "                                                                 label_lower=label_lower, \n",
    "                                                                 label_upper=label_upper, \n",
    "                                                                 max_evals=max_evals)"
   ]
  },
  {
   "cell_type": "code",
   "execution_count": 34,
   "id": "57922da2-0acf-4515-96ee-ae2e69188599",
   "metadata": {},
   "outputs": [
    {
     "name": "stdout",
     "output_type": "stream",
     "text": [
      "100%|██████████| 100/100 [06:12<00:00,  3.73s/trial, best loss: 0.079]            \n",
      "best:\n",
      "{'min_cluster_size': 5, 'n_components': 9, 'n_neighbors': 5, 'random_state': 42}\n",
      "label count: 68\n"
     ]
    }
   ],
   "source": [
    "best_params_st3, best_clusters_st3, trials_st3 = bayesian_search(embeddings_st3, \n",
    "                                                                 space=hspace, \n",
    "                                                                 label_lower=30, \n",
    "                                                                 label_upper=100, \n",
    "                                                                 max_evals=100)"
   ]
  },
  {
   "cell_type": "markdown",
   "id": "45dcd399-f4de-4676-a68c-9edcf13a987b",
   "metadata": {},
   "source": [
    "## Evaluate clusters"
   ]
  },
  {
   "cell_type": "markdown",
   "id": "33768528-9a03-4216-9f99-3fe13d3a7053",
   "metadata": {
    "tags": []
   },
   "source": [
    "### Visually inspect clusters"
   ]
  },
  {
   "cell_type": "code",
   "execution_count": 35,
   "id": "2fcd3f1f-13cd-467a-95ac-042cdbf70582",
   "metadata": {
    "tags": []
   },
   "outputs": [
    {
     "data": {
      "image/png": "[encoded data removed]",
      "text/plain": [
       "<Figure size 1008x576 with 2 Axes>"
      ]
     },
     "metadata": {
      "needs_background": "light"
     },
     "output_type": "display_data"
    }
   ],
   "source": [
    "plot_clusters(embeddings_use, best_clusters_use)"
   ]
  },
  {
   "cell_type": "code",
   "execution_count": 36,
   "id": "0d03980d-81b9-438c-a00c-e898d139ca6d",
   "metadata": {},
   "outputs": [
    {
     "data": {
      "image/png": "[encoded data removed]",
      "text/plain": [
       "<Figure size 1008x576 with 2 Axes>"
      ]
     },
     "metadata": {
      "needs_background": "light"
     },
     "output_type": "display_data"
    }
   ],
   "source": [
    "plot_clusters(embeddings_st1, best_clusters_st1)"
   ]
  },
  {
   "cell_type": "code",
   "execution_count": 37,
   "id": "3fb3f6ae-cf30-487c-909c-bbaa8089d631",
   "metadata": {},
   "outputs": [
    {
     "data": {
      "image/png": "[encoded data removed]",
      "text/plain": [
       "<Figure size 1008x576 with 2 Axes>"
      ]
     },
     "metadata": {
      "needs_background": "light"
     },
     "output_type": "display_data"
    }
   ],
   "source": [
    "plot_clusters(embeddings_st2, best_clusters_st2)"
   ]
  },
  {
   "cell_type": "code",
   "execution_count": 38,
   "id": "d10a6ef2-9715-4e64-8851-610da8d65b2a",
   "metadata": {},
   "outputs": [
    {
     "data": {
      "image/png": "[encoded data removed]",
      "text/plain": [
       "<Figure size 1008x576 with 2 Axes>"
      ]
     },
     "metadata": {
      "needs_background": "light"
     },
     "output_type": "display_data"
    }
   ],
   "source": [
    "plot_clusters(embeddings_st3, best_clusters_st3)"
   ]
  },
  {
   "cell_type": "markdown",
   "id": "8f84e273-7c7c-453f-ac43-cdbe45be42c6",
   "metadata": {
    "tags": []
   },
   "source": [
    "### Compare clustering performance using ground truth labels"
   ]
  },
  {
   "cell_type": "code",
   "execution_count": 39,
   "id": "0d77c824-a3b9-4603-a834-286ce2e815ec",
   "metadata": {},
   "outputs": [
    {
     "data": {
      "text/html": [
       "<div>\n",
       "<style scoped>\n",
       "    .dataframe tbody tr th:only-of-type {\n",
       "        vertical-align: middle;\n",
       "    }\n",
       "\n",
       "    .dataframe tbody tr th {\n",
       "        vertical-align: top;\n",
       "    }\n",
       "\n",
       "    .dataframe thead th {\n",
       "        text-align: right;\n",
       "    }\n",
       "</style>\n",
       "<table border=\"1\" class=\"dataframe\">\n",
       "  <thead>\n",
       "    <tr style=\"text-align: right;\">\n",
       "      <th></th>\n",
       "      <th>text</th>\n",
       "      <th>category</th>\n",
       "      <th>label_use</th>\n",
       "      <th>label_st1</th>\n",
       "      <th>label_st2</th>\n",
       "      <th>label_st3</th>\n",
       "    </tr>\n",
       "  </thead>\n",
       "  <tbody>\n",
       "    <tr>\n",
       "      <th>0</th>\n",
       "      <td>I'm worried my card might be lost in the mail? How long does it usually take to arrive?</td>\n",
       "      <td>card_delivery_estimate</td>\n",
       "      <td>55</td>\n",
       "      <td>30</td>\n",
       "      <td>15</td>\n",
       "      <td>17</td>\n",
       "    </tr>\n",
       "    <tr>\n",
       "      <th>1</th>\n",
       "      <td>I got charged a fee that shouldn't be there from my cash</td>\n",
       "      <td>cash_withdrawal_charge</td>\n",
       "      <td>67</td>\n",
       "      <td>32</td>\n",
       "      <td>37</td>\n",
       "      <td>-1</td>\n",
       "    </tr>\n",
       "    <tr>\n",
       "      <th>2</th>\n",
       "      <td>Do you charge for making a withdrawal? I took some money out of my account earlier and I was charged for this.</td>\n",
       "      <td>cash_withdrawal_charge</td>\n",
       "      <td>74</td>\n",
       "      <td>32</td>\n",
       "      <td>37</td>\n",
       "      <td>26</td>\n",
       "    </tr>\n",
       "    <tr>\n",
       "      <th>3</th>\n",
       "      <td>Is there an issue with my account?  I don't see a cheque deposit that I made yesterday.  Please assist.</td>\n",
       "      <td>balance_not_updated_after_cheque_or_cash_deposit</td>\n",
       "      <td>71</td>\n",
       "      <td>53</td>\n",
       "      <td>49</td>\n",
       "      <td>27</td>\n",
       "    </tr>\n",
       "    <tr>\n",
       "      <th>4</th>\n",
       "      <td>Are there ways for other people to send me money?</td>\n",
       "      <td>receiving_money</td>\n",
       "      <td>26</td>\n",
       "      <td>51</td>\n",
       "      <td>46</td>\n",
       "      <td>-1</td>\n",
       "    </tr>\n",
       "  </tbody>\n",
       "</table>\n",
       "</div>"
      ],
      "text/plain": [
       "                                                                                                             text  \\\n",
       "0                         I'm worried my card might be lost in the mail? How long does it usually take to arrive?   \n",
       "1                                                        I got charged a fee that shouldn't be there from my cash   \n",
       "2  Do you charge for making a withdrawal? I took some money out of my account earlier and I was charged for this.   \n",
       "3         Is there an issue with my account?  I don't see a cheque deposit that I made yesterday.  Please assist.   \n",
       "4                                                               Are there ways for other people to send me money?   \n",
       "\n",
       "                                           category  label_use  label_st1  \\\n",
       "0                            card_delivery_estimate         55         30   \n",
       "1                            cash_withdrawal_charge         67         32   \n",
       "2                            cash_withdrawal_charge         74         32   \n",
       "3  balance_not_updated_after_cheque_or_cash_deposit         71         53   \n",
       "4                                   receiving_money         26         51   \n",
       "\n",
       "   label_st2  label_st3  \n",
       "0         15         17  \n",
       "1         37         -1  \n",
       "2         37         26  \n",
       "3         49         27  \n",
       "4         46         -1  "
      ]
     },
     "execution_count": 39,
     "metadata": {},
     "output_type": "execute_result"
    }
   ],
   "source": [
    "cluster_dict = {'label_use': best_clusters_use,\n",
    "                'label_st1': best_clusters_st1, \n",
    "                'label_st2': best_clusters_st2,\n",
    "                'label_st3': best_clusters_st3}\n",
    "\n",
    "results_df = combine_results(data_sample[['text', 'category']], cluster_dict)\n",
    "    \n",
    "results_df.head()"
   ]
  },
  {
   "cell_type": "code",
   "execution_count": 40,
   "id": "41fdf696-3e69-450e-a72f-703ff92f09f3",
   "metadata": {},
   "outputs": [
    {
     "data": {
      "text/html": [
       "<div>\n",
       "<style scoped>\n",
       "    .dataframe tbody tr th:only-of-type {\n",
       "        vertical-align: middle;\n",
       "    }\n",
       "\n",
       "    .dataframe tbody tr th {\n",
       "        vertical-align: top;\n",
       "    }\n",
       "\n",
       "    .dataframe thead th {\n",
       "        text-align: right;\n",
       "    }\n",
       "</style>\n",
       "<table border=\"1\" class=\"dataframe\">\n",
       "  <thead>\n",
       "    <tr style=\"text-align: right;\">\n",
       "      <th></th>\n",
       "      <th>Model</th>\n",
       "      <th>ARI</th>\n",
       "      <th>NMI</th>\n",
       "      <th>loss</th>\n",
       "      <th>label_count</th>\n",
       "      <th>n_neighbors</th>\n",
       "      <th>n_components</th>\n",
       "      <th>min_cluster_size</th>\n",
       "      <th>random_state</th>\n",
       "    </tr>\n",
       "  </thead>\n",
       "  <tbody>\n",
       "    <tr>\n",
       "      <th>1</th>\n",
       "      <td>all-mpnet-base-v2</td>\n",
       "      <td>0.455</td>\n",
       "      <td>0.806</td>\n",
       "      <td>0.056</td>\n",
       "      <td>55</td>\n",
       "      <td>6</td>\n",
       "      <td>9</td>\n",
       "      <td>6</td>\n",
       "      <td>42</td>\n",
       "    </tr>\n",
       "    <tr>\n",
       "      <th>3</th>\n",
       "      <td>all-distilroberta-v1</td>\n",
       "      <td>0.387</td>\n",
       "      <td>0.781</td>\n",
       "      <td>0.079</td>\n",
       "      <td>68</td>\n",
       "      <td>5</td>\n",
       "      <td>9</td>\n",
       "      <td>5</td>\n",
       "      <td>42</td>\n",
       "    </tr>\n",
       "    <tr>\n",
       "      <th>2</th>\n",
       "      <td>all-MiniLM-L6-v2</td>\n",
       "      <td>0.404</td>\n",
       "      <td>0.776</td>\n",
       "      <td>0.075</td>\n",
       "      <td>56</td>\n",
       "      <td>4</td>\n",
       "      <td>11</td>\n",
       "      <td>6</td>\n",
       "      <td>42</td>\n",
       "    </tr>\n",
       "    <tr>\n",
       "      <th>0</th>\n",
       "      <td>USE</td>\n",
       "      <td>0.248</td>\n",
       "      <td>0.712</td>\n",
       "      <td>0.086</td>\n",
       "      <td>79</td>\n",
       "      <td>3</td>\n",
       "      <td>5</td>\n",
       "      <td>4</td>\n",
       "      <td>42</td>\n",
       "    </tr>\n",
       "  </tbody>\n",
       "</table>\n",
       "</div>"
      ],
      "text/plain": [
       "                  Model    ARI    NMI   loss  label_count  n_neighbors  \\\n",
       "1     all-mpnet-base-v2  0.455  0.806  0.056           55            6   \n",
       "3  all-distilroberta-v1  0.387  0.781  0.079           68            5   \n",
       "2      all-MiniLM-L6-v2  0.404  0.776  0.075           56            4   \n",
       "0                   USE  0.248  0.712  0.086           79            3   \n",
       "\n",
       "   n_components  min_cluster_size  random_state  \n",
       "1             9                 6            42  \n",
       "3             9                 5            42  \n",
       "2            11                 6            42  \n",
       "0             5                 4            42  "
      ]
     },
     "execution_count": 40,
     "metadata": {},
     "output_type": "execute_result"
    }
   ],
   "source": [
    "model_dict = {'USE': ['label_use', best_params_use, trials_use],\n",
    "              'all-mpnet-base-v2': ['label_st1', best_params_st1, trials_st1],\n",
    "              'all-MiniLM-L6-v2': ['label_st2', best_params_st2, trials_st2],\n",
    "              'all-distilroberta-v1': ['label_st3', best_params_st3, trials_st3]\n",
    "               }\n",
    "\n",
    "summarize_results(model_dict, results_df)"
   ]
  },
  {
   "cell_type": "markdown",
   "id": "a731229d-d093-4f43-a7ff-408e10395b99",
   "metadata": {},
   "source": [
    "The ARI and NMI generally, but don't perfectly, follwed the expected trends based on the calculated loss for each model."
   ]
  },
  {
   "cell_type": "markdown",
   "id": "0227de0c-5673-4b7e-8047-0247bba74124",
   "metadata": {},
   "source": [
    "### Manually inspect category consistency"
   ]
  },
  {
   "cell_type": "code",
   "execution_count": 41,
   "id": "98de948f-f400-477c-8070-3b8fafa28ecf",
   "metadata": {
    "tags": []
   },
   "outputs": [
    {
     "data": {
      "text/html": [
       "<div>\n",
       "<style scoped>\n",
       "    .dataframe tbody tr th:only-of-type {\n",
       "        vertical-align: middle;\n",
       "    }\n",
       "\n",
       "    .dataframe tbody tr th {\n",
       "        vertical-align: top;\n",
       "    }\n",
       "\n",
       "    .dataframe thead th {\n",
       "        text-align: right;\n",
       "    }\n",
       "</style>\n",
       "<table border=\"1\" class=\"dataframe\">\n",
       "  <thead>\n",
       "    <tr style=\"text-align: right;\">\n",
       "      <th></th>\n",
       "      <th>text</th>\n",
       "      <th>category</th>\n",
       "      <th>label_use</th>\n",
       "      <th>label_st1</th>\n",
       "      <th>label_st2</th>\n",
       "      <th>label_st3</th>\n",
       "    </tr>\n",
       "  </thead>\n",
       "  <tbody>\n",
       "    <tr>\n",
       "      <th>8</th>\n",
       "      <td>Is there anywhere I can't use my card?</td>\n",
       "      <td>card_acceptance</td>\n",
       "      <td>62</td>\n",
       "      <td>23</td>\n",
       "      <td>29</td>\n",
       "      <td>-1</td>\n",
       "    </tr>\n",
       "    <tr>\n",
       "      <th>190</th>\n",
       "      <td>Will my card work at all merchant locations?</td>\n",
       "      <td>card_acceptance</td>\n",
       "      <td>75</td>\n",
       "      <td>23</td>\n",
       "      <td>29</td>\n",
       "      <td>34</td>\n",
       "    </tr>\n",
       "    <tr>\n",
       "      <th>278</th>\n",
       "      <td>Where can my card be used?</td>\n",
       "      <td>card_acceptance</td>\n",
       "      <td>62</td>\n",
       "      <td>23</td>\n",
       "      <td>29</td>\n",
       "      <td>34</td>\n",
       "    </tr>\n",
       "    <tr>\n",
       "      <th>348</th>\n",
       "      <td>What retailers accept my card?</td>\n",
       "      <td>card_acceptance</td>\n",
       "      <td>-1</td>\n",
       "      <td>23</td>\n",
       "      <td>29</td>\n",
       "      <td>34</td>\n",
       "    </tr>\n",
       "    <tr>\n",
       "      <th>422</th>\n",
       "      <td>Is there a list of where I can use my card?</td>\n",
       "      <td>card_acceptance</td>\n",
       "      <td>62</td>\n",
       "      <td>23</td>\n",
       "      <td>29</td>\n",
       "      <td>34</td>\n",
       "    </tr>\n",
       "    <tr>\n",
       "      <th>469</th>\n",
       "      <td>What businesses accept this card?</td>\n",
       "      <td>card_acceptance</td>\n",
       "      <td>-1</td>\n",
       "      <td>23</td>\n",
       "      <td>29</td>\n",
       "      <td>34</td>\n",
       "    </tr>\n",
       "    <tr>\n",
       "      <th>482</th>\n",
       "      <td>Is there restrictions on where I can use my card?</td>\n",
       "      <td>card_acceptance</td>\n",
       "      <td>62</td>\n",
       "      <td>23</td>\n",
       "      <td>29</td>\n",
       "      <td>34</td>\n",
       "    </tr>\n",
       "  </tbody>\n",
       "</table>\n",
       "</div>"
      ],
      "text/plain": [
       "                                                  text         category  \\\n",
       "8               Is there anywhere I can't use my card?  card_acceptance   \n",
       "190       Will my card work at all merchant locations?  card_acceptance   \n",
       "278                         Where can my card be used?  card_acceptance   \n",
       "348                     What retailers accept my card?  card_acceptance   \n",
       "422        Is there a list of where I can use my card?  card_acceptance   \n",
       "469                  What businesses accept this card?  card_acceptance   \n",
       "482  Is there restrictions on where I can use my card?  card_acceptance   \n",
       "\n",
       "     label_use  label_st1  label_st2  label_st3  \n",
       "8           62         23         29         -1  \n",
       "190         75         23         29         34  \n",
       "278         62         23         29         34  \n",
       "348         -1         23         29         34  \n",
       "422         62         23         29         34  \n",
       "469         -1         23         29         34  \n",
       "482         62         23         29         34  "
      ]
     },
     "execution_count": 41,
     "metadata": {},
     "output_type": "execute_result"
    }
   ],
   "source": [
    "results_df[results_df['label_st1']==23]"
   ]
  },
  {
   "cell_type": "code",
   "execution_count": 42,
   "id": "a4117056-0569-46aa-aad2-2239f469c1d4",
   "metadata": {},
   "outputs": [
    {
     "data": {
      "text/html": [
       "<div>\n",
       "<style scoped>\n",
       "    .dataframe tbody tr th:only-of-type {\n",
       "        vertical-align: middle;\n",
       "    }\n",
       "\n",
       "    .dataframe tbody tr th {\n",
       "        vertical-align: top;\n",
       "    }\n",
       "\n",
       "    .dataframe thead th {\n",
       "        text-align: right;\n",
       "    }\n",
       "</style>\n",
       "<table border=\"1\" class=\"dataframe\">\n",
       "  <thead>\n",
       "    <tr style=\"text-align: right;\">\n",
       "      <th></th>\n",
       "      <th>text</th>\n",
       "      <th>category</th>\n",
       "      <th>label_use</th>\n",
       "      <th>label_st1</th>\n",
       "      <th>label_st2</th>\n",
       "      <th>label_st3</th>\n",
       "    </tr>\n",
       "  </thead>\n",
       "  <tbody>\n",
       "    <tr>\n",
       "      <th>11</th>\n",
       "      <td>Do you do business in the EU?</td>\n",
       "      <td>country_support</td>\n",
       "      <td>61</td>\n",
       "      <td>39</td>\n",
       "      <td>14</td>\n",
       "      <td>12</td>\n",
       "    </tr>\n",
       "    <tr>\n",
       "      <th>44</th>\n",
       "      <td>What are the countries you have offices in?</td>\n",
       "      <td>country_support</td>\n",
       "      <td>1</td>\n",
       "      <td>39</td>\n",
       "      <td>17</td>\n",
       "      <td>12</td>\n",
       "    </tr>\n",
       "    <tr>\n",
       "      <th>122</th>\n",
       "      <td>Can I use this all over the world?</td>\n",
       "      <td>country_support</td>\n",
       "      <td>43</td>\n",
       "      <td>39</td>\n",
       "      <td>17</td>\n",
       "      <td>12</td>\n",
       "    </tr>\n",
       "    <tr>\n",
       "      <th>279</th>\n",
       "      <td>What countries are you available in?</td>\n",
       "      <td>country_support</td>\n",
       "      <td>1</td>\n",
       "      <td>39</td>\n",
       "      <td>17</td>\n",
       "      <td>12</td>\n",
       "    </tr>\n",
       "    <tr>\n",
       "      <th>295</th>\n",
       "      <td>What are the countries that you operate in?</td>\n",
       "      <td>country_support</td>\n",
       "      <td>1</td>\n",
       "      <td>39</td>\n",
       "      <td>17</td>\n",
       "      <td>12</td>\n",
       "    </tr>\n",
       "    <tr>\n",
       "      <th>311</th>\n",
       "      <td>Can I get a card in the EU?</td>\n",
       "      <td>country_support</td>\n",
       "      <td>61</td>\n",
       "      <td>31</td>\n",
       "      <td>-1</td>\n",
       "      <td>56</td>\n",
       "    </tr>\n",
       "    <tr>\n",
       "      <th>503</th>\n",
       "      <td>Which countries do you operate in</td>\n",
       "      <td>country_support</td>\n",
       "      <td>1</td>\n",
       "      <td>39</td>\n",
       "      <td>17</td>\n",
       "      <td>12</td>\n",
       "    </tr>\n",
       "    <tr>\n",
       "      <th>600</th>\n",
       "      <td>How do I know which countries you provide service in?</td>\n",
       "      <td>country_support</td>\n",
       "      <td>1</td>\n",
       "      <td>39</td>\n",
       "      <td>17</td>\n",
       "      <td>12</td>\n",
       "    </tr>\n",
       "    <tr>\n",
       "      <th>724</th>\n",
       "      <td>I'm not in the UK, but can I still get a card?</td>\n",
       "      <td>country_support</td>\n",
       "      <td>61</td>\n",
       "      <td>31</td>\n",
       "      <td>29</td>\n",
       "      <td>56</td>\n",
       "    </tr>\n",
       "    <tr>\n",
       "      <th>732</th>\n",
       "      <td>Can I get support?</td>\n",
       "      <td>country_support</td>\n",
       "      <td>25</td>\n",
       "      <td>3</td>\n",
       "      <td>-1</td>\n",
       "      <td>23</td>\n",
       "    </tr>\n",
       "    <tr>\n",
       "      <th>754</th>\n",
       "      <td>I live in the EU, can I get one of your cards?</td>\n",
       "      <td>country_support</td>\n",
       "      <td>61</td>\n",
       "      <td>-1</td>\n",
       "      <td>-1</td>\n",
       "      <td>56</td>\n",
       "    </tr>\n",
       "    <tr>\n",
       "      <th>826</th>\n",
       "      <td>Are you only able to get a card if you're in the UK?</td>\n",
       "      <td>country_support</td>\n",
       "      <td>61</td>\n",
       "      <td>31</td>\n",
       "      <td>-1</td>\n",
       "      <td>56</td>\n",
       "    </tr>\n",
       "    <tr>\n",
       "      <th>898</th>\n",
       "      <td>I would like to know the countries you are offer services in?</td>\n",
       "      <td>country_support</td>\n",
       "      <td>1</td>\n",
       "      <td>39</td>\n",
       "      <td>17</td>\n",
       "      <td>12</td>\n",
       "    </tr>\n",
       "  </tbody>\n",
       "</table>\n",
       "</div>"
      ],
      "text/plain": [
       "                                                              text  \\\n",
       "11                                   Do you do business in the EU?   \n",
       "44                     What are the countries you have offices in?   \n",
       "122                             Can I use this all over the world?   \n",
       "279                           What countries are you available in?   \n",
       "295                    What are the countries that you operate in?   \n",
       "311                                    Can I get a card in the EU?   \n",
       "503                              Which countries do you operate in   \n",
       "600          How do I know which countries you provide service in?   \n",
       "724                 I'm not in the UK, but can I still get a card?   \n",
       "732                                             Can I get support?   \n",
       "754                 I live in the EU, can I get one of your cards?   \n",
       "826           Are you only able to get a card if you're in the UK?   \n",
       "898  I would like to know the countries you are offer services in?   \n",
       "\n",
       "            category  label_use  label_st1  label_st2  label_st3  \n",
       "11   country_support         61         39         14         12  \n",
       "44   country_support          1         39         17         12  \n",
       "122  country_support         43         39         17         12  \n",
       "279  country_support          1         39         17         12  \n",
       "295  country_support          1         39         17         12  \n",
       "311  country_support         61         31         -1         56  \n",
       "503  country_support          1         39         17         12  \n",
       "600  country_support          1         39         17         12  \n",
       "724  country_support         61         31         29         56  \n",
       "732  country_support         25          3         -1         23  \n",
       "754  country_support         61         -1         -1         56  \n",
       "826  country_support         61         31         -1         56  \n",
       "898  country_support          1         39         17         12  "
      ]
     },
     "execution_count": 42,
     "metadata": {},
     "output_type": "execute_result"
    }
   ],
   "source": [
    "results_df[results_df['category']=='country_support']"
   ]
  },
  {
   "cell_type": "code",
   "execution_count": 43,
   "id": "ec972d20-470d-4b51-8863-6a1669c4f990",
   "metadata": {},
   "outputs": [
    {
     "data": {
      "text/html": [
       "<div>\n",
       "<style scoped>\n",
       "    .dataframe tbody tr th:only-of-type {\n",
       "        vertical-align: middle;\n",
       "    }\n",
       "\n",
       "    .dataframe tbody tr th {\n",
       "        vertical-align: top;\n",
       "    }\n",
       "\n",
       "    .dataframe thead th {\n",
       "        text-align: right;\n",
       "    }\n",
       "</style>\n",
       "<table border=\"1\" class=\"dataframe\">\n",
       "  <thead>\n",
       "    <tr style=\"text-align: right;\">\n",
       "      <th></th>\n",
       "      <th>text</th>\n",
       "      <th>category</th>\n",
       "      <th>label_use</th>\n",
       "      <th>label_st1</th>\n",
       "      <th>label_st2</th>\n",
       "      <th>label_st3</th>\n",
       "    </tr>\n",
       "  </thead>\n",
       "  <tbody>\n",
       "    <tr>\n",
       "      <th>27</th>\n",
       "      <td>I am overseas in China, can I get a replacement card?</td>\n",
       "      <td>card_about_to_expire</td>\n",
       "      <td>36</td>\n",
       "      <td>31</td>\n",
       "      <td>30</td>\n",
       "      <td>56</td>\n",
       "    </tr>\n",
       "    <tr>\n",
       "      <th>370</th>\n",
       "      <td>If I am in China, can I still order a new card and if so, how?</td>\n",
       "      <td>card_about_to_expire</td>\n",
       "      <td>36</td>\n",
       "      <td>31</td>\n",
       "      <td>30</td>\n",
       "      <td>56</td>\n",
       "    </tr>\n",
       "    <tr>\n",
       "      <th>441</th>\n",
       "      <td>My card is almost expired.  How fast will I get a new one and what is the cost?</td>\n",
       "      <td>card_about_to_expire</td>\n",
       "      <td>8</td>\n",
       "      <td>31</td>\n",
       "      <td>11</td>\n",
       "      <td>60</td>\n",
       "    </tr>\n",
       "    <tr>\n",
       "      <th>477</th>\n",
       "      <td>My card is about to expire. Do I have to go to a branch to order a new card?</td>\n",
       "      <td>card_about_to_expire</td>\n",
       "      <td>8</td>\n",
       "      <td>31</td>\n",
       "      <td>11</td>\n",
       "      <td>60</td>\n",
       "    </tr>\n",
       "    <tr>\n",
       "      <th>521</th>\n",
       "      <td>My card expires soon, will you send me one automatically?</td>\n",
       "      <td>card_about_to_expire</td>\n",
       "      <td>8</td>\n",
       "      <td>31</td>\n",
       "      <td>11</td>\n",
       "      <td>60</td>\n",
       "    </tr>\n",
       "    <tr>\n",
       "      <th>524</th>\n",
       "      <td>My card expires very soon.  What is the cost and delivery time to get a new one?</td>\n",
       "      <td>card_about_to_expire</td>\n",
       "      <td>8</td>\n",
       "      <td>31</td>\n",
       "      <td>11</td>\n",
       "      <td>60</td>\n",
       "    </tr>\n",
       "    <tr>\n",
       "      <th>551</th>\n",
       "      <td>Where can I have a new bank card sent to China?</td>\n",
       "      <td>card_about_to_expire</td>\n",
       "      <td>36</td>\n",
       "      <td>31</td>\n",
       "      <td>30</td>\n",
       "      <td>-1</td>\n",
       "    </tr>\n",
       "    <tr>\n",
       "      <th>584</th>\n",
       "      <td>How do I get a new expiration date?</td>\n",
       "      <td>card_about_to_expire</td>\n",
       "      <td>8</td>\n",
       "      <td>31</td>\n",
       "      <td>11</td>\n",
       "      <td>60</td>\n",
       "    </tr>\n",
       "    <tr>\n",
       "      <th>605</th>\n",
       "      <td>Are there any express fees if i want my new card faster?</td>\n",
       "      <td>card_about_to_expire</td>\n",
       "      <td>49</td>\n",
       "      <td>31</td>\n",
       "      <td>11</td>\n",
       "      <td>18</td>\n",
       "    </tr>\n",
       "    <tr>\n",
       "      <th>646</th>\n",
       "      <td>My card is almost going to expire.</td>\n",
       "      <td>card_about_to_expire</td>\n",
       "      <td>8</td>\n",
       "      <td>31</td>\n",
       "      <td>11</td>\n",
       "      <td>60</td>\n",
       "    </tr>\n",
       "    <tr>\n",
       "      <th>765</th>\n",
       "      <td>My card expires soon</td>\n",
       "      <td>card_about_to_expire</td>\n",
       "      <td>8</td>\n",
       "      <td>31</td>\n",
       "      <td>11</td>\n",
       "      <td>60</td>\n",
       "    </tr>\n",
       "    <tr>\n",
       "      <th>812</th>\n",
       "      <td>What is the cost and time frame of getting a new card?</td>\n",
       "      <td>card_about_to_expire</td>\n",
       "      <td>8</td>\n",
       "      <td>31</td>\n",
       "      <td>11</td>\n",
       "      <td>60</td>\n",
       "    </tr>\n",
       "    <tr>\n",
       "      <th>833</th>\n",
       "      <td>Help me order a new card that's going to be expired soon.</td>\n",
       "      <td>card_about_to_expire</td>\n",
       "      <td>8</td>\n",
       "      <td>31</td>\n",
       "      <td>11</td>\n",
       "      <td>60</td>\n",
       "    </tr>\n",
       "    <tr>\n",
       "      <th>888</th>\n",
       "      <td>What happens if my card expires?</td>\n",
       "      <td>card_about_to_expire</td>\n",
       "      <td>8</td>\n",
       "      <td>31</td>\n",
       "      <td>11</td>\n",
       "      <td>60</td>\n",
       "    </tr>\n",
       "  </tbody>\n",
       "</table>\n",
       "</div>"
      ],
      "text/plain": [
       "                                                                                 text  \\\n",
       "27                              I am overseas in China, can I get a replacement card?   \n",
       "370                    If I am in China, can I still order a new card and if so, how?   \n",
       "441   My card is almost expired.  How fast will I get a new one and what is the cost?   \n",
       "477      My card is about to expire. Do I have to go to a branch to order a new card?   \n",
       "521                         My card expires soon, will you send me one automatically?   \n",
       "524  My card expires very soon.  What is the cost and delivery time to get a new one?   \n",
       "551                                   Where can I have a new bank card sent to China?   \n",
       "584                                               How do I get a new expiration date?   \n",
       "605                          Are there any express fees if i want my new card faster?   \n",
       "646                                                My card is almost going to expire.   \n",
       "765                                                              My card expires soon   \n",
       "812                            What is the cost and time frame of getting a new card?   \n",
       "833                         Help me order a new card that's going to be expired soon.   \n",
       "888                                                  What happens if my card expires?   \n",
       "\n",
       "                 category  label_use  label_st1  label_st2  label_st3  \n",
       "27   card_about_to_expire         36         31         30         56  \n",
       "370  card_about_to_expire         36         31         30         56  \n",
       "441  card_about_to_expire          8         31         11         60  \n",
       "477  card_about_to_expire          8         31         11         60  \n",
       "521  card_about_to_expire          8         31         11         60  \n",
       "524  card_about_to_expire          8         31         11         60  \n",
       "551  card_about_to_expire         36         31         30         -1  \n",
       "584  card_about_to_expire          8         31         11         60  \n",
       "605  card_about_to_expire         49         31         11         18  \n",
       "646  card_about_to_expire          8         31         11         60  \n",
       "765  card_about_to_expire          8         31         11         60  \n",
       "812  card_about_to_expire          8         31         11         60  \n",
       "833  card_about_to_expire          8         31         11         60  \n",
       "888  card_about_to_expire          8         31         11         60  "
      ]
     },
     "execution_count": 43,
     "metadata": {},
     "output_type": "execute_result"
    }
   ],
   "source": [
    "results_df[results_df['category']=='card_about_to_expire']"
   ]
  },
  {
   "cell_type": "markdown",
   "id": "a72ee559-5fc1-48af-9e9a-beec8ddec460",
   "metadata": {},
   "source": [
    "Through manual inspection, it also appears as though sentence-transformer1 performs the best of the models considered."
   ]
  },
  {
   "cell_type": "markdown",
   "id": "46873066-4845-4a31-be75-39c05494ae7d",
   "metadata": {},
   "source": [
    "### Save cluster results"
   ]
  },
  {
   "cell_type": "code",
   "execution_count": 44,
   "id": "f9547ad1-cc80-4f50-ae4c-48583c74ea9e",
   "metadata": {},
   "outputs": [],
   "source": [
    "results_df.to_csv('../data/processed/sample_clustered.csv')"
   ]
  },
  {
   "cell_type": "markdown",
   "id": "aba228b1-446c-4090-8f82-16eb83bb9ebc",
   "metadata": {},
   "source": [
    "## Applying to the full dataset of 10k intents"
   ]
  },
  {
   "cell_type": "markdown",
   "id": "c96e2d24-43da-47ae-8252-b5382cffe7e2",
   "metadata": {},
   "source": [
    "Demonstrate the same approach as above on the full bank77 dataset. Several of the steps end up taking a bit longer to run on a dataset this size."
   ]
  },
  {
   "cell_type": "code",
   "execution_count": 45,
   "id": "35fd6d0f-ac21-4d75-97aa-8d78fa0cfbf6",
   "metadata": {},
   "outputs": [
    {
     "data": {
      "text/html": [
       "<div>\n",
       "<style scoped>\n",
       "    .dataframe tbody tr th:only-of-type {\n",
       "        vertical-align: middle;\n",
       "    }\n",
       "\n",
       "    .dataframe tbody tr th {\n",
       "        vertical-align: top;\n",
       "    }\n",
       "\n",
       "    .dataframe thead th {\n",
       "        text-align: right;\n",
       "    }\n",
       "</style>\n",
       "<table border=\"1\" class=\"dataframe\">\n",
       "  <thead>\n",
       "    <tr style=\"text-align: right;\">\n",
       "      <th></th>\n",
       "      <th>text</th>\n",
       "      <th>category</th>\n",
       "    </tr>\n",
       "  </thead>\n",
       "  <tbody>\n",
       "    <tr>\n",
       "      <th>0</th>\n",
       "      <td>I am still waiting on my card?</td>\n",
       "      <td>card_arrival</td>\n",
       "    </tr>\n",
       "    <tr>\n",
       "      <th>1</th>\n",
       "      <td>What can I do if my card still hasn't arrived after 2 weeks?</td>\n",
       "      <td>card_arrival</td>\n",
       "    </tr>\n",
       "    <tr>\n",
       "      <th>2</th>\n",
       "      <td>I have been waiting over a week. Is the card still coming?</td>\n",
       "      <td>card_arrival</td>\n",
       "    </tr>\n",
       "    <tr>\n",
       "      <th>3</th>\n",
       "      <td>Can I track my card while it is in the process of delivery?</td>\n",
       "      <td>card_arrival</td>\n",
       "    </tr>\n",
       "    <tr>\n",
       "      <th>4</th>\n",
       "      <td>How do I know if I will get my card, or if it is lost?</td>\n",
       "      <td>card_arrival</td>\n",
       "    </tr>\n",
       "  </tbody>\n",
       "</table>\n",
       "</div>"
      ],
      "text/plain": [
       "                                                           text      category\n",
       "0                                I am still waiting on my card?  card_arrival\n",
       "1  What can I do if my card still hasn't arrived after 2 weeks?  card_arrival\n",
       "2    I have been waiting over a week. Is the card still coming?  card_arrival\n",
       "3   Can I track my card while it is in the process of delivery?  card_arrival\n",
       "4        How do I know if I will get my card, or if it is lost?  card_arrival"
      ]
     },
     "execution_count": 45,
     "metadata": {},
     "output_type": "execute_result"
    }
   ],
   "source": [
    "data_full = pd.read_csv('../data/raw/train.csv')\n",
    "data_full.head()"
   ]
  },
  {
   "cell_type": "code",
   "execution_count": 46,
   "id": "82731ead-c302-4334-afc6-c6820f306842",
   "metadata": {},
   "outputs": [
    {
     "data": {
      "text/plain": [
       "10003"
      ]
     },
     "execution_count": 46,
     "metadata": {},
     "output_type": "execute_result"
    }
   ],
   "source": [
    "all_intents_full = list(data_full['text'])\n",
    "len(all_intents_full)"
   ]
  },
  {
   "cell_type": "code",
   "execution_count": 47,
   "id": "c247048c-f1d8-4a52-823d-d3e0e0170de1",
   "metadata": {},
   "outputs": [
    {
     "data": {
      "application/vnd.jupyter.widget-view+json": {
       "model_id": "75bb7785666d41edb93518674d424b5d",
       "version_major": 2,
       "version_minor": 0
      },
      "text/plain": [
       "Batches:   0%|          | 0/313 [00:00<?, ?it/s]"
      ]
     },
     "metadata": {},
     "output_type": "display_data"
    },
    {
     "data": {
      "application/vnd.jupyter.widget-view+json": {
       "model_id": "cd1acf12d3734f36ae78169e62ccd46d",
       "version_major": 2,
       "version_minor": 0
      },
      "text/plain": [
       "Batches:   0%|          | 0/313 [00:00<?, ?it/s]"
      ]
     },
     "metadata": {},
     "output_type": "display_data"
    },
    {
     "data": {
      "application/vnd.jupyter.widget-view+json": {
       "model_id": "901fd16acc0f4629a802773ae7ce0e3e",
       "version_major": 2,
       "version_minor": 0
      },
      "text/plain": [
       "Batches:   0%|          | 0/313 [00:00<?, ?it/s]"
      ]
     },
     "metadata": {},
     "output_type": "display_data"
    }
   ],
   "source": [
    "embeddings_use_10k = embed(model_use, 'use', all_intents_full)\n",
    "embeddings_st1_10k = embed(model_st1, 'sentence transformer', all_intents_full)\n",
    "embeddings_st2_10k = embed(model_st2, 'sentence transformer', all_intents_full)\n",
    "embeddings_st3_10k = embed(model_st3, 'sentence transformer', all_intents_full)"
   ]
  },
  {
   "cell_type": "code",
   "execution_count": 48,
   "id": "557b5314-e49d-4b32-8c56-362ff85a8043",
   "metadata": {},
   "outputs": [],
   "source": [
    "hspace = {\n",
    "    \"n_neighbors\": hp.choice('n_neighbors', range(3,16)),\n",
    "    \"n_components\": hp.choice('n_components', range(3,16)),\n",
    "    \"min_cluster_size\": hp.choice('min_cluster_size', range(2,16)),\n",
    "    \"random_state\": 42\n",
    "}\n",
    "\n",
    "label_lower = 30\n",
    "label_upper = 100\n",
    "max_evals = 100"
   ]
  },
  {
   "cell_type": "code",
   "execution_count": 50,
   "id": "fb371151-78c9-46b7-8b29-2db7ed2d1670",
   "metadata": {},
   "outputs": [
    {
     "name": "stdout",
     "output_type": "stream",
     "text": [
      "100%|██████████| 100/100 [14:00<00:00,  8.41s/trial, best loss: 0.2641657502749175]\n",
      "best:\n",
      "{'min_cluster_size': 14, 'n_components': 8, 'n_neighbors': 3, 'random_state': 42}\n",
      "label count: 185\n"
     ]
    }
   ],
   "source": [
    "best_params_use, best_clusters_use, trials_use = bayesian_search(embeddings_use_10k, \n",
    "                                                                 space=hspace, \n",
    "                                                                 label_lower=label_lower, \n",
    "                                                                 label_upper=label_upper, \n",
    "                                                                 max_evals=max_evals)"
   ]
  },
  {
   "cell_type": "markdown",
   "id": "51a68574-4d40-49c7-ba42-7cb4f620266f",
   "metadata": {},
   "source": [
    "The fact that the cost function is still so high for the best model is a helpful indication that we need to modify the ranges used for the hyperparameters."
   ]
  },
  {
   "cell_type": "code",
   "execution_count": 51,
   "id": "d373d7a4-cbdd-4442-bdf7-69222931fefc",
   "metadata": {},
   "outputs": [],
   "source": [
    "hspace = {\n",
    "    \"n_neighbors\": hp.choice('n_neighbors', range(3,16)),\n",
    "    \"n_components\": hp.choice('n_components', range(10,20)),\n",
    "    \"min_cluster_size\": hp.choice('min_cluster_size', range(16,36)),\n",
    "    \"random_state\": 42\n",
    "}\n",
    "\n",
    "label_lower = 30\n",
    "label_upper = 100\n",
    "max_evals = 100"
   ]
  },
  {
   "cell_type": "code",
   "execution_count": 52,
   "id": "76a72906-ec15-42b2-86d1-6a41f07413f3",
   "metadata": {},
   "outputs": [
    {
     "name": "stdout",
     "output_type": "stream",
     "text": [
      "100%|██████████| 100/100 [16:42<00:00, 10.02s/trial, best loss: 0.11906428071578526]\n",
      "best:\n",
      "{'min_cluster_size': 34, 'n_components': 15, 'n_neighbors': 4, 'random_state': 42}\n",
      "label count: 53\n"
     ]
    }
   ],
   "source": [
    "best_params_use, best_clusters_use, trials_use = bayesian_search(embeddings_use_10k, \n",
    "                                                                 space=hspace, \n",
    "                                                                 label_lower=label_lower, \n",
    "                                                                 label_upper=label_upper, \n",
    "                                                                 max_evals=max_evals)"
   ]
  },
  {
   "cell_type": "code",
   "execution_count": 53,
   "id": "ffb240b3-1b6a-4c0c-baec-9aeb351cd4c3",
   "metadata": {},
   "outputs": [
    {
     "name": "stdout",
     "output_type": "stream",
     "text": [
      "100%|██████████| 100/100 [17:58<00:00, 10.79s/trial, best loss: 0.07497750674797561]\n",
      "best:\n",
      "{'min_cluster_size': 35, 'n_components': 19, 'n_neighbors': 11, 'random_state': 42}\n",
      "label count: 48\n"
     ]
    }
   ],
   "source": [
    "best_params_st1, best_clusters_st1, trials_st1 = bayesian_search(embeddings_st1_10k, \n",
    "                                                                 space=hspace, \n",
    "                                                                 label_lower=label_lower, \n",
    "                                                                 label_upper=label_upper, \n",
    "                                                                 max_evals=max_evals)"
   ]
  },
  {
   "cell_type": "code",
   "execution_count": 54,
   "id": "6aadf70f-9857-48a2-af3f-49e63e913544",
   "metadata": {},
   "outputs": [
    {
     "name": "stdout",
     "output_type": "stream",
     "text": [
      "100%|██████████| 100/100 [15:09<00:00,  9.10s/trial, best loss: 0.11056682995101469]\n",
      "best:\n",
      "{'min_cluster_size': 32, 'n_components': 18, 'n_neighbors': 8, 'random_state': 42}\n",
      "label count: 68\n"
     ]
    }
   ],
   "source": [
    "best_params_st2, best_clusters_st2, trials_st2 = bayesian_search(embeddings_st2_10k, \n",
    "                                                                 space=hspace, \n",
    "                                                                 label_lower=label_lower, \n",
    "                                                                 label_upper=label_upper, \n",
    "                                                                 max_evals=max_evals)"
   ]
  },
  {
   "cell_type": "code",
   "execution_count": 55,
   "id": "c8c9a95a-e38c-4b15-bf54-02cb93d9fceb",
   "metadata": {},
   "outputs": [
    {
     "name": "stdout",
     "output_type": "stream",
     "text": [
      "100%|██████████| 100/100 [15:21<00:00,  9.22s/trial, best loss: 0.08517444766570029]\n",
      "best:\n",
      "{'min_cluster_size': 34, 'n_components': 13, 'n_neighbors': 6, 'random_state': 42}\n",
      "label count: 69\n"
     ]
    }
   ],
   "source": [
    "best_params_st3, best_clusters_st3, trials_st3 = bayesian_search(embeddings_st3_10k, \n",
    "                                                                 space=hspace, \n",
    "                                                                 label_lower=label_lower, \n",
    "                                                                 label_upper=label_upper, \n",
    "                                                                 max_evals=max_evals)"
   ]
  },
  {
   "cell_type": "code",
   "execution_count": 56,
   "id": "1c047005-3d55-4435-835c-73a166f921c8",
   "metadata": {},
   "outputs": [
    {
     "data": {
      "text/html": [
       "<div>\n",
       "<style scoped>\n",
       "    .dataframe tbody tr th:only-of-type {\n",
       "        vertical-align: middle;\n",
       "    }\n",
       "\n",
       "    .dataframe tbody tr th {\n",
       "        vertical-align: top;\n",
       "    }\n",
       "\n",
       "    .dataframe thead th {\n",
       "        text-align: right;\n",
       "    }\n",
       "</style>\n",
       "<table border=\"1\" class=\"dataframe\">\n",
       "  <thead>\n",
       "    <tr style=\"text-align: right;\">\n",
       "      <th></th>\n",
       "      <th>Model</th>\n",
       "      <th>ARI</th>\n",
       "      <th>NMI</th>\n",
       "      <th>loss</th>\n",
       "      <th>label_count</th>\n",
       "      <th>n_neighbors</th>\n",
       "      <th>n_components</th>\n",
       "      <th>min_cluster_size</th>\n",
       "      <th>random_state</th>\n",
       "    </tr>\n",
       "  </thead>\n",
       "  <tbody>\n",
       "    <tr>\n",
       "      <th>3</th>\n",
       "      <td>all-distilroberta-v1</td>\n",
       "      <td>0.407</td>\n",
       "      <td>0.769</td>\n",
       "      <td>0.085174</td>\n",
       "      <td>69</td>\n",
       "      <td>6</td>\n",
       "      <td>13</td>\n",
       "      <td>34</td>\n",
       "      <td>42</td>\n",
       "    </tr>\n",
       "    <tr>\n",
       "      <th>1</th>\n",
       "      <td>all-mpnet-base-v2</td>\n",
       "      <td>0.272</td>\n",
       "      <td>0.751</td>\n",
       "      <td>0.074978</td>\n",
       "      <td>48</td>\n",
       "      <td>11</td>\n",
       "      <td>19</td>\n",
       "      <td>35</td>\n",
       "      <td>42</td>\n",
       "    </tr>\n",
       "    <tr>\n",
       "      <th>2</th>\n",
       "      <td>all-MiniLM-L6-v2</td>\n",
       "      <td>0.344</td>\n",
       "      <td>0.751</td>\n",
       "      <td>0.110567</td>\n",
       "      <td>68</td>\n",
       "      <td>8</td>\n",
       "      <td>18</td>\n",
       "      <td>32</td>\n",
       "      <td>42</td>\n",
       "    </tr>\n",
       "    <tr>\n",
       "      <th>0</th>\n",
       "      <td>USE</td>\n",
       "      <td>0.252</td>\n",
       "      <td>0.673</td>\n",
       "      <td>0.119064</td>\n",
       "      <td>53</td>\n",
       "      <td>4</td>\n",
       "      <td>15</td>\n",
       "      <td>34</td>\n",
       "      <td>42</td>\n",
       "    </tr>\n",
       "  </tbody>\n",
       "</table>\n",
       "</div>"
      ],
      "text/plain": [
       "                  Model    ARI    NMI      loss  label_count  n_neighbors  \\\n",
       "3  all-distilroberta-v1  0.407  0.769  0.085174           69            6   \n",
       "1     all-mpnet-base-v2  0.272  0.751  0.074978           48           11   \n",
       "2      all-MiniLM-L6-v2  0.344  0.751  0.110567           68            8   \n",
       "0                   USE  0.252  0.673  0.119064           53            4   \n",
       "\n",
       "   n_components  min_cluster_size  random_state  \n",
       "3            13                34            42  \n",
       "1            19                35            42  \n",
       "2            18                32            42  \n",
       "0            15                34            42  "
      ]
     },
     "execution_count": 56,
     "metadata": {},
     "output_type": "execute_result"
    }
   ],
   "source": [
    "cluster_dict = {'label_use': best_clusters_use,\n",
    "                'label_st1': best_clusters_st1, \n",
    "                'label_st2': best_clusters_st2,\n",
    "                'label_st3': best_clusters_st3}\n",
    "\n",
    "results_df = combine_results(data_full[['text', 'category']], cluster_dict)\n",
    "    \n",
    "model_dict = {'USE': ['label_use', best_params_use, trials_use],\n",
    "              'all-mpnet-base-v2': ['label_st1', best_params_st1, trials_st1],\n",
    "              'all-MiniLM-L6-v2': ['label_st2', best_params_st2, trials_st2],\n",
    "              'all-distilroberta-v1': ['label_st3', best_params_st3, trials_st3]\n",
    "               }\n",
    "\n",
    "summarize_results(model_dict, results_df)"
   ]
  },
  {
   "cell_type": "code",
   "execution_count": null,
   "id": "b1bcf85d-93f6-4c7d-847d-3ac393dc60d0",
   "metadata": {},
   "outputs": [],
   "source": []
  }
 ],
 "metadata": {
  "kernelspec": {
   "display_name": "Python 3",
   "language": "python",
   "name": "python3"
  },
  "language_info": {
   "codemirror_mode": {
    "name": "ipython",
    "version": 3
   },
   "file_extension": ".py",
   "mimetype": "text/x-python",
   "name": "python",
   "nbconvert_exporter": "python",
   "pygments_lexer": "ipython3",
   "version": "3.9.6"
  }
 },
 "nbformat": 4,
 "nbformat_minor": 5
}
