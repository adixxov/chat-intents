{
 "cells": [
  {
   "cell_type": "markdown",
   "id": "3f8bcc5e-f730-43a6-9084-5e2338b0c244",
   "metadata": {},
   "source": [
    "# Chat Intents Tutorial"
   ]
  },
  {
   "cell_type": "code",
   "execution_count": 1,
   "id": "03ce00fb-fc41-4299-8b86-5312822fdf07",
   "metadata": {},
   "outputs": [],
   "source": [
    "import numpy as np\n",
    "import pandas as pd\n",
    "\n",
    "pd.set_option(\"display.max_rows\", 600)\n",
    "pd.set_option(\"display.max_columns\", 500)\n",
    "pd.set_option(\"max_colwidth\", 400)\n",
    "\n",
    "from hyperopt import hp\n",
    "\n",
    "import tensorflow as tf\n",
    "import tensorflow_hub as hub\n",
    "from sentence_transformers import SentenceTransformer"
   ]
  },
  {
   "cell_type": "code",
   "execution_count": 2,
   "id": "a40aeb1e-e7e9-480a-b823-c3d639607fdf",
   "metadata": {},
   "outputs": [],
   "source": [
    "import chatintents\n",
    "from chatintents import ChatIntents"
   ]
  },
  {
   "cell_type": "code",
   "execution_count": 3,
   "id": "eff93bc4-e8ea-4723-8db9-e150a491bd8b",
   "metadata": {},
   "outputs": [],
   "source": [
    "%load_ext autoreload\n",
    "%autoreload 2"
   ]
  },
  {
   "cell_type": "markdown",
   "id": "1fd4839b-afa4-4714-8b84-16056ec8a284",
   "metadata": {},
   "source": [
    "## Load data and pre-trained models"
   ]
  },
  {
   "cell_type": "code",
   "execution_count": 5,
   "id": "a97675ac-dcb0-4bf2-83a9-48ef9249d9da",
   "metadata": {},
   "outputs": [
    {
     "data": {
      "text/html": [
       "<div>\n",
       "<style scoped>\n",
       "    .dataframe tbody tr th:only-of-type {\n",
       "        vertical-align: middle;\n",
       "    }\n",
       "\n",
       "    .dataframe tbody tr th {\n",
       "        vertical-align: top;\n",
       "    }\n",
       "\n",
       "    .dataframe thead th {\n",
       "        text-align: right;\n",
       "    }\n",
       "</style>\n",
       "<table border=\"1\" class=\"dataframe\">\n",
       "  <thead>\n",
       "    <tr style=\"text-align: right;\">\n",
       "      <th></th>\n",
       "      <th>text</th>\n",
       "      <th>category</th>\n",
       "    </tr>\n",
       "  </thead>\n",
       "  <tbody>\n",
       "    <tr>\n",
       "      <th>0</th>\n",
       "      <td>I'm worried my card might be lost in the mail? How long does it usually take to arrive?</td>\n",
       "      <td>card_delivery_estimate</td>\n",
       "    </tr>\n",
       "    <tr>\n",
       "      <th>1</th>\n",
       "      <td>I got charged a fee that shouldn't be there from my cash</td>\n",
       "      <td>cash_withdrawal_charge</td>\n",
       "    </tr>\n",
       "    <tr>\n",
       "      <th>2</th>\n",
       "      <td>Do you charge for making a withdrawal? I took some money out of my account earlier and I was charged for this.</td>\n",
       "      <td>cash_withdrawal_charge</td>\n",
       "    </tr>\n",
       "    <tr>\n",
       "      <th>3</th>\n",
       "      <td>Is there an issue with my account?  I don't see a cheque deposit that I made yesterday.  Please assist.</td>\n",
       "      <td>balance_not_updated_after_cheque_or_cash_deposit</td>\n",
       "    </tr>\n",
       "    <tr>\n",
       "      <th>4</th>\n",
       "      <td>Are there ways for other people to send me money?</td>\n",
       "      <td>receiving_money</td>\n",
       "    </tr>\n",
       "  </tbody>\n",
       "</table>\n",
       "</div>"
      ],
      "text/plain": [
       "                                                                                                             text  \\\n",
       "0                         I'm worried my card might be lost in the mail? How long does it usually take to arrive?   \n",
       "1                                                        I got charged a fee that shouldn't be there from my cash   \n",
       "2  Do you charge for making a withdrawal? I took some money out of my account earlier and I was charged for this.   \n",
       "3         Is there an issue with my account?  I don't see a cheque deposit that I made yesterday.  Please assist.   \n",
       "4                                                               Are there ways for other people to send me money?   \n",
       "\n",
       "                                           category  \n",
       "0                            card_delivery_estimate  \n",
       "1                            cash_withdrawal_charge  \n",
       "2                            cash_withdrawal_charge  \n",
       "3  balance_not_updated_after_cheque_or_cash_deposit  \n",
       "4                                   receiving_money  "
      ]
     },
     "execution_count": 5,
     "metadata": {},
     "output_type": "execute_result"
    }
   ],
   "source": [
    "data_sample = pd.read_csv('../data/processed/data_sample.csv')[['text', 'category']]\n",
    "data_sample.head()"
   ]
  },
  {
   "cell_type": "code",
   "execution_count": 6,
   "id": "ddc170db-1e83-4217-98a5-1d97b4543558",
   "metadata": {},
   "outputs": [
    {
     "data": {
      "text/plain": [
       "1000"
      ]
     },
     "execution_count": 6,
     "metadata": {},
     "output_type": "execute_result"
    }
   ],
   "source": [
    "all_intents = list(data_sample['text'])\n",
    "len(all_intents)"
   ]
  },
  {
   "cell_type": "code",
   "execution_count": 8,
   "id": "7cd3c824-2a63-4b01-9a6b-7aae1d132d5e",
   "metadata": {},
   "outputs": [
    {
     "name": "stderr",
     "output_type": "stream",
     "text": [
      "INFO:absl:Downloading TF-Hub Module 'https://tfhub.dev/google/universal-sentence-encoder/4'.\n",
      "INFO:absl:Downloading https://tfhub.dev/google/universal-sentence-encoder/4: 230.00MB\n",
      "INFO:absl:Downloading https://tfhub.dev/google/universal-sentence-encoder/4: 450.00MB\n",
      "INFO:absl:Downloading https://tfhub.dev/google/universal-sentence-encoder/4: 680.00MB\n",
      "INFO:absl:Downloading https://tfhub.dev/google/universal-sentence-encoder/4: 910.00MB\n",
      "INFO:absl:Downloaded https://tfhub.dev/google/universal-sentence-encoder/4, Total size: 987.47MB\n",
      "INFO:absl:Downloaded TF-Hub Module 'https://tfhub.dev/google/universal-sentence-encoder/4'.\n"
     ]
    },
    {
     "name": "stdout",
     "output_type": "stream",
     "text": [
      "module https://tfhub.dev/google/universal-sentence-encoder/4 loaded\n"
     ]
    }
   ],
   "source": [
    "module_url = \"https://tfhub.dev/google/universal-sentence-encoder/4\"\n",
    "model_use = hub.load(module_url)\n",
    "\n",
    "print(f\"module {module_url} loaded\")"
   ]
  },
  {
   "cell_type": "code",
   "execution_count": 9,
   "id": "97016d39-1ffd-4efa-aa25-4cc53fe71ff0",
   "metadata": {
    "scrolled": true,
    "tags": []
   },
   "outputs": [
    {
     "data": {
      "application/vnd.jupyter.widget-view+json": {
       "model_id": "a060fdd2d7ba488ab06736a4d013653b",
       "version_major": 2,
       "version_minor": 0
      },
      "text/plain": [
       "Downloading:   0%|          | 0.00/737 [00:00<?, ?B/s]"
      ]
     },
     "metadata": {},
     "output_type": "display_data"
    },
    {
     "data": {
      "application/vnd.jupyter.widget-view+json": {
       "model_id": "4a84d958510f496488568c90d134ae7f",
       "version_major": 2,
       "version_minor": 0
      },
      "text/plain": [
       "Downloading:   0%|          | 0.00/9.86k [00:00<?, ?B/s]"
      ]
     },
     "metadata": {},
     "output_type": "display_data"
    },
    {
     "data": {
      "application/vnd.jupyter.widget-view+json": {
       "model_id": "ed365fe568184eda847dad909ed45e0b",
       "version_major": 2,
       "version_minor": 0
      },
      "text/plain": [
       "Downloading:   0%|          | 0.00/653 [00:00<?, ?B/s]"
      ]
     },
     "metadata": {},
     "output_type": "display_data"
    },
    {
     "data": {
      "application/vnd.jupyter.widget-view+json": {
       "model_id": "151a0971c8854035afe090e827306c5b",
       "version_major": 2,
       "version_minor": 0
      },
      "text/plain": [
       "Downloading:   0%|          | 0.00/116 [00:00<?, ?B/s]"
      ]
     },
     "metadata": {},
     "output_type": "display_data"
    },
    {
     "data": {
      "application/vnd.jupyter.widget-view+json": {
       "model_id": "445cf4d299e4433f98327ff31e20f74a",
       "version_major": 2,
       "version_minor": 0
      },
      "text/plain": [
       "Downloading:   0%|          | 0.00/15.7k [00:00<?, ?B/s]"
      ]
     },
     "metadata": {},
     "output_type": "display_data"
    },
    {
     "data": {
      "application/vnd.jupyter.widget-view+json": {
       "model_id": "51e35a33849c4e019df063b2a0926a62",
       "version_major": 2,
       "version_minor": 0
      },
      "text/plain": [
       "Downloading:   0%|          | 0.00/456k [00:00<?, ?B/s]"
      ]
     },
     "metadata": {},
     "output_type": "display_data"
    },
    {
     "data": {
      "application/vnd.jupyter.widget-view+json": {
       "model_id": "fcd5b24003044d8b9e79bd009b9f678b",
       "version_major": 2,
       "version_minor": 0
      },
      "text/plain": [
       "Downloading:   0%|          | 0.00/349 [00:00<?, ?B/s]"
      ]
     },
     "metadata": {},
     "output_type": "display_data"
    },
    {
     "data": {
      "application/vnd.jupyter.widget-view+json": {
       "model_id": "75abc51d89a64173928bb7fed40dff45",
       "version_major": 2,
       "version_minor": 0
      },
      "text/plain": [
       "Downloading:   0%|          | 0.00/329M [00:00<?, ?B/s]"
      ]
     },
     "metadata": {},
     "output_type": "display_data"
    },
    {
     "data": {
      "application/vnd.jupyter.widget-view+json": {
       "model_id": "780333185307491c90d1f423867a0fd7",
       "version_major": 2,
       "version_minor": 0
      },
      "text/plain": [
       "Downloading:   0%|          | 0.00/53.0 [00:00<?, ?B/s]"
      ]
     },
     "metadata": {},
     "output_type": "display_data"
    },
    {
     "data": {
      "application/vnd.jupyter.widget-view+json": {
       "model_id": "1b9ae7ece65a46fcb33a0be4a17434fb",
       "version_major": 2,
       "version_minor": 0
      },
      "text/plain": [
       "Downloading:   0%|          | 0.00/239 [00:00<?, ?B/s]"
      ]
     },
     "metadata": {},
     "output_type": "display_data"
    },
    {
     "data": {
      "application/vnd.jupyter.widget-view+json": {
       "model_id": "460ce5b441194212877f8021e339f965",
       "version_major": 2,
       "version_minor": 0
      },
      "text/plain": [
       "Downloading:   0%|          | 0.00/1.36M [00:00<?, ?B/s]"
      ]
     },
     "metadata": {},
     "output_type": "display_data"
    },
    {
     "data": {
      "application/vnd.jupyter.widget-view+json": {
       "model_id": "5e8049b9a2c84b9a8131d56c46a369a8",
       "version_major": 2,
       "version_minor": 0
      },
      "text/plain": [
       "Downloading:   0%|          | 0.00/333 [00:00<?, ?B/s]"
      ]
     },
     "metadata": {},
     "output_type": "display_data"
    },
    {
     "data": {
      "application/vnd.jupyter.widget-view+json": {
       "model_id": "412d8ae02d764801be7607268353602b",
       "version_major": 2,
       "version_minor": 0
      },
      "text/plain": [
       "Downloading:   0%|          | 0.00/13.1k [00:00<?, ?B/s]"
      ]
     },
     "metadata": {},
     "output_type": "display_data"
    },
    {
     "data": {
      "application/vnd.jupyter.widget-view+json": {
       "model_id": "c86a55421fe148488df39b9427403581",
       "version_major": 2,
       "version_minor": 0
      },
      "text/plain": [
       "Downloading:   0%|          | 0.00/798k [00:00<?, ?B/s]"
      ]
     },
     "metadata": {},
     "output_type": "display_data"
    },
    {
     "data": {
      "application/vnd.jupyter.widget-view+json": {
       "model_id": "04edca972fb24b21a4ecd88ae12728cb",
       "version_major": 2,
       "version_minor": 0
      },
      "text/plain": [
       "Downloading:   0%|          | 0.00/190 [00:00<?, ?B/s]"
      ]
     },
     "metadata": {},
     "output_type": "display_data"
    }
   ],
   "source": [
    "model_st1 = SentenceTransformer('all-mpnet-base-v2')\n",
    "model_st2 = SentenceTransformer('all-MiniLM-L6-v2')\n",
    "model_st3 = SentenceTransformer('all-distilroberta-v1')\n",
    "#model_st1 = SentenceTransformer('paraphrase-mpnet-base-v2')\n",
    "#model_st2 = SentenceTransformer('paraphrase-distilroberta-base-v2')\n",
    "#model_st3 = SentenceTransformer('stsb-mpnet-base-v2')"
   ]
  },
  {
   "cell_type": "code",
   "execution_count": 10,
   "id": "b53dbf49-2707-4f49-900c-6de896900818",
   "metadata": {},
   "outputs": [],
   "source": [
    "def embed(model, model_type, sentences):\n",
    "    if model_type == 'use':\n",
    "        embeddings = model(sentences)\n",
    "    elif model_type == 'sentence transformer':\n",
    "        embeddings = model.encode(sentences)\n",
    "    \n",
    "    return embeddings"
   ]
  },
  {
   "cell_type": "code",
   "execution_count": 11,
   "id": "25f438c7-1e73-479e-ba94-5de20a6062ca",
   "metadata": {},
   "outputs": [
    {
     "data": {
      "text/plain": [
       "TensorShape([1000, 512])"
      ]
     },
     "execution_count": 11,
     "metadata": {},
     "output_type": "execute_result"
    }
   ],
   "source": [
    "embeddings_use = embed(model_use, 'use', all_intents)\n",
    "embeddings_use.shape"
   ]
  },
  {
   "cell_type": "code",
   "execution_count": 12,
   "id": "03963e44-cffb-49fd-afb4-e6989d8b6514",
   "metadata": {},
   "outputs": [
    {
     "data": {
      "text/plain": [
       "(1000, 768)"
      ]
     },
     "execution_count": 12,
     "metadata": {},
     "output_type": "execute_result"
    }
   ],
   "source": [
    "embeddings_st1 = embed(model_st1, 'sentence transformer', all_intents)\n",
    "embeddings_st1.shape"
   ]
  },
  {
   "cell_type": "code",
   "execution_count": 13,
   "id": "78b3d55e-5b74-416b-a8a1-74b47d9188f6",
   "metadata": {},
   "outputs": [
    {
     "data": {
      "text/plain": [
       "(1000, 384)"
      ]
     },
     "execution_count": 13,
     "metadata": {},
     "output_type": "execute_result"
    }
   ],
   "source": [
    "embeddings_st2 = embed(model_st2, 'sentence transformer', all_intents)\n",
    "embeddings_st2.shape"
   ]
  },
  {
   "cell_type": "code",
   "execution_count": 14,
   "id": "ba64e992-9f92-40fd-82dd-71dbf74e1d3f",
   "metadata": {},
   "outputs": [
    {
     "data": {
      "text/plain": [
       "(1000, 768)"
      ]
     },
     "execution_count": 14,
     "metadata": {},
     "output_type": "execute_result"
    }
   ],
   "source": [
    "embeddings_st3 = embed(model_st3, 'sentence transformer', all_intents)\n",
    "embeddings_st3.shape"
   ]
  },
  {
   "cell_type": "code",
   "execution_count": 15,
   "id": "073e377c-6e68-44e6-8595-35dc527dfb1d",
   "metadata": {},
   "outputs": [],
   "source": [
    "model_use = ChatIntents(embeddings_use, 'use')\n",
    "model_st1 = ChatIntents(embeddings_st1, 'st1')\n",
    "model_st2 = ChatIntents(embeddings_st2, 'st2')\n",
    "model_st3 = ChatIntents(embeddings_st3, 'st3')"
   ]
  },
  {
   "cell_type": "markdown",
   "id": "ee38fbbe-69ff-49c9-a14b-b0e05c60e949",
   "metadata": {},
   "source": [
    "## Results with default hyperparameters"
   ]
  },
  {
   "cell_type": "code",
   "execution_count": 16,
   "id": "0a3c7846-4317-4011-aa80-04d439da3d02",
   "metadata": {},
   "outputs": [],
   "source": [
    "clusters_default = model_st1.generate_clusters(n_neighbors = 15, \n",
    "                                 n_components = 5, \n",
    "                                 min_cluster_size = 5, \n",
    "                                 min_samples = None,\n",
    "                                 random_state=42)"
   ]
  },
  {
   "cell_type": "code",
   "execution_count": 17,
   "id": "94a026dd-5504-4853-a1c4-6740e792363c",
   "metadata": {},
   "outputs": [
    {
     "name": "stdout",
     "output_type": "stream",
     "text": [
      "56\n",
      "0.146\n"
     ]
    }
   ],
   "source": [
    "labels_def, cost_def = model_st1.score_clusters(clusters_default)\n",
    "print(labels_def)\n",
    "print(cost_def)"
   ]
  },
  {
   "cell_type": "markdown",
   "id": "692e5dc0-4ed0-4b18-8d80-8fb4668bb96c",
   "metadata": {},
   "source": [
    "## Tuning hyperparameters"
   ]
  },
  {
   "cell_type": "markdown",
   "id": "eff16945-e71a-4e42-be59-9c2d2074bbc4",
   "metadata": {},
   "source": [
    "### Random hyperparameter search"
   ]
  },
  {
   "cell_type": "code",
   "execution_count": 18,
   "id": "e56e95a2-8db7-4750-a43c-aa68acdc7c3e",
   "metadata": {},
   "outputs": [
    {
     "data": {
      "application/vnd.jupyter.widget-view+json": {
       "model_id": "8dc4f5c578814c99aa363ff482b7c10f",
       "version_major": 2,
       "version_minor": 0
      },
      "text/plain": [
       "  0%|          | 0/100 [00:00<?, ?it/s]"
      ]
     },
     "metadata": {},
     "output_type": "display_data"
    }
   ],
   "source": [
    "space = {\n",
    "        \"n_neighbors\": range(12,16),\n",
    "        \"n_components\": range(3,7),\n",
    "        \"min_cluster_size\": range(2,15),\n",
    "        \"min_samples\": range(2,15)\n",
    "    }\n",
    "\n",
    "random_st1 = model_st1.random_search(space, 100)"
   ]
  },
  {
   "cell_type": "code",
   "execution_count": 19,
   "id": "aee0b214-96d2-4e48-84c2-30384e7148a2",
   "metadata": {},
   "outputs": [
    {
     "data": {
      "text/html": [
       "<div>\n",
       "<style scoped>\n",
       "    .dataframe tbody tr th:only-of-type {\n",
       "        vertical-align: middle;\n",
       "    }\n",
       "\n",
       "    .dataframe tbody tr th {\n",
       "        vertical-align: top;\n",
       "    }\n",
       "\n",
       "    .dataframe thead th {\n",
       "        text-align: right;\n",
       "    }\n",
       "</style>\n",
       "<table border=\"1\" class=\"dataframe\">\n",
       "  <thead>\n",
       "    <tr style=\"text-align: right;\">\n",
       "      <th></th>\n",
       "      <th>run_id</th>\n",
       "      <th>n_neighbors</th>\n",
       "      <th>n_components</th>\n",
       "      <th>min_cluster_size</th>\n",
       "      <th>min_samples</th>\n",
       "      <th>label_count</th>\n",
       "      <th>cost</th>\n",
       "    </tr>\n",
       "  </thead>\n",
       "  <tbody>\n",
       "    <tr>\n",
       "      <th>14</th>\n",
       "      <td>14</td>\n",
       "      <td>15</td>\n",
       "      <td>3</td>\n",
       "      <td>7</td>\n",
       "      <td>2</td>\n",
       "      <td>60</td>\n",
       "      <td>0.086</td>\n",
       "    </tr>\n",
       "    <tr>\n",
       "      <th>82</th>\n",
       "      <td>82</td>\n",
       "      <td>15</td>\n",
       "      <td>4</td>\n",
       "      <td>6</td>\n",
       "      <td>2</td>\n",
       "      <td>67</td>\n",
       "      <td>0.091</td>\n",
       "    </tr>\n",
       "    <tr>\n",
       "      <th>75</th>\n",
       "      <td>75</td>\n",
       "      <td>14</td>\n",
       "      <td>6</td>\n",
       "      <td>14</td>\n",
       "      <td>2</td>\n",
       "      <td>34</td>\n",
       "      <td>0.093</td>\n",
       "    </tr>\n",
       "    <tr>\n",
       "      <th>38</th>\n",
       "      <td>38</td>\n",
       "      <td>14</td>\n",
       "      <td>4</td>\n",
       "      <td>10</td>\n",
       "      <td>3</td>\n",
       "      <td>44</td>\n",
       "      <td>0.094</td>\n",
       "    </tr>\n",
       "    <tr>\n",
       "      <th>12</th>\n",
       "      <td>12</td>\n",
       "      <td>13</td>\n",
       "      <td>3</td>\n",
       "      <td>10</td>\n",
       "      <td>5</td>\n",
       "      <td>38</td>\n",
       "      <td>0.095</td>\n",
       "    </tr>\n",
       "    <tr>\n",
       "      <th>39</th>\n",
       "      <td>39</td>\n",
       "      <td>14</td>\n",
       "      <td>3</td>\n",
       "      <td>5</td>\n",
       "      <td>3</td>\n",
       "      <td>73</td>\n",
       "      <td>0.097</td>\n",
       "    </tr>\n",
       "    <tr>\n",
       "      <th>13</th>\n",
       "      <td>13</td>\n",
       "      <td>13</td>\n",
       "      <td>3</td>\n",
       "      <td>13</td>\n",
       "      <td>5</td>\n",
       "      <td>31</td>\n",
       "      <td>0.097</td>\n",
       "    </tr>\n",
       "    <tr>\n",
       "      <th>30</th>\n",
       "      <td>30</td>\n",
       "      <td>12</td>\n",
       "      <td>4</td>\n",
       "      <td>12</td>\n",
       "      <td>8</td>\n",
       "      <td>35</td>\n",
       "      <td>0.101</td>\n",
       "    </tr>\n",
       "    <tr>\n",
       "      <th>90</th>\n",
       "      <td>90</td>\n",
       "      <td>12</td>\n",
       "      <td>4</td>\n",
       "      <td>9</td>\n",
       "      <td>7</td>\n",
       "      <td>42</td>\n",
       "      <td>0.103</td>\n",
       "    </tr>\n",
       "    <tr>\n",
       "      <th>48</th>\n",
       "      <td>48</td>\n",
       "      <td>12</td>\n",
       "      <td>3</td>\n",
       "      <td>5</td>\n",
       "      <td>2</td>\n",
       "      <td>86</td>\n",
       "      <td>0.108</td>\n",
       "    </tr>\n",
       "    <tr>\n",
       "      <th>97</th>\n",
       "      <td>97</td>\n",
       "      <td>15</td>\n",
       "      <td>3</td>\n",
       "      <td>11</td>\n",
       "      <td>4</td>\n",
       "      <td>39</td>\n",
       "      <td>0.109</td>\n",
       "    </tr>\n",
       "    <tr>\n",
       "      <th>3</th>\n",
       "      <td>3</td>\n",
       "      <td>12</td>\n",
       "      <td>5</td>\n",
       "      <td>4</td>\n",
       "      <td>5</td>\n",
       "      <td>65</td>\n",
       "      <td>0.112</td>\n",
       "    </tr>\n",
       "    <tr>\n",
       "      <th>43</th>\n",
       "      <td>43</td>\n",
       "      <td>13</td>\n",
       "      <td>6</td>\n",
       "      <td>6</td>\n",
       "      <td>2</td>\n",
       "      <td>71</td>\n",
       "      <td>0.113</td>\n",
       "    </tr>\n",
       "    <tr>\n",
       "      <th>76</th>\n",
       "      <td>76</td>\n",
       "      <td>12</td>\n",
       "      <td>3</td>\n",
       "      <td>9</td>\n",
       "      <td>8</td>\n",
       "      <td>41</td>\n",
       "      <td>0.119</td>\n",
       "    </tr>\n",
       "    <tr>\n",
       "      <th>78</th>\n",
       "      <td>78</td>\n",
       "      <td>13</td>\n",
       "      <td>3</td>\n",
       "      <td>5</td>\n",
       "      <td>4</td>\n",
       "      <td>69</td>\n",
       "      <td>0.119</td>\n",
       "    </tr>\n",
       "    <tr>\n",
       "      <th>65</th>\n",
       "      <td>65</td>\n",
       "      <td>14</td>\n",
       "      <td>4</td>\n",
       "      <td>2</td>\n",
       "      <td>3</td>\n",
       "      <td>89</td>\n",
       "      <td>0.122</td>\n",
       "    </tr>\n",
       "    <tr>\n",
       "      <th>5</th>\n",
       "      <td>5</td>\n",
       "      <td>15</td>\n",
       "      <td>5</td>\n",
       "      <td>7</td>\n",
       "      <td>8</td>\n",
       "      <td>37</td>\n",
       "      <td>0.124</td>\n",
       "    </tr>\n",
       "    <tr>\n",
       "      <th>58</th>\n",
       "      <td>58</td>\n",
       "      <td>15</td>\n",
       "      <td>5</td>\n",
       "      <td>8</td>\n",
       "      <td>8</td>\n",
       "      <td>37</td>\n",
       "      <td>0.124</td>\n",
       "    </tr>\n",
       "    <tr>\n",
       "      <th>28</th>\n",
       "      <td>28</td>\n",
       "      <td>15</td>\n",
       "      <td>4</td>\n",
       "      <td>3</td>\n",
       "      <td>4</td>\n",
       "      <td>70</td>\n",
       "      <td>0.124</td>\n",
       "    </tr>\n",
       "    <tr>\n",
       "      <th>55</th>\n",
       "      <td>55</td>\n",
       "      <td>15</td>\n",
       "      <td>6</td>\n",
       "      <td>3</td>\n",
       "      <td>8</td>\n",
       "      <td>43</td>\n",
       "      <td>0.125</td>\n",
       "    </tr>\n",
       "  </tbody>\n",
       "</table>\n",
       "</div>"
      ],
      "text/plain": [
       "    run_id  n_neighbors  n_components  min_cluster_size  min_samples  \\\n",
       "14      14           15             3                 7            2   \n",
       "82      82           15             4                 6            2   \n",
       "75      75           14             6                14            2   \n",
       "38      38           14             4                10            3   \n",
       "12      12           13             3                10            5   \n",
       "39      39           14             3                 5            3   \n",
       "13      13           13             3                13            5   \n",
       "30      30           12             4                12            8   \n",
       "90      90           12             4                 9            7   \n",
       "48      48           12             3                 5            2   \n",
       "97      97           15             3                11            4   \n",
       "3        3           12             5                 4            5   \n",
       "43      43           13             6                 6            2   \n",
       "76      76           12             3                 9            8   \n",
       "78      78           13             3                 5            4   \n",
       "65      65           14             4                 2            3   \n",
       "5        5           15             5                 7            8   \n",
       "58      58           15             5                 8            8   \n",
       "28      28           15             4                 3            4   \n",
       "55      55           15             6                 3            8   \n",
       "\n",
       "    label_count   cost  \n",
       "14           60  0.086  \n",
       "82           67  0.091  \n",
       "75           34  0.093  \n",
       "38           44  0.094  \n",
       "12           38  0.095  \n",
       "39           73  0.097  \n",
       "13           31  0.097  \n",
       "30           35  0.101  \n",
       "90           42  0.103  \n",
       "48           86  0.108  \n",
       "97           39  0.109  \n",
       "3            65  0.112  \n",
       "43           71  0.113  \n",
       "76           41  0.119  \n",
       "78           69  0.119  \n",
       "65           89  0.122  \n",
       "5            37  0.124  \n",
       "58           37  0.124  \n",
       "28           70  0.124  \n",
       "55           43  0.125  "
      ]
     },
     "execution_count": 19,
     "metadata": {},
     "output_type": "execute_result"
    }
   ],
   "source": [
    "random_st1.head(20)"
   ]
  },
  {
   "cell_type": "markdown",
   "id": "89502189-0e3f-4b1b-af25-9df568582846",
   "metadata": {},
   "source": [
    "### Bayesian optimization with Hyperopt"
   ]
  },
  {
   "cell_type": "code",
   "execution_count": 20,
   "id": "b4cbeee3-d676-4849-8718-7fa77ba8d771",
   "metadata": {},
   "outputs": [],
   "source": [
    "hspace = {\n",
    "    \"n_neighbors\": hp.choice('n_neighbors', range(3,16)),\n",
    "    \"n_components\": hp.choice('n_components', range(3,16)),\n",
    "    \"min_cluster_size\": hp.choice('min_cluster_size', range(2,16)),\n",
    "    \"min_samples\": None,\n",
    "    \"random_state\": 42\n",
    "}\n",
    "\n",
    "label_lower = 30\n",
    "label_upper = 100\n",
    "max_evals = 100"
   ]
  },
  {
   "cell_type": "code",
   "execution_count": 21,
   "id": "94120a91-187d-410d-a40f-3dbf028cc8b5",
   "metadata": {},
   "outputs": [
    {
     "name": "stdout",
     "output_type": "stream",
     "text": [
      "100%|██████████| 100/100 [05:21<00:00,  3.21s/trial, best loss: 0.097]            \n",
      "best:\n",
      "{'min_cluster_size': 4, 'min_samples': None, 'n_components': 12, 'n_neighbors': 3, 'random_state': 42}\n",
      "label count: 79\n"
     ]
    }
   ],
   "source": [
    "model_use.bayesian_search(space=hspace,\n",
    "                          label_lower=label_lower, \n",
    "                          label_upper=label_upper, \n",
    "                          max_evals=max_evals)"
   ]
  },
  {
   "cell_type": "code",
   "execution_count": 22,
   "id": "f385ce66-d739-4844-af11-8720aebd737b",
   "metadata": {},
   "outputs": [
    {
     "data": {
      "text/plain": [
       "{'min_cluster_size': 4,\n",
       " 'min_samples': None,\n",
       " 'n_components': 12,\n",
       " 'n_neighbors': 3,\n",
       " 'random_state': 42}"
      ]
     },
     "execution_count": 22,
     "metadata": {},
     "output_type": "execute_result"
    }
   ],
   "source": [
    "model_use.best_params"
   ]
  },
  {
   "cell_type": "code",
   "execution_count": 23,
   "id": "879cf926-d9e5-4149-9b17-b7e4ce5b27dd",
   "metadata": {},
   "outputs": [
    {
     "data": {
      "text/plain": [
       "{'state': 2,\n",
       " 'tid': 89,\n",
       " 'spec': None,\n",
       " 'result': {'loss': 0.097, 'label_count': 79, 'status': 'ok'},\n",
       " 'misc': {'tid': 89,\n",
       "  'cmd': ('domain_attachment', 'FMinIter_Domain'),\n",
       "  'workdir': None,\n",
       "  'idxs': {'min_cluster_size': [89],\n",
       "   'n_components': [89],\n",
       "   'n_neighbors': [89]},\n",
       "  'vals': {'min_cluster_size': [2], 'n_components': [9], 'n_neighbors': [0]}},\n",
       " 'exp_key': None,\n",
       " 'owner': None,\n",
       " 'version': 0,\n",
       " 'book_time': datetime.datetime(2021, 9, 27, 16, 52, 11, 893000),\n",
       " 'refresh_time': datetime.datetime(2021, 9, 27, 16, 52, 14, 286000)}"
      ]
     },
     "execution_count": 23,
     "metadata": {},
     "output_type": "execute_result"
    }
   ],
   "source": [
    "model_use.trials.best_trial"
   ]
  },
  {
   "cell_type": "code",
   "execution_count": 24,
   "id": "e09d78a5-d84f-4783-809a-ca51c1ca2b42",
   "metadata": {},
   "outputs": [
    {
     "name": "stdout",
     "output_type": "stream",
     "text": [
      "100%|██████████| 100/100 [06:20<00:00,  3.80s/trial, best loss: 0.075]\n",
      "best:\n",
      "{'min_cluster_size': 7, 'min_samples': None, 'n_components': 8, 'n_neighbors': 4, 'random_state': 42}\n",
      "label count: 47\n"
     ]
    }
   ],
   "source": [
    "model_st1.bayesian_search(space=hspace,\n",
    "                          label_lower=label_lower, \n",
    "                          label_upper=label_upper, \n",
    "                          max_evals=max_evals)                                                             "
   ]
  },
  {
   "cell_type": "code",
   "execution_count": 25,
   "id": "4ab15f34-04cd-41df-9f9a-655a7a02a397",
   "metadata": {},
   "outputs": [
    {
     "name": "stdout",
     "output_type": "stream",
     "text": [
      "100%|██████████| 100/100 [04:48<00:00,  2.89s/trial, best loss: 0.067]\n",
      "best:\n",
      "{'min_cluster_size': 7, 'min_samples': None, 'n_components': 14, 'n_neighbors': 4, 'random_state': 42}\n",
      "label count: 43\n"
     ]
    }
   ],
   "source": [
    "model_st2.bayesian_search(space=hspace,\n",
    "                          label_lower=label_lower, \n",
    "                          label_upper=label_upper, \n",
    "                          max_evals=max_evals)"
   ]
  },
  {
   "cell_type": "code",
   "execution_count": 26,
   "id": "bb5af658-29fe-46ba-aecb-6428eca0708e",
   "metadata": {},
   "outputs": [
    {
     "name": "stdout",
     "output_type": "stream",
     "text": [
      "100%|██████████| 100/100 [05:09<00:00,  3.09s/trial, best loss: 0.059]\n",
      "best:\n",
      "{'min_cluster_size': 4, 'min_samples': None, 'n_components': 14, 'n_neighbors': 3, 'random_state': 42}\n",
      "label count: 83\n"
     ]
    }
   ],
   "source": [
    "model_st3.bayesian_search(space=hspace,\n",
    "                          label_lower=label_lower, \n",
    "                          label_upper=label_upper, \n",
    "                          max_evals=max_evals)"
   ]
  },
  {
   "cell_type": "markdown",
   "id": "33768528-9a03-4216-9f99-3fe13d3a7053",
   "metadata": {
    "tags": []
   },
   "source": [
    "## Visually inspect clusters"
   ]
  },
  {
   "cell_type": "code",
   "execution_count": 27,
   "id": "28a69d46-421d-4f82-ace1-07e4f67317b0",
   "metadata": {},
   "outputs": [
    {
     "data": {
      "image/png": "[encoded data removed]",
      "text/plain": [
       "<Figure size 1008x576 with 2 Axes>"
      ]
     },
     "metadata": {
      "needs_background": "light"
     },
     "output_type": "display_data"
    }
   ],
   "source": [
    "model_use.plot_best_clusters()"
   ]
  },
  {
   "cell_type": "code",
   "execution_count": 28,
   "id": "f3e397f0-29e2-446a-a47b-78d898b457de",
   "metadata": {},
   "outputs": [
    {
     "data": {
      "image/png": "[encoded data removed]",
      "text/plain": [
       "<Figure size 1008x576 with 2 Axes>"
      ]
     },
     "metadata": {
      "needs_background": "light"
     },
     "output_type": "display_data"
    }
   ],
   "source": [
    "model_st1.plot_best_clusters()"
   ]
  },
  {
   "cell_type": "code",
   "execution_count": 29,
   "id": "05bbd0db-bf74-46f5-873e-b1e526d872de",
   "metadata": {},
   "outputs": [
    {
     "data": {
      "image/png": "[encoded data removed]",
      "text/plain": [
       "<Figure size 1008x576 with 2 Axes>"
      ]
     },
     "metadata": {
      "needs_background": "light"
     },
     "output_type": "display_data"
    }
   ],
   "source": [
    "model_st2.plot_best_clusters()"
   ]
  },
  {
   "cell_type": "code",
   "execution_count": 30,
   "id": "913ad59b-0cfe-4844-aa04-0153b287ba24",
   "metadata": {},
   "outputs": [
    {
     "data": {
      "image/png": "[encoded data removed]",
      "text/plain": [
       "<Figure size 1008x576 with 2 Axes>"
      ]
     },
     "metadata": {
      "needs_background": "light"
     },
     "output_type": "display_data"
    }
   ],
   "source": [
    "model_st3.plot_best_clusters()"
   ]
  },
  {
   "cell_type": "markdown",
   "id": "58aab97a-e888-42cc-8c9b-4d1a509d139e",
   "metadata": {},
   "source": [
    "## Apply labels"
   ]
  },
  {
   "cell_type": "code",
   "execution_count": 45,
   "id": "8a137cfd-7611-4af8-b033-327e072c9ae3",
   "metadata": {},
   "outputs": [
    {
     "name": "stdout",
     "output_type": "stream",
     "text": [
      "CPU times: user 22.4 s, sys: 2.07 s, total: 24.5 s\n",
      "Wall time: 26 s\n"
     ]
    }
   ],
   "source": [
    "%%time\n",
    "\n",
    "df_summary, labeled_docs = model_st1.apply_and_summarize_labels(data_sample[['text']])"
   ]
  },
  {
   "cell_type": "code",
   "execution_count": 46,
   "id": "ed6e9494-d765-4aed-ad65-a5f3ac72d1f2",
   "metadata": {},
   "outputs": [
    {
     "data": {
      "text/html": [
       "<div>\n",
       "<style scoped>\n",
       "    .dataframe tbody tr th:only-of-type {\n",
       "        vertical-align: middle;\n",
       "    }\n",
       "\n",
       "    .dataframe tbody tr th {\n",
       "        vertical-align: top;\n",
       "    }\n",
       "\n",
       "    .dataframe thead th {\n",
       "        text-align: right;\n",
       "    }\n",
       "</style>\n",
       "<table border=\"1\" class=\"dataframe\">\n",
       "  <thead>\n",
       "    <tr style=\"text-align: right;\">\n",
       "      <th></th>\n",
       "      <th>label_st1</th>\n",
       "      <th>count</th>\n",
       "      <th>label</th>\n",
       "    </tr>\n",
       "  </thead>\n",
       "  <tbody>\n",
       "    <tr>\n",
       "      <th>0</th>\n",
       "      <td>-1</td>\n",
       "      <td>75</td>\n",
       "      <td>declined_card_transfer</td>\n",
       "    </tr>\n",
       "    <tr>\n",
       "      <th>16</th>\n",
       "      <td>15</td>\n",
       "      <td>55</td>\n",
       "      <td>use_account_card_auto</td>\n",
       "    </tr>\n",
       "    <tr>\n",
       "      <th>11</th>\n",
       "      <td>10</td>\n",
       "      <td>49</td>\n",
       "      <td>pending_money_account</td>\n",
       "    </tr>\n",
       "    <tr>\n",
       "      <th>4</th>\n",
       "      <td>3</td>\n",
       "      <td>46</td>\n",
       "      <td>help_refund_statement</td>\n",
       "    </tr>\n",
       "    <tr>\n",
       "      <th>21</th>\n",
       "      <td>20</td>\n",
       "      <td>42</td>\n",
       "      <td>need_money_country_currency</td>\n",
       "    </tr>\n",
       "  </tbody>\n",
       "</table>\n",
       "</div>"
      ],
      "text/plain": [
       "    label_st1  count                        label\n",
       "0          -1     75       declined_card_transfer\n",
       "16         15     55        use_account_card_auto\n",
       "11         10     49        pending_money_account\n",
       "4           3     46        help_refund_statement\n",
       "21         20     42  need_money_country_currency"
      ]
     },
     "execution_count": 46,
     "metadata": {},
     "output_type": "execute_result"
    }
   ],
   "source": [
    "df_summary.head()"
   ]
  },
  {
   "cell_type": "code",
   "execution_count": 47,
   "id": "e5c6774a-17f3-4428-9676-374c9ca861cc",
   "metadata": {},
   "outputs": [
    {
     "data": {
      "text/html": [
       "<div>\n",
       "<style scoped>\n",
       "    .dataframe tbody tr th:only-of-type {\n",
       "        vertical-align: middle;\n",
       "    }\n",
       "\n",
       "    .dataframe tbody tr th {\n",
       "        vertical-align: top;\n",
       "    }\n",
       "\n",
       "    .dataframe thead th {\n",
       "        text-align: right;\n",
       "    }\n",
       "</style>\n",
       "<table border=\"1\" class=\"dataframe\">\n",
       "  <thead>\n",
       "    <tr style=\"text-align: right;\">\n",
       "      <th></th>\n",
       "      <th>text</th>\n",
       "      <th>label_st1</th>\n",
       "      <th>label</th>\n",
       "    </tr>\n",
       "  </thead>\n",
       "  <tbody>\n",
       "    <tr>\n",
       "      <th>0</th>\n",
       "      <td>I'm worried my card might be lost in the mail? How long does it usually take to arrive?</td>\n",
       "      <td>32</td>\n",
       "      <td>expect_card_week</td>\n",
       "    </tr>\n",
       "    <tr>\n",
       "      <th>1</th>\n",
       "      <td>I got charged a fee that shouldn't be there from my cash</td>\n",
       "      <td>16</td>\n",
       "      <td>charged_fee_withdrawal_cash</td>\n",
       "    </tr>\n",
       "    <tr>\n",
       "      <th>2</th>\n",
       "      <td>Do you charge for making a withdrawal? I took some money out of my account earlier and I was charged for this.</td>\n",
       "      <td>16</td>\n",
       "      <td>charged_fee_withdrawal_cash</td>\n",
       "    </tr>\n",
       "    <tr>\n",
       "      <th>3</th>\n",
       "      <td>Is there an issue with my account?  I don't see a cheque deposit that I made yesterday.  Please assist.</td>\n",
       "      <td>30</td>\n",
       "      <td>deposited_money_account_cash</td>\n",
       "    </tr>\n",
       "    <tr>\n",
       "      <th>4</th>\n",
       "      <td>Are there ways for other people to send me money?</td>\n",
       "      <td>10</td>\n",
       "      <td>pending_money_account</td>\n",
       "    </tr>\n",
       "  </tbody>\n",
       "</table>\n",
       "</div>"
      ],
      "text/plain": [
       "                                                                                                             text  \\\n",
       "0                         I'm worried my card might be lost in the mail? How long does it usually take to arrive?   \n",
       "1                                                        I got charged a fee that shouldn't be there from my cash   \n",
       "2  Do you charge for making a withdrawal? I took some money out of my account earlier and I was charged for this.   \n",
       "3         Is there an issue with my account?  I don't see a cheque deposit that I made yesterday.  Please assist.   \n",
       "4                                                               Are there ways for other people to send me money?   \n",
       "\n",
       "   label_st1                         label  \n",
       "0         32              expect_card_week  \n",
       "1         16   charged_fee_withdrawal_cash  \n",
       "2         16   charged_fee_withdrawal_cash  \n",
       "3         30  deposited_money_account_cash  \n",
       "4         10         pending_money_account  "
      ]
     },
     "execution_count": 47,
     "metadata": {},
     "output_type": "execute_result"
    }
   ],
   "source": [
    "labeled_docs.head()"
   ]
  },
  {
   "cell_type": "markdown",
   "id": "8f84e273-7c7c-453f-ac43-cdbe45be42c6",
   "metadata": {
    "tags": []
   },
   "source": [
    "## Evaluate clustering performance using ground truth labels"
   ]
  },
  {
   "cell_type": "markdown",
   "id": "bcd96ee4-a82b-45bc-afc1-5192cf0ff618",
   "metadata": {},
   "source": [
    "### Comparing multiple models"
   ]
  },
  {
   "cell_type": "code",
   "execution_count": 34,
   "id": "db411b96-9608-422f-b031-2fc23abeea6e",
   "metadata": {},
   "outputs": [],
   "source": [
    "models = [model_use, model_st1, model_st2, model_st3]\n",
    "\n",
    "df_comparison, labeled_docs_all_models = chatintents.evaluate_models(data_sample[['text', 'category']], models)"
   ]
  },
  {
   "cell_type": "code",
   "execution_count": 35,
   "id": "443a9a09-b828-4b54-b781-c4d539c69917",
   "metadata": {},
   "outputs": [
    {
     "data": {
      "text/html": [
       "<div>\n",
       "<style scoped>\n",
       "    .dataframe tbody tr th:only-of-type {\n",
       "        vertical-align: middle;\n",
       "    }\n",
       "\n",
       "    .dataframe tbody tr th {\n",
       "        vertical-align: top;\n",
       "    }\n",
       "\n",
       "    .dataframe thead th {\n",
       "        text-align: right;\n",
       "    }\n",
       "</style>\n",
       "<table border=\"1\" class=\"dataframe\">\n",
       "  <thead>\n",
       "    <tr style=\"text-align: right;\">\n",
       "      <th></th>\n",
       "      <th>Model</th>\n",
       "      <th>ARI</th>\n",
       "      <th>NMI</th>\n",
       "    </tr>\n",
       "  </thead>\n",
       "  <tbody>\n",
       "    <tr>\n",
       "      <th>1</th>\n",
       "      <td>st1</td>\n",
       "      <td>0.412</td>\n",
       "      <td>0.780</td>\n",
       "    </tr>\n",
       "    <tr>\n",
       "      <th>3</th>\n",
       "      <td>st3</td>\n",
       "      <td>0.390</td>\n",
       "      <td>0.777</td>\n",
       "    </tr>\n",
       "    <tr>\n",
       "      <th>2</th>\n",
       "      <td>st2</td>\n",
       "      <td>0.357</td>\n",
       "      <td>0.750</td>\n",
       "    </tr>\n",
       "    <tr>\n",
       "      <th>0</th>\n",
       "      <td>use</td>\n",
       "      <td>0.268</td>\n",
       "      <td>0.725</td>\n",
       "    </tr>\n",
       "  </tbody>\n",
       "</table>\n",
       "</div>"
      ],
      "text/plain": [
       "  Model    ARI    NMI\n",
       "1   st1  0.412  0.780\n",
       "3   st3  0.390  0.777\n",
       "2   st2  0.357  0.750\n",
       "0   use  0.268  0.725"
      ]
     },
     "execution_count": 35,
     "metadata": {},
     "output_type": "execute_result"
    }
   ],
   "source": [
    "df_comparison"
   ]
  },
  {
   "cell_type": "code",
   "execution_count": 36,
   "id": "0e38d4b1-8fa9-4bcd-a4a9-b3926550e955",
   "metadata": {},
   "outputs": [
    {
     "data": {
      "text/html": [
       "<div>\n",
       "<style scoped>\n",
       "    .dataframe tbody tr th:only-of-type {\n",
       "        vertical-align: middle;\n",
       "    }\n",
       "\n",
       "    .dataframe tbody tr th {\n",
       "        vertical-align: top;\n",
       "    }\n",
       "\n",
       "    .dataframe thead th {\n",
       "        text-align: right;\n",
       "    }\n",
       "</style>\n",
       "<table border=\"1\" class=\"dataframe\">\n",
       "  <thead>\n",
       "    <tr style=\"text-align: right;\">\n",
       "      <th></th>\n",
       "      <th>text</th>\n",
       "      <th>category</th>\n",
       "      <th>label_use</th>\n",
       "      <th>label_st1</th>\n",
       "      <th>label_st2</th>\n",
       "      <th>label_st3</th>\n",
       "    </tr>\n",
       "  </thead>\n",
       "  <tbody>\n",
       "    <tr>\n",
       "      <th>954</th>\n",
       "      <td>The amount of cash I selected to withdraw is different than what I received.</td>\n",
       "      <td>wrong_amount_of_cash_received</td>\n",
       "      <td>-1</td>\n",
       "      <td>44</td>\n",
       "      <td>20</td>\n",
       "      <td>36</td>\n",
       "    </tr>\n",
       "    <tr>\n",
       "      <th>314</th>\n",
       "      <td>Do I get charged for a top up from a European bank?</td>\n",
       "      <td>top_up_by_card_charge</td>\n",
       "      <td>43</td>\n",
       "      <td>19</td>\n",
       "      <td>41</td>\n",
       "      <td>57</td>\n",
       "    </tr>\n",
       "    <tr>\n",
       "      <th>300</th>\n",
       "      <td>Where do we mail the card?</td>\n",
       "      <td>order_physical_card</td>\n",
       "      <td>67</td>\n",
       "      <td>34</td>\n",
       "      <td>26</td>\n",
       "      <td>39</td>\n",
       "    </tr>\n",
       "    <tr>\n",
       "      <th>27</th>\n",
       "      <td>I am overseas in China, can I get a replacement card?</td>\n",
       "      <td>card_about_to_expire</td>\n",
       "      <td>35</td>\n",
       "      <td>34</td>\n",
       "      <td>26</td>\n",
       "      <td>-1</td>\n",
       "    </tr>\n",
       "    <tr>\n",
       "      <th>78</th>\n",
       "      <td>I can't see my top up in my wallet!</td>\n",
       "      <td>topping_up_by_card</td>\n",
       "      <td>-1</td>\n",
       "      <td>10</td>\n",
       "      <td>15</td>\n",
       "      <td>31</td>\n",
       "    </tr>\n",
       "  </tbody>\n",
       "</table>\n",
       "</div>"
      ],
      "text/plain": [
       "                                                                             text  \\\n",
       "954  The amount of cash I selected to withdraw is different than what I received.   \n",
       "314                           Do I get charged for a top up from a European bank?   \n",
       "300                                                    Where do we mail the card?   \n",
       "27                          I am overseas in China, can I get a replacement card?   \n",
       "78                                            I can't see my top up in my wallet!   \n",
       "\n",
       "                          category  label_use  label_st1  label_st2  label_st3  \n",
       "954  wrong_amount_of_cash_received         -1         44         20         36  \n",
       "314          top_up_by_card_charge         43         19         41         57  \n",
       "300            order_physical_card         67         34         26         39  \n",
       "27            card_about_to_expire         35         34         26         -1  \n",
       "78              topping_up_by_card         -1         10         15         31  "
      ]
     },
     "execution_count": 36,
     "metadata": {},
     "output_type": "execute_result"
    }
   ],
   "source": [
    "labeled_docs_all_models.sample(5)"
   ]
  },
  {
   "cell_type": "code",
   "execution_count": 44,
   "id": "ad5da3f5-21a7-4c83-886e-8d0996f6cca0",
   "metadata": {},
   "outputs": [
    {
     "data": {
      "text/html": [
       "<div>\n",
       "<style scoped>\n",
       "    .dataframe tbody tr th:only-of-type {\n",
       "        vertical-align: middle;\n",
       "    }\n",
       "\n",
       "    .dataframe tbody tr th {\n",
       "        vertical-align: top;\n",
       "    }\n",
       "\n",
       "    .dataframe thead th {\n",
       "        text-align: right;\n",
       "    }\n",
       "</style>\n",
       "<table border=\"1\" class=\"dataframe\">\n",
       "  <thead>\n",
       "    <tr style=\"text-align: right;\">\n",
       "      <th></th>\n",
       "      <th>text</th>\n",
       "      <th>category</th>\n",
       "      <th>label_use</th>\n",
       "      <th>label_st1</th>\n",
       "      <th>label_st2</th>\n",
       "      <th>label_st3</th>\n",
       "    </tr>\n",
       "  </thead>\n",
       "  <tbody>\n",
       "    <tr>\n",
       "      <th>44</th>\n",
       "      <td>What are the countries you have offices in?</td>\n",
       "      <td>country_support</td>\n",
       "      <td>2</td>\n",
       "      <td>20</td>\n",
       "      <td>12</td>\n",
       "      <td>19</td>\n",
       "    </tr>\n",
       "    <tr>\n",
       "      <th>279</th>\n",
       "      <td>What countries are you available in?</td>\n",
       "      <td>country_support</td>\n",
       "      <td>2</td>\n",
       "      <td>20</td>\n",
       "      <td>12</td>\n",
       "      <td>19</td>\n",
       "    </tr>\n",
       "    <tr>\n",
       "      <th>295</th>\n",
       "      <td>What are the countries that you operate in?</td>\n",
       "      <td>country_support</td>\n",
       "      <td>2</td>\n",
       "      <td>20</td>\n",
       "      <td>12</td>\n",
       "      <td>19</td>\n",
       "    </tr>\n",
       "    <tr>\n",
       "      <th>503</th>\n",
       "      <td>Which countries do you operate in</td>\n",
       "      <td>country_support</td>\n",
       "      <td>2</td>\n",
       "      <td>20</td>\n",
       "      <td>12</td>\n",
       "      <td>19</td>\n",
       "    </tr>\n",
       "    <tr>\n",
       "      <th>600</th>\n",
       "      <td>How do I know which countries you provide service in?</td>\n",
       "      <td>country_support</td>\n",
       "      <td>2</td>\n",
       "      <td>20</td>\n",
       "      <td>12</td>\n",
       "      <td>19</td>\n",
       "    </tr>\n",
       "    <tr>\n",
       "      <th>898</th>\n",
       "      <td>I would like to know the countries you are offer services in?</td>\n",
       "      <td>country_support</td>\n",
       "      <td>2</td>\n",
       "      <td>20</td>\n",
       "      <td>12</td>\n",
       "      <td>19</td>\n",
       "    </tr>\n",
       "  </tbody>\n",
       "</table>\n",
       "</div>"
      ],
      "text/plain": [
       "                                                              text  \\\n",
       "44                     What are the countries you have offices in?   \n",
       "279                           What countries are you available in?   \n",
       "295                    What are the countries that you operate in?   \n",
       "503                              Which countries do you operate in   \n",
       "600          How do I know which countries you provide service in?   \n",
       "898  I would like to know the countries you are offer services in?   \n",
       "\n",
       "            category  label_use  label_st1  label_st2  label_st3  \n",
       "44   country_support          2         20         12         19  \n",
       "279  country_support          2         20         12         19  \n",
       "295  country_support          2         20         12         19  \n",
       "503  country_support          2         20         12         19  \n",
       "600  country_support          2         20         12         19  \n",
       "898  country_support          2         20         12         19  "
      ]
     },
     "execution_count": 44,
     "metadata": {},
     "output_type": "execute_result"
    }
   ],
   "source": [
    "labeled_docs_all_models[labeled_docs_all_models['label_use']==2]"
   ]
  },
  {
   "cell_type": "code",
   "execution_count": 41,
   "id": "b2b5aa57-e020-4681-a3d3-71402fc83fbd",
   "metadata": {},
   "outputs": [
    {
     "data": {
      "text/html": [
       "<div>\n",
       "<style scoped>\n",
       "    .dataframe tbody tr th:only-of-type {\n",
       "        vertical-align: middle;\n",
       "    }\n",
       "\n",
       "    .dataframe tbody tr th {\n",
       "        vertical-align: top;\n",
       "    }\n",
       "\n",
       "    .dataframe thead th {\n",
       "        text-align: right;\n",
       "    }\n",
       "</style>\n",
       "<table border=\"1\" class=\"dataframe\">\n",
       "  <thead>\n",
       "    <tr style=\"text-align: right;\">\n",
       "      <th></th>\n",
       "      <th>text</th>\n",
       "      <th>category</th>\n",
       "      <th>label_use</th>\n",
       "      <th>label_st1</th>\n",
       "      <th>label_st2</th>\n",
       "      <th>label_st3</th>\n",
       "    </tr>\n",
       "  </thead>\n",
       "  <tbody>\n",
       "    <tr>\n",
       "      <th>27</th>\n",
       "      <td>I am overseas in China, can I get a replacement card?</td>\n",
       "      <td>card_about_to_expire</td>\n",
       "      <td>35</td>\n",
       "      <td>34</td>\n",
       "      <td>26</td>\n",
       "      <td>-1</td>\n",
       "    </tr>\n",
       "    <tr>\n",
       "      <th>370</th>\n",
       "      <td>If I am in China, can I still order a new card and if so, how?</td>\n",
       "      <td>card_about_to_expire</td>\n",
       "      <td>35</td>\n",
       "      <td>34</td>\n",
       "      <td>26</td>\n",
       "      <td>-1</td>\n",
       "    </tr>\n",
       "    <tr>\n",
       "      <th>441</th>\n",
       "      <td>My card is almost expired.  How fast will I get a new one and what is the cost?</td>\n",
       "      <td>card_about_to_expire</td>\n",
       "      <td>9</td>\n",
       "      <td>34</td>\n",
       "      <td>13</td>\n",
       "      <td>58</td>\n",
       "    </tr>\n",
       "    <tr>\n",
       "      <th>477</th>\n",
       "      <td>My card is about to expire. Do I have to go to a branch to order a new card?</td>\n",
       "      <td>card_about_to_expire</td>\n",
       "      <td>9</td>\n",
       "      <td>34</td>\n",
       "      <td>13</td>\n",
       "      <td>58</td>\n",
       "    </tr>\n",
       "    <tr>\n",
       "      <th>521</th>\n",
       "      <td>My card expires soon, will you send me one automatically?</td>\n",
       "      <td>card_about_to_expire</td>\n",
       "      <td>9</td>\n",
       "      <td>34</td>\n",
       "      <td>13</td>\n",
       "      <td>58</td>\n",
       "    </tr>\n",
       "    <tr>\n",
       "      <th>524</th>\n",
       "      <td>My card expires very soon.  What is the cost and delivery time to get a new one?</td>\n",
       "      <td>card_about_to_expire</td>\n",
       "      <td>9</td>\n",
       "      <td>34</td>\n",
       "      <td>13</td>\n",
       "      <td>58</td>\n",
       "    </tr>\n",
       "    <tr>\n",
       "      <th>551</th>\n",
       "      <td>Where can I have a new bank card sent to China?</td>\n",
       "      <td>card_about_to_expire</td>\n",
       "      <td>35</td>\n",
       "      <td>34</td>\n",
       "      <td>26</td>\n",
       "      <td>-1</td>\n",
       "    </tr>\n",
       "    <tr>\n",
       "      <th>584</th>\n",
       "      <td>How do I get a new expiration date?</td>\n",
       "      <td>card_about_to_expire</td>\n",
       "      <td>9</td>\n",
       "      <td>34</td>\n",
       "      <td>13</td>\n",
       "      <td>58</td>\n",
       "    </tr>\n",
       "    <tr>\n",
       "      <th>605</th>\n",
       "      <td>Are there any express fees if i want my new card faster?</td>\n",
       "      <td>card_about_to_expire</td>\n",
       "      <td>-1</td>\n",
       "      <td>34</td>\n",
       "      <td>13</td>\n",
       "      <td>57</td>\n",
       "    </tr>\n",
       "    <tr>\n",
       "      <th>646</th>\n",
       "      <td>My card is almost going to expire.</td>\n",
       "      <td>card_about_to_expire</td>\n",
       "      <td>9</td>\n",
       "      <td>34</td>\n",
       "      <td>13</td>\n",
       "      <td>58</td>\n",
       "    </tr>\n",
       "    <tr>\n",
       "      <th>765</th>\n",
       "      <td>My card expires soon</td>\n",
       "      <td>card_about_to_expire</td>\n",
       "      <td>9</td>\n",
       "      <td>34</td>\n",
       "      <td>13</td>\n",
       "      <td>58</td>\n",
       "    </tr>\n",
       "    <tr>\n",
       "      <th>812</th>\n",
       "      <td>What is the cost and time frame of getting a new card?</td>\n",
       "      <td>card_about_to_expire</td>\n",
       "      <td>9</td>\n",
       "      <td>34</td>\n",
       "      <td>13</td>\n",
       "      <td>58</td>\n",
       "    </tr>\n",
       "    <tr>\n",
       "      <th>833</th>\n",
       "      <td>Help me order a new card that's going to be expired soon.</td>\n",
       "      <td>card_about_to_expire</td>\n",
       "      <td>9</td>\n",
       "      <td>34</td>\n",
       "      <td>13</td>\n",
       "      <td>58</td>\n",
       "    </tr>\n",
       "    <tr>\n",
       "      <th>888</th>\n",
       "      <td>What happens if my card expires?</td>\n",
       "      <td>card_about_to_expire</td>\n",
       "      <td>9</td>\n",
       "      <td>34</td>\n",
       "      <td>13</td>\n",
       "      <td>58</td>\n",
       "    </tr>\n",
       "  </tbody>\n",
       "</table>\n",
       "</div>"
      ],
      "text/plain": [
       "                                                                                 text  \\\n",
       "27                              I am overseas in China, can I get a replacement card?   \n",
       "370                    If I am in China, can I still order a new card and if so, how?   \n",
       "441   My card is almost expired.  How fast will I get a new one and what is the cost?   \n",
       "477      My card is about to expire. Do I have to go to a branch to order a new card?   \n",
       "521                         My card expires soon, will you send me one automatically?   \n",
       "524  My card expires very soon.  What is the cost and delivery time to get a new one?   \n",
       "551                                   Where can I have a new bank card sent to China?   \n",
       "584                                               How do I get a new expiration date?   \n",
       "605                          Are there any express fees if i want my new card faster?   \n",
       "646                                                My card is almost going to expire.   \n",
       "765                                                              My card expires soon   \n",
       "812                            What is the cost and time frame of getting a new card?   \n",
       "833                         Help me order a new card that's going to be expired soon.   \n",
       "888                                                  What happens if my card expires?   \n",
       "\n",
       "                 category  label_use  label_st1  label_st2  label_st3  \n",
       "27   card_about_to_expire         35         34         26         -1  \n",
       "370  card_about_to_expire         35         34         26         -1  \n",
       "441  card_about_to_expire          9         34         13         58  \n",
       "477  card_about_to_expire          9         34         13         58  \n",
       "521  card_about_to_expire          9         34         13         58  \n",
       "524  card_about_to_expire          9         34         13         58  \n",
       "551  card_about_to_expire         35         34         26         -1  \n",
       "584  card_about_to_expire          9         34         13         58  \n",
       "605  card_about_to_expire         -1         34         13         57  \n",
       "646  card_about_to_expire          9         34         13         58  \n",
       "765  card_about_to_expire          9         34         13         58  \n",
       "812  card_about_to_expire          9         34         13         58  \n",
       "833  card_about_to_expire          9         34         13         58  \n",
       "888  card_about_to_expire          9         34         13         58  "
      ]
     },
     "execution_count": 41,
     "metadata": {},
     "output_type": "execute_result"
    }
   ],
   "source": [
    "labeled_docs_all_models[labeled_docs_all_models['category']=='card_about_to_expire']"
   ]
  },
  {
   "cell_type": "markdown",
   "id": "a3cd9ccc-e415-4664-9604-f9b427310c11",
   "metadata": {},
   "source": [
    "### Evaluating labels from a single model to ground truth"
   ]
  },
  {
   "cell_type": "code",
   "execution_count": 39,
   "id": "cd6d493b-3c05-4213-bd1e-d3fc6e05a09f",
   "metadata": {},
   "outputs": [
    {
     "data": {
      "text/html": [
       "<div>\n",
       "<style scoped>\n",
       "    .dataframe tbody tr th:only-of-type {\n",
       "        vertical-align: middle;\n",
       "    }\n",
       "\n",
       "    .dataframe tbody tr th {\n",
       "        vertical-align: top;\n",
       "    }\n",
       "\n",
       "    .dataframe thead th {\n",
       "        text-align: right;\n",
       "    }\n",
       "</style>\n",
       "<table border=\"1\" class=\"dataframe\">\n",
       "  <thead>\n",
       "    <tr style=\"text-align: right;\">\n",
       "      <th></th>\n",
       "      <th>label_st1</th>\n",
       "      <th>count</th>\n",
       "      <th>label</th>\n",
       "      <th>top_ground_category</th>\n",
       "      <th>top_cat_count</th>\n",
       "      <th>perc_top_cat</th>\n",
       "    </tr>\n",
       "  </thead>\n",
       "  <tbody>\n",
       "    <tr>\n",
       "      <th>0</th>\n",
       "      <td>-1</td>\n",
       "      <td>75</td>\n",
       "      <td>declined_card_transfer</td>\n",
       "      <td>extra_charge_on_statement</td>\n",
       "      <td>10</td>\n",
       "      <td>13</td>\n",
       "    </tr>\n",
       "    <tr>\n",
       "      <th>1</th>\n",
       "      <td>15</td>\n",
       "      <td>55</td>\n",
       "      <td>use_account_card_auto</td>\n",
       "      <td>automatic_top_up</td>\n",
       "      <td>15</td>\n",
       "      <td>27</td>\n",
       "    </tr>\n",
       "    <tr>\n",
       "      <th>2</th>\n",
       "      <td>10</td>\n",
       "      <td>49</td>\n",
       "      <td>pending_money_account</td>\n",
       "      <td>pending_top_up</td>\n",
       "      <td>14</td>\n",
       "      <td>29</td>\n",
       "    </tr>\n",
       "    <tr>\n",
       "      <th>3</th>\n",
       "      <td>3</td>\n",
       "      <td>46</td>\n",
       "      <td>help_refund_statement</td>\n",
       "      <td>Refund_not_showing_up</td>\n",
       "      <td>26</td>\n",
       "      <td>57</td>\n",
       "    </tr>\n",
       "    <tr>\n",
       "      <th>4</th>\n",
       "      <td>20</td>\n",
       "      <td>42</td>\n",
       "      <td>need_money_country_currency</td>\n",
       "      <td>atm_support</td>\n",
       "      <td>10</td>\n",
       "      <td>24</td>\n",
       "    </tr>\n",
       "    <tr>\n",
       "      <th>5</th>\n",
       "      <td>28</td>\n",
       "      <td>36</td>\n",
       "      <td>find_source_fund_account</td>\n",
       "      <td>verify_source_of_funds</td>\n",
       "      <td>17</td>\n",
       "      <td>47</td>\n",
       "    </tr>\n",
       "    <tr>\n",
       "      <th>6</th>\n",
       "      <td>34</td>\n",
       "      <td>35</td>\n",
       "      <td>like_card_cost</td>\n",
       "      <td>card_about_to_expire</td>\n",
       "      <td>14</td>\n",
       "      <td>40</td>\n",
       "    </tr>\n",
       "    <tr>\n",
       "      <th>7</th>\n",
       "      <td>40</td>\n",
       "      <td>30</td>\n",
       "      <td>tell_payment_card</td>\n",
       "      <td>reverted_card_payment?</td>\n",
       "      <td>14</td>\n",
       "      <td>47</td>\n",
       "    </tr>\n",
       "    <tr>\n",
       "      <th>8</th>\n",
       "      <td>21</td>\n",
       "      <td>30</td>\n",
       "      <td>need_pin_card</td>\n",
       "      <td>change_pin</td>\n",
       "      <td>13</td>\n",
       "      <td>43</td>\n",
       "    </tr>\n",
       "    <tr>\n",
       "      <th>9</th>\n",
       "      <td>12</td>\n",
       "      <td>30</td>\n",
       "      <td>use_currency_app</td>\n",
       "      <td>fiat_currency_support</td>\n",
       "      <td>10</td>\n",
       "      <td>33</td>\n",
       "    </tr>\n",
       "    <tr>\n",
       "      <th>10</th>\n",
       "      <td>29</td>\n",
       "      <td>29</td>\n",
       "      <td>waiting_payment_card</td>\n",
       "      <td>pending_card_payment</td>\n",
       "      <td>21</td>\n",
       "      <td>72</td>\n",
       "    </tr>\n",
       "    <tr>\n",
       "      <th>11</th>\n",
       "      <td>16</td>\n",
       "      <td>28</td>\n",
       "      <td>charged_fee_withdrawal_cash</td>\n",
       "      <td>cash_withdrawal_charge</td>\n",
       "      <td>23</td>\n",
       "      <td>82</td>\n",
       "    </tr>\n",
       "    <tr>\n",
       "      <th>12</th>\n",
       "      <td>35</td>\n",
       "      <td>27</td>\n",
       "      <td>help_card_account</td>\n",
       "      <td>lost_or_stolen_card</td>\n",
       "      <td>9</td>\n",
       "      <td>33</td>\n",
       "    </tr>\n",
       "    <tr>\n",
       "      <th>13</th>\n",
       "      <td>26</td>\n",
       "      <td>26</td>\n",
       "      <td>left_identity_hotel</td>\n",
       "      <td>why_verify_identity</td>\n",
       "      <td>9</td>\n",
       "      <td>35</td>\n",
       "    </tr>\n",
       "    <tr>\n",
       "      <th>14</th>\n",
       "      <td>19</td>\n",
       "      <td>26</td>\n",
       "      <td>charged_card_bank_transfer</td>\n",
       "      <td>top_up_by_bank_transfer_charge</td>\n",
       "      <td>10</td>\n",
       "      <td>38</td>\n",
       "    </tr>\n",
       "    <tr>\n",
       "      <th>15</th>\n",
       "      <td>17</td>\n",
       "      <td>24</td>\n",
       "      <td>cancel_transfer_account_tomorrow</td>\n",
       "      <td>cancel_transfer</td>\n",
       "      <td>22</td>\n",
       "      <td>92</td>\n",
       "    </tr>\n",
       "    <tr>\n",
       "      <th>16</th>\n",
       "      <td>9</td>\n",
       "      <td>23</td>\n",
       "      <td>think_rate_exchange</td>\n",
       "      <td>wrong_exchange_rate_for_cash_withdrawal</td>\n",
       "      <td>13</td>\n",
       "      <td>57</td>\n",
       "    </tr>\n",
       "    <tr>\n",
       "      <th>17</th>\n",
       "      <td>14</td>\n",
       "      <td>21</td>\n",
       "      <td>work_card_procedure</td>\n",
       "      <td>getting_virtual_card</td>\n",
       "      <td>8</td>\n",
       "      <td>38</td>\n",
       "    </tr>\n",
       "    <tr>\n",
       "      <th>18</th>\n",
       "      <td>30</td>\n",
       "      <td>21</td>\n",
       "      <td>deposited_money_account_cash</td>\n",
       "      <td>balance_not_updated_after_cheque_or_cash_deposit</td>\n",
       "      <td>17</td>\n",
       "      <td>81</td>\n",
       "    </tr>\n",
       "    <tr>\n",
       "      <th>19</th>\n",
       "      <td>31</td>\n",
       "      <td>21</td>\n",
       "      <td>tried_transfer_beneficiary</td>\n",
       "      <td>beneficiary_not_allowed</td>\n",
       "      <td>11</td>\n",
       "      <td>52</td>\n",
       "    </tr>\n",
       "  </tbody>\n",
       "</table>\n",
       "</div>"
      ],
      "text/plain": [
       "    label_st1  count                             label  \\\n",
       "0          -1     75            declined_card_transfer   \n",
       "1          15     55             use_account_card_auto   \n",
       "2          10     49             pending_money_account   \n",
       "3           3     46             help_refund_statement   \n",
       "4          20     42       need_money_country_currency   \n",
       "5          28     36          find_source_fund_account   \n",
       "6          34     35                    like_card_cost   \n",
       "7          40     30                 tell_payment_card   \n",
       "8          21     30                     need_pin_card   \n",
       "9          12     30                  use_currency_app   \n",
       "10         29     29              waiting_payment_card   \n",
       "11         16     28       charged_fee_withdrawal_cash   \n",
       "12         35     27                 help_card_account   \n",
       "13         26     26               left_identity_hotel   \n",
       "14         19     26        charged_card_bank_transfer   \n",
       "15         17     24  cancel_transfer_account_tomorrow   \n",
       "16          9     23               think_rate_exchange   \n",
       "17         14     21               work_card_procedure   \n",
       "18         30     21      deposited_money_account_cash   \n",
       "19         31     21        tried_transfer_beneficiary   \n",
       "\n",
       "                                 top_ground_category  top_cat_count  \\\n",
       "0                          extra_charge_on_statement             10   \n",
       "1                                   automatic_top_up             15   \n",
       "2                                     pending_top_up             14   \n",
       "3                              Refund_not_showing_up             26   \n",
       "4                                        atm_support             10   \n",
       "5                             verify_source_of_funds             17   \n",
       "6                               card_about_to_expire             14   \n",
       "7                             reverted_card_payment?             14   \n",
       "8                                         change_pin             13   \n",
       "9                              fiat_currency_support             10   \n",
       "10                              pending_card_payment             21   \n",
       "11                            cash_withdrawal_charge             23   \n",
       "12                               lost_or_stolen_card              9   \n",
       "13                               why_verify_identity              9   \n",
       "14                    top_up_by_bank_transfer_charge             10   \n",
       "15                                   cancel_transfer             22   \n",
       "16           wrong_exchange_rate_for_cash_withdrawal             13   \n",
       "17                              getting_virtual_card              8   \n",
       "18  balance_not_updated_after_cheque_or_cash_deposit             17   \n",
       "19                           beneficiary_not_allowed             11   \n",
       "\n",
       "    perc_top_cat  \n",
       "0             13  \n",
       "1             27  \n",
       "2             29  \n",
       "3             57  \n",
       "4             24  \n",
       "5             47  \n",
       "6             40  \n",
       "7             47  \n",
       "8             43  \n",
       "9             33  \n",
       "10            72  \n",
       "11            82  \n",
       "12            33  \n",
       "13            35  \n",
       "14            38  \n",
       "15            92  \n",
       "16            57  \n",
       "17            38  \n",
       "18            81  \n",
       "19            52  "
      ]
     },
     "execution_count": 39,
     "metadata": {},
     "output_type": "execute_result"
    }
   ],
   "source": [
    "chatintents.top_cluster_category(labeled_docs, \n",
    "                                 data_sample[['text', 'category']], \n",
    "                                 'text',\n",
    "                                 df_summary).head(20)"
   ]
  },
  {
   "cell_type": "code",
   "execution_count": null,
   "id": "b1bcf85d-93f6-4c7d-847d-3ac393dc60d0",
   "metadata": {},
   "outputs": [],
   "source": []
  }
 ],
 "metadata": {
  "kernelspec": {
   "display_name": "Python 3",
   "language": "python",
   "name": "python3"
  },
  "language_info": {
   "codemirror_mode": {
    "name": "ipython",
    "version": 3
   },
   "file_extension": ".py",
   "mimetype": "text/x-python",
   "name": "python",
   "nbconvert_exporter": "python",
   "pygments_lexer": "ipython3",
   "version": "3.9.6"
  }
 },
 "nbformat": 4,
 "nbformat_minor": 5
}
