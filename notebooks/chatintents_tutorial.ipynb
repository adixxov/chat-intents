{
 "cells": [
  {
   "cell_type": "markdown",
   "id": "3f8bcc5e-f730-43a6-9084-5e2338b0c244",
   "metadata": {},
   "source": [
    "# Chat Intents Tutorial"
   ]
  },
  {
   "cell_type": "markdown",
   "id": "4e97ed57-8074-4b1d-9ce4-3980f9ec60df",
   "metadata": {},
   "source": [
    "The following provides an example of using the `chatintents` package on a dataset of chat message intents to automatically extract the number of clusters and apply descriptive labels. The associated [Medium blog post](https://towardsdatascience.com/clustering-sentence-embeddings-to-identify-intents-in-short-text-48d22d3bf02e) provides additional detail about the `chatintents` package and this example.\n",
    "\n",
    "The [bank77 dataset](https://github.com/PolyAI-LDN/task-specific-datasets) is used here, which contains messages representing 77 different intents from users. Four models are compared: Universal Sentence Encoder and three different Sentence Transformer models. "
   ]
  },
  {
   "cell_type": "code",
   "execution_count": 1,
   "id": "03ce00fb-fc41-4299-8b86-5312822fdf07",
   "metadata": {},
   "outputs": [],
   "source": [
    "import numpy as np\n",
    "import pandas as pd\n",
    "from hyperopt import hp\n",
    "\n",
    "# for USE model\n",
    "import tensorflow as tf\n",
    "import tensorflow_hub as hub\n",
    "\n",
    "# for Sentence Transformer models\n",
    "from sentence_transformers import SentenceTransformer\n",
    "\n",
    "import chatintents\n",
    "from chatintents import ChatIntents\n",
    "\n",
    "pd.set_option(\"display.max_rows\", 600)\n",
    "pd.set_option(\"display.max_columns\", 500)\n",
    "pd.set_option(\"max_colwidth\", 400)"
   ]
  },
  {
   "cell_type": "markdown",
   "id": "1fd4839b-afa4-4714-8b84-16056ec8a284",
   "metadata": {},
   "source": [
    "## Load data and pre-trained models"
   ]
  },
  {
   "cell_type": "markdown",
   "id": "d81eee19-2fc7-4a04-a39e-8cca25117390",
   "metadata": {},
   "source": [
    "Load a sample of the bank77 dataset to use as an example. Larger datasets can be used but will take longer to process."
   ]
  },
  {
   "cell_type": "code",
   "execution_count": 2,
   "id": "a97675ac-dcb0-4bf2-83a9-48ef9249d9da",
   "metadata": {},
   "outputs": [
    {
     "data": {
      "text/html": [
       "<div>\n",
       "<style scoped>\n",
       "    .dataframe tbody tr th:only-of-type {\n",
       "        vertical-align: middle;\n",
       "    }\n",
       "\n",
       "    .dataframe tbody tr th {\n",
       "        vertical-align: top;\n",
       "    }\n",
       "\n",
       "    .dataframe thead th {\n",
       "        text-align: right;\n",
       "    }\n",
       "</style>\n",
       "<table border=\"1\" class=\"dataframe\">\n",
       "  <thead>\n",
       "    <tr style=\"text-align: right;\">\n",
       "      <th></th>\n",
       "      <th>text</th>\n",
       "      <th>category</th>\n",
       "    </tr>\n",
       "  </thead>\n",
       "  <tbody>\n",
       "    <tr>\n",
       "      <th>0</th>\n",
       "      <td>I'm worried my card might be lost in the mail? How long does it usually take to arrive?</td>\n",
       "      <td>card_delivery_estimate</td>\n",
       "    </tr>\n",
       "    <tr>\n",
       "      <th>1</th>\n",
       "      <td>I got charged a fee that shouldn't be there from my cash</td>\n",
       "      <td>cash_withdrawal_charge</td>\n",
       "    </tr>\n",
       "    <tr>\n",
       "      <th>2</th>\n",
       "      <td>Do you charge for making a withdrawal? I took some money out of my account earlier and I was charged for this.</td>\n",
       "      <td>cash_withdrawal_charge</td>\n",
       "    </tr>\n",
       "    <tr>\n",
       "      <th>3</th>\n",
       "      <td>Is there an issue with my account?  I don't see a cheque deposit that I made yesterday.  Please assist.</td>\n",
       "      <td>balance_not_updated_after_cheque_or_cash_deposit</td>\n",
       "    </tr>\n",
       "    <tr>\n",
       "      <th>4</th>\n",
       "      <td>Are there ways for other people to send me money?</td>\n",
       "      <td>receiving_money</td>\n",
       "    </tr>\n",
       "  </tbody>\n",
       "</table>\n",
       "</div>"
      ],
      "text/plain": [
       "                                                                                                             text  \\\n",
       "0                         I'm worried my card might be lost in the mail? How long does it usually take to arrive?   \n",
       "1                                                        I got charged a fee that shouldn't be there from my cash   \n",
       "2  Do you charge for making a withdrawal? I took some money out of my account earlier and I was charged for this.   \n",
       "3         Is there an issue with my account?  I don't see a cheque deposit that I made yesterday.  Please assist.   \n",
       "4                                                               Are there ways for other people to send me money?   \n",
       "\n",
       "                                           category  \n",
       "0                            card_delivery_estimate  \n",
       "1                            cash_withdrawal_charge  \n",
       "2                            cash_withdrawal_charge  \n",
       "3  balance_not_updated_after_cheque_or_cash_deposit  \n",
       "4                                   receiving_money  "
      ]
     },
     "execution_count": 2,
     "metadata": {},
     "output_type": "execute_result"
    }
   ],
   "source": [
    "data_sample = pd.read_csv('../data/processed/data_sample.csv')[['text', 'category']]\n",
    "data_sample.head()"
   ]
  },
  {
   "cell_type": "code",
   "execution_count": 3,
   "id": "ddc170db-1e83-4217-98a5-1d97b4543558",
   "metadata": {},
   "outputs": [
    {
     "data": {
      "text/plain": [
       "1000"
      ]
     },
     "execution_count": 3,
     "metadata": {},
     "output_type": "execute_result"
    }
   ],
   "source": [
    "all_intents = list(data_sample['text'])\n",
    "len(all_intents)"
   ]
  },
  {
   "cell_type": "code",
   "execution_count": 5,
   "id": "7cd3c824-2a63-4b01-9a6b-7aae1d132d5e",
   "metadata": {},
   "outputs": [
    {
     "name": "stdout",
     "output_type": "stream",
     "text": [
      "module https://tfhub.dev/google/universal-sentence-encoder/4 loaded\n"
     ]
    }
   ],
   "source": [
    "module_url = \"https://tfhub.dev/google/universal-sentence-encoder/4\"\n",
    "model_use = hub.load(module_url)\n",
    "\n",
    "print(f\"module {module_url} loaded\")"
   ]
  },
  {
   "cell_type": "code",
   "execution_count": 6,
   "id": "97016d39-1ffd-4efa-aa25-4cc53fe71ff0",
   "metadata": {
    "scrolled": true,
    "tags": []
   },
   "outputs": [],
   "source": [
    "model_st1 = SentenceTransformer('all-mpnet-base-v2')\n",
    "model_st2 = SentenceTransformer('all-MiniLM-L6-v2')\n",
    "model_st3 = SentenceTransformer('all-distilroberta-v1')"
   ]
  },
  {
   "cell_type": "code",
   "execution_count": 7,
   "id": "b53dbf49-2707-4f49-900c-6de896900818",
   "metadata": {},
   "outputs": [],
   "source": [
    "def embed(model, model_type, sentences):\n",
    "    if model_type == 'use':\n",
    "        embeddings = model(sentences)\n",
    "    elif model_type == 'sentence transformer':\n",
    "        embeddings = model.encode(sentences)\n",
    "    \n",
    "    return embeddings"
   ]
  },
  {
   "cell_type": "markdown",
   "id": "3993860a-50a0-445e-bb46-d640b711f77b",
   "metadata": {},
   "source": [
    "Create document embeddings for the four different models:"
   ]
  },
  {
   "cell_type": "code",
   "execution_count": 8,
   "id": "25f438c7-1e73-479e-ba94-5de20a6062ca",
   "metadata": {},
   "outputs": [
    {
     "data": {
      "text/plain": [
       "TensorShape([1000, 512])"
      ]
     },
     "execution_count": 8,
     "metadata": {},
     "output_type": "execute_result"
    }
   ],
   "source": [
    "embeddings_use = embed(model_use, 'use', all_intents)\n",
    "embeddings_use.shape"
   ]
  },
  {
   "cell_type": "code",
   "execution_count": 9,
   "id": "03963e44-cffb-49fd-afb4-e6989d8b6514",
   "metadata": {},
   "outputs": [
    {
     "data": {
      "text/plain": [
       "(1000, 768)"
      ]
     },
     "execution_count": 9,
     "metadata": {},
     "output_type": "execute_result"
    }
   ],
   "source": [
    "embeddings_st1 = embed(model_st1, 'sentence transformer', all_intents)\n",
    "embeddings_st1.shape"
   ]
  },
  {
   "cell_type": "code",
   "execution_count": 10,
   "id": "78b3d55e-5b74-416b-a8a1-74b47d9188f6",
   "metadata": {},
   "outputs": [
    {
     "data": {
      "text/plain": [
       "(1000, 384)"
      ]
     },
     "execution_count": 10,
     "metadata": {},
     "output_type": "execute_result"
    }
   ],
   "source": [
    "embeddings_st2 = embed(model_st2, 'sentence transformer', all_intents)\n",
    "embeddings_st2.shape"
   ]
  },
  {
   "cell_type": "code",
   "execution_count": 11,
   "id": "ba64e992-9f92-40fd-82dd-71dbf74e1d3f",
   "metadata": {},
   "outputs": [
    {
     "data": {
      "text/plain": [
       "(1000, 768)"
      ]
     },
     "execution_count": 11,
     "metadata": {},
     "output_type": "execute_result"
    }
   ],
   "source": [
    "embeddings_st3 = embed(model_st3, 'sentence transformer', all_intents)\n",
    "embeddings_st3.shape"
   ]
  },
  {
   "cell_type": "code",
   "execution_count": 12,
   "id": "073e377c-6e68-44e6-8595-35dc527dfb1d",
   "metadata": {},
   "outputs": [],
   "source": [
    "model_use = ChatIntents(embeddings_use, 'use')\n",
    "model_st1 = ChatIntents(embeddings_st1, 'st1')\n",
    "model_st2 = ChatIntents(embeddings_st2, 'st2')\n",
    "model_st3 = ChatIntents(embeddings_st3, 'st3')"
   ]
  },
  {
   "cell_type": "markdown",
   "id": "ee38fbbe-69ff-49c9-a14b-b0e05c60e949",
   "metadata": {},
   "source": [
    "## Results with user-supplied hyperparameters"
   ]
  },
  {
   "cell_type": "code",
   "execution_count": 14,
   "id": "0a3c7846-4317-4011-aa80-04d439da3d02",
   "metadata": {},
   "outputs": [],
   "source": [
    "clusters_manual = model_st1.generate_clusters(n_neighbors = 15, \n",
    "                                              n_components = 5, \n",
    "                                              min_cluster_size = 5, \n",
    "                                              min_samples = None,\n",
    "                                              random_state=42)"
   ]
  },
  {
   "cell_type": "code",
   "execution_count": 15,
   "id": "94a026dd-5504-4853-a1c4-6740e792363c",
   "metadata": {},
   "outputs": [
    {
     "name": "stdout",
     "output_type": "stream",
     "text": [
      "56\n",
      "0.146\n"
     ]
    }
   ],
   "source": [
    "labels_manual, cost_manual = model_st1.score_clusters(clusters_manual)\n",
    "print(labels_manual)\n",
    "print(cost_manual)"
   ]
  },
  {
   "cell_type": "markdown",
   "id": "692e5dc0-4ed0-4b18-8d80-8fb4668bb96c",
   "metadata": {},
   "source": [
    "## Tuning hyperparameters"
   ]
  },
  {
   "cell_type": "markdown",
   "id": "eff16945-e71a-4e42-be59-9c2d2074bbc4",
   "metadata": {},
   "source": [
    "### Random hyperparameter search"
   ]
  },
  {
   "cell_type": "markdown",
   "id": "80fd926c-3715-4226-8fa5-116be78a6304",
   "metadata": {},
   "source": [
    "Randomly evalute 100 hyperparameter combinations within user-supplied ranges."
   ]
  },
  {
   "cell_type": "code",
   "execution_count": 17,
   "id": "e56e95a2-8db7-4750-a43c-aa68acdc7c3e",
   "metadata": {},
   "outputs": [
    {
     "data": {
      "application/vnd.jupyter.widget-view+json": {
       "model_id": "70c53e2747fd4887a0ff3cabcc7cd6a1",
       "version_major": 2,
       "version_minor": 0
      },
      "text/plain": [
       "  0%|          | 0/100 [00:00<?, ?it/s]"
      ]
     },
     "metadata": {},
     "output_type": "display_data"
    }
   ],
   "source": [
    "space = {\n",
    "        \"n_neighbors\": range(12,16),\n",
    "        \"n_components\": range(3,7),\n",
    "        \"min_cluster_size\": range(2,15),\n",
    "        \"min_samples\": [None]\n",
    "    }\n",
    "\n",
    "random_st1 = model_st1.random_search(space, 100)"
   ]
  },
  {
   "cell_type": "code",
   "execution_count": 18,
   "id": "aee0b214-96d2-4e48-84c2-30384e7148a2",
   "metadata": {},
   "outputs": [
    {
     "data": {
      "text/html": [
       "<div>\n",
       "<style scoped>\n",
       "    .dataframe tbody tr th:only-of-type {\n",
       "        vertical-align: middle;\n",
       "    }\n",
       "\n",
       "    .dataframe tbody tr th {\n",
       "        vertical-align: top;\n",
       "    }\n",
       "\n",
       "    .dataframe thead th {\n",
       "        text-align: right;\n",
       "    }\n",
       "</style>\n",
       "<table border=\"1\" class=\"dataframe\">\n",
       "  <thead>\n",
       "    <tr style=\"text-align: right;\">\n",
       "      <th></th>\n",
       "      <th>run_id</th>\n",
       "      <th>n_neighbors</th>\n",
       "      <th>n_components</th>\n",
       "      <th>min_cluster_size</th>\n",
       "      <th>min_samples</th>\n",
       "      <th>label_count</th>\n",
       "      <th>cost</th>\n",
       "    </tr>\n",
       "  </thead>\n",
       "  <tbody>\n",
       "    <tr>\n",
       "      <th>81</th>\n",
       "      <td>81</td>\n",
       "      <td>14</td>\n",
       "      <td>5</td>\n",
       "      <td>14</td>\n",
       "      <td>None</td>\n",
       "      <td>9</td>\n",
       "      <td>0.043</td>\n",
       "    </tr>\n",
       "    <tr>\n",
       "      <th>6</th>\n",
       "      <td>6</td>\n",
       "      <td>14</td>\n",
       "      <td>5</td>\n",
       "      <td>14</td>\n",
       "      <td>None</td>\n",
       "      <td>9</td>\n",
       "      <td>0.043</td>\n",
       "    </tr>\n",
       "    <tr>\n",
       "      <th>51</th>\n",
       "      <td>51</td>\n",
       "      <td>14</td>\n",
       "      <td>6</td>\n",
       "      <td>3</td>\n",
       "      <td>None</td>\n",
       "      <td>82</td>\n",
       "      <td>0.097</td>\n",
       "    </tr>\n",
       "    <tr>\n",
       "      <th>69</th>\n",
       "      <td>69</td>\n",
       "      <td>14</td>\n",
       "      <td>5</td>\n",
       "      <td>2</td>\n",
       "      <td>None</td>\n",
       "      <td>112</td>\n",
       "      <td>0.106</td>\n",
       "    </tr>\n",
       "    <tr>\n",
       "      <th>64</th>\n",
       "      <td>64</td>\n",
       "      <td>12</td>\n",
       "      <td>5</td>\n",
       "      <td>2</td>\n",
       "      <td>None</td>\n",
       "      <td>117</td>\n",
       "      <td>0.106</td>\n",
       "    </tr>\n",
       "    <tr>\n",
       "      <th>46</th>\n",
       "      <td>46</td>\n",
       "      <td>12</td>\n",
       "      <td>4</td>\n",
       "      <td>3</td>\n",
       "      <td>None</td>\n",
       "      <td>87</td>\n",
       "      <td>0.106</td>\n",
       "    </tr>\n",
       "    <tr>\n",
       "      <th>22</th>\n",
       "      <td>22</td>\n",
       "      <td>15</td>\n",
       "      <td>6</td>\n",
       "      <td>3</td>\n",
       "      <td>None</td>\n",
       "      <td>80</td>\n",
       "      <td>0.109</td>\n",
       "    </tr>\n",
       "    <tr>\n",
       "      <th>11</th>\n",
       "      <td>11</td>\n",
       "      <td>15</td>\n",
       "      <td>6</td>\n",
       "      <td>3</td>\n",
       "      <td>None</td>\n",
       "      <td>80</td>\n",
       "      <td>0.109</td>\n",
       "    </tr>\n",
       "    <tr>\n",
       "      <th>42</th>\n",
       "      <td>42</td>\n",
       "      <td>12</td>\n",
       "      <td>6</td>\n",
       "      <td>4</td>\n",
       "      <td>None</td>\n",
       "      <td>68</td>\n",
       "      <td>0.110</td>\n",
       "    </tr>\n",
       "    <tr>\n",
       "      <th>95</th>\n",
       "      <td>95</td>\n",
       "      <td>15</td>\n",
       "      <td>6</td>\n",
       "      <td>8</td>\n",
       "      <td>None</td>\n",
       "      <td>41</td>\n",
       "      <td>0.111</td>\n",
       "    </tr>\n",
       "    <tr>\n",
       "      <th>59</th>\n",
       "      <td>59</td>\n",
       "      <td>13</td>\n",
       "      <td>3</td>\n",
       "      <td>3</td>\n",
       "      <td>None</td>\n",
       "      <td>93</td>\n",
       "      <td>0.112</td>\n",
       "    </tr>\n",
       "    <tr>\n",
       "      <th>24</th>\n",
       "      <td>24</td>\n",
       "      <td>12</td>\n",
       "      <td>5</td>\n",
       "      <td>5</td>\n",
       "      <td>None</td>\n",
       "      <td>65</td>\n",
       "      <td>0.112</td>\n",
       "    </tr>\n",
       "    <tr>\n",
       "      <th>41</th>\n",
       "      <td>41</td>\n",
       "      <td>12</td>\n",
       "      <td>6</td>\n",
       "      <td>8</td>\n",
       "      <td>None</td>\n",
       "      <td>40</td>\n",
       "      <td>0.118</td>\n",
       "    </tr>\n",
       "    <tr>\n",
       "      <th>30</th>\n",
       "      <td>30</td>\n",
       "      <td>12</td>\n",
       "      <td>5</td>\n",
       "      <td>3</td>\n",
       "      <td>None</td>\n",
       "      <td>88</td>\n",
       "      <td>0.118</td>\n",
       "    </tr>\n",
       "    <tr>\n",
       "      <th>52</th>\n",
       "      <td>52</td>\n",
       "      <td>12</td>\n",
       "      <td>6</td>\n",
       "      <td>3</td>\n",
       "      <td>None</td>\n",
       "      <td>91</td>\n",
       "      <td>0.120</td>\n",
       "    </tr>\n",
       "    <tr>\n",
       "      <th>53</th>\n",
       "      <td>53</td>\n",
       "      <td>12</td>\n",
       "      <td>3</td>\n",
       "      <td>8</td>\n",
       "      <td>None</td>\n",
       "      <td>42</td>\n",
       "      <td>0.121</td>\n",
       "    </tr>\n",
       "    <tr>\n",
       "      <th>67</th>\n",
       "      <td>67</td>\n",
       "      <td>12</td>\n",
       "      <td>4</td>\n",
       "      <td>7</td>\n",
       "      <td>None</td>\n",
       "      <td>46</td>\n",
       "      <td>0.123</td>\n",
       "    </tr>\n",
       "    <tr>\n",
       "      <th>78</th>\n",
       "      <td>78</td>\n",
       "      <td>12</td>\n",
       "      <td>4</td>\n",
       "      <td>7</td>\n",
       "      <td>None</td>\n",
       "      <td>46</td>\n",
       "      <td>0.123</td>\n",
       "    </tr>\n",
       "    <tr>\n",
       "      <th>3</th>\n",
       "      <td>3</td>\n",
       "      <td>12</td>\n",
       "      <td>4</td>\n",
       "      <td>7</td>\n",
       "      <td>None</td>\n",
       "      <td>46</td>\n",
       "      <td>0.123</td>\n",
       "    </tr>\n",
       "    <tr>\n",
       "      <th>13</th>\n",
       "      <td>13</td>\n",
       "      <td>13</td>\n",
       "      <td>4</td>\n",
       "      <td>5</td>\n",
       "      <td>None</td>\n",
       "      <td>59</td>\n",
       "      <td>0.124</td>\n",
       "    </tr>\n",
       "  </tbody>\n",
       "</table>\n",
       "</div>"
      ],
      "text/plain": [
       "    run_id  n_neighbors  n_components  min_cluster_size min_samples  \\\n",
       "81      81           14             5                14        None   \n",
       "6        6           14             5                14        None   \n",
       "51      51           14             6                 3        None   \n",
       "69      69           14             5                 2        None   \n",
       "64      64           12             5                 2        None   \n",
       "46      46           12             4                 3        None   \n",
       "22      22           15             6                 3        None   \n",
       "11      11           15             6                 3        None   \n",
       "42      42           12             6                 4        None   \n",
       "95      95           15             6                 8        None   \n",
       "59      59           13             3                 3        None   \n",
       "24      24           12             5                 5        None   \n",
       "41      41           12             6                 8        None   \n",
       "30      30           12             5                 3        None   \n",
       "52      52           12             6                 3        None   \n",
       "53      53           12             3                 8        None   \n",
       "67      67           12             4                 7        None   \n",
       "78      78           12             4                 7        None   \n",
       "3        3           12             4                 7        None   \n",
       "13      13           13             4                 5        None   \n",
       "\n",
       "    label_count   cost  \n",
       "81            9  0.043  \n",
       "6             9  0.043  \n",
       "51           82  0.097  \n",
       "69          112  0.106  \n",
       "64          117  0.106  \n",
       "46           87  0.106  \n",
       "22           80  0.109  \n",
       "11           80  0.109  \n",
       "42           68  0.110  \n",
       "95           41  0.111  \n",
       "59           93  0.112  \n",
       "24           65  0.112  \n",
       "41           40  0.118  \n",
       "30           88  0.118  \n",
       "52           91  0.120  \n",
       "53           42  0.121  \n",
       "67           46  0.123  \n",
       "78           46  0.123  \n",
       "3            46  0.123  \n",
       "13           59  0.124  "
      ]
     },
     "execution_count": 18,
     "metadata": {},
     "output_type": "execute_result"
    }
   ],
   "source": [
    "random_st1.head(20)"
   ]
  },
  {
   "cell_type": "markdown",
   "id": "a9f2e153-e9e6-40ac-b086-4c7265dca52c",
   "metadata": {},
   "source": [
    "As seen above, we could manually inspect the random search results and apply our domain knowledge to decide which model is best. For this problem, we'd expect there to be between 30 and 100 clusters, so the third configuration in the above table seems reasonable (82 clusters and 9.7% of the data is labeled as noise)."
   ]
  },
  {
   "cell_type": "markdown",
   "id": "89502189-0e3f-4b1b-af25-9df568582846",
   "metadata": {},
   "source": [
    "### Bayesian optimization with Hyperopt"
   ]
  },
  {
   "cell_type": "markdown",
   "id": "0df18477-040d-4c02-b75c-2d6a7eaaca4d",
   "metadata": {},
   "source": [
    "Rather than selecting the parameters at random, here we use hyperopt to perform a Bayesian search of the hyperparameter space. Note that the hspace dictionary must use hyperopt functions to define the hyperparameter search space."
   ]
  },
  {
   "cell_type": "code",
   "execution_count": 19,
   "id": "b4cbeee3-d676-4849-8718-7fa77ba8d771",
   "metadata": {},
   "outputs": [],
   "source": [
    "hspace = {\n",
    "    \"n_neighbors\": hp.choice('n_neighbors', range(3,16)),\n",
    "    \"n_components\": hp.choice('n_components', range(3,16)),\n",
    "    \"min_cluster_size\": hp.choice('min_cluster_size', range(2,16)),\n",
    "    \"min_samples\": None,\n",
    "    \"random_state\": 42\n",
    "}\n",
    "\n",
    "label_lower = 30\n",
    "label_upper = 100\n",
    "max_evals = 100"
   ]
  },
  {
   "cell_type": "code",
   "execution_count": 20,
   "id": "94120a91-187d-410d-a40f-3dbf028cc8b5",
   "metadata": {},
   "outputs": [
    {
     "name": "stdout",
     "output_type": "stream",
     "text": [
      "100%|████████████████████| 100/100 [05:48<00:00,  3.48s/trial, best loss: 0.113]\n",
      "best:\n",
      "{'min_cluster_size': 5, 'min_samples': None, 'n_components': 10, 'n_neighbors': 6, 'random_state': 42}\n",
      "label count: 55\n"
     ]
    }
   ],
   "source": [
    "model_use.bayesian_search(space=hspace,\n",
    "                          label_lower=label_lower, \n",
    "                          label_upper=label_upper, \n",
    "                          max_evals=max_evals)"
   ]
  },
  {
   "cell_type": "code",
   "execution_count": 21,
   "id": "f385ce66-d739-4844-af11-8720aebd737b",
   "metadata": {},
   "outputs": [
    {
     "data": {
      "text/plain": [
       "{'min_cluster_size': 5,\n",
       " 'min_samples': None,\n",
       " 'n_components': 10,\n",
       " 'n_neighbors': 6,\n",
       " 'random_state': 42}"
      ]
     },
     "execution_count": 21,
     "metadata": {},
     "output_type": "execute_result"
    }
   ],
   "source": [
    "model_use.best_params"
   ]
  },
  {
   "cell_type": "code",
   "execution_count": 22,
   "id": "879cf926-d9e5-4149-9b17-b7e4ce5b27dd",
   "metadata": {},
   "outputs": [
    {
     "data": {
      "text/plain": [
       "{'state': 2,\n",
       " 'tid': 80,\n",
       " 'spec': None,\n",
       " 'result': {'loss': 0.113, 'label_count': 55, 'status': 'ok'},\n",
       " 'misc': {'tid': 80,\n",
       "  'cmd': ('domain_attachment', 'FMinIter_Domain'),\n",
       "  'workdir': None,\n",
       "  'idxs': {'min_cluster_size': [80],\n",
       "   'n_components': [80],\n",
       "   'n_neighbors': [80]},\n",
       "  'vals': {'min_cluster_size': [3], 'n_components': [7], 'n_neighbors': [3]}},\n",
       " 'exp_key': None,\n",
       " 'owner': None,\n",
       " 'version': 0,\n",
       " 'book_time': datetime.datetime(2021, 10, 18, 0, 20, 0, 608000),\n",
       " 'refresh_time': datetime.datetime(2021, 10, 18, 0, 20, 3, 400000)}"
      ]
     },
     "execution_count": 22,
     "metadata": {},
     "output_type": "execute_result"
    }
   ],
   "source": [
    "model_use.trials.best_trial"
   ]
  },
  {
   "cell_type": "code",
   "execution_count": 23,
   "id": "e09d78a5-d84f-4783-809a-ca51c1ca2b42",
   "metadata": {},
   "outputs": [
    {
     "name": "stdout",
     "output_type": "stream",
     "text": [
      "100%|████████████████████| 100/100 [05:38<00:00,  3.38s/trial, best loss: 0.056]\n",
      "best:\n",
      "{'min_cluster_size': 6, 'min_samples': None, 'n_components': 9, 'n_neighbors': 6, 'random_state': 42}\n",
      "label count: 55\n"
     ]
    }
   ],
   "source": [
    "model_st1.bayesian_search(space=hspace,\n",
    "                          label_lower=label_lower, \n",
    "                          label_upper=label_upper, \n",
    "                          max_evals=max_evals)                                                             "
   ]
  },
  {
   "cell_type": "markdown",
   "id": "5641fe18-da7b-4a7f-ab35-e20c7e7b13d4",
   "metadata": {},
   "source": [
    "Here we see that the bayesian search resulted in a lower loss (0.056) than the previous random search above (0.097 loss)."
   ]
  },
  {
   "cell_type": "code",
   "execution_count": 24,
   "id": "4ab15f34-04cd-41df-9f9a-655a7a02a397",
   "metadata": {},
   "outputs": [
    {
     "name": "stdout",
     "output_type": "stream",
     "text": [
      "100%|████████████████████| 100/100 [04:58<00:00,  2.98s/trial, best loss: 0.079]\n",
      "best:\n",
      "{'min_cluster_size': 7, 'min_samples': None, 'n_components': 13, 'n_neighbors': 3, 'random_state': 42}\n",
      "label count: 41\n"
     ]
    }
   ],
   "source": [
    "model_st2.bayesian_search(space=hspace,\n",
    "                          label_lower=label_lower, \n",
    "                          label_upper=label_upper, \n",
    "                          max_evals=max_evals)"
   ]
  },
  {
   "cell_type": "code",
   "execution_count": 25,
   "id": "bb5af658-29fe-46ba-aecb-6428eca0708e",
   "metadata": {},
   "outputs": [
    {
     "name": "stdout",
     "output_type": "stream",
     "text": [
      "100%|████████████████████| 100/100 [05:31<00:00,  3.32s/trial, best loss: 0.082]\n",
      "best:\n",
      "{'min_cluster_size': 3, 'min_samples': None, 'n_components': 14, 'n_neighbors': 9, 'random_state': 42}\n",
      "label count: 88\n"
     ]
    }
   ],
   "source": [
    "model_st3.bayesian_search(space=hspace,\n",
    "                          label_lower=label_lower, \n",
    "                          label_upper=label_upper, \n",
    "                          max_evals=max_evals)"
   ]
  },
  {
   "cell_type": "markdown",
   "id": "33768528-9a03-4216-9f99-3fe13d3a7053",
   "metadata": {
    "tags": []
   },
   "source": [
    "## Visually inspect clusters"
   ]
  },
  {
   "cell_type": "markdown",
   "id": "1c8ee772-cb22-494b-9099-fe276b3f5636",
   "metadata": {},
   "source": [
    "We can visualize the best clusters by using UMAP to reduce the dimensionality down to two dimensions."
   ]
  },
  {
   "cell_type": "code",
   "execution_count": 26,
   "id": "28a69d46-421d-4f82-ace1-07e4f67317b0",
   "metadata": {},
   "outputs": [
    {
     "data": {
      "image/png": "[encoded data removed]",
      "text/plain": [
       "<Figure size 1008x576 with 2 Axes>"
      ]
     },
     "metadata": {
      "needs_background": "light"
     },
     "output_type": "display_data"
    }
   ],
   "source": [
    "model_use.plot_best_clusters()"
   ]
  },
  {
   "cell_type": "code",
   "execution_count": 27,
   "id": "f3e397f0-29e2-446a-a47b-78d898b457de",
   "metadata": {},
   "outputs": [
    {
     "data": {
      "image/png": "[encoded data removed]",
      "text/plain": [
       "<Figure size 1008x576 with 2 Axes>"
      ]
     },
     "metadata": {
      "needs_background": "light"
     },
     "output_type": "display_data"
    }
   ],
   "source": [
    "model_st1.plot_best_clusters()"
   ]
  },
  {
   "cell_type": "code",
   "execution_count": 28,
   "id": "05bbd0db-bf74-46f5-873e-b1e526d872de",
   "metadata": {},
   "outputs": [
    {
     "data": {
      "image/png": "[encoded data removed]",
      "text/plain": [
       "<Figure size 1008x576 with 2 Axes>"
      ]
     },
     "metadata": {
      "needs_background": "light"
     },
     "output_type": "display_data"
    }
   ],
   "source": [
    "model_st2.plot_best_clusters()"
   ]
  },
  {
   "cell_type": "code",
   "execution_count": 29,
   "id": "913ad59b-0cfe-4844-aa04-0153b287ba24",
   "metadata": {},
   "outputs": [
    {
     "data": {
      "image/png": "[encoded data removed]",
      "text/plain": [
       "<Figure size 1008x576 with 2 Axes>"
      ]
     },
     "metadata": {
      "needs_background": "light"
     },
     "output_type": "display_data"
    }
   ],
   "source": [
    "model_st3.plot_best_clusters()"
   ]
  },
  {
   "cell_type": "markdown",
   "id": "58aab97a-e888-42cc-8c9b-4d1a509d139e",
   "metadata": {},
   "source": [
    "## Apply labels"
   ]
  },
  {
   "cell_type": "markdown",
   "id": "51f4c854-b49c-42a0-ad5a-240e75cda25c",
   "metadata": {},
   "source": [
    "Since sentence transformer 1 achieved the lowest loss (after hyperparameter tuning), we'll select that as our best clusters. Then, we can get our final result below of clusters and applied descriptive labels, and then apply those to each document in the original dataset."
   ]
  },
  {
   "cell_type": "code",
   "execution_count": 31,
   "id": "8a137cfd-7611-4af8-b033-327e072c9ae3",
   "metadata": {},
   "outputs": [
    {
     "name": "stdout",
     "output_type": "stream",
     "text": [
      "CPU times: user 25.3 s, sys: 1.63 s, total: 27 s\n",
      "Wall time: 28.3 s\n"
     ]
    }
   ],
   "source": [
    "%%time\n",
    "\n",
    "df_summary, labeled_docs = model_st1.apply_and_summarize_labels(data_sample[['text']])"
   ]
  },
  {
   "cell_type": "code",
   "execution_count": 32,
   "id": "ed6e9494-d765-4aed-ad65-a5f3ac72d1f2",
   "metadata": {},
   "outputs": [
    {
     "data": {
      "text/html": [
       "<div>\n",
       "<style scoped>\n",
       "    .dataframe tbody tr th:only-of-type {\n",
       "        vertical-align: middle;\n",
       "    }\n",
       "\n",
       "    .dataframe tbody tr th {\n",
       "        vertical-align: top;\n",
       "    }\n",
       "\n",
       "    .dataframe thead th {\n",
       "        text-align: right;\n",
       "    }\n",
       "</style>\n",
       "<table border=\"1\" class=\"dataframe\">\n",
       "  <thead>\n",
       "    <tr style=\"text-align: right;\">\n",
       "      <th></th>\n",
       "      <th>label_st1</th>\n",
       "      <th>count</th>\n",
       "      <th>label</th>\n",
       "    </tr>\n",
       "  </thead>\n",
       "  <tbody>\n",
       "    <tr>\n",
       "      <th>0</th>\n",
       "      <td>-1</td>\n",
       "      <td>56</td>\n",
       "      <td>add_card_app</td>\n",
       "    </tr>\n",
       "    <tr>\n",
       "      <th>27</th>\n",
       "      <td>26</td>\n",
       "      <td>49</td>\n",
       "      <td>use_account_card_auto</td>\n",
       "    </tr>\n",
       "    <tr>\n",
       "      <th>14</th>\n",
       "      <td>13</td>\n",
       "      <td>45</td>\n",
       "      <td>pending_money_account</td>\n",
       "    </tr>\n",
       "    <tr>\n",
       "      <th>4</th>\n",
       "      <td>3</td>\n",
       "      <td>44</td>\n",
       "      <td>help_refund_statement</td>\n",
       "    </tr>\n",
       "    <tr>\n",
       "      <th>15</th>\n",
       "      <td>14</td>\n",
       "      <td>38</td>\n",
       "      <td>help_card_app</td>\n",
       "    </tr>\n",
       "  </tbody>\n",
       "</table>\n",
       "</div>"
      ],
      "text/plain": [
       "    label_st1  count                  label\n",
       "0          -1     56           add_card_app\n",
       "27         26     49  use_account_card_auto\n",
       "14         13     45  pending_money_account\n",
       "4           3     44  help_refund_statement\n",
       "15         14     38          help_card_app"
      ]
     },
     "execution_count": 32,
     "metadata": {},
     "output_type": "execute_result"
    }
   ],
   "source": [
    "df_summary.head()"
   ]
  },
  {
   "cell_type": "code",
   "execution_count": 33,
   "id": "e5c6774a-17f3-4428-9676-374c9ca861cc",
   "metadata": {},
   "outputs": [
    {
     "data": {
      "text/html": [
       "<div>\n",
       "<style scoped>\n",
       "    .dataframe tbody tr th:only-of-type {\n",
       "        vertical-align: middle;\n",
       "    }\n",
       "\n",
       "    .dataframe tbody tr th {\n",
       "        vertical-align: top;\n",
       "    }\n",
       "\n",
       "    .dataframe thead th {\n",
       "        text-align: right;\n",
       "    }\n",
       "</style>\n",
       "<table border=\"1\" class=\"dataframe\">\n",
       "  <thead>\n",
       "    <tr style=\"text-align: right;\">\n",
       "      <th></th>\n",
       "      <th>text</th>\n",
       "      <th>label_st1</th>\n",
       "      <th>label</th>\n",
       "    </tr>\n",
       "  </thead>\n",
       "  <tbody>\n",
       "    <tr>\n",
       "      <th>0</th>\n",
       "      <td>I'm worried my card might be lost in the mail? How long does it usually take to arrive?</td>\n",
       "      <td>30</td>\n",
       "      <td>expect_card_week</td>\n",
       "    </tr>\n",
       "    <tr>\n",
       "      <th>1</th>\n",
       "      <td>I got charged a fee that shouldn't be there from my cash</td>\n",
       "      <td>32</td>\n",
       "      <td>charged_fee_withdrawal_cash</td>\n",
       "    </tr>\n",
       "    <tr>\n",
       "      <th>2</th>\n",
       "      <td>Do you charge for making a withdrawal? I took some money out of my account earlier and I was charged for this.</td>\n",
       "      <td>32</td>\n",
       "      <td>charged_fee_withdrawal_cash</td>\n",
       "    </tr>\n",
       "    <tr>\n",
       "      <th>3</th>\n",
       "      <td>Is there an issue with my account?  I don't see a cheque deposit that I made yesterday.  Please assist.</td>\n",
       "      <td>53</td>\n",
       "      <td>deposited_cheque_balance_yesterday</td>\n",
       "    </tr>\n",
       "    <tr>\n",
       "      <th>4</th>\n",
       "      <td>Are there ways for other people to send me money?</td>\n",
       "      <td>51</td>\n",
       "      <td>sent_money_friend_hour</td>\n",
       "    </tr>\n",
       "  </tbody>\n",
       "</table>\n",
       "</div>"
      ],
      "text/plain": [
       "                                                                                                             text  \\\n",
       "0                         I'm worried my card might be lost in the mail? How long does it usually take to arrive?   \n",
       "1                                                        I got charged a fee that shouldn't be there from my cash   \n",
       "2  Do you charge for making a withdrawal? I took some money out of my account earlier and I was charged for this.   \n",
       "3         Is there an issue with my account?  I don't see a cheque deposit that I made yesterday.  Please assist.   \n",
       "4                                                               Are there ways for other people to send me money?   \n",
       "\n",
       "   label_st1                               label  \n",
       "0         30                    expect_card_week  \n",
       "1         32         charged_fee_withdrawal_cash  \n",
       "2         32         charged_fee_withdrawal_cash  \n",
       "3         53  deposited_cheque_balance_yesterday  \n",
       "4         51              sent_money_friend_hour  "
      ]
     },
     "execution_count": 33,
     "metadata": {},
     "output_type": "execute_result"
    }
   ],
   "source": [
    "labeled_docs.head()"
   ]
  },
  {
   "cell_type": "markdown",
   "id": "61f6dc99-c0eb-4fa7-8e46-abd96cc6be0e",
   "metadata": {},
   "source": [
    "For most applications, these above two dataframes would be the final results we'd be trying to obtain."
   ]
  },
  {
   "cell_type": "markdown",
   "id": "8f84e273-7c7c-453f-ac43-cdbe45be42c6",
   "metadata": {
    "tags": []
   },
   "source": [
    "## Evaluate clustering performance using ground truth labels"
   ]
  },
  {
   "cell_type": "markdown",
   "id": "e28db657-3df4-4701-bb3b-4343073167f1",
   "metadata": {},
   "source": [
    "If we know the ground truth labels, then we can evaluate how well our tuned models actually did. In this case we do know the ground truth labels of the bank77 dataset so we can compare the four models evaluated."
   ]
  },
  {
   "cell_type": "markdown",
   "id": "bcd96ee4-a82b-45bc-afc1-5192cf0ff618",
   "metadata": {},
   "source": [
    "### Comparing multiple models"
   ]
  },
  {
   "cell_type": "code",
   "execution_count": 34,
   "id": "db411b96-9608-422f-b031-2fc23abeea6e",
   "metadata": {},
   "outputs": [],
   "source": [
    "models = [model_use, model_st1, model_st2, model_st3]\n",
    "\n",
    "df_comparison, labeled_docs_all_models = chatintents.evaluate_models(data_sample[['text', 'category']], models)"
   ]
  },
  {
   "cell_type": "code",
   "execution_count": 35,
   "id": "443a9a09-b828-4b54-b781-c4d539c69917",
   "metadata": {},
   "outputs": [
    {
     "data": {
      "text/html": [
       "<div>\n",
       "<style scoped>\n",
       "    .dataframe tbody tr th:only-of-type {\n",
       "        vertical-align: middle;\n",
       "    }\n",
       "\n",
       "    .dataframe tbody tr th {\n",
       "        vertical-align: top;\n",
       "    }\n",
       "\n",
       "    .dataframe thead th {\n",
       "        text-align: right;\n",
       "    }\n",
       "</style>\n",
       "<table border=\"1\" class=\"dataframe\">\n",
       "  <thead>\n",
       "    <tr style=\"text-align: right;\">\n",
       "      <th></th>\n",
       "      <th>Model</th>\n",
       "      <th>ARI</th>\n",
       "      <th>NMI</th>\n",
       "      <th>loss</th>\n",
       "      <th>label_count</th>\n",
       "      <th>n_neighbors</th>\n",
       "      <th>n_components</th>\n",
       "      <th>min_cluster_size</th>\n",
       "      <th>random_state</th>\n",
       "    </tr>\n",
       "  </thead>\n",
       "  <tbody>\n",
       "    <tr>\n",
       "      <th>1</th>\n",
       "      <td>st1</td>\n",
       "      <td>0.455</td>\n",
       "      <td>0.806</td>\n",
       "      <td>0.056</td>\n",
       "      <td>55</td>\n",
       "      <td>6</td>\n",
       "      <td>9</td>\n",
       "      <td>6</td>\n",
       "      <td>42</td>\n",
       "    </tr>\n",
       "    <tr>\n",
       "      <th>3</th>\n",
       "      <td>st3</td>\n",
       "      <td>0.398</td>\n",
       "      <td>0.795</td>\n",
       "      <td>0.082</td>\n",
       "      <td>88</td>\n",
       "      <td>9</td>\n",
       "      <td>14</td>\n",
       "      <td>3</td>\n",
       "      <td>42</td>\n",
       "    </tr>\n",
       "    <tr>\n",
       "      <th>2</th>\n",
       "      <td>st2</td>\n",
       "      <td>0.247</td>\n",
       "      <td>0.709</td>\n",
       "      <td>0.079</td>\n",
       "      <td>41</td>\n",
       "      <td>3</td>\n",
       "      <td>13</td>\n",
       "      <td>7</td>\n",
       "      <td>42</td>\n",
       "    </tr>\n",
       "    <tr>\n",
       "      <th>0</th>\n",
       "      <td>use</td>\n",
       "      <td>0.253</td>\n",
       "      <td>0.708</td>\n",
       "      <td>0.113</td>\n",
       "      <td>55</td>\n",
       "      <td>6</td>\n",
       "      <td>10</td>\n",
       "      <td>5</td>\n",
       "      <td>42</td>\n",
       "    </tr>\n",
       "  </tbody>\n",
       "</table>\n",
       "</div>"
      ],
      "text/plain": [
       "  Model    ARI    NMI   loss  label_count  n_neighbors  n_components  \\\n",
       "1   st1  0.455  0.806  0.056           55            6             9   \n",
       "3   st3  0.398  0.795  0.082           88            9            14   \n",
       "2   st2  0.247  0.709  0.079           41            3            13   \n",
       "0   use  0.253  0.708  0.113           55            6            10   \n",
       "\n",
       "   min_cluster_size  random_state  \n",
       "1                 6            42  \n",
       "3                 3            42  \n",
       "2                 7            42  \n",
       "0                 5            42  "
      ]
     },
     "execution_count": 35,
     "metadata": {},
     "output_type": "execute_result"
    }
   ],
   "source": [
    "df_comparison"
   ]
  },
  {
   "cell_type": "markdown",
   "id": "763287bf-0788-4544-97c1-7c1078377e33",
   "metadata": {},
   "source": [
    "In agreement with our above conclusion that sentence transformer 1 would be best since it has the lowest cost, here we see that it does in fact have the highest [Adjusted Rand Index (ARI)](https://scikit-learn.org/stable/modules/generated/sklearn.metrics.adjusted_rand_score.html) and [Normalized Mutual Info (NMI)](https://scikit-learn.org/stable/modules/generated/sklearn.metrics.normalized_mutual_info_score.html). Sentence transformers 2 and 3 are swithced in order in actual performance from what would be expected from their loss, but the loss measure is still a helpful metric."
   ]
  },
  {
   "cell_type": "code",
   "execution_count": 36,
   "id": "0e38d4b1-8fa9-4bcd-a4a9-b3926550e955",
   "metadata": {},
   "outputs": [
    {
     "data": {
      "text/html": [
       "<div>\n",
       "<style scoped>\n",
       "    .dataframe tbody tr th:only-of-type {\n",
       "        vertical-align: middle;\n",
       "    }\n",
       "\n",
       "    .dataframe tbody tr th {\n",
       "        vertical-align: top;\n",
       "    }\n",
       "\n",
       "    .dataframe thead th {\n",
       "        text-align: right;\n",
       "    }\n",
       "</style>\n",
       "<table border=\"1\" class=\"dataframe\">\n",
       "  <thead>\n",
       "    <tr style=\"text-align: right;\">\n",
       "      <th></th>\n",
       "      <th>text</th>\n",
       "      <th>category</th>\n",
       "      <th>label_use</th>\n",
       "      <th>label_st1</th>\n",
       "      <th>label_st2</th>\n",
       "      <th>label_st3</th>\n",
       "    </tr>\n",
       "  </thead>\n",
       "  <tbody>\n",
       "    <tr>\n",
       "      <th>228</th>\n",
       "      <td>It has been forever ago that I made an order online. The product simply is not coming. Just give me back my money because I'm not paying these people.</td>\n",
       "      <td>request_refund</td>\n",
       "      <td>-1</td>\n",
       "      <td>3</td>\n",
       "      <td>18</td>\n",
       "      <td>12</td>\n",
       "    </tr>\n",
       "    <tr>\n",
       "      <th>940</th>\n",
       "      <td>It does not appear that my message went through.</td>\n",
       "      <td>top_up_failed</td>\n",
       "      <td>34</td>\n",
       "      <td>-1</td>\n",
       "      <td>15</td>\n",
       "      <td>76</td>\n",
       "    </tr>\n",
       "    <tr>\n",
       "      <th>18</th>\n",
       "      <td>How long do I have to wait until the transferred money shows up?</td>\n",
       "      <td>balance_not_updated_after_bank_transfer</td>\n",
       "      <td>15</td>\n",
       "      <td>50</td>\n",
       "      <td>26</td>\n",
       "      <td>81</td>\n",
       "    </tr>\n",
       "    <tr>\n",
       "      <th>98</th>\n",
       "      <td>Verify my source of funds?</td>\n",
       "      <td>verify_source_of_funds</td>\n",
       "      <td>3</td>\n",
       "      <td>19</td>\n",
       "      <td>17</td>\n",
       "      <td>11</td>\n",
       "    </tr>\n",
       "    <tr>\n",
       "      <th>340</th>\n",
       "      <td>I'm travelling abroad but I've run into a situation where I need to change my PIN immediately. Can I do this from here?</td>\n",
       "      <td>change_pin</td>\n",
       "      <td>31</td>\n",
       "      <td>20</td>\n",
       "      <td>19</td>\n",
       "      <td>2</td>\n",
       "    </tr>\n",
       "  </tbody>\n",
       "</table>\n",
       "</div>"
      ],
      "text/plain": [
       "                                                                                                                                                       text  \\\n",
       "228  It has been forever ago that I made an order online. The product simply is not coming. Just give me back my money because I'm not paying these people.   \n",
       "940                                                                                                        It does not appear that my message went through.   \n",
       "18                                                                                         How long do I have to wait until the transferred money shows up?   \n",
       "98                                                                                                                               Verify my source of funds?   \n",
       "340                                 I'm travelling abroad but I've run into a situation where I need to change my PIN immediately. Can I do this from here?   \n",
       "\n",
       "                                    category  label_use  label_st1  label_st2  \\\n",
       "228                           request_refund         -1          3         18   \n",
       "940                            top_up_failed         34         -1         15   \n",
       "18   balance_not_updated_after_bank_transfer         15         50         26   \n",
       "98                    verify_source_of_funds          3         19         17   \n",
       "340                               change_pin         31         20         19   \n",
       "\n",
       "     label_st3  \n",
       "228         12  \n",
       "940         76  \n",
       "18          81  \n",
       "98          11  \n",
       "340          2  "
      ]
     },
     "execution_count": 36,
     "metadata": {},
     "output_type": "execute_result"
    }
   ],
   "source": [
    "labeled_docs_all_models.sample(5)"
   ]
  },
  {
   "cell_type": "code",
   "execution_count": 37,
   "id": "ad5da3f5-21a7-4c83-886e-8d0996f6cca0",
   "metadata": {},
   "outputs": [
    {
     "data": {
      "text/html": [
       "<div>\n",
       "<style scoped>\n",
       "    .dataframe tbody tr th:only-of-type {\n",
       "        vertical-align: middle;\n",
       "    }\n",
       "\n",
       "    .dataframe tbody tr th {\n",
       "        vertical-align: top;\n",
       "    }\n",
       "\n",
       "    .dataframe thead th {\n",
       "        text-align: right;\n",
       "    }\n",
       "</style>\n",
       "<table border=\"1\" class=\"dataframe\">\n",
       "  <thead>\n",
       "    <tr style=\"text-align: right;\">\n",
       "      <th></th>\n",
       "      <th>text</th>\n",
       "      <th>category</th>\n",
       "      <th>label_use</th>\n",
       "      <th>label_st1</th>\n",
       "      <th>label_st2</th>\n",
       "      <th>label_st3</th>\n",
       "    </tr>\n",
       "  </thead>\n",
       "  <tbody>\n",
       "    <tr>\n",
       "      <th>84</th>\n",
       "      <td>I don't remember my passcode?</td>\n",
       "      <td>passcode_forgotten</td>\n",
       "      <td>2</td>\n",
       "      <td>2</td>\n",
       "      <td>3</td>\n",
       "      <td>3</td>\n",
       "    </tr>\n",
       "    <tr>\n",
       "      <th>171</th>\n",
       "      <td>My passcode won't work.</td>\n",
       "      <td>passcode_forgotten</td>\n",
       "      <td>2</td>\n",
       "      <td>2</td>\n",
       "      <td>3</td>\n",
       "      <td>3</td>\n",
       "    </tr>\n",
       "    <tr>\n",
       "      <th>323</th>\n",
       "      <td>What can I do if my passcode won't work?</td>\n",
       "      <td>passcode_forgotten</td>\n",
       "      <td>2</td>\n",
       "      <td>2</td>\n",
       "      <td>3</td>\n",
       "      <td>3</td>\n",
       "    </tr>\n",
       "    <tr>\n",
       "      <th>359</th>\n",
       "      <td>I've forgotten my app passcode completely.</td>\n",
       "      <td>passcode_forgotten</td>\n",
       "      <td>2</td>\n",
       "      <td>2</td>\n",
       "      <td>3</td>\n",
       "      <td>3</td>\n",
       "    </tr>\n",
       "    <tr>\n",
       "      <th>425</th>\n",
       "      <td>I would like to better understand why my pass-code is not working.</td>\n",
       "      <td>passcode_forgotten</td>\n",
       "      <td>2</td>\n",
       "      <td>2</td>\n",
       "      <td>3</td>\n",
       "      <td>3</td>\n",
       "    </tr>\n",
       "    <tr>\n",
       "      <th>572</th>\n",
       "      <td>I've forgotten my passcode. Can I reset?</td>\n",
       "      <td>passcode_forgotten</td>\n",
       "      <td>2</td>\n",
       "      <td>2</td>\n",
       "      <td>3</td>\n",
       "      <td>3</td>\n",
       "    </tr>\n",
       "    <tr>\n",
       "      <th>778</th>\n",
       "      <td>I am entering my passcode but getting an error.</td>\n",
       "      <td>passcode_forgotten</td>\n",
       "      <td>2</td>\n",
       "      <td>2</td>\n",
       "      <td>3</td>\n",
       "      <td>3</td>\n",
       "    </tr>\n",
       "    <tr>\n",
       "      <th>809</th>\n",
       "      <td>Help me.  The passcode doesn't work.</td>\n",
       "      <td>passcode_forgotten</td>\n",
       "      <td>2</td>\n",
       "      <td>2</td>\n",
       "      <td>3</td>\n",
       "      <td>3</td>\n",
       "    </tr>\n",
       "    <tr>\n",
       "      <th>810</th>\n",
       "      <td>I can't remember my password.</td>\n",
       "      <td>passcode_forgotten</td>\n",
       "      <td>2</td>\n",
       "      <td>2</td>\n",
       "      <td>3</td>\n",
       "      <td>3</td>\n",
       "    </tr>\n",
       "    <tr>\n",
       "      <th>920</th>\n",
       "      <td>I think my passcode was changed</td>\n",
       "      <td>passcode_forgotten</td>\n",
       "      <td>2</td>\n",
       "      <td>2</td>\n",
       "      <td>3</td>\n",
       "      <td>3</td>\n",
       "    </tr>\n",
       "    <tr>\n",
       "      <th>966</th>\n",
       "      <td>I don't know what my passcode is, can you help?</td>\n",
       "      <td>passcode_forgotten</td>\n",
       "      <td>2</td>\n",
       "      <td>2</td>\n",
       "      <td>3</td>\n",
       "      <td>3</td>\n",
       "    </tr>\n",
       "    <tr>\n",
       "      <th>974</th>\n",
       "      <td>Need a new passcode.</td>\n",
       "      <td>passcode_forgotten</td>\n",
       "      <td>2</td>\n",
       "      <td>2</td>\n",
       "      <td>3</td>\n",
       "      <td>3</td>\n",
       "    </tr>\n",
       "  </tbody>\n",
       "</table>\n",
       "</div>"
      ],
      "text/plain": [
       "                                                                   text  \\\n",
       "84                                        I don't remember my passcode?   \n",
       "171                                             My passcode won't work.   \n",
       "323                            What can I do if my passcode won't work?   \n",
       "359                          I've forgotten my app passcode completely.   \n",
       "425  I would like to better understand why my pass-code is not working.   \n",
       "572                            I've forgotten my passcode. Can I reset?   \n",
       "778                     I am entering my passcode but getting an error.   \n",
       "809                                Help me.  The passcode doesn't work.   \n",
       "810                                       I can't remember my password.   \n",
       "920                                     I think my passcode was changed   \n",
       "966                     I don't know what my passcode is, can you help?   \n",
       "974                                                Need a new passcode.   \n",
       "\n",
       "               category  label_use  label_st1  label_st2  label_st3  \n",
       "84   passcode_forgotten          2          2          3          3  \n",
       "171  passcode_forgotten          2          2          3          3  \n",
       "323  passcode_forgotten          2          2          3          3  \n",
       "359  passcode_forgotten          2          2          3          3  \n",
       "425  passcode_forgotten          2          2          3          3  \n",
       "572  passcode_forgotten          2          2          3          3  \n",
       "778  passcode_forgotten          2          2          3          3  \n",
       "809  passcode_forgotten          2          2          3          3  \n",
       "810  passcode_forgotten          2          2          3          3  \n",
       "920  passcode_forgotten          2          2          3          3  \n",
       "966  passcode_forgotten          2          2          3          3  \n",
       "974  passcode_forgotten          2          2          3          3  "
      ]
     },
     "execution_count": 37,
     "metadata": {},
     "output_type": "execute_result"
    }
   ],
   "source": [
    "labeled_docs_all_models[labeled_docs_all_models['label_st1']==2]"
   ]
  },
  {
   "cell_type": "code",
   "execution_count": 38,
   "id": "b2b5aa57-e020-4681-a3d3-71402fc83fbd",
   "metadata": {},
   "outputs": [
    {
     "data": {
      "text/html": [
       "<div>\n",
       "<style scoped>\n",
       "    .dataframe tbody tr th:only-of-type {\n",
       "        vertical-align: middle;\n",
       "    }\n",
       "\n",
       "    .dataframe tbody tr th {\n",
       "        vertical-align: top;\n",
       "    }\n",
       "\n",
       "    .dataframe thead th {\n",
       "        text-align: right;\n",
       "    }\n",
       "</style>\n",
       "<table border=\"1\" class=\"dataframe\">\n",
       "  <thead>\n",
       "    <tr style=\"text-align: right;\">\n",
       "      <th></th>\n",
       "      <th>text</th>\n",
       "      <th>category</th>\n",
       "      <th>label_use</th>\n",
       "      <th>label_st1</th>\n",
       "      <th>label_st2</th>\n",
       "      <th>label_st3</th>\n",
       "    </tr>\n",
       "  </thead>\n",
       "  <tbody>\n",
       "    <tr>\n",
       "      <th>27</th>\n",
       "      <td>I am overseas in China, can I get a replacement card?</td>\n",
       "      <td>card_about_to_expire</td>\n",
       "      <td>31</td>\n",
       "      <td>31</td>\n",
       "      <td>-1</td>\n",
       "      <td>-1</td>\n",
       "    </tr>\n",
       "    <tr>\n",
       "      <th>370</th>\n",
       "      <td>If I am in China, can I still order a new card and if so, how?</td>\n",
       "      <td>card_about_to_expire</td>\n",
       "      <td>31</td>\n",
       "      <td>31</td>\n",
       "      <td>-1</td>\n",
       "      <td>-1</td>\n",
       "    </tr>\n",
       "    <tr>\n",
       "      <th>441</th>\n",
       "      <td>My card is almost expired.  How fast will I get a new one and what is the cost?</td>\n",
       "      <td>card_about_to_expire</td>\n",
       "      <td>11</td>\n",
       "      <td>31</td>\n",
       "      <td>9</td>\n",
       "      <td>67</td>\n",
       "    </tr>\n",
       "    <tr>\n",
       "      <th>477</th>\n",
       "      <td>My card is about to expire. Do I have to go to a branch to order a new card?</td>\n",
       "      <td>card_about_to_expire</td>\n",
       "      <td>11</td>\n",
       "      <td>31</td>\n",
       "      <td>9</td>\n",
       "      <td>67</td>\n",
       "    </tr>\n",
       "    <tr>\n",
       "      <th>521</th>\n",
       "      <td>My card expires soon, will you send me one automatically?</td>\n",
       "      <td>card_about_to_expire</td>\n",
       "      <td>11</td>\n",
       "      <td>31</td>\n",
       "      <td>9</td>\n",
       "      <td>67</td>\n",
       "    </tr>\n",
       "    <tr>\n",
       "      <th>524</th>\n",
       "      <td>My card expires very soon.  What is the cost and delivery time to get a new one?</td>\n",
       "      <td>card_about_to_expire</td>\n",
       "      <td>11</td>\n",
       "      <td>31</td>\n",
       "      <td>9</td>\n",
       "      <td>67</td>\n",
       "    </tr>\n",
       "    <tr>\n",
       "      <th>551</th>\n",
       "      <td>Where can I have a new bank card sent to China?</td>\n",
       "      <td>card_about_to_expire</td>\n",
       "      <td>31</td>\n",
       "      <td>31</td>\n",
       "      <td>-1</td>\n",
       "      <td>37</td>\n",
       "    </tr>\n",
       "    <tr>\n",
       "      <th>584</th>\n",
       "      <td>How do I get a new expiration date?</td>\n",
       "      <td>card_about_to_expire</td>\n",
       "      <td>11</td>\n",
       "      <td>31</td>\n",
       "      <td>9</td>\n",
       "      <td>67</td>\n",
       "    </tr>\n",
       "    <tr>\n",
       "      <th>605</th>\n",
       "      <td>Are there any express fees if i want my new card faster?</td>\n",
       "      <td>card_about_to_expire</td>\n",
       "      <td>-1</td>\n",
       "      <td>31</td>\n",
       "      <td>9</td>\n",
       "      <td>-1</td>\n",
       "    </tr>\n",
       "    <tr>\n",
       "      <th>646</th>\n",
       "      <td>My card is almost going to expire.</td>\n",
       "      <td>card_about_to_expire</td>\n",
       "      <td>11</td>\n",
       "      <td>31</td>\n",
       "      <td>9</td>\n",
       "      <td>67</td>\n",
       "    </tr>\n",
       "    <tr>\n",
       "      <th>765</th>\n",
       "      <td>My card expires soon</td>\n",
       "      <td>card_about_to_expire</td>\n",
       "      <td>11</td>\n",
       "      <td>31</td>\n",
       "      <td>9</td>\n",
       "      <td>67</td>\n",
       "    </tr>\n",
       "    <tr>\n",
       "      <th>812</th>\n",
       "      <td>What is the cost and time frame of getting a new card?</td>\n",
       "      <td>card_about_to_expire</td>\n",
       "      <td>11</td>\n",
       "      <td>31</td>\n",
       "      <td>9</td>\n",
       "      <td>67</td>\n",
       "    </tr>\n",
       "    <tr>\n",
       "      <th>833</th>\n",
       "      <td>Help me order a new card that's going to be expired soon.</td>\n",
       "      <td>card_about_to_expire</td>\n",
       "      <td>11</td>\n",
       "      <td>31</td>\n",
       "      <td>9</td>\n",
       "      <td>67</td>\n",
       "    </tr>\n",
       "    <tr>\n",
       "      <th>888</th>\n",
       "      <td>What happens if my card expires?</td>\n",
       "      <td>card_about_to_expire</td>\n",
       "      <td>11</td>\n",
       "      <td>31</td>\n",
       "      <td>9</td>\n",
       "      <td>67</td>\n",
       "    </tr>\n",
       "  </tbody>\n",
       "</table>\n",
       "</div>"
      ],
      "text/plain": [
       "                                                                                 text  \\\n",
       "27                              I am overseas in China, can I get a replacement card?   \n",
       "370                    If I am in China, can I still order a new card and if so, how?   \n",
       "441   My card is almost expired.  How fast will I get a new one and what is the cost?   \n",
       "477      My card is about to expire. Do I have to go to a branch to order a new card?   \n",
       "521                         My card expires soon, will you send me one automatically?   \n",
       "524  My card expires very soon.  What is the cost and delivery time to get a new one?   \n",
       "551                                   Where can I have a new bank card sent to China?   \n",
       "584                                               How do I get a new expiration date?   \n",
       "605                          Are there any express fees if i want my new card faster?   \n",
       "646                                                My card is almost going to expire.   \n",
       "765                                                              My card expires soon   \n",
       "812                            What is the cost and time frame of getting a new card?   \n",
       "833                         Help me order a new card that's going to be expired soon.   \n",
       "888                                                  What happens if my card expires?   \n",
       "\n",
       "                 category  label_use  label_st1  label_st2  label_st3  \n",
       "27   card_about_to_expire         31         31         -1         -1  \n",
       "370  card_about_to_expire         31         31         -1         -1  \n",
       "441  card_about_to_expire         11         31          9         67  \n",
       "477  card_about_to_expire         11         31          9         67  \n",
       "521  card_about_to_expire         11         31          9         67  \n",
       "524  card_about_to_expire         11         31          9         67  \n",
       "551  card_about_to_expire         31         31         -1         37  \n",
       "584  card_about_to_expire         11         31          9         67  \n",
       "605  card_about_to_expire         -1         31          9         -1  \n",
       "646  card_about_to_expire         11         31          9         67  \n",
       "765  card_about_to_expire         11         31          9         67  \n",
       "812  card_about_to_expire         11         31          9         67  \n",
       "833  card_about_to_expire         11         31          9         67  \n",
       "888  card_about_to_expire         11         31          9         67  "
      ]
     },
     "execution_count": 38,
     "metadata": {},
     "output_type": "execute_result"
    }
   ],
   "source": [
    "labeled_docs_all_models[labeled_docs_all_models['category']=='card_about_to_expire']"
   ]
  },
  {
   "cell_type": "markdown",
   "id": "a3cd9ccc-e415-4664-9604-f9b427310c11",
   "metadata": {},
   "source": [
    "### Evaluating labels from a single model to ground truth"
   ]
  },
  {
   "cell_type": "code",
   "execution_count": 39,
   "id": "cd6d493b-3c05-4213-bd1e-d3fc6e05a09f",
   "metadata": {},
   "outputs": [
    {
     "data": {
      "text/html": [
       "<div>\n",
       "<style scoped>\n",
       "    .dataframe tbody tr th:only-of-type {\n",
       "        vertical-align: middle;\n",
       "    }\n",
       "\n",
       "    .dataframe tbody tr th {\n",
       "        vertical-align: top;\n",
       "    }\n",
       "\n",
       "    .dataframe thead th {\n",
       "        text-align: right;\n",
       "    }\n",
       "</style>\n",
       "<table border=\"1\" class=\"dataframe\">\n",
       "  <thead>\n",
       "    <tr style=\"text-align: right;\">\n",
       "      <th></th>\n",
       "      <th>label_st1</th>\n",
       "      <th>count</th>\n",
       "      <th>label</th>\n",
       "      <th>top_ground_category</th>\n",
       "      <th>top_cat_count</th>\n",
       "      <th>perc_top_cat</th>\n",
       "    </tr>\n",
       "  </thead>\n",
       "  <tbody>\n",
       "    <tr>\n",
       "      <th>0</th>\n",
       "      <td>-1</td>\n",
       "      <td>56</td>\n",
       "      <td>add_card_app</td>\n",
       "      <td>beneficiary_not_allowed</td>\n",
       "      <td>8</td>\n",
       "      <td>14</td>\n",
       "    </tr>\n",
       "    <tr>\n",
       "      <th>1</th>\n",
       "      <td>26</td>\n",
       "      <td>49</td>\n",
       "      <td>use_account_card_auto</td>\n",
       "      <td>automatic_top_up</td>\n",
       "      <td>14</td>\n",
       "      <td>29</td>\n",
       "    </tr>\n",
       "    <tr>\n",
       "      <th>2</th>\n",
       "      <td>13</td>\n",
       "      <td>45</td>\n",
       "      <td>pending_money_account</td>\n",
       "      <td>pending_top_up</td>\n",
       "      <td>14</td>\n",
       "      <td>31</td>\n",
       "    </tr>\n",
       "    <tr>\n",
       "      <th>3</th>\n",
       "      <td>3</td>\n",
       "      <td>44</td>\n",
       "      <td>help_refund_statement</td>\n",
       "      <td>Refund_not_showing_up</td>\n",
       "      <td>26</td>\n",
       "      <td>59</td>\n",
       "    </tr>\n",
       "    <tr>\n",
       "      <th>4</th>\n",
       "      <td>14</td>\n",
       "      <td>38</td>\n",
       "      <td>help_card_app</td>\n",
       "      <td>lost_or_stolen_card</td>\n",
       "      <td>10</td>\n",
       "      <td>26</td>\n",
       "    </tr>\n",
       "    <tr>\n",
       "      <th>5</th>\n",
       "      <td>31</td>\n",
       "      <td>37</td>\n",
       "      <td>like_card_cost</td>\n",
       "      <td>order_physical_card</td>\n",
       "      <td>15</td>\n",
       "      <td>41</td>\n",
       "    </tr>\n",
       "    <tr>\n",
       "      <th>6</th>\n",
       "      <td>4</td>\n",
       "      <td>36</td>\n",
       "      <td>think_rate_exchange</td>\n",
       "      <td>wrong_exchange_rate_for_cash_withdrawal</td>\n",
       "      <td>14</td>\n",
       "      <td>39</td>\n",
       "    </tr>\n",
       "    <tr>\n",
       "      <th>7</th>\n",
       "      <td>33</td>\n",
       "      <td>31</td>\n",
       "      <td>tried_money_card_today</td>\n",
       "      <td>declined_cash_withdrawal</td>\n",
       "      <td>14</td>\n",
       "      <td>45</td>\n",
       "    </tr>\n",
       "    <tr>\n",
       "      <th>8</th>\n",
       "      <td>32</td>\n",
       "      <td>31</td>\n",
       "      <td>charged_fee_withdrawal_cash</td>\n",
       "      <td>cash_withdrawal_charge</td>\n",
       "      <td>23</td>\n",
       "      <td>74</td>\n",
       "    </tr>\n",
       "    <tr>\n",
       "      <th>9</th>\n",
       "      <td>29</td>\n",
       "      <td>29</td>\n",
       "      <td>use_currency_app</td>\n",
       "      <td>fiat_currency_support</td>\n",
       "      <td>10</td>\n",
       "      <td>34</td>\n",
       "    </tr>\n",
       "    <tr>\n",
       "      <th>10</th>\n",
       "      <td>18</td>\n",
       "      <td>28</td>\n",
       "      <td>explain_card_limit</td>\n",
       "      <td>getting_virtual_card</td>\n",
       "      <td>9</td>\n",
       "      <td>32</td>\n",
       "    </tr>\n",
       "    <tr>\n",
       "      <th>11</th>\n",
       "      <td>12</td>\n",
       "      <td>28</td>\n",
       "      <td>waiting_payment_card</td>\n",
       "      <td>pending_card_payment</td>\n",
       "      <td>21</td>\n",
       "      <td>75</td>\n",
       "    </tr>\n",
       "    <tr>\n",
       "      <th>12</th>\n",
       "      <td>35</td>\n",
       "      <td>25</td>\n",
       "      <td>charged_card_fee</td>\n",
       "      <td>card_payment_fee_charged</td>\n",
       "      <td>11</td>\n",
       "      <td>44</td>\n",
       "    </tr>\n",
       "    <tr>\n",
       "      <th>13</th>\n",
       "      <td>9</td>\n",
       "      <td>25</td>\n",
       "      <td>cancel_transfer_account_tomorrow</td>\n",
       "      <td>cancel_transfer</td>\n",
       "      <td>22</td>\n",
       "      <td>88</td>\n",
       "    </tr>\n",
       "    <tr>\n",
       "      <th>14</th>\n",
       "      <td>49</td>\n",
       "      <td>24</td>\n",
       "      <td>waiting_transfer_account</td>\n",
       "      <td>pending_transfer</td>\n",
       "      <td>11</td>\n",
       "      <td>46</td>\n",
       "    </tr>\n",
       "    <tr>\n",
       "      <th>15</th>\n",
       "      <td>21</td>\n",
       "      <td>22</td>\n",
       "      <td>want_pin_card</td>\n",
       "      <td>get_physical_card</td>\n",
       "      <td>12</td>\n",
       "      <td>55</td>\n",
       "    </tr>\n",
       "    <tr>\n",
       "      <th>16</th>\n",
       "      <td>15</td>\n",
       "      <td>22</td>\n",
       "      <td>charged_fee_transfer_bank</td>\n",
       "      <td>transfer_fee_charged</td>\n",
       "      <td>12</td>\n",
       "      <td>55</td>\n",
       "    </tr>\n",
       "    <tr>\n",
       "      <th>17</th>\n",
       "      <td>45</td>\n",
       "      <td>19</td>\n",
       "      <td>tried_transfer_account</td>\n",
       "      <td>failed_transfer</td>\n",
       "      <td>7</td>\n",
       "      <td>37</td>\n",
       "    </tr>\n",
       "    <tr>\n",
       "      <th>18</th>\n",
       "      <td>38</td>\n",
       "      <td>19</td>\n",
       "      <td>cancelled_payment_card</td>\n",
       "      <td>reverted_card_payment?</td>\n",
       "      <td>12</td>\n",
       "      <td>63</td>\n",
       "    </tr>\n",
       "    <tr>\n",
       "      <th>19</th>\n",
       "      <td>19</td>\n",
       "      <td>18</td>\n",
       "      <td>find_source_fund_money</td>\n",
       "      <td>verify_source_of_funds</td>\n",
       "      <td>17</td>\n",
       "      <td>94</td>\n",
       "    </tr>\n",
       "  </tbody>\n",
       "</table>\n",
       "</div>"
      ],
      "text/plain": [
       "    label_st1  count                             label  \\\n",
       "0          -1     56                      add_card_app   \n",
       "1          26     49             use_account_card_auto   \n",
       "2          13     45             pending_money_account   \n",
       "3           3     44             help_refund_statement   \n",
       "4          14     38                     help_card_app   \n",
       "5          31     37                    like_card_cost   \n",
       "6           4     36               think_rate_exchange   \n",
       "7          33     31            tried_money_card_today   \n",
       "8          32     31       charged_fee_withdrawal_cash   \n",
       "9          29     29                  use_currency_app   \n",
       "10         18     28                explain_card_limit   \n",
       "11         12     28              waiting_payment_card   \n",
       "12         35     25                  charged_card_fee   \n",
       "13          9     25  cancel_transfer_account_tomorrow   \n",
       "14         49     24          waiting_transfer_account   \n",
       "15         21     22                     want_pin_card   \n",
       "16         15     22         charged_fee_transfer_bank   \n",
       "17         45     19            tried_transfer_account   \n",
       "18         38     19            cancelled_payment_card   \n",
       "19         19     18            find_source_fund_money   \n",
       "\n",
       "                        top_ground_category  top_cat_count  perc_top_cat  \n",
       "0                   beneficiary_not_allowed              8            14  \n",
       "1                          automatic_top_up             14            29  \n",
       "2                            pending_top_up             14            31  \n",
       "3                     Refund_not_showing_up             26            59  \n",
       "4                       lost_or_stolen_card             10            26  \n",
       "5                       order_physical_card             15            41  \n",
       "6   wrong_exchange_rate_for_cash_withdrawal             14            39  \n",
       "7                  declined_cash_withdrawal             14            45  \n",
       "8                    cash_withdrawal_charge             23            74  \n",
       "9                     fiat_currency_support             10            34  \n",
       "10                     getting_virtual_card              9            32  \n",
       "11                     pending_card_payment             21            75  \n",
       "12                 card_payment_fee_charged             11            44  \n",
       "13                          cancel_transfer             22            88  \n",
       "14                         pending_transfer             11            46  \n",
       "15                        get_physical_card             12            55  \n",
       "16                     transfer_fee_charged             12            55  \n",
       "17                          failed_transfer              7            37  \n",
       "18                   reverted_card_payment?             12            63  \n",
       "19                   verify_source_of_funds             17            94  "
      ]
     },
     "execution_count": 39,
     "metadata": {},
     "output_type": "execute_result"
    }
   ],
   "source": [
    "chatintents.top_cluster_category(labeled_docs, \n",
    "                                 data_sample[['text', 'category']], \n",
    "                                 'text',\n",
    "                                 df_summary).head(20)"
   ]
  },
  {
   "cell_type": "markdown",
   "id": "df5071e5-2150-4c18-9fd4-329c9cd9463a",
   "metadata": {},
   "source": [
    "Most of the extracted labels match the ground labels quite well. Understandably, the labels match the most when the derived clusters contain a larger percentage of the dominant ground truth category."
   ]
  },
  {
   "cell_type": "code",
   "execution_count": null,
   "id": "4a73d2d4-52ba-4fe5-b388-e7ec4fd3d395",
   "metadata": {},
   "outputs": [],
   "source": []
  }
 ],
 "metadata": {
  "kernelspec": {
   "display_name": "Python 3 (ipykernel)",
   "language": "python",
   "name": "python3"
  },
  "language_info": {
   "codemirror_mode": {
    "name": "ipython",
    "version": 3
   },
   "file_extension": ".py",
   "mimetype": "text/x-python",
   "name": "python",
   "nbconvert_exporter": "python",
   "pygments_lexer": "ipython3",
   "version": "3.9.7"
  }
 },
 "nbformat": 4,
 "nbformat_minor": 5
}
