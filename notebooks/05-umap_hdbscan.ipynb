{
 "cells": [
  {
   "cell_type": "markdown",
   "id": "3f8bcc5e-f730-43a6-9084-5e2338b0c244",
   "metadata": {},
   "source": [
    "# Chat Intents\n",
    "\n",
    "## UMAP + HDBSCAN"
   ]
  },
  {
   "cell_type": "code",
   "execution_count": 1,
   "id": "3c6fb567-223a-4f20-8895-b4352b7ea567",
   "metadata": {},
   "outputs": [],
   "source": [
    "import numpy as np\n",
    "import pandas as pd\n",
    "\n",
    "pd.set_option(\"display.max_rows\", 600)\n",
    "pd.set_option(\"display.max_columns\", 500)\n",
    "pd.set_option(\"max_colwidth\", 400)\n",
    "\n",
    "import matplotlib.pyplot as plt\n",
    "\n",
    "import hdbscan\n",
    "import umap\n",
    "from sklearn.metrics.cluster import normalized_mutual_info_score\n",
    "from sklearn.metrics.cluster import adjusted_rand_score\n",
    "\n",
    "import random\n",
    "from tqdm.notebook import tqdm, trange\n",
    "from functools import partial\n",
    "from hyperopt import fmin, tpe, hp, STATUS_OK, space_eval, Trials"
   ]
  },
  {
   "cell_type": "code",
   "execution_count": 2,
   "id": "c37b0de2-6b5b-47be-8c08-4c29c3d1f1ab",
   "metadata": {},
   "outputs": [],
   "source": [
    "import tensorflow as tf\n",
    "import tensorflow_hub as hub"
   ]
  },
  {
   "cell_type": "code",
   "execution_count": 3,
   "id": "fcc2a159-0d7c-4fb0-a118-1dff55161cde",
   "metadata": {},
   "outputs": [],
   "source": [
    "from sentence_transformers import SentenceTransformer"
   ]
  },
  {
   "cell_type": "markdown",
   "id": "1fd4839b-afa4-4714-8b84-16056ec8a284",
   "metadata": {},
   "source": [
    "## Load data and pre-trained models"
   ]
  },
  {
   "cell_type": "code",
   "execution_count": 4,
   "id": "a97675ac-dcb0-4bf2-83a9-48ef9249d9da",
   "metadata": {},
   "outputs": [
    {
     "data": {
      "text/html": [
       "<div>\n",
       "<style scoped>\n",
       "    .dataframe tbody tr th:only-of-type {\n",
       "        vertical-align: middle;\n",
       "    }\n",
       "\n",
       "    .dataframe tbody tr th {\n",
       "        vertical-align: top;\n",
       "    }\n",
       "\n",
       "    .dataframe thead th {\n",
       "        text-align: right;\n",
       "    }\n",
       "</style>\n",
       "<table border=\"1\" class=\"dataframe\">\n",
       "  <thead>\n",
       "    <tr style=\"text-align: right;\">\n",
       "      <th></th>\n",
       "      <th>Unnamed: 0</th>\n",
       "      <th>text</th>\n",
       "      <th>category</th>\n",
       "      <th>cleaned_text</th>\n",
       "    </tr>\n",
       "  </thead>\n",
       "  <tbody>\n",
       "    <tr>\n",
       "      <th>0</th>\n",
       "      <td>1024</td>\n",
       "      <td>I'm worried my card might be lost in the mail? How long does it usually take to arrive?</td>\n",
       "      <td>card_delivery_estimate</td>\n",
       "      <td>im worried card might lost mail long usually take arrive</td>\n",
       "    </tr>\n",
       "    <tr>\n",
       "      <th>1</th>\n",
       "      <td>9405</td>\n",
       "      <td>I got charged a fee that shouldn't be there from my cash</td>\n",
       "      <td>cash_withdrawal_charge</td>\n",
       "      <td>got charged fee shouldnt cash</td>\n",
       "    </tr>\n",
       "    <tr>\n",
       "      <th>2</th>\n",
       "      <td>9368</td>\n",
       "      <td>Do you charge for making a withdrawal? I took some money out of my account earlier and I was charged for this.</td>\n",
       "      <td>cash_withdrawal_charge</td>\n",
       "      <td>charge making withdrawal took money account earlier charged</td>\n",
       "    </tr>\n",
       "    <tr>\n",
       "      <th>3</th>\n",
       "      <td>3414</td>\n",
       "      <td>Is there an issue with my account?  I don't see a cheque deposit that I made yesterday.  Please assist.</td>\n",
       "      <td>balance_not_updated_after_cheque_or_cash_deposit</td>\n",
       "      <td>issue account dont see cheque deposit made yesterday please assist</td>\n",
       "    </tr>\n",
       "    <tr>\n",
       "      <th>4</th>\n",
       "      <td>7402</td>\n",
       "      <td>Are there ways for other people to send me money?</td>\n",
       "      <td>receiving_money</td>\n",
       "      <td>way people send money</td>\n",
       "    </tr>\n",
       "  </tbody>\n",
       "</table>\n",
       "</div>"
      ],
      "text/plain": [
       "   Unnamed: 0  \\\n",
       "0        1024   \n",
       "1        9405   \n",
       "2        9368   \n",
       "3        3414   \n",
       "4        7402   \n",
       "\n",
       "                                                                                                             text  \\\n",
       "0                         I'm worried my card might be lost in the mail? How long does it usually take to arrive?   \n",
       "1                                                        I got charged a fee that shouldn't be there from my cash   \n",
       "2  Do you charge for making a withdrawal? I took some money out of my account earlier and I was charged for this.   \n",
       "3         Is there an issue with my account?  I don't see a cheque deposit that I made yesterday.  Please assist.   \n",
       "4                                                               Are there ways for other people to send me money?   \n",
       "\n",
       "                                           category  \\\n",
       "0                            card_delivery_estimate   \n",
       "1                            cash_withdrawal_charge   \n",
       "2                            cash_withdrawal_charge   \n",
       "3  balance_not_updated_after_cheque_or_cash_deposit   \n",
       "4                                   receiving_money   \n",
       "\n",
       "                                                         cleaned_text  \n",
       "0            im worried card might lost mail long usually take arrive  \n",
       "1                                       got charged fee shouldnt cash  \n",
       "2         charge making withdrawal took money account earlier charged  \n",
       "3  issue account dont see cheque deposit made yesterday please assist  \n",
       "4                                               way people send money  "
      ]
     },
     "execution_count": 4,
     "metadata": {},
     "output_type": "execute_result"
    }
   ],
   "source": [
    "data_sample = pd.read_csv('../data/processed/data_sample.csv')\n",
    "data_sample.head()"
   ]
  },
  {
   "cell_type": "code",
   "execution_count": 5,
   "id": "ddc170db-1e83-4217-98a5-1d97b4543558",
   "metadata": {},
   "outputs": [
    {
     "data": {
      "text/plain": [
       "1000"
      ]
     },
     "execution_count": 5,
     "metadata": {},
     "output_type": "execute_result"
    }
   ],
   "source": [
    "all_intents = list(data_sample['text'])\n",
    "len(all_intents)"
   ]
  },
  {
   "cell_type": "code",
   "execution_count": 6,
   "id": "7cd3c824-2a63-4b01-9a6b-7aae1d132d5e",
   "metadata": {},
   "outputs": [
    {
     "name": "stderr",
     "output_type": "stream",
     "text": [
      "INFO:absl:Using /var/folders/_d/glx67tx142z43y0r2thyl3g80000gn/T/tfhub_modules to cache modules.\n",
      "INFO:absl:Downloading TF-Hub Module 'https://tfhub.dev/google/universal-sentence-encoder/4'.\n",
      "INFO:absl:Downloading https://tfhub.dev/google/universal-sentence-encoder/4: 230.00MB\n",
      "INFO:absl:Downloading https://tfhub.dev/google/universal-sentence-encoder/4: 460.00MB\n",
      "INFO:absl:Downloading https://tfhub.dev/google/universal-sentence-encoder/4: 690.00MB\n",
      "INFO:absl:Downloading https://tfhub.dev/google/universal-sentence-encoder/4: 910.00MB\n",
      "INFO:absl:Downloaded https://tfhub.dev/google/universal-sentence-encoder/4, Total size: 987.47MB\n",
      "INFO:absl:Downloaded TF-Hub Module 'https://tfhub.dev/google/universal-sentence-encoder/4'.\n"
     ]
    },
    {
     "name": "stdout",
     "output_type": "stream",
     "text": [
      "module https://tfhub.dev/google/universal-sentence-encoder/4 loaded\n"
     ]
    }
   ],
   "source": [
    "module_url = \"https://tfhub.dev/google/universal-sentence-encoder/4\"\n",
    "model_use = hub.load(module_url)\n",
    "\n",
    "print(f\"module {module_url} loaded\")"
   ]
  },
  {
   "cell_type": "code",
   "execution_count": 7,
   "id": "97016d39-1ffd-4efa-aa25-4cc53fe71ff0",
   "metadata": {
    "scrolled": true,
    "tags": []
   },
   "outputs": [],
   "source": [
    "model_st1 = SentenceTransformer('paraphrase-mpnet-base-v2')\n",
    "model_st2 = SentenceTransformer('paraphrase-distilroberta-base-v2')\n",
    "model_st3 = SentenceTransformer('stsb-mpnet-base-v2')"
   ]
  },
  {
   "cell_type": "code",
   "execution_count": 8,
   "id": "b53dbf49-2707-4f49-900c-6de896900818",
   "metadata": {},
   "outputs": [],
   "source": [
    "def embed(model, model_type, sentences):\n",
    "    if model_type == 'use':\n",
    "        embeddings = model(sentences)\n",
    "    elif model_type == 'sentence transformer':\n",
    "        embeddings = model.encode(sentences)\n",
    "    \n",
    "    return embeddings"
   ]
  },
  {
   "cell_type": "code",
   "execution_count": 9,
   "id": "25f438c7-1e73-479e-ba94-5de20a6062ca",
   "metadata": {},
   "outputs": [
    {
     "data": {
      "text/plain": [
       "TensorShape([1000, 512])"
      ]
     },
     "execution_count": 9,
     "metadata": {},
     "output_type": "execute_result"
    }
   ],
   "source": [
    "embeddings_use = embed(model_use, 'use', all_intents)\n",
    "embeddings_use.shape"
   ]
  },
  {
   "cell_type": "code",
   "execution_count": 10,
   "id": "03963e44-cffb-49fd-afb4-e6989d8b6514",
   "metadata": {},
   "outputs": [
    {
     "data": {
      "text/plain": [
       "(1000, 768)"
      ]
     },
     "execution_count": 10,
     "metadata": {},
     "output_type": "execute_result"
    }
   ],
   "source": [
    "embeddings_st1 = embed(model_st1, 'sentence transformer', all_intents)\n",
    "embeddings_st1.shape"
   ]
  },
  {
   "cell_type": "code",
   "execution_count": 11,
   "id": "78b3d55e-5b74-416b-a8a1-74b47d9188f6",
   "metadata": {},
   "outputs": [
    {
     "data": {
      "text/plain": [
       "(1000, 768)"
      ]
     },
     "execution_count": 11,
     "metadata": {},
     "output_type": "execute_result"
    }
   ],
   "source": [
    "embeddings_st2 = embed(model_st2, 'sentence transformer', all_intents)\n",
    "embeddings_st2.shape"
   ]
  },
  {
   "cell_type": "code",
   "execution_count": 12,
   "id": "ba64e992-9f92-40fd-82dd-71dbf74e1d3f",
   "metadata": {},
   "outputs": [
    {
     "data": {
      "text/plain": [
       "(1000, 768)"
      ]
     },
     "execution_count": 12,
     "metadata": {},
     "output_type": "execute_result"
    }
   ],
   "source": [
    "embeddings_st3 = embed(model_st3, 'sentence transformer', all_intents)\n",
    "embeddings_st3.shape"
   ]
  },
  {
   "cell_type": "markdown",
   "id": "16ce0339-a8d7-42c8-a749-b55f7c980af7",
   "metadata": {},
   "source": [
    "## Helper functions"
   ]
  },
  {
   "cell_type": "code",
   "execution_count": 33,
   "id": "c0500d9f-6da3-427a-9287-fe5bf78ac33a",
   "metadata": {},
   "outputs": [],
   "source": [
    "def generate_clusters(message_embeddings, \n",
    "                      n_neighbors = 4, \n",
    "                      n_components = 5, \n",
    "                      min_cluster_size = 4,\n",
    "                      min_samples = None,\n",
    "                      random_state = None):\n",
    "    \n",
    "    umap_embeddings = (umap.UMAP(n_neighbors = n_neighbors, \n",
    "                                n_components = n_components, \n",
    "                                metric = 'cosine', \n",
    "                                random_state=random_state)\n",
    "                            .fit_transform(message_embeddings))\n",
    "\n",
    "    clusters = hdbscan.HDBSCAN(min_cluster_size = min_cluster_size, \n",
    "                               min_samples = min_samples,\n",
    "                               metric='euclidean', \n",
    "                               gen_min_span_tree=True,\n",
    "                               cluster_selection_method='eom').fit(umap_embeddings)\n",
    "    \n",
    "    return clusters"
   ]
  },
  {
   "cell_type": "code",
   "execution_count": 14,
   "id": "6a051571-522d-4ace-99ad-a46af0f46e1f",
   "metadata": {},
   "outputs": [],
   "source": [
    "def score_clusters(clusters, prob_threshold = 0.05):\n",
    "    \"\"\"\n",
    "    Returns the label count and cost of a given cluster supplied from running hdbscan\n",
    "    \"\"\"\n",
    "    \n",
    "    cluster_labels = clusters.labels_\n",
    "    label_count = len(np.unique(cluster_labels))\n",
    "    total_num = len(clusters.labels_)\n",
    "    cost = (np.count_nonzero(clusters.probabilities_ < prob_threshold)/total_num)\n",
    "    \n",
    "    return label_count, cost"
   ]
  },
  {
   "cell_type": "code",
   "execution_count": 15,
   "id": "63ed3831-173b-401c-8050-bfc0b82e605d",
   "metadata": {},
   "outputs": [],
   "source": [
    "def random_search(embeddings, num_evals):\n",
    "    space = {\n",
    "        \"n_neighbors\": range(12,16),\n",
    "        \"n_components\": range(3,7),\n",
    "        \"min_cluster_size\": range(2,15),\n",
    "        \"min_samples\": range(2, 15)\n",
    "    }\n",
    "    \n",
    "    results = []\n",
    "    \n",
    "    for i in trange(num_evals):\n",
    "        n_neighbors = random.choice(space['n_neighbors'])\n",
    "        n_components = random.choice(space['n_components'])\n",
    "        min_cluster_size = random.choice(space['min_cluster_size'])\n",
    "        min_samples = random.choice(space['min_samples'])\n",
    "        \n",
    "        clusters = generate_clusters(embeddings, \n",
    "                                     n_neighbors = n_neighbors, \n",
    "                                     n_components = n_components, \n",
    "                                     min_cluster_size = min_cluster_size, \n",
    "                                     min_samples = min_samples,\n",
    "                                     random_state = 42)\n",
    "    \n",
    "        label_count, cost = score_clusters(clusters, prob_threshold = 0.05)\n",
    "                \n",
    "        results.append([i, n_neighbors, n_components, min_cluster_size, min_samples, label_count, cost])\n",
    "    \n",
    "    result_df = pd.DataFrame(results, columns=['run_id', 'n_neighbors', 'n_components', \n",
    "                                               'min_cluster_size', 'min_samples', 'label_count', 'cost'])\n",
    "    \n",
    "    return result_df.sort_values(by='cost')"
   ]
  },
  {
   "cell_type": "code",
   "execution_count": 34,
   "id": "11003f1c-59d4-476e-bd9f-4c0d60748222",
   "metadata": {},
   "outputs": [],
   "source": [
    "def objective(params, embeddings, label_lower, label_upper):\n",
    "    \n",
    "    clusters = generate_clusters(embeddings, \n",
    "                                 n_neighbors = params['n_neighbors'], \n",
    "                                 n_components = params['n_components'], \n",
    "                                 min_cluster_size = params['min_cluster_size'],\n",
    "                                 min_samples = params['min_samples'],\n",
    "                                 random_state = params['random_state'])\n",
    "    \n",
    "    label_count, cost = score_clusters(clusters, prob_threshold = 0.05)\n",
    "    \n",
    "    #10% penalty on the cost function if outside the desired range of groups\n",
    "    if (label_count < label_lower) | (label_count > label_upper):\n",
    "        penalty = 0.2 \n",
    "    else:\n",
    "        penalty = 0\n",
    "    \n",
    "    loss = cost + penalty\n",
    "    \n",
    "    return {'loss': loss, 'label_count': label_count, 'status': STATUS_OK}"
   ]
  },
  {
   "cell_type": "code",
   "execution_count": 41,
   "id": "7e829b7e-4f14-4109-95a9-1516e29dd568",
   "metadata": {},
   "outputs": [],
   "source": [
    "def bayesian_search(embeddings, space, label_lower, label_upper, max_evals=100):\n",
    "    \n",
    "    trials = Trials()\n",
    "    fmin_objective = partial(objective, embeddings=embeddings, label_lower=label_lower, label_upper=label_upper)\n",
    "    best = fmin(fmin_objective, \n",
    "                space = space, \n",
    "                algo=tpe.suggest,\n",
    "                #algo=partial(tpe.suggest, n_startup_jobs=20),#otherwise the first 20 will be random by default\n",
    "                max_evals=max_evals, \n",
    "                trials=trials)\n",
    "\n",
    "    best_params = space_eval(space, best)\n",
    "    print ('best:')\n",
    "    print (best_params)\n",
    "    print (f\"label count: {trials.best_trial['result']['label_count']}\")\n",
    "    \n",
    "    return best_params, trials"
   ]
  },
  {
   "cell_type": "code",
   "execution_count": 36,
   "id": "892bda42-f2b1-4d4b-a01b-2ff3a957ac00",
   "metadata": {},
   "outputs": [],
   "source": [
    "def best_clusters(embeddings, best_params):\n",
    "    clusters_best = generate_clusters(embeddings, \n",
    "                                 n_neighbors = best_params['n_neighbors'], \n",
    "                                 n_components = best_params['n_components'], \n",
    "                                 min_cluster_size = best_params['min_cluster_size'], \n",
    "                                 min_samples = best_params['min_samples'],\n",
    "                                 random_state=best_params['random_state'])\n",
    "    \n",
    "    return clusters_best"
   ]
  },
  {
   "cell_type": "code",
   "execution_count": 19,
   "id": "4962492b-1605-40d0-ab41-2c4aa7690d6a",
   "metadata": {},
   "outputs": [],
   "source": [
    "def combine_results(data_df, cluster_dict):\n",
    "    \n",
    "    #df = pd.DataFrame(all_messages, columns=['message'])\n",
    "    #df['category'] = all_messages.category\n",
    "\n",
    "    df = data_df.copy()\n",
    "    \n",
    "    for key, value in cluster_dict.items():\n",
    "        df[key] = value.labels_\n",
    "    \n",
    "    return df"
   ]
  },
  {
   "cell_type": "code",
   "execution_count": 49,
   "id": "4acf9098-3414-484b-a499-d86f1f87d0e9",
   "metadata": {},
   "outputs": [],
   "source": [
    "def plot_clusters(embeddings, clusters, n_neighbors=4):\n",
    "    umap_data = umap.UMAP(n_neighbors=n_neighbors, \n",
    "                          n_components=2, \n",
    "                          min_dist = 0.1, \n",
    "                          #metric='cosine', \n",
    "                          random_state=42).fit_transform(embeddings)\n",
    "\n",
    "    result = pd.DataFrame(umap_data, columns=['x', 'y'])\n",
    "    result['labels'] = clusters.labels_\n",
    "\n",
    "    fig, ax = plt.subplots(figsize=(14, 8))\n",
    "    outliers = result.loc[result.labels == -1, :]\n",
    "    clustered = result.loc[result.labels != -1, :]\n",
    "    plt.scatter(outliers.x, outliers.y, color = '#BDBDBD', s=4)\n",
    "    plt.scatter(clustered.x, clustered.y, c=clustered.labels, s=4, cmap='jet')\n",
    "    plt.colorbar()\n",
    "    plt.show()"
   ]
  },
  {
   "cell_type": "code",
   "execution_count": 21,
   "id": "ccefae2b-12bb-4da4-b6de-f38ffab2bbf4",
   "metadata": {},
   "outputs": [],
   "source": [
    "def comparison_table(model_dict, results_df):\n",
    "    summary = []\n",
    "\n",
    "    for key, value in model_dict.items():\n",
    "        ari = np.round(adjusted_rand_score(results_df['category'].values, results_df[value].values), 3)\n",
    "        nmi = np.round(normalized_mutual_info_score(results_df['category'].values, results_df[value].values), 3)\n",
    "        summary.append([key, ari, nmi])\n",
    "\n",
    "    comparison_df = pd.DataFrame(summary, columns=['Model','ARI', 'NMI'])\n",
    "    \n",
    "    return comparison_df"
   ]
  },
  {
   "cell_type": "markdown",
   "id": "692e5dc0-4ed0-4b18-8d80-8fb4668bb96c",
   "metadata": {},
   "source": [
    "## Tuning hyperparameters"
   ]
  },
  {
   "cell_type": "markdown",
   "id": "eff16945-e71a-4e42-be59-9c2d2074bbc4",
   "metadata": {},
   "source": [
    "### Random hyperparameter search"
   ]
  },
  {
   "cell_type": "code",
   "execution_count": 33,
   "id": "7f95f326-5ed7-456e-afe7-c774206352a9",
   "metadata": {},
   "outputs": [
    {
     "data": {
      "application/vnd.jupyter.widget-view+json": {
       "model_id": "68377184c7f74304a2583e1ac2a7ff4f",
       "version_major": 2,
       "version_minor": 0
      },
      "text/plain": [
       "  0%|          | 0/100 [00:00<?, ?it/s]"
      ]
     },
     "metadata": {},
     "output_type": "display_data"
    },
    {
     "name": "stdout",
     "output_type": "stream",
     "text": [
      "CPU times: user 6min 1s, sys: 3 s, total: 6min 4s\n",
      "Wall time: 5min 11s\n"
     ]
    }
   ],
   "source": [
    "%%time\n",
    "random_use = random_search(embeddings_use, 100)"
   ]
  },
  {
   "cell_type": "code",
   "execution_count": 34,
   "id": "0483c7dd-7ad9-4af9-9fc2-9d4e9949f6ea",
   "metadata": {},
   "outputs": [
    {
     "data": {
      "text/html": [
       "<div>\n",
       "<style scoped>\n",
       "    .dataframe tbody tr th:only-of-type {\n",
       "        vertical-align: middle;\n",
       "    }\n",
       "\n",
       "    .dataframe tbody tr th {\n",
       "        vertical-align: top;\n",
       "    }\n",
       "\n",
       "    .dataframe thead th {\n",
       "        text-align: right;\n",
       "    }\n",
       "</style>\n",
       "<table border=\"1\" class=\"dataframe\">\n",
       "  <thead>\n",
       "    <tr style=\"text-align: right;\">\n",
       "      <th></th>\n",
       "      <th>run_id</th>\n",
       "      <th>n_neighbors</th>\n",
       "      <th>n_components</th>\n",
       "      <th>min_cluster_size</th>\n",
       "      <th>min_samples</th>\n",
       "      <th>label_count</th>\n",
       "      <th>cost</th>\n",
       "    </tr>\n",
       "  </thead>\n",
       "  <tbody>\n",
       "    <tr>\n",
       "      <th>29</th>\n",
       "      <td>29</td>\n",
       "      <td>12</td>\n",
       "      <td>4</td>\n",
       "      <td>3</td>\n",
       "      <td>14</td>\n",
       "      <td>2</td>\n",
       "      <td>0.000</td>\n",
       "    </tr>\n",
       "    <tr>\n",
       "      <th>92</th>\n",
       "      <td>92</td>\n",
       "      <td>13</td>\n",
       "      <td>5</td>\n",
       "      <td>10</td>\n",
       "      <td>13</td>\n",
       "      <td>7</td>\n",
       "      <td>0.025</td>\n",
       "    </tr>\n",
       "    <tr>\n",
       "      <th>59</th>\n",
       "      <td>59</td>\n",
       "      <td>13</td>\n",
       "      <td>5</td>\n",
       "      <td>10</td>\n",
       "      <td>14</td>\n",
       "      <td>7</td>\n",
       "      <td>0.026</td>\n",
       "    </tr>\n",
       "    <tr>\n",
       "      <th>0</th>\n",
       "      <td>0</td>\n",
       "      <td>14</td>\n",
       "      <td>5</td>\n",
       "      <td>6</td>\n",
       "      <td>13</td>\n",
       "      <td>7</td>\n",
       "      <td>0.035</td>\n",
       "    </tr>\n",
       "    <tr>\n",
       "      <th>5</th>\n",
       "      <td>5</td>\n",
       "      <td>14</td>\n",
       "      <td>4</td>\n",
       "      <td>9</td>\n",
       "      <td>2</td>\n",
       "      <td>45</td>\n",
       "      <td>0.102</td>\n",
       "    </tr>\n",
       "    <tr>\n",
       "      <th>98</th>\n",
       "      <td>98</td>\n",
       "      <td>15</td>\n",
       "      <td>3</td>\n",
       "      <td>12</td>\n",
       "      <td>5</td>\n",
       "      <td>24</td>\n",
       "      <td>0.125</td>\n",
       "    </tr>\n",
       "    <tr>\n",
       "      <th>94</th>\n",
       "      <td>94</td>\n",
       "      <td>13</td>\n",
       "      <td>5</td>\n",
       "      <td>10</td>\n",
       "      <td>2</td>\n",
       "      <td>44</td>\n",
       "      <td>0.133</td>\n",
       "    </tr>\n",
       "    <tr>\n",
       "      <th>45</th>\n",
       "      <td>45</td>\n",
       "      <td>14</td>\n",
       "      <td>3</td>\n",
       "      <td>7</td>\n",
       "      <td>2</td>\n",
       "      <td>55</td>\n",
       "      <td>0.134</td>\n",
       "    </tr>\n",
       "    <tr>\n",
       "      <th>2</th>\n",
       "      <td>2</td>\n",
       "      <td>13</td>\n",
       "      <td>5</td>\n",
       "      <td>10</td>\n",
       "      <td>4</td>\n",
       "      <td>35</td>\n",
       "      <td>0.136</td>\n",
       "    </tr>\n",
       "    <tr>\n",
       "      <th>27</th>\n",
       "      <td>27</td>\n",
       "      <td>13</td>\n",
       "      <td>4</td>\n",
       "      <td>12</td>\n",
       "      <td>2</td>\n",
       "      <td>32</td>\n",
       "      <td>0.137</td>\n",
       "    </tr>\n",
       "    <tr>\n",
       "      <th>10</th>\n",
       "      <td>10</td>\n",
       "      <td>12</td>\n",
       "      <td>5</td>\n",
       "      <td>5</td>\n",
       "      <td>2</td>\n",
       "      <td>76</td>\n",
       "      <td>0.138</td>\n",
       "    </tr>\n",
       "    <tr>\n",
       "      <th>76</th>\n",
       "      <td>76</td>\n",
       "      <td>14</td>\n",
       "      <td>3</td>\n",
       "      <td>5</td>\n",
       "      <td>3</td>\n",
       "      <td>68</td>\n",
       "      <td>0.139</td>\n",
       "    </tr>\n",
       "    <tr>\n",
       "      <th>9</th>\n",
       "      <td>9</td>\n",
       "      <td>12</td>\n",
       "      <td>6</td>\n",
       "      <td>2</td>\n",
       "      <td>2</td>\n",
       "      <td>127</td>\n",
       "      <td>0.143</td>\n",
       "    </tr>\n",
       "    <tr>\n",
       "      <th>78</th>\n",
       "      <td>78</td>\n",
       "      <td>14</td>\n",
       "      <td>4</td>\n",
       "      <td>6</td>\n",
       "      <td>2</td>\n",
       "      <td>66</td>\n",
       "      <td>0.144</td>\n",
       "    </tr>\n",
       "    <tr>\n",
       "      <th>14</th>\n",
       "      <td>14</td>\n",
       "      <td>12</td>\n",
       "      <td>4</td>\n",
       "      <td>8</td>\n",
       "      <td>2</td>\n",
       "      <td>51</td>\n",
       "      <td>0.147</td>\n",
       "    </tr>\n",
       "    <tr>\n",
       "      <th>77</th>\n",
       "      <td>77</td>\n",
       "      <td>13</td>\n",
       "      <td>5</td>\n",
       "      <td>9</td>\n",
       "      <td>3</td>\n",
       "      <td>43</td>\n",
       "      <td>0.149</td>\n",
       "    </tr>\n",
       "    <tr>\n",
       "      <th>18</th>\n",
       "      <td>18</td>\n",
       "      <td>13</td>\n",
       "      <td>6</td>\n",
       "      <td>7</td>\n",
       "      <td>5</td>\n",
       "      <td>46</td>\n",
       "      <td>0.157</td>\n",
       "    </tr>\n",
       "    <tr>\n",
       "      <th>46</th>\n",
       "      <td>46</td>\n",
       "      <td>14</td>\n",
       "      <td>3</td>\n",
       "      <td>2</td>\n",
       "      <td>3</td>\n",
       "      <td>87</td>\n",
       "      <td>0.158</td>\n",
       "    </tr>\n",
       "    <tr>\n",
       "      <th>70</th>\n",
       "      <td>70</td>\n",
       "      <td>13</td>\n",
       "      <td>4</td>\n",
       "      <td>8</td>\n",
       "      <td>4</td>\n",
       "      <td>39</td>\n",
       "      <td>0.158</td>\n",
       "    </tr>\n",
       "    <tr>\n",
       "      <th>83</th>\n",
       "      <td>83</td>\n",
       "      <td>15</td>\n",
       "      <td>3</td>\n",
       "      <td>14</td>\n",
       "      <td>2</td>\n",
       "      <td>27</td>\n",
       "      <td>0.161</td>\n",
       "    </tr>\n",
       "    <tr>\n",
       "      <th>40</th>\n",
       "      <td>40</td>\n",
       "      <td>14</td>\n",
       "      <td>6</td>\n",
       "      <td>11</td>\n",
       "      <td>2</td>\n",
       "      <td>38</td>\n",
       "      <td>0.162</td>\n",
       "    </tr>\n",
       "    <tr>\n",
       "      <th>61</th>\n",
       "      <td>61</td>\n",
       "      <td>12</td>\n",
       "      <td>3</td>\n",
       "      <td>13</td>\n",
       "      <td>2</td>\n",
       "      <td>29</td>\n",
       "      <td>0.163</td>\n",
       "    </tr>\n",
       "    <tr>\n",
       "      <th>13</th>\n",
       "      <td>13</td>\n",
       "      <td>13</td>\n",
       "      <td>4</td>\n",
       "      <td>10</td>\n",
       "      <td>4</td>\n",
       "      <td>38</td>\n",
       "      <td>0.167</td>\n",
       "    </tr>\n",
       "    <tr>\n",
       "      <th>64</th>\n",
       "      <td>64</td>\n",
       "      <td>13</td>\n",
       "      <td>5</td>\n",
       "      <td>12</td>\n",
       "      <td>2</td>\n",
       "      <td>36</td>\n",
       "      <td>0.167</td>\n",
       "    </tr>\n",
       "    <tr>\n",
       "      <th>69</th>\n",
       "      <td>69</td>\n",
       "      <td>15</td>\n",
       "      <td>6</td>\n",
       "      <td>8</td>\n",
       "      <td>4</td>\n",
       "      <td>41</td>\n",
       "      <td>0.169</td>\n",
       "    </tr>\n",
       "    <tr>\n",
       "      <th>36</th>\n",
       "      <td>36</td>\n",
       "      <td>12</td>\n",
       "      <td>5</td>\n",
       "      <td>3</td>\n",
       "      <td>8</td>\n",
       "      <td>36</td>\n",
       "      <td>0.172</td>\n",
       "    </tr>\n",
       "    <tr>\n",
       "      <th>72</th>\n",
       "      <td>72</td>\n",
       "      <td>13</td>\n",
       "      <td>4</td>\n",
       "      <td>5</td>\n",
       "      <td>3</td>\n",
       "      <td>65</td>\n",
       "      <td>0.174</td>\n",
       "    </tr>\n",
       "    <tr>\n",
       "      <th>22</th>\n",
       "      <td>22</td>\n",
       "      <td>15</td>\n",
       "      <td>6</td>\n",
       "      <td>12</td>\n",
       "      <td>3</td>\n",
       "      <td>33</td>\n",
       "      <td>0.174</td>\n",
       "    </tr>\n",
       "    <tr>\n",
       "      <th>8</th>\n",
       "      <td>8</td>\n",
       "      <td>15</td>\n",
       "      <td>3</td>\n",
       "      <td>14</td>\n",
       "      <td>4</td>\n",
       "      <td>26</td>\n",
       "      <td>0.175</td>\n",
       "    </tr>\n",
       "    <tr>\n",
       "      <th>71</th>\n",
       "      <td>71</td>\n",
       "      <td>14</td>\n",
       "      <td>6</td>\n",
       "      <td>10</td>\n",
       "      <td>6</td>\n",
       "      <td>35</td>\n",
       "      <td>0.176</td>\n",
       "    </tr>\n",
       "    <tr>\n",
       "      <th>24</th>\n",
       "      <td>24</td>\n",
       "      <td>15</td>\n",
       "      <td>3</td>\n",
       "      <td>11</td>\n",
       "      <td>4</td>\n",
       "      <td>32</td>\n",
       "      <td>0.177</td>\n",
       "    </tr>\n",
       "    <tr>\n",
       "      <th>38</th>\n",
       "      <td>38</td>\n",
       "      <td>13</td>\n",
       "      <td>3</td>\n",
       "      <td>12</td>\n",
       "      <td>3</td>\n",
       "      <td>33</td>\n",
       "      <td>0.178</td>\n",
       "    </tr>\n",
       "    <tr>\n",
       "      <th>47</th>\n",
       "      <td>47</td>\n",
       "      <td>13</td>\n",
       "      <td>6</td>\n",
       "      <td>6</td>\n",
       "      <td>10</td>\n",
       "      <td>23</td>\n",
       "      <td>0.178</td>\n",
       "    </tr>\n",
       "    <tr>\n",
       "      <th>32</th>\n",
       "      <td>32</td>\n",
       "      <td>12</td>\n",
       "      <td>5</td>\n",
       "      <td>10</td>\n",
       "      <td>8</td>\n",
       "      <td>28</td>\n",
       "      <td>0.179</td>\n",
       "    </tr>\n",
       "    <tr>\n",
       "      <th>16</th>\n",
       "      <td>16</td>\n",
       "      <td>13</td>\n",
       "      <td>5</td>\n",
       "      <td>14</td>\n",
       "      <td>6</td>\n",
       "      <td>23</td>\n",
       "      <td>0.181</td>\n",
       "    </tr>\n",
       "    <tr>\n",
       "      <th>56</th>\n",
       "      <td>56</td>\n",
       "      <td>13</td>\n",
       "      <td>3</td>\n",
       "      <td>2</td>\n",
       "      <td>4</td>\n",
       "      <td>77</td>\n",
       "      <td>0.182</td>\n",
       "    </tr>\n",
       "    <tr>\n",
       "      <th>52</th>\n",
       "      <td>52</td>\n",
       "      <td>13</td>\n",
       "      <td>4</td>\n",
       "      <td>8</td>\n",
       "      <td>5</td>\n",
       "      <td>39</td>\n",
       "      <td>0.183</td>\n",
       "    </tr>\n",
       "    <tr>\n",
       "      <th>57</th>\n",
       "      <td>57</td>\n",
       "      <td>12</td>\n",
       "      <td>6</td>\n",
       "      <td>5</td>\n",
       "      <td>10</td>\n",
       "      <td>28</td>\n",
       "      <td>0.186</td>\n",
       "    </tr>\n",
       "    <tr>\n",
       "      <th>48</th>\n",
       "      <td>48</td>\n",
       "      <td>12</td>\n",
       "      <td>6</td>\n",
       "      <td>7</td>\n",
       "      <td>8</td>\n",
       "      <td>32</td>\n",
       "      <td>0.187</td>\n",
       "    </tr>\n",
       "    <tr>\n",
       "      <th>62</th>\n",
       "      <td>62</td>\n",
       "      <td>14</td>\n",
       "      <td>4</td>\n",
       "      <td>2</td>\n",
       "      <td>5</td>\n",
       "      <td>58</td>\n",
       "      <td>0.189</td>\n",
       "    </tr>\n",
       "    <tr>\n",
       "      <th>96</th>\n",
       "      <td>96</td>\n",
       "      <td>13</td>\n",
       "      <td>5</td>\n",
       "      <td>2</td>\n",
       "      <td>6</td>\n",
       "      <td>47</td>\n",
       "      <td>0.190</td>\n",
       "    </tr>\n",
       "    <tr>\n",
       "      <th>65</th>\n",
       "      <td>65</td>\n",
       "      <td>13</td>\n",
       "      <td>4</td>\n",
       "      <td>6</td>\n",
       "      <td>6</td>\n",
       "      <td>43</td>\n",
       "      <td>0.191</td>\n",
       "    </tr>\n",
       "    <tr>\n",
       "      <th>81</th>\n",
       "      <td>81</td>\n",
       "      <td>13</td>\n",
       "      <td>5</td>\n",
       "      <td>8</td>\n",
       "      <td>9</td>\n",
       "      <td>24</td>\n",
       "      <td>0.193</td>\n",
       "    </tr>\n",
       "    <tr>\n",
       "      <th>17</th>\n",
       "      <td>17</td>\n",
       "      <td>14</td>\n",
       "      <td>6</td>\n",
       "      <td>12</td>\n",
       "      <td>10</td>\n",
       "      <td>21</td>\n",
       "      <td>0.193</td>\n",
       "    </tr>\n",
       "    <tr>\n",
       "      <th>95</th>\n",
       "      <td>95</td>\n",
       "      <td>14</td>\n",
       "      <td>5</td>\n",
       "      <td>2</td>\n",
       "      <td>5</td>\n",
       "      <td>59</td>\n",
       "      <td>0.194</td>\n",
       "    </tr>\n",
       "    <tr>\n",
       "      <th>3</th>\n",
       "      <td>3</td>\n",
       "      <td>12</td>\n",
       "      <td>4</td>\n",
       "      <td>3</td>\n",
       "      <td>10</td>\n",
       "      <td>26</td>\n",
       "      <td>0.194</td>\n",
       "    </tr>\n",
       "    <tr>\n",
       "      <th>34</th>\n",
       "      <td>34</td>\n",
       "      <td>12</td>\n",
       "      <td>6</td>\n",
       "      <td>11</td>\n",
       "      <td>4</td>\n",
       "      <td>35</td>\n",
       "      <td>0.199</td>\n",
       "    </tr>\n",
       "    <tr>\n",
       "      <th>93</th>\n",
       "      <td>93</td>\n",
       "      <td>13</td>\n",
       "      <td>5</td>\n",
       "      <td>6</td>\n",
       "      <td>7</td>\n",
       "      <td>39</td>\n",
       "      <td>0.200</td>\n",
       "    </tr>\n",
       "    <tr>\n",
       "      <th>49</th>\n",
       "      <td>49</td>\n",
       "      <td>12</td>\n",
       "      <td>6</td>\n",
       "      <td>7</td>\n",
       "      <td>13</td>\n",
       "      <td>16</td>\n",
       "      <td>0.200</td>\n",
       "    </tr>\n",
       "    <tr>\n",
       "      <th>97</th>\n",
       "      <td>97</td>\n",
       "      <td>12</td>\n",
       "      <td>6</td>\n",
       "      <td>10</td>\n",
       "      <td>7</td>\n",
       "      <td>29</td>\n",
       "      <td>0.201</td>\n",
       "    </tr>\n",
       "  </tbody>\n",
       "</table>\n",
       "</div>"
      ],
      "text/plain": [
       "    run_id  n_neighbors  n_components  min_cluster_size  min_samples  \\\n",
       "29      29           12             4                 3           14   \n",
       "92      92           13             5                10           13   \n",
       "59      59           13             5                10           14   \n",
       "0        0           14             5                 6           13   \n",
       "5        5           14             4                 9            2   \n",
       "98      98           15             3                12            5   \n",
       "94      94           13             5                10            2   \n",
       "45      45           14             3                 7            2   \n",
       "2        2           13             5                10            4   \n",
       "27      27           13             4                12            2   \n",
       "10      10           12             5                 5            2   \n",
       "76      76           14             3                 5            3   \n",
       "9        9           12             6                 2            2   \n",
       "78      78           14             4                 6            2   \n",
       "14      14           12             4                 8            2   \n",
       "77      77           13             5                 9            3   \n",
       "18      18           13             6                 7            5   \n",
       "46      46           14             3                 2            3   \n",
       "70      70           13             4                 8            4   \n",
       "83      83           15             3                14            2   \n",
       "40      40           14             6                11            2   \n",
       "61      61           12             3                13            2   \n",
       "13      13           13             4                10            4   \n",
       "64      64           13             5                12            2   \n",
       "69      69           15             6                 8            4   \n",
       "36      36           12             5                 3            8   \n",
       "72      72           13             4                 5            3   \n",
       "22      22           15             6                12            3   \n",
       "8        8           15             3                14            4   \n",
       "71      71           14             6                10            6   \n",
       "24      24           15             3                11            4   \n",
       "38      38           13             3                12            3   \n",
       "47      47           13             6                 6           10   \n",
       "32      32           12             5                10            8   \n",
       "16      16           13             5                14            6   \n",
       "56      56           13             3                 2            4   \n",
       "52      52           13             4                 8            5   \n",
       "57      57           12             6                 5           10   \n",
       "48      48           12             6                 7            8   \n",
       "62      62           14             4                 2            5   \n",
       "96      96           13             5                 2            6   \n",
       "65      65           13             4                 6            6   \n",
       "81      81           13             5                 8            9   \n",
       "17      17           14             6                12           10   \n",
       "95      95           14             5                 2            5   \n",
       "3        3           12             4                 3           10   \n",
       "34      34           12             6                11            4   \n",
       "93      93           13             5                 6            7   \n",
       "49      49           12             6                 7           13   \n",
       "97      97           12             6                10            7   \n",
       "\n",
       "    label_count   cost  \n",
       "29            2  0.000  \n",
       "92            7  0.025  \n",
       "59            7  0.026  \n",
       "0             7  0.035  \n",
       "5            45  0.102  \n",
       "98           24  0.125  \n",
       "94           44  0.133  \n",
       "45           55  0.134  \n",
       "2            35  0.136  \n",
       "27           32  0.137  \n",
       "10           76  0.138  \n",
       "76           68  0.139  \n",
       "9           127  0.143  \n",
       "78           66  0.144  \n",
       "14           51  0.147  \n",
       "77           43  0.149  \n",
       "18           46  0.157  \n",
       "46           87  0.158  \n",
       "70           39  0.158  \n",
       "83           27  0.161  \n",
       "40           38  0.162  \n",
       "61           29  0.163  \n",
       "13           38  0.167  \n",
       "64           36  0.167  \n",
       "69           41  0.169  \n",
       "36           36  0.172  \n",
       "72           65  0.174  \n",
       "22           33  0.174  \n",
       "8            26  0.175  \n",
       "71           35  0.176  \n",
       "24           32  0.177  \n",
       "38           33  0.178  \n",
       "47           23  0.178  \n",
       "32           28  0.179  \n",
       "16           23  0.181  \n",
       "56           77  0.182  \n",
       "52           39  0.183  \n",
       "57           28  0.186  \n",
       "48           32  0.187  \n",
       "62           58  0.189  \n",
       "96           47  0.190  \n",
       "65           43  0.191  \n",
       "81           24  0.193  \n",
       "17           21  0.193  \n",
       "95           59  0.194  \n",
       "3            26  0.194  \n",
       "34           35  0.199  \n",
       "93           39  0.200  \n",
       "49           16  0.200  \n",
       "97           29  0.201  "
      ]
     },
     "execution_count": 34,
     "metadata": {},
     "output_type": "execute_result"
    }
   ],
   "source": [
    "random_use.head(50)"
   ]
  },
  {
   "cell_type": "markdown",
   "id": "89502189-0e3f-4b1b-af25-9df568582846",
   "metadata": {},
   "source": [
    "### Bayesian optimization with Hyperopt"
   ]
  },
  {
   "cell_type": "code",
   "execution_count": 42,
   "id": "b4cbeee3-d676-4849-8718-7fa77ba8d771",
   "metadata": {},
   "outputs": [],
   "source": [
    "space = {\n",
    "    \"n_neighbors\": hp.choice('n_neighbors', range(3,16)),\n",
    "    \"n_components\": hp.choice('n_components', range(3,16)),\n",
    "    \"min_cluster_size\": hp.choice('min_cluster_size', range(2,30)),\n",
    "    \"min_samples\": None,\n",
    "    \"random_state\": 42\n",
    "}"
   ]
  },
  {
   "cell_type": "code",
   "execution_count": 59,
   "id": "4876fe70-6bee-4b18-9a29-13bad252f5b6",
   "metadata": {},
   "outputs": [
    {
     "name": "stdout",
     "output_type": "stream",
     "text": [
      "100%|██████████| 100/100 [05:43<00:00,  3.43s/trial, best loss: 0.097]\n",
      "best:\n",
      "{'min_cluster_size': 6, 'min_samples': 2, 'n_components': 5, 'n_neighbors': 15}\n",
      "label count: 51\n"
     ]
    }
   ],
   "source": [
    "best_params_use, trials_use = bayesian_search(embeddings_use, max_evals=100)"
   ]
  },
  {
   "cell_type": "code",
   "execution_count": 22,
   "id": "b1254a08-77e2-432b-a122-0f1a11433410",
   "metadata": {},
   "outputs": [
    {
     "name": "stdout",
     "output_type": "stream",
     "text": [
      "100%|██████████| 100/100 [05:16<00:00,  3.17s/trial, best loss: 0.101]\n",
      "best:\n",
      "{'min_cluster_size': 4, 'min_samples': None, 'n_components': 10, 'n_neighbors': 4}\n",
      "label count: 82\n"
     ]
    }
   ],
   "source": [
    "best_params_use, trials_use = bayesian_search(embeddings_use, max_evals=100)"
   ]
  },
  {
   "cell_type": "code",
   "execution_count": 43,
   "id": "fa21cf93-2efb-41a1-823a-d904f16b2db4",
   "metadata": {},
   "outputs": [
    {
     "name": "stdout",
     "output_type": "stream",
     "text": [
      "100%|██████████| 100/100 [05:42<00:00,  3.42s/trial, best loss: 0.124]\n",
      "best:\n",
      "{'min_cluster_size': 4, 'min_samples': None, 'n_components': 5, 'n_neighbors': 5, 'random_state': 42}\n",
      "label count: 81\n"
     ]
    }
   ],
   "source": [
    "best_params_use, trials_use = bayesian_search(embeddings_use, space, label_lower=30, label_upper=100, max_evals=100)"
   ]
  },
  {
   "cell_type": "code",
   "execution_count": 23,
   "id": "6f12e2ce-dbea-40c3-98d5-9444355f811e",
   "metadata": {},
   "outputs": [
    {
     "data": {
      "text/plain": [
       "{'state': 2,\n",
       " 'tid': 24,\n",
       " 'spec': None,\n",
       " 'result': {'loss': 0.101, 'label_count': 82, 'status': 'ok'},\n",
       " 'misc': {'tid': 24,\n",
       "  'cmd': ('domain_attachment', 'FMinIter_Domain'),\n",
       "  'workdir': None,\n",
       "  'idxs': {'min_cluster_size': [24],\n",
       "   'n_components': [24],\n",
       "   'n_neighbors': [24]},\n",
       "  'vals': {'min_cluster_size': [2], 'n_components': [7], 'n_neighbors': [1]}},\n",
       " 'exp_key': None,\n",
       " 'owner': None,\n",
       " 'version': 0,\n",
       " 'book_time': datetime.datetime(2021, 9, 14, 23, 21, 58, 237000),\n",
       " 'refresh_time': datetime.datetime(2021, 9, 14, 23, 22, 1, 473000)}"
      ]
     },
     "execution_count": 23,
     "metadata": {},
     "output_type": "execute_result"
    }
   ],
   "source": [
    "trials_use.best_trial"
   ]
  },
  {
   "cell_type": "code",
   "execution_count": 90,
   "id": "ecd37ee7-2e78-4b6e-8de7-7ca9c008c83c",
   "metadata": {},
   "outputs": [],
   "source": [
    "clusters_default = generate_clusters(embeddings_st1, \n",
    "                                 n_neighbors = 15, \n",
    "                                 n_components = 5, \n",
    "                                 min_cluster_size = 3, \n",
    "                                 min_samples = None,\n",
    "                                 random_state=42)"
   ]
  },
  {
   "cell_type": "code",
   "execution_count": 91,
   "id": "a9f4a4a3-7236-4b8b-9b1a-ca09ae41533a",
   "metadata": {},
   "outputs": [
    {
     "name": "stdout",
     "output_type": "stream",
     "text": [
      "91\n",
      "0.152\n"
     ]
    }
   ],
   "source": [
    "labels_def, cost_def = score_clusters(clusters_default)\n",
    "print(labels_def)\n",
    "print(cost_def)"
   ]
  },
  {
   "cell_type": "code",
   "execution_count": 63,
   "id": "d8ed7dfa-2f28-40ae-8fbd-59fe889299e7",
   "metadata": {},
   "outputs": [
    {
     "name": "stdout",
     "output_type": "stream",
     "text": [
      "100%|██████████| 100/100 [06:00<00:00,  3.60s/trial, best loss: 0.135]\n",
      "best:\n",
      "{'min_cluster_size': 10, 'min_samples': 2, 'n_components': 5, 'n_neighbors': 15}\n",
      "label count: 44\n"
     ]
    }
   ],
   "source": [
    "best_params_st1, trials_st1 = bayesian_search(embeddings_st1, max_evals=100)"
   ]
  },
  {
   "cell_type": "code",
   "execution_count": 44,
   "id": "c1baec29-2f2d-4383-bfce-01724eb50ce7",
   "metadata": {},
   "outputs": [
    {
     "name": "stdout",
     "output_type": "stream",
     "text": [
      "100%|██████████| 100/100 [07:20<00:00,  4.41s/trial, best loss: 0.089]            \n",
      "best:\n",
      "{'min_cluster_size': 3, 'min_samples': None, 'n_components': 13, 'n_neighbors': 9, 'random_state': 42}\n",
      "label count: 86\n"
     ]
    }
   ],
   "source": [
    "best_params_st1, trials_st1 = bayesian_search(embeddings_st1, space, label_lower=30, label_upper=100, max_evals=100)"
   ]
  },
  {
   "cell_type": "code",
   "execution_count": 67,
   "id": "9878cc3e-194f-4e55-a728-c5922436cf66",
   "metadata": {},
   "outputs": [
    {
     "name": "stdout",
     "output_type": "stream",
     "text": [
      "100%|██████████| 100/100 [05:35<00:00,  3.35s/trial, best loss: 0.076]             \n",
      "best:\n",
      "{'min_cluster_size': 12, 'min_samples': 3, 'n_components': 12, 'n_neighbors': 6}\n",
      "label count: 40\n"
     ]
    }
   ],
   "source": [
    "best_params_st1, trials_st1 = bayesian_search(embeddings_st1, max_evals=100)"
   ]
  },
  {
   "cell_type": "code",
   "execution_count": 71,
   "id": "ba15b261-2c64-44c7-ae78-86d62c8b06be",
   "metadata": {},
   "outputs": [
    {
     "name": "stdout",
     "output_type": "stream",
     "text": [
      "100%|██████████| 100/100 [05:40<00:00,  3.40s/trial, best loss: 0.077]\n",
      "best:\n",
      "{'min_cluster_size': 3, 'min_samples': None, 'n_components': 11, 'n_neighbors': 6}\n",
      "label count: 98\n"
     ]
    }
   ],
   "source": [
    "best_params_st1, trials_st1 = bayesian_search(embeddings_st1, max_evals=100)"
   ]
  },
  {
   "cell_type": "code",
   "execution_count": 108,
   "id": "ac785ff5-c9db-41bf-aae6-60bcbbe087e8",
   "metadata": {},
   "outputs": [
    {
     "name": "stdout",
     "output_type": "stream",
     "text": [
      "100%|██████████| 100/100 [06:22<00:00,  3.82s/trial, best loss: 0.067]\n",
      "best:\n",
      "{'min_cluster_size': 4, 'n_components': 6, 'n_neighbors': 3}\n",
      "label count: 91\n"
     ]
    }
   ],
   "source": [
    "best_params_st1, trials_st1 = bayesian_search(embeddings_st1, max_evals=100)"
   ]
  },
  {
   "cell_type": "code",
   "execution_count": 109,
   "id": "7c2644a6-d83c-463f-9b51-192b94cd6bb9",
   "metadata": {},
   "outputs": [
    {
     "name": "stdout",
     "output_type": "stream",
     "text": [
      "100%|██████████| 100/100 [05:56<00:00,  3.57s/trial, best loss: 0.086]             \n",
      "best:\n",
      "{'min_cluster_size': 4, 'n_components': 3, 'n_neighbors': 4}\n",
      "label count: 97\n"
     ]
    }
   ],
   "source": [
    "best_params_st2, trials_st2 = bayesian_search(embeddings_st2, max_evals=100)"
   ]
  },
  {
   "cell_type": "code",
   "execution_count": 110,
   "id": "4c7b700b-84a8-4a8f-b87f-387a7538a09b",
   "metadata": {},
   "outputs": [
    {
     "name": "stdout",
     "output_type": "stream",
     "text": [
      "100%|██████████| 100/100 [06:15<00:00,  3.75s/trial, best loss: 0.085]\n",
      "best:\n",
      "{'min_cluster_size': 4, 'n_components': 12, 'n_neighbors': 5}\n",
      "label count: 76\n"
     ]
    }
   ],
   "source": [
    "best_params_st3, trials_st3 = bayesian_search(embeddings_st3, max_evals=100)"
   ]
  },
  {
   "cell_type": "code",
   "execution_count": 40,
   "id": "544e527f-2567-41ae-b82c-74b39d22bac9",
   "metadata": {},
   "outputs": [],
   "source": [
    "best_clusters_use = best_clusters(embeddings_use, best_params_use)"
   ]
  },
  {
   "cell_type": "code",
   "execution_count": 72,
   "id": "f19ceb8b-e9e5-43a0-8211-98c0b5dd4d00",
   "metadata": {},
   "outputs": [],
   "source": [
    "best_clusters_st1 = best_clusters(embeddings_st1, best_params_st1)"
   ]
  },
  {
   "cell_type": "code",
   "execution_count": 113,
   "id": "e8178296-fe6f-4286-9e27-07ddac81e42c",
   "metadata": {},
   "outputs": [],
   "source": [
    "best_clusters_st2 = best_clusters(embeddings_st2, best_params_st2)"
   ]
  },
  {
   "cell_type": "code",
   "execution_count": 114,
   "id": "b40f39b0-59a2-4d51-8dd6-db7543aaee83",
   "metadata": {},
   "outputs": [],
   "source": [
    "best_clusters_st3 = best_clusters(embeddings_st3, best_params_st3)"
   ]
  },
  {
   "cell_type": "code",
   "execution_count": 73,
   "id": "6e936c67-4cdc-41e3-8f75-c65b3c101fd3",
   "metadata": {},
   "outputs": [
    {
     "data": {
      "text/html": [
       "<div>\n",
       "<style scoped>\n",
       "    .dataframe tbody tr th:only-of-type {\n",
       "        vertical-align: middle;\n",
       "    }\n",
       "\n",
       "    .dataframe tbody tr th {\n",
       "        vertical-align: top;\n",
       "    }\n",
       "\n",
       "    .dataframe thead th {\n",
       "        text-align: right;\n",
       "    }\n",
       "</style>\n",
       "<table border=\"1\" class=\"dataframe\">\n",
       "  <thead>\n",
       "    <tr style=\"text-align: right;\">\n",
       "      <th></th>\n",
       "      <th>Model</th>\n",
       "      <th>ARI</th>\n",
       "      <th>NMI</th>\n",
       "    </tr>\n",
       "  </thead>\n",
       "  <tbody>\n",
       "    <tr>\n",
       "      <th>0</th>\n",
       "      <td>Sent-Transformer_1</td>\n",
       "      <td>0.41</td>\n",
       "      <td>0.798</td>\n",
       "    </tr>\n",
       "  </tbody>\n",
       "</table>\n",
       "</div>"
      ],
      "text/plain": [
       "                Model   ARI    NMI\n",
       "0  Sent-Transformer_1  0.41  0.798"
      ]
     },
     "execution_count": 73,
     "metadata": {},
     "output_type": "execute_result"
    }
   ],
   "source": [
    "cluster_dict = {'label_st1': best_clusters_st1,}\n",
    "\n",
    "results_df = combine_results(data_sample[['text', 'category']], cluster_dict)\n",
    "\n",
    "model_dict = {'Sent-Transformer_1': 'label_st1'}\n",
    "\n",
    "comparison_table(model_dict, results_df)"
   ]
  },
  {
   "cell_type": "markdown",
   "id": "45dcd399-f4de-4676-a68c-9edcf13a987b",
   "metadata": {},
   "source": [
    "## Evaluate clusters"
   ]
  },
  {
   "cell_type": "code",
   "execution_count": 115,
   "id": "0d77c824-a3b9-4603-a834-286ce2e815ec",
   "metadata": {},
   "outputs": [
    {
     "data": {
      "text/html": [
       "<div>\n",
       "<style scoped>\n",
       "    .dataframe tbody tr th:only-of-type {\n",
       "        vertical-align: middle;\n",
       "    }\n",
       "\n",
       "    .dataframe tbody tr th {\n",
       "        vertical-align: top;\n",
       "    }\n",
       "\n",
       "    .dataframe thead th {\n",
       "        text-align: right;\n",
       "    }\n",
       "</style>\n",
       "<table border=\"1\" class=\"dataframe\">\n",
       "  <thead>\n",
       "    <tr style=\"text-align: right;\">\n",
       "      <th></th>\n",
       "      <th>text</th>\n",
       "      <th>category</th>\n",
       "      <th>label_use</th>\n",
       "      <th>label_st1</th>\n",
       "      <th>label_st2</th>\n",
       "      <th>label_st3</th>\n",
       "    </tr>\n",
       "  </thead>\n",
       "  <tbody>\n",
       "    <tr>\n",
       "      <th>0</th>\n",
       "      <td>I'm worried my card might be lost in the mail? How long does it usually take to arrive?</td>\n",
       "      <td>card_delivery_estimate</td>\n",
       "      <td>41</td>\n",
       "      <td>48</td>\n",
       "      <td>50</td>\n",
       "      <td>25</td>\n",
       "    </tr>\n",
       "    <tr>\n",
       "      <th>1</th>\n",
       "      <td>I got charged a fee that shouldn't be there from my cash</td>\n",
       "      <td>cash_withdrawal_charge</td>\n",
       "      <td>34</td>\n",
       "      <td>52</td>\n",
       "      <td>83</td>\n",
       "      <td>33</td>\n",
       "    </tr>\n",
       "    <tr>\n",
       "      <th>2</th>\n",
       "      <td>Do you charge for making a withdrawal? I took some money out of my account earlier and I was charged for this.</td>\n",
       "      <td>cash_withdrawal_charge</td>\n",
       "      <td>34</td>\n",
       "      <td>52</td>\n",
       "      <td>82</td>\n",
       "      <td>33</td>\n",
       "    </tr>\n",
       "    <tr>\n",
       "      <th>3</th>\n",
       "      <td>Is there an issue with my account?  I don't see a cheque deposit that I made yesterday.  Please assist.</td>\n",
       "      <td>balance_not_updated_after_cheque_or_cash_deposit</td>\n",
       "      <td>62</td>\n",
       "      <td>66</td>\n",
       "      <td>84</td>\n",
       "      <td>53</td>\n",
       "    </tr>\n",
       "    <tr>\n",
       "      <th>4</th>\n",
       "      <td>Are there ways for other people to send me money?</td>\n",
       "      <td>receiving_money</td>\n",
       "      <td>35</td>\n",
       "      <td>39</td>\n",
       "      <td>67</td>\n",
       "      <td>41</td>\n",
       "    </tr>\n",
       "  </tbody>\n",
       "</table>\n",
       "</div>"
      ],
      "text/plain": [
       "                                                                                                             text  \\\n",
       "0                         I'm worried my card might be lost in the mail? How long does it usually take to arrive?   \n",
       "1                                                        I got charged a fee that shouldn't be there from my cash   \n",
       "2  Do you charge for making a withdrawal? I took some money out of my account earlier and I was charged for this.   \n",
       "3         Is there an issue with my account?  I don't see a cheque deposit that I made yesterday.  Please assist.   \n",
       "4                                                               Are there ways for other people to send me money?   \n",
       "\n",
       "                                           category  label_use  label_st1  \\\n",
       "0                            card_delivery_estimate         41         48   \n",
       "1                            cash_withdrawal_charge         34         52   \n",
       "2                            cash_withdrawal_charge         34         52   \n",
       "3  balance_not_updated_after_cheque_or_cash_deposit         62         66   \n",
       "4                                   receiving_money         35         39   \n",
       "\n",
       "   label_st2  label_st3  \n",
       "0         50         25  \n",
       "1         83         33  \n",
       "2         82         33  \n",
       "3         84         53  \n",
       "4         67         41  "
      ]
     },
     "execution_count": 115,
     "metadata": {},
     "output_type": "execute_result"
    }
   ],
   "source": [
    "cluster_dict = {'label_use': best_clusters_use, \n",
    "                    'label_st1': best_clusters_st1, \n",
    "                    'label_st2': best_clusters_st2,\n",
    "                    'label_st3': best_clusters_st3}\n",
    "\n",
    "results_df = combine_results(data_sample[['text', 'category']], cluster_dict)\n",
    "    \n",
    "results_df.head()"
   ]
  },
  {
   "cell_type": "markdown",
   "id": "33768528-9a03-4216-9f99-3fe13d3a7053",
   "metadata": {
    "tags": []
   },
   "source": [
    "### Visually inspect clusters"
   ]
  },
  {
   "cell_type": "code",
   "execution_count": 50,
   "id": "2fcd3f1f-13cd-467a-95ac-042cdbf70582",
   "metadata": {
    "tags": []
   },
   "outputs": [
    {
     "data": {
      "image/png": "[encoded data removed]",
      "text/plain": [
       "<Figure size 1008x576 with 2 Axes>"
      ]
     },
     "metadata": {
      "needs_background": "light"
     },
     "output_type": "display_data"
    }
   ],
   "source": [
    "plot_clusters(embeddings_use, best_clusters_use, n_neighbors=15)"
   ]
  },
  {
   "cell_type": "code",
   "execution_count": 98,
   "id": "b8f4c148-edf3-45fd-a641-826e61c7484f",
   "metadata": {},
   "outputs": [
    {
     "data": {
      "image/png": "[encoded data removed]",
      "text/plain": [
       "<Figure size 1008x576 with 2 Axes>"
      ]
     },
     "metadata": {
      "needs_background": "light"
     },
     "output_type": "display_data"
    }
   ],
   "source": [
    "plot_clusters(embeddings_st1, best_clusters_st1, n_neighbors=15)"
   ]
  },
  {
   "cell_type": "markdown",
   "id": "0227de0c-5673-4b7e-8047-0247bba74124",
   "metadata": {},
   "source": [
    "### Manually inspect category consistency"
   ]
  },
  {
   "cell_type": "code",
   "execution_count": 118,
   "id": "98de948f-f400-477c-8070-3b8fafa28ecf",
   "metadata": {
    "tags": []
   },
   "outputs": [
    {
     "data": {
      "text/html": [
       "<div>\n",
       "<style scoped>\n",
       "    .dataframe tbody tr th:only-of-type {\n",
       "        vertical-align: middle;\n",
       "    }\n",
       "\n",
       "    .dataframe tbody tr th {\n",
       "        vertical-align: top;\n",
       "    }\n",
       "\n",
       "    .dataframe thead th {\n",
       "        text-align: right;\n",
       "    }\n",
       "</style>\n",
       "<table border=\"1\" class=\"dataframe\">\n",
       "  <thead>\n",
       "    <tr style=\"text-align: right;\">\n",
       "      <th></th>\n",
       "      <th>text</th>\n",
       "      <th>category</th>\n",
       "      <th>label_use</th>\n",
       "      <th>label_st1</th>\n",
       "      <th>label_st2</th>\n",
       "      <th>label_st3</th>\n",
       "    </tr>\n",
       "  </thead>\n",
       "  <tbody>\n",
       "    <tr>\n",
       "      <th>100</th>\n",
       "      <td>Help! I need to transfer something to China.</td>\n",
       "      <td>transfer_timing</td>\n",
       "      <td>2</td>\n",
       "      <td>16</td>\n",
       "      <td>56</td>\n",
       "      <td>10</td>\n",
       "    </tr>\n",
       "    <tr>\n",
       "      <th>363</th>\n",
       "      <td>I must make a transfer from China and it is urgent. How long before the transfer is complete?</td>\n",
       "      <td>transfer_timing</td>\n",
       "      <td>2</td>\n",
       "      <td>16</td>\n",
       "      <td>56</td>\n",
       "      <td>10</td>\n",
       "    </tr>\n",
       "    <tr>\n",
       "      <th>704</th>\n",
       "      <td>I have to quickly transfer something to China. How long will it take to arrive there?</td>\n",
       "      <td>transfer_timing</td>\n",
       "      <td>2</td>\n",
       "      <td>16</td>\n",
       "      <td>56</td>\n",
       "      <td>10</td>\n",
       "    </tr>\n",
       "    <tr>\n",
       "      <th>714</th>\n",
       "      <td>How long will it take to transfer something to China urgently?</td>\n",
       "      <td>transfer_timing</td>\n",
       "      <td>2</td>\n",
       "      <td>16</td>\n",
       "      <td>56</td>\n",
       "      <td>10</td>\n",
       "    </tr>\n",
       "    <tr>\n",
       "      <th>959</th>\n",
       "      <td>I need to transfer something to China. It is urgent. How many days will it take to get there?</td>\n",
       "      <td>transfer_timing</td>\n",
       "      <td>2</td>\n",
       "      <td>16</td>\n",
       "      <td>56</td>\n",
       "      <td>10</td>\n",
       "    </tr>\n",
       "  </tbody>\n",
       "</table>\n",
       "</div>"
      ],
      "text/plain": [
       "                                                                                              text  \\\n",
       "100                                                   Help! I need to transfer something to China.   \n",
       "363  I must make a transfer from China and it is urgent. How long before the transfer is complete?   \n",
       "704          I have to quickly transfer something to China. How long will it take to arrive there?   \n",
       "714                                 How long will it take to transfer something to China urgently?   \n",
       "959  I need to transfer something to China. It is urgent. How many days will it take to get there?   \n",
       "\n",
       "            category  label_use  label_st1  label_st2  label_st3  \n",
       "100  transfer_timing          2         16         56         10  \n",
       "363  transfer_timing          2         16         56         10  \n",
       "704  transfer_timing          2         16         56         10  \n",
       "714  transfer_timing          2         16         56         10  \n",
       "959  transfer_timing          2         16         56         10  "
      ]
     },
     "execution_count": 118,
     "metadata": {},
     "output_type": "execute_result"
    }
   ],
   "source": [
    "results_df[results_df['label_use']==2]"
   ]
  },
  {
   "cell_type": "code",
   "execution_count": 119,
   "id": "a4117056-0569-46aa-aad2-2239f469c1d4",
   "metadata": {},
   "outputs": [
    {
     "data": {
      "text/html": [
       "<div>\n",
       "<style scoped>\n",
       "    .dataframe tbody tr th:only-of-type {\n",
       "        vertical-align: middle;\n",
       "    }\n",
       "\n",
       "    .dataframe tbody tr th {\n",
       "        vertical-align: top;\n",
       "    }\n",
       "\n",
       "    .dataframe thead th {\n",
       "        text-align: right;\n",
       "    }\n",
       "</style>\n",
       "<table border=\"1\" class=\"dataframe\">\n",
       "  <thead>\n",
       "    <tr style=\"text-align: right;\">\n",
       "      <th></th>\n",
       "      <th>text</th>\n",
       "      <th>category</th>\n",
       "      <th>label_use</th>\n",
       "      <th>label_st1</th>\n",
       "      <th>label_st2</th>\n",
       "      <th>label_st3</th>\n",
       "    </tr>\n",
       "  </thead>\n",
       "  <tbody>\n",
       "    <tr>\n",
       "      <th>11</th>\n",
       "      <td>Do you do business in the EU?</td>\n",
       "      <td>country_support</td>\n",
       "      <td>44</td>\n",
       "      <td>41</td>\n",
       "      <td>24</td>\n",
       "      <td>4</td>\n",
       "    </tr>\n",
       "    <tr>\n",
       "      <th>44</th>\n",
       "      <td>What are the countries you have offices in?</td>\n",
       "      <td>country_support</td>\n",
       "      <td>0</td>\n",
       "      <td>40</td>\n",
       "      <td>25</td>\n",
       "      <td>0</td>\n",
       "    </tr>\n",
       "    <tr>\n",
       "      <th>122</th>\n",
       "      <td>Can I use this all over the world?</td>\n",
       "      <td>country_support</td>\n",
       "      <td>45</td>\n",
       "      <td>38</td>\n",
       "      <td>44</td>\n",
       "      <td>15</td>\n",
       "    </tr>\n",
       "    <tr>\n",
       "      <th>279</th>\n",
       "      <td>What countries are you available in?</td>\n",
       "      <td>country_support</td>\n",
       "      <td>0</td>\n",
       "      <td>40</td>\n",
       "      <td>25</td>\n",
       "      <td>0</td>\n",
       "    </tr>\n",
       "    <tr>\n",
       "      <th>295</th>\n",
       "      <td>What are the countries that you operate in?</td>\n",
       "      <td>country_support</td>\n",
       "      <td>0</td>\n",
       "      <td>40</td>\n",
       "      <td>25</td>\n",
       "      <td>0</td>\n",
       "    </tr>\n",
       "    <tr>\n",
       "      <th>311</th>\n",
       "      <td>Can I get a card in the EU?</td>\n",
       "      <td>country_support</td>\n",
       "      <td>44</td>\n",
       "      <td>-1</td>\n",
       "      <td>24</td>\n",
       "      <td>4</td>\n",
       "    </tr>\n",
       "    <tr>\n",
       "      <th>503</th>\n",
       "      <td>Which countries do you operate in</td>\n",
       "      <td>country_support</td>\n",
       "      <td>0</td>\n",
       "      <td>40</td>\n",
       "      <td>25</td>\n",
       "      <td>0</td>\n",
       "    </tr>\n",
       "    <tr>\n",
       "      <th>600</th>\n",
       "      <td>How do I know which countries you provide service in?</td>\n",
       "      <td>country_support</td>\n",
       "      <td>0</td>\n",
       "      <td>40</td>\n",
       "      <td>25</td>\n",
       "      <td>0</td>\n",
       "    </tr>\n",
       "    <tr>\n",
       "      <th>724</th>\n",
       "      <td>I'm not in the UK, but can I still get a card?</td>\n",
       "      <td>country_support</td>\n",
       "      <td>44</td>\n",
       "      <td>-1</td>\n",
       "      <td>24</td>\n",
       "      <td>55</td>\n",
       "    </tr>\n",
       "    <tr>\n",
       "      <th>732</th>\n",
       "      <td>Can I get support?</td>\n",
       "      <td>country_support</td>\n",
       "      <td>23</td>\n",
       "      <td>39</td>\n",
       "      <td>-1</td>\n",
       "      <td>46</td>\n",
       "    </tr>\n",
       "    <tr>\n",
       "      <th>754</th>\n",
       "      <td>I live in the EU, can I get one of your cards?</td>\n",
       "      <td>country_support</td>\n",
       "      <td>44</td>\n",
       "      <td>-1</td>\n",
       "      <td>24</td>\n",
       "      <td>4</td>\n",
       "    </tr>\n",
       "    <tr>\n",
       "      <th>826</th>\n",
       "      <td>Are you only able to get a card if you're in the UK?</td>\n",
       "      <td>country_support</td>\n",
       "      <td>44</td>\n",
       "      <td>-1</td>\n",
       "      <td>24</td>\n",
       "      <td>4</td>\n",
       "    </tr>\n",
       "    <tr>\n",
       "      <th>898</th>\n",
       "      <td>I would like to know the countries you are offer services in?</td>\n",
       "      <td>country_support</td>\n",
       "      <td>0</td>\n",
       "      <td>40</td>\n",
       "      <td>25</td>\n",
       "      <td>0</td>\n",
       "    </tr>\n",
       "  </tbody>\n",
       "</table>\n",
       "</div>"
      ],
      "text/plain": [
       "                                                              text  \\\n",
       "11                                   Do you do business in the EU?   \n",
       "44                     What are the countries you have offices in?   \n",
       "122                             Can I use this all over the world?   \n",
       "279                           What countries are you available in?   \n",
       "295                    What are the countries that you operate in?   \n",
       "311                                    Can I get a card in the EU?   \n",
       "503                              Which countries do you operate in   \n",
       "600          How do I know which countries you provide service in?   \n",
       "724                 I'm not in the UK, but can I still get a card?   \n",
       "732                                             Can I get support?   \n",
       "754                 I live in the EU, can I get one of your cards?   \n",
       "826           Are you only able to get a card if you're in the UK?   \n",
       "898  I would like to know the countries you are offer services in?   \n",
       "\n",
       "            category  label_use  label_st1  label_st2  label_st3  \n",
       "11   country_support         44         41         24          4  \n",
       "44   country_support          0         40         25          0  \n",
       "122  country_support         45         38         44         15  \n",
       "279  country_support          0         40         25          0  \n",
       "295  country_support          0         40         25          0  \n",
       "311  country_support         44         -1         24          4  \n",
       "503  country_support          0         40         25          0  \n",
       "600  country_support          0         40         25          0  \n",
       "724  country_support         44         -1         24         55  \n",
       "732  country_support         23         39         -1         46  \n",
       "754  country_support         44         -1         24          4  \n",
       "826  country_support         44         -1         24          4  \n",
       "898  country_support          0         40         25          0  "
      ]
     },
     "execution_count": 119,
     "metadata": {},
     "output_type": "execute_result"
    }
   ],
   "source": [
    "results_df[results_df['category']=='country_support']"
   ]
  },
  {
   "cell_type": "markdown",
   "id": "a72ee559-5fc1-48af-9e9a-beec8ddec460",
   "metadata": {},
   "source": [
    "Both USE and ST1 models have high precision for `country_support` category but also both miss many instances in that group."
   ]
  },
  {
   "cell_type": "code",
   "execution_count": 120,
   "id": "ec972d20-470d-4b51-8863-6a1669c4f990",
   "metadata": {},
   "outputs": [
    {
     "data": {
      "text/html": [
       "<div>\n",
       "<style scoped>\n",
       "    .dataframe tbody tr th:only-of-type {\n",
       "        vertical-align: middle;\n",
       "    }\n",
       "\n",
       "    .dataframe tbody tr th {\n",
       "        vertical-align: top;\n",
       "    }\n",
       "\n",
       "    .dataframe thead th {\n",
       "        text-align: right;\n",
       "    }\n",
       "</style>\n",
       "<table border=\"1\" class=\"dataframe\">\n",
       "  <thead>\n",
       "    <tr style=\"text-align: right;\">\n",
       "      <th></th>\n",
       "      <th>text</th>\n",
       "      <th>category</th>\n",
       "      <th>label_use</th>\n",
       "      <th>label_st1</th>\n",
       "      <th>label_st2</th>\n",
       "      <th>label_st3</th>\n",
       "    </tr>\n",
       "  </thead>\n",
       "  <tbody>\n",
       "    <tr>\n",
       "      <th>27</th>\n",
       "      <td>I am overseas in China, can I get a replacement card?</td>\n",
       "      <td>card_about_to_expire</td>\n",
       "      <td>14</td>\n",
       "      <td>-1</td>\n",
       "      <td>-1</td>\n",
       "      <td>-1</td>\n",
       "    </tr>\n",
       "    <tr>\n",
       "      <th>370</th>\n",
       "      <td>If I am in China, can I still order a new card and if so, how?</td>\n",
       "      <td>card_about_to_expire</td>\n",
       "      <td>14</td>\n",
       "      <td>-1</td>\n",
       "      <td>-1</td>\n",
       "      <td>-1</td>\n",
       "    </tr>\n",
       "    <tr>\n",
       "      <th>441</th>\n",
       "      <td>My card is almost expired.  How fast will I get a new one and what is the cost?</td>\n",
       "      <td>card_about_to_expire</td>\n",
       "      <td>5</td>\n",
       "      <td>73</td>\n",
       "      <td>51</td>\n",
       "      <td>24</td>\n",
       "    </tr>\n",
       "    <tr>\n",
       "      <th>477</th>\n",
       "      <td>My card is about to expire. Do I have to go to a branch to order a new card?</td>\n",
       "      <td>card_about_to_expire</td>\n",
       "      <td>5</td>\n",
       "      <td>73</td>\n",
       "      <td>51</td>\n",
       "      <td>24</td>\n",
       "    </tr>\n",
       "    <tr>\n",
       "      <th>521</th>\n",
       "      <td>My card expires soon, will you send me one automatically?</td>\n",
       "      <td>card_about_to_expire</td>\n",
       "      <td>5</td>\n",
       "      <td>73</td>\n",
       "      <td>51</td>\n",
       "      <td>24</td>\n",
       "    </tr>\n",
       "    <tr>\n",
       "      <th>524</th>\n",
       "      <td>My card expires very soon.  What is the cost and delivery time to get a new one?</td>\n",
       "      <td>card_about_to_expire</td>\n",
       "      <td>5</td>\n",
       "      <td>73</td>\n",
       "      <td>51</td>\n",
       "      <td>24</td>\n",
       "    </tr>\n",
       "    <tr>\n",
       "      <th>551</th>\n",
       "      <td>Where can I have a new bank card sent to China?</td>\n",
       "      <td>card_about_to_expire</td>\n",
       "      <td>14</td>\n",
       "      <td>-1</td>\n",
       "      <td>-1</td>\n",
       "      <td>-1</td>\n",
       "    </tr>\n",
       "    <tr>\n",
       "      <th>584</th>\n",
       "      <td>How do I get a new expiration date?</td>\n",
       "      <td>card_about_to_expire</td>\n",
       "      <td>5</td>\n",
       "      <td>-1</td>\n",
       "      <td>51</td>\n",
       "      <td>24</td>\n",
       "    </tr>\n",
       "    <tr>\n",
       "      <th>605</th>\n",
       "      <td>Are there any express fees if i want my new card faster?</td>\n",
       "      <td>card_about_to_expire</td>\n",
       "      <td>34</td>\n",
       "      <td>73</td>\n",
       "      <td>-1</td>\n",
       "      <td>24</td>\n",
       "    </tr>\n",
       "    <tr>\n",
       "      <th>646</th>\n",
       "      <td>My card is almost going to expire.</td>\n",
       "      <td>card_about_to_expire</td>\n",
       "      <td>5</td>\n",
       "      <td>-1</td>\n",
       "      <td>51</td>\n",
       "      <td>24</td>\n",
       "    </tr>\n",
       "    <tr>\n",
       "      <th>765</th>\n",
       "      <td>My card expires soon</td>\n",
       "      <td>card_about_to_expire</td>\n",
       "      <td>5</td>\n",
       "      <td>73</td>\n",
       "      <td>51</td>\n",
       "      <td>24</td>\n",
       "    </tr>\n",
       "    <tr>\n",
       "      <th>812</th>\n",
       "      <td>What is the cost and time frame of getting a new card?</td>\n",
       "      <td>card_about_to_expire</td>\n",
       "      <td>5</td>\n",
       "      <td>73</td>\n",
       "      <td>51</td>\n",
       "      <td>24</td>\n",
       "    </tr>\n",
       "    <tr>\n",
       "      <th>833</th>\n",
       "      <td>Help me order a new card that's going to be expired soon.</td>\n",
       "      <td>card_about_to_expire</td>\n",
       "      <td>5</td>\n",
       "      <td>73</td>\n",
       "      <td>51</td>\n",
       "      <td>24</td>\n",
       "    </tr>\n",
       "    <tr>\n",
       "      <th>888</th>\n",
       "      <td>What happens if my card expires?</td>\n",
       "      <td>card_about_to_expire</td>\n",
       "      <td>5</td>\n",
       "      <td>-1</td>\n",
       "      <td>51</td>\n",
       "      <td>24</td>\n",
       "    </tr>\n",
       "  </tbody>\n",
       "</table>\n",
       "</div>"
      ],
      "text/plain": [
       "                                                                                 text  \\\n",
       "27                              I am overseas in China, can I get a replacement card?   \n",
       "370                    If I am in China, can I still order a new card and if so, how?   \n",
       "441   My card is almost expired.  How fast will I get a new one and what is the cost?   \n",
       "477      My card is about to expire. Do I have to go to a branch to order a new card?   \n",
       "521                         My card expires soon, will you send me one automatically?   \n",
       "524  My card expires very soon.  What is the cost and delivery time to get a new one?   \n",
       "551                                   Where can I have a new bank card sent to China?   \n",
       "584                                               How do I get a new expiration date?   \n",
       "605                          Are there any express fees if i want my new card faster?   \n",
       "646                                                My card is almost going to expire.   \n",
       "765                                                              My card expires soon   \n",
       "812                            What is the cost and time frame of getting a new card?   \n",
       "833                         Help me order a new card that's going to be expired soon.   \n",
       "888                                                  What happens if my card expires?   \n",
       "\n",
       "                 category  label_use  label_st1  label_st2  label_st3  \n",
       "27   card_about_to_expire         14         -1         -1         -1  \n",
       "370  card_about_to_expire         14         -1         -1         -1  \n",
       "441  card_about_to_expire          5         73         51         24  \n",
       "477  card_about_to_expire          5         73         51         24  \n",
       "521  card_about_to_expire          5         73         51         24  \n",
       "524  card_about_to_expire          5         73         51         24  \n",
       "551  card_about_to_expire         14         -1         -1         -1  \n",
       "584  card_about_to_expire          5         -1         51         24  \n",
       "605  card_about_to_expire         34         73         -1         24  \n",
       "646  card_about_to_expire          5         -1         51         24  \n",
       "765  card_about_to_expire          5         73         51         24  \n",
       "812  card_about_to_expire          5         73         51         24  \n",
       "833  card_about_to_expire          5         73         51         24  \n",
       "888  card_about_to_expire          5         -1         51         24  "
      ]
     },
     "execution_count": 120,
     "metadata": {},
     "output_type": "execute_result"
    }
   ],
   "source": [
    "results_df[results_df['category']=='card_about_to_expire']"
   ]
  },
  {
   "cell_type": "code",
   "execution_count": 121,
   "id": "46912852-8f61-49de-ab1c-71d066153b11",
   "metadata": {},
   "outputs": [
    {
     "data": {
      "text/html": [
       "<div>\n",
       "<style scoped>\n",
       "    .dataframe tbody tr th:only-of-type {\n",
       "        vertical-align: middle;\n",
       "    }\n",
       "\n",
       "    .dataframe tbody tr th {\n",
       "        vertical-align: top;\n",
       "    }\n",
       "\n",
       "    .dataframe thead th {\n",
       "        text-align: right;\n",
       "    }\n",
       "</style>\n",
       "<table border=\"1\" class=\"dataframe\">\n",
       "  <thead>\n",
       "    <tr style=\"text-align: right;\">\n",
       "      <th></th>\n",
       "      <th>text</th>\n",
       "      <th>category</th>\n",
       "      <th>label_use</th>\n",
       "      <th>label_st1</th>\n",
       "      <th>label_st2</th>\n",
       "      <th>label_st3</th>\n",
       "    </tr>\n",
       "  </thead>\n",
       "  <tbody>\n",
       "    <tr>\n",
       "      <th>12</th>\n",
       "      <td>Can I add other people to my account, so they can top up?</td>\n",
       "      <td>topping_up_by_card</td>\n",
       "      <td>45</td>\n",
       "      <td>25</td>\n",
       "      <td>21</td>\n",
       "      <td>30</td>\n",
       "    </tr>\n",
       "    <tr>\n",
       "      <th>208</th>\n",
       "      <td>How can my friends top up my account?</td>\n",
       "      <td>topping_up_by_card</td>\n",
       "      <td>-1</td>\n",
       "      <td>25</td>\n",
       "      <td>21</td>\n",
       "      <td>30</td>\n",
       "    </tr>\n",
       "    <tr>\n",
       "      <th>549</th>\n",
       "      <td>Show me how can my friends top up my account.</td>\n",
       "      <td>topping_up_by_card</td>\n",
       "      <td>64</td>\n",
       "      <td>25</td>\n",
       "      <td>21</td>\n",
       "      <td>30</td>\n",
       "    </tr>\n",
       "    <tr>\n",
       "      <th>673</th>\n",
       "      <td>I want to top up my account. What payment methods are supported?</td>\n",
       "      <td>supported_cards_and_currencies</td>\n",
       "      <td>64</td>\n",
       "      <td>25</td>\n",
       "      <td>21</td>\n",
       "      <td>30</td>\n",
       "    </tr>\n",
       "    <tr>\n",
       "      <th>749</th>\n",
       "      <td>Help me to set up contactless payments.</td>\n",
       "      <td>contactless_not_working</td>\n",
       "      <td>68</td>\n",
       "      <td>25</td>\n",
       "      <td>-1</td>\n",
       "      <td>41</td>\n",
       "    </tr>\n",
       "    <tr>\n",
       "      <th>909</th>\n",
       "      <td>I want to use a payment card to top up my account. How can I do this?</td>\n",
       "      <td>supported_cards_and_currencies</td>\n",
       "      <td>64</td>\n",
       "      <td>25</td>\n",
       "      <td>21</td>\n",
       "      <td>30</td>\n",
       "    </tr>\n",
       "  </tbody>\n",
       "</table>\n",
       "</div>"
      ],
      "text/plain": [
       "                                                                      text  \\\n",
       "12               Can I add other people to my account, so they can top up?   \n",
       "208                                  How can my friends top up my account?   \n",
       "549                          Show me how can my friends top up my account.   \n",
       "673       I want to top up my account. What payment methods are supported?   \n",
       "749                                Help me to set up contactless payments.   \n",
       "909  I want to use a payment card to top up my account. How can I do this?   \n",
       "\n",
       "                           category  label_use  label_st1  label_st2  \\\n",
       "12               topping_up_by_card         45         25         21   \n",
       "208              topping_up_by_card         -1         25         21   \n",
       "549              topping_up_by_card         64         25         21   \n",
       "673  supported_cards_and_currencies         64         25         21   \n",
       "749         contactless_not_working         68         25         -1   \n",
       "909  supported_cards_and_currencies         64         25         21   \n",
       "\n",
       "     label_st3  \n",
       "12          30  \n",
       "208         30  \n",
       "549         30  \n",
       "673         30  \n",
       "749         41  \n",
       "909         30  "
      ]
     },
     "execution_count": 121,
     "metadata": {},
     "output_type": "execute_result"
    }
   ],
   "source": [
    "results_df[results_df['label_st1']==25]"
   ]
  },
  {
   "cell_type": "markdown",
   "id": "8f84e273-7c7c-453f-ac43-cdbe45be42c6",
   "metadata": {},
   "source": [
    "### Compare clustering performance using ground truth labels"
   ]
  },
  {
   "cell_type": "code",
   "execution_count": 122,
   "id": "e75fbbb8-76b1-48e4-b839-4aa98b38d643",
   "metadata": {},
   "outputs": [
    {
     "data": {
      "text/html": [
       "<div>\n",
       "<style scoped>\n",
       "    .dataframe tbody tr th:only-of-type {\n",
       "        vertical-align: middle;\n",
       "    }\n",
       "\n",
       "    .dataframe tbody tr th {\n",
       "        vertical-align: top;\n",
       "    }\n",
       "\n",
       "    .dataframe thead th {\n",
       "        text-align: right;\n",
       "    }\n",
       "</style>\n",
       "<table border=\"1\" class=\"dataframe\">\n",
       "  <thead>\n",
       "    <tr style=\"text-align: right;\">\n",
       "      <th></th>\n",
       "      <th>Model</th>\n",
       "      <th>ARI</th>\n",
       "      <th>NMI</th>\n",
       "    </tr>\n",
       "  </thead>\n",
       "  <tbody>\n",
       "    <tr>\n",
       "      <th>0</th>\n",
       "      <td>USE</td>\n",
       "      <td>0.269</td>\n",
       "      <td>0.714</td>\n",
       "    </tr>\n",
       "    <tr>\n",
       "      <th>1</th>\n",
       "      <td>Sent-Transformer_1</td>\n",
       "      <td>0.413</td>\n",
       "      <td>0.785</td>\n",
       "    </tr>\n",
       "    <tr>\n",
       "      <th>2</th>\n",
       "      <td>Sent-Transformer_2</td>\n",
       "      <td>0.328</td>\n",
       "      <td>0.770</td>\n",
       "    </tr>\n",
       "    <tr>\n",
       "      <th>3</th>\n",
       "      <td>Sent-Transformer_3</td>\n",
       "      <td>0.323</td>\n",
       "      <td>0.748</td>\n",
       "    </tr>\n",
       "  </tbody>\n",
       "</table>\n",
       "</div>"
      ],
      "text/plain": [
       "                Model    ARI    NMI\n",
       "0                 USE  0.269  0.714\n",
       "1  Sent-Transformer_1  0.413  0.785\n",
       "2  Sent-Transformer_2  0.328  0.770\n",
       "3  Sent-Transformer_3  0.323  0.748"
      ]
     },
     "execution_count": 122,
     "metadata": {},
     "output_type": "execute_result"
    }
   ],
   "source": [
    "model_dict = {'USE': 'label_use', \n",
    "              'Sent-Transformer_1': 'label_st1', \n",
    "              'Sent-Transformer_2': 'label_st2', \n",
    "              'Sent-Transformer_3': 'label_st3'}\n",
    "\n",
    "comparison_table(model_dict, results_df)"
   ]
  },
  {
   "cell_type": "code",
   "execution_count": 123,
   "id": "59eb6b89-adf2-4abb-b8c9-0e785ee09b48",
   "metadata": {},
   "outputs": [
    {
     "name": "stdout",
     "output_type": "stream",
     "text": [
      "use validity: 0.3508680306713207\n",
      "st1 validity: 0.36964321882829965\n",
      "st2 validity: 0.33926156344177416\n",
      "st3 validity: 0.2946708120799944\n"
     ]
    }
   ],
   "source": [
    "print(f'use validity: {best_clusters_use.relative_validity_}')\n",
    "print(f'st1 validity: {best_clusters_st1.relative_validity_}')\n",
    "print(f'st2 validity: {best_clusters_st2.relative_validity_}')\n",
    "print(f'st3 validity: {best_clusters_st3.relative_validity_}')"
   ]
  },
  {
   "cell_type": "markdown",
   "id": "46873066-4845-4a31-be75-39c05494ae7d",
   "metadata": {},
   "source": [
    "### Save cluster results"
   ]
  },
  {
   "cell_type": "code",
   "execution_count": 124,
   "id": "f9547ad1-cc80-4f50-ae4c-48583c74ea9e",
   "metadata": {},
   "outputs": [],
   "source": [
    "results_df.to_csv('../data/processed/sample_clustered.csv')"
   ]
  },
  {
   "cell_type": "markdown",
   "id": "aba228b1-446c-4090-8f82-16eb83bb9ebc",
   "metadata": {},
   "source": [
    "## Applying to the full dataset of 10k intents"
   ]
  },
  {
   "cell_type": "code",
   "execution_count": 97,
   "id": "35fd6d0f-ac21-4d75-97aa-8d78fa0cfbf6",
   "metadata": {},
   "outputs": [
    {
     "data": {
      "text/html": [
       "<div>\n",
       "<style scoped>\n",
       "    .dataframe tbody tr th:only-of-type {\n",
       "        vertical-align: middle;\n",
       "    }\n",
       "\n",
       "    .dataframe tbody tr th {\n",
       "        vertical-align: top;\n",
       "    }\n",
       "\n",
       "    .dataframe thead th {\n",
       "        text-align: right;\n",
       "    }\n",
       "</style>\n",
       "<table border=\"1\" class=\"dataframe\">\n",
       "  <thead>\n",
       "    <tr style=\"text-align: right;\">\n",
       "      <th></th>\n",
       "      <th>text</th>\n",
       "      <th>category</th>\n",
       "    </tr>\n",
       "  </thead>\n",
       "  <tbody>\n",
       "    <tr>\n",
       "      <th>0</th>\n",
       "      <td>I am still waiting on my card?</td>\n",
       "      <td>card_arrival</td>\n",
       "    </tr>\n",
       "    <tr>\n",
       "      <th>1</th>\n",
       "      <td>What can I do if my card still hasn't arrived after 2 weeks?</td>\n",
       "      <td>card_arrival</td>\n",
       "    </tr>\n",
       "    <tr>\n",
       "      <th>2</th>\n",
       "      <td>I have been waiting over a week. Is the card still coming?</td>\n",
       "      <td>card_arrival</td>\n",
       "    </tr>\n",
       "    <tr>\n",
       "      <th>3</th>\n",
       "      <td>Can I track my card while it is in the process of delivery?</td>\n",
       "      <td>card_arrival</td>\n",
       "    </tr>\n",
       "    <tr>\n",
       "      <th>4</th>\n",
       "      <td>How do I know if I will get my card, or if it is lost?</td>\n",
       "      <td>card_arrival</td>\n",
       "    </tr>\n",
       "  </tbody>\n",
       "</table>\n",
       "</div>"
      ],
      "text/plain": [
       "                                                           text      category\n",
       "0                                I am still waiting on my card?  card_arrival\n",
       "1  What can I do if my card still hasn't arrived after 2 weeks?  card_arrival\n",
       "2    I have been waiting over a week. Is the card still coming?  card_arrival\n",
       "3   Can I track my card while it is in the process of delivery?  card_arrival\n",
       "4        How do I know if I will get my card, or if it is lost?  card_arrival"
      ]
     },
     "execution_count": 97,
     "metadata": {},
     "output_type": "execute_result"
    }
   ],
   "source": [
    "data_full = pd.read_csv('../data/raw/train.csv')\n",
    "data_full.head()"
   ]
  },
  {
   "cell_type": "code",
   "execution_count": 98,
   "id": "82731ead-c302-4334-afc6-c6820f306842",
   "metadata": {},
   "outputs": [
    {
     "data": {
      "text/plain": [
       "10003"
      ]
     },
     "execution_count": 98,
     "metadata": {},
     "output_type": "execute_result"
    }
   ],
   "source": [
    "all_intents_full = list(data_full['text'])\n",
    "len(all_intents_full)"
   ]
  },
  {
   "cell_type": "code",
   "execution_count": 99,
   "id": "c247048c-f1d8-4a52-823d-d3e0e0170de1",
   "metadata": {},
   "outputs": [],
   "source": [
    "embeddings_use = embed(model_use, 'use', all_intents_full)\n",
    "embeddings_st1 = embed(model_st1, 'sentence transformer', all_intents_full)\n",
    "embeddings_st2 = embed(model_st2, 'sentence transformer', all_intents_full)\n",
    "embeddings_st3 = embed(model_st3, 'sentence transformer', all_intents_full)"
   ]
  },
  {
   "cell_type": "code",
   "execution_count": 158,
   "id": "c1a2571e-80f0-4765-b3d2-848daecf6679",
   "metadata": {},
   "outputs": [
    {
     "name": "stdout",
     "output_type": "stream",
     "text": [
      "100%|██████████| 100/100 [17:06<00:00, 10.26s/trial, best loss: 0.13026092172348294]\n",
      "best:\n",
      "{'min_cluster_size': 33, 'min_samples': 23, 'n_components': 24, 'n_neighbors': 6}\n",
      "label count: 51\n"
     ]
    }
   ],
   "source": [
    "best_params_use, trials_use = bayesian_search(embeddings_use, max_evals=100)"
   ]
  },
  {
   "cell_type": "code",
   "execution_count": 109,
   "id": "80c8b60e-88e9-4fb9-a033-115a5419d387",
   "metadata": {},
   "outputs": [
    {
     "name": "stdout",
     "output_type": "stream",
     "text": [
      "100%|██████████| 100/100 [14:59<00:00,  9.00s/trial, best loss: 0.11696491052684195]\n",
      "best:\n",
      "{'min_cluster_size': 27, 'n_components': 23, 'n_neighbors': 3}\n",
      "label count: 84\n"
     ]
    }
   ],
   "source": [
    "best_params_use, trials_use = bayesian_search(embeddings_use, max_evals=100)"
   ]
  },
  {
   "cell_type": "code",
   "execution_count": 110,
   "id": "538aa3a5-17e2-4c61-9eb4-a779a410e1af",
   "metadata": {},
   "outputs": [
    {
     "name": "stdout",
     "output_type": "stream",
     "text": [
      "100%|██████████| 100/100 [16:12<00:00,  9.73s/trial, best loss: 0.09757072878136559]\n",
      "best:\n",
      "{'min_cluster_size': 34, 'n_components': 17, 'n_neighbors': 4}\n",
      "label count: 67\n"
     ]
    }
   ],
   "source": [
    "best_params_st1, trials_st1 = bayesian_search(embeddings_st1, max_evals=100)"
   ]
  },
  {
   "cell_type": "code",
   "execution_count": 111,
   "id": "b8d2dc84-144b-4370-93a7-91625626a8c1",
   "metadata": {},
   "outputs": [
    {
     "name": "stdout",
     "output_type": "stream",
     "text": [
      "100%|██████████| 100/100 [19:41<00:00, 11.82s/trial, best loss: 0.09537138858342498]\n",
      "best:\n",
      "{'min_cluster_size': 32, 'n_components': 24, 'n_neighbors': 10}\n",
      "label count: 70\n"
     ]
    }
   ],
   "source": [
    "best_params_st2, trials_st2 = bayesian_search(embeddings_st2, max_evals=100)"
   ]
  },
  {
   "cell_type": "code",
   "execution_count": 112,
   "id": "b1035a44-d8cd-4d88-a4fb-b1560cf73704",
   "metadata": {},
   "outputs": [
    {
     "name": "stdout",
     "output_type": "stream",
     "text": [
      "100%|██████████| 100/100 [17:56<00:00, 10.76s/trial, best loss: 0.13236029191242626]\n",
      "best:\n",
      "{'min_cluster_size': 29, 'n_components': 23, 'n_neighbors': 5}\n",
      "label count: 72\n"
     ]
    }
   ],
   "source": [
    "best_params_st3, trials_st3 = bayesian_search(embeddings_st3, max_evals=100)"
   ]
  },
  {
   "cell_type": "code",
   "execution_count": 113,
   "id": "f68884bc-ca4f-4980-ac40-34d329fda3af",
   "metadata": {},
   "outputs": [],
   "source": [
    "best_clusters_use = best_clusters(embeddings_use, best_params_use)"
   ]
  },
  {
   "cell_type": "code",
   "execution_count": 114,
   "id": "97232a2b-50ce-4a05-bf50-9fa1b7f44267",
   "metadata": {},
   "outputs": [],
   "source": [
    "best_clusters_st1 = best_clusters(embeddings_st1, best_params_st1)"
   ]
  },
  {
   "cell_type": "code",
   "execution_count": 115,
   "id": "1a88cc9e-a3cc-4e2f-aefb-7e4873dbd010",
   "metadata": {},
   "outputs": [],
   "source": [
    "best_clusters_st2 = best_clusters(embeddings_st2, best_params_st2)"
   ]
  },
  {
   "cell_type": "code",
   "execution_count": 116,
   "id": "456f4be5-66f5-490e-89c7-33b537ee5404",
   "metadata": {},
   "outputs": [],
   "source": [
    "best_clusters_st3 = best_clusters(embeddings_st3, best_params_st3)"
   ]
  },
  {
   "cell_type": "code",
   "execution_count": 139,
   "id": "605a709b-9992-48e9-ba13-5bce7ed49ea9",
   "metadata": {},
   "outputs": [
    {
     "data": {
      "text/html": [
       "<div>\n",
       "<style scoped>\n",
       "    .dataframe tbody tr th:only-of-type {\n",
       "        vertical-align: middle;\n",
       "    }\n",
       "\n",
       "    .dataframe tbody tr th {\n",
       "        vertical-align: top;\n",
       "    }\n",
       "\n",
       "    .dataframe thead th {\n",
       "        text-align: right;\n",
       "    }\n",
       "</style>\n",
       "<table border=\"1\" class=\"dataframe\">\n",
       "  <thead>\n",
       "    <tr style=\"text-align: right;\">\n",
       "      <th></th>\n",
       "      <th>text</th>\n",
       "      <th>category</th>\n",
       "      <th>label_use</th>\n",
       "      <th>label_st1</th>\n",
       "      <th>label_st2</th>\n",
       "      <th>label_st3</th>\n",
       "    </tr>\n",
       "  </thead>\n",
       "  <tbody>\n",
       "    <tr>\n",
       "      <th>0</th>\n",
       "      <td>I am still waiting on my card?</td>\n",
       "      <td>card_arrival</td>\n",
       "      <td>41</td>\n",
       "      <td>52</td>\n",
       "      <td>36</td>\n",
       "      <td>27</td>\n",
       "    </tr>\n",
       "    <tr>\n",
       "      <th>1</th>\n",
       "      <td>What can I do if my card still hasn't arrived after 2 weeks?</td>\n",
       "      <td>card_arrival</td>\n",
       "      <td>41</td>\n",
       "      <td>52</td>\n",
       "      <td>36</td>\n",
       "      <td>27</td>\n",
       "    </tr>\n",
       "    <tr>\n",
       "      <th>2</th>\n",
       "      <td>I have been waiting over a week. Is the card still coming?</td>\n",
       "      <td>card_arrival</td>\n",
       "      <td>41</td>\n",
       "      <td>52</td>\n",
       "      <td>36</td>\n",
       "      <td>27</td>\n",
       "    </tr>\n",
       "    <tr>\n",
       "      <th>3</th>\n",
       "      <td>Can I track my card while it is in the process of delivery?</td>\n",
       "      <td>card_arrival</td>\n",
       "      <td>-1</td>\n",
       "      <td>52</td>\n",
       "      <td>36</td>\n",
       "      <td>26</td>\n",
       "    </tr>\n",
       "    <tr>\n",
       "      <th>4</th>\n",
       "      <td>How do I know if I will get my card, or if it is lost?</td>\n",
       "      <td>card_arrival</td>\n",
       "      <td>65</td>\n",
       "      <td>36</td>\n",
       "      <td>36</td>\n",
       "      <td>57</td>\n",
       "    </tr>\n",
       "  </tbody>\n",
       "</table>\n",
       "</div>"
      ],
      "text/plain": [
       "                                                           text      category  \\\n",
       "0                                I am still waiting on my card?  card_arrival   \n",
       "1  What can I do if my card still hasn't arrived after 2 weeks?  card_arrival   \n",
       "2    I have been waiting over a week. Is the card still coming?  card_arrival   \n",
       "3   Can I track my card while it is in the process of delivery?  card_arrival   \n",
       "4        How do I know if I will get my card, or if it is lost?  card_arrival   \n",
       "\n",
       "   label_use  label_st1  label_st2  label_st3  \n",
       "0         41         52         36         27  \n",
       "1         41         52         36         27  \n",
       "2         41         52         36         27  \n",
       "3         -1         52         36         26  \n",
       "4         65         36         36         57  "
      ]
     },
     "execution_count": 139,
     "metadata": {},
     "output_type": "execute_result"
    }
   ],
   "source": [
    "cluster_dict = {'label_use': best_clusters_use, \n",
    "                    'label_st1': best_clusters_st1, \n",
    "                    'label_st2': best_clusters_st2,\n",
    "                    'label_st3': best_clusters_st3}\n",
    "\n",
    "results_df = combine_results(data_full, cluster_dict)\n",
    "    \n",
    "results_df.head()"
   ]
  },
  {
   "cell_type": "code",
   "execution_count": 142,
   "id": "f52d08ea-7da7-4fd0-b332-422eecc7c414",
   "metadata": {},
   "outputs": [
    {
     "data": {
      "text/html": [
       "<div>\n",
       "<style scoped>\n",
       "    .dataframe tbody tr th:only-of-type {\n",
       "        vertical-align: middle;\n",
       "    }\n",
       "\n",
       "    .dataframe tbody tr th {\n",
       "        vertical-align: top;\n",
       "    }\n",
       "\n",
       "    .dataframe thead th {\n",
       "        text-align: right;\n",
       "    }\n",
       "</style>\n",
       "<table border=\"1\" class=\"dataframe\">\n",
       "  <thead>\n",
       "    <tr style=\"text-align: right;\">\n",
       "      <th></th>\n",
       "      <th>Model</th>\n",
       "      <th>ARI</th>\n",
       "      <th>NMI</th>\n",
       "    </tr>\n",
       "  </thead>\n",
       "  <tbody>\n",
       "    <tr>\n",
       "      <th>0</th>\n",
       "      <td>USE</td>\n",
       "      <td>0.253</td>\n",
       "      <td>0.666</td>\n",
       "    </tr>\n",
       "    <tr>\n",
       "      <th>1</th>\n",
       "      <td>Sent-Transformer_1</td>\n",
       "      <td>0.300</td>\n",
       "      <td>0.705</td>\n",
       "    </tr>\n",
       "    <tr>\n",
       "      <th>2</th>\n",
       "      <td>Sent-Transformer_2</td>\n",
       "      <td>0.320</td>\n",
       "      <td>0.736</td>\n",
       "    </tr>\n",
       "    <tr>\n",
       "      <th>3</th>\n",
       "      <td>Sent-Transformer_3</td>\n",
       "      <td>0.262</td>\n",
       "      <td>0.705</td>\n",
       "    </tr>\n",
       "  </tbody>\n",
       "</table>\n",
       "</div>"
      ],
      "text/plain": [
       "                Model    ARI    NMI\n",
       "0                 USE  0.253  0.666\n",
       "1  Sent-Transformer_1  0.300  0.705\n",
       "2  Sent-Transformer_2  0.320  0.736\n",
       "3  Sent-Transformer_3  0.262  0.705"
      ]
     },
     "execution_count": 142,
     "metadata": {},
     "output_type": "execute_result"
    }
   ],
   "source": [
    "model_dict = {'USE': 'label_use', \n",
    "              'Sent-Transformer_1': 'label_st1', \n",
    "              'Sent-Transformer_2': 'label_st2', \n",
    "              'Sent-Transformer_3': 'label_st3'}\n",
    "\n",
    "comparison_table(model_dict, results_df)"
   ]
  },
  {
   "cell_type": "code",
   "execution_count": null,
   "id": "b1bcf85d-93f6-4c7d-847d-3ac393dc60d0",
   "metadata": {},
   "outputs": [],
   "source": []
  }
 ],
 "metadata": {
  "kernelspec": {
   "display_name": "Python 3",
   "language": "python",
   "name": "python3"
  },
  "language_info": {
   "codemirror_mode": {
    "name": "ipython",
    "version": 3
   },
   "file_extension": ".py",
   "mimetype": "text/x-python",
   "name": "python",
   "nbconvert_exporter": "python",
   "pygments_lexer": "ipython3",
   "version": "3.9.6"
  }
 },
 "nbformat": 4,
 "nbformat_minor": 5
}
