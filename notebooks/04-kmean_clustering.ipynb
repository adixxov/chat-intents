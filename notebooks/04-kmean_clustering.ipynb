{
 "cells": [
  {
   "cell_type": "markdown",
   "id": "8333f47e-e09a-4137-ada6-fd6e218ffbcf",
   "metadata": {},
   "source": [
    "# Chat Intents\n",
    "\n",
    "## Clustering without dimensionality reduction"
   ]
  },
  {
   "cell_type": "code",
   "execution_count": 1,
   "id": "3e5fcf6c-492b-42eb-9ea1-e2fdc9e7054f",
   "metadata": {},
   "outputs": [],
   "source": [
    "import numpy as np\n",
    "import pandas as pd\n",
    "\n",
    "pd.set_option(\"display.max_rows\", 500)\n",
    "pd.set_option(\"display.max_columns\", 500)\n",
    "pd.set_option(\"max_colwidth\", 400)\n",
    "\n",
    "import matplotlib.pyplot as plt"
   ]
  },
  {
   "cell_type": "code",
   "execution_count": 2,
   "id": "8d474fe1-f30f-435b-b568-36dc274e3ac7",
   "metadata": {},
   "outputs": [],
   "source": [
    "from sklearn.feature_extraction.text import CountVectorizer\n",
    "from sklearn.feature_extraction.text import TfidfVectorizer\n",
    "from sklearn.decomposition import LatentDirichletAllocation\n",
    "from sklearn.manifold import TSNE\n",
    "from sklearn.manifold import Isomap\n",
    "\n",
    "from sklearn.cluster import KMeans\n",
    "from sklearn.cluster import DBSCAN\n",
    "import hdbscan\n",
    "from sklearn.metrics import silhouette_samples, silhouette_score"
   ]
  },
  {
   "cell_type": "code",
   "execution_count": 3,
   "id": "a905f3d8-79bb-4b72-ba9d-98952c73acca",
   "metadata": {},
   "outputs": [],
   "source": [
    "import tensorflow as tf\n",
    "import tensorflow_hub as hub"
   ]
  },
  {
   "cell_type": "code",
   "execution_count": 5,
   "id": "fc4e428e-9320-435b-9c48-e7dca9f2c116",
   "metadata": {},
   "outputs": [
    {
     "data": {
      "text/html": [
       "<div>\n",
       "<style scoped>\n",
       "    .dataframe tbody tr th:only-of-type {\n",
       "        vertical-align: middle;\n",
       "    }\n",
       "\n",
       "    .dataframe tbody tr th {\n",
       "        vertical-align: top;\n",
       "    }\n",
       "\n",
       "    .dataframe thead th {\n",
       "        text-align: right;\n",
       "    }\n",
       "</style>\n",
       "<table border=\"1\" class=\"dataframe\">\n",
       "  <thead>\n",
       "    <tr style=\"text-align: right;\">\n",
       "      <th></th>\n",
       "      <th>Unnamed: 0</th>\n",
       "      <th>text</th>\n",
       "      <th>category</th>\n",
       "      <th>cleaned_text</th>\n",
       "    </tr>\n",
       "  </thead>\n",
       "  <tbody>\n",
       "    <tr>\n",
       "      <th>0</th>\n",
       "      <td>1024</td>\n",
       "      <td>I'm worried my card might be lost in the mail? How long does it usually take to arrive?</td>\n",
       "      <td>card_delivery_estimate</td>\n",
       "      <td>im worried card might lost mail long usually take arrive</td>\n",
       "    </tr>\n",
       "    <tr>\n",
       "      <th>1</th>\n",
       "      <td>9405</td>\n",
       "      <td>I got charged a fee that shouldn't be there from my cash</td>\n",
       "      <td>cash_withdrawal_charge</td>\n",
       "      <td>got charged fee shouldnt cash</td>\n",
       "    </tr>\n",
       "    <tr>\n",
       "      <th>2</th>\n",
       "      <td>9368</td>\n",
       "      <td>Do you charge for making a withdrawal? I took some money out of my account earlier and I was charged for this.</td>\n",
       "      <td>cash_withdrawal_charge</td>\n",
       "      <td>charge making withdrawal took money account earlier charged</td>\n",
       "    </tr>\n",
       "    <tr>\n",
       "      <th>3</th>\n",
       "      <td>3414</td>\n",
       "      <td>Is there an issue with my account?  I don't see a cheque deposit that I made yesterday.  Please assist.</td>\n",
       "      <td>balance_not_updated_after_cheque_or_cash_deposit</td>\n",
       "      <td>issue account dont see cheque deposit made yesterday please assist</td>\n",
       "    </tr>\n",
       "    <tr>\n",
       "      <th>4</th>\n",
       "      <td>7402</td>\n",
       "      <td>Are there ways for other people to send me money?</td>\n",
       "      <td>receiving_money</td>\n",
       "      <td>way people send money</td>\n",
       "    </tr>\n",
       "  </tbody>\n",
       "</table>\n",
       "</div>"
      ],
      "text/plain": [
       "   Unnamed: 0  \\\n",
       "0        1024   \n",
       "1        9405   \n",
       "2        9368   \n",
       "3        3414   \n",
       "4        7402   \n",
       "\n",
       "                                                                                                             text  \\\n",
       "0                         I'm worried my card might be lost in the mail? How long does it usually take to arrive?   \n",
       "1                                                        I got charged a fee that shouldn't be there from my cash   \n",
       "2  Do you charge for making a withdrawal? I took some money out of my account earlier and I was charged for this.   \n",
       "3         Is there an issue with my account?  I don't see a cheque deposit that I made yesterday.  Please assist.   \n",
       "4                                                               Are there ways for other people to send me money?   \n",
       "\n",
       "                                           category  \\\n",
       "0                            card_delivery_estimate   \n",
       "1                            cash_withdrawal_charge   \n",
       "2                            cash_withdrawal_charge   \n",
       "3  balance_not_updated_after_cheque_or_cash_deposit   \n",
       "4                                   receiving_money   \n",
       "\n",
       "                                                         cleaned_text  \n",
       "0            im worried card might lost mail long usually take arrive  \n",
       "1                                       got charged fee shouldnt cash  \n",
       "2         charge making withdrawal took money account earlier charged  \n",
       "3  issue account dont see cheque deposit made yesterday please assist  \n",
       "4                                               way people send money  "
      ]
     },
     "execution_count": 5,
     "metadata": {},
     "output_type": "execute_result"
    }
   ],
   "source": [
    "data_sample = pd.read_csv('../data/processed/data_sample.csv')\n",
    "data_sample.head()"
   ]
  },
  {
   "cell_type": "code",
   "execution_count": 30,
   "id": "ca71aa9b-c413-4ce9-b9ae-b619c7934d9b",
   "metadata": {},
   "outputs": [
    {
     "data": {
      "text/plain": [
       "0              im worried card might lost mail long usually take arrive\n",
       "1                                         got charged fee shouldnt cash\n",
       "2           charge making withdrawal took money account earlier charged\n",
       "3    issue account dont see cheque deposit made yesterday please assist\n",
       "4                                                 way people send money\n",
       "Name: cleaned_text, dtype: object"
      ]
     },
     "execution_count": 30,
     "metadata": {},
     "output_type": "execute_result"
    }
   ],
   "source": [
    "X = data_sample['cleaned_text']\n",
    "X.head()"
   ]
  },
  {
   "cell_type": "markdown",
   "id": "04df4291-7127-4f3d-a9b0-89d5be9b866a",
   "metadata": {},
   "source": [
    "### K-means with TF-IDF"
   ]
  },
  {
   "cell_type": "code",
   "execution_count": 7,
   "id": "a0c05083-c833-40bc-aff3-e19cbbdc8aef",
   "metadata": {},
   "outputs": [
    {
     "data": {
      "text/plain": [
       "(1000, 809)"
      ]
     },
     "execution_count": 7,
     "metadata": {},
     "output_type": "execute_result"
    }
   ],
   "source": [
    "tfidf_vectorizer = TfidfVectorizer()\n",
    "tfidf_transformed_vector = tfidf_vectorizer.fit_transform(X)\n",
    "tfidf_transformed_vector.shape"
   ]
  },
  {
   "cell_type": "code",
   "execution_count": 8,
   "id": "ff85d414-ca48-4a2a-8285-1dc87c689a8b",
   "metadata": {},
   "outputs": [
    {
     "data": {
      "text/plain": [
       "KMeans(max_iter=100, n_clusters=10, n_init=1)"
      ]
     },
     "execution_count": 8,
     "metadata": {},
     "output_type": "execute_result"
    }
   ],
   "source": [
    "k = 10\n",
    "kmeans = KMeans(n_clusters=k, init='k-means++', max_iter=100, n_init=1)\n",
    "kmeans.fit(tfidf_transformed_vector)"
   ]
  },
  {
   "cell_type": "code",
   "execution_count": 9,
   "id": "3cd6c6a7-5057-4521-ad30-3565f234d986",
   "metadata": {},
   "outputs": [
    {
     "data": {
      "text/plain": [
       "1000"
      ]
     },
     "execution_count": 9,
     "metadata": {},
     "output_type": "execute_result"
    }
   ],
   "source": [
    "len(kmeans.labels_)"
   ]
  },
  {
   "cell_type": "code",
   "execution_count": 10,
   "id": "46c53214-3423-4ba8-a8e6-537d44ad39c3",
   "metadata": {},
   "outputs": [
    {
     "data": {
      "image/png": "[encoded data removed]",
      "text/plain": [
       "<Figure size 432x288 with 1 Axes>"
      ]
     },
     "metadata": {
      "needs_background": "light"
     },
     "output_type": "display_data"
    }
   ],
   "source": [
    "sse = []\n",
    "\n",
    "for K in range(1, 50):\n",
    "    kmeans = KMeans(n_clusters=k, init='k-means++', max_iter=100, n_init=1)\n",
    "    kmeans.fit(tfidf_transformed_vector)\n",
    "    sse.append(kmeans.inertia_)\n",
    "\n",
    "x = range(1,50)\n",
    "y = sse\n",
    "\n",
    "fig, ax = plt. subplots()\n",
    "ax.plot(x, y)\n",
    "\n",
    "ax.set(xlabel = 'k clusters', ylabel = 'SSE',\n",
    "       title = 'Elbow plot')\n",
    "ax.grid()\n",
    "\n",
    "plt.show()"
   ]
  },
  {
   "cell_type": "markdown",
   "id": "7ebca3be-1012-4e0e-a778-86e7947b1533",
   "metadata": {},
   "source": [
    "### Sentence Embeddings"
   ]
  },
  {
   "cell_type": "markdown",
   "id": "7e32c76f-b1f5-4c15-a980-438218591a4d",
   "metadata": {},
   "source": [
    "Start with Universal Sentence Encoder (USE) as an example sentence embedding model."
   ]
  },
  {
   "cell_type": "code",
   "execution_count": 11,
   "id": "59410d6b-723c-40dd-bfeb-27d06e737ede",
   "metadata": {},
   "outputs": [
    {
     "name": "stdout",
     "output_type": "stream",
     "text": [
      "module https://tfhub.dev/google/universal-sentence-encoder/4 loaded\n"
     ]
    }
   ],
   "source": [
    "module_url = \"https://tfhub.dev/google/universal-sentence-encoder/4\"\n",
    "model_use = hub.load(module_url)\n",
    "\n",
    "print(f\"module {module_url} loaded\")"
   ]
  },
  {
   "cell_type": "code",
   "execution_count": 12,
   "id": "da9871b2-c6a4-4ac0-a487-2987e9a34055",
   "metadata": {},
   "outputs": [],
   "source": [
    "def embed_use(model, sentences):\n",
    "    return model(sentences)"
   ]
  },
  {
   "cell_type": "code",
   "execution_count": 31,
   "id": "b56400ff-0be2-4876-b776-6690e6ea4f4b",
   "metadata": {},
   "outputs": [
    {
     "data": {
      "text/plain": [
       "TensorShape([1000, 512])"
      ]
     },
     "execution_count": 31,
     "metadata": {},
     "output_type": "execute_result"
    }
   ],
   "source": [
    "intents_embeddings = embed_use(model_use, X)\n",
    "intents_embeddings.shape"
   ]
  },
  {
   "cell_type": "markdown",
   "id": "3f985e42-c0c9-48b4-a5be-f007050f8c77",
   "metadata": {},
   "source": [
    "#### Sentence Embeddings + Kmeans"
   ]
  },
  {
   "cell_type": "code",
   "execution_count": 32,
   "id": "f3fa0fe8-47bb-4ddf-a2df-f14242d558b7",
   "metadata": {},
   "outputs": [],
   "source": [
    "def plot_kmeans(embeddings, k_range):\n",
    "    sse = []\n",
    "    silhouette_avg_n_clusters = []\n",
    "\n",
    "    for k in k_range:\n",
    "        kmeans = KMeans(n_clusters=k, init='k-means++', max_iter=100, n_init=1)\n",
    "        kmeans.fit(embeddings)\n",
    "        sse.append(kmeans.inertia_)\n",
    "\n",
    "        silhouette_avg = silhouette_score(embeddings, kmeans.predict(embeddings))\n",
    "        silhouette_avg_n_clusters.append(silhouette_avg)\n",
    "\n",
    "\n",
    "    # plot sse\n",
    "    fig, axes = plt.subplots(1, 2, figsize=(14, 6))\n",
    "    axes[0].plot(k_range, sse)\n",
    "    axes[0].set(xlabel = 'k clusters', ylabel = 'SSE', title = 'Elbow plot')\n",
    "    axes[0].grid()\n",
    "    \n",
    "    # plot avg silhouette score\n",
    "    axes[1].plot(k_range, silhouette_avg_n_clusters)\n",
    "    axes[1].set(xlabel = 'k clusters', ylabel = 'Silhouette score', title = 'Silhouette score')\n",
    "    axes[1].grid()\n",
    "\n",
    "    plt.show()"
   ]
  },
  {
   "cell_type": "code",
   "execution_count": 33,
   "id": "28d44daa-7d30-41ff-bd44-587831d3464b",
   "metadata": {},
   "outputs": [
    {
     "data": {
      "image/png": "[encoded data removed]",
      "text/plain": [
       "<Figure size 1008x432 with 2 Axes>"
      ]
     },
     "metadata": {
      "needs_background": "light"
     },
     "output_type": "display_data"
    },
    {
     "name": "stdout",
     "output_type": "stream",
     "text": [
      "CPU times: user 39.1 s, sys: 1.56 s, total: 40.6 s\n",
      "Wall time: 13.1 s\n"
     ]
    }
   ],
   "source": [
    "%%time\n",
    "\n",
    "k_range = range(5, 101)\n",
    "\n",
    "plot_kmeans(intents_embeddings, k_range)"
   ]
  },
  {
   "cell_type": "markdown",
   "id": "3c9fe85c-9baf-4907-aafd-7a0a855a560e",
   "metadata": {},
   "source": [
    "#### Sentence Embeddings + DBSCAN with "
   ]
  },
  {
   "cell_type": "code",
   "execution_count": 34,
   "id": "06795e34-62eb-47a5-aa12-5d02ba2f5152",
   "metadata": {},
   "outputs": [
    {
     "data": {
      "text/plain": [
       "20"
      ]
     },
     "execution_count": 34,
     "metadata": {},
     "output_type": "execute_result"
    }
   ],
   "source": [
    "db = DBSCAN(eps=0.25, min_samples=5, metric='cosine').fit(intents_embeddings)\n",
    "labels = db.labels_\n",
    "len(np.unique(labels))"
   ]
  },
  {
   "cell_type": "code",
   "execution_count": 35,
   "id": "91f07387-72e6-40ec-8d39-d8b343e6b23f",
   "metadata": {},
   "outputs": [
    {
     "data": {
      "text/plain": [
       "1000"
      ]
     },
     "execution_count": 35,
     "metadata": {},
     "output_type": "execute_result"
    }
   ],
   "source": [
    "len(labels)"
   ]
  },
  {
   "cell_type": "code",
   "execution_count": 36,
   "id": "e1984b4f-62a9-4cde-b21a-88118b72218d",
   "metadata": {},
   "outputs": [
    {
     "data": {
      "text/plain": [
       "-0.1875037"
      ]
     },
     "execution_count": 36,
     "metadata": {},
     "output_type": "execute_result"
    }
   ],
   "source": [
    "silhouette_score(intents_embeddings, labels, metric='cosine')"
   ]
  },
  {
   "cell_type": "code",
   "execution_count": 39,
   "id": "3888a755-6789-4269-a538-fb89b430385c",
   "metadata": {},
   "outputs": [],
   "source": [
    "def plot_dbscan(embeddings, eps_range):\n",
    "    silhouette_avg_n_clusters = []\n",
    "    silhouette_avg = -1\n",
    "\n",
    "    for eps in eps_range:\n",
    "        db = DBSCAN(eps=eps, min_samples=3, metric='cosine').fit(embeddings)\n",
    "        labels = db.labels_\n",
    "\n",
    "        if len(np.unique(labels)) > 1:\n",
    "            silhouette_avg = silhouette_score(embeddings, labels, metric='cosine')\n",
    "        else:\n",
    "            silhouette_av = -1\n",
    "        silhouette_avg_n_clusters.append(silhouette_avg)\n",
    "\n",
    "    \n",
    "    # plot avg silhouette score\n",
    "    fig, ax = plt.subplots(figsize=(8,5))\n",
    "    ax.plot(eps_range, silhouette_avg_n_clusters)\n",
    "    ax.set(xlabel = 'epsilon', ylabel = 'Silhouette score', title = 'Silhouette score')\n",
    "    ax.grid()\n",
    "\n",
    "    plt.show()"
   ]
  },
  {
   "cell_type": "code",
   "execution_count": 40,
   "id": "a3b6031f-2f19-4ffc-ae0c-f4bd8fb2e1cd",
   "metadata": {},
   "outputs": [
    {
     "data": {
      "image/png": "[encoded data removed]",
      "text/plain": [
       "<Figure size 576x360 with 1 Axes>"
      ]
     },
     "metadata": {
      "needs_background": "light"
     },
     "output_type": "display_data"
    }
   ],
   "source": [
    "eps_range = np.arange(0.2, 1, 0.025)\n",
    "plot_dbscan(intents_embeddings, eps_range)"
   ]
  },
  {
   "cell_type": "code",
   "execution_count": 41,
   "id": "00b33d04-1053-4e8a-8af6-682fab1a258d",
   "metadata": {},
   "outputs": [
    {
     "data": {
      "text/plain": [
       "6"
      ]
     },
     "execution_count": 41,
     "metadata": {},
     "output_type": "execute_result"
    }
   ],
   "source": [
    "db = DBSCAN(eps=0.5, min_samples=3, metric='cosine').fit(intents_embeddings)\n",
    "labels = db.labels_\n",
    "len(np.unique(labels))"
   ]
  },
  {
   "cell_type": "code",
   "execution_count": 42,
   "id": "cb804c48-4e22-41d0-87c4-8ec79a309f32",
   "metadata": {},
   "outputs": [
    {
     "data": {
      "text/plain": [
       "0.0039090114"
      ]
     },
     "execution_count": 42,
     "metadata": {},
     "output_type": "execute_result"
    }
   ],
   "source": [
    "silhouette_score(intents_embeddings, labels, metric='cosine')"
   ]
  },
  {
   "cell_type": "markdown",
   "id": "85032d3c-2147-4780-b230-dbe0b52561bc",
   "metadata": {},
   "source": [
    "### HDBSCAN"
   ]
  },
  {
   "cell_type": "code",
   "execution_count": 43,
   "id": "89cf70ad-8277-4d60-bfd1-cd3d7bb3fe3a",
   "metadata": {},
   "outputs": [
    {
     "data": {
      "text/plain": [
       "212"
      ]
     },
     "execution_count": 43,
     "metadata": {},
     "output_type": "execute_result"
    }
   ],
   "source": [
    "clusters_hdbscan = hdbscan.HDBSCAN(min_cluster_size=2, \n",
    "                                   metric='euclidean', \n",
    "                                   cluster_selection_method='eom').fit(intents_embeddings)\n",
    "\n",
    "labels = clusters_hdbscan.labels_\n",
    "len(np.unique(labels))"
   ]
  },
  {
   "cell_type": "code",
   "execution_count": 44,
   "id": "5d61fbad-a4dd-43f9-8f33-aac9cd77ed1d",
   "metadata": {},
   "outputs": [
    {
     "data": {
      "text/plain": [
       "376"
      ]
     },
     "execution_count": 44,
     "metadata": {},
     "output_type": "execute_result"
    }
   ],
   "source": [
    "np.count_nonzero(clusters_hdbscan.probabilities_ < 0.05)"
   ]
  },
  {
   "cell_type": "code",
   "execution_count": null,
   "id": "a0a6e23f-ce7b-4363-893e-4b0db97f0b23",
   "metadata": {},
   "outputs": [],
   "source": []
  }
 ],
 "metadata": {
  "kernelspec": {
   "display_name": "Python 3",
   "language": "python",
   "name": "python3"
  },
  "language_info": {
   "codemirror_mode": {
    "name": "ipython",
    "version": 3
   },
   "file_extension": ".py",
   "mimetype": "text/x-python",
   "name": "python",
   "nbconvert_exporter": "python",
   "pygments_lexer": "ipython3",
   "version": "3.9.6"
  }
 },
 "nbformat": 4,
 "nbformat_minor": 5
}
